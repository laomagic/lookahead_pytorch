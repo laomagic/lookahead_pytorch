{
  "nbformat": 4,
  "nbformat_minor": 0,
  "metadata": {
    "colab": {
      "name": "Lookahead_radam_seed42.ipynb",
      "provenance": [],
      "collapsed_sections": []
    },
    "kernelspec": {
      "name": "python3",
      "display_name": "Python 3"
    },
    "accelerator": "GPU"
  },
  "cells": [
    {
      "cell_type": "code",
      "metadata": {
        "id": "ehioQb4Kq5Ny",
        "colab_type": "code",
        "outputId": "93b3e370-42d6-4625-adcf-369fbda51642",
        "colab": {
          "resources": {
            "http://localhost:8080/nbextensions/google.colab/files.js": {
              "data": "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",
              "ok": true,
              "headers": [
                [
                  "content-type",
                  "application/javascript"
                ]
              ],
              "status": 200,
              "status_text": ""
            }
          },
          "base_uri": "https://localhost:8080/",
          "height": 366
        }
      },
      "source": [
        "from google.colab import files\n",
        "files.upload()"
      ],
      "execution_count": 1,
      "outputs": [
        {
          "output_type": "display_data",
          "data": {
            "text/html": [
              "\n",
              "     <input type=\"file\" id=\"files-fb135b1c-a62d-4c84-8b10-322030e1ed76\" name=\"files[]\" multiple disabled />\n",
              "     <output id=\"result-fb135b1c-a62d-4c84-8b10-322030e1ed76\">\n",
              "      Upload widget is only available when the cell has been executed in the\n",
              "      current browser session. Please rerun this cell to enable.\n",
              "      </output>\n",
              "      <script src=\"/nbextensions/google.colab/files.js\"></script> "
            ],
            "text/plain": [
              "<IPython.core.display.HTML object>"
            ]
          },
          "metadata": {
            "tags": []
          }
        },
        {
          "output_type": "stream",
          "text": [
            "Saving SGDW.py to SGDW.py\n",
            "Saving RAdam.py to RAdam.py\n",
            "Saving OneCycle.py to OneCycle.py\n",
            "Saving Lookahead.py to Lookahead.py\n",
            "Saving CLR.py to CLR.py\n",
            "Saving AdamW.py to AdamW.py\n"
          ],
          "name": "stdout"
        },
        {
          "output_type": "execute_result",
          "data": {
            "text/plain": [
              "{'AdamW.py': b'import math\\nimport torch\\nfrom torch.optim.optimizer import Optimizer\\n\\nclass AdamW(Optimizer):\\n    r\"\"\"Implements Adam algorithm with decoupled weight decay.\\n\\n    It has been proposed in `DECOUPLED WEIGHT DECAY REGULARIZATION`_.\\n    Below is modification of adam code from pytorch repository(https://github.com/pytorch/pytorch)\\n\\n    Arguments:\\n        params (iterable): iterable of parameters to optimize or dicts defining\\n            parameter groups\\n        lr (float, optional): learning rate (default: 1e-3)\\n        betas (Tuple[float, float], optional): coefficients used for computing\\n            running averages of gradient and its square (default: (0.9, 0.999))\\n        eps (float, optional): term added to the denominator to improve\\n            numerical stability (default: 1e-8)\\n        weight_decay (float, optional): weight decay (default: 0)\\n        amsgrad (boolean, optional): whether to use the AMSGrad variant of this\\n            algorithm from the paper `On the Convergence of Adam and Beyond`_\\n            (default: False)\\n           \\n    .. _DECOUPLED WEIGHT DECAY REGULARIZATION:\\n        https://arxiv.org/pdf/1711.05101.pdf\\n    \"\"\"\\n\\n    def __init__(self, params, lr=1e-3, betas=(0.9, 0.999), eps=1e-8,\\n                 weight_decay=0, amsgrad=False):\\n        if not 0.0 <= lr:\\n            raise ValueError(\"Invalid learning rate: {}\".format(lr))\\n        if not 0.0 <= eps:\\n            raise ValueError(\"Invalid epsilon value: {}\".format(eps))\\n        if not 0.0 <= betas[0] < 1.0:\\n            raise ValueError(\"Invalid beta parameter at index 0: {}\".format(betas[0]))\\n        if not 0.0 <= betas[1] < 1.0:\\n            raise ValueError(\"Invalid beta parameter at index 1: {}\".format(betas[1]))\\n        defaults = dict(lr=lr, betas=betas, eps=eps,\\n                        weight_decay=weight_decay, amsgrad=amsgrad)\\n        super(AdamW, self).__init__(params, defaults)\\n\\n    def __setstate__(self, state):\\n        super(AdamW, self).__setstate__(state)\\n        for group in self.param_groups:\\n            group.setdefault(\\'amsgrad\\', False)\\n\\n    def step(self, closure=None):\\n        \"\"\"Performs a single optimization step.\\n\\n        Arguments:\\n            closure (callable, optional): A closure that reevaluates the model\\n                and returns the loss.\\n        \"\"\"\\n        loss = None\\n        if closure is not None:\\n            loss = closure()\\n\\n        for group in self.param_groups:\\n            for p in group[\\'params\\']:\\n                if p.grad is None:\\n                    continue\\n                grad = p.grad.data\\n                if grad.is_sparse:\\n                    raise RuntimeError(\\'Adam does not support sparse gradients, please consider SparseAdam instead\\')\\n                amsgrad = group[\\'amsgrad\\']\\n\\n                state = self.state[p]\\n\\n                # State initialization\\n                if len(state) == 0:\\n                    state[\\'step\\'] = 0\\n                    # Exponential moving average of gradient values\\n                    state[\\'exp_avg\\'] = torch.zeros_like(p.data)\\n                    # Exponential moving average of squared gradient values\\n                    state[\\'exp_avg_sq\\'] = torch.zeros_like(p.data)\\n                    if amsgrad:\\n                        # Maintains max of all exp. moving avg. of sq. grad. values\\n                        state[\\'max_exp_avg_sq\\'] = torch.zeros_like(p.data)\\n\\n                exp_avg, exp_avg_sq = state[\\'exp_avg\\'], state[\\'exp_avg_sq\\']\\n                if amsgrad:\\n                    max_exp_avg_sq = state[\\'max_exp_avg_sq\\']\\n                beta1, beta2 = group[\\'betas\\']\\n\\n                state[\\'step\\'] += 1\\n\\n                old = p.data.float()\\n\\n                # Decay the first and second moment running average coefficient\\n                exp_avg.mul_(beta1).add_(1 - beta1, grad)\\n                exp_avg_sq.mul_(beta2).addcmul_(1 - beta2, grad, grad)\\n                if amsgrad:\\n                    # Maintains the maximum of all 2nd moment running avg. till now\\n                    torch.max(max_exp_avg_sq, exp_avg_sq, out=max_exp_avg_sq)\\n                    # Use the max. for normalizing running avg. of gradient\\n                    denom = max_exp_avg_sq.sqrt().add_(group[\\'eps\\'])\\n                else:\\n                    denom = exp_avg_sq.sqrt().add_(group[\\'eps\\'])\\n\\n                bias_correction1 = 1 - beta1 ** state[\\'step\\']\\n                bias_correction2 = 1 - beta2 ** state[\\'step\\']\\n                \\n                step_size = group[\\'lr\\'] * math.sqrt(bias_correction2) / bias_correction1\\n                    \\n                p.data.addcdiv_(-step_size, exp_avg, denom)\\n                \\n                if group[\\'weight_decay\\'] != 0:\\n                    p.data.add_(-group[\\'weight_decay\\'] * group[\\'lr\\'], old)\\n                \\n        return loss',\n",
              " 'CLR.py': b'import math\\nimport matplotlib.pyplot as plt\\n\\n\\nclass CLR(object):\\n    \"\"\"\\n    The method is described in paper : https://arxiv.org/abs/1506.01186 to find out optimum \\n    learning rate. The learning rate is increased from lower value to higher per iteration \\n    for some iterations till loss starts exploding.The learning rate one power lower than \\n    the one where loss is minimum is chosen as optimum learning rate for training.\\n\\n    Args:\\n        optim   Optimizer used in training.\\n\\n        bn      Total number of iterations used for this test run.\\n                The learning rate increasing factor is calculated based on this \\n                iteration number.\\n\\n        base_lr The lower boundary for learning rate which will be used as\\n                initial learning rate during test run. It is adviced to start from\\n                small learning rate value like 1e-4.\\n                Default value is 1e-5\\n\\n        max_lr  The upper boundary for learning rate. This value defines amplitude\\n                for learning rate increase(max_lr-base_lr). max_lr value may not be \\n                reached in test run as loss may explode before reaching max_lr.\\n                It is adviced to use higher value like 10, 100.\\n                Default value is 100.\\n\\n    \"\"\"\\n    def __init__(self, optim, bn, base_lr=1e-7, max_lr=100):\\n        self.base_lr = base_lr\\n        self.max_lr = max_lr\\n        self.optim = optim\\n        self.bn = bn - 1\\n        ratio = self.max_lr/self.base_lr\\n        self.mult = ratio ** (1/self.bn)\\n        self.best_loss = 1e9\\n        self.iteration = 0\\n        self.lrs = []\\n        self.losses = []\\n        \\n    def calc_lr(self, loss):\\n        self.iteration +=1\\n        if math.isnan(loss) or loss > 4 * self.best_loss:\\n            return -1\\n        if loss < self.best_loss and self.iteration > 1:\\n            self.best_loss = loss\\n            \\n        mult = self.mult ** self.iteration\\n        lr = self.base_lr * mult\\n        \\n        self.lrs.append(lr)\\n        self.losses.append(loss)\\n        \\n        return lr\\n        \\n    def plot(self, start=10, end=-5):\\n        plt.xlabel(\"Learning Rate\")\\n        plt.ylabel(\"Losses\")\\n        plt.plot(self.lrs[start:end], self.losses[start:end])\\n        plt.xscale(\\'log\\')\\n        \\n        \\n    def plot_lr(self):\\n        plt.xlabel(\"Iterations\")\\n        plt.ylabel(\"Learning Rate\")\\n        plt.plot(self.lrs)\\n        plt.yscale(\\'log\\')',\n",
              " 'Lookahead.py': b\"import torch\\nfrom torch.optim import Optimizer\\nfrom collections import defaultdict\\n\\nclass Lookahead(Optimizer):\\n    r'''Implements Lookahead optimizer.\\n\\n    It's been proposed in paper: Lookahead Optimizer: k steps forward, 1 step back\\n    (https://arxiv.org/pdf/1907.08610.pdf)\\n\\n    Args:\\n        optimizer: The optimizer object used in inner loop for fast weight updates.\\n        alpha:     The learning rate for slow weight update.\\n                   Default: 0.5\\n        k:         Number of iterations of fast weights updates before updating slow\\n                   weights.\\n                   Default: 5\\n\\n    Example:\\n        > optim = Lookahead(optimizer)\\n        > optim = Lookahead(optimizer, alpha=0.6, k=10)\\n    '''\\n    def __init__(self, optimizer, alpha=0.5, k=5):\\n        assert(0.0 <= alpha <= 1.0)\\n        assert(k >= 1)\\n        self.optimizer = optimizer\\n        self.alpha = alpha\\n        self.k = k\\n        self.k_counter = 0\\n        self.param_groups = self.optimizer.param_groups\\n        self.state = defaultdict(dict)\\n        self.slow_weights = [[param.clone().detach() for param in group['params']] for group in self.param_groups]\\n    \\n    def step(self, closure=None):\\n        loss = self.optimizer.step(closure)\\n        self.k_counter += 1\\n        if self.k_counter >= self.k:\\n            for group, slow_weight in zip(self.param_groups, self.slow_weights):\\n                for param, weight in zip(group['params'], slow_weight):\\n                    weight.data.add_(self.alpha, (param.data - weight.data))\\n                    param.data.copy_(weight.data)\\n            self.k_counter = 0\\n        return loss\\n\\n    def __getstate__(self):\\n        return {\\n            'state': self.state,\\n            'optimizer': self.optimizer,\\n            'alpha': self.alpha,\\n            'k': self.k,\\n            'k_counter': self.k_counter\\n        }\\n\\n    def state_dict(self):\\n        return self.optimizer.state_dict()\\n\\n    def load_state_dict(self, state_dict):\\n        self.optimizer.load_state_dict(state_dict)\",\n",
              " 'OneCycle.py': b'import math\\n\\nclass OneCycle(object):\\n    \"\"\"\\n    In paper (https://arxiv.org/pdf/1803.09820.pdf), author suggests to do one cycle during \\n    whole run with 2 steps of equal length. During first step, increase the learning rate \\n    from lower learning rate to higher learning rate. And in second step, decrease it from \\n    higher to lower learning rate. This is Cyclic learning rate policy. Author suggests one \\n    addition to this. - During last few hundred/thousand iterations of cycle reduce the \\n    learning rate to 1/100th or 1/1000th of the lower learning rate.\\n\\n    Also, Author suggests that reducing momentum when learning rate is increasing. So, we make \\n    one cycle of momentum also with learning rate - Decrease momentum when learning rate is \\n    increasing and increase momentum when learning rate is decreasing.\\n\\n    Args:\\n        nb              Total number of iterations including all epochs\\n\\n        max_lr          The optimum learning rate. This learning rate will be used as highest \\n                        learning rate. The learning rate will fluctuate between max_lr to\\n                        max_lr/div and then (max_lr/div)/div.\\n\\n        momentum_vals   The maximum and minimum momentum values between which momentum will\\n                        fluctuate during cycle.\\n                        Default values are (0.95, 0.85)\\n\\n        prcnt           The percentage of cycle length for which we annihilate learning rate\\n                        way below the lower learnig rate.\\n                        The default value is 10\\n\\n        div             The division factor used to get lower boundary of learning rate. This\\n                        will be used with max_lr value to decide lower learning rate boundary.\\n                        This value is also used to decide how much we annihilate the learning \\n                        rate below lower learning rate.\\n                        The default value is 10.\\n\\n        use_cosine      Use cosine annealation instead of linear to change learning rate and \\n                        momentum. \\n                        The default value is False\\n    \"\"\"\\n    def __init__(self, nb, max_lr, momentum_vals=(0.95, 0.85), prcnt= 10, div=10, use_cosine=False):\\n        self.nb = nb\\n        self.div = div\\n        self.high_lr = max_lr\\n        self.low_mom = momentum_vals[1]\\n        self.high_mom = momentum_vals[0]\\n        self.use_cosine = use_cosine\\n        if self.use_cosine:\\n            self.prcnt = 0\\n        else:\\n            self.prcnt = prcnt\\n        self.iteration = 0\\n        self.lrs = []\\n        self.moms = []\\n        if self.use_cosine:\\n            self.step_len =  int(self.nb / 4)\\n        else:\\n            self.step_len =  int(self.nb * (1- prcnt/100)/2)\\n        \\n    def calc(self):\\n        if self.use_cosine:\\n            lr = self.calc_lr_cosine()\\n            mom = self.calc_mom_cosine()\\n        else:\\n            lr = self.calc_lr()\\n            mom = self.calc_mom()\\n        self.iteration += 1\\n        return (lr, mom)\\n        \\n    def calc_lr(self):\\n        if self.iteration ==  0:\\n            self.lrs.append(self.high_lr/self.div)\\n            return self.high_lr/self.div\\n        elif self.iteration == self.nb:\\n            self.iteration = 0\\n            self.lrs.append(self.high_lr/self.div)\\n            return self.high_lr/self.div\\n        elif self.iteration > 2 * self.step_len:\\n            ratio = (self.iteration - 2 * self.step_len) / (self.nb - 2 * self.step_len)\\n            #lr = self.high_lr * ( 1 - 0.99 * ratio)/self.div\\n            lr = (self.high_lr / self.div) * (1- ratio * (1 - 1/self.div))\\n        elif self.iteration > self.step_len:\\n            ratio = 1- (self.iteration -self.step_len)/self.step_len\\n            lr = self.high_lr * (1 + ratio * (self.div - 1)) / self.div\\n        else :\\n            ratio = self.iteration/self.step_len\\n            lr = self.high_lr * (1 + ratio * (self.div - 1)) / self.div\\n        self.lrs.append(lr)\\n        return lr\\n\\n    def calc_mom(self):\\n        if self.iteration == 0:\\n            self.moms.append(self.high_mom)\\n            return self.high_mom\\n        elif self.iteration == self.nb:\\n            self.iteration = 0\\n            self.moms.append(self.high_mom)\\n            return self.high_mom\\n        elif self.iteration > 2 * self.step_len:\\n            mom = self.high_mom\\n        elif self.iteration > self.step_len:\\n            ratio = (self.iteration -self.step_len)/self.step_len\\n            mom = self.low_mom + ratio * (self.high_mom - self.low_mom)\\n        else :\\n            ratio = self.iteration/self.step_len\\n            mom = self.high_mom - ratio * (self.high_mom - self.low_mom)\\n        self.moms.append(mom)\\n        return mom\\n\\n    def calc_lr_cosine(self):\\n        if self.iteration ==  0:\\n            self.lrs.append(self.high_lr/self.div)\\n            return self.high_lr/self.div\\n        elif self.iteration == self.nb:\\n            self.iteration = 0\\n            self.lrs.append(self.high_lr/self.div)\\n            return self.high_lr/self.div\\n        elif self.iteration > self.step_len:\\n            ratio = (self.iteration -self.step_len)/(self.nb - self.step_len)\\n            lr = (self.high_lr/self.div) + 0.5 * (self.high_lr - self.high_lr/self.div) * (1 + math.cos(math.pi * ratio))\\n        else :\\n            ratio = self.iteration/self.step_len\\n            lr = self.high_lr - 0.5 * (self.high_lr - self.high_lr/self.div) * (1 + math.cos(math.pi * ratio))\\n        self.lrs.append(lr)\\n        return lr\\n\\n    def calc_mom_cosine(self):\\n        if self.iteration == 0:\\n            self.moms.append(self.high_mom)\\n            return self.high_mom\\n        elif self.iteration == self.nb:\\n            self.iteration = 0\\n            self.moms.append(self.high_mom)\\n            return self.high_mom\\n        elif self.iteration > self.step_len:\\n            ratio = (self.iteration -self.step_len)/(self.nb - self.step_len)\\n            mom = self.high_mom - 0.5 * (self.high_mom - self.low_mom) * (1 + math.cos(math.pi * ratio))\\n        else :\\n            ratio = self.iteration/self.step_len\\n            mom = self.low_mom + 0.5 * (self.high_mom - self.low_mom) * (1 + math.cos(math.pi * ratio))\\n        self.moms.append(mom)\\n        return mom\\n',\n",
              " 'RAdam.py': b'import math\\nimport torch\\nfrom torch.optim import Optimizer\\n\\n\\nclass RAdam(Optimizer):\\n    r\"\"\"Implements RAdam algorithm.\\n    It has been proposed in `ON THE VARIANCE OF THE ADAPTIVE LEARNING\\n    RATE AND BEYOND(https://arxiv.org/pdf/1908.03265.pdf)`_.\\n    \\n    Arguments:\\n        params (iterable):      iterable of parameters to optimize or dicts defining\\n                                parameter groups\\n        lr (float, optional):   learning rate (default: 1e-3)\\n        betas (Tuple[float, float], optional):  coefficients used for computing\\n                                                running averages of gradient and \\n                                                its square (default: (0.9, 0.999))\\n        eps (float, optional):  term added to the denominator to improve\\n                                numerical stability (default: 1e-8)\\n        weight_decay (float, optional): weight decay (L2 penalty) (default: 0)\\n        amsgrad (boolean, optional):    whether to use the AMSGrad variant of this\\n                                        algorithm from the paper `On the Convergence \\n                                        of Adam and Beyond`_(default: False)\\n        \\n        sma_thresh:             simple moving average threshold.\\n                                Length till where the variance of adaptive lr is intracable.\\n                                Default: 4 (as per paper)\\n    \"\"\"\\n    def __init__(self, params, lr=1e-3, betas=(0.9, 0.999), eps=1e-8,\\n                 weight_decay=0, amsgrad=False, sma_thresh=4):\\n        if not 0.0 <= lr:\\n            raise ValueError(\"Invalid learning rate: {}\".format(lr))\\n        if not 0.0 <= eps:\\n            raise ValueError(\"Invalid epsilon value: {}\".format(eps))\\n        if not 0.0 <= betas[0] < 1.0:\\n            raise ValueError(\"Invalid beta parameter at index 0: {}\".format(betas[0]))\\n        if not 0.0 <= betas[1] < 1.0:\\n            raise ValueError(\"Invalid beta parameter at index 1: {}\".format(betas[1]))\\n        defaults = dict(lr=lr, betas=betas, eps=eps,\\n                        weight_decay=weight_decay, amsgrad=amsgrad)\\n        super(RAdam, self).__init__(params, defaults)\\n\\n        self.radam_buffer = [[None, None, None] for ind in range(10)]\\n        self.sma_thresh = sma_thresh\\n\\n    def __setstate__(self, state):\\n        super(RAdam, self).__setstate__(state)\\n        for group in self.param_groups:\\n            group.setdefault(\\'amsgrad\\', False)\\n\\n    def step(self, closure=None):\\n        loss = None\\n        if closure is not None:\\n            loss = closure()\\n\\n        for group in self.param_groups:\\n            for p in group[\\'params\\']:\\n                if p.grad is None:\\n                    continue\\n\\n                # Perform optimization step\\n                grad = p.grad.data\\n                if grad.is_sparse:\\n                    raise RuntimeError(\\'Adam does not support sparse gradients, please consider SparseAdam instead\\')\\n                amsgrad = group[\\'amsgrad\\']\\n\\n                state = self.state[p]\\n\\n                # State initialization\\n                if len(state) == 0:\\n                    state[\\'step\\'] = 0\\n                    # Exponential moving average of gradient values\\n                    state[\\'exp_avg\\'] = torch.zeros_like(p.data)\\n                    # Exponential moving average of squared gradient values\\n                    state[\\'exp_avg_sq\\'] = torch.zeros_like(p.data)\\n                    if amsgrad:\\n                        # Maintains max of all exp. moving avg. of sq. grad. values\\n                        state[\\'max_exp_avg_sq\\'] = torch.zeros_like(p.data)\\n\\n                exp_avg, exp_avg_sq = state[\\'exp_avg\\'], state[\\'exp_avg_sq\\']\\n                if amsgrad:\\n                    max_exp_avg_sq = state[\\'max_exp_avg_sq\\']\\n                beta1, beta2 = group[\\'betas\\']\\n\\n                state[\\'step\\'] += 1\\n                old = p.data.float()\\n\\n                # Decay the first and second moment running average coefficient\\n                exp_avg.mul_(beta1).add_(1 - beta1, grad)\\n                exp_avg_sq.mul_(beta2).addcmul_(1 - beta2, grad, grad)\\n\\n                buffer = self.radam_buffer[int(state[\\'step\\']%10)]\\n\\n                if buffer[0] == state[\\'step\\']:\\n                    sma_t, step_size = buffer[1], buffer[2]\\n                else:                 \\n                    sma_max_len = 2/(1-beta2) - 1  \\n                    beta2_t = beta2 ** state[\\'step\\']\\n                    sma_t = sma_max_len - 2 * state[\\'step\\'] * beta2_t /(1 - beta2_t)\\n                    buffer[0] = state[\\'step\\']\\n                    buffer[1] = sma_t\\n\\n                    if sma_t > self.sma_thresh :\\n                        rt = math.sqrt(((sma_t - 4) * (sma_t - 2) * sma_max_len)/((sma_max_len -4) * (sma_max_len - 2) * sma_t))\\n                        step_size = group[\\'lr\\'] * rt * math.sqrt((1 - beta2_t)) / (1 - beta1 ** state[\\'step\\'])                      \\n                    else:\\n                        step_size = group[\\'lr\\'] / (1 - beta1 ** state[\\'step\\'])                        \\n                    buffer[2] = step_size\\n\\n                if group[\\'weight_decay\\'] != 0:\\n                    p.data.add_(-group[\\'weight_decay\\'] * group[\\'lr\\'], old)\\n\\n                if sma_t > self.sma_thresh :\\n                    denom = exp_avg_sq.sqrt().add_(group[\\'eps\\'])\\n                    p.data.addcdiv_(-step_size, exp_avg, denom)\\n                else:\\n                    p.data.add_(-step_size, exp_avg)\\n\\n        return loss\\n',\n",
              " 'SGDW.py': b'import torch\\nfrom torch.optim.optimizer import Optimizer, required\\n\\n\\nclass SGDW(Optimizer):\\n    r\"\"\"Implements stochastic gradient descent with decoupled weight decay(optionally with momentum).\\n\\n    It has been proposed in `DECOUPLED WEIGHT DECAY REGULARIZATION`_.\\n    Below is modification of adam code from pytorch repository(https://github.com/pytorch/pytorch).\\n\\n    Args:\\n        params (iterable): iterable of parameters to optimize or dicts defining\\n            parameter groups\\n        lr (float): learning rate\\n        momentum (float, optional): momentum factor (default: 0)\\n        weight_decay (float, optional): weight decay (L2 penalty) (default: 0)\\n        dampening (float, optional): dampening for momentum (default: 0)\\n        nesterov (bool, optional): enables Nesterov momentum (default: False)\\n\\n    Example:\\n        >>> optimizer = torch.optim.SGD(model.parameters(), lr=0.1, momentum=0.9)\\n        >>> optimizer.zero_grad()\\n        >>> loss_fn(model(input), target).backward()\\n        >>> optimizer.step()\\n\\n    __ http://www.cs.toronto.edu/%7Ehinton/absps/momentum.pdf\\n\\n    .. note::\\n        The implementation of SGD with Momentum/Nesterov subtly differs from\\n        Sutskever et. al. and implementations in some other frameworks.\\n\\n        Considering the specific case of Momentum, the update can be written as\\n\\n        .. math::\\n                  v = \\\\rho * v + g \\\\\\\\\\n                  p = p - lr * v\\n\\n        where p, g, v and :math:`\\\\rho` denote the parameters, gradient,\\n        velocity, and momentum respectively.\\n\\n        This is in contrast to Sutskever et. al. and\\n        other frameworks which employ an update of the form\\n\\n        .. math::\\n             v = \\\\rho * v + lr * g \\\\\\\\\\n             p = p - v\\n\\n        .. _DECOUPLED WEIGHT DECAY REGULARIZATION:\\n        https://arxiv.org/pdf/1711.05101.pdf\\n    \"\"\"\\n\\n    def __init__(self, params, lr=required, momentum=0, dampening=0,\\n                 weight_decay=0, nesterov=False):\\n        if lr is not required and lr < 0.0:\\n            raise ValueError(\"Invalid learning rate: {}\".format(lr))\\n        if momentum < 0.0:\\n            raise ValueError(\"Invalid momentum value: {}\".format(momentum))\\n        if weight_decay < 0.0:\\n            raise ValueError(\"Invalid weight_decay value: {}\".format(weight_decay))\\n\\n        defaults = dict(lr=lr, momentum=momentum, dampening=dampening,\\n                        weight_decay=weight_decay, nesterov=nesterov)\\n        if nesterov and (momentum <= 0 or dampening != 0):\\n            raise ValueError(\"Nesterov momentum requires a momentum and zero dampening\")\\n        super(SGDW, self).__init__(params, defaults)\\n\\n    def __setstate__(self, state):\\n        super(SGDW, self).__setstate__(state)\\n        for group in self.param_groups:\\n            group.setdefault(\\'nesterov\\', False)\\n\\n    def step(self, closure=None):\\n        \"\"\"Performs a single optimization step.\\n\\n        Arguments:\\n            closure (callable, optional): A closure that reevaluates the model\\n                and returns the loss.\\n        \"\"\"\\n        loss = None\\n        if closure is not None:\\n            loss = closure()\\n\\n        for group in self.param_groups:\\n            weight_decay = group[\\'weight_decay\\']\\n            momentum = group[\\'momentum\\']\\n            dampening = group[\\'dampening\\']\\n            nesterov = group[\\'nesterov\\']\\n\\n            for p in group[\\'params\\']:\\n                if p.grad is None:\\n                    continue\\n                d_p = p.grad.data\\n                \\n                old = torch.clone(p.data).detach()\\n                #if weight_decay != 0:\\n                #    d_p.add_(weight_decay, p.data)\\n                if momentum != 0:\\n                    param_state = self.state[p]\\n                    if \\'momentum_buffer\\' not in param_state:\\n                        buf = param_state[\\'momentum_buffer\\'] = torch.zeros_like(p.data)\\n                        buf.mul_(momentum).add_(d_p)\\n                    else:\\n                        buf = param_state[\\'momentum_buffer\\']\\n                        buf.mul_(momentum).add_(1 - dampening, d_p)\\n                    if nesterov:\\n                        d_p = d_p.add(momentum, buf)\\n                    else:\\n                        d_p = buf\\n\\n                p.data.add_(-group[\\'lr\\'], d_p)\\n                \\n                if weight_decay != 0:\\n                    p.data.add_(-weight_decay, old)\\n\\n        return loss\\n'}"
            ]
          },
          "metadata": {
            "tags": []
          },
          "execution_count": 1
        }
      ]
    },
    {
      "cell_type": "code",
      "metadata": {
        "id": "o7Dp2pUUqgDN",
        "colab_type": "code",
        "colab": {}
      },
      "source": [
        "%matplotlib inline\n",
        "%reload_ext autoreload\n",
        "%autoreload 2\n",
        "%config InlineBackend.figure_format = 'svg'"
      ],
      "execution_count": 0,
      "outputs": []
    },
    {
      "cell_type": "code",
      "metadata": {
        "id": "K7aNg3F9q3zR",
        "colab_type": "code",
        "colab": {}
      },
      "source": [
        "import torch\n",
        "import torch.nn as nn\n",
        "import numpy as np\n",
        "from torch.utils.data.dataset import Dataset\n",
        "from torch.utils.data import DataLoader\n",
        "from torchvision import transforms\n",
        "import torch.nn.functional as F\n",
        "import torch.optim as optim\n",
        "from torch.autograd import Variable\n",
        "from torchvision.datasets import CIFAR10\n",
        "import torchvision.models as models\n",
        "import matplotlib.pyplot as plt\n",
        "import time\n",
        "import math\n",
        "import tqdm as tqdm\n",
        "from Lookahead import Lookahead\n",
        "from AdamW import AdamW\n",
        "from RAdam import RAdam"
      ],
      "execution_count": 0,
      "outputs": []
    },
    {
      "cell_type": "code",
      "metadata": {
        "id": "gLSYwdcSrXvb",
        "colab_type": "code",
        "outputId": "e28866b3-2bfb-4f3a-fdcd-700135c5a2eb",
        "colab": {
          "base_uri": "https://localhost:8080/",
          "height": 34
        }
      },
      "source": [
        "device = torch.device('cuda' if torch.cuda.is_available() else 'cpu')\n",
        "device"
      ],
      "execution_count": 4,
      "outputs": [
        {
          "output_type": "execute_result",
          "data": {
            "text/plain": [
              "device(type='cuda')"
            ]
          },
          "metadata": {
            "tags": []
          },
          "execution_count": 4
        }
      ]
    },
    {
      "cell_type": "code",
      "metadata": {
        "id": "anHwr0nYuVC0",
        "colab_type": "code",
        "colab": {}
      },
      "source": [
        "np.random.seed(42)"
      ],
      "execution_count": 0,
      "outputs": []
    },
    {
      "cell_type": "markdown",
      "metadata": {
        "id": "wzJWgAPIrhwO",
        "colab_type": "text"
      },
      "source": [
        "# Load Dataset"
      ]
    },
    {
      "cell_type": "code",
      "metadata": {
        "id": "hYVOcHGXrf6s",
        "colab_type": "code",
        "colab": {}
      },
      "source": [
        "mean = [0.4914, 0.4822, 0.4465]\n",
        "std = [0.2023, 0.1994, 0.2010]"
      ],
      "execution_count": 0,
      "outputs": []
    },
    {
      "cell_type": "code",
      "metadata": {
        "id": "dhPxnE1vrtHT",
        "colab_type": "code",
        "colab": {}
      },
      "source": [
        "normalize = transforms.Normalize(mean=mean, std=std)\n",
        "train_transforms = transforms.Compose([\n",
        "                    transforms.RandomCrop(32, padding=4, padding_mode='reflect'),\n",
        "                    transforms.RandomHorizontalFlip(),\n",
        "                    transforms.ToTensor(),\n",
        "                    normalize\n",
        "                ])\n",
        "valid_transforms = transforms.Compose([\n",
        "                    transforms.ToTensor(),\n",
        "                    normalize\n",
        "                ])"
      ],
      "execution_count": 0,
      "outputs": []
    },
    {
      "cell_type": "code",
      "metadata": {
        "id": "W6rlE2XJrwRV",
        "colab_type": "code",
        "outputId": "b7267dcc-381e-47f1-f3a8-46a07fa981ae",
        "colab": {
          "base_uri": "https://localhost:8080/",
          "height": 85
        }
      },
      "source": [
        "trainset = CIFAR10('./data', train=True, download=True, transform=train_transforms)\n",
        "testset = CIFAR10('./data', train=False, download=True, transform=valid_transforms)"
      ],
      "execution_count": 8,
      "outputs": [
        {
          "output_type": "stream",
          "text": [
            "\r0it [00:00, ?it/s]"
          ],
          "name": "stderr"
        },
        {
          "output_type": "stream",
          "text": [
            "Downloading https://www.cs.toronto.edu/~kriz/cifar-10-python.tar.gz to ./data/cifar-10-python.tar.gz\n"
          ],
          "name": "stdout"
        },
        {
          "output_type": "stream",
          "text": [
            "170500096it [00:06, 27278046.59it/s]                               \n"
          ],
          "name": "stderr"
        },
        {
          "output_type": "stream",
          "text": [
            "Extracting ./data/cifar-10-python.tar.gz to ./data\n",
            "Files already downloaded and verified\n"
          ],
          "name": "stdout"
        }
      ]
    },
    {
      "cell_type": "code",
      "metadata": {
        "id": "KTnDa9Pqr0Cn",
        "colab_type": "code",
        "colab": {}
      },
      "source": [
        "bs=128\n",
        "epochs=90\n",
        "classes = ('plane', 'car', 'bird', 'cat',\n",
        "           'deer', 'dog', 'frog', 'horse', 'ship', 'truck')"
      ],
      "execution_count": 0,
      "outputs": []
    },
    {
      "cell_type": "code",
      "metadata": {
        "id": "5btvC80or6bE",
        "colab_type": "code",
        "colab": {}
      },
      "source": [
        "train_loader = DataLoader(trainset, batch_size=bs, shuffle=True, num_workers=4)\n",
        "test_loader = DataLoader(testset, batch_size=bs, shuffle=False, num_workers=4)"
      ],
      "execution_count": 0,
      "outputs": []
    },
    {
      "cell_type": "markdown",
      "metadata": {
        "id": "NiRuMuZEsInt",
        "colab_type": "text"
      },
      "source": [
        "# Plot Images"
      ]
    },
    {
      "cell_type": "code",
      "metadata": {
        "id": "L5FF-b2YsHTA",
        "colab_type": "code",
        "colab": {}
      },
      "source": [
        "# Plot few of the images\n",
        "# This can be used to print predictions too\n",
        "def plot_img(preds=None, is_pred=False):        \n",
        "    fig = plt.figure(figsize=(8,8))\n",
        "    columns = 4\n",
        "    rows = 5\n",
        "\n",
        "    for i in range(1, columns*rows +1):\n",
        "        fig.add_subplot(rows, columns, i)\n",
        "        \n",
        "        if is_pred:\n",
        "            img_xy = np.random.randint(len(testset));\n",
        "            img = testset[img_xy][0].numpy()\n",
        "            #img = img * std + mean\n",
        "        else:\n",
        "            img_xy = np.random.randint(len(trainset));\n",
        "            img = trainset[img_xy][0].numpy()\n",
        "            #img = img * std + mean\n",
        "        \n",
        "        if is_pred:\n",
        "            plt.title(classes[int(preds[img_xy])] + \"/\" + classes[testset[img_xy][1]])\n",
        "        else:\n",
        "            plt.title(classes[trainset[img_xy][1]])\n",
        "        plt.axis('off')\n",
        "        img = np.clip(img, 0, 1)\n",
        "        plt.imshow(np.transpose(img , (1,2,0)))\n",
        "    plt.show()"
      ],
      "execution_count": 0,
      "outputs": []
    },
    {
      "cell_type": "code",
      "metadata": {
        "id": "7VXJ9KCzsTX5",
        "colab_type": "code",
        "outputId": "f98386c7-186f-4378-a1a7-456a4331d9ff",
        "colab": {
          "base_uri": "https://localhost:8080/",
          "height": 640
        }
      },
      "source": [
        "plot_img()"
      ],
      "execution_count": 12,
      "outputs": [
        {
          "output_type": "display_data",
          "data": {
            "text/plain": [
              "<Figure size 576x576 with 20 Axes>"
            ],
            "image/svg+xml": "<?xml version=\"1.0\" encoding=\"utf-8\" standalone=\"no\"?>\n<!DOCTYPE svg PUBLIC \"-//W3C//DTD SVG 1.1//EN\"\n  \"http://www.w3.org/Graphics/SVG/1.1/DTD/svg11.dtd\">\n<!-- Created with matplotlib (https://matplotlib.org/) -->\n<svg height=\"464.398125pt\" version=\"1.1\" viewBox=\"0 0 438.735832 464.398125\" width=\"438.735832pt\" xmlns=\"http://www.w3.org/2000/svg\" xmlns:xlink=\"http://www.w3.org/1999/xlink\">\n <defs>\n  <style type=\"text/css\">\n*{stroke-linecap:butt;stroke-linejoin:round;}\n  </style>\n </defs>\n <g id=\"figure_1\">\n  <g id=\"patch_1\">\n   <path d=\"M 0 464.398125 \nL 438.735832 464.398125 \nL 438.735832 0 \nL 0 0 \nz\n\" style=\"fill:none;\"/>\n  </g>\n  <g id=\"axes_1\">\n   <g clip-path=\"url(#pae3271b093)\">\n    <image height=\"75\" id=\"image47d54b548d\" transform=\"scale(1 -1)translate(0 -75)\" width=\"75\" x=\"7.2\" xlink:href=\"data:image/png;base64,\niVBORw0KGgoAAAANSUhEUgAAAEsAAABLCAYAAAA4TnrqAAAABHNCSVQICAgIfAhkiAAABb1JREFUeJztXF1oHFUU/kZnoE6R9WcF98EVk4e0YoQopC8WWkERivhiBUuxYqXYSvtQRAMilCr4YopW8EEL0qAVTMAgRiSBRiSiKdiACZgUt5UluJFuwTV0DIywPtxzZs5OJpPcbdrd6Ple7um5d2bv3nzn3u+ee7cO8n11AECtjAjhKBlVKGLc1OoObCS4qE4ayy/E3rBIhjJLQpllAR0sC7hAzVhBINyzLelMu0OZZQEHyBnpAF+4Ky3pTLtDmWUBB0C91Z3YKFBmWUAHywIukCNTJ/jVoMyygAt0kukJNwlVBFDEUGZZIJ6zZNYhCMk4f8M71M5QZllAB8sCLvLbjCXTyiinNv6/Q5llARfdvcYK7o69AcmJ2WFThtM3tldtCmWWBZxNfb/VAcD3w8gZBOagotc3QvW7kffjJyZPZ7xuC5X8rpKo40OQF6mU8+Ipmz63DMosC+hgWcC5/6O6Sf55VyPnlbIJkak3tgIAhLbHLdsPAQCWJgbJUxO1eSo5DGUmg23eg8p9ZyXF135QZlnALdK8W6ttjpy5TuMspDyQLxiGzEeMCkXtfzsPpsyygBsQQXwxvfje5oZGDdypsED1UmqzUGgsfZE/C/hORdq7gpS6Wkq76w9llgV0sCzgHPjRSAdPhCEHSFdo5MSxQ3ujuj8mJxKvkOloSiTyy0IhBXySFRz3DdeZwhTfeiEn7ObC9+W+jwEos6zg9pB0CFPm1oPbnzBGOcmmlUDSIWueToWfVZkCXiyypAozXr47i1mNQqle/31ZC2WWBXSwLOCOnb4MANh/8K7IeaL/C2OsOfwMNnndAIDn9u0BAHRt6YrqCkWTUKxRiC5U4hAql00qp1o1lXPT/0R1AT1QrS4PuaVgnCyZnOQJnUNurbuKxnYdz3wa2zt3AVBmWcEtl8yVyPMTMbMuzk4BAPa+bZbMw3uej+p6i2iEnMw9WODByDpHtzKHzpwFAPjiRbWaWRmmxBFmQPJjKfU0nRlybSr/0uCQsMcAKLOs4AxfNqK0KvRgJ2WHw4pJdT1WcJY9yO0HzvwU+Y4eefiaOnPi1M8AgG9H4gvAlYphyMz0TOTLFzhvZjoxX5Lp65HmPtzvM2V0EXm5nFFmWUAHywJujhhdzMfOe6gMUsKPSTo0+isAwCvGofc9VXK6507xXHJdSMPYqPlpzDfDBzLbzZeSnp0pn2R5qh7QClI8TI+LD6G9rjLLAs5o3UzwDwhnMp08IPRanlbpHZxEEO0WqOS1Qi7evMh3UCkVx7H+PwEA775y+1r7ncA2YdOne48AAG6NPhlYzFOPKv0p76BvvesHeo34ZoH50sosC7g7yMjSk88KqiXbpSUYkodeQCwVS/QH+1ocbA/0v5Xdy1VwX2fMrEulk9SxhwAAuUI8cy5WMn6T5L1mysK9KzZRZllAB8sCzptXzQRfTEkrc9kjHujE+mOKVvkOCvc5ES2Twx+YNuNjkW9o3EiMRWSdCjFkj7upNCr/DvRFNb1njwMALtJ8cUEmIWgglFkWcAZJOsidEDMp7US6neA4RjTfnHs88h09/gkA4PUjJovyqlhIenab8iX6slLanKOSBfkVUcciQpllAffpVvegCZQT2x1PaJQXKONboTbB+C9R3VP7tjY+J2xmFEeY2P1FtjLLAjpYFnDqNMG3KxznUbLGM9stxzsAgCd37488X35+26pPca7ir5Q6ZZYF2p5ZDDmnL5Bo/eykEayTs3NR3YdfvQcA6LE95E5AZsNY8iqzLLBhmLUemEn8W+5owkQp83QsMZRZFtDBsoDb6g5cb8j932zCJ6/O/Z3xnIZhE9iQzKolSrnHS2ZK5ETNaoIncXmBkkUot5fMUunQBNpeOvBfWi7zfOTGPydtNnsrhecUlXzTS253OCOhzLKADpYF2mqCT7sNz+ldGYbJ//xFTtQyabcSOPzk/YvkIY3cWmoYNoF/AdjYdRfyAyQ9AAAAAElFTkSuQmCC\" y=\"-22.297435\"/>\n   </g>\n   <g id=\"text_1\">\n    <!-- ship -->\n    <defs>\n     <path d=\"M 44.28125 53.078125 \nL 44.28125 44.578125 \nQ 40.484375 46.53125 36.375 47.5 \nQ 32.28125 48.484375 27.875 48.484375 \nQ 21.1875 48.484375 17.84375 46.4375 \nQ 14.5 44.390625 14.5 40.28125 \nQ 14.5 37.15625 16.890625 35.375 \nQ 19.28125 33.59375 26.515625 31.984375 \nL 29.59375 31.296875 \nQ 39.15625 29.25 43.1875 25.515625 \nQ 47.21875 21.78125 47.21875 15.09375 \nQ 47.21875 7.46875 41.1875 3.015625 \nQ 35.15625 -1.421875 24.609375 -1.421875 \nQ 20.21875 -1.421875 15.453125 -0.5625 \nQ 10.6875 0.296875 5.421875 2 \nL 5.421875 11.28125 \nQ 10.40625 8.6875 15.234375 7.390625 \nQ 20.0625 6.109375 24.8125 6.109375 \nQ 31.15625 6.109375 34.5625 8.28125 \nQ 37.984375 10.453125 37.984375 14.40625 \nQ 37.984375 18.0625 35.515625 20.015625 \nQ 33.0625 21.96875 24.703125 23.78125 \nL 21.578125 24.515625 \nQ 13.234375 26.265625 9.515625 29.90625 \nQ 5.8125 33.546875 5.8125 39.890625 \nQ 5.8125 47.609375 11.28125 51.796875 \nQ 16.75 56 26.8125 56 \nQ 31.78125 56 36.171875 55.265625 \nQ 40.578125 54.546875 44.28125 53.078125 \nz\n\" id=\"DejaVuSans-115\"/>\n     <path d=\"M 54.890625 33.015625 \nL 54.890625 0 \nL 45.90625 0 \nL 45.90625 32.71875 \nQ 45.90625 40.484375 42.875 44.328125 \nQ 39.84375 48.1875 33.796875 48.1875 \nQ 26.515625 48.1875 22.3125 43.546875 \nQ 18.109375 38.921875 18.109375 30.90625 \nL 18.109375 0 \nL 9.078125 0 \nL 9.078125 75.984375 \nL 18.109375 75.984375 \nL 18.109375 46.1875 \nQ 21.34375 51.125 25.703125 53.5625 \nQ 30.078125 56 35.796875 56 \nQ 45.21875 56 50.046875 50.171875 \nQ 54.890625 44.34375 54.890625 33.015625 \nz\n\" id=\"DejaVuSans-104\"/>\n     <path d=\"M 9.421875 54.6875 \nL 18.40625 54.6875 \nL 18.40625 0 \nL 9.421875 0 \nz\nM 9.421875 75.984375 \nL 18.40625 75.984375 \nL 18.40625 64.59375 \nL 9.421875 64.59375 \nz\n\" id=\"DejaVuSans-105\"/>\n     <path d=\"M 18.109375 8.203125 \nL 18.109375 -20.796875 \nL 9.078125 -20.796875 \nL 9.078125 54.6875 \nL 18.109375 54.6875 \nL 18.109375 46.390625 \nQ 20.953125 51.265625 25.265625 53.625 \nQ 29.59375 56 35.59375 56 \nQ 45.5625 56 51.78125 48.09375 \nQ 58.015625 40.1875 58.015625 27.296875 \nQ 58.015625 14.40625 51.78125 6.484375 \nQ 45.5625 -1.421875 35.59375 -1.421875 \nQ 29.59375 -1.421875 25.265625 0.953125 \nQ 20.953125 3.328125 18.109375 8.203125 \nz\nM 48.6875 27.296875 \nQ 48.6875 37.203125 44.609375 42.84375 \nQ 40.53125 48.484375 33.40625 48.484375 \nQ 26.265625 48.484375 22.1875 42.84375 \nQ 18.109375 37.203125 18.109375 27.296875 \nQ 18.109375 17.390625 22.1875 11.75 \nQ 26.265625 6.109375 33.40625 6.109375 \nQ 40.53125 6.109375 44.609375 11.75 \nQ 48.6875 17.390625 48.6875 27.296875 \nz\n\" id=\"DejaVuSans-112\"/>\n    </defs>\n    <g transform=\"translate(32.285593 16.318125)scale(0.12 -0.12)\">\n     <use xlink:href=\"#DejaVuSans-115\"/>\n     <use x=\"52.099609\" xlink:href=\"#DejaVuSans-104\"/>\n     <use x=\"115.478516\" xlink:href=\"#DejaVuSans-105\"/>\n     <use x=\"143.261719\" xlink:href=\"#DejaVuSans-112\"/>\n    </g>\n   </g>\n  </g>\n  <g id=\"axes_2\">\n   <g clip-path=\"url(#pfaa2bef1f4)\">\n    <image height=\"75\" id=\"image5ca9e2f367\" transform=\"scale(1 -1)translate(0 -75)\" width=\"75\" x=\"123.652174\" xlink:href=\"data:image/png;base64,\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\" y=\"-22.297435\"/>\n   </g>\n   <g id=\"text_2\">\n    <!-- ship -->\n    <g transform=\"translate(148.737767 16.318125)scale(0.12 -0.12)\">\n     <use xlink:href=\"#DejaVuSans-115\"/>\n     <use x=\"52.099609\" xlink:href=\"#DejaVuSans-104\"/>\n     <use x=\"115.478516\" xlink:href=\"#DejaVuSans-105\"/>\n     <use x=\"143.261719\" xlink:href=\"#DejaVuSans-112\"/>\n    </g>\n   </g>\n  </g>\n  <g id=\"axes_3\">\n   <g clip-path=\"url(#pdb88494920)\">\n    <image height=\"75\" id=\"imageda5b48228e\" transform=\"scale(1 -1)translate(0 -75)\" width=\"75\" x=\"240.104348\" xlink:href=\"data:image/png;base64,\niVBORw0KGgoAAAANSUhEUgAAAEsAAABLCAYAAAA4TnrqAAAABHNCSVQICAgIfAhkiAAABadJREFUeJztXF1oXEUU/tZ0iwRL1AYhSBZqRNNiKKTBFVolUCjavIRiEaxiwCpYqaE01aoVoqEYJaLpg4HaYmohKSREBVMw1W5oNzQptqFu1E1xDa7ook00QbJKl7o+zJk7k+zdTU5zN0nL+V7O3HNm5k7Ofmdm7vzEByANj/AEyRNvFalEYsoYh5SIRZQcSBnTTyRjJAesOse8apwHuGWpG3AjwQcPmRUqV7I0qWR/3Ng0Wz726mVLAGEWA+IsBjwNw5sdwiwGxFkMiLMYEGcxIM5iQJzFwAovK5MZvMCBp5NSWXUQOMjL5066tUIliiNGmSBJ/Rks0jk2Ta1xY0oSA4et/u8UyS6S3y+grRwIsxgQZzGQlzAM1xYDADZ+2mNpdRzp+JswpnEK1zjFYyRm2Shu/X7rBSpOEyH1+JgVtpdI3kfyMrPtuSDMYiCv61lX9gaddPF26vSDD5Km0spZQrLQpRY9SJw3qnBYyZCi1HBb2DF1Ezk30vNJqyYi4nUPCMIsBhZtpbR3u2JZkvqnaDzp2Pw0PagJqsnsA7W1pmBZGUm7Nt1/lSoxbs1wwyNKxlS/lwgb1o1EFBNPUrf5AfNvEGYxIM5iIK9huDn4jJP+arB9hi0ROu2kX67bBgCIxFV8VBQFHNupKTXl+H2e76wiqYePIstWSuNHOSmTCWPTw4j+Tu22yv1NUpjFQF6ZlU7np+oRmrN2drQDAEJHPnFs5+IhlxJ83Gql/yUpzGIgP6sOeWKUVzja1gAAOPjqe45ubCpbbgNhFgPiLAY8DcOnXmoBABxv3etVlUuH1G9O8ugutcwozGLAU2Yt9449Ez9Y6bVz5hZmMSDOYmDBYXjjhZ6NsyY5Rcs8eukoai1t19QDEGax4MqsdPoPZfTdlVEgnf7PKnoz46qVXglAmMVCFmYp9vh8mb5cqj4q3mf6l8CWh5ekDcIsBsRZDGQJQ7Wz5vOtyygwOaiOoxUF67JW+vSGDQCA4xcueNBEUFuyDyjrrD3I79LzeGdqGgBw/8rbHNXsnevmJ82SeGPHMQDCLBayMEup3H7Nq9+eAQD4KyoybNGODgDA2h0vqnpazc5c56HXAACjdHahcfL6B4pYVDHj9V3qPSfa241R73Xo8w/2jgVtNw53fAkAqNzxKOu9wiwGsjDrV2X03Z21YFOtYtaBt990dLE+dR7h3vpmAECBlf8ayXAZnbD58UrWugeiJh25+AUAIBAodnRbNz1E7ctk/uaKLQCAryN9WevPFTm5IMxiQJzFgBOGayxl/0c1AIDq53oBzP/E8DaSPTnyrCd5KUeeOd+z8zAAYDikzjWPxY6xyksYLgJcO/hHSJ5Z3LYsGoRZiwDXuzvLiVGr6OhkSbmZOlyOxmflsmeeamt5lV+dfissNAd37TO8AHCk5Q0nvbOhac62CLMYEGcxsOxv33d9qL4vH3+hPmueWGTaSZ8fUmdIu3s/BwD0fNbmWVuEWQwse2YtJwizGPD02m8+sabEHIQfS8Ry5PQIJftNOqFWUYRZDIizGHDt4Kv2/wUA+Kb5jswSRTTrnXKb8eoLSwkX28Jwp7/ESf+Z8qr+Gic1nVaLjG5XrfRlF2EWA76CFvUJfq2h3VE+P1kHADh8u9IVtNQ5toP6BCS5e7f1vaV/lfFZEgD6aam4kv73g82Nd5p+BgCcO7SPCnYhn9g3qILp3eAcGWdBmMWAr+qsYtbERaNcrdb8MUFr/qute5SBTUpupedqqzI9uOuB3bpOqW+04cCMq3Bzo5/aFTbXefAKLUBoUvdb+fXVz05icmG5sY2SbHR5zx5ayHg/kGnTESLMYkCcxcAKP/XK91gbzL+kZuqS1niqO2ZNaYvl+IekDsNR64LpEIVFgsLQTARyo5q6gOpceVx0z5Zn6vbMerZvoKSKZ9rsAWiYpDCLgf8BHfGHdzBvkq8AAAAASUVORK5CYII=\" y=\"-22.297435\"/>\n   </g>\n   <g id=\"text_3\">\n    <!-- ship -->\n    <g transform=\"translate(265.18994 16.318125)scale(0.12 -0.12)\">\n     <use xlink:href=\"#DejaVuSans-115\"/>\n     <use x=\"52.099609\" xlink:href=\"#DejaVuSans-104\"/>\n     <use x=\"115.478516\" xlink:href=\"#DejaVuSans-105\"/>\n     <use x=\"143.261719\" xlink:href=\"#DejaVuSans-112\"/>\n    </g>\n   </g>\n  </g>\n  <g id=\"axes_4\">\n   <g clip-path=\"url(#p392639abbf)\">\n    <image height=\"75\" id=\"imagec2683cca09\" transform=\"scale(1 -1)translate(0 -75)\" width=\"75\" x=\"356.556522\" xlink:href=\"data:image/png;base64,\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\" y=\"-22.297435\"/>\n   </g>\n   <g id=\"text_4\">\n    <!-- bird -->\n    <defs>\n     <path d=\"M 48.6875 27.296875 \nQ 48.6875 37.203125 44.609375 42.84375 \nQ 40.53125 48.484375 33.40625 48.484375 \nQ 26.265625 48.484375 22.1875 42.84375 \nQ 18.109375 37.203125 18.109375 27.296875 \nQ 18.109375 17.390625 22.1875 11.75 \nQ 26.265625 6.109375 33.40625 6.109375 \nQ 40.53125 6.109375 44.609375 11.75 \nQ 48.6875 17.390625 48.6875 27.296875 \nz\nM 18.109375 46.390625 \nQ 20.953125 51.265625 25.265625 53.625 \nQ 29.59375 56 35.59375 56 \nQ 45.5625 56 51.78125 48.09375 \nQ 58.015625 40.1875 58.015625 27.296875 \nQ 58.015625 14.40625 51.78125 6.484375 \nQ 45.5625 -1.421875 35.59375 -1.421875 \nQ 29.59375 -1.421875 25.265625 0.953125 \nQ 20.953125 3.328125 18.109375 8.203125 \nL 18.109375 0 \nL 9.078125 0 \nL 9.078125 75.984375 \nL 18.109375 75.984375 \nz\n\" id=\"DejaVuSans-98\"/>\n     <path d=\"M 41.109375 46.296875 \nQ 39.59375 47.171875 37.8125 47.578125 \nQ 36.03125 48 33.890625 48 \nQ 26.265625 48 22.1875 43.046875 \nQ 18.109375 38.09375 18.109375 28.8125 \nL 18.109375 0 \nL 9.078125 0 \nL 9.078125 54.6875 \nL 18.109375 54.6875 \nL 18.109375 46.1875 \nQ 20.953125 51.171875 25.484375 53.578125 \nQ 30.03125 56 36.53125 56 \nQ 37.453125 56 38.578125 55.875 \nQ 39.703125 55.765625 41.0625 55.515625 \nz\n\" id=\"DejaVuSans-114\"/>\n     <path d=\"M 45.40625 46.390625 \nL 45.40625 75.984375 \nL 54.390625 75.984375 \nL 54.390625 0 \nL 45.40625 0 \nL 45.40625 8.203125 \nQ 42.578125 3.328125 38.25 0.953125 \nQ 33.9375 -1.421875 27.875 -1.421875 \nQ 17.96875 -1.421875 11.734375 6.484375 \nQ 5.515625 14.40625 5.515625 27.296875 \nQ 5.515625 40.1875 11.734375 48.09375 \nQ 17.96875 56 27.875 56 \nQ 33.9375 56 38.25 53.625 \nQ 42.578125 51.265625 45.40625 46.390625 \nz\nM 14.796875 27.296875 \nQ 14.796875 17.390625 18.875 11.75 \nQ 22.953125 6.109375 30.078125 6.109375 \nQ 37.203125 6.109375 41.296875 11.75 \nQ 45.40625 17.390625 45.40625 27.296875 \nQ 45.40625 37.203125 41.296875 42.84375 \nQ 37.203125 48.484375 30.078125 48.484375 \nQ 22.953125 48.484375 18.875 42.84375 \nQ 14.796875 37.203125 14.796875 27.296875 \nz\n\" id=\"DejaVuSans-100\"/>\n    </defs>\n    <g transform=\"translate(382.295552 16.318125)scale(0.12 -0.12)\">\n     <use xlink:href=\"#DejaVuSans-98\"/>\n     <use x=\"63.476562\" xlink:href=\"#DejaVuSans-105\"/>\n     <use x=\"91.259766\" xlink:href=\"#DejaVuSans-114\"/>\n     <use x=\"132.357422\" xlink:href=\"#DejaVuSans-100\"/>\n    </g>\n   </g>\n  </g>\n  <g id=\"axes_5\">\n   <g clip-path=\"url(#p5524d7cf30)\">\n    <image height=\"75\" id=\"image180d74f85a\" transform=\"scale(1 -1)translate(0 -75)\" width=\"75\" x=\"7.2\" xlink:href=\"data:image/png;base64,\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\" y=\"-112.272608\"/>\n   </g>\n   <g id=\"text_5\">\n    <!-- horse -->\n    <defs>\n     <path d=\"M 30.609375 48.390625 \nQ 23.390625 48.390625 19.1875 42.75 \nQ 14.984375 37.109375 14.984375 27.296875 \nQ 14.984375 17.484375 19.15625 11.84375 \nQ 23.34375 6.203125 30.609375 6.203125 \nQ 37.796875 6.203125 41.984375 11.859375 \nQ 46.1875 17.53125 46.1875 27.296875 \nQ 46.1875 37.015625 41.984375 42.703125 \nQ 37.796875 48.390625 30.609375 48.390625 \nz\nM 30.609375 56 \nQ 42.328125 56 49.015625 48.375 \nQ 55.71875 40.765625 55.71875 27.296875 \nQ 55.71875 13.875 49.015625 6.21875 \nQ 42.328125 -1.421875 30.609375 -1.421875 \nQ 18.84375 -1.421875 12.171875 6.21875 \nQ 5.515625 13.875 5.515625 27.296875 \nQ 5.515625 40.765625 12.171875 48.375 \nQ 18.84375 56 30.609375 56 \nz\n\" id=\"DejaVuSans-111\"/>\n     <path d=\"M 56.203125 29.59375 \nL 56.203125 25.203125 \nL 14.890625 25.203125 \nQ 15.484375 15.921875 20.484375 11.0625 \nQ 25.484375 6.203125 34.421875 6.203125 \nQ 39.59375 6.203125 44.453125 7.46875 \nQ 49.3125 8.734375 54.109375 11.28125 \nL 54.109375 2.78125 \nQ 49.265625 0.734375 44.1875 -0.34375 \nQ 39.109375 -1.421875 33.890625 -1.421875 \nQ 20.796875 -1.421875 13.15625 6.1875 \nQ 5.515625 13.8125 5.515625 26.8125 \nQ 5.515625 40.234375 12.765625 48.109375 \nQ 20.015625 56 32.328125 56 \nQ 43.359375 56 49.78125 48.890625 \nQ 56.203125 41.796875 56.203125 29.59375 \nz\nM 47.21875 32.234375 \nQ 47.125 39.59375 43.09375 43.984375 \nQ 39.0625 48.390625 32.421875 48.390625 \nQ 24.90625 48.390625 20.390625 44.140625 \nQ 15.875 39.890625 15.1875 32.171875 \nz\n\" id=\"DejaVuSans-101\"/>\n    </defs>\n    <g transform=\"translate(27.931843 106.293297)scale(0.12 -0.12)\">\n     <use xlink:href=\"#DejaVuSans-104\"/>\n     <use x=\"63.378906\" xlink:href=\"#DejaVuSans-111\"/>\n     <use x=\"124.560547\" xlink:href=\"#DejaVuSans-114\"/>\n     <use x=\"165.673828\" xlink:href=\"#DejaVuSans-115\"/>\n     <use x=\"217.773438\" xlink:href=\"#DejaVuSans-101\"/>\n    </g>\n   </g>\n  </g>\n  <g id=\"axes_6\">\n   <g clip-path=\"url(#pb4430579b6)\">\n    <image height=\"75\" id=\"image7a9b67ba08\" transform=\"scale(1 -1)translate(0 -75)\" width=\"75\" x=\"123.652174\" xlink:href=\"data:image/png;base64,\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\" y=\"-112.272608\"/>\n   </g>\n   <g id=\"text_6\">\n    <!-- bird -->\n    <g transform=\"translate(149.391204 106.293297)scale(0.12 -0.12)\">\n     <use xlink:href=\"#DejaVuSans-98\"/>\n     <use x=\"63.476562\" xlink:href=\"#DejaVuSans-105\"/>\n     <use x=\"91.259766\" xlink:href=\"#DejaVuSans-114\"/>\n     <use x=\"132.357422\" xlink:href=\"#DejaVuSans-100\"/>\n    </g>\n   </g>\n  </g>\n  <g id=\"axes_7\">\n   <g clip-path=\"url(#pb1891b5aae)\">\n    <image height=\"75\" id=\"image6aa2709eb7\" transform=\"scale(1 -1)translate(0 -75)\" width=\"75\" x=\"240.104348\" xlink:href=\"data:image/png;base64,\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\" y=\"-112.272608\"/>\n   </g>\n   <g id=\"text_7\">\n    <!-- car -->\n    <defs>\n     <path d=\"M 48.78125 52.59375 \nL 48.78125 44.1875 \nQ 44.96875 46.296875 41.140625 47.34375 \nQ 37.3125 48.390625 33.40625 48.390625 \nQ 24.65625 48.390625 19.8125 42.84375 \nQ 14.984375 37.3125 14.984375 27.296875 \nQ 14.984375 17.28125 19.8125 11.734375 \nQ 24.65625 6.203125 33.40625 6.203125 \nQ 37.3125 6.203125 41.140625 7.25 \nQ 44.96875 8.296875 48.78125 10.40625 \nL 48.78125 2.09375 \nQ 45.015625 0.34375 40.984375 -0.53125 \nQ 36.96875 -1.421875 32.421875 -1.421875 \nQ 20.0625 -1.421875 12.78125 6.34375 \nQ 5.515625 14.109375 5.515625 27.296875 \nQ 5.515625 40.671875 12.859375 48.328125 \nQ 20.21875 56 33.015625 56 \nQ 37.15625 56 41.109375 55.140625 \nQ 45.0625 54.296875 48.78125 52.59375 \nz\n\" id=\"DejaVuSans-99\"/>\n     <path d=\"M 34.28125 27.484375 \nQ 23.390625 27.484375 19.1875 25 \nQ 14.984375 22.515625 14.984375 16.5 \nQ 14.984375 11.71875 18.140625 8.90625 \nQ 21.296875 6.109375 26.703125 6.109375 \nQ 34.1875 6.109375 38.703125 11.40625 \nQ 43.21875 16.703125 43.21875 25.484375 \nL 43.21875 27.484375 \nz\nM 52.203125 31.203125 \nL 52.203125 0 \nL 43.21875 0 \nL 43.21875 8.296875 \nQ 40.140625 3.328125 35.546875 0.953125 \nQ 30.953125 -1.421875 24.3125 -1.421875 \nQ 15.921875 -1.421875 10.953125 3.296875 \nQ 6 8.015625 6 15.921875 \nQ 6 25.140625 12.171875 29.828125 \nQ 18.359375 34.515625 30.609375 34.515625 \nL 43.21875 34.515625 \nL 43.21875 35.40625 \nQ 43.21875 41.609375 39.140625 45 \nQ 35.0625 48.390625 27.6875 48.390625 \nQ 23 48.390625 18.546875 47.265625 \nQ 14.109375 46.140625 10.015625 43.890625 \nL 10.015625 52.203125 \nQ 14.9375 54.109375 19.578125 55.046875 \nQ 24.21875 56 28.609375 56 \nQ 40.484375 56 46.34375 49.84375 \nQ 52.203125 43.703125 52.203125 31.203125 \nz\n\" id=\"DejaVuSans-97\"/>\n    </defs>\n    <g transform=\"translate(268.151503 106.293297)scale(0.12 -0.12)\">\n     <use xlink:href=\"#DejaVuSans-99\"/>\n     <use x=\"54.980469\" xlink:href=\"#DejaVuSans-97\"/>\n     <use x=\"116.259766\" xlink:href=\"#DejaVuSans-114\"/>\n    </g>\n   </g>\n  </g>\n  <g id=\"axes_8\">\n   <g clip-path=\"url(#p5b57e7f36d)\">\n    <image height=\"75\" id=\"imagee2a6135849\" transform=\"scale(1 -1)translate(0 -75)\" width=\"75\" x=\"356.556522\" xlink:href=\"data:image/png;base64,\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\" y=\"-112.272608\"/>\n   </g>\n   <g id=\"text_8\">\n    <!-- cat -->\n    <defs>\n     <path d=\"M 18.3125 70.21875 \nL 18.3125 54.6875 \nL 36.8125 54.6875 \nL 36.8125 47.703125 \nL 18.3125 47.703125 \nL 18.3125 18.015625 \nQ 18.3125 11.328125 20.140625 9.421875 \nQ 21.96875 7.515625 27.59375 7.515625 \nL 36.8125 7.515625 \nL 36.8125 0 \nL 27.59375 0 \nQ 17.1875 0 13.234375 3.875 \nQ 9.28125 7.765625 9.28125 18.015625 \nL 9.28125 47.703125 \nL 2.6875 47.703125 \nL 2.6875 54.6875 \nL 9.28125 54.6875 \nL 9.28125 70.21875 \nz\n\" id=\"DejaVuSans-116\"/>\n    </defs>\n    <g transform=\"translate(384.718052 106.293297)scale(0.12 -0.12)\">\n     <use xlink:href=\"#DejaVuSans-99\"/>\n     <use x=\"54.980469\" xlink:href=\"#DejaVuSans-97\"/>\n     <use x=\"116.259766\" xlink:href=\"#DejaVuSans-116\"/>\n    </g>\n   </g>\n  </g>\n  <g id=\"axes_9\">\n   <g clip-path=\"url(#pe1a4c2dc79)\">\n    <image height=\"75\" id=\"image9a5d89d06c\" transform=\"scale(1 -1)translate(0 -75)\" width=\"75\" x=\"7.2\" xlink:href=\"data:image/png;base64,\niVBORw0KGgoAAAANSUhEUgAAAEsAAABLCAYAAAA4TnrqAAAABHNCSVQICAgIfAhkiAAAA/xJREFUeJztm09oHFUYwH8jWQ9bcHtYsRGagKtkla4tFamlCI1CBZNDldZDPTRg1N56SBEv4l/ES3rqyaZQBeMhqOshEVPRHCJasRXdgBFMxRUJwVwWcRAWWQ9v5s3EyU7ymZn91+93ed+8f/P4+L3JLHnjNBqNBs2YuWbKkw807ZIEjuOkOr/Py1lTvvDaKQCyE2+GWge3HH9LCmvqWZw4s6pjkwAMXJ5I/s6roUXc2RqzfPZ75WeXx21d/tAZExS9XTQfSkvBrE/NEqDJEtAX1/hbrQbAQBp3zgThHeQAWKOWxp0ifO+Vz5+dsnUfXMybIFcC4Pzoo7ZteOQZQM0SEWtWJrdHNtuKVxa20TcfhHdlDgKwVv9Cdr8d8mFI5DfOvQXAmWPrAFyoLwaN82ZvqVkCYs2qZ7Oy2a565XbMCpHL9ZtgXTYuSV6qeuXUVKTtgjsNqFkiNFkCYrehW5X9KXerfwCQ5XbRuE+uvQeAMzgtGtcqfvFKNUvA5mZVTLHXf3OshNpKzSebm78EwInxF01FvnnfDaTy1ps8apaAzc0qfw1AcSC74RqA0kNNJ+sfqJtgu0Z1GWqWAE2WgGAbht8SXO/CXfLKfiL9ctHJjgzvM8HKjwB8Wb5q2z6+fsMMz7oAnDj5uG2rVurylbcBNUtAYFY5VLv8jSmLmY3XAOXHTHk6Olm9+hMAe+9+EoC1mBu/PTUpXGr7UbMEWLMWZj6ylfsy5rmSP3gUgPXlBdu25PU7evqJyGRz5Vkg3qhuRs0SoMkSYLehu75kK2vFIQDyefMwr+WCf/K5y36/6DZ89/pqpK6XULMEWLOGSsE/Jwqnxkww7F0zFoyYvth0Mjdb9IKVpn26GTVLgDWrcHwkqB3+T6/QdcEd4WZFzRKgyRIQe+RIym3ObgD+bNGZhVajZgnoo/KXiUq7ZCO9ce+/ft5W9apRPmqWAE2WAAdoAEif8606YdxJqFkCNFkCNFkC+hq//r93Un+cM3jzPLvULAGaLAGJ/jbs9dcJNUtAosk6TInDcafduhw1S0DsAVwphwrmS4mvVipb9OxO1CwBmiwBO96GV859buM9uR49TOqhZgnYsVlHjj9i44XZuZ1O19GoWQIS/bnj88quUQBedWeTnrqtqFkCNFkCUtmG9XfMOfihsftsnX/M7e+kb9ZC1CwBqZjl893kpzbOrJqPkA9MPgfAP2ndNEXULAGpmrUZVx5+FoBji9Gv3DsdNUuAJktAy7ehz6X7n7LxeGWmHUsQo2YJaJtZG5j9GQBn9J42LyQeNUtAZ5jlUZ/+AYBbn96/Rc/2oGYJ0GQJ6KhtyLIpHrx3d6jSfJn/LW7r1+OxOPE7oGaJ+BewC+x1fAjKxwAAAABJRU5ErkJggg==\" y=\"-202.24778\"/>\n   </g>\n   <g id=\"text_9\">\n    <!-- cat -->\n    <g transform=\"translate(35.36153 196.26847)scale(0.12 -0.12)\">\n     <use xlink:href=\"#DejaVuSans-99\"/>\n     <use x=\"54.980469\" xlink:href=\"#DejaVuSans-97\"/>\n     <use x=\"116.259766\" xlink:href=\"#DejaVuSans-116\"/>\n    </g>\n   </g>\n  </g>\n  <g id=\"axes_10\">\n   <g clip-path=\"url(#pfdc5e2e715)\">\n    <image height=\"75\" id=\"imagefe7d4f82e8\" transform=\"scale(1 -1)translate(0 -75)\" width=\"75\" x=\"123.652174\" xlink:href=\"data:image/png;base64,\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\" y=\"-202.24778\"/>\n   </g>\n   <g id=\"text_10\">\n    <!-- frog -->\n    <defs>\n     <path d=\"M 37.109375 75.984375 \nL 37.109375 68.5 \nL 28.515625 68.5 \nQ 23.6875 68.5 21.796875 66.546875 \nQ 19.921875 64.59375 19.921875 59.515625 \nL 19.921875 54.6875 \nL 34.71875 54.6875 \nL 34.71875 47.703125 \nL 19.921875 47.703125 \nL 19.921875 0 \nL 10.890625 0 \nL 10.890625 47.703125 \nL 2.296875 47.703125 \nL 2.296875 54.6875 \nL 10.890625 54.6875 \nL 10.890625 58.5 \nQ 10.890625 67.625 15.140625 71.796875 \nQ 19.390625 75.984375 28.609375 75.984375 \nz\n\" id=\"DejaVuSans-102\"/>\n     <path d=\"M 45.40625 27.984375 \nQ 45.40625 37.75 41.375 43.109375 \nQ 37.359375 48.484375 30.078125 48.484375 \nQ 22.859375 48.484375 18.828125 43.109375 \nQ 14.796875 37.75 14.796875 27.984375 \nQ 14.796875 18.265625 18.828125 12.890625 \nQ 22.859375 7.515625 30.078125 7.515625 \nQ 37.359375 7.515625 41.375 12.890625 \nQ 45.40625 18.265625 45.40625 27.984375 \nz\nM 54.390625 6.78125 \nQ 54.390625 -7.171875 48.1875 -13.984375 \nQ 42 -20.796875 29.203125 -20.796875 \nQ 24.46875 -20.796875 20.265625 -20.09375 \nQ 16.0625 -19.390625 12.109375 -17.921875 \nL 12.109375 -9.1875 \nQ 16.0625 -11.328125 19.921875 -12.34375 \nQ 23.78125 -13.375 27.78125 -13.375 \nQ 36.625 -13.375 41.015625 -8.765625 \nQ 45.40625 -4.15625 45.40625 5.171875 \nL 45.40625 9.625 \nQ 42.625 4.78125 38.28125 2.390625 \nQ 33.9375 0 27.875 0 \nQ 17.828125 0 11.671875 7.65625 \nQ 5.515625 15.328125 5.515625 27.984375 \nQ 5.515625 40.671875 11.671875 48.328125 \nQ 17.828125 56 27.875 56 \nQ 33.9375 56 38.28125 53.609375 \nQ 42.625 51.21875 45.40625 46.390625 \nL 45.40625 54.6875 \nL 54.390625 54.6875 \nz\n\" id=\"DejaVuSans-103\"/>\n    </defs>\n    <g transform=\"translate(149.084642 196.26847)scale(0.12 -0.12)\">\n     <use xlink:href=\"#DejaVuSans-102\"/>\n     <use x=\"35.205078\" xlink:href=\"#DejaVuSans-114\"/>\n     <use x=\"76.287109\" xlink:href=\"#DejaVuSans-111\"/>\n     <use x=\"137.46875\" xlink:href=\"#DejaVuSans-103\"/>\n    </g>\n   </g>\n  </g>\n  <g id=\"axes_11\">\n   <g clip-path=\"url(#p0eeb5ce259)\">\n    <image height=\"75\" id=\"imaged7663cf1e7\" transform=\"scale(1 -1)translate(0 -75)\" width=\"75\" x=\"240.104348\" xlink:href=\"data:image/png;base64,\niVBORw0KGgoAAAANSUhEUgAAAEsAAABLCAYAAAA4TnrqAAAABHNCSVQICAgIfAhkiAAAB5VJREFUeJztW29olVUYf27dC/mCvuAu5IW80C7khA1xxIY5whUbptRMNsqwZRlZkIX2xQj/FARR6NI+WNgI/WAfHDIxpZTwElo4aEMccRdcpSHMD1fhIlyDFfXh/J57fvfund2ji5yd35fn7DznnnPe8/7Oc57nOe9ip96Sv0REhoeljGsFI3M5I1MZqwsg60MjJyetbhSyowFtL1pdRxKFkhEDE1YnregLfTZkGsqqMDCVA4Pny3U6JrqSQ1YlXW0JERFJlkyjBWmrGyuZ2S9Km8p0ULTjZExddth0VqL1CJqNvE88akbs8EuGWQmqzJ4xsh5sSAZWd0kL+MEc+uElMLIXb2IRsUeJVR5o0OqOQebajWxqsgPmcoY/J8/Y9qGyBQwbHbe6em2DAUFMERGZwPxGQKj31pAyacZJYOhM0qry+J1nlgP8YjkgHoKJQ2dt5TBoHWLLhGTE61JGBpCT1kbKcmyPEHstae20yAQ60W3YZFVdGC+PrTaeL5V1AbZFkuag3epcjtI2/FUL2DrzC1anm64bHTQ12UkUCqaTiQkjc/RcepJ4ZjkgnsPxPkhHpb78XN7IAhnxEEZ7IVhUsiSQNN5YPDA0KCbsDwt4rQHap1I0ix4j2nYYeYiYkggrJc8rlY9+KBGRB6ueRUSkDrK7xzCqnqx4GJiWpSIOlFOWkqvaTTvPLAfEnguM6zBBDGlQuwR7USQXQE/tpdjuBfrdGNrNAwv+oH3/PtkOEZHXqPzFzyicwKR2TJ3ofCo3QnZBZkmnpLwJuZycUkUBc1nRaetSeNYs5pClua/A83hmOcAvlgPiCJMkRUez2mWt4vivHu3ziMfeieq1EFVpsBNy1zdUCY9fjhhxP6n+hLxOdeo6tCGmzFBsqNtwFLoiHRYFmAmNQs5RFKG7rhuyUUgHpWeWA2K7242Bv0pGvA4n6k2saB0x62NkIq7U0PluKm+Fe1CmIjusB43of9tITkh0RzTfBdkIw9vN/gEOnBeRKSkRy9VTuIhnCCnm1XhRndol1OUFSM8sB8TVOST/sbxH1fFM0NupZtRvVE5vQ+EjI45xwyNVkqnygRGtePP9NN6INu+xdbvQxxbM8zPqaiNkCIc1Qa5DR6cxjgszhruXcpbDjWDidjjn12QqPLMc4BfLAXGN7dg9uIk6ZGYrjP8yyB9xNMs2q3vsWSN/wt/sdfdB9mpFOymxZTQ85YC/RQvsiWNLLsB2HCVV715IuBNPHbG6z780I7S0yhRkhyv/jjrAPLMcEOk6qLHXGC9FR2xvGwo4fvmcHwITv0ZurE8ImjXQt0r5rEkweQQOJN0jSKPm2VZTXzqmXohsJx0Ym3/CyGdox/wilYhyfm8FzywHxDWxz66DZhtSVddXIiKj2NvqEHLCqEWv0PA3vVRJKFtOQb5Kup7j5veTJ9Fmv1W+q5OizsBAtbMJ9n6RsVC3pZpNDGbT03iOdW9EjOczpe7wi+WA+BiMZB3dk+klxuTU9nIW7fW+MEOedemwkeqAn6ab7FVqoJGilQb2BcaMSGzFBOj25AAG5KMd7oBagCE6EHTsAcgH6Ge/Vz6KLKEpbEYU8fwGIznLoS6QZ5YDYjubjeswjy4E9I0FIEFIrNMLhzwyBZvJKd2CmFBjtS6rkuWIQftx7LP9VKSTlVJEpO+7F1BJweRiY8WzOEl4B+yB/Dai/5VII3fAvWimZ96DM+X4RZkWnlkOiO3rNMwKaZXVddA3xuGHtju5b6ru+L8wwf2wia/vJeNYNLex44uNheLsxjlIdV8y5MyGsKEBXI8EXaWpLR7TtpyFwUJ4ZjnAL5YDYutDsw0bOVYD7ZLYckkyuJMw1JquPXfQ6r6aoUmtp/JpyI20LT48YOSxDUZuovZ92K2aJh4gL+QyRSIiIo9SWU3OBZkenlkOiC0Tw6wm+vZA40Q93hvJeQtwgqvRS1DWYRPivmrnr1Y8BNlCdUcj2u3Xay6wp8K/xaTXDMqMwzPLAX6xHBBX92qctlMrbojngNIFcreToP4Qttwiiv/uFFeq5HToR8r4E9xBvkIpmsu3OfbDNfzeM8sBsbUJY+DHKcBKw8A3gWHzyPhfhdd7Hh7vumarG0JmYKZciOnwCKRmGK5P17AKmkauJYUcBc8sB8ReThpm8eeO4yhnYNBCYpZ+iaJpYs4erALL3gTDavkeYjbBM8sBfrEcEB+P+PBM0y76rxwJ2mtp/d4U8eIgpTkC9KU72vVe7m6HZ5YDYnMRGy6kSiWSfk64lHT6AZgmIoqUDUjhtvrTE1MHWgkZle6dLfDMckD8Bgp8c6ufCKqfmiVdAgZJwyTKRpdDoSjnbzYzSuGZ5QC/WA6ICQw8405jqLmQN27ZavbBM8sBsSdXG2Z9H3HcK+415/J24ZnlgHi6E98SnDg8RXmntoc/wK0153Q3wzPLAX6xHBATpJUjv1y7B/A4JS5/mJi+XS3wzHJA/F5lVBnFf27CiHLItc4zywGR4c7/EWuRoEvhE8oCZYCTuEj2zHKAXywH+G0I6L8Gaiq94jtaSM8sB3hmOcAzywHx/3oCdwu8zZph+MVygN+GgP7XbrP34GcGfwObrdeSjS2PKQAAAABJRU5ErkJggg==\" y=\"-202.24778\"/>\n   </g>\n   <g id=\"text_11\">\n    <!-- frog -->\n    <g transform=\"translate(265.536815 196.26847)scale(0.12 -0.12)\">\n     <use xlink:href=\"#DejaVuSans-102\"/>\n     <use x=\"35.205078\" xlink:href=\"#DejaVuSans-114\"/>\n     <use x=\"76.287109\" xlink:href=\"#DejaVuSans-111\"/>\n     <use x=\"137.46875\" xlink:href=\"#DejaVuSans-103\"/>\n    </g>\n   </g>\n  </g>\n  <g id=\"axes_12\">\n   <g clip-path=\"url(#p464ac8ad38)\">\n    <image height=\"75\" id=\"image68536aba28\" transform=\"scale(1 -1)translate(0 -75)\" width=\"75\" x=\"356.556522\" xlink:href=\"data:image/png;base64,\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\" y=\"-202.24778\"/>\n   </g>\n   <g id=\"text_12\">\n    <!-- car -->\n    <g transform=\"translate(384.603677 196.26847)scale(0.12 -0.12)\">\n     <use xlink:href=\"#DejaVuSans-99\"/>\n     <use x=\"54.980469\" xlink:href=\"#DejaVuSans-97\"/>\n     <use x=\"116.259766\" xlink:href=\"#DejaVuSans-114\"/>\n    </g>\n   </g>\n  </g>\n  <g id=\"axes_13\">\n   <g clip-path=\"url(#p15284b74fe)\">\n    <image height=\"75\" id=\"image70a5a04766\" transform=\"scale(1 -1)translate(0 -75)\" width=\"75\" x=\"7.2\" xlink:href=\"data:image/png;base64,\niVBORw0KGgoAAAANSUhEUgAAAEsAAABLCAYAAAA4TnrqAAAABHNCSVQICAgIfAhkiAAAClZJREFUeJztXF1sXEcV/hbtRu5Wya2STeMN9aLabWMhLxAT2Y3iSrZKHCl5KJVikPtgSyUShOC0iVQrUqvKiCChRlVLQpNKOJUMkisggA2kqmyC8xDUugJXxVG9AdyKdcomsEZcSjYhq2h5OOfcOXt97WZs8/Mw38vMnXPv3Lkz3zlz5u/G1ne+UQGAt04+CEHLV98EAOzI0PWvi8lA9jc/QZEEpyVgUOa0ch4LwTeWynydVLJi9XP515RomCOtJi3VxVls4awbVV4+58Vh0hTw3hTF38+XOB8vkD2QpLTRkw8BAC5N/DCQHR2m8n0s4qscFkHsyW9/UAGAFw5uDhIPHf8zAODFEWFIyjxRDoVe2cjALeVzy6FkREm+L2CWaVWUufWFDZ6iq9xfUnkFz3FaWZUhwc+mmLlFdb9kwSyqyrMoZeAHkn4gOtBGMscsC7jKskDMGXiCM/CrjNgD+/9SAYBi0RjJFLfAjga6Hs8b2eWcMCrCSHoUX+tRi32Yr6KdZE7h2JAR+QdW8g2A9wMTz6QBAOuZYV9KmfI93kpl9zJUvpIy/ok2YlSmY2H2Lw9S6Jhlgdin95Pr0Jo2LTBZoBaY5y79cjGx8Enpoqu6bWEbBTXKLHlsE7yG+wAAv3/2LpWZj5Xgiyr+nZ/+BgCQKs4CAM7nTPnOsO19eZbKfqug3BfWhpoGYuaN4sLvcsyygKssC8TQ+88KAGxSXvNVnykYeOtKnyQtE6Nw9u9GVhLvOezmw3j16U9QOHSfKsbssgpvoMxE6zkKC2IS0uo2cXu4XElVPi9Z/Zx2bfj7HbMsEEeJau2qNtQBk2TspQww3w9xTpMR7oEws0qmxpcAAO1IrpRZB1UR2JOW8Z/2fTN0UZOmctWnzDe/Oy1lZ6OfNmUXN8QxywJxUfe1iTVB4oeoAABqWJbxTPPMMmtuFWVYodkjw50ChXqiIGDrnRyeXVnJq/C8iSae4QiXL6GoVSAvtClLrO7puDMQnS78EQDwToG+b7uyt33NpBWOWRZwlWWB2PrH/lUBgDrPqOGcfxMAUMvuxHzBGHiZNEgmuWNQLBePfS9PCOYKRg+vsOuwjvX+3ZGPr9pHVCFDrsPDWVKdRuWk+2xCJCyVjAlp5P6nlot8XWVZy6FjlgXiKTbGad/U8nV2IxJsxPubjWPXnNkIAChzi00qj6O1jcKWNLH07SljQM8MzQAAUrMTAKpt/zSHry//OwzyowCA7J6vU1nKU0bETJpnrUh4RmPqWItKPH5UhERH2o0NrRH/cgfVrpfOBIl+gWYs5/IU7u79VCBr4NvYOcDOiExPjJHN6//GiSDtBlNpU4GYdXWlJV8UlP+LhR6+VpNWkxyKw6q9noI423ytfOi1WTfcsYarLAvEs/44AGDnnt1B4vgwpSV8ovDo828HMs9bBwBoaOsFAGQ69SQe4cwT2wAAN3LTQdo9TPkWtpw/WY3SR8Gjzmiwi3qeYv69QDTuk7FP81RzU4MZn74ySarm89hXa2i9dwcAxywrxG4e4YGgXliWaR+pXj3rK05o5x4Ks8bEf2bjkwCAd5Z44XYO31hGYW8H23ix5VgXhUdPGSflXOjee1S8m0nWkqXw/KSRtTRT6JhlgVilQsMdYI1KvsmhzDNNKdkZCi6MAQCKPzItt/H44i+SeQFeXcMhJXv/tot7+zjFoZ5F61ri/iFmVM9jFGpmyRDPMcsCrrIsEKtUKpVlPenTZFn9XfcHSaJOmzh8RN0u/YL49LeW9dLbxwE22F/Rsw68Ej0+RT3WBbUl49h39wMAtvaejMiNqsgxywLx/iEy5u3NxsCfn6K0Fk7bodYWZB6/xOPyKOPcw/dMK3dkVWYULPBSjkK1Hwc/20cLGxfy5Cwn1ILF9DSNdks5YtHp6Vgg8xMUd8yygKssC8Su3SQDr5f4SqFlvxODvw1kffs+W51BLIYwnuogl/fYxNQC2f8Sx/fRhriDg5MLZJU/8Zgi8+AC2dFv0fc7ZlkgXrVozAinjeaz5oINZx8b/alfmY1kp0cu8fNMzf8zZrV2HQYAbMvRKCSVUfsgIhgleOYIaZNjlgVi19gpHVALxAM8oSCOZP+w8Vs38O6ZPbw40RSRqexv/dpmY89+vrL9aquCmZk/AABGL9CYN9O5K5B1ZyIfqYJjlgVcZVkgNsZqOJUzic1svKNWbmQ4NcfLO0llI+s4NNMifw1ih9bcDQCQLZ7/LY/+XtVZvXeTzImsTD03ZmRPs1lJ6S1KIThmWSB+nnv3O1SNSloTT6cq8kDsoPS6j6vWkZHWc53y3MZA9gK36tOPPgoAeH1kZGUl/wg83Ejq8ePfzSyQzXNYr8auYUbp81GiKY5ZFojneOY4qWpWDk0c4u7+sDp10BLKIK/mhGSCeYDZ1tdpZOJilFKap6uP9UniwS9nFjJKvBexrX17Fs/Hi0hzzLKAqywLxDPctRaUsZO0EvN2QrkVLXqTMarpmmZLKEPDabUJWUaJiWw3x07hP4GmfS8BAC7ytT7MlwiFdUrWgGroAYcz8MtAXAx7kzLw19lSb+C084ohvHEXWzjNm70WyMoFarNRPhhVKJqx4fd7+Z6Oh1an5Isg+/kvAADOMqUSatdccDpbtEk5rHMhi55T3yxV45hlgXgT1253m0l8lfaDQfbO6Pmtcd4Ys7NEJ/Rf6TBN97knngIAXE7SQGkdVN/cS2d2ylF9cginfvFBEC/zhouDu+5e9P6a1iNBfAvb1OCAhHqfaIic9tWr1bWy559ptLXZyC7y+MgxywKusiwQ7444Eyxpchhe7UlDnbgOmc0I43BnOwCgsZFWd0tpY+C/x+5HMfxQBOZKprf5Zhdtluv3jD7d8KtnErc01AbxtJyIEeugTIj8TUDGEHo42LjEbEMTP+CYZYFgWllXrDTKJQ5fVcxqYe9t7xItIewZUN2vnMKTk3r5sTcD2blnt0NjYsZMY7czk8fHzFivc9cnOUaFqFSM+yK4yO+ZLJi0R5hZ4cN8HwXxyR2zLBAbZGbpuQBpDGkBXzl2wpo2Zla9em6Owwlm0SV95jL03x49fyQzErzdHLVq8WCe89qqCljgAqaXmMCQcp5WWpHl+3dHUEu+WazhvDKLOc7MMcsCrrIsEDvLarhbJco2HdG+qN9TiRZpRotKXgld6/slq1GVZ5F1oDniX0BysU6p7Ryrd3toBgRAMM2Ql58ORey0lvwLyo8RUyPfo3/hJQ84ZlkgLg1cdZxZ0jjSE7EfYiks1TVLVhmVpxdyJNV/ggLDW9KLC/yC9oj8Z5lRoxHHtGWeTTRFez+tXnX5EvojOBPHLAvEhtlm6aV+mV3cwWGU7EroWt8nixoDyiGUXz0ENk8xpU7+AcQtqIdE10NsAMxB/jpuffVzAMhPAYQhmpGiMl6EbRTWFeXHJsotEZfGMcsCrrIsEI+y3ZL2VigEjIoEf8RUXfPekGUvKDWUxYywJw8AF0MHS6vUQ1RUJYq6/oPfrX8OJ7dJJ6BHHxKXCYxE1Mdznr4q3wYOHbMs8G9dqxMTZnRFSAAAAABJRU5ErkJggg==\" y=\"-292.222953\"/>\n   </g>\n   <g id=\"text_13\">\n    <!-- frog -->\n    <g transform=\"translate(32.632468 286.243642)scale(0.12 -0.12)\">\n     <use xlink:href=\"#DejaVuSans-102\"/>\n     <use x=\"35.205078\" xlink:href=\"#DejaVuSans-114\"/>\n     <use x=\"76.287109\" xlink:href=\"#DejaVuSans-111\"/>\n     <use x=\"137.46875\" xlink:href=\"#DejaVuSans-103\"/>\n    </g>\n   </g>\n  </g>\n  <g id=\"axes_14\">\n   <g clip-path=\"url(#p87428a4df4)\">\n    <image height=\"75\" id=\"image82a408a0ce\" transform=\"scale(1 -1)translate(0 -75)\" width=\"75\" x=\"123.652174\" xlink:href=\"data:image/png;base64,\niVBORw0KGgoAAAANSUhEUgAAAEsAAABLCAYAAAA4TnrqAAAABHNCSVQICAgIfAhkiAAABKtJREFUeJztm09oXEUcx78rfaDbw4oJyBYbqYl0EXOJ0KU0Ld0KFURxK70YDxEMYiwFoVFIBas99KA3LwX/1YBGpJJa2vTgZQ9uEKVNDluaeNiGBulS2Aov4KvwkPUwb37vbTebze/NvC6Jv88hOzvz3m/mzX5n8pvfzEs1Go0GACzUQAztSEFo5aFuN2AzIZ3FQDqLgXQWg2064XSzFZsEURYDUpbvd7MZmwNRFoNtnS9JhpeLo5Q+WnwFALCvUAAAfPThKSr7duqzlnsP5A8DAHK5HABgZzZLZcXCHgBAbaUKAFhaukllc6USAOCH+d9itVmUxUA6i0FKrw2vR9aGgwmsDb/87hwA4M2RN1j3pVKtbdk7pIbrr/OllrLFCzMAgFzxSEfbC7PXKP3W5EkAwNXKz22vF2UxIGX9Xg0z8wNmynosNwwAuLv4i5EdYG1lbYTHAzd74doNyssODqiEpz7ef/0dKvt09mxHm6IsBuQ61N2GNaNff3POmq1dmT4AwLK7wrrvDpSXveO5p621RZTFQDqLQbg29OwtDvfpidQCy26t80UPCFEWg8ja0J6yetPWTOGJdB4A8KdXtmc0JqIsBqQsz+KcZZMPTn8MABifeL7LLRFlsZDOYkDD0HVdY2O7BgvGNu7ntZFDAIDxCeum2YiyGEQmeM/Y2HJFxZe0RjPrXh1di7aPLGSybYseOKIsBqSsVddcWZp1FeUFikpvLE5Vq5lGQ8LWvDp6BgAwM3UsliVRFgPpLAZWJ3iNXgtEz0/MTasQc09QT27shQ3Z+n76PLP2IQDA3uLb6ttgP5W8eFiFu2em3gtyeM8symIQOetg7pRqLpZvAQCODj9Jebt7lQ9ws8yLHpyYOMmsXT2H664Gn+Fzhec59KQvykoM6SwGNAxr9T+sGXXSrdG/3n4Var5eat1FXp9q50uaaw/a8EjT9+ZkvHCUKItBuG9Y5+3LrctaJ+PcvwEAB8fUUaOF0iIV9WTV3mBfbjsAYG72tkHldQDAPe8eAMDzwgneo8lelJU4kR1pe1tOV6aUI5ldylOe56lf/OD4SwCA0vkrVHZisjlY9TB6DWoP3IFA3VFn2zVc/4qyGEhnMQhDNDV7uzufn31XJSpjlPfJhS+arsnn97S9/1mEEb+rwYS9cbzgrx5yPVQS/t/Rrg1v1SLKYkDKWqlyf8HOlCPrwEcHlFNaunwJAFA4dKDtfceHRyg9Wp6MVbfvBwrzo5O62XskoiwGpKx/3SXrxof6c5S+Uf0JAFDY/0zn+/p2Gtetow0OnqI8n1QWL8IiymIgncUgkSNHmt19YUiXEzyoVMwjIGlHuQd+ZJ3q0ASvVwi89bAoi0FEWfY2LDSrfjybP1bnjet2HKUiHV4OMoNEvNN2oiwGic5ZX5WnY903480a1+0Hz+M4EUeU5i+JZyWOdBaDRN9k/Sump2yDtc71hxspMgwTp2vvSCcNaSjilHoxXRmNKIvBllWW3pzIZEI13a3rmJ3MWYkjncVgyw7Df4L9wui+oemBPVEWgy2rLARnHHw/3N0O3Yh4ChNlMdi6ylqDcM4SZSWOdBaD/9UwTFPUQc46JM5/Z7o8+TmOGewAAAAASUVORK5CYII=\" y=\"-292.222953\"/>\n   </g>\n   <g id=\"text_14\">\n    <!-- cat -->\n    <g transform=\"translate(151.813704 286.243642)scale(0.12 -0.12)\">\n     <use xlink:href=\"#DejaVuSans-99\"/>\n     <use x=\"54.980469\" xlink:href=\"#DejaVuSans-97\"/>\n     <use x=\"116.259766\" xlink:href=\"#DejaVuSans-116\"/>\n    </g>\n   </g>\n  </g>\n  <g id=\"axes_15\">\n   <g clip-path=\"url(#p4919d5fd27)\">\n    <image height=\"75\" id=\"image3624f87ff1\" transform=\"scale(1 -1)translate(0 -75)\" width=\"75\" x=\"240.104348\" xlink:href=\"data:image/png;base64,\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\" y=\"-292.222953\"/>\n   </g>\n   <g id=\"text_15\">\n    <!-- truck -->\n    <defs>\n     <path d=\"M 8.5 21.578125 \nL 8.5 54.6875 \nL 17.484375 54.6875 \nL 17.484375 21.921875 \nQ 17.484375 14.15625 20.5 10.265625 \nQ 23.53125 6.390625 29.59375 6.390625 \nQ 36.859375 6.390625 41.078125 11.03125 \nQ 45.3125 15.671875 45.3125 23.6875 \nL 45.3125 54.6875 \nL 54.296875 54.6875 \nL 54.296875 0 \nL 45.3125 0 \nL 45.3125 8.40625 \nQ 42.046875 3.421875 37.71875 1 \nQ 33.40625 -1.421875 27.6875 -1.421875 \nQ 18.265625 -1.421875 13.375 4.4375 \nQ 8.5 10.296875 8.5 21.578125 \nz\nM 31.109375 56 \nz\n\" id=\"DejaVuSans-117\"/>\n     <path d=\"M 9.078125 75.984375 \nL 18.109375 75.984375 \nL 18.109375 31.109375 \nL 44.921875 54.6875 \nL 56.390625 54.6875 \nL 27.390625 29.109375 \nL 57.625 0 \nL 45.90625 0 \nL 18.109375 26.703125 \nL 18.109375 0 \nL 9.078125 0 \nz\n\" id=\"DejaVuSans-107\"/>\n    </defs>\n    <g transform=\"translate(262.199315 286.243642)scale(0.12 -0.12)\">\n     <use xlink:href=\"#DejaVuSans-116\"/>\n     <use x=\"39.208984\" xlink:href=\"#DejaVuSans-114\"/>\n     <use x=\"80.322266\" xlink:href=\"#DejaVuSans-117\"/>\n     <use x=\"143.701172\" xlink:href=\"#DejaVuSans-99\"/>\n     <use x=\"198.681641\" xlink:href=\"#DejaVuSans-107\"/>\n    </g>\n   </g>\n  </g>\n  <g id=\"axes_16\">\n   <g clip-path=\"url(#pde24869781)\">\n    <image height=\"75\" id=\"image4e4c77e7fb\" transform=\"scale(1 -1)translate(0 -75)\" width=\"75\" x=\"356.556522\" xlink:href=\"data:image/png;base64,\niVBORw0KGgoAAAANSUhEUgAAAEsAAABLCAYAAAA4TnrqAAAABHNCSVQICAgIfAhkiAAABbJJREFUeJztm19o21UUx7+1Rly0ZGqE5qEdUrFxNAoRmkn7YB9Wi32p4hD7sCmoQ4eruqKtsAcfxAoTZA/uZUU7RseWwQquZVRGBSuYIZFRmKkY5jIwFVNZNgxiHPpwzu/e27Tperp0yeR8Xs4vv3N/v9/Nzfee37l/UgfgX1SDSKc9zqbI5nJVqcpauaPaFbidqEO1lHUbosoSoI0lQBtLgDaWAG0sAdpYArSxBGhjCdDGEqCNJUAbS8CdVXuyzjr8v9FZBwGqLAHaWAK0sQRoYwmoXuqwKj7nuFi1WpSiyhKgqYMAVZYAbSwBtRHgW/rIpifIRndZX3Ls1tenDKosAbUZ4ANRe9zXT3ZssDp1cVBlCdgYZfkjZAtz9lyghWyY57ESq8SicK85TP54GgDgznRl2Xrpas7JW4Oczwb4c8a5bmr6EgDg7NNb+UyhfB1WQJUlQBtLwAYFeD9bK/MnT5wHAHTveAwAED/8jfFdOPgxHczR9PJbl342vnebyeadu8+z9XqfO5L0ul8b2wXHN812MU02nfrV+I4Pv891KB8eVFkCNjR1uH/oU3P84UcDAIDoCuU8/e0e/gIA8NPYqPE1xLrooGhV2hQi/XT37wQA+P1WWxle9AgE6YXSFrvH+Lz1kEW2/qCtw9wsBf8vx/nZ8cNODemVosoSoI0loMJjQw7sfa8DAHbuGzCeEFsvKB/jnAcAGgPUrTZxV+vZ/57xBYIU4Y+/scec+6e3m3wh6kf5XNb4giEqPzs9Sc8r2I5fzNPTv52cAQDkCleNr5CnqN8QoHsGD3xufBcHewCoskRUNsA30y/+wukzAIDtkTrj4pzeZNRHDp4yvnAnBfEXo5sBAE3OLb2UYd45V7pu7b40vPJJtiHH56l697ZXAQDXEm4QJ3r27QcABPutuo8+cS8AVZaIisasR/a+CQBoY0W1OL7SUdj2vc+aY6/cJrauirzrUk5WGuXM8yn+7CqN802E2bY5vkW2rd0d9FwnNrZ3PQwAODnyGQDgDKvJRZUlQBtLwM0HeGfr0GsnaLzXxn3ADby5EusSLvn8gHP8A9v+zY+ac88NUff5YOglAMBo4m/jawzfBQDoCmAZR5K/U5nogwAAZ9MTRhNXAABHt923Qg0JVZaAm1ZWz6lfzHFH7xYAQISHau5acoolNZ+mZLQjtsX4FtjXxGM1v3Ndmm/yvDO14L0A0hz0Q46KvFTBS1O/TlrVtUZIdSG+19uDI8b32yfDuBGqLAHrTx2ilIBGHIV4g3/vV72c+dP4ZmZomctXpELBgB3yNzbTzMBlvjCft2p4hmOQHZhYfKwodz7LS0anxr6jOgWsThOz5D0/8HL577UKqiwB2lgC1t0Nt77yDoClE2hfxUn6QV5iyeXSxhfgGYVwN60++3y28yxkrvARRfNC1iYYcy2UMlx1cw7uWY3cDc9l7DtqZjIOAPg+foxPTEi+1qqosgTIlRUjZfj99LOmknbS/1ycpmTbO9sBANmsXS7w5UlZc9lxAMDZ+El7T56DejxG1/mWzDPROG7KKf/H+CEAQEMX7Ym4VnBkl5gUf6W1osoSsO6ktH7XEACgNWRnny6M7ClXvPbxQiirHOGY9eWoV6iyBGhjCajNLUcbRZhyjnpeBLnuzkjyiKI+SBPg1+OHll2uyhKwRmW5k0P5sqUqhzva88Z2a3yuVzzM8w9Fp+68l2K9qLIE1FjM8naiReypIiechcyy0nfvoE1vf03MOOVlG9QkqLIEaGMJqLFuyEsXMacbJuLVqcoKqLIE1MY/LAwcnFPLg/kSeNcN8rcijQEASmJVWQIqoCxnqnTFJdRyuDshvJSBM8p8dlnpJXTyPvlJL55txB843USclK7KEqCNJaACex3sX0cQ5d0NSf4birOL2ARjbzFiSVe7QbcrZdcBAMBDQep+F9ewmlwJVFkC/gNARlDOSz6RygAAAABJRU5ErkJggg==\" y=\"-292.222953\"/>\n   </g>\n   <g id=\"text_16\">\n    <!-- car -->\n    <g transform=\"translate(384.603677 286.243642)scale(0.12 -0.12)\">\n     <use xlink:href=\"#DejaVuSans-99\"/>\n     <use x=\"54.980469\" xlink:href=\"#DejaVuSans-97\"/>\n     <use x=\"116.259766\" xlink:href=\"#DejaVuSans-114\"/>\n    </g>\n   </g>\n  </g>\n  <g id=\"axes_17\">\n   <g clip-path=\"url(#p5997b00072)\">\n    <image height=\"75\" id=\"image7ea6f8b102\" transform=\"scale(1 -1)translate(0 -75)\" width=\"75\" x=\"7.2\" xlink:href=\"data:image/png;base64,\niVBORw0KGgoAAAANSUhEUgAAAEsAAABLCAYAAAA4TnrqAAAABHNCSVQICAgIfAhkiAAABGFJREFUeJztm0toE0EYx/8rra8eekmFXCo+iaKiQbRgFT00PqpYD/UgUt9K8Q0eVLBixcfBQ6yUaomIggoqVLAF7cGCDyQeKqioiFVU1IPFB2oVg6yHb7I7JWmSLzupUb/fZSYzuzPTb//z9ZuZXcu2bRuGWb2rFQBw6vAqrbTbdDdZk+pPtiyrz7oBuRjMv0qBycZSPZV8Ij7OhpZHTtmWJePT3ifKYiDGYmB5dfD3etx8sOjvmIbZIspi4FlZf4tTN4EoiwE7dNi+/ywAIFy3PEntdJVGPQwpfxFlMRBjMchoGqZ04r4qN/9ZxRExL0PqP2ZV1zv5Gxfr0l4vymKQNHSwrNEq15VBExPdbKia0vb0T8kkyaIfyxqucq8S6gb7KgEA39+3OmVDShYCAH50tyXpoRSAKIuFBcDjflahm51YS+mDhrR3NT1zu3397icA4ODMQVmNIHL9q5NfM6cIAHD3Cf2ePk73t6QQ237ZZ1vJFBl9TGMVZTEQYzEwMA0zY8SKZgBAzdp1AIAZ5W5daCA5V8SSOdcAJaN8blHXrRQ9xf/hPEioWV9/BQBwYs/CPu/esJ+cfnPdooQ6URYDo9vKqZgWpCe+SSnqoV4Z61SZtZTU1jhV86povXl1bqbOP1FRcSpCobR3x69pThL9iLIY5NRntb91mx7ppzTuee5q14UGrqRMLB6GPNFqU/knHpytu2RLPFEWAzEWg5w4+OX1dwAAFX63LD6xRi49DAD4cDGi3ZHJGjRL/JXe73tHIY0oi4F3ZfmrnezU0GIAwOYtZQB6hweTyygY/RXVFWWejS1vAACNS8bQ76Ph7NrR7mtc2gFAlMXCc+iw99pHJx/tpODydpQCwy+Xj2lX5tAv6QSWUfqKdg3sbzc9N2kVzQQgymIhxmKQ/TQsp3XciMAUp+jFuUuU6enwOq7sqdwJALBbDxlvWpTFIDNl+bTVend777pgrZvvbDIzKi6F7qGJ/fN+zroRZTEQYzFwp2GpuxYaW14BAHgaVRspXef6e1wZkv60xiSiLAYFkfskrOORC07h8x71skKeKmr3HtrVOFBf1q/9irIYOO86zNciAr86fSoml4BwHrwKmYMPQdiIshiIsRg4m38BLUgP73gPANh2pIQKRjW6lV3nVcbcqUsqOvJg+sURZTEoKFB7cr/0jYIG2qAPx1bS7+6hWqUpRemnw73Xm03fXDXNNtSbCURZDCz4rtJj/KyVBoOUdqoDrNgZrTJ3Bw6nP9FQaopz1oUnRFkMxFgMLOCQ8qbai2QBdWZWqkL5Qu07ubZhxgfxWIUHAeMtm0WUxcA6rRZdK8pa3FI/vRg0WDn6mqoip6p5ksd14hxSrX19q7d2/gCiLAbsjzM3NT0DAJyMnAQAFBcn/p+fEVoAANi3c5JTNiHrIeYPoiwGYiwGnr+R/p8QZTEQYzEQYzEQYzEQYzEQYzEQYzEQYzEQYzEQYzEQYzEQYzEQYzEQYzEQYzH4DZMcAbqk+DnAAAAAAElFTkSuQmCC\" y=\"-382.198125\"/>\n   </g>\n   <g id=\"text_17\">\n    <!-- car -->\n    <g transform=\"translate(35.247155 376.218815)scale(0.12 -0.12)\">\n     <use xlink:href=\"#DejaVuSans-99\"/>\n     <use x=\"54.980469\" xlink:href=\"#DejaVuSans-97\"/>\n     <use x=\"116.259766\" xlink:href=\"#DejaVuSans-114\"/>\n    </g>\n   </g>\n  </g>\n  <g id=\"axes_18\">\n   <g clip-path=\"url(#p65e78f74d3)\">\n    <image height=\"75\" id=\"imagefbb40d709a\" transform=\"scale(1 -1)translate(0 -75)\" width=\"75\" x=\"123.652174\" xlink:href=\"data:image/png;base64,\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\" y=\"-382.198125\"/>\n   </g>\n   <g id=\"text_18\">\n    <!-- truck -->\n    <g transform=\"translate(145.747142 376.218815)scale(0.12 -0.12)\">\n     <use xlink:href=\"#DejaVuSans-116\"/>\n     <use x=\"39.208984\" xlink:href=\"#DejaVuSans-114\"/>\n     <use x=\"80.322266\" xlink:href=\"#DejaVuSans-117\"/>\n     <use x=\"143.701172\" xlink:href=\"#DejaVuSans-99\"/>\n     <use x=\"198.681641\" xlink:href=\"#DejaVuSans-107\"/>\n    </g>\n   </g>\n  </g>\n  <g id=\"axes_19\">\n   <g clip-path=\"url(#pd8321b4a68)\">\n    <image height=\"75\" id=\"imagec3767fff7e\" transform=\"scale(1 -1)translate(0 -75)\" width=\"75\" x=\"240.104348\" xlink:href=\"data:image/png;base64,\niVBORw0KGgoAAAANSUhEUgAAAEsAAABLCAYAAAA4TnrqAAAABHNCSVQICAgIfAhkiAAAA61JREFUeJztm09oE0EUxr+VVNRQUiSg6UGtLVSQiiBYxR78g8GD0CpUaQsVNFDIQQ8qFU/2ULSgIKJWqGCVXoSiLaJiLynYir1USg/mYCgqGMEoBG0UeoiHmd0dapruS3azm/p+l52dmcy8vP3m7ezMrpbNZrMoM7ZX7wIABCvE+c27z4yy+oZqAEBanoc22dfvKvuaWvlo5aisyYmPAIB9TZtL2i8riwA7i0BZDkMO8GVAWSprZ5UI7DPpT8vWPRKOGOmXrwaK6peVRcDntgGFYEVROmcinbb1y8oiwM4i4KkAPzotji0dg0be+nAtAOBH7KJZcXbKcptf5s2/F1pXlHmsLAqeUpbmvyYSmYdKrh7MF4ycQweCAIBUPAkAmEku3aadf4+VRcA3Lp8LMhkzsz4kjrV5fvhOXs3RsXkjr+uUHwAQKtSazIhMxPNWSyVE520tjQCAmX7rMawYWFkE2FkENGBIRkBlHAbkQAoGAACVjeaA/JlMiURsWOaMKc2JehtamwEAnS1ho6S3vQoAUJHDCD10r9Y0kvEnm0SgfzyRWrIOB3iX0IAn0vVpJVtX2Vd5VK+cntbv1xMWuxKq2xvpAQC8GegwShLyWEdUVo2cZM5llq7DynIJDbgjXf9dydYvla4e9Sk/Zr8VARnb0mP56xUAK8sl2FkEfObwU4eaHuz1YD7trBUODD8nYGUR8AEbZXIhR7Ee6NX9pFlnLfIwrCwCvpqIuG3P3X+kZOsPJYFF5/83rCwC7CwCxrLyFeXu3ROVO7eJcZnzXPmJ+gzpfXgG7xI5Nyz0SUSvfAzsOVinlCYWV/cka4Jiyfn3t7e2tcnKIsDOImBp33BSWVxr8tMW6Nxi6v0vAMDubX7b2mRlESDvSGvEpV+3cGKjnZVFgP4yW4W4JWOhNLvAVJx8dYOVRYCdRWDFBXgehh7BUoD3uppKBSuLQF5lnT43WCIz7GNc7qfsb7C/bVYWAXYWgbxTh3IM7Dx18Ag5A3xf/+tS21EWsLIIOBSzxA725esPjJxUUmyhxeOfAQCHw81GWVv7HgDAi5j4qv7siS0F9ssxyzOwswhYWnUYjn0w0qMj9wAAQ7duAAAqa83XkTpbuwEAt69GizJq7Y5jRvrP7Eiemv/Cw9AjFPwJnb47VuT3jsvS1/8UAHApetxSfVaWR/DUx5m56Log3ujZGjI/zOs+f9QVW1hZBNhZBDw/DL0EK4sAO4sAO4sAO4sAO4sAO4sAO4sAO4vAX4YXCtAGtBzYAAAAAElFTkSuQmCC\" y=\"-382.198125\"/>\n   </g>\n   <g id=\"text_19\">\n    <!-- frog -->\n    <g transform=\"translate(265.536815 376.218815)scale(0.12 -0.12)\">\n     <use xlink:href=\"#DejaVuSans-102\"/>\n     <use x=\"35.205078\" xlink:href=\"#DejaVuSans-114\"/>\n     <use x=\"76.287109\" xlink:href=\"#DejaVuSans-111\"/>\n     <use x=\"137.46875\" xlink:href=\"#DejaVuSans-103\"/>\n    </g>\n   </g>\n  </g>\n  <g id=\"axes_20\">\n   <g clip-path=\"url(#pdcc1cd332f)\">\n    <image height=\"75\" id=\"image160977bf24\" transform=\"scale(1 -1)translate(0 -75)\" width=\"75\" x=\"356.556522\" xlink:href=\"data:image/png;base64,\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\" y=\"-382.198125\"/>\n   </g>\n   <g id=\"text_20\">\n    <!-- plane -->\n    <defs>\n     <path d=\"M 9.421875 75.984375 \nL 18.40625 75.984375 \nL 18.40625 0 \nL 9.421875 0 \nz\n\" id=\"DejaVuSans-108\"/>\n     <path d=\"M 54.890625 33.015625 \nL 54.890625 0 \nL 45.90625 0 \nL 45.90625 32.71875 \nQ 45.90625 40.484375 42.875 44.328125 \nQ 39.84375 48.1875 33.796875 48.1875 \nQ 26.515625 48.1875 22.3125 43.546875 \nQ 18.109375 38.921875 18.109375 30.90625 \nL 18.109375 0 \nL 9.078125 0 \nL 9.078125 54.6875 \nL 18.109375 54.6875 \nL 18.109375 46.1875 \nQ 21.34375 51.125 25.703125 53.5625 \nQ 30.078125 56 35.796875 56 \nQ 45.21875 56 50.046875 50.171875 \nQ 54.890625 44.34375 54.890625 33.015625 \nz\n\" id=\"DejaVuSans-110\"/>\n    </defs>\n    <g transform=\"translate(377.398989 376.218815)scale(0.12 -0.12)\">\n     <use xlink:href=\"#DejaVuSans-112\"/>\n     <use x=\"63.476562\" xlink:href=\"#DejaVuSans-108\"/>\n     <use x=\"91.259766\" xlink:href=\"#DejaVuSans-97\"/>\n     <use x=\"152.539062\" xlink:href=\"#DejaVuSans-110\"/>\n     <use x=\"215.917969\" xlink:href=\"#DejaVuSans-101\"/>\n    </g>\n   </g>\n  </g>\n </g>\n <defs>\n  <clipPath id=\"pae3271b093\">\n   <rect height=\"74.97931\" width=\"74.97931\" x=\"7.2\" y=\"22.318125\"/>\n  </clipPath>\n  <clipPath id=\"pfaa2bef1f4\">\n   <rect height=\"74.97931\" width=\"74.97931\" x=\"123.652174\" y=\"22.318125\"/>\n  </clipPath>\n  <clipPath id=\"pdb88494920\">\n   <rect height=\"74.97931\" width=\"74.97931\" x=\"240.104348\" y=\"22.318125\"/>\n  </clipPath>\n  <clipPath id=\"p392639abbf\">\n   <rect height=\"74.97931\" width=\"74.97931\" x=\"356.556522\" y=\"22.318125\"/>\n  </clipPath>\n  <clipPath id=\"p5524d7cf30\">\n   <rect height=\"74.97931\" width=\"74.97931\" x=\"7.2\" y=\"112.293297\"/>\n  </clipPath>\n  <clipPath id=\"pb4430579b6\">\n   <rect height=\"74.97931\" width=\"74.97931\" x=\"123.652174\" y=\"112.293297\"/>\n  </clipPath>\n  <clipPath id=\"pb1891b5aae\">\n   <rect height=\"74.97931\" width=\"74.97931\" x=\"240.104348\" y=\"112.293297\"/>\n  </clipPath>\n  <clipPath id=\"p5b57e7f36d\">\n   <rect height=\"74.97931\" width=\"74.97931\" x=\"356.556522\" y=\"112.293297\"/>\n  </clipPath>\n  <clipPath id=\"pe1a4c2dc79\">\n   <rect height=\"74.97931\" width=\"74.97931\" x=\"7.2\" y=\"202.26847\"/>\n  </clipPath>\n  <clipPath id=\"pfdc5e2e715\">\n   <rect height=\"74.97931\" width=\"74.97931\" x=\"123.652174\" y=\"202.26847\"/>\n  </clipPath>\n  <clipPath id=\"p0eeb5ce259\">\n   <rect height=\"74.97931\" width=\"74.97931\" x=\"240.104348\" y=\"202.26847\"/>\n  </clipPath>\n  <clipPath id=\"p464ac8ad38\">\n   <rect height=\"74.97931\" width=\"74.97931\" x=\"356.556522\" y=\"202.26847\"/>\n  </clipPath>\n  <clipPath id=\"p15284b74fe\">\n   <rect height=\"74.97931\" width=\"74.97931\" x=\"7.2\" y=\"292.243642\"/>\n  </clipPath>\n  <clipPath id=\"p87428a4df4\">\n   <rect height=\"74.97931\" width=\"74.97931\" x=\"123.652174\" y=\"292.243642\"/>\n  </clipPath>\n  <clipPath id=\"p4919d5fd27\">\n   <rect height=\"74.97931\" width=\"74.97931\" x=\"240.104348\" y=\"292.243642\"/>\n  </clipPath>\n  <clipPath id=\"pde24869781\">\n   <rect height=\"74.97931\" width=\"74.97931\" x=\"356.556522\" y=\"292.243642\"/>\n  </clipPath>\n  <clipPath id=\"p5997b00072\">\n   <rect height=\"74.97931\" width=\"74.97931\" x=\"7.2\" y=\"382.218815\"/>\n  </clipPath>\n  <clipPath id=\"p65e78f74d3\">\n   <rect height=\"74.97931\" width=\"74.97931\" x=\"123.652174\" y=\"382.218815\"/>\n  </clipPath>\n  <clipPath id=\"pd8321b4a68\">\n   <rect height=\"74.97931\" width=\"74.97931\" x=\"240.104348\" y=\"382.218815\"/>\n  </clipPath>\n  <clipPath id=\"pdcc1cd332f\">\n   <rect height=\"74.97931\" width=\"74.97931\" x=\"356.556522\" y=\"382.218815\"/>\n  </clipPath>\n </defs>\n</svg>\n"
          },
          "metadata": {
            "tags": []
          }
        }
      ]
    },
    {
      "cell_type": "markdown",
      "metadata": {
        "id": "qlQ0W-q7snrR",
        "colab_type": "text"
      },
      "source": [
        "# save and load checkpoint"
      ]
    },
    {
      "cell_type": "code",
      "metadata": {
        "id": "eGyG96ysskV1",
        "colab_type": "code",
        "colab": {}
      },
      "source": [
        "def save_checkpoint(model, is_best, filename='data/checkpoint.pth.tar'):\n",
        "    \"\"\"Save checkpoint if a new best is achieved\"\"\"\n",
        "    if is_best:\n",
        "        torch.save(model.state_dict(), filename)  # save checkpoint\n",
        "    else:\n",
        "        print (\"=> Validation Accuracy did not improve\")"
      ],
      "execution_count": 0,
      "outputs": []
    },
    {
      "cell_type": "code",
      "metadata": {
        "id": "ODkWdaKUsw8Q",
        "colab_type": "code",
        "colab": {}
      },
      "source": [
        "def load_checkpoint(model, filename = 'data/checkpoint.pth.tar'):\n",
        "    sd = torch.load(filename, map_location=lambda storage, loc: storage)\n",
        "    names = set(model.state_dict().keys())\n",
        "    for n in list(sd.keys()):\n",
        "        if n not in names and n+'_raw' in names:\n",
        "            if n+'_raw' not in sd: sd[n+'_raw'] = sd[n]\n",
        "            del sd[n]\n",
        "    model.load_state_dict(sd)"
      ],
      "execution_count": 0,
      "outputs": []
    },
    {
      "cell_type": "markdown",
      "metadata": {
        "id": "BMqnHHlLs1nL",
        "colab_type": "text"
      },
      "source": [
        "# Global variables"
      ]
    },
    {
      "cell_type": "code",
      "metadata": {
        "id": "6oEDCaDYs0qk",
        "colab_type": "code",
        "colab": {}
      },
      "source": [
        "train_loss = 0.0\n",
        "test_loss = 0.0\n",
        "best_acc = 0.0\n",
        "trn_losses = []\n",
        "trn_accs = []\n",
        "val_losses = []\n",
        "val_accs = []"
      ],
      "execution_count": 0,
      "outputs": []
    },
    {
      "cell_type": "code",
      "metadata": {
        "id": "po5STdeZs9ai",
        "colab_type": "code",
        "colab": {}
      },
      "source": [
        "total = 0\n",
        "correct = 0"
      ],
      "execution_count": 0,
      "outputs": []
    },
    {
      "cell_type": "markdown",
      "metadata": {
        "id": "ogaK2kjKtB1O",
        "colab_type": "text"
      },
      "source": [
        "# Helper functions"
      ]
    },
    {
      "cell_type": "code",
      "metadata": {
        "id": "xNVROs82tBDb",
        "colab_type": "code",
        "colab": {}
      },
      "source": [
        "def accuracy(output, target, is_test=False):\n",
        "    global total\n",
        "    global correct\n",
        "    batch_size = target.size(0)\n",
        "    total += batch_size    \n",
        "    _, pred = output.max(dim=1)\n",
        "    if is_test:\n",
        "        preds.extend(pred)\n",
        "    correct += torch.sum(pred == target.data)\n",
        "    return (correct.float() / total) * 100"
      ],
      "execution_count": 0,
      "outputs": []
    },
    {
      "cell_type": "code",
      "metadata": {
        "id": "OdwknXrXtPWK",
        "colab_type": "code",
        "colab": {}
      },
      "source": [
        "def reset():\n",
        "    global total, correct\n",
        "    global train_loss, test_loss, best_acc\n",
        "    global trn_accs, trn_losses, val_accs, val_losses\n",
        "    total, correct = 0, 0\n",
        "    train_loss, test_loss, best_acc = 0.0, 0.0, 0.0\n",
        "    trn_losses, trn_accs, val_accs, val_losses = [], [], [], []"
      ],
      "execution_count": 0,
      "outputs": []
    },
    {
      "cell_type": "code",
      "metadata": {
        "id": "U_QEGWOBtSoR",
        "colab_type": "code",
        "colab": {}
      },
      "source": [
        "class AvgStats(object):\n",
        "    def __init__(self):\n",
        "        self.reset()\n",
        "        \n",
        "    def reset(self):\n",
        "        self.losses =[]\n",
        "        self.precs =[]\n",
        "        self.its = []\n",
        "        \n",
        "    def append(self, loss, prec, it):\n",
        "        self.losses.append(loss)\n",
        "        self.precs.append(prec)\n",
        "        self.its.append(it)"
      ],
      "execution_count": 0,
      "outputs": []
    },
    {
      "cell_type": "markdown",
      "metadata": {
        "id": "TiptBnxLtaHx",
        "colab_type": "text"
      },
      "source": [
        "# Train and Test"
      ]
    },
    {
      "cell_type": "code",
      "metadata": {
        "id": "BrJGCUsTtZHN",
        "colab_type": "code",
        "colab": {}
      },
      "source": [
        "def train(epoch=0, model=None, optimizer=None):\n",
        "    model.train()\n",
        "    global best_acc\n",
        "    global trn_accs, trn_losses\n",
        "    is_improving = True\n",
        "    counter = 0\n",
        "    running_loss = 0.\n",
        "    avg_beta = 0.98\n",
        "\n",
        "    for i, (input, target) in enumerate(train_loader):\n",
        "        bt_start = time.time()\n",
        "        input, target = input.to(device), target.to(device)\n",
        "        var_ip, var_tg = Variable(input), Variable(target)\n",
        "                                    \n",
        "        output = model(var_ip)\n",
        "        loss = criterion(output, var_tg)\n",
        "            \n",
        "        running_loss = avg_beta * running_loss + (1-avg_beta) *loss.item()\n",
        "        smoothed_loss = running_loss / (1 - avg_beta**(i+1))\n",
        "        \n",
        "        trn_losses.append(smoothed_loss)\n",
        "            \n",
        "        # measure accuracy and record loss\n",
        "        prec = accuracy(output.data, target)\n",
        "        trn_accs.append(prec)\n",
        "\n",
        "        train_stats.append(smoothed_loss, prec, time.time()-bt_start)\n",
        "        if prec > best_acc :\n",
        "            best_acc = prec\n",
        "            save_checkpoint(model, True)\n",
        "\n",
        "        # compute gradient and do SGD step\n",
        "        optimizer.zero_grad()\n",
        "        loss.backward()\n",
        "        optimizer.step()"
      ],
      "execution_count": 0,
      "outputs": []
    },
    {
      "cell_type": "code",
      "metadata": {
        "id": "gOZQwwhXtiUv",
        "colab_type": "code",
        "colab": {}
      },
      "source": [
        "def test(model=None):\n",
        "    with torch.no_grad():\n",
        "        model.eval()\n",
        "        global val_accs, val_losses\n",
        "        running_loss = 0.\n",
        "        avg_beta = 0.98\n",
        "        for i, (input, target) in enumerate(test_loader):\n",
        "            bt_start = time.time()\n",
        "            input, target = input.to(device), target.to(device)\n",
        "            var_ip, var_tg = Variable(input), Variable(target)\n",
        "            output = model(var_ip)\n",
        "            loss = criterion(output, var_tg)\n",
        "        \n",
        "            running_loss = avg_beta * running_loss + (1-avg_beta) *loss.item()\n",
        "            smoothed_loss = running_loss / (1 - avg_beta**(i+1))\n",
        "\n",
        "            # measure accuracy and record loss\n",
        "            prec = accuracy(output.data, target, is_test=True)\n",
        "            test_stats.append(loss.item(), prec, time.time()-bt_start)\n",
        "        \n",
        "            val_losses.append(smoothed_loss)\n",
        "            val_accs.append(prec)"
      ],
      "execution_count": 0,
      "outputs": []
    },
    {
      "cell_type": "code",
      "metadata": {
        "id": "6tp2g4a3tw8p",
        "colab_type": "code",
        "colab": {}
      },
      "source": [
        "def fit(model=None, optimizer=None, sched=None):\n",
        "    print(\"Epoch\\tTrn_loss\\tVal_loss\\tTrn_acc\\t\\tVal_acc\")\n",
        "    for j in range(epochs):\n",
        "        train(j, model, optimizer)\n",
        "        test(model)\n",
        "        if sched:\n",
        "          sched.step(j)\n",
        "        print(\"{}\\t{:06.8f}\\t{:06.8f}\\t{:06.8f}\\t{:06.8f}\"\n",
        "              .format(j+1, trn_losses[-1], val_losses[-1], trn_accs[-1], val_accs[-1]))"
      ],
      "execution_count": 0,
      "outputs": []
    },
    {
      "cell_type": "markdown",
      "metadata": {
        "id": "-vBIKBdbt4f2",
        "colab_type": "text"
      },
      "source": [
        "# Model"
      ]
    },
    {
      "cell_type": "code",
      "metadata": {
        "id": "VGMxBRimt2xJ",
        "colab_type": "code",
        "outputId": "1c130ea9-0558-4069-ec82-731f796bdc08",
        "colab": {
          "base_uri": "https://localhost:8080/",
          "height": 51
        }
      },
      "source": [
        "model = models.resnet18(pretrained=True)"
      ],
      "execution_count": 23,
      "outputs": [
        {
          "output_type": "stream",
          "text": [
            "Downloading: \"https://download.pytorch.org/models/resnet18-5c106cde.pth\" to /root/.cache/torch/checkpoints/resnet18-5c106cde.pth\n",
            "100%|██████████| 44.7M/44.7M [00:01<00:00, 37.5MB/s]\n"
          ],
          "name": "stderr"
        }
      ]
    },
    {
      "cell_type": "code",
      "metadata": {
        "id": "_pX5ab6Hkh_l",
        "colab_type": "code",
        "colab": {}
      },
      "source": [
        "model.fc = nn.Linear(in_features=model.fc.in_features, out_features=10, bias=True)"
      ],
      "execution_count": 0,
      "outputs": []
    },
    {
      "cell_type": "code",
      "metadata": {
        "id": "xSY_R_Wxt986",
        "colab_type": "code",
        "outputId": "561f84ce-861a-4dac-9830-161cca626139",
        "colab": {
          "base_uri": "https://localhost:8080/",
          "height": 1000
        }
      },
      "source": [
        "model = model.to(device)\n",
        "model"
      ],
      "execution_count": 25,
      "outputs": [
        {
          "output_type": "execute_result",
          "data": {
            "text/plain": [
              "ResNet(\n",
              "  (conv1): Conv2d(3, 64, kernel_size=(7, 7), stride=(2, 2), padding=(3, 3), bias=False)\n",
              "  (bn1): BatchNorm2d(64, eps=1e-05, momentum=0.1, affine=True, track_running_stats=True)\n",
              "  (relu): ReLU(inplace=True)\n",
              "  (maxpool): MaxPool2d(kernel_size=3, stride=2, padding=1, dilation=1, ceil_mode=False)\n",
              "  (layer1): Sequential(\n",
              "    (0): BasicBlock(\n",
              "      (conv1): Conv2d(64, 64, kernel_size=(3, 3), stride=(1, 1), padding=(1, 1), bias=False)\n",
              "      (bn1): BatchNorm2d(64, eps=1e-05, momentum=0.1, affine=True, track_running_stats=True)\n",
              "      (relu): ReLU(inplace=True)\n",
              "      (conv2): Conv2d(64, 64, kernel_size=(3, 3), stride=(1, 1), padding=(1, 1), bias=False)\n",
              "      (bn2): BatchNorm2d(64, eps=1e-05, momentum=0.1, affine=True, track_running_stats=True)\n",
              "    )\n",
              "    (1): BasicBlock(\n",
              "      (conv1): Conv2d(64, 64, kernel_size=(3, 3), stride=(1, 1), padding=(1, 1), bias=False)\n",
              "      (bn1): BatchNorm2d(64, eps=1e-05, momentum=0.1, affine=True, track_running_stats=True)\n",
              "      (relu): ReLU(inplace=True)\n",
              "      (conv2): Conv2d(64, 64, kernel_size=(3, 3), stride=(1, 1), padding=(1, 1), bias=False)\n",
              "      (bn2): BatchNorm2d(64, eps=1e-05, momentum=0.1, affine=True, track_running_stats=True)\n",
              "    )\n",
              "  )\n",
              "  (layer2): Sequential(\n",
              "    (0): BasicBlock(\n",
              "      (conv1): Conv2d(64, 128, kernel_size=(3, 3), stride=(2, 2), padding=(1, 1), bias=False)\n",
              "      (bn1): BatchNorm2d(128, eps=1e-05, momentum=0.1, affine=True, track_running_stats=True)\n",
              "      (relu): ReLU(inplace=True)\n",
              "      (conv2): Conv2d(128, 128, kernel_size=(3, 3), stride=(1, 1), padding=(1, 1), bias=False)\n",
              "      (bn2): BatchNorm2d(128, eps=1e-05, momentum=0.1, affine=True, track_running_stats=True)\n",
              "      (downsample): Sequential(\n",
              "        (0): Conv2d(64, 128, kernel_size=(1, 1), stride=(2, 2), bias=False)\n",
              "        (1): BatchNorm2d(128, eps=1e-05, momentum=0.1, affine=True, track_running_stats=True)\n",
              "      )\n",
              "    )\n",
              "    (1): BasicBlock(\n",
              "      (conv1): Conv2d(128, 128, kernel_size=(3, 3), stride=(1, 1), padding=(1, 1), bias=False)\n",
              "      (bn1): BatchNorm2d(128, eps=1e-05, momentum=0.1, affine=True, track_running_stats=True)\n",
              "      (relu): ReLU(inplace=True)\n",
              "      (conv2): Conv2d(128, 128, kernel_size=(3, 3), stride=(1, 1), padding=(1, 1), bias=False)\n",
              "      (bn2): BatchNorm2d(128, eps=1e-05, momentum=0.1, affine=True, track_running_stats=True)\n",
              "    )\n",
              "  )\n",
              "  (layer3): Sequential(\n",
              "    (0): BasicBlock(\n",
              "      (conv1): Conv2d(128, 256, kernel_size=(3, 3), stride=(2, 2), padding=(1, 1), bias=False)\n",
              "      (bn1): BatchNorm2d(256, eps=1e-05, momentum=0.1, affine=True, track_running_stats=True)\n",
              "      (relu): ReLU(inplace=True)\n",
              "      (conv2): Conv2d(256, 256, kernel_size=(3, 3), stride=(1, 1), padding=(1, 1), bias=False)\n",
              "      (bn2): BatchNorm2d(256, eps=1e-05, momentum=0.1, affine=True, track_running_stats=True)\n",
              "      (downsample): Sequential(\n",
              "        (0): Conv2d(128, 256, kernel_size=(1, 1), stride=(2, 2), bias=False)\n",
              "        (1): BatchNorm2d(256, eps=1e-05, momentum=0.1, affine=True, track_running_stats=True)\n",
              "      )\n",
              "    )\n",
              "    (1): BasicBlock(\n",
              "      (conv1): Conv2d(256, 256, kernel_size=(3, 3), stride=(1, 1), padding=(1, 1), bias=False)\n",
              "      (bn1): BatchNorm2d(256, eps=1e-05, momentum=0.1, affine=True, track_running_stats=True)\n",
              "      (relu): ReLU(inplace=True)\n",
              "      (conv2): Conv2d(256, 256, kernel_size=(3, 3), stride=(1, 1), padding=(1, 1), bias=False)\n",
              "      (bn2): BatchNorm2d(256, eps=1e-05, momentum=0.1, affine=True, track_running_stats=True)\n",
              "    )\n",
              "  )\n",
              "  (layer4): Sequential(\n",
              "    (0): BasicBlock(\n",
              "      (conv1): Conv2d(256, 512, kernel_size=(3, 3), stride=(2, 2), padding=(1, 1), bias=False)\n",
              "      (bn1): BatchNorm2d(512, eps=1e-05, momentum=0.1, affine=True, track_running_stats=True)\n",
              "      (relu): ReLU(inplace=True)\n",
              "      (conv2): Conv2d(512, 512, kernel_size=(3, 3), stride=(1, 1), padding=(1, 1), bias=False)\n",
              "      (bn2): BatchNorm2d(512, eps=1e-05, momentum=0.1, affine=True, track_running_stats=True)\n",
              "      (downsample): Sequential(\n",
              "        (0): Conv2d(256, 512, kernel_size=(1, 1), stride=(2, 2), bias=False)\n",
              "        (1): BatchNorm2d(512, eps=1e-05, momentum=0.1, affine=True, track_running_stats=True)\n",
              "      )\n",
              "    )\n",
              "    (1): BasicBlock(\n",
              "      (conv1): Conv2d(512, 512, kernel_size=(3, 3), stride=(1, 1), padding=(1, 1), bias=False)\n",
              "      (bn1): BatchNorm2d(512, eps=1e-05, momentum=0.1, affine=True, track_running_stats=True)\n",
              "      (relu): ReLU(inplace=True)\n",
              "      (conv2): Conv2d(512, 512, kernel_size=(3, 3), stride=(1, 1), padding=(1, 1), bias=False)\n",
              "      (bn2): BatchNorm2d(512, eps=1e-05, momentum=0.1, affine=True, track_running_stats=True)\n",
              "    )\n",
              "  )\n",
              "  (avgpool): AdaptiveAvgPool2d(output_size=(1, 1))\n",
              "  (fc): Linear(in_features=512, out_features=10, bias=True)\n",
              ")"
            ]
          },
          "metadata": {
            "tags": []
          },
          "execution_count": 25
        }
      ]
    },
    {
      "cell_type": "code",
      "metadata": {
        "id": "Z-2R9xnsuCIr",
        "colab_type": "code",
        "colab": {}
      },
      "source": [
        "for param in model.parameters():\n",
        "  param.requires_grad = True"
      ],
      "execution_count": 0,
      "outputs": []
    },
    {
      "cell_type": "code",
      "metadata": {
        "id": "-wFs4jrvuGAM",
        "colab_type": "code",
        "colab": {}
      },
      "source": [
        "criterion = nn.CrossEntropyLoss()"
      ],
      "execution_count": 0,
      "outputs": []
    },
    {
      "cell_type": "code",
      "metadata": {
        "id": "Nxvk1OPTuJhG",
        "colab_type": "code",
        "colab": {}
      },
      "source": [
        "optimizer = optim.SGD(model.parameters(), lr=1e-2, weight_decay=1e-4, momentum=0.9)"
      ],
      "execution_count": 0,
      "outputs": []
    },
    {
      "cell_type": "code",
      "metadata": {
        "id": "pkBtb_RGiKrt",
        "colab_type": "code",
        "colab": {}
      },
      "source": [
        "sched = torch.optim.lr_scheduler.StepLR(optimizer, step_size=30, gamma=0.2)"
      ],
      "execution_count": 0,
      "outputs": []
    },
    {
      "cell_type": "code",
      "metadata": {
        "id": "vY-VnxO5ckNS",
        "colab_type": "code",
        "colab": {}
      },
      "source": [
        "save_checkpoint(model, True, filename='before_sgd_resnet18.pth.tar')"
      ],
      "execution_count": 0,
      "outputs": []
    },
    {
      "cell_type": "code",
      "metadata": {
        "id": "q82CU_THuNY2",
        "colab_type": "code",
        "colab": {}
      },
      "source": [
        "preds = []\n",
        "train_stats = AvgStats()\n",
        "test_stats = AvgStats()"
      ],
      "execution_count": 0,
      "outputs": []
    },
    {
      "cell_type": "code",
      "metadata": {
        "id": "W-kJTqs_k_4y",
        "colab_type": "code",
        "colab": {}
      },
      "source": [
        "reset()"
      ],
      "execution_count": 0,
      "outputs": []
    },
    {
      "cell_type": "code",
      "metadata": {
        "id": "bH-IxGTelOg5",
        "colab_type": "code",
        "outputId": "7508219f-0871-45a3-ddea-44d43b922ed6",
        "colab": {
          "base_uri": "https://localhost:8080/",
          "height": 1000
        }
      },
      "source": [
        "fit(model, optimizer, sched)"
      ],
      "execution_count": 0,
      "outputs": [
        {
          "output_type": "stream",
          "text": [
            "Epoch\tTrn_loss\tVal_loss\tTrn_acc\t\tVal_acc\n",
            "1\t0.81690471\t0.70371581\t65.76999664\t67.40999603\n",
            "2\t0.64692206\t0.60518452\t71.73363495\t72.41083527\n",
            "3\t0.57989867\t0.54954065\t74.48117828\t74.88611603\n",
            "4\t0.51921393\t0.52132156\t76.31913757\t76.57333374\n",
            "5\t0.47950729\t0.52758675\t77.64620972\t77.79267120\n",
            "6\t0.47421528\t0.52534188\t78.64743042\t78.74694824\n",
            "7\t0.43572727\t0.50823654\t79.49121857\t79.58833313\n",
            "8\t0.41682540\t0.47581992\t80.19744873\t80.27375031\n",
            "9\t0.40430805\t0.49821593\t80.83415222\t80.88944244\n",
            "10\t0.38623603\t0.47633889\t81.39305115\t81.44149780\n",
            "11\t0.37161840\t0.47630971\t81.88215637\t81.92318726\n",
            "12\t0.36791777\t0.47682066\t82.31619263\t82.33805847\n",
            "13\t0.35056007\t0.46529305\t82.72531891\t82.75153351\n",
            "14\t0.33078309\t0.44768207\t83.09409332\t83.12249756\n",
            "15\t0.31880053\t0.45511365\t83.45381927\t83.47522736\n",
            "16\t0.32347278\t0.44313050\t83.77073669\t83.78531647\n",
            "17\t0.29370204\t0.46006617\t84.08227539\t84.09422302\n",
            "18\t0.29418164\t0.46254597\t84.36411285\t84.37139130\n",
            "19\t0.28816694\t0.48537516\t84.63220978\t84.63859558\n",
            "20\t0.27253683\t0.53425918\t84.88790131\t84.87741089\n",
            "21\t0.26582097\t0.47951462\t85.11816406\t85.11864471\n",
            "22\t0.26249135\t0.46090808\t85.34801483\t85.34644318\n",
            "23\t0.25464311\t0.46596589\t85.57029724\t85.57268524\n",
            "24\t0.24855364\t0.47468792\t85.78258514\t85.77931213\n",
            "25\t0.23435526\t0.50428435\t85.97731781\t85.97106934\n",
            "26\t0.23260380\t0.49336879\t86.16631317\t86.16069794\n",
            "27\t0.22236389\t0.48310512\t86.35453796\t86.34888458\n",
            "28\t0.22624365\t0.49292680\t86.53328705\t86.52458191\n",
            "29\t0.22346105\t0.45584963\t86.70133209\t86.69885254\n",
            "30\t0.19593199\t0.47101885\t86.87737274\t86.87211609\n",
            "31\t0.20750251\t0.46228029\t87.03633118\t87.02989960\n",
            "32\t0.12370203\t0.44134274\t87.24670410\t87.24833679\n",
            "33\t0.10929299\t0.44842977\t87.47390747\t87.47388458\n",
            "34\t0.09630206\t0.46416200\t87.69895935\t87.69828796\n",
            "35\t0.09521714\t0.48542997\t87.91550446\t87.91362000\n",
            "36\t0.08538828\t0.48948139\t88.12553406\t88.12254333\n",
            "37\t0.08141956\t0.49078949\t88.32605743\t88.32350922\n",
            "38\t0.07504277\t0.49720382\t88.52039337\t88.51640320\n",
            "39\t0.08079568\t0.50149624\t88.70584106\t88.70217896\n",
            "40\t0.08037769\t0.50614117\t88.88489532\t88.88070679\n",
            "41\t0.06597710\t0.52877745\t89.05624390\t89.04962921\n",
            "42\t0.06909287\t0.53074234\t89.21733093\t89.21059418\n",
            "43\t0.07089138\t0.52386580\t89.37455750\t89.36829376\n",
            "44\t0.07153317\t0.53470713\t89.52668762\t89.51882935\n",
            "45\t0.06693142\t0.53972651\t89.67301178\t89.66537476\n",
            "46\t0.06195898\t0.53793875\t89.81585693\t89.80858612\n",
            "47\t0.06534900\t0.54633147\t89.95053864\t89.94213104\n",
            "48\t0.06072587\t0.54490396\t90.07992554\t90.07212067\n",
            "49\t0.05652396\t0.54604142\t90.20781708\t90.19941711\n",
            "50\t0.05983682\t0.55209517\t90.33123779\t90.32319641\n",
            "51\t0.05403379\t0.56932280\t90.45252991\t90.44372559\n",
            "52\t0.05395372\t0.57564796\t90.56929016\t90.55903625\n",
            "53\t0.05145460\t0.55971456\t90.68028259\t90.67069244\n",
            "54\t0.04805784\t0.57527379\t90.78770447\t90.77817535\n",
            "55\t0.05735158\t0.57697037\t90.89054108\t90.88160706\n",
            "56\t0.04385659\t0.57286711\t90.99337769\t90.98359680\n",
            "57\t0.04612599\t0.59275950\t91.09158325\t91.08184052\n",
            "58\t0.05239712\t0.56988786\t91.18615723\t91.17623901\n",
            "59\t0.04328917\t0.60455544\t91.27912140\t91.26954651\n",
            "60\t0.04826378\t0.60000612\t91.36914062\t91.35923004\n",
            "61\t0.04532851\t0.58226559\t91.45701599\t91.44611359\n",
            "62\t0.04015693\t0.58080284\t91.54225922\t91.53263855\n",
            "63\t0.02841487\t0.58437660\t91.62976074\t91.61999512\n",
            "64\t0.03187219\t0.59103268\t91.71422577\t91.70437622\n",
            "65\t0.03505033\t0.59791901\t91.79617310\t91.78672028\n",
            "66\t0.03064779\t0.59140149\t91.87653351\t91.86706543\n",
            "67\t0.03430236\t0.59491404\t91.95539093\t91.94519806\n",
            "68\t0.02785115\t0.60365585\t92.03282928\t92.02269745\n",
            "69\t0.03019898\t0.61281302\t92.10718536\t92.09764099\n",
            "70\t0.03147192\t0.59931747\t92.18014526\t92.17059326\n",
            "71\t0.02709779\t0.60805534\t92.25096893\t92.24136353\n",
            "72\t0.02767556\t0.61346882\t92.32013702\t92.31048584\n",
            "73\t0.02883065\t0.62010868\t92.38709259\t92.37721252\n",
            "74\t0.02595686\t0.62076220\t92.45333862\t92.44364166\n",
            "75\t0.03019326\t0.61047759\t92.51666260\t92.50693512\n",
            "76\t0.02899336\t0.62017247\t92.57918549\t92.56962585\n",
            "77\t0.03145250\t0.62868091\t92.64002228\t92.63002014\n",
            "78\t0.02309628\t0.62615985\t92.70011139\t92.68999481\n",
            "79\t0.02286692\t0.63175840\t92.75828552\t92.74814606\n",
            "80\t0.02767830\t0.62819820\t92.81404877\t92.80422974\n",
            "81\t0.02853966\t0.63320126\t92.86868286\t92.85888672\n",
            "82\t0.03030120\t0.63608805\t92.92289734\t92.91287994\n",
            "83\t0.02700243\t0.64609415\t92.97576904\t92.96592712\n",
            "84\t0.02567354\t0.63947013\t93.02843475\t93.01837158\n",
            "85\t0.02690110\t0.64937326\t93.07911682\t93.06919861\n",
            "86\t0.02906105\t0.64901992\t93.12832642\t93.11825562\n",
            "87\t0.02146115\t0.66178548\t93.17745209\t93.16766357\n",
            "88\t0.02324749\t0.65607674\t93.22489166\t93.21514130\n",
            "89\t0.02461159\t0.65036607\t93.27072906\t93.26091766\n",
            "90\t0.02437723\t0.66149793\t93.31575775\t93.30572510\n"
          ],
          "name": "stdout"
        }
      ]
    },
    {
      "cell_type": "code",
      "metadata": {
        "id": "0OipEoMoaHt-",
        "colab_type": "code",
        "colab": {}
      },
      "source": [
        "save_checkpoint(model, True, 'sgd_resnet18_9331.pth.tar')"
      ],
      "execution_count": 0,
      "outputs": []
    },
    {
      "cell_type": "code",
      "metadata": {
        "id": "upexYQmyabrD",
        "colab_type": "code",
        "colab": {}
      },
      "source": [
        "ep_sgd_losses = []\n",
        "for i in range(0, len(train_stats.losses), len(train_loader)):\n",
        "    if i != 0 :\n",
        "        ep_sgd_losses.append(train_stats.losses[i])\n",
        "        \n",
        "ep_sgd_lossesv = []\n",
        "for i in range(0, len(test_stats.losses), len(test_loader)):\n",
        "    if(i != 0):\n",
        "        ep_sgd_lossesv.append(test_stats.losses[i])"
      ],
      "execution_count": 0,
      "outputs": []
    },
    {
      "cell_type": "code",
      "metadata": {
        "id": "ojQ4G1KWb0zR",
        "colab_type": "code",
        "colab": {}
      },
      "source": [
        "ep_sgd_accs = []\n",
        "for i in range(0, len(train_stats.losses), len(train_loader)):\n",
        "    if i != 0 :\n",
        "        ep_sgd_accs.append(train_stats.precs[i])\n",
        "        \n",
        "ep_sgd_accsv = []\n",
        "for i in range(0, len(test_stats.losses), len(test_loader)):\n",
        "    if(i != 0):\n",
        "        ep_sgd_accsv.append(test_stats.precs[i])"
      ],
      "execution_count": 0,
      "outputs": []
    },
    {
      "cell_type": "code",
      "metadata": {
        "id": "3QTgQbtgb1Hi",
        "colab_type": "code",
        "outputId": "926237cb-b826-4fc5-ceee-00fbdda80324",
        "colab": {
          "base_uri": "https://localhost:8080/",
          "height": 371
        }
      },
      "source": [
        "plt.xlabel(\"Epochs\")\n",
        "plt.ylabel(\"Accuracy\")\n",
        "plt.plot(ep_sgd_accs, 'r', label='Train')\n",
        "plt.plot(ep_sgd_accsv, 'b', label='Val')\n",
        "plt.legend()\n",
        "plt.savefig('sgd_resnet18_9331_acc.jpg')"
      ],
      "execution_count": 0,
      "outputs": [
        {
          "output_type": "display_data",
          "data": {
            "text/plain": [
              "<Figure size 432x288 with 1 Axes>"
            ],
            "image/svg+xml": "<?xml version=\"1.0\" encoding=\"utf-8\" standalone=\"no\"?>\n<!DOCTYPE svg PUBLIC \"-//W3C//DTD SVG 1.1//EN\"\n  \"http://www.w3.org/Graphics/SVG/1.1/DTD/svg11.dtd\">\n<!-- Created with matplotlib (https://matplotlib.org/) -->\n<svg height=\"262.19625pt\" version=\"1.1\" viewBox=\"0 0 382.603125 262.19625\" width=\"382.603125pt\" xmlns=\"http://www.w3.org/2000/svg\" xmlns:xlink=\"http://www.w3.org/1999/xlink\">\n <defs>\n  <style type=\"text/css\">\n*{stroke-linecap:butt;stroke-linejoin:round;}\n  </style>\n </defs>\n <g id=\"figure_1\">\n  <g id=\"patch_1\">\n   <path d=\"M 0 262.19625 \nL 382.603125 262.19625 \nL 382.603125 0 \nL 0 0 \nz\n\" style=\"fill:none;\"/>\n  </g>\n  <g id=\"axes_1\">\n   <g id=\"patch_2\">\n    <path d=\"M 40.603125 224.64 \nL 375.403125 224.64 \nL 375.403125 7.2 \nL 40.603125 7.2 \nz\n\" style=\"fill:#ffffff;\"/>\n   </g>\n   <g id=\"matplotlib.axis_1\">\n    <g id=\"xtick_1\">\n     <g id=\"line2d_1\">\n      <defs>\n       <path d=\"M 0 0 \nL 0 3.5 \n\" id=\"m5e7637acd3\" style=\"stroke:#000000;stroke-width:0.8;\"/>\n      </defs>\n      <g>\n       <use style=\"stroke:#000000;stroke-width:0.8;\" x=\"55.821307\" xlink:href=\"#m5e7637acd3\" y=\"224.64\"/>\n      </g>\n     </g>\n     <g id=\"text_1\">\n      <!-- 0 -->\n      <defs>\n       <path d=\"M 31.78125 66.40625 \nQ 24.171875 66.40625 20.328125 58.90625 \nQ 16.5 51.421875 16.5 36.375 \nQ 16.5 21.390625 20.328125 13.890625 \nQ 24.171875 6.390625 31.78125 6.390625 \nQ 39.453125 6.390625 43.28125 13.890625 \nQ 47.125 21.390625 47.125 36.375 \nQ 47.125 51.421875 43.28125 58.90625 \nQ 39.453125 66.40625 31.78125 66.40625 \nz\nM 31.78125 74.21875 \nQ 44.046875 74.21875 50.515625 64.515625 \nQ 56.984375 54.828125 56.984375 36.375 \nQ 56.984375 17.96875 50.515625 8.265625 \nQ 44.046875 -1.421875 31.78125 -1.421875 \nQ 19.53125 -1.421875 13.0625 8.265625 \nQ 6.59375 17.96875 6.59375 36.375 \nQ 6.59375 54.828125 13.0625 64.515625 \nQ 19.53125 74.21875 31.78125 74.21875 \nz\n\" id=\"DejaVuSans-48\"/>\n      </defs>\n      <g transform=\"translate(52.640057 239.238437)scale(0.1 -0.1)\">\n       <use xlink:href=\"#DejaVuSans-48\"/>\n      </g>\n     </g>\n    </g>\n    <g id=\"xtick_2\">\n     <g id=\"line2d_2\">\n      <g>\n       <use style=\"stroke:#000000;stroke-width:0.8;\" x=\"124.994861\" xlink:href=\"#m5e7637acd3\" y=\"224.64\"/>\n      </g>\n     </g>\n     <g id=\"text_2\">\n      <!-- 20 -->\n      <defs>\n       <path d=\"M 19.1875 8.296875 \nL 53.609375 8.296875 \nL 53.609375 0 \nL 7.328125 0 \nL 7.328125 8.296875 \nQ 12.9375 14.109375 22.625 23.890625 \nQ 32.328125 33.6875 34.8125 36.53125 \nQ 39.546875 41.84375 41.421875 45.53125 \nQ 43.3125 49.21875 43.3125 52.78125 \nQ 43.3125 58.59375 39.234375 62.25 \nQ 35.15625 65.921875 28.609375 65.921875 \nQ 23.96875 65.921875 18.8125 64.3125 \nQ 13.671875 62.703125 7.8125 59.421875 \nL 7.8125 69.390625 \nQ 13.765625 71.78125 18.9375 73 \nQ 24.125 74.21875 28.421875 74.21875 \nQ 39.75 74.21875 46.484375 68.546875 \nQ 53.21875 62.890625 53.21875 53.421875 \nQ 53.21875 48.921875 51.53125 44.890625 \nQ 49.859375 40.875 45.40625 35.40625 \nQ 44.1875 33.984375 37.640625 27.21875 \nQ 31.109375 20.453125 19.1875 8.296875 \nz\n\" id=\"DejaVuSans-50\"/>\n      </defs>\n      <g transform=\"translate(118.632361 239.238437)scale(0.1 -0.1)\">\n       <use xlink:href=\"#DejaVuSans-50\"/>\n       <use x=\"63.623047\" xlink:href=\"#DejaVuSans-48\"/>\n      </g>\n     </g>\n    </g>\n    <g id=\"xtick_3\">\n     <g id=\"line2d_3\">\n      <g>\n       <use style=\"stroke:#000000;stroke-width:0.8;\" x=\"194.168414\" xlink:href=\"#m5e7637acd3\" y=\"224.64\"/>\n      </g>\n     </g>\n     <g id=\"text_3\">\n      <!-- 40 -->\n      <defs>\n       <path d=\"M 37.796875 64.3125 \nL 12.890625 25.390625 \nL 37.796875 25.390625 \nz\nM 35.203125 72.90625 \nL 47.609375 72.90625 \nL 47.609375 25.390625 \nL 58.015625 25.390625 \nL 58.015625 17.1875 \nL 47.609375 17.1875 \nL 47.609375 0 \nL 37.796875 0 \nL 37.796875 17.1875 \nL 4.890625 17.1875 \nL 4.890625 26.703125 \nz\n\" id=\"DejaVuSans-52\"/>\n      </defs>\n      <g transform=\"translate(187.805914 239.238437)scale(0.1 -0.1)\">\n       <use xlink:href=\"#DejaVuSans-52\"/>\n       <use x=\"63.623047\" xlink:href=\"#DejaVuSans-48\"/>\n      </g>\n     </g>\n    </g>\n    <g id=\"xtick_4\">\n     <g id=\"line2d_4\">\n      <g>\n       <use style=\"stroke:#000000;stroke-width:0.8;\" x=\"263.341968\" xlink:href=\"#m5e7637acd3\" y=\"224.64\"/>\n      </g>\n     </g>\n     <g id=\"text_4\">\n      <!-- 60 -->\n      <defs>\n       <path d=\"M 33.015625 40.375 \nQ 26.375 40.375 22.484375 35.828125 \nQ 18.609375 31.296875 18.609375 23.390625 \nQ 18.609375 15.53125 22.484375 10.953125 \nQ 26.375 6.390625 33.015625 6.390625 \nQ 39.65625 6.390625 43.53125 10.953125 \nQ 47.40625 15.53125 47.40625 23.390625 \nQ 47.40625 31.296875 43.53125 35.828125 \nQ 39.65625 40.375 33.015625 40.375 \nz\nM 52.59375 71.296875 \nL 52.59375 62.3125 \nQ 48.875 64.0625 45.09375 64.984375 \nQ 41.3125 65.921875 37.59375 65.921875 \nQ 27.828125 65.921875 22.671875 59.328125 \nQ 17.53125 52.734375 16.796875 39.40625 \nQ 19.671875 43.65625 24.015625 45.921875 \nQ 28.375 48.1875 33.59375 48.1875 \nQ 44.578125 48.1875 50.953125 41.515625 \nQ 57.328125 34.859375 57.328125 23.390625 \nQ 57.328125 12.15625 50.6875 5.359375 \nQ 44.046875 -1.421875 33.015625 -1.421875 \nQ 20.359375 -1.421875 13.671875 8.265625 \nQ 6.984375 17.96875 6.984375 36.375 \nQ 6.984375 53.65625 15.1875 63.9375 \nQ 23.390625 74.21875 37.203125 74.21875 \nQ 40.921875 74.21875 44.703125 73.484375 \nQ 48.484375 72.75 52.59375 71.296875 \nz\n\" id=\"DejaVuSans-54\"/>\n      </defs>\n      <g transform=\"translate(256.979468 239.238437)scale(0.1 -0.1)\">\n       <use xlink:href=\"#DejaVuSans-54\"/>\n       <use x=\"63.623047\" xlink:href=\"#DejaVuSans-48\"/>\n      </g>\n     </g>\n    </g>\n    <g id=\"xtick_5\">\n     <g id=\"line2d_5\">\n      <g>\n       <use style=\"stroke:#000000;stroke-width:0.8;\" x=\"332.515522\" xlink:href=\"#m5e7637acd3\" y=\"224.64\"/>\n      </g>\n     </g>\n     <g id=\"text_5\">\n      <!-- 80 -->\n      <defs>\n       <path d=\"M 31.78125 34.625 \nQ 24.75 34.625 20.71875 30.859375 \nQ 16.703125 27.09375 16.703125 20.515625 \nQ 16.703125 13.921875 20.71875 10.15625 \nQ 24.75 6.390625 31.78125 6.390625 \nQ 38.8125 6.390625 42.859375 10.171875 \nQ 46.921875 13.96875 46.921875 20.515625 \nQ 46.921875 27.09375 42.890625 30.859375 \nQ 38.875 34.625 31.78125 34.625 \nz\nM 21.921875 38.8125 \nQ 15.578125 40.375 12.03125 44.71875 \nQ 8.5 49.078125 8.5 55.328125 \nQ 8.5 64.0625 14.71875 69.140625 \nQ 20.953125 74.21875 31.78125 74.21875 \nQ 42.671875 74.21875 48.875 69.140625 \nQ 55.078125 64.0625 55.078125 55.328125 \nQ 55.078125 49.078125 51.53125 44.71875 \nQ 48 40.375 41.703125 38.8125 \nQ 48.828125 37.15625 52.796875 32.3125 \nQ 56.78125 27.484375 56.78125 20.515625 \nQ 56.78125 9.90625 50.3125 4.234375 \nQ 43.84375 -1.421875 31.78125 -1.421875 \nQ 19.734375 -1.421875 13.25 4.234375 \nQ 6.78125 9.90625 6.78125 20.515625 \nQ 6.78125 27.484375 10.78125 32.3125 \nQ 14.796875 37.15625 21.921875 38.8125 \nz\nM 18.3125 54.390625 \nQ 18.3125 48.734375 21.84375 45.5625 \nQ 25.390625 42.390625 31.78125 42.390625 \nQ 38.140625 42.390625 41.71875 45.5625 \nQ 45.3125 48.734375 45.3125 54.390625 \nQ 45.3125 60.0625 41.71875 63.234375 \nQ 38.140625 66.40625 31.78125 66.40625 \nQ 25.390625 66.40625 21.84375 63.234375 \nQ 18.3125 60.0625 18.3125 54.390625 \nz\n\" id=\"DejaVuSans-56\"/>\n      </defs>\n      <g transform=\"translate(326.153022 239.238437)scale(0.1 -0.1)\">\n       <use xlink:href=\"#DejaVuSans-56\"/>\n       <use x=\"63.623047\" xlink:href=\"#DejaVuSans-48\"/>\n      </g>\n     </g>\n    </g>\n    <g id=\"text_6\">\n     <!-- Epochs -->\n     <defs>\n      <path d=\"M 9.8125 72.90625 \nL 55.90625 72.90625 \nL 55.90625 64.59375 \nL 19.671875 64.59375 \nL 19.671875 43.015625 \nL 54.390625 43.015625 \nL 54.390625 34.71875 \nL 19.671875 34.71875 \nL 19.671875 8.296875 \nL 56.78125 8.296875 \nL 56.78125 0 \nL 9.8125 0 \nz\n\" id=\"DejaVuSans-69\"/>\n      <path d=\"M 18.109375 8.203125 \nL 18.109375 -20.796875 \nL 9.078125 -20.796875 \nL 9.078125 54.6875 \nL 18.109375 54.6875 \nL 18.109375 46.390625 \nQ 20.953125 51.265625 25.265625 53.625 \nQ 29.59375 56 35.59375 56 \nQ 45.5625 56 51.78125 48.09375 \nQ 58.015625 40.1875 58.015625 27.296875 \nQ 58.015625 14.40625 51.78125 6.484375 \nQ 45.5625 -1.421875 35.59375 -1.421875 \nQ 29.59375 -1.421875 25.265625 0.953125 \nQ 20.953125 3.328125 18.109375 8.203125 \nz\nM 48.6875 27.296875 \nQ 48.6875 37.203125 44.609375 42.84375 \nQ 40.53125 48.484375 33.40625 48.484375 \nQ 26.265625 48.484375 22.1875 42.84375 \nQ 18.109375 37.203125 18.109375 27.296875 \nQ 18.109375 17.390625 22.1875 11.75 \nQ 26.265625 6.109375 33.40625 6.109375 \nQ 40.53125 6.109375 44.609375 11.75 \nQ 48.6875 17.390625 48.6875 27.296875 \nz\n\" id=\"DejaVuSans-112\"/>\n      <path d=\"M 30.609375 48.390625 \nQ 23.390625 48.390625 19.1875 42.75 \nQ 14.984375 37.109375 14.984375 27.296875 \nQ 14.984375 17.484375 19.15625 11.84375 \nQ 23.34375 6.203125 30.609375 6.203125 \nQ 37.796875 6.203125 41.984375 11.859375 \nQ 46.1875 17.53125 46.1875 27.296875 \nQ 46.1875 37.015625 41.984375 42.703125 \nQ 37.796875 48.390625 30.609375 48.390625 \nz\nM 30.609375 56 \nQ 42.328125 56 49.015625 48.375 \nQ 55.71875 40.765625 55.71875 27.296875 \nQ 55.71875 13.875 49.015625 6.21875 \nQ 42.328125 -1.421875 30.609375 -1.421875 \nQ 18.84375 -1.421875 12.171875 6.21875 \nQ 5.515625 13.875 5.515625 27.296875 \nQ 5.515625 40.765625 12.171875 48.375 \nQ 18.84375 56 30.609375 56 \nz\n\" id=\"DejaVuSans-111\"/>\n      <path d=\"M 48.78125 52.59375 \nL 48.78125 44.1875 \nQ 44.96875 46.296875 41.140625 47.34375 \nQ 37.3125 48.390625 33.40625 48.390625 \nQ 24.65625 48.390625 19.8125 42.84375 \nQ 14.984375 37.3125 14.984375 27.296875 \nQ 14.984375 17.28125 19.8125 11.734375 \nQ 24.65625 6.203125 33.40625 6.203125 \nQ 37.3125 6.203125 41.140625 7.25 \nQ 44.96875 8.296875 48.78125 10.40625 \nL 48.78125 2.09375 \nQ 45.015625 0.34375 40.984375 -0.53125 \nQ 36.96875 -1.421875 32.421875 -1.421875 \nQ 20.0625 -1.421875 12.78125 6.34375 \nQ 5.515625 14.109375 5.515625 27.296875 \nQ 5.515625 40.671875 12.859375 48.328125 \nQ 20.21875 56 33.015625 56 \nQ 37.15625 56 41.109375 55.140625 \nQ 45.0625 54.296875 48.78125 52.59375 \nz\n\" id=\"DejaVuSans-99\"/>\n      <path d=\"M 54.890625 33.015625 \nL 54.890625 0 \nL 45.90625 0 \nL 45.90625 32.71875 \nQ 45.90625 40.484375 42.875 44.328125 \nQ 39.84375 48.1875 33.796875 48.1875 \nQ 26.515625 48.1875 22.3125 43.546875 \nQ 18.109375 38.921875 18.109375 30.90625 \nL 18.109375 0 \nL 9.078125 0 \nL 9.078125 75.984375 \nL 18.109375 75.984375 \nL 18.109375 46.1875 \nQ 21.34375 51.125 25.703125 53.5625 \nQ 30.078125 56 35.796875 56 \nQ 45.21875 56 50.046875 50.171875 \nQ 54.890625 44.34375 54.890625 33.015625 \nz\n\" id=\"DejaVuSans-104\"/>\n      <path d=\"M 44.28125 53.078125 \nL 44.28125 44.578125 \nQ 40.484375 46.53125 36.375 47.5 \nQ 32.28125 48.484375 27.875 48.484375 \nQ 21.1875 48.484375 17.84375 46.4375 \nQ 14.5 44.390625 14.5 40.28125 \nQ 14.5 37.15625 16.890625 35.375 \nQ 19.28125 33.59375 26.515625 31.984375 \nL 29.59375 31.296875 \nQ 39.15625 29.25 43.1875 25.515625 \nQ 47.21875 21.78125 47.21875 15.09375 \nQ 47.21875 7.46875 41.1875 3.015625 \nQ 35.15625 -1.421875 24.609375 -1.421875 \nQ 20.21875 -1.421875 15.453125 -0.5625 \nQ 10.6875 0.296875 5.421875 2 \nL 5.421875 11.28125 \nQ 10.40625 8.6875 15.234375 7.390625 \nQ 20.0625 6.109375 24.8125 6.109375 \nQ 31.15625 6.109375 34.5625 8.28125 \nQ 37.984375 10.453125 37.984375 14.40625 \nQ 37.984375 18.0625 35.515625 20.015625 \nQ 33.0625 21.96875 24.703125 23.78125 \nL 21.578125 24.515625 \nQ 13.234375 26.265625 9.515625 29.90625 \nQ 5.8125 33.546875 5.8125 39.890625 \nQ 5.8125 47.609375 11.28125 51.796875 \nQ 16.75 56 26.8125 56 \nQ 31.78125 56 36.171875 55.265625 \nQ 40.578125 54.546875 44.28125 53.078125 \nz\n\" id=\"DejaVuSans-115\"/>\n     </defs>\n     <g transform=\"translate(190.0875 252.916562)scale(0.1 -0.1)\">\n      <use xlink:href=\"#DejaVuSans-69\"/>\n      <use x=\"63.183594\" xlink:href=\"#DejaVuSans-112\"/>\n      <use x=\"126.660156\" xlink:href=\"#DejaVuSans-111\"/>\n      <use x=\"187.841797\" xlink:href=\"#DejaVuSans-99\"/>\n      <use x=\"242.822266\" xlink:href=\"#DejaVuSans-104\"/>\n      <use x=\"306.201172\" xlink:href=\"#DejaVuSans-115\"/>\n     </g>\n    </g>\n   </g>\n   <g id=\"matplotlib.axis_2\">\n    <g id=\"ytick_1\">\n     <g id=\"line2d_6\">\n      <defs>\n       <path d=\"M 0 0 \nL -3.5 0 \n\" id=\"m53a04f35b6\" style=\"stroke:#000000;stroke-width:0.8;\"/>\n      </defs>\n      <g>\n       <use style=\"stroke:#000000;stroke-width:0.8;\" x=\"40.603125\" xlink:href=\"#m53a04f35b6\" y=\"195.173134\"/>\n      </g>\n     </g>\n     <g id=\"text_7\">\n      <!-- 70 -->\n      <defs>\n       <path d=\"M 8.203125 72.90625 \nL 55.078125 72.90625 \nL 55.078125 68.703125 \nL 28.609375 0 \nL 18.3125 0 \nL 43.21875 64.59375 \nL 8.203125 64.59375 \nz\n\" id=\"DejaVuSans-55\"/>\n      </defs>\n      <g transform=\"translate(20.878125 198.972353)scale(0.1 -0.1)\">\n       <use xlink:href=\"#DejaVuSans-55\"/>\n       <use x=\"63.623047\" xlink:href=\"#DejaVuSans-48\"/>\n      </g>\n     </g>\n    </g>\n    <g id=\"ytick_2\">\n     <g id=\"line2d_7\">\n      <g>\n       <use style=\"stroke:#000000;stroke-width:0.8;\" x=\"40.603125\" xlink:href=\"#m53a04f35b6\" y=\"156.982195\"/>\n      </g>\n     </g>\n     <g id=\"text_8\">\n      <!-- 75 -->\n      <defs>\n       <path d=\"M 10.796875 72.90625 \nL 49.515625 72.90625 \nL 49.515625 64.59375 \nL 19.828125 64.59375 \nL 19.828125 46.734375 \nQ 21.96875 47.46875 24.109375 47.828125 \nQ 26.265625 48.1875 28.421875 48.1875 \nQ 40.625 48.1875 47.75 41.5 \nQ 54.890625 34.8125 54.890625 23.390625 \nQ 54.890625 11.625 47.5625 5.09375 \nQ 40.234375 -1.421875 26.90625 -1.421875 \nQ 22.3125 -1.421875 17.546875 -0.640625 \nQ 12.796875 0.140625 7.71875 1.703125 \nL 7.71875 11.625 \nQ 12.109375 9.234375 16.796875 8.0625 \nQ 21.484375 6.890625 26.703125 6.890625 \nQ 35.15625 6.890625 40.078125 11.328125 \nQ 45.015625 15.765625 45.015625 23.390625 \nQ 45.015625 31 40.078125 35.4375 \nQ 35.15625 39.890625 26.703125 39.890625 \nQ 22.75 39.890625 18.8125 39.015625 \nQ 14.890625 38.140625 10.796875 36.28125 \nz\n\" id=\"DejaVuSans-53\"/>\n      </defs>\n      <g transform=\"translate(20.878125 160.781413)scale(0.1 -0.1)\">\n       <use xlink:href=\"#DejaVuSans-55\"/>\n       <use x=\"63.623047\" xlink:href=\"#DejaVuSans-53\"/>\n      </g>\n     </g>\n    </g>\n    <g id=\"ytick_3\">\n     <g id=\"line2d_8\">\n      <g>\n       <use style=\"stroke:#000000;stroke-width:0.8;\" x=\"40.603125\" xlink:href=\"#m53a04f35b6\" y=\"118.791255\"/>\n      </g>\n     </g>\n     <g id=\"text_9\">\n      <!-- 80 -->\n      <g transform=\"translate(20.878125 122.590474)scale(0.1 -0.1)\">\n       <use xlink:href=\"#DejaVuSans-56\"/>\n       <use x=\"63.623047\" xlink:href=\"#DejaVuSans-48\"/>\n      </g>\n     </g>\n    </g>\n    <g id=\"ytick_4\">\n     <g id=\"line2d_9\">\n      <g>\n       <use style=\"stroke:#000000;stroke-width:0.8;\" x=\"40.603125\" xlink:href=\"#m53a04f35b6\" y=\"80.600316\"/>\n      </g>\n     </g>\n     <g id=\"text_10\">\n      <!-- 85 -->\n      <g transform=\"translate(20.878125 84.399534)scale(0.1 -0.1)\">\n       <use xlink:href=\"#DejaVuSans-56\"/>\n       <use x=\"63.623047\" xlink:href=\"#DejaVuSans-53\"/>\n      </g>\n     </g>\n    </g>\n    <g id=\"ytick_5\">\n     <g id=\"line2d_10\">\n      <g>\n       <use style=\"stroke:#000000;stroke-width:0.8;\" x=\"40.603125\" xlink:href=\"#m53a04f35b6\" y=\"42.409376\"/>\n      </g>\n     </g>\n     <g id=\"text_11\">\n      <!-- 90 -->\n      <defs>\n       <path d=\"M 10.984375 1.515625 \nL 10.984375 10.5 \nQ 14.703125 8.734375 18.5 7.8125 \nQ 22.3125 6.890625 25.984375 6.890625 \nQ 35.75 6.890625 40.890625 13.453125 \nQ 46.046875 20.015625 46.78125 33.40625 \nQ 43.953125 29.203125 39.59375 26.953125 \nQ 35.25 24.703125 29.984375 24.703125 \nQ 19.046875 24.703125 12.671875 31.3125 \nQ 6.296875 37.9375 6.296875 49.421875 \nQ 6.296875 60.640625 12.9375 67.421875 \nQ 19.578125 74.21875 30.609375 74.21875 \nQ 43.265625 74.21875 49.921875 64.515625 \nQ 56.59375 54.828125 56.59375 36.375 \nQ 56.59375 19.140625 48.40625 8.859375 \nQ 40.234375 -1.421875 26.421875 -1.421875 \nQ 22.703125 -1.421875 18.890625 -0.6875 \nQ 15.09375 0.046875 10.984375 1.515625 \nz\nM 30.609375 32.421875 \nQ 37.25 32.421875 41.125 36.953125 \nQ 45.015625 41.5 45.015625 49.421875 \nQ 45.015625 57.28125 41.125 61.84375 \nQ 37.25 66.40625 30.609375 66.40625 \nQ 23.96875 66.40625 20.09375 61.84375 \nQ 16.21875 57.28125 16.21875 49.421875 \nQ 16.21875 41.5 20.09375 36.953125 \nQ 23.96875 32.421875 30.609375 32.421875 \nz\n\" id=\"DejaVuSans-57\"/>\n      </defs>\n      <g transform=\"translate(20.878125 46.208595)scale(0.1 -0.1)\">\n       <use xlink:href=\"#DejaVuSans-57\"/>\n       <use x=\"63.623047\" xlink:href=\"#DejaVuSans-48\"/>\n      </g>\n     </g>\n    </g>\n    <g id=\"text_12\">\n     <!-- Accuracy -->\n     <defs>\n      <path d=\"M 34.1875 63.1875 \nL 20.796875 26.90625 \nL 47.609375 26.90625 \nz\nM 28.609375 72.90625 \nL 39.796875 72.90625 \nL 67.578125 0 \nL 57.328125 0 \nL 50.6875 18.703125 \nL 17.828125 18.703125 \nL 11.1875 0 \nL 0.78125 0 \nz\n\" id=\"DejaVuSans-65\"/>\n      <path d=\"M 8.5 21.578125 \nL 8.5 54.6875 \nL 17.484375 54.6875 \nL 17.484375 21.921875 \nQ 17.484375 14.15625 20.5 10.265625 \nQ 23.53125 6.390625 29.59375 6.390625 \nQ 36.859375 6.390625 41.078125 11.03125 \nQ 45.3125 15.671875 45.3125 23.6875 \nL 45.3125 54.6875 \nL 54.296875 54.6875 \nL 54.296875 0 \nL 45.3125 0 \nL 45.3125 8.40625 \nQ 42.046875 3.421875 37.71875 1 \nQ 33.40625 -1.421875 27.6875 -1.421875 \nQ 18.265625 -1.421875 13.375 4.4375 \nQ 8.5 10.296875 8.5 21.578125 \nz\nM 31.109375 56 \nz\n\" id=\"DejaVuSans-117\"/>\n      <path d=\"M 41.109375 46.296875 \nQ 39.59375 47.171875 37.8125 47.578125 \nQ 36.03125 48 33.890625 48 \nQ 26.265625 48 22.1875 43.046875 \nQ 18.109375 38.09375 18.109375 28.8125 \nL 18.109375 0 \nL 9.078125 0 \nL 9.078125 54.6875 \nL 18.109375 54.6875 \nL 18.109375 46.1875 \nQ 20.953125 51.171875 25.484375 53.578125 \nQ 30.03125 56 36.53125 56 \nQ 37.453125 56 38.578125 55.875 \nQ 39.703125 55.765625 41.0625 55.515625 \nz\n\" id=\"DejaVuSans-114\"/>\n      <path d=\"M 34.28125 27.484375 \nQ 23.390625 27.484375 19.1875 25 \nQ 14.984375 22.515625 14.984375 16.5 \nQ 14.984375 11.71875 18.140625 8.90625 \nQ 21.296875 6.109375 26.703125 6.109375 \nQ 34.1875 6.109375 38.703125 11.40625 \nQ 43.21875 16.703125 43.21875 25.484375 \nL 43.21875 27.484375 \nz\nM 52.203125 31.203125 \nL 52.203125 0 \nL 43.21875 0 \nL 43.21875 8.296875 \nQ 40.140625 3.328125 35.546875 0.953125 \nQ 30.953125 -1.421875 24.3125 -1.421875 \nQ 15.921875 -1.421875 10.953125 3.296875 \nQ 6 8.015625 6 15.921875 \nQ 6 25.140625 12.171875 29.828125 \nQ 18.359375 34.515625 30.609375 34.515625 \nL 43.21875 34.515625 \nL 43.21875 35.40625 \nQ 43.21875 41.609375 39.140625 45 \nQ 35.0625 48.390625 27.6875 48.390625 \nQ 23 48.390625 18.546875 47.265625 \nQ 14.109375 46.140625 10.015625 43.890625 \nL 10.015625 52.203125 \nQ 14.9375 54.109375 19.578125 55.046875 \nQ 24.21875 56 28.609375 56 \nQ 40.484375 56 46.34375 49.84375 \nQ 52.203125 43.703125 52.203125 31.203125 \nz\n\" id=\"DejaVuSans-97\"/>\n      <path d=\"M 32.171875 -5.078125 \nQ 28.375 -14.84375 24.75 -17.8125 \nQ 21.140625 -20.796875 15.09375 -20.796875 \nL 7.90625 -20.796875 \nL 7.90625 -13.28125 \nL 13.1875 -13.28125 \nQ 16.890625 -13.28125 18.9375 -11.515625 \nQ 21 -9.765625 23.484375 -3.21875 \nL 25.09375 0.875 \nL 2.984375 54.6875 \nL 12.5 54.6875 \nL 29.59375 11.921875 \nL 46.6875 54.6875 \nL 56.203125 54.6875 \nz\n\" id=\"DejaVuSans-121\"/>\n     </defs>\n     <g transform=\"translate(14.798438 138.834844)rotate(-90)scale(0.1 -0.1)\">\n      <use xlink:href=\"#DejaVuSans-65\"/>\n      <use x=\"68.392578\" xlink:href=\"#DejaVuSans-99\"/>\n      <use x=\"123.373047\" xlink:href=\"#DejaVuSans-99\"/>\n      <use x=\"178.353516\" xlink:href=\"#DejaVuSans-117\"/>\n      <use x=\"241.732422\" xlink:href=\"#DejaVuSans-114\"/>\n      <use x=\"282.845703\" xlink:href=\"#DejaVuSans-97\"/>\n      <use x=\"344.125\" xlink:href=\"#DejaVuSans-99\"/>\n      <use x=\"399.105469\" xlink:href=\"#DejaVuSans-121\"/>\n     </g>\n    </g>\n   </g>\n   <g id=\"line2d_11\">\n    <path clip-path=\"url(#p73709fdbc0)\" d=\"M 55.821307 214.756364 \nL 59.279985 176.731274 \nL 62.738662 157.809055 \nL 66.19734 144.942515 \nL 69.656018 135.64 \nL 73.114695 128.36399 \nL 76.573373 121.917229 \nL 80.032051 116.682409 \nL 83.490728 111.982725 \nL 86.949406 107.765847 \nL 90.408084 104.087604 \nL 93.866761 100.927888 \nL 97.325439 97.763628 \nL 100.784117 94.933223 \nL 104.242794 92.237375 \nL 107.701472 89.876199 \nL 111.16015 87.514032 \nL 114.618827 85.395395 \nL 118.077505 83.353623 \nL 121.536183 81.52939 \nL 124.994861 79.687325 \nL 128.453538 77.949689 \nL 131.912216 76.222425 \nL 135.370894 74.642946 \nL 138.829571 73.1806 \nL 142.288249 71.731365 \nL 145.746927 70.294251 \nL 149.205604 68.952883 \nL 152.664282 67.620256 \nL 156.12296 66.297419 \nL 159.581637 65.091249 \nL 163.040315 63.423018 \nL 166.498993 61.69925 \nL 169.95767 59.987371 \nL 173.416348 58.340993 \nL 176.875026 56.745372 \nL 180.333704 55.209891 \nL 183.792381 53.737463 \nL 187.251059 52.320221 \nL 190.709737 50.955135 \nL 194.168414 49.664757 \nL 197.627092 48.436034 \nL 201.08577 47.23132 \nL 204.544447 46.081326 \nL 208.003125 44.962218 \nL 211.461803 43.868925 \nL 214.92048 42.848243 \nL 218.379158 41.855941 \nL 221.837836 40.883685 \nL 225.296513 39.938294 \nL 228.755191 39.017786 \nL 232.213869 38.13638 \nL 235.672546 37.284287 \nL 239.131224 36.463196 \nL 242.589902 35.673514 \nL 246.04858 34.89409 \nL 249.507257 34.143744 \nL 252.965935 33.422769 \nL 256.424613 32.710127 \nL 259.88329 32.025049 \nL 263.341968 31.361766 \nL 266.800646 30.700639 \nL 270.259323 30.033742 \nL 273.718001 29.389165 \nL 277.176679 28.760556 \nL 280.635356 28.14634 \nL 284.094034 27.549956 \nL 287.552712 26.957943 \nL 291.011389 26.385568 \nL 294.470067 25.828345 \nL 297.928745 25.287847 \nL 301.387423 24.759994 \nL 304.8461 24.250382 \nL 308.304778 23.743042 \nL 311.763456 23.259478 \nL 315.222133 22.780518 \nL 318.680811 22.319215 \nL 322.139489 21.861641 \nL 325.598166 21.417355 \nL 329.056844 20.989152 \nL 332.515522 20.571205 \nL 335.974199 20.159086 \nL 339.432877 19.753727 \nL 342.891555 19.35338 \nL 346.350232 18.96492 \nL 349.80891 18.590563 \nL 353.267588 18.213059 \nL 356.726265 17.850474 \nL 360.184943 17.500767 \n\" style=\"fill:none;stroke:#ff0000;stroke-linecap:square;stroke-width:1.5;\"/>\n   </g>\n   <g id=\"line2d_12\">\n    <path clip-path=\"url(#p73709fdbc0)\" d=\"M 55.821307 181.798205 \nL 59.279985 160.906125 \nL 62.738662 146.86226 \nL 66.19734 136.734109 \nL 69.656018 129.106468 \nL 73.114695 122.660174 \nL 76.573373 117.269527 \nL 80.032051 112.401779 \nL 83.490728 108.142011 \nL 86.949406 104.407765 \nL 90.408084 101.089368 \nL 93.866761 97.966657 \nL 97.325439 95.155541 \nL 100.784117 92.405032 \nL 104.242794 89.986629 \nL 107.701472 87.60832 \nL 111.16015 85.457341 \nL 114.618827 83.408401 \nL 118.077505 81.456372 \nL 121.536183 79.695309 \nL 124.994861 77.938733 \nL 128.453538 76.241831 \nL 131.912216 74.619986 \nL 135.370894 73.132348 \nL 138.829571 71.691389 \nL 142.288249 70.256256 \nL 145.746927 68.88814 \nL 149.205604 67.603939 \nL 152.664282 66.26024 \nL 156.12296 65.04661 \nL 159.581637 63.43712 \nL 163.040315 61.70263 \nL 166.498993 59.98335 \nL 169.95767 58.329921 \nL 173.416348 56.724685 \nL 176.875026 55.193865 \nL 180.333704 53.709957 \nL 183.792381 52.294638 \nL 187.251059 50.926056 \nL 190.709737 49.61703 \nL 194.168414 48.387316 \nL 197.627092 47.186507 \nL 201.08577 46.02445 \nL 204.544447 44.906624 \nL 208.003125 43.816187 \nL 211.461803 42.787521 \nL 214.92048 41.798715 \nL 218.379158 40.821855 \nL 221.837836 39.87897 \nL 225.296513 38.952576 \nL 228.755191 38.061497 \nL 232.213869 37.213716 \nL 235.672546 36.392275 \nL 239.131224 35.607023 \nL 242.589902 34.822412 \nL 246.04858 34.071833 \nL 249.507257 33.349401 \nL 252.965935 32.639148 \nL 256.424613 31.951681 \nL 259.88329 31.280472 \nL 263.341968 30.629951 \nL 266.800646 29.961598 \nL 270.259323 29.316497 \nL 273.718001 28.690218 \nL 277.176679 28.076585 \nL 280.635356 27.474782 \nL 284.094034 26.882827 \nL 287.552712 26.314473 \nL 291.011389 25.757425 \nL 294.470067 25.216635 \nL 297.928745 24.687908 \nL 301.387423 24.176664 \nL 304.8461 23.670897 \nL 308.304778 23.1871 \nL 311.763456 22.709481 \nL 315.222133 22.244623 \nL 318.680811 21.785884 \nL 322.139489 21.341364 \nL 325.598166 20.915259 \nL 329.056844 20.498129 \nL 332.515522 20.084378 \nL 335.974199 19.680476 \nL 339.432877 19.278147 \nL 342.891555 18.891144 \nL 346.350232 18.515097 \nL 349.80891 18.139808 \nL 353.267588 17.777456 \nL 356.726265 17.42769 \nL 360.184943 17.083636 \n\" style=\"fill:none;stroke:#0000ff;stroke-linecap:square;stroke-width:1.5;\"/>\n   </g>\n   <g id=\"patch_3\">\n    <path d=\"M 40.603125 224.64 \nL 40.603125 7.2 \n\" style=\"fill:none;stroke:#000000;stroke-linecap:square;stroke-linejoin:miter;stroke-width:0.8;\"/>\n   </g>\n   <g id=\"patch_4\">\n    <path d=\"M 375.403125 224.64 \nL 375.403125 7.2 \n\" style=\"fill:none;stroke:#000000;stroke-linecap:square;stroke-linejoin:miter;stroke-width:0.8;\"/>\n   </g>\n   <g id=\"patch_5\">\n    <path d=\"M 40.603125 224.64 \nL 375.403125 224.64 \n\" style=\"fill:none;stroke:#000000;stroke-linecap:square;stroke-linejoin:miter;stroke-width:0.8;\"/>\n   </g>\n   <g id=\"patch_6\">\n    <path d=\"M 40.603125 7.2 \nL 375.403125 7.2 \n\" style=\"fill:none;stroke:#000000;stroke-linecap:square;stroke-linejoin:miter;stroke-width:0.8;\"/>\n   </g>\n   <g id=\"legend_1\">\n    <g id=\"patch_7\">\n     <path d=\"M 47.603125 44.55625 \nL 105.04375 44.55625 \nQ 107.04375 44.55625 107.04375 42.55625 \nL 107.04375 14.2 \nQ 107.04375 12.2 105.04375 12.2 \nL 47.603125 12.2 \nQ 45.603125 12.2 45.603125 14.2 \nL 45.603125 42.55625 \nQ 45.603125 44.55625 47.603125 44.55625 \nz\n\" style=\"fill:#ffffff;opacity:0.8;stroke:#cccccc;stroke-linejoin:miter;\"/>\n    </g>\n    <g id=\"line2d_13\">\n     <path d=\"M 49.603125 20.298437 \nL 69.603125 20.298437 \n\" style=\"fill:none;stroke:#ff0000;stroke-linecap:square;stroke-width:1.5;\"/>\n    </g>\n    <g id=\"line2d_14\"/>\n    <g id=\"text_13\">\n     <!-- Train -->\n     <defs>\n      <path d=\"M -0.296875 72.90625 \nL 61.375 72.90625 \nL 61.375 64.59375 \nL 35.5 64.59375 \nL 35.5 0 \nL 25.59375 0 \nL 25.59375 64.59375 \nL -0.296875 64.59375 \nz\n\" id=\"DejaVuSans-84\"/>\n      <path d=\"M 9.421875 54.6875 \nL 18.40625 54.6875 \nL 18.40625 0 \nL 9.421875 0 \nz\nM 9.421875 75.984375 \nL 18.40625 75.984375 \nL 18.40625 64.59375 \nL 9.421875 64.59375 \nz\n\" id=\"DejaVuSans-105\"/>\n      <path d=\"M 54.890625 33.015625 \nL 54.890625 0 \nL 45.90625 0 \nL 45.90625 32.71875 \nQ 45.90625 40.484375 42.875 44.328125 \nQ 39.84375 48.1875 33.796875 48.1875 \nQ 26.515625 48.1875 22.3125 43.546875 \nQ 18.109375 38.921875 18.109375 30.90625 \nL 18.109375 0 \nL 9.078125 0 \nL 9.078125 54.6875 \nL 18.109375 54.6875 \nL 18.109375 46.1875 \nQ 21.34375 51.125 25.703125 53.5625 \nQ 30.078125 56 35.796875 56 \nQ 45.21875 56 50.046875 50.171875 \nQ 54.890625 44.34375 54.890625 33.015625 \nz\n\" id=\"DejaVuSans-110\"/>\n     </defs>\n     <g transform=\"translate(77.603125 23.798437)scale(0.1 -0.1)\">\n      <use xlink:href=\"#DejaVuSans-84\"/>\n      <use x=\"60.865234\" xlink:href=\"#DejaVuSans-114\"/>\n      <use x=\"101.978516\" xlink:href=\"#DejaVuSans-97\"/>\n      <use x=\"163.257812\" xlink:href=\"#DejaVuSans-105\"/>\n      <use x=\"191.041016\" xlink:href=\"#DejaVuSans-110\"/>\n     </g>\n    </g>\n    <g id=\"line2d_15\">\n     <path d=\"M 49.603125 34.976562 \nL 69.603125 34.976562 \n\" style=\"fill:none;stroke:#0000ff;stroke-linecap:square;stroke-width:1.5;\"/>\n    </g>\n    <g id=\"line2d_16\"/>\n    <g id=\"text_14\">\n     <!-- Val -->\n     <defs>\n      <path d=\"M 28.609375 0 \nL 0.78125 72.90625 \nL 11.078125 72.90625 \nL 34.1875 11.53125 \nL 57.328125 72.90625 \nL 67.578125 72.90625 \nL 39.796875 0 \nz\n\" id=\"DejaVuSans-86\"/>\n      <path d=\"M 9.421875 75.984375 \nL 18.40625 75.984375 \nL 18.40625 0 \nL 9.421875 0 \nz\n\" id=\"DejaVuSans-108\"/>\n     </defs>\n     <g transform=\"translate(77.603125 38.476562)scale(0.1 -0.1)\">\n      <use xlink:href=\"#DejaVuSans-86\"/>\n      <use x=\"68.298828\" xlink:href=\"#DejaVuSans-97\"/>\n      <use x=\"129.578125\" xlink:href=\"#DejaVuSans-108\"/>\n     </g>\n    </g>\n   </g>\n  </g>\n </g>\n <defs>\n  <clipPath id=\"p73709fdbc0\">\n   <rect height=\"217.44\" width=\"334.8\" x=\"40.603125\" y=\"7.2\"/>\n  </clipPath>\n </defs>\n</svg>\n"
          },
          "metadata": {
            "tags": []
          }
        }
      ]
    },
    {
      "cell_type": "code",
      "metadata": {
        "id": "MffrvIMVb1sB",
        "colab_type": "code",
        "outputId": "238988ee-64f9-4eb9-aea9-0e1fd17e5672",
        "colab": {
          "base_uri": "https://localhost:8080/",
          "height": 371
        }
      },
      "source": [
        "plt.xlabel(\"Epochs\")\n",
        "plt.ylabel(\"Losses\")\n",
        "plt.plot(ep_sgd_losses, 'r', label='Train')\n",
        "plt.plot(ep_sgd_lossesv, 'b', label='Val')\n",
        "plt.legend()\n",
        "plt.savefig('sgd_resnet18_9331_loss.jpg')"
      ],
      "execution_count": 0,
      "outputs": [
        {
          "output_type": "display_data",
          "data": {
            "text/plain": [
              "<Figure size 432x288 with 1 Axes>"
            ],
            "image/svg+xml": "<?xml version=\"1.0\" encoding=\"utf-8\" standalone=\"no\"?>\n<!DOCTYPE svg PUBLIC \"-//W3C//DTD SVG 1.1//EN\"\n  \"http://www.w3.org/Graphics/SVG/1.1/DTD/svg11.dtd\">\n<!-- Created with matplotlib (https://matplotlib.org/) -->\n<svg height=\"262.19625pt\" version=\"1.1\" viewBox=\"0 0 385.78125 262.19625\" width=\"385.78125pt\" xmlns=\"http://www.w3.org/2000/svg\" xmlns:xlink=\"http://www.w3.org/1999/xlink\">\n <defs>\n  <style type=\"text/css\">\n*{stroke-linecap:butt;stroke-linejoin:round;}\n  </style>\n </defs>\n <g id=\"figure_1\">\n  <g id=\"patch_1\">\n   <path d=\"M 0 262.19625 \nL 385.78125 262.19625 \nL 385.78125 0 \nL 0 0 \nz\n\" style=\"fill:none;\"/>\n  </g>\n  <g id=\"axes_1\">\n   <g id=\"patch_2\">\n    <path d=\"M 43.78125 224.64 \nL 378.58125 224.64 \nL 378.58125 7.2 \nL 43.78125 7.2 \nz\n\" style=\"fill:#ffffff;\"/>\n   </g>\n   <g id=\"matplotlib.axis_1\">\n    <g id=\"xtick_1\">\n     <g id=\"line2d_1\">\n      <defs>\n       <path d=\"M 0 0 \nL 0 3.5 \n\" id=\"m286c72b766\" style=\"stroke:#000000;stroke-width:0.8;\"/>\n      </defs>\n      <g>\n       <use style=\"stroke:#000000;stroke-width:0.8;\" x=\"58.999432\" xlink:href=\"#m286c72b766\" y=\"224.64\"/>\n      </g>\n     </g>\n     <g id=\"text_1\">\n      <!-- 0 -->\n      <defs>\n       <path d=\"M 31.78125 66.40625 \nQ 24.171875 66.40625 20.328125 58.90625 \nQ 16.5 51.421875 16.5 36.375 \nQ 16.5 21.390625 20.328125 13.890625 \nQ 24.171875 6.390625 31.78125 6.390625 \nQ 39.453125 6.390625 43.28125 13.890625 \nQ 47.125 21.390625 47.125 36.375 \nQ 47.125 51.421875 43.28125 58.90625 \nQ 39.453125 66.40625 31.78125 66.40625 \nz\nM 31.78125 74.21875 \nQ 44.046875 74.21875 50.515625 64.515625 \nQ 56.984375 54.828125 56.984375 36.375 \nQ 56.984375 17.96875 50.515625 8.265625 \nQ 44.046875 -1.421875 31.78125 -1.421875 \nQ 19.53125 -1.421875 13.0625 8.265625 \nQ 6.59375 17.96875 6.59375 36.375 \nQ 6.59375 54.828125 13.0625 64.515625 \nQ 19.53125 74.21875 31.78125 74.21875 \nz\n\" id=\"DejaVuSans-48\"/>\n      </defs>\n      <g transform=\"translate(55.818182 239.238438)scale(0.1 -0.1)\">\n       <use xlink:href=\"#DejaVuSans-48\"/>\n      </g>\n     </g>\n    </g>\n    <g id=\"xtick_2\">\n     <g id=\"line2d_2\">\n      <g>\n       <use style=\"stroke:#000000;stroke-width:0.8;\" x=\"128.172986\" xlink:href=\"#m286c72b766\" y=\"224.64\"/>\n      </g>\n     </g>\n     <g id=\"text_2\">\n      <!-- 20 -->\n      <defs>\n       <path d=\"M 19.1875 8.296875 \nL 53.609375 8.296875 \nL 53.609375 0 \nL 7.328125 0 \nL 7.328125 8.296875 \nQ 12.9375 14.109375 22.625 23.890625 \nQ 32.328125 33.6875 34.8125 36.53125 \nQ 39.546875 41.84375 41.421875 45.53125 \nQ 43.3125 49.21875 43.3125 52.78125 \nQ 43.3125 58.59375 39.234375 62.25 \nQ 35.15625 65.921875 28.609375 65.921875 \nQ 23.96875 65.921875 18.8125 64.3125 \nQ 13.671875 62.703125 7.8125 59.421875 \nL 7.8125 69.390625 \nQ 13.765625 71.78125 18.9375 73 \nQ 24.125 74.21875 28.421875 74.21875 \nQ 39.75 74.21875 46.484375 68.546875 \nQ 53.21875 62.890625 53.21875 53.421875 \nQ 53.21875 48.921875 51.53125 44.890625 \nQ 49.859375 40.875 45.40625 35.40625 \nQ 44.1875 33.984375 37.640625 27.21875 \nQ 31.109375 20.453125 19.1875 8.296875 \nz\n\" id=\"DejaVuSans-50\"/>\n      </defs>\n      <g transform=\"translate(121.810486 239.238438)scale(0.1 -0.1)\">\n       <use xlink:href=\"#DejaVuSans-50\"/>\n       <use x=\"63.623047\" xlink:href=\"#DejaVuSans-48\"/>\n      </g>\n     </g>\n    </g>\n    <g id=\"xtick_3\">\n     <g id=\"line2d_3\">\n      <g>\n       <use style=\"stroke:#000000;stroke-width:0.8;\" x=\"197.346539\" xlink:href=\"#m286c72b766\" y=\"224.64\"/>\n      </g>\n     </g>\n     <g id=\"text_3\">\n      <!-- 40 -->\n      <defs>\n       <path d=\"M 37.796875 64.3125 \nL 12.890625 25.390625 \nL 37.796875 25.390625 \nz\nM 35.203125 72.90625 \nL 47.609375 72.90625 \nL 47.609375 25.390625 \nL 58.015625 25.390625 \nL 58.015625 17.1875 \nL 47.609375 17.1875 \nL 47.609375 0 \nL 37.796875 0 \nL 37.796875 17.1875 \nL 4.890625 17.1875 \nL 4.890625 26.703125 \nz\n\" id=\"DejaVuSans-52\"/>\n      </defs>\n      <g transform=\"translate(190.984039 239.238438)scale(0.1 -0.1)\">\n       <use xlink:href=\"#DejaVuSans-52\"/>\n       <use x=\"63.623047\" xlink:href=\"#DejaVuSans-48\"/>\n      </g>\n     </g>\n    </g>\n    <g id=\"xtick_4\">\n     <g id=\"line2d_4\">\n      <g>\n       <use style=\"stroke:#000000;stroke-width:0.8;\" x=\"266.520093\" xlink:href=\"#m286c72b766\" y=\"224.64\"/>\n      </g>\n     </g>\n     <g id=\"text_4\">\n      <!-- 60 -->\n      <defs>\n       <path d=\"M 33.015625 40.375 \nQ 26.375 40.375 22.484375 35.828125 \nQ 18.609375 31.296875 18.609375 23.390625 \nQ 18.609375 15.53125 22.484375 10.953125 \nQ 26.375 6.390625 33.015625 6.390625 \nQ 39.65625 6.390625 43.53125 10.953125 \nQ 47.40625 15.53125 47.40625 23.390625 \nQ 47.40625 31.296875 43.53125 35.828125 \nQ 39.65625 40.375 33.015625 40.375 \nz\nM 52.59375 71.296875 \nL 52.59375 62.3125 \nQ 48.875 64.0625 45.09375 64.984375 \nQ 41.3125 65.921875 37.59375 65.921875 \nQ 27.828125 65.921875 22.671875 59.328125 \nQ 17.53125 52.734375 16.796875 39.40625 \nQ 19.671875 43.65625 24.015625 45.921875 \nQ 28.375 48.1875 33.59375 48.1875 \nQ 44.578125 48.1875 50.953125 41.515625 \nQ 57.328125 34.859375 57.328125 23.390625 \nQ 57.328125 12.15625 50.6875 5.359375 \nQ 44.046875 -1.421875 33.015625 -1.421875 \nQ 20.359375 -1.421875 13.671875 8.265625 \nQ 6.984375 17.96875 6.984375 36.375 \nQ 6.984375 53.65625 15.1875 63.9375 \nQ 23.390625 74.21875 37.203125 74.21875 \nQ 40.921875 74.21875 44.703125 73.484375 \nQ 48.484375 72.75 52.59375 71.296875 \nz\n\" id=\"DejaVuSans-54\"/>\n      </defs>\n      <g transform=\"translate(260.157593 239.238438)scale(0.1 -0.1)\">\n       <use xlink:href=\"#DejaVuSans-54\"/>\n       <use x=\"63.623047\" xlink:href=\"#DejaVuSans-48\"/>\n      </g>\n     </g>\n    </g>\n    <g id=\"xtick_5\">\n     <g id=\"line2d_5\">\n      <g>\n       <use style=\"stroke:#000000;stroke-width:0.8;\" x=\"335.693647\" xlink:href=\"#m286c72b766\" y=\"224.64\"/>\n      </g>\n     </g>\n     <g id=\"text_5\">\n      <!-- 80 -->\n      <defs>\n       <path d=\"M 31.78125 34.625 \nQ 24.75 34.625 20.71875 30.859375 \nQ 16.703125 27.09375 16.703125 20.515625 \nQ 16.703125 13.921875 20.71875 10.15625 \nQ 24.75 6.390625 31.78125 6.390625 \nQ 38.8125 6.390625 42.859375 10.171875 \nQ 46.921875 13.96875 46.921875 20.515625 \nQ 46.921875 27.09375 42.890625 30.859375 \nQ 38.875 34.625 31.78125 34.625 \nz\nM 21.921875 38.8125 \nQ 15.578125 40.375 12.03125 44.71875 \nQ 8.5 49.078125 8.5 55.328125 \nQ 8.5 64.0625 14.71875 69.140625 \nQ 20.953125 74.21875 31.78125 74.21875 \nQ 42.671875 74.21875 48.875 69.140625 \nQ 55.078125 64.0625 55.078125 55.328125 \nQ 55.078125 49.078125 51.53125 44.71875 \nQ 48 40.375 41.703125 38.8125 \nQ 48.828125 37.15625 52.796875 32.3125 \nQ 56.78125 27.484375 56.78125 20.515625 \nQ 56.78125 9.90625 50.3125 4.234375 \nQ 43.84375 -1.421875 31.78125 -1.421875 \nQ 19.734375 -1.421875 13.25 4.234375 \nQ 6.78125 9.90625 6.78125 20.515625 \nQ 6.78125 27.484375 10.78125 32.3125 \nQ 14.796875 37.15625 21.921875 38.8125 \nz\nM 18.3125 54.390625 \nQ 18.3125 48.734375 21.84375 45.5625 \nQ 25.390625 42.390625 31.78125 42.390625 \nQ 38.140625 42.390625 41.71875 45.5625 \nQ 45.3125 48.734375 45.3125 54.390625 \nQ 45.3125 60.0625 41.71875 63.234375 \nQ 38.140625 66.40625 31.78125 66.40625 \nQ 25.390625 66.40625 21.84375 63.234375 \nQ 18.3125 60.0625 18.3125 54.390625 \nz\n\" id=\"DejaVuSans-56\"/>\n      </defs>\n      <g transform=\"translate(329.331147 239.238438)scale(0.1 -0.1)\">\n       <use xlink:href=\"#DejaVuSans-56\"/>\n       <use x=\"63.623047\" xlink:href=\"#DejaVuSans-48\"/>\n      </g>\n     </g>\n    </g>\n    <g id=\"text_6\">\n     <!-- Epochs -->\n     <defs>\n      <path d=\"M 9.8125 72.90625 \nL 55.90625 72.90625 \nL 55.90625 64.59375 \nL 19.671875 64.59375 \nL 19.671875 43.015625 \nL 54.390625 43.015625 \nL 54.390625 34.71875 \nL 19.671875 34.71875 \nL 19.671875 8.296875 \nL 56.78125 8.296875 \nL 56.78125 0 \nL 9.8125 0 \nz\n\" id=\"DejaVuSans-69\"/>\n      <path d=\"M 18.109375 8.203125 \nL 18.109375 -20.796875 \nL 9.078125 -20.796875 \nL 9.078125 54.6875 \nL 18.109375 54.6875 \nL 18.109375 46.390625 \nQ 20.953125 51.265625 25.265625 53.625 \nQ 29.59375 56 35.59375 56 \nQ 45.5625 56 51.78125 48.09375 \nQ 58.015625 40.1875 58.015625 27.296875 \nQ 58.015625 14.40625 51.78125 6.484375 \nQ 45.5625 -1.421875 35.59375 -1.421875 \nQ 29.59375 -1.421875 25.265625 0.953125 \nQ 20.953125 3.328125 18.109375 8.203125 \nz\nM 48.6875 27.296875 \nQ 48.6875 37.203125 44.609375 42.84375 \nQ 40.53125 48.484375 33.40625 48.484375 \nQ 26.265625 48.484375 22.1875 42.84375 \nQ 18.109375 37.203125 18.109375 27.296875 \nQ 18.109375 17.390625 22.1875 11.75 \nQ 26.265625 6.109375 33.40625 6.109375 \nQ 40.53125 6.109375 44.609375 11.75 \nQ 48.6875 17.390625 48.6875 27.296875 \nz\n\" id=\"DejaVuSans-112\"/>\n      <path d=\"M 30.609375 48.390625 \nQ 23.390625 48.390625 19.1875 42.75 \nQ 14.984375 37.109375 14.984375 27.296875 \nQ 14.984375 17.484375 19.15625 11.84375 \nQ 23.34375 6.203125 30.609375 6.203125 \nQ 37.796875 6.203125 41.984375 11.859375 \nQ 46.1875 17.53125 46.1875 27.296875 \nQ 46.1875 37.015625 41.984375 42.703125 \nQ 37.796875 48.390625 30.609375 48.390625 \nz\nM 30.609375 56 \nQ 42.328125 56 49.015625 48.375 \nQ 55.71875 40.765625 55.71875 27.296875 \nQ 55.71875 13.875 49.015625 6.21875 \nQ 42.328125 -1.421875 30.609375 -1.421875 \nQ 18.84375 -1.421875 12.171875 6.21875 \nQ 5.515625 13.875 5.515625 27.296875 \nQ 5.515625 40.765625 12.171875 48.375 \nQ 18.84375 56 30.609375 56 \nz\n\" id=\"DejaVuSans-111\"/>\n      <path d=\"M 48.78125 52.59375 \nL 48.78125 44.1875 \nQ 44.96875 46.296875 41.140625 47.34375 \nQ 37.3125 48.390625 33.40625 48.390625 \nQ 24.65625 48.390625 19.8125 42.84375 \nQ 14.984375 37.3125 14.984375 27.296875 \nQ 14.984375 17.28125 19.8125 11.734375 \nQ 24.65625 6.203125 33.40625 6.203125 \nQ 37.3125 6.203125 41.140625 7.25 \nQ 44.96875 8.296875 48.78125 10.40625 \nL 48.78125 2.09375 \nQ 45.015625 0.34375 40.984375 -0.53125 \nQ 36.96875 -1.421875 32.421875 -1.421875 \nQ 20.0625 -1.421875 12.78125 6.34375 \nQ 5.515625 14.109375 5.515625 27.296875 \nQ 5.515625 40.671875 12.859375 48.328125 \nQ 20.21875 56 33.015625 56 \nQ 37.15625 56 41.109375 55.140625 \nQ 45.0625 54.296875 48.78125 52.59375 \nz\n\" id=\"DejaVuSans-99\"/>\n      <path d=\"M 54.890625 33.015625 \nL 54.890625 0 \nL 45.90625 0 \nL 45.90625 32.71875 \nQ 45.90625 40.484375 42.875 44.328125 \nQ 39.84375 48.1875 33.796875 48.1875 \nQ 26.515625 48.1875 22.3125 43.546875 \nQ 18.109375 38.921875 18.109375 30.90625 \nL 18.109375 0 \nL 9.078125 0 \nL 9.078125 75.984375 \nL 18.109375 75.984375 \nL 18.109375 46.1875 \nQ 21.34375 51.125 25.703125 53.5625 \nQ 30.078125 56 35.796875 56 \nQ 45.21875 56 50.046875 50.171875 \nQ 54.890625 44.34375 54.890625 33.015625 \nz\n\" id=\"DejaVuSans-104\"/>\n      <path d=\"M 44.28125 53.078125 \nL 44.28125 44.578125 \nQ 40.484375 46.53125 36.375 47.5 \nQ 32.28125 48.484375 27.875 48.484375 \nQ 21.1875 48.484375 17.84375 46.4375 \nQ 14.5 44.390625 14.5 40.28125 \nQ 14.5 37.15625 16.890625 35.375 \nQ 19.28125 33.59375 26.515625 31.984375 \nL 29.59375 31.296875 \nQ 39.15625 29.25 43.1875 25.515625 \nQ 47.21875 21.78125 47.21875 15.09375 \nQ 47.21875 7.46875 41.1875 3.015625 \nQ 35.15625 -1.421875 24.609375 -1.421875 \nQ 20.21875 -1.421875 15.453125 -0.5625 \nQ 10.6875 0.296875 5.421875 2 \nL 5.421875 11.28125 \nQ 10.40625 8.6875 15.234375 7.390625 \nQ 20.0625 6.109375 24.8125 6.109375 \nQ 31.15625 6.109375 34.5625 8.28125 \nQ 37.984375 10.453125 37.984375 14.40625 \nQ 37.984375 18.0625 35.515625 20.015625 \nQ 33.0625 21.96875 24.703125 23.78125 \nL 21.578125 24.515625 \nQ 13.234375 26.265625 9.515625 29.90625 \nQ 5.8125 33.546875 5.8125 39.890625 \nQ 5.8125 47.609375 11.28125 51.796875 \nQ 16.75 56 26.8125 56 \nQ 31.78125 56 36.171875 55.265625 \nQ 40.578125 54.546875 44.28125 53.078125 \nz\n\" id=\"DejaVuSans-115\"/>\n     </defs>\n     <g transform=\"translate(193.265625 252.916563)scale(0.1 -0.1)\">\n      <use xlink:href=\"#DejaVuSans-69\"/>\n      <use x=\"63.183594\" xlink:href=\"#DejaVuSans-112\"/>\n      <use x=\"126.660156\" xlink:href=\"#DejaVuSans-111\"/>\n      <use x=\"187.841797\" xlink:href=\"#DejaVuSans-99\"/>\n      <use x=\"242.822266\" xlink:href=\"#DejaVuSans-104\"/>\n      <use x=\"306.201172\" xlink:href=\"#DejaVuSans-115\"/>\n     </g>\n    </g>\n   </g>\n   <g id=\"matplotlib.axis_2\">\n    <g id=\"ytick_1\">\n     <g id=\"line2d_6\">\n      <defs>\n       <path d=\"M 0 0 \nL -3.5 0 \n\" id=\"md1f6b613a6\" style=\"stroke:#000000;stroke-width:0.8;\"/>\n      </defs>\n      <g>\n       <use style=\"stroke:#000000;stroke-width:0.8;\" x=\"43.78125\" xlink:href=\"#md1f6b613a6\" y=\"215.838926\"/>\n      </g>\n     </g>\n     <g id=\"text_7\">\n      <!-- 0.0 -->\n      <defs>\n       <path d=\"M 10.6875 12.40625 \nL 21 12.40625 \nL 21 0 \nL 10.6875 0 \nz\n\" id=\"DejaVuSans-46\"/>\n      </defs>\n      <g transform=\"translate(20.878125 219.638145)scale(0.1 -0.1)\">\n       <use xlink:href=\"#DejaVuSans-48\"/>\n       <use x=\"63.623047\" xlink:href=\"#DejaVuSans-46\"/>\n       <use x=\"95.410156\" xlink:href=\"#DejaVuSans-48\"/>\n      </g>\n     </g>\n    </g>\n    <g id=\"ytick_2\">\n     <g id=\"line2d_7\">\n      <g>\n       <use style=\"stroke:#000000;stroke-width:0.8;\" x=\"43.78125\" xlink:href=\"#md1f6b613a6\" y=\"186.783156\"/>\n      </g>\n     </g>\n     <g id=\"text_8\">\n      <!-- 0.1 -->\n      <defs>\n       <path d=\"M 12.40625 8.296875 \nL 28.515625 8.296875 \nL 28.515625 63.921875 \nL 10.984375 60.40625 \nL 10.984375 69.390625 \nL 28.421875 72.90625 \nL 38.28125 72.90625 \nL 38.28125 8.296875 \nL 54.390625 8.296875 \nL 54.390625 0 \nL 12.40625 0 \nz\n\" id=\"DejaVuSans-49\"/>\n      </defs>\n      <g transform=\"translate(20.878125 190.582375)scale(0.1 -0.1)\">\n       <use xlink:href=\"#DejaVuSans-48\"/>\n       <use x=\"63.623047\" xlink:href=\"#DejaVuSans-46\"/>\n       <use x=\"95.410156\" xlink:href=\"#DejaVuSans-49\"/>\n      </g>\n     </g>\n    </g>\n    <g id=\"ytick_3\">\n     <g id=\"line2d_8\">\n      <g>\n       <use style=\"stroke:#000000;stroke-width:0.8;\" x=\"43.78125\" xlink:href=\"#md1f6b613a6\" y=\"157.727386\"/>\n      </g>\n     </g>\n     <g id=\"text_9\">\n      <!-- 0.2 -->\n      <g transform=\"translate(20.878125 161.526605)scale(0.1 -0.1)\">\n       <use xlink:href=\"#DejaVuSans-48\"/>\n       <use x=\"63.623047\" xlink:href=\"#DejaVuSans-46\"/>\n       <use x=\"95.410156\" xlink:href=\"#DejaVuSans-50\"/>\n      </g>\n     </g>\n    </g>\n    <g id=\"ytick_4\">\n     <g id=\"line2d_9\">\n      <g>\n       <use style=\"stroke:#000000;stroke-width:0.8;\" x=\"43.78125\" xlink:href=\"#md1f6b613a6\" y=\"128.671617\"/>\n      </g>\n     </g>\n     <g id=\"text_10\">\n      <!-- 0.3 -->\n      <defs>\n       <path d=\"M 40.578125 39.3125 \nQ 47.65625 37.796875 51.625 33 \nQ 55.609375 28.21875 55.609375 21.1875 \nQ 55.609375 10.40625 48.1875 4.484375 \nQ 40.765625 -1.421875 27.09375 -1.421875 \nQ 22.515625 -1.421875 17.65625 -0.515625 \nQ 12.796875 0.390625 7.625 2.203125 \nL 7.625 11.71875 \nQ 11.71875 9.328125 16.59375 8.109375 \nQ 21.484375 6.890625 26.8125 6.890625 \nQ 36.078125 6.890625 40.9375 10.546875 \nQ 45.796875 14.203125 45.796875 21.1875 \nQ 45.796875 27.640625 41.28125 31.265625 \nQ 36.765625 34.90625 28.71875 34.90625 \nL 20.21875 34.90625 \nL 20.21875 43.015625 \nL 29.109375 43.015625 \nQ 36.375 43.015625 40.234375 45.921875 \nQ 44.09375 48.828125 44.09375 54.296875 \nQ 44.09375 59.90625 40.109375 62.90625 \nQ 36.140625 65.921875 28.71875 65.921875 \nQ 24.65625 65.921875 20.015625 65.03125 \nQ 15.375 64.15625 9.8125 62.3125 \nL 9.8125 71.09375 \nQ 15.4375 72.65625 20.34375 73.4375 \nQ 25.25 74.21875 29.59375 74.21875 \nQ 40.828125 74.21875 47.359375 69.109375 \nQ 53.90625 64.015625 53.90625 55.328125 \nQ 53.90625 49.265625 50.4375 45.09375 \nQ 46.96875 40.921875 40.578125 39.3125 \nz\n\" id=\"DejaVuSans-51\"/>\n      </defs>\n      <g transform=\"translate(20.878125 132.470835)scale(0.1 -0.1)\">\n       <use xlink:href=\"#DejaVuSans-48\"/>\n       <use x=\"63.623047\" xlink:href=\"#DejaVuSans-46\"/>\n       <use x=\"95.410156\" xlink:href=\"#DejaVuSans-51\"/>\n      </g>\n     </g>\n    </g>\n    <g id=\"ytick_5\">\n     <g id=\"line2d_10\">\n      <g>\n       <use style=\"stroke:#000000;stroke-width:0.8;\" x=\"43.78125\" xlink:href=\"#md1f6b613a6\" y=\"99.615847\"/>\n      </g>\n     </g>\n     <g id=\"text_11\">\n      <!-- 0.4 -->\n      <g transform=\"translate(20.878125 103.415066)scale(0.1 -0.1)\">\n       <use xlink:href=\"#DejaVuSans-48\"/>\n       <use x=\"63.623047\" xlink:href=\"#DejaVuSans-46\"/>\n       <use x=\"95.410156\" xlink:href=\"#DejaVuSans-52\"/>\n      </g>\n     </g>\n    </g>\n    <g id=\"ytick_6\">\n     <g id=\"line2d_11\">\n      <g>\n       <use style=\"stroke:#000000;stroke-width:0.8;\" x=\"43.78125\" xlink:href=\"#md1f6b613a6\" y=\"70.560077\"/>\n      </g>\n     </g>\n     <g id=\"text_12\">\n      <!-- 0.5 -->\n      <defs>\n       <path d=\"M 10.796875 72.90625 \nL 49.515625 72.90625 \nL 49.515625 64.59375 \nL 19.828125 64.59375 \nL 19.828125 46.734375 \nQ 21.96875 47.46875 24.109375 47.828125 \nQ 26.265625 48.1875 28.421875 48.1875 \nQ 40.625 48.1875 47.75 41.5 \nQ 54.890625 34.8125 54.890625 23.390625 \nQ 54.890625 11.625 47.5625 5.09375 \nQ 40.234375 -1.421875 26.90625 -1.421875 \nQ 22.3125 -1.421875 17.546875 -0.640625 \nQ 12.796875 0.140625 7.71875 1.703125 \nL 7.71875 11.625 \nQ 12.109375 9.234375 16.796875 8.0625 \nQ 21.484375 6.890625 26.703125 6.890625 \nQ 35.15625 6.890625 40.078125 11.328125 \nQ 45.015625 15.765625 45.015625 23.390625 \nQ 45.015625 31 40.078125 35.4375 \nQ 35.15625 39.890625 26.703125 39.890625 \nQ 22.75 39.890625 18.8125 39.015625 \nQ 14.890625 38.140625 10.796875 36.28125 \nz\n\" id=\"DejaVuSans-53\"/>\n      </defs>\n      <g transform=\"translate(20.878125 74.359296)scale(0.1 -0.1)\">\n       <use xlink:href=\"#DejaVuSans-48\"/>\n       <use x=\"63.623047\" xlink:href=\"#DejaVuSans-46\"/>\n       <use x=\"95.410156\" xlink:href=\"#DejaVuSans-53\"/>\n      </g>\n     </g>\n    </g>\n    <g id=\"ytick_7\">\n     <g id=\"line2d_12\">\n      <g>\n       <use style=\"stroke:#000000;stroke-width:0.8;\" x=\"43.78125\" xlink:href=\"#md1f6b613a6\" y=\"41.504308\"/>\n      </g>\n     </g>\n     <g id=\"text_13\">\n      <!-- 0.6 -->\n      <g transform=\"translate(20.878125 45.303526)scale(0.1 -0.1)\">\n       <use xlink:href=\"#DejaVuSans-48\"/>\n       <use x=\"63.623047\" xlink:href=\"#DejaVuSans-46\"/>\n       <use x=\"95.410156\" xlink:href=\"#DejaVuSans-54\"/>\n      </g>\n     </g>\n    </g>\n    <g id=\"ytick_8\">\n     <g id=\"line2d_13\">\n      <g>\n       <use style=\"stroke:#000000;stroke-width:0.8;\" x=\"43.78125\" xlink:href=\"#md1f6b613a6\" y=\"12.448538\"/>\n      </g>\n     </g>\n     <g id=\"text_14\">\n      <!-- 0.7 -->\n      <defs>\n       <path d=\"M 8.203125 72.90625 \nL 55.078125 72.90625 \nL 55.078125 68.703125 \nL 28.609375 0 \nL 18.3125 0 \nL 43.21875 64.59375 \nL 8.203125 64.59375 \nz\n\" id=\"DejaVuSans-55\"/>\n      </defs>\n      <g transform=\"translate(20.878125 16.247757)scale(0.1 -0.1)\">\n       <use xlink:href=\"#DejaVuSans-48\"/>\n       <use x=\"63.623047\" xlink:href=\"#DejaVuSans-46\"/>\n       <use x=\"95.410156\" xlink:href=\"#DejaVuSans-55\"/>\n      </g>\n     </g>\n    </g>\n    <g id=\"text_15\">\n     <!-- Losses -->\n     <defs>\n      <path d=\"M 9.8125 72.90625 \nL 19.671875 72.90625 \nL 19.671875 8.296875 \nL 55.171875 8.296875 \nL 55.171875 0 \nL 9.8125 0 \nz\n\" id=\"DejaVuSans-76\"/>\n      <path d=\"M 56.203125 29.59375 \nL 56.203125 25.203125 \nL 14.890625 25.203125 \nQ 15.484375 15.921875 20.484375 11.0625 \nQ 25.484375 6.203125 34.421875 6.203125 \nQ 39.59375 6.203125 44.453125 7.46875 \nQ 49.3125 8.734375 54.109375 11.28125 \nL 54.109375 2.78125 \nQ 49.265625 0.734375 44.1875 -0.34375 \nQ 39.109375 -1.421875 33.890625 -1.421875 \nQ 20.796875 -1.421875 13.15625 6.1875 \nQ 5.515625 13.8125 5.515625 26.8125 \nQ 5.515625 40.234375 12.765625 48.109375 \nQ 20.015625 56 32.328125 56 \nQ 43.359375 56 49.78125 48.890625 \nQ 56.203125 41.796875 56.203125 29.59375 \nz\nM 47.21875 32.234375 \nQ 47.125 39.59375 43.09375 43.984375 \nQ 39.0625 48.390625 32.421875 48.390625 \nQ 24.90625 48.390625 20.390625 44.140625 \nQ 15.875 39.890625 15.1875 32.171875 \nz\n\" id=\"DejaVuSans-101\"/>\n     </defs>\n     <g transform=\"translate(14.798438 132.655156)rotate(-90)scale(0.1 -0.1)\">\n      <use xlink:href=\"#DejaVuSans-76\"/>\n      <use x=\"55.697266\" xlink:href=\"#DejaVuSans-111\"/>\n      <use x=\"116.878906\" xlink:href=\"#DejaVuSans-115\"/>\n      <use x=\"168.978516\" xlink:href=\"#DejaVuSans-115\"/>\n      <use x=\"221.078125\" xlink:href=\"#DejaVuSans-101\"/>\n      <use x=\"282.601562\" xlink:href=\"#DejaVuSans-115\"/>\n     </g>\n    </g>\n   </g>\n   <g id=\"line2d_14\">\n    <path clip-path=\"url(#p1947a02e16)\" d=\"M 58.999432 17.083636 \nL 62.45811 21.260378 \nL 65.916787 74.567356 \nL 69.375465 35.331402 \nL 72.834143 97.224806 \nL 76.29282 63.45594 \nL 79.751498 101.38978 \nL 83.210176 132.437419 \nL 86.668853 113.945046 \nL 90.127531 129.862916 \nL 93.586209 120.803441 \nL 97.044886 129.864033 \nL 100.503564 154.67879 \nL 103.962242 123.188098 \nL 107.420919 144.051433 \nL 110.879597 117.276259 \nL 114.338275 131.05782 \nL 117.796952 148.9957 \nL 121.25563 139.352896 \nL 124.714308 164.160042 \nL 128.172986 169.049781 \nL 131.631663 152.313106 \nL 135.090341 150.853768 \nL 138.549019 151.238137 \nL 142.007696 142.816518 \nL 145.466374 159.019322 \nL 148.925052 153.771158 \nL 152.383729 150.060321 \nL 155.842407 159.650126 \nL 159.301085 155.340326 \nL 162.759762 177.191717 \nL 166.21844 175.684315 \nL 169.677118 193.279044 \nL 173.135795 178.837156 \nL 176.594473 198.376684 \nL 180.053151 197.359165 \nL 183.511829 209.188699 \nL 186.970506 199.554918 \nL 190.429184 175.757629 \nL 193.887862 195.34431 \nL 197.346539 202.114143 \nL 200.805217 193.237993 \nL 204.263895 200.521556 \nL 207.722572 200.98141 \nL 211.18125 195.30307 \nL 214.639928 188.779283 \nL 218.098605 209.253718 \nL 221.557283 203.444281 \nL 225.015961 195.636914 \nL 228.474638 201.628313 \nL 231.933316 197.18933 \nL 235.391994 210.83072 \nL 238.850671 190.437099 \nL 242.309349 203.499135 \nL 245.768027 205.449179 \nL 249.226705 210.707197 \nL 252.685382 210.866545 \nL 256.14406 207.403285 \nL 259.602738 209.524591 \nL 263.061415 210.217953 \nL 266.520093 197.46496 \nL 269.978771 211.695942 \nL 273.437448 204.118148 \nL 276.896126 209.252555 \nL 280.354804 190.409051 \nL 283.813481 212.626129 \nL 287.272159 205.269083 \nL 290.730837 210.207164 \nL 294.189514 208.133232 \nL 297.648192 203.351457 \nL 301.10687 208.52843 \nL 304.565548 209.743731 \nL 308.024225 207.844774 \nL 311.482903 202.674328 \nL 314.941581 209.783052 \nL 318.400258 211.814858 \nL 321.858936 213.8963 \nL 325.317614 205.175645 \nL 328.776291 206.388792 \nL 332.234969 205.882368 \nL 335.693647 214.756364 \nL 339.152324 209.487619 \nL 342.611002 213.147807 \nL 346.06968 206.002125 \nL 349.528357 213.734581 \nL 352.987035 208.474613 \nL 356.445713 212.354101 \nL 359.90439 211.129704 \nL 363.363068 203.774892 \n\" style=\"fill:none;stroke:#ff0000;stroke-linecap:square;stroke-width:1.5;\"/>\n   </g>\n   <g id=\"line2d_15\">\n    <path clip-path=\"url(#p1947a02e16)\" d=\"M 58.999432 85.330028 \nL 62.45811 68.972119 \nL 65.916787 103.111646 \nL 69.375465 98.950058 \nL 72.834143 95.66364 \nL 76.29282 113.931027 \nL 79.751498 104.324466 \nL 83.210176 116.331288 \nL 86.668853 97.943225 \nL 90.127531 86.156012 \nL 93.586209 109.577298 \nL 97.044886 110.340043 \nL 100.503564 96.194454 \nL 103.962242 94.167911 \nL 107.420919 114.005332 \nL 110.879597 86.750256 \nL 114.338275 77.092961 \nL 117.796952 97.377322 \nL 121.25563 83.950065 \nL 124.714308 103.56186 \nL 128.172986 124.351431 \nL 131.631663 82.683132 \nL 135.090341 104.574642 \nL 138.549019 143.849594 \nL 142.007696 120.606442 \nL 145.466374 93.443102 \nL 148.925052 119.337699 \nL 152.383729 122.302183 \nL 155.842407 112.513336 \nL 159.301085 111.179588 \nL 162.759762 147.883435 \nL 166.21844 141.183445 \nL 169.677118 139.924201 \nL 173.135795 139.865691 \nL 176.594473 136.87135 \nL 180.053151 128.269259 \nL 183.511829 128.160187 \nL 186.970506 110.017121 \nL 190.429184 126.708395 \nL 193.887862 119.570271 \nL 197.346539 128.835612 \nL 200.805217 112.029749 \nL 204.263895 128.121012 \nL 207.722572 111.611055 \nL 211.18125 103.150041 \nL 214.639928 114.256105 \nL 218.098605 112.666415 \nL 221.557283 104.337187 \nL 225.015961 116.895423 \nL 228.474638 109.635973 \nL 231.933316 107.862784 \nL 235.391994 124.352608 \nL 238.850671 130.854795 \nL 242.309349 110.518711 \nL 245.768027 100.973709 \nL 249.226705 112.217309 \nL 252.685382 104.188403 \nL 256.14406 90.197729 \nL 259.602738 101.019049 \nL 263.061415 101.78525 \nL 266.520093 108.179246 \nL 269.978771 110.536557 \nL 273.437448 105.471078 \nL 276.896126 107.165598 \nL 280.354804 99.630272 \nL 283.813481 98.134638 \nL 287.272159 111.093376 \nL 290.730837 106.117217 \nL 294.189514 108.020019 \nL 297.648192 113.718961 \nL 301.10687 102.364357 \nL 304.565548 99.036235 \nL 308.024225 98.703892 \nL 311.482903 105.427002 \nL 314.941581 102.136661 \nL 318.400258 109.454336 \nL 321.858936 106.141463 \nL 325.317614 108.403981 \nL 328.776291 111.362083 \nL 332.234969 102.400544 \nL 335.693647 108.552531 \nL 339.152324 105.274538 \nL 342.611002 91.617801 \nL 346.06968 96.660835 \nL 349.528357 104.224607 \nL 352.987035 98.452833 \nL 356.445713 102.373631 \nL 359.90439 105.202779 \nL 363.363068 94.334507 \n\" style=\"fill:none;stroke:#0000ff;stroke-linecap:square;stroke-width:1.5;\"/>\n   </g>\n   <g id=\"patch_3\">\n    <path d=\"M 43.78125 224.64 \nL 43.78125 7.2 \n\" style=\"fill:none;stroke:#000000;stroke-linecap:square;stroke-linejoin:miter;stroke-width:0.8;\"/>\n   </g>\n   <g id=\"patch_4\">\n    <path d=\"M 378.58125 224.64 \nL 378.58125 7.2 \n\" style=\"fill:none;stroke:#000000;stroke-linecap:square;stroke-linejoin:miter;stroke-width:0.8;\"/>\n   </g>\n   <g id=\"patch_5\">\n    <path d=\"M 43.78125 224.64 \nL 378.58125 224.64 \n\" style=\"fill:none;stroke:#000000;stroke-linecap:square;stroke-linejoin:miter;stroke-width:0.8;\"/>\n   </g>\n   <g id=\"patch_6\">\n    <path d=\"M 43.78125 7.2 \nL 378.58125 7.2 \n\" style=\"fill:none;stroke:#000000;stroke-linecap:square;stroke-linejoin:miter;stroke-width:0.8;\"/>\n   </g>\n   <g id=\"legend_1\">\n    <g id=\"patch_7\">\n     <path d=\"M 314.140625 44.55625 \nL 371.58125 44.55625 \nQ 373.58125 44.55625 373.58125 42.55625 \nL 373.58125 14.2 \nQ 373.58125 12.2 371.58125 12.2 \nL 314.140625 12.2 \nQ 312.140625 12.2 312.140625 14.2 \nL 312.140625 42.55625 \nQ 312.140625 44.55625 314.140625 44.55625 \nz\n\" style=\"fill:#ffffff;opacity:0.8;stroke:#cccccc;stroke-linejoin:miter;\"/>\n    </g>\n    <g id=\"line2d_16\">\n     <path d=\"M 316.140625 20.298438 \nL 336.140625 20.298438 \n\" style=\"fill:none;stroke:#ff0000;stroke-linecap:square;stroke-width:1.5;\"/>\n    </g>\n    <g id=\"line2d_17\"/>\n    <g id=\"text_16\">\n     <!-- Train -->\n     <defs>\n      <path d=\"M -0.296875 72.90625 \nL 61.375 72.90625 \nL 61.375 64.59375 \nL 35.5 64.59375 \nL 35.5 0 \nL 25.59375 0 \nL 25.59375 64.59375 \nL -0.296875 64.59375 \nz\n\" id=\"DejaVuSans-84\"/>\n      <path d=\"M 41.109375 46.296875 \nQ 39.59375 47.171875 37.8125 47.578125 \nQ 36.03125 48 33.890625 48 \nQ 26.265625 48 22.1875 43.046875 \nQ 18.109375 38.09375 18.109375 28.8125 \nL 18.109375 0 \nL 9.078125 0 \nL 9.078125 54.6875 \nL 18.109375 54.6875 \nL 18.109375 46.1875 \nQ 20.953125 51.171875 25.484375 53.578125 \nQ 30.03125 56 36.53125 56 \nQ 37.453125 56 38.578125 55.875 \nQ 39.703125 55.765625 41.0625 55.515625 \nz\n\" id=\"DejaVuSans-114\"/>\n      <path d=\"M 34.28125 27.484375 \nQ 23.390625 27.484375 19.1875 25 \nQ 14.984375 22.515625 14.984375 16.5 \nQ 14.984375 11.71875 18.140625 8.90625 \nQ 21.296875 6.109375 26.703125 6.109375 \nQ 34.1875 6.109375 38.703125 11.40625 \nQ 43.21875 16.703125 43.21875 25.484375 \nL 43.21875 27.484375 \nz\nM 52.203125 31.203125 \nL 52.203125 0 \nL 43.21875 0 \nL 43.21875 8.296875 \nQ 40.140625 3.328125 35.546875 0.953125 \nQ 30.953125 -1.421875 24.3125 -1.421875 \nQ 15.921875 -1.421875 10.953125 3.296875 \nQ 6 8.015625 6 15.921875 \nQ 6 25.140625 12.171875 29.828125 \nQ 18.359375 34.515625 30.609375 34.515625 \nL 43.21875 34.515625 \nL 43.21875 35.40625 \nQ 43.21875 41.609375 39.140625 45 \nQ 35.0625 48.390625 27.6875 48.390625 \nQ 23 48.390625 18.546875 47.265625 \nQ 14.109375 46.140625 10.015625 43.890625 \nL 10.015625 52.203125 \nQ 14.9375 54.109375 19.578125 55.046875 \nQ 24.21875 56 28.609375 56 \nQ 40.484375 56 46.34375 49.84375 \nQ 52.203125 43.703125 52.203125 31.203125 \nz\n\" id=\"DejaVuSans-97\"/>\n      <path d=\"M 9.421875 54.6875 \nL 18.40625 54.6875 \nL 18.40625 0 \nL 9.421875 0 \nz\nM 9.421875 75.984375 \nL 18.40625 75.984375 \nL 18.40625 64.59375 \nL 9.421875 64.59375 \nz\n\" id=\"DejaVuSans-105\"/>\n      <path d=\"M 54.890625 33.015625 \nL 54.890625 0 \nL 45.90625 0 \nL 45.90625 32.71875 \nQ 45.90625 40.484375 42.875 44.328125 \nQ 39.84375 48.1875 33.796875 48.1875 \nQ 26.515625 48.1875 22.3125 43.546875 \nQ 18.109375 38.921875 18.109375 30.90625 \nL 18.109375 0 \nL 9.078125 0 \nL 9.078125 54.6875 \nL 18.109375 54.6875 \nL 18.109375 46.1875 \nQ 21.34375 51.125 25.703125 53.5625 \nQ 30.078125 56 35.796875 56 \nQ 45.21875 56 50.046875 50.171875 \nQ 54.890625 44.34375 54.890625 33.015625 \nz\n\" id=\"DejaVuSans-110\"/>\n     </defs>\n     <g transform=\"translate(344.140625 23.798438)scale(0.1 -0.1)\">\n      <use xlink:href=\"#DejaVuSans-84\"/>\n      <use x=\"60.865234\" xlink:href=\"#DejaVuSans-114\"/>\n      <use x=\"101.978516\" xlink:href=\"#DejaVuSans-97\"/>\n      <use x=\"163.257812\" xlink:href=\"#DejaVuSans-105\"/>\n      <use x=\"191.041016\" xlink:href=\"#DejaVuSans-110\"/>\n     </g>\n    </g>\n    <g id=\"line2d_18\">\n     <path d=\"M 316.140625 34.976562 \nL 336.140625 34.976562 \n\" style=\"fill:none;stroke:#0000ff;stroke-linecap:square;stroke-width:1.5;\"/>\n    </g>\n    <g id=\"line2d_19\"/>\n    <g id=\"text_17\">\n     <!-- Val -->\n     <defs>\n      <path d=\"M 28.609375 0 \nL 0.78125 72.90625 \nL 11.078125 72.90625 \nL 34.1875 11.53125 \nL 57.328125 72.90625 \nL 67.578125 72.90625 \nL 39.796875 0 \nz\n\" id=\"DejaVuSans-86\"/>\n      <path d=\"M 9.421875 75.984375 \nL 18.40625 75.984375 \nL 18.40625 0 \nL 9.421875 0 \nz\n\" id=\"DejaVuSans-108\"/>\n     </defs>\n     <g transform=\"translate(344.140625 38.476562)scale(0.1 -0.1)\">\n      <use xlink:href=\"#DejaVuSans-86\"/>\n      <use x=\"68.298828\" xlink:href=\"#DejaVuSans-97\"/>\n      <use x=\"129.578125\" xlink:href=\"#DejaVuSans-108\"/>\n     </g>\n    </g>\n   </g>\n  </g>\n </g>\n <defs>\n  <clipPath id=\"p1947a02e16\">\n   <rect height=\"217.44\" width=\"334.8\" x=\"43.78125\" y=\"7.2\"/>\n  </clipPath>\n </defs>\n</svg>\n"
          },
          "metadata": {
            "tags": []
          }
        }
      ]
    },
    {
      "cell_type": "code",
      "metadata": {
        "id": "AqWhvdXob2XE",
        "colab_type": "code",
        "outputId": "4679902a-d4c8-40a2-ce23-429d83433af4",
        "colab": {
          "base_uri": "https://localhost:8080/",
          "height": 442
        }
      },
      "source": [
        "from google.colab import files\n",
        "files.download('./sgd_resnet18_9331.pth.tar')\n",
        "files.download('./sgd_resnet18_9331_acc.jpg')\n",
        "files.download('./sgd_resnet18_9331_loss.jpg')"
      ],
      "execution_count": 0,
      "outputs": [
        {
          "output_type": "stream",
          "text": [
            "----------------------------------------\n",
            "Exception happened during processing of request from ('::ffff:127.0.0.1', 49472, 0, 0)\n",
            "Traceback (most recent call last):\n",
            "  File \"/usr/lib/python3.6/socketserver.py\", line 320, in _handle_request_noblock\n",
            "    self.process_request(request, client_address)\n",
            "  File \"/usr/lib/python3.6/socketserver.py\", line 351, in process_request\n",
            "    self.finish_request(request, client_address)\n",
            "  File \"/usr/lib/python3.6/socketserver.py\", line 364, in finish_request\n",
            "    self.RequestHandlerClass(request, client_address, self)\n",
            "  File \"/usr/lib/python3.6/socketserver.py\", line 724, in __init__\n",
            "    self.handle()\n",
            "  File \"/usr/lib/python3.6/http/server.py\", line 418, in handle\n",
            "    self.handle_one_request()\n",
            "  File \"/usr/lib/python3.6/http/server.py\", line 406, in handle_one_request\n",
            "    method()\n",
            "  File \"/usr/lib/python3.6/http/server.py\", line 639, in do_GET\n",
            "    self.copyfile(f, self.wfile)\n",
            "  File \"/usr/lib/python3.6/http/server.py\", line 800, in copyfile\n",
            "    shutil.copyfileobj(source, outputfile)\n",
            "  File \"/usr/lib/python3.6/shutil.py\", line 82, in copyfileobj\n",
            "    fdst.write(buf)\n",
            "  File \"/usr/lib/python3.6/socketserver.py\", line 803, in write\n",
            "    self._sock.sendall(b)\n",
            "ConnectionResetError: [Errno 104] Connection reset by peer\n",
            "----------------------------------------\n"
          ],
          "name": "stderr"
        }
      ]
    },
    {
      "cell_type": "markdown",
      "metadata": {
        "id": "eCf3vbmn6kbX",
        "colab_type": "text"
      },
      "source": [
        "# ADAMW"
      ]
    },
    {
      "cell_type": "code",
      "metadata": {
        "id": "SDKSoqqr6i20",
        "colab_type": "code",
        "colab": {}
      },
      "source": [
        "load_checkpoint(model, filename='before_sgd_resnet18.pth.tar')"
      ],
      "execution_count": 0,
      "outputs": []
    },
    {
      "cell_type": "code",
      "metadata": {
        "id": "LpAxh9gAARoM",
        "colab_type": "code",
        "colab": {}
      },
      "source": [
        "preds = []\n",
        "train_stats = AvgStats()\n",
        "test_stats = AvgStats()"
      ],
      "execution_count": 0,
      "outputs": []
    },
    {
      "cell_type": "code",
      "metadata": {
        "id": "Pf0p8aYCAWCZ",
        "colab_type": "code",
        "colab": {}
      },
      "source": [
        "reset()"
      ],
      "execution_count": 0,
      "outputs": []
    },
    {
      "cell_type": "code",
      "metadata": {
        "id": "ctd5bSF0AW8x",
        "colab_type": "code",
        "colab": {}
      },
      "source": [
        "optimizer = AdamW(model.parameters(), lr=1e-4, weight_decay=0.1)"
      ],
      "execution_count": 0,
      "outputs": []
    },
    {
      "cell_type": "code",
      "metadata": {
        "id": "09lIUkbeAcTr",
        "colab_type": "code",
        "outputId": "8843bac5-70f4-4753-abdf-c178d2a2fbf9",
        "colab": {
          "base_uri": "https://localhost:8080/",
          "height": 1000
        }
      },
      "source": [
        "fit(model, optimizer, sched)"
      ],
      "execution_count": 0,
      "outputs": [
        {
          "output_type": "stream",
          "text": [
            "Epoch\tTrn_loss\tVal_loss\tTrn_acc\t\tVal_acc\n",
            "1\t0.85931547\t0.74565890\t61.99799728\t64.05332947\n",
            "2\t0.67852404\t0.62613348\t69.09091187\t69.87916565\n",
            "3\t0.57934476\t0.56550580\t72.49823761\t72.95889282\n",
            "4\t0.54214736\t0.55001908\t74.68304443\t74.97708130\n",
            "5\t0.48800774\t0.51750468\t76.35551453\t76.57033539\n",
            "6\t0.45020250\t0.50406531\t77.65742493\t77.81666565\n",
            "7\t0.42087057\t0.49898211\t78.70146942\t78.81309509\n",
            "8\t0.39916292\t0.49342473\t79.60149384\t79.69166565\n",
            "9\t0.36777102\t0.47970856\t80.37698364\t80.45500183\n",
            "10\t0.36944244\t0.48241919\t81.07847595\t81.12416840\n",
            "11\t0.32664748\t0.46933987\t81.69215393\t81.73636627\n",
            "12\t0.31669978\t0.46578803\t82.25309753\t82.28903198\n",
            "13\t0.29019814\t0.47259745\t82.77818298\t82.80781555\n",
            "14\t0.28558570\t0.47556769\t83.25878906\t83.27761841\n",
            "15\t0.27061262\t0.48767383\t83.70259094\t83.71256256\n",
            "16\t0.25694627\t0.48473809\t84.11262512\t84.12427521\n",
            "17\t0.23527824\t0.49744417\t84.49365997\t84.50196075\n",
            "18\t0.23278298\t0.49140304\t84.84700775\t84.85120392\n",
            "19\t0.22274712\t0.48830497\t85.18628693\t85.18920898\n",
            "20\t0.21774973\t0.50135920\t85.51193237\t85.50624847\n",
            "21\t0.20036335\t0.52084503\t85.80895996\t85.80388641\n",
            "22\t0.20484340\t0.51925273\t86.09175873\t86.08242798\n",
            "23\t0.19083534\t0.50488471\t86.35758972\t86.35362244\n",
            "24\t0.18286532\t0.51811138\t86.61692047\t86.61062622\n",
            "25\t0.16965511\t0.50015329\t86.86369324\t86.85873413\n",
            "26\t0.16259925\t0.52240222\t87.10251617\t87.09371948\n",
            "27\t0.17042498\t0.52252229\t87.32298279\t87.31185150\n",
            "28\t0.15876842\t0.52140279\t87.53125763\t87.51916504\n",
            "29\t0.15363440\t0.52452187\t87.73063660\t87.71764374\n",
            "30\t0.14190036\t0.52617047\t87.91893768\t87.90505981\n",
            "31\t0.14747960\t0.51916487\t88.10340881\t88.09188843\n",
            "32\t0.13922101\t0.53428458\t88.27864838\t88.26406860\n",
            "33\t0.13431631\t0.53893910\t88.44878387\t88.43423462\n",
            "34\t0.12910314\t0.53641237\t88.61339569\t88.59931946\n",
            "35\t0.12631569\t0.55664281\t88.77311707\t88.75823975\n",
            "36\t0.12560540\t0.57253608\t88.92507172\t88.90828705\n",
            "37\t0.12884546\t0.56301366\t89.06678772\t89.04878235\n",
            "38\t0.12765125\t0.56115908\t89.20158386\t89.18412018\n",
            "39\t0.13034888\t0.56855822\t89.32991791\t89.31354523\n",
            "40\t0.11834714\t0.56836808\t89.45489502\t89.43937683\n",
            "41\t0.10994274\t0.58621035\t89.57934570\t89.56215668\n",
            "42\t0.10741490\t0.55570946\t89.70075989\t89.68460083\n",
            "43\t0.11965530\t0.55507830\t89.81594849\t89.80155945\n",
            "44\t0.10536789\t0.57189724\t89.92752075\t89.91015625\n",
            "45\t0.11024964\t0.58469576\t90.03446198\t90.01844788\n",
            "46\t0.10255454\t0.56330458\t90.13672638\t90.12104797\n",
            "47\t0.09726714\t0.57788087\t90.23801422\t90.22064209\n",
            "48\t0.09772969\t0.58331241\t90.33216095\t90.31690979\n",
            "49\t0.10265665\t0.57042640\t90.42720032\t90.41193390\n",
            "50\t0.08874708\t0.58167481\t90.51856232\t90.50173187\n",
            "51\t0.09153503\t0.59007399\t90.60803986\t90.59212494\n",
            "52\t0.09104527\t0.60923633\t90.69492340\t90.67858124\n",
            "53\t0.08780247\t0.58337093\t90.77835846\t90.76358795\n",
            "54\t0.09731169\t0.58011902\t90.85897064\t90.84296417\n",
            "55\t0.09248973\t0.60939242\t90.93769073\t90.92248535\n",
            "56\t0.08767629\t0.60151447\t91.01513672\t90.99945831\n",
            "57\t0.08579422\t0.58253624\t91.09111786\t91.07563782\n",
            "58\t0.08006489\t0.60184014\t91.16558075\t91.14948273\n",
            "59\t0.08692381\t0.60341713\t91.23580170\t91.22007751\n",
            "60\t0.07907666\t0.61047070\t91.30423737\t91.28858185\n",
            "61\t0.08069379\t0.60467800\t91.37049103\t91.35523987\n",
            "62\t0.07566587\t0.59775731\t91.43555450\t91.42021942\n",
            "63\t0.07319628\t0.59446906\t91.49950409\t91.48529053\n",
            "64\t0.08160431\t0.61117286\t91.56312561\t91.54825592\n",
            "65\t0.08502103\t0.62431925\t91.62326813\t91.60754395\n",
            "66\t0.07635524\t0.58994305\t91.68051147\t91.66555023\n",
            "67\t0.08563894\t0.62360708\t91.73763275\t91.72315979\n",
            "68\t0.06522310\t0.62303037\t91.79712677\t91.78287506\n",
            "69\t0.07196117\t0.62603579\t91.85236359\t91.83792114\n",
            "70\t0.07460732\t0.62545455\t91.90623474\t91.89131165\n",
            "71\t0.08028477\t0.60104656\t91.95689392\t91.94288635\n",
            "72\t0.06722399\t0.59899242\t92.01090240\t91.99723816\n",
            "73\t0.07807299\t0.60066407\t92.06345367\t92.04897308\n",
            "74\t0.07175374\t0.59805516\t92.11288452\t92.09839630\n",
            "75\t0.06882259\t0.60104190\t92.15993500\t92.14593506\n",
            "76\t0.06956365\t0.60605492\t92.20678711\t92.19342041\n",
            "77\t0.07666442\t0.59728716\t92.25050354\t92.23712158\n",
            "78\t0.06432569\t0.59717098\t92.29689789\t92.28360748\n",
            "79\t0.06214947\t0.60577342\t92.34339905\t92.33000183\n",
            "80\t0.07039118\t0.60694294\t92.38645172\t92.37322998\n",
            "81\t0.07139732\t0.60259902\t92.43059540\t92.41728210\n",
            "82\t0.06293311\t0.63597544\t92.47346497\t92.46067047\n",
            "83\t0.07265560\t0.61575345\t92.51603699\t92.50327301\n",
            "84\t0.06474998\t0.60857403\t92.55681610\t92.54404449\n",
            "85\t0.06004647\t0.64490427\t92.59712982\t92.58372498\n",
            "86\t0.06465678\t0.62670579\t92.63499451\t92.62162781\n",
            "87\t0.07284803\t0.60984908\t92.67227936\t92.65930939\n",
            "88\t0.06382349\t0.62368553\t92.70937347\t92.69590759\n",
            "89\t0.06909010\t0.62178712\t92.74510193\t92.73203278\n",
            "90\t0.06876515\t0.61862839\t92.78069305\t92.76748657\n"
          ],
          "name": "stdout"
        }
      ]
    },
    {
      "cell_type": "code",
      "metadata": {
        "id": "soIYin9sAfXw",
        "colab_type": "code",
        "colab": {}
      },
      "source": [
        "save_checkpoint(model, True, 'adamw_resnet18_9278.pth.tar')"
      ],
      "execution_count": 0,
      "outputs": []
    },
    {
      "cell_type": "code",
      "metadata": {
        "id": "vF5f3PqoBAKn",
        "colab_type": "code",
        "colab": {}
      },
      "source": [
        "ep_adamw_losses = []\n",
        "for i in range(0, len(train_stats.losses), len(train_loader)):\n",
        "    if i != 0 :\n",
        "        ep_adamw_losses.append(train_stats.losses[i])\n",
        "        \n",
        "ep_adamw_lossesv = []\n",
        "for i in range(0, len(test_stats.losses), len(test_loader)):\n",
        "    if(i != 0):\n",
        "        ep_adamw_lossesv.append(test_stats.losses[i])"
      ],
      "execution_count": 0,
      "outputs": []
    },
    {
      "cell_type": "code",
      "metadata": {
        "id": "5VbJIT8mj0Tu",
        "colab_type": "code",
        "colab": {}
      },
      "source": [
        "ep_adamw_accs = []\n",
        "for i in range(0, len(train_stats.losses), len(train_loader)):\n",
        "    if i != 0 :\n",
        "        ep_adamw_accs.append(train_stats.precs[i])\n",
        "        \n",
        "ep_adamw_accsv = []\n",
        "for i in range(0, len(test_stats.losses), len(test_loader)):\n",
        "    if(i != 0):\n",
        "        ep_adamw_accsv.append(test_stats.precs[i])"
      ],
      "execution_count": 0,
      "outputs": []
    },
    {
      "cell_type": "code",
      "metadata": {
        "id": "93Ax_UHsj0ep",
        "colab_type": "code",
        "outputId": "1c909ab8-3c8a-4b25-aa96-4b99c6767edf",
        "colab": {
          "base_uri": "https://localhost:8080/",
          "height": 371
        }
      },
      "source": [
        "plt.xlabel(\"Epochs\")\n",
        "plt.ylabel(\"Accuracy\")\n",
        "plt.plot(ep_adamw_accs, 'r', label='Train')\n",
        "plt.plot(ep_adamw_accsv, 'b', label='Val')\n",
        "plt.legend()\n",
        "plt.savefig('adamw_resnet18_9278_acc.jpg')"
      ],
      "execution_count": 0,
      "outputs": [
        {
          "output_type": "display_data",
          "data": {
            "text/plain": [
              "<Figure size 432x288 with 1 Axes>"
            ],
            "image/svg+xml": "<?xml version=\"1.0\" encoding=\"utf-8\" standalone=\"no\"?>\n<!DOCTYPE svg PUBLIC \"-//W3C//DTD SVG 1.1//EN\"\n  \"http://www.w3.org/Graphics/SVG/1.1/DTD/svg11.dtd\">\n<!-- Created with matplotlib (https://matplotlib.org/) -->\n<svg height=\"262.19625pt\" version=\"1.1\" viewBox=\"0 0 382.603125 262.19625\" width=\"382.603125pt\" xmlns=\"http://www.w3.org/2000/svg\" xmlns:xlink=\"http://www.w3.org/1999/xlink\">\n <defs>\n  <style type=\"text/css\">\n*{stroke-linecap:butt;stroke-linejoin:round;}\n  </style>\n </defs>\n <g id=\"figure_1\">\n  <g id=\"patch_1\">\n   <path d=\"M 0 262.19625 \nL 382.603125 262.19625 \nL 382.603125 0 \nL 0 0 \nz\n\" style=\"fill:none;\"/>\n  </g>\n  <g id=\"axes_1\">\n   <g id=\"patch_2\">\n    <path d=\"M 40.603125 224.64 \nL 375.403125 224.64 \nL 375.403125 7.2 \nL 40.603125 7.2 \nz\n\" style=\"fill:#ffffff;\"/>\n   </g>\n   <g id=\"matplotlib.axis_1\">\n    <g id=\"xtick_1\">\n     <g id=\"line2d_1\">\n      <defs>\n       <path d=\"M 0 0 \nL 0 3.5 \n\" id=\"mb213fe357e\" style=\"stroke:#000000;stroke-width:0.8;\"/>\n      </defs>\n      <g>\n       <use style=\"stroke:#000000;stroke-width:0.8;\" x=\"55.821307\" xlink:href=\"#mb213fe357e\" y=\"224.64\"/>\n      </g>\n     </g>\n     <g id=\"text_1\">\n      <!-- 0 -->\n      <defs>\n       <path d=\"M 31.78125 66.40625 \nQ 24.171875 66.40625 20.328125 58.90625 \nQ 16.5 51.421875 16.5 36.375 \nQ 16.5 21.390625 20.328125 13.890625 \nQ 24.171875 6.390625 31.78125 6.390625 \nQ 39.453125 6.390625 43.28125 13.890625 \nQ 47.125 21.390625 47.125 36.375 \nQ 47.125 51.421875 43.28125 58.90625 \nQ 39.453125 66.40625 31.78125 66.40625 \nz\nM 31.78125 74.21875 \nQ 44.046875 74.21875 50.515625 64.515625 \nQ 56.984375 54.828125 56.984375 36.375 \nQ 56.984375 17.96875 50.515625 8.265625 \nQ 44.046875 -1.421875 31.78125 -1.421875 \nQ 19.53125 -1.421875 13.0625 8.265625 \nQ 6.59375 17.96875 6.59375 36.375 \nQ 6.59375 54.828125 13.0625 64.515625 \nQ 19.53125 74.21875 31.78125 74.21875 \nz\n\" id=\"DejaVuSans-48\"/>\n      </defs>\n      <g transform=\"translate(52.640057 239.238438)scale(0.1 -0.1)\">\n       <use xlink:href=\"#DejaVuSans-48\"/>\n      </g>\n     </g>\n    </g>\n    <g id=\"xtick_2\">\n     <g id=\"line2d_2\">\n      <g>\n       <use style=\"stroke:#000000;stroke-width:0.8;\" x=\"124.994861\" xlink:href=\"#mb213fe357e\" y=\"224.64\"/>\n      </g>\n     </g>\n     <g id=\"text_2\">\n      <!-- 20 -->\n      <defs>\n       <path d=\"M 19.1875 8.296875 \nL 53.609375 8.296875 \nL 53.609375 0 \nL 7.328125 0 \nL 7.328125 8.296875 \nQ 12.9375 14.109375 22.625 23.890625 \nQ 32.328125 33.6875 34.8125 36.53125 \nQ 39.546875 41.84375 41.421875 45.53125 \nQ 43.3125 49.21875 43.3125 52.78125 \nQ 43.3125 58.59375 39.234375 62.25 \nQ 35.15625 65.921875 28.609375 65.921875 \nQ 23.96875 65.921875 18.8125 64.3125 \nQ 13.671875 62.703125 7.8125 59.421875 \nL 7.8125 69.390625 \nQ 13.765625 71.78125 18.9375 73 \nQ 24.125 74.21875 28.421875 74.21875 \nQ 39.75 74.21875 46.484375 68.546875 \nQ 53.21875 62.890625 53.21875 53.421875 \nQ 53.21875 48.921875 51.53125 44.890625 \nQ 49.859375 40.875 45.40625 35.40625 \nQ 44.1875 33.984375 37.640625 27.21875 \nQ 31.109375 20.453125 19.1875 8.296875 \nz\n\" id=\"DejaVuSans-50\"/>\n      </defs>\n      <g transform=\"translate(118.632361 239.238438)scale(0.1 -0.1)\">\n       <use xlink:href=\"#DejaVuSans-50\"/>\n       <use x=\"63.623047\" xlink:href=\"#DejaVuSans-48\"/>\n      </g>\n     </g>\n    </g>\n    <g id=\"xtick_3\">\n     <g id=\"line2d_3\">\n      <g>\n       <use style=\"stroke:#000000;stroke-width:0.8;\" x=\"194.168414\" xlink:href=\"#mb213fe357e\" y=\"224.64\"/>\n      </g>\n     </g>\n     <g id=\"text_3\">\n      <!-- 40 -->\n      <defs>\n       <path d=\"M 37.796875 64.3125 \nL 12.890625 25.390625 \nL 37.796875 25.390625 \nz\nM 35.203125 72.90625 \nL 47.609375 72.90625 \nL 47.609375 25.390625 \nL 58.015625 25.390625 \nL 58.015625 17.1875 \nL 47.609375 17.1875 \nL 47.609375 0 \nL 37.796875 0 \nL 37.796875 17.1875 \nL 4.890625 17.1875 \nL 4.890625 26.703125 \nz\n\" id=\"DejaVuSans-52\"/>\n      </defs>\n      <g transform=\"translate(187.805914 239.238438)scale(0.1 -0.1)\">\n       <use xlink:href=\"#DejaVuSans-52\"/>\n       <use x=\"63.623047\" xlink:href=\"#DejaVuSans-48\"/>\n      </g>\n     </g>\n    </g>\n    <g id=\"xtick_4\">\n     <g id=\"line2d_4\">\n      <g>\n       <use style=\"stroke:#000000;stroke-width:0.8;\" x=\"263.341968\" xlink:href=\"#mb213fe357e\" y=\"224.64\"/>\n      </g>\n     </g>\n     <g id=\"text_4\">\n      <!-- 60 -->\n      <defs>\n       <path d=\"M 33.015625 40.375 \nQ 26.375 40.375 22.484375 35.828125 \nQ 18.609375 31.296875 18.609375 23.390625 \nQ 18.609375 15.53125 22.484375 10.953125 \nQ 26.375 6.390625 33.015625 6.390625 \nQ 39.65625 6.390625 43.53125 10.953125 \nQ 47.40625 15.53125 47.40625 23.390625 \nQ 47.40625 31.296875 43.53125 35.828125 \nQ 39.65625 40.375 33.015625 40.375 \nz\nM 52.59375 71.296875 \nL 52.59375 62.3125 \nQ 48.875 64.0625 45.09375 64.984375 \nQ 41.3125 65.921875 37.59375 65.921875 \nQ 27.828125 65.921875 22.671875 59.328125 \nQ 17.53125 52.734375 16.796875 39.40625 \nQ 19.671875 43.65625 24.015625 45.921875 \nQ 28.375 48.1875 33.59375 48.1875 \nQ 44.578125 48.1875 50.953125 41.515625 \nQ 57.328125 34.859375 57.328125 23.390625 \nQ 57.328125 12.15625 50.6875 5.359375 \nQ 44.046875 -1.421875 33.015625 -1.421875 \nQ 20.359375 -1.421875 13.671875 8.265625 \nQ 6.984375 17.96875 6.984375 36.375 \nQ 6.984375 53.65625 15.1875 63.9375 \nQ 23.390625 74.21875 37.203125 74.21875 \nQ 40.921875 74.21875 44.703125 73.484375 \nQ 48.484375 72.75 52.59375 71.296875 \nz\n\" id=\"DejaVuSans-54\"/>\n      </defs>\n      <g transform=\"translate(256.979468 239.238438)scale(0.1 -0.1)\">\n       <use xlink:href=\"#DejaVuSans-54\"/>\n       <use x=\"63.623047\" xlink:href=\"#DejaVuSans-48\"/>\n      </g>\n     </g>\n    </g>\n    <g id=\"xtick_5\">\n     <g id=\"line2d_5\">\n      <g>\n       <use style=\"stroke:#000000;stroke-width:0.8;\" x=\"332.515522\" xlink:href=\"#mb213fe357e\" y=\"224.64\"/>\n      </g>\n     </g>\n     <g id=\"text_5\">\n      <!-- 80 -->\n      <defs>\n       <path d=\"M 31.78125 34.625 \nQ 24.75 34.625 20.71875 30.859375 \nQ 16.703125 27.09375 16.703125 20.515625 \nQ 16.703125 13.921875 20.71875 10.15625 \nQ 24.75 6.390625 31.78125 6.390625 \nQ 38.8125 6.390625 42.859375 10.171875 \nQ 46.921875 13.96875 46.921875 20.515625 \nQ 46.921875 27.09375 42.890625 30.859375 \nQ 38.875 34.625 31.78125 34.625 \nz\nM 21.921875 38.8125 \nQ 15.578125 40.375 12.03125 44.71875 \nQ 8.5 49.078125 8.5 55.328125 \nQ 8.5 64.0625 14.71875 69.140625 \nQ 20.953125 74.21875 31.78125 74.21875 \nQ 42.671875 74.21875 48.875 69.140625 \nQ 55.078125 64.0625 55.078125 55.328125 \nQ 55.078125 49.078125 51.53125 44.71875 \nQ 48 40.375 41.703125 38.8125 \nQ 48.828125 37.15625 52.796875 32.3125 \nQ 56.78125 27.484375 56.78125 20.515625 \nQ 56.78125 9.90625 50.3125 4.234375 \nQ 43.84375 -1.421875 31.78125 -1.421875 \nQ 19.734375 -1.421875 13.25 4.234375 \nQ 6.78125 9.90625 6.78125 20.515625 \nQ 6.78125 27.484375 10.78125 32.3125 \nQ 14.796875 37.15625 21.921875 38.8125 \nz\nM 18.3125 54.390625 \nQ 18.3125 48.734375 21.84375 45.5625 \nQ 25.390625 42.390625 31.78125 42.390625 \nQ 38.140625 42.390625 41.71875 45.5625 \nQ 45.3125 48.734375 45.3125 54.390625 \nQ 45.3125 60.0625 41.71875 63.234375 \nQ 38.140625 66.40625 31.78125 66.40625 \nQ 25.390625 66.40625 21.84375 63.234375 \nQ 18.3125 60.0625 18.3125 54.390625 \nz\n\" id=\"DejaVuSans-56\"/>\n      </defs>\n      <g transform=\"translate(326.153022 239.238438)scale(0.1 -0.1)\">\n       <use xlink:href=\"#DejaVuSans-56\"/>\n       <use x=\"63.623047\" xlink:href=\"#DejaVuSans-48\"/>\n      </g>\n     </g>\n    </g>\n    <g id=\"text_6\">\n     <!-- Epochs -->\n     <defs>\n      <path d=\"M 9.8125 72.90625 \nL 55.90625 72.90625 \nL 55.90625 64.59375 \nL 19.671875 64.59375 \nL 19.671875 43.015625 \nL 54.390625 43.015625 \nL 54.390625 34.71875 \nL 19.671875 34.71875 \nL 19.671875 8.296875 \nL 56.78125 8.296875 \nL 56.78125 0 \nL 9.8125 0 \nz\n\" id=\"DejaVuSans-69\"/>\n      <path d=\"M 18.109375 8.203125 \nL 18.109375 -20.796875 \nL 9.078125 -20.796875 \nL 9.078125 54.6875 \nL 18.109375 54.6875 \nL 18.109375 46.390625 \nQ 20.953125 51.265625 25.265625 53.625 \nQ 29.59375 56 35.59375 56 \nQ 45.5625 56 51.78125 48.09375 \nQ 58.015625 40.1875 58.015625 27.296875 \nQ 58.015625 14.40625 51.78125 6.484375 \nQ 45.5625 -1.421875 35.59375 -1.421875 \nQ 29.59375 -1.421875 25.265625 0.953125 \nQ 20.953125 3.328125 18.109375 8.203125 \nz\nM 48.6875 27.296875 \nQ 48.6875 37.203125 44.609375 42.84375 \nQ 40.53125 48.484375 33.40625 48.484375 \nQ 26.265625 48.484375 22.1875 42.84375 \nQ 18.109375 37.203125 18.109375 27.296875 \nQ 18.109375 17.390625 22.1875 11.75 \nQ 26.265625 6.109375 33.40625 6.109375 \nQ 40.53125 6.109375 44.609375 11.75 \nQ 48.6875 17.390625 48.6875 27.296875 \nz\n\" id=\"DejaVuSans-112\"/>\n      <path d=\"M 30.609375 48.390625 \nQ 23.390625 48.390625 19.1875 42.75 \nQ 14.984375 37.109375 14.984375 27.296875 \nQ 14.984375 17.484375 19.15625 11.84375 \nQ 23.34375 6.203125 30.609375 6.203125 \nQ 37.796875 6.203125 41.984375 11.859375 \nQ 46.1875 17.53125 46.1875 27.296875 \nQ 46.1875 37.015625 41.984375 42.703125 \nQ 37.796875 48.390625 30.609375 48.390625 \nz\nM 30.609375 56 \nQ 42.328125 56 49.015625 48.375 \nQ 55.71875 40.765625 55.71875 27.296875 \nQ 55.71875 13.875 49.015625 6.21875 \nQ 42.328125 -1.421875 30.609375 -1.421875 \nQ 18.84375 -1.421875 12.171875 6.21875 \nQ 5.515625 13.875 5.515625 27.296875 \nQ 5.515625 40.765625 12.171875 48.375 \nQ 18.84375 56 30.609375 56 \nz\n\" id=\"DejaVuSans-111\"/>\n      <path d=\"M 48.78125 52.59375 \nL 48.78125 44.1875 \nQ 44.96875 46.296875 41.140625 47.34375 \nQ 37.3125 48.390625 33.40625 48.390625 \nQ 24.65625 48.390625 19.8125 42.84375 \nQ 14.984375 37.3125 14.984375 27.296875 \nQ 14.984375 17.28125 19.8125 11.734375 \nQ 24.65625 6.203125 33.40625 6.203125 \nQ 37.3125 6.203125 41.140625 7.25 \nQ 44.96875 8.296875 48.78125 10.40625 \nL 48.78125 2.09375 \nQ 45.015625 0.34375 40.984375 -0.53125 \nQ 36.96875 -1.421875 32.421875 -1.421875 \nQ 20.0625 -1.421875 12.78125 6.34375 \nQ 5.515625 14.109375 5.515625 27.296875 \nQ 5.515625 40.671875 12.859375 48.328125 \nQ 20.21875 56 33.015625 56 \nQ 37.15625 56 41.109375 55.140625 \nQ 45.0625 54.296875 48.78125 52.59375 \nz\n\" id=\"DejaVuSans-99\"/>\n      <path d=\"M 54.890625 33.015625 \nL 54.890625 0 \nL 45.90625 0 \nL 45.90625 32.71875 \nQ 45.90625 40.484375 42.875 44.328125 \nQ 39.84375 48.1875 33.796875 48.1875 \nQ 26.515625 48.1875 22.3125 43.546875 \nQ 18.109375 38.921875 18.109375 30.90625 \nL 18.109375 0 \nL 9.078125 0 \nL 9.078125 75.984375 \nL 18.109375 75.984375 \nL 18.109375 46.1875 \nQ 21.34375 51.125 25.703125 53.5625 \nQ 30.078125 56 35.796875 56 \nQ 45.21875 56 50.046875 50.171875 \nQ 54.890625 44.34375 54.890625 33.015625 \nz\n\" id=\"DejaVuSans-104\"/>\n      <path d=\"M 44.28125 53.078125 \nL 44.28125 44.578125 \nQ 40.484375 46.53125 36.375 47.5 \nQ 32.28125 48.484375 27.875 48.484375 \nQ 21.1875 48.484375 17.84375 46.4375 \nQ 14.5 44.390625 14.5 40.28125 \nQ 14.5 37.15625 16.890625 35.375 \nQ 19.28125 33.59375 26.515625 31.984375 \nL 29.59375 31.296875 \nQ 39.15625 29.25 43.1875 25.515625 \nQ 47.21875 21.78125 47.21875 15.09375 \nQ 47.21875 7.46875 41.1875 3.015625 \nQ 35.15625 -1.421875 24.609375 -1.421875 \nQ 20.21875 -1.421875 15.453125 -0.5625 \nQ 10.6875 0.296875 5.421875 2 \nL 5.421875 11.28125 \nQ 10.40625 8.6875 15.234375 7.390625 \nQ 20.0625 6.109375 24.8125 6.109375 \nQ 31.15625 6.109375 34.5625 8.28125 \nQ 37.984375 10.453125 37.984375 14.40625 \nQ 37.984375 18.0625 35.515625 20.015625 \nQ 33.0625 21.96875 24.703125 23.78125 \nL 21.578125 24.515625 \nQ 13.234375 26.265625 9.515625 29.90625 \nQ 5.8125 33.546875 5.8125 39.890625 \nQ 5.8125 47.609375 11.28125 51.796875 \nQ 16.75 56 26.8125 56 \nQ 31.78125 56 36.171875 55.265625 \nQ 40.578125 54.546875 44.28125 53.078125 \nz\n\" id=\"DejaVuSans-115\"/>\n     </defs>\n     <g transform=\"translate(190.0875 252.916563)scale(0.1 -0.1)\">\n      <use xlink:href=\"#DejaVuSans-69\"/>\n      <use x=\"63.183594\" xlink:href=\"#DejaVuSans-112\"/>\n      <use x=\"126.660156\" xlink:href=\"#DejaVuSans-111\"/>\n      <use x=\"187.841797\" xlink:href=\"#DejaVuSans-99\"/>\n      <use x=\"242.822266\" xlink:href=\"#DejaVuSans-104\"/>\n      <use x=\"306.201172\" xlink:href=\"#DejaVuSans-115\"/>\n     </g>\n    </g>\n   </g>\n   <g id=\"matplotlib.axis_2\">\n    <g id=\"ytick_1\">\n     <g id=\"line2d_6\">\n      <defs>\n       <path d=\"M 0 0 \nL -3.5 0 \n\" id=\"m4cc99a385b\" style=\"stroke:#000000;stroke-width:0.8;\"/>\n      </defs>\n      <g>\n       <use style=\"stroke:#000000;stroke-width:0.8;\" x=\"40.603125\" xlink:href=\"#m4cc99a385b\" y=\"208.353189\"/>\n      </g>\n     </g>\n     <g id=\"text_7\">\n      <!-- 65 -->\n      <defs>\n       <path d=\"M 10.796875 72.90625 \nL 49.515625 72.90625 \nL 49.515625 64.59375 \nL 19.828125 64.59375 \nL 19.828125 46.734375 \nQ 21.96875 47.46875 24.109375 47.828125 \nQ 26.265625 48.1875 28.421875 48.1875 \nQ 40.625 48.1875 47.75 41.5 \nQ 54.890625 34.8125 54.890625 23.390625 \nQ 54.890625 11.625 47.5625 5.09375 \nQ 40.234375 -1.421875 26.90625 -1.421875 \nQ 22.3125 -1.421875 17.546875 -0.640625 \nQ 12.796875 0.140625 7.71875 1.703125 \nL 7.71875 11.625 \nQ 12.109375 9.234375 16.796875 8.0625 \nQ 21.484375 6.890625 26.703125 6.890625 \nQ 35.15625 6.890625 40.078125 11.328125 \nQ 45.015625 15.765625 45.015625 23.390625 \nQ 45.015625 31 40.078125 35.4375 \nQ 35.15625 39.890625 26.703125 39.890625 \nQ 22.75 39.890625 18.8125 39.015625 \nQ 14.890625 38.140625 10.796875 36.28125 \nz\n\" id=\"DejaVuSans-53\"/>\n      </defs>\n      <g transform=\"translate(20.878125 212.152407)scale(0.1 -0.1)\">\n       <use xlink:href=\"#DejaVuSans-54\"/>\n       <use x=\"63.623047\" xlink:href=\"#DejaVuSans-53\"/>\n      </g>\n     </g>\n    </g>\n    <g id=\"ytick_2\">\n     <g id=\"line2d_7\">\n      <g>\n       <use style=\"stroke:#000000;stroke-width:0.8;\" x=\"40.603125\" xlink:href=\"#m4cc99a385b\" y=\"173.928093\"/>\n      </g>\n     </g>\n     <g id=\"text_8\">\n      <!-- 70 -->\n      <defs>\n       <path d=\"M 8.203125 72.90625 \nL 55.078125 72.90625 \nL 55.078125 68.703125 \nL 28.609375 0 \nL 18.3125 0 \nL 43.21875 64.59375 \nL 8.203125 64.59375 \nz\n\" id=\"DejaVuSans-55\"/>\n      </defs>\n      <g transform=\"translate(20.878125 177.727312)scale(0.1 -0.1)\">\n       <use xlink:href=\"#DejaVuSans-55\"/>\n       <use x=\"63.623047\" xlink:href=\"#DejaVuSans-48\"/>\n      </g>\n     </g>\n    </g>\n    <g id=\"ytick_3\">\n     <g id=\"line2d_8\">\n      <g>\n       <use style=\"stroke:#000000;stroke-width:0.8;\" x=\"40.603125\" xlink:href=\"#m4cc99a385b\" y=\"139.502997\"/>\n      </g>\n     </g>\n     <g id=\"text_9\">\n      <!-- 75 -->\n      <g transform=\"translate(20.878125 143.302216)scale(0.1 -0.1)\">\n       <use xlink:href=\"#DejaVuSans-55\"/>\n       <use x=\"63.623047\" xlink:href=\"#DejaVuSans-53\"/>\n      </g>\n     </g>\n    </g>\n    <g id=\"ytick_4\">\n     <g id=\"line2d_9\">\n      <g>\n       <use style=\"stroke:#000000;stroke-width:0.8;\" x=\"40.603125\" xlink:href=\"#m4cc99a385b\" y=\"105.077902\"/>\n      </g>\n     </g>\n     <g id=\"text_10\">\n      <!-- 80 -->\n      <g transform=\"translate(20.878125 108.877121)scale(0.1 -0.1)\">\n       <use xlink:href=\"#DejaVuSans-56\"/>\n       <use x=\"63.623047\" xlink:href=\"#DejaVuSans-48\"/>\n      </g>\n     </g>\n    </g>\n    <g id=\"ytick_5\">\n     <g id=\"line2d_10\">\n      <g>\n       <use style=\"stroke:#000000;stroke-width:0.8;\" x=\"40.603125\" xlink:href=\"#m4cc99a385b\" y=\"70.652806\"/>\n      </g>\n     </g>\n     <g id=\"text_11\">\n      <!-- 85 -->\n      <g transform=\"translate(20.878125 74.452025)scale(0.1 -0.1)\">\n       <use xlink:href=\"#DejaVuSans-56\"/>\n       <use x=\"63.623047\" xlink:href=\"#DejaVuSans-53\"/>\n      </g>\n     </g>\n    </g>\n    <g id=\"ytick_6\">\n     <g id=\"line2d_11\">\n      <g>\n       <use style=\"stroke:#000000;stroke-width:0.8;\" x=\"40.603125\" xlink:href=\"#m4cc99a385b\" y=\"36.227711\"/>\n      </g>\n     </g>\n     <g id=\"text_12\">\n      <!-- 90 -->\n      <defs>\n       <path d=\"M 10.984375 1.515625 \nL 10.984375 10.5 \nQ 14.703125 8.734375 18.5 7.8125 \nQ 22.3125 6.890625 25.984375 6.890625 \nQ 35.75 6.890625 40.890625 13.453125 \nQ 46.046875 20.015625 46.78125 33.40625 \nQ 43.953125 29.203125 39.59375 26.953125 \nQ 35.25 24.703125 29.984375 24.703125 \nQ 19.046875 24.703125 12.671875 31.3125 \nQ 6.296875 37.9375 6.296875 49.421875 \nQ 6.296875 60.640625 12.9375 67.421875 \nQ 19.578125 74.21875 30.609375 74.21875 \nQ 43.265625 74.21875 49.921875 64.515625 \nQ 56.59375 54.828125 56.59375 36.375 \nQ 56.59375 19.140625 48.40625 8.859375 \nQ 40.234375 -1.421875 26.421875 -1.421875 \nQ 22.703125 -1.421875 18.890625 -0.6875 \nQ 15.09375 0.046875 10.984375 1.515625 \nz\nM 30.609375 32.421875 \nQ 37.25 32.421875 41.125 36.953125 \nQ 45.015625 41.5 45.015625 49.421875 \nQ 45.015625 57.28125 41.125 61.84375 \nQ 37.25 66.40625 30.609375 66.40625 \nQ 23.96875 66.40625 20.09375 61.84375 \nQ 16.21875 57.28125 16.21875 49.421875 \nQ 16.21875 41.5 20.09375 36.953125 \nQ 23.96875 32.421875 30.609375 32.421875 \nz\n\" id=\"DejaVuSans-57\"/>\n      </defs>\n      <g transform=\"translate(20.878125 40.026929)scale(0.1 -0.1)\">\n       <use xlink:href=\"#DejaVuSans-57\"/>\n       <use x=\"63.623047\" xlink:href=\"#DejaVuSans-48\"/>\n      </g>\n     </g>\n    </g>\n    <g id=\"text_13\">\n     <!-- Accuracy -->\n     <defs>\n      <path d=\"M 34.1875 63.1875 \nL 20.796875 26.90625 \nL 47.609375 26.90625 \nz\nM 28.609375 72.90625 \nL 39.796875 72.90625 \nL 67.578125 0 \nL 57.328125 0 \nL 50.6875 18.703125 \nL 17.828125 18.703125 \nL 11.1875 0 \nL 0.78125 0 \nz\n\" id=\"DejaVuSans-65\"/>\n      <path d=\"M 8.5 21.578125 \nL 8.5 54.6875 \nL 17.484375 54.6875 \nL 17.484375 21.921875 \nQ 17.484375 14.15625 20.5 10.265625 \nQ 23.53125 6.390625 29.59375 6.390625 \nQ 36.859375 6.390625 41.078125 11.03125 \nQ 45.3125 15.671875 45.3125 23.6875 \nL 45.3125 54.6875 \nL 54.296875 54.6875 \nL 54.296875 0 \nL 45.3125 0 \nL 45.3125 8.40625 \nQ 42.046875 3.421875 37.71875 1 \nQ 33.40625 -1.421875 27.6875 -1.421875 \nQ 18.265625 -1.421875 13.375 4.4375 \nQ 8.5 10.296875 8.5 21.578125 \nz\nM 31.109375 56 \nz\n\" id=\"DejaVuSans-117\"/>\n      <path d=\"M 41.109375 46.296875 \nQ 39.59375 47.171875 37.8125 47.578125 \nQ 36.03125 48 33.890625 48 \nQ 26.265625 48 22.1875 43.046875 \nQ 18.109375 38.09375 18.109375 28.8125 \nL 18.109375 0 \nL 9.078125 0 \nL 9.078125 54.6875 \nL 18.109375 54.6875 \nL 18.109375 46.1875 \nQ 20.953125 51.171875 25.484375 53.578125 \nQ 30.03125 56 36.53125 56 \nQ 37.453125 56 38.578125 55.875 \nQ 39.703125 55.765625 41.0625 55.515625 \nz\n\" id=\"DejaVuSans-114\"/>\n      <path d=\"M 34.28125 27.484375 \nQ 23.390625 27.484375 19.1875 25 \nQ 14.984375 22.515625 14.984375 16.5 \nQ 14.984375 11.71875 18.140625 8.90625 \nQ 21.296875 6.109375 26.703125 6.109375 \nQ 34.1875 6.109375 38.703125 11.40625 \nQ 43.21875 16.703125 43.21875 25.484375 \nL 43.21875 27.484375 \nz\nM 52.203125 31.203125 \nL 52.203125 0 \nL 43.21875 0 \nL 43.21875 8.296875 \nQ 40.140625 3.328125 35.546875 0.953125 \nQ 30.953125 -1.421875 24.3125 -1.421875 \nQ 15.921875 -1.421875 10.953125 3.296875 \nQ 6 8.015625 6 15.921875 \nQ 6 25.140625 12.171875 29.828125 \nQ 18.359375 34.515625 30.609375 34.515625 \nL 43.21875 34.515625 \nL 43.21875 35.40625 \nQ 43.21875 41.609375 39.140625 45 \nQ 35.0625 48.390625 27.6875 48.390625 \nQ 23 48.390625 18.546875 47.265625 \nQ 14.109375 46.140625 10.015625 43.890625 \nL 10.015625 52.203125 \nQ 14.9375 54.109375 19.578125 55.046875 \nQ 24.21875 56 28.609375 56 \nQ 40.484375 56 46.34375 49.84375 \nQ 52.203125 43.703125 52.203125 31.203125 \nz\n\" id=\"DejaVuSans-97\"/>\n      <path d=\"M 32.171875 -5.078125 \nQ 28.375 -14.84375 24.75 -17.8125 \nQ 21.140625 -20.796875 15.09375 -20.796875 \nL 7.90625 -20.796875 \nL 7.90625 -13.28125 \nL 13.1875 -13.28125 \nQ 16.890625 -13.28125 18.9375 -11.515625 \nQ 21 -9.765625 23.484375 -3.21875 \nL 25.09375 0.875 \nL 2.984375 54.6875 \nL 12.5 54.6875 \nL 29.59375 11.921875 \nL 46.6875 54.6875 \nL 56.203125 54.6875 \nz\n\" id=\"DejaVuSans-121\"/>\n     </defs>\n     <g transform=\"translate(14.798438 138.834844)rotate(-90)scale(0.1 -0.1)\">\n      <use xlink:href=\"#DejaVuSans-65\"/>\n      <use x=\"68.392578\" xlink:href=\"#DejaVuSans-99\"/>\n      <use x=\"123.373047\" xlink:href=\"#DejaVuSans-99\"/>\n      <use x=\"178.353516\" xlink:href=\"#DejaVuSans-117\"/>\n      <use x=\"241.732422\" xlink:href=\"#DejaVuSans-114\"/>\n      <use x=\"282.845703\" xlink:href=\"#DejaVuSans-97\"/>\n      <use x=\"344.125\" xlink:href=\"#DejaVuSans-99\"/>\n      <use x=\"399.105469\" xlink:href=\"#DejaVuSans-121\"/>\n     </g>\n    </g>\n   </g>\n   <g id=\"line2d_12\">\n    <path clip-path=\"url(#pe1f1ddbe87)\" d=\"M 55.821307 214.756364 \nL 59.279985 174.699527 \nL 62.738662 153.515507 \nL 66.19734 139.617667 \nL 69.656018 128.663683 \nL 73.114695 120.086458 \nL 76.573373 113.231537 \nL 80.032051 107.190757 \nL 83.490728 101.932441 \nL 86.949406 97.322905 \nL 90.408084 93.111168 \nL 93.866761 89.309626 \nL 97.325439 85.736268 \nL 100.784117 82.500458 \nL 104.242794 79.510849 \nL 107.701472 76.67557 \nL 111.16015 74.075828 \nL 114.618827 71.673173 \nL 118.077505 69.341642 \nL 121.536183 67.160079 \nL 124.994861 65.110311 \nL 128.453538 63.1978 \nL 131.912216 61.328362 \nL 135.370894 59.55689 \nL 138.829571 57.851342 \nL 142.288249 56.232412 \nL 145.746927 54.730044 \nL 149.205604 53.305418 \nL 152.664282 51.939151 \nL 156.12296 50.647422 \nL 159.581637 49.362049 \nL 163.040315 48.175692 \nL 166.498993 47.003518 \nL 169.95767 45.868534 \nL 173.416348 44.773839 \nL 176.875026 43.740603 \nL 180.333704 42.774971 \nL 183.792381 41.841487 \nL 187.251059 40.951128 \nL 190.709737 40.085196 \nL 194.168414 39.240222 \nL 197.627092 38.396193 \nL 201.08577 37.591089 \nL 204.544447 36.845026 \nL 208.003125 36.09849 \nL 211.461803 35.391877 \nL 214.92048 34.7068 \nL 218.379158 34.043785 \nL 221.837836 33.389594 \nL 225.296513 32.770703 \nL 228.755191 32.14866 \nL 232.213869 31.553407 \nL 235.672546 30.968922 \nL 239.131224 30.422258 \nL 242.589902 29.874175 \nL 246.04858 29.344215 \nL 249.507257 28.8204 \nL 252.965935 28.312029 \nL 256.424613 27.825983 \nL 259.88329 27.354067 \nL 263.341968 26.895492 \nL 266.800646 26.448002 \nL 270.259323 25.999618 \nL 273.718001 25.566416 \nL 277.176679 25.158217 \nL 280.635356 24.759052 \nL 284.094034 24.362567 \nL 287.552712 23.951216 \nL 291.011389 23.572485 \nL 294.470067 23.204628 \nL 297.928745 22.849903 \nL 301.387423 22.475795 \nL 304.8461 22.119494 \nL 308.304778 21.778584 \nL 311.763456 21.452171 \nL 315.222133 21.124919 \nL 318.680811 20.823878 \nL 322.139489 20.503716 \nL 325.598166 20.184185 \nL 329.056844 19.887189 \nL 332.515522 19.583837 \nL 335.974199 19.284897 \nL 339.432877 18.99142 \nL 342.891555 18.71097 \nL 346.350232 18.437402 \nL 349.80891 18.17665 \nL 353.267588 17.917317 \nL 356.726265 17.665337 \nL 360.184943 17.416615 \n\" style=\"fill:none;stroke:#ff0000;stroke-linecap:square;stroke-width:1.5;\"/>\n   </g>\n   <g id=\"line2d_13\">\n    <path clip-path=\"url(#pe1f1ddbe87)\" d=\"M 55.821307 180.102401 \nL 59.279985 156.662071 \nL 62.738662 141.648157 \nL 66.19734 130.145881 \nL 69.656018 121.191658 \nL 73.114695 113.999452 \nL 76.573373 107.812695 \nL 80.032051 102.479631 \nL 83.490728 97.646481 \nL 86.949406 93.421664 \nL 90.408084 89.559714 \nL 93.866761 85.946434 \nL 97.325439 82.639028 \nL 100.784117 79.584915 \nL 104.242794 76.759195 \nL 107.701472 74.136341 \nL 111.16015 71.705268 \nL 114.618827 69.366645 \nL 118.077505 67.124938 \nL 121.536183 65.082996 \nL 124.994861 63.136657 \nL 128.453538 61.304514 \nL 131.912216 59.5197 \nL 135.370894 57.819509 \nL 138.829571 56.177625 \nL 142.288249 54.659393 \nL 145.746927 53.227098 \nL 149.205604 51.854055 \nL 152.664282 50.556863 \nL 156.12296 49.287563 \nL 159.581637 48.080773 \nL 163.040315 46.909754 \nL 166.498993 45.774613 \nL 169.95767 44.676399 \nL 173.416348 43.630819 \nL 176.875026 42.654471 \nL 180.333704 41.727605 \nL 183.792381 40.843445 \nL 187.251059 39.98266 \nL 190.709737 39.125184 \nL 194.168414 38.289876 \nL 197.627092 37.496222 \nL 201.08577 36.728255 \nL 204.544447 35.99254 \nL 208.003125 35.28766 \nL 211.461803 34.589871 \nL 214.92048 33.941406 \nL 218.379158 33.286849 \nL 221.837836 32.658975 \nL 225.296513 32.04271 \nL 228.755191 31.443885 \nL 232.213869 30.870221 \nL 235.672546 30.314522 \nL 239.131224 29.773425 \nL 242.589902 29.239631 \nL 246.04858 28.716289 \nL 249.507257 28.204346 \nL 252.965935 27.719875 \nL 256.424613 27.249377 \nL 259.88329 26.793167 \nL 263.341968 26.345204 \nL 266.800646 25.904384 \nL 270.259323 25.466454 \nL 273.718001 25.053159 \nL 277.176679 24.659406 \nL 280.635356 24.265494 \nL 284.094034 23.855404 \nL 287.552712 23.475045 \nL 291.011389 23.104561 \nL 294.470067 22.755719 \nL 297.928745 22.383187 \nL 301.387423 22.021843 \nL 304.8461 21.681353 \nL 308.304778 21.357462 \nL 311.763456 21.034675 \nL 315.222133 20.734001 \nL 318.680811 20.414313 \nL 322.139489 20.094256 \nL 325.598166 19.798258 \nL 329.056844 19.49375 \nL 332.515522 19.199065 \nL 335.974199 18.906219 \nL 339.432877 18.624561 \nL 342.891555 18.347315 \nL 346.350232 18.086406 \nL 349.80891 17.830645 \nL 353.267588 17.574726 \nL 356.726265 17.328629 \nL 360.184943 17.083636 \n\" style=\"fill:none;stroke:#0000ff;stroke-linecap:square;stroke-width:1.5;\"/>\n   </g>\n   <g id=\"patch_3\">\n    <path d=\"M 40.603125 224.64 \nL 40.603125 7.2 \n\" style=\"fill:none;stroke:#000000;stroke-linecap:square;stroke-linejoin:miter;stroke-width:0.8;\"/>\n   </g>\n   <g id=\"patch_4\">\n    <path d=\"M 375.403125 224.64 \nL 375.403125 7.2 \n\" style=\"fill:none;stroke:#000000;stroke-linecap:square;stroke-linejoin:miter;stroke-width:0.8;\"/>\n   </g>\n   <g id=\"patch_5\">\n    <path d=\"M 40.603125 224.64 \nL 375.403125 224.64 \n\" style=\"fill:none;stroke:#000000;stroke-linecap:square;stroke-linejoin:miter;stroke-width:0.8;\"/>\n   </g>\n   <g id=\"patch_6\">\n    <path d=\"M 40.603125 7.2 \nL 375.403125 7.2 \n\" style=\"fill:none;stroke:#000000;stroke-linecap:square;stroke-linejoin:miter;stroke-width:0.8;\"/>\n   </g>\n   <g id=\"legend_1\">\n    <g id=\"patch_7\">\n     <path d=\"M 47.603125 44.55625 \nL 105.04375 44.55625 \nQ 107.04375 44.55625 107.04375 42.55625 \nL 107.04375 14.2 \nQ 107.04375 12.2 105.04375 12.2 \nL 47.603125 12.2 \nQ 45.603125 12.2 45.603125 14.2 \nL 45.603125 42.55625 \nQ 45.603125 44.55625 47.603125 44.55625 \nz\n\" style=\"fill:#ffffff;opacity:0.8;stroke:#cccccc;stroke-linejoin:miter;\"/>\n    </g>\n    <g id=\"line2d_14\">\n     <path d=\"M 49.603125 20.298438 \nL 69.603125 20.298438 \n\" style=\"fill:none;stroke:#ff0000;stroke-linecap:square;stroke-width:1.5;\"/>\n    </g>\n    <g id=\"line2d_15\"/>\n    <g id=\"text_14\">\n     <!-- Train -->\n     <defs>\n      <path d=\"M -0.296875 72.90625 \nL 61.375 72.90625 \nL 61.375 64.59375 \nL 35.5 64.59375 \nL 35.5 0 \nL 25.59375 0 \nL 25.59375 64.59375 \nL -0.296875 64.59375 \nz\n\" id=\"DejaVuSans-84\"/>\n      <path d=\"M 9.421875 54.6875 \nL 18.40625 54.6875 \nL 18.40625 0 \nL 9.421875 0 \nz\nM 9.421875 75.984375 \nL 18.40625 75.984375 \nL 18.40625 64.59375 \nL 9.421875 64.59375 \nz\n\" id=\"DejaVuSans-105\"/>\n      <path d=\"M 54.890625 33.015625 \nL 54.890625 0 \nL 45.90625 0 \nL 45.90625 32.71875 \nQ 45.90625 40.484375 42.875 44.328125 \nQ 39.84375 48.1875 33.796875 48.1875 \nQ 26.515625 48.1875 22.3125 43.546875 \nQ 18.109375 38.921875 18.109375 30.90625 \nL 18.109375 0 \nL 9.078125 0 \nL 9.078125 54.6875 \nL 18.109375 54.6875 \nL 18.109375 46.1875 \nQ 21.34375 51.125 25.703125 53.5625 \nQ 30.078125 56 35.796875 56 \nQ 45.21875 56 50.046875 50.171875 \nQ 54.890625 44.34375 54.890625 33.015625 \nz\n\" id=\"DejaVuSans-110\"/>\n     </defs>\n     <g transform=\"translate(77.603125 23.798438)scale(0.1 -0.1)\">\n      <use xlink:href=\"#DejaVuSans-84\"/>\n      <use x=\"60.865234\" xlink:href=\"#DejaVuSans-114\"/>\n      <use x=\"101.978516\" xlink:href=\"#DejaVuSans-97\"/>\n      <use x=\"163.257812\" xlink:href=\"#DejaVuSans-105\"/>\n      <use x=\"191.041016\" xlink:href=\"#DejaVuSans-110\"/>\n     </g>\n    </g>\n    <g id=\"line2d_16\">\n     <path d=\"M 49.603125 34.976562 \nL 69.603125 34.976562 \n\" style=\"fill:none;stroke:#0000ff;stroke-linecap:square;stroke-width:1.5;\"/>\n    </g>\n    <g id=\"line2d_17\"/>\n    <g id=\"text_15\">\n     <!-- Val -->\n     <defs>\n      <path d=\"M 28.609375 0 \nL 0.78125 72.90625 \nL 11.078125 72.90625 \nL 34.1875 11.53125 \nL 57.328125 72.90625 \nL 67.578125 72.90625 \nL 39.796875 0 \nz\n\" id=\"DejaVuSans-86\"/>\n      <path d=\"M 9.421875 75.984375 \nL 18.40625 75.984375 \nL 18.40625 0 \nL 9.421875 0 \nz\n\" id=\"DejaVuSans-108\"/>\n     </defs>\n     <g transform=\"translate(77.603125 38.476562)scale(0.1 -0.1)\">\n      <use xlink:href=\"#DejaVuSans-86\"/>\n      <use x=\"68.298828\" xlink:href=\"#DejaVuSans-97\"/>\n      <use x=\"129.578125\" xlink:href=\"#DejaVuSans-108\"/>\n     </g>\n    </g>\n   </g>\n  </g>\n </g>\n <defs>\n  <clipPath id=\"pe1f1ddbe87\">\n   <rect height=\"217.44\" width=\"334.8\" x=\"40.603125\" y=\"7.2\"/>\n  </clipPath>\n </defs>\n</svg>\n"
          },
          "metadata": {
            "tags": []
          }
        }
      ]
    },
    {
      "cell_type": "code",
      "metadata": {
        "id": "SxoQon-Yj0po",
        "colab_type": "code",
        "outputId": "6a49707f-768d-44ff-e52e-a6ec190b9bfa",
        "colab": {
          "base_uri": "https://localhost:8080/",
          "height": 371
        }
      },
      "source": [
        "plt.xlabel(\"Epochs\")\n",
        "plt.ylabel(\"Losses\")\n",
        "plt.plot(ep_adamw_losses, 'r', label='Train')\n",
        "plt.plot(ep_adamw_lossesv, 'b', label='Val')\n",
        "plt.legend()\n",
        "plt.savefig('adamw_resnet18_9278_loss.jpg')"
      ],
      "execution_count": 0,
      "outputs": [
        {
          "output_type": "display_data",
          "data": {
            "text/plain": [
              "<Figure size 432x288 with 1 Axes>"
            ],
            "image/svg+xml": "<?xml version=\"1.0\" encoding=\"utf-8\" standalone=\"no\"?>\n<!DOCTYPE svg PUBLIC \"-//W3C//DTD SVG 1.1//EN\"\n  \"http://www.w3.org/Graphics/SVG/1.1/DTD/svg11.dtd\">\n<!-- Created with matplotlib (https://matplotlib.org/) -->\n<svg height=\"262.19625pt\" version=\"1.1\" viewBox=\"0 0 385.78125 262.19625\" width=\"385.78125pt\" xmlns=\"http://www.w3.org/2000/svg\" xmlns:xlink=\"http://www.w3.org/1999/xlink\">\n <defs>\n  <style type=\"text/css\">\n*{stroke-linecap:butt;stroke-linejoin:round;}\n  </style>\n </defs>\n <g id=\"figure_1\">\n  <g id=\"patch_1\">\n   <path d=\"M 0 262.19625 \nL 385.78125 262.19625 \nL 385.78125 0 \nL 0 0 \nz\n\" style=\"fill:none;\"/>\n  </g>\n  <g id=\"axes_1\">\n   <g id=\"patch_2\">\n    <path d=\"M 43.78125 224.64 \nL 378.58125 224.64 \nL 378.58125 7.2 \nL 43.78125 7.2 \nz\n\" style=\"fill:#ffffff;\"/>\n   </g>\n   <g id=\"matplotlib.axis_1\">\n    <g id=\"xtick_1\">\n     <g id=\"line2d_1\">\n      <defs>\n       <path d=\"M 0 0 \nL 0 3.5 \n\" id=\"m8a66aee66e\" style=\"stroke:#000000;stroke-width:0.8;\"/>\n      </defs>\n      <g>\n       <use style=\"stroke:#000000;stroke-width:0.8;\" x=\"58.999432\" xlink:href=\"#m8a66aee66e\" y=\"224.64\"/>\n      </g>\n     </g>\n     <g id=\"text_1\">\n      <!-- 0 -->\n      <defs>\n       <path d=\"M 31.78125 66.40625 \nQ 24.171875 66.40625 20.328125 58.90625 \nQ 16.5 51.421875 16.5 36.375 \nQ 16.5 21.390625 20.328125 13.890625 \nQ 24.171875 6.390625 31.78125 6.390625 \nQ 39.453125 6.390625 43.28125 13.890625 \nQ 47.125 21.390625 47.125 36.375 \nQ 47.125 51.421875 43.28125 58.90625 \nQ 39.453125 66.40625 31.78125 66.40625 \nz\nM 31.78125 74.21875 \nQ 44.046875 74.21875 50.515625 64.515625 \nQ 56.984375 54.828125 56.984375 36.375 \nQ 56.984375 17.96875 50.515625 8.265625 \nQ 44.046875 -1.421875 31.78125 -1.421875 \nQ 19.53125 -1.421875 13.0625 8.265625 \nQ 6.59375 17.96875 6.59375 36.375 \nQ 6.59375 54.828125 13.0625 64.515625 \nQ 19.53125 74.21875 31.78125 74.21875 \nz\n\" id=\"DejaVuSans-48\"/>\n      </defs>\n      <g transform=\"translate(55.818182 239.238437)scale(0.1 -0.1)\">\n       <use xlink:href=\"#DejaVuSans-48\"/>\n      </g>\n     </g>\n    </g>\n    <g id=\"xtick_2\">\n     <g id=\"line2d_2\">\n      <g>\n       <use style=\"stroke:#000000;stroke-width:0.8;\" x=\"128.172986\" xlink:href=\"#m8a66aee66e\" y=\"224.64\"/>\n      </g>\n     </g>\n     <g id=\"text_2\">\n      <!-- 20 -->\n      <defs>\n       <path d=\"M 19.1875 8.296875 \nL 53.609375 8.296875 \nL 53.609375 0 \nL 7.328125 0 \nL 7.328125 8.296875 \nQ 12.9375 14.109375 22.625 23.890625 \nQ 32.328125 33.6875 34.8125 36.53125 \nQ 39.546875 41.84375 41.421875 45.53125 \nQ 43.3125 49.21875 43.3125 52.78125 \nQ 43.3125 58.59375 39.234375 62.25 \nQ 35.15625 65.921875 28.609375 65.921875 \nQ 23.96875 65.921875 18.8125 64.3125 \nQ 13.671875 62.703125 7.8125 59.421875 \nL 7.8125 69.390625 \nQ 13.765625 71.78125 18.9375 73 \nQ 24.125 74.21875 28.421875 74.21875 \nQ 39.75 74.21875 46.484375 68.546875 \nQ 53.21875 62.890625 53.21875 53.421875 \nQ 53.21875 48.921875 51.53125 44.890625 \nQ 49.859375 40.875 45.40625 35.40625 \nQ 44.1875 33.984375 37.640625 27.21875 \nQ 31.109375 20.453125 19.1875 8.296875 \nz\n\" id=\"DejaVuSans-50\"/>\n      </defs>\n      <g transform=\"translate(121.810486 239.238437)scale(0.1 -0.1)\">\n       <use xlink:href=\"#DejaVuSans-50\"/>\n       <use x=\"63.623047\" xlink:href=\"#DejaVuSans-48\"/>\n      </g>\n     </g>\n    </g>\n    <g id=\"xtick_3\">\n     <g id=\"line2d_3\">\n      <g>\n       <use style=\"stroke:#000000;stroke-width:0.8;\" x=\"197.346539\" xlink:href=\"#m8a66aee66e\" y=\"224.64\"/>\n      </g>\n     </g>\n     <g id=\"text_3\">\n      <!-- 40 -->\n      <defs>\n       <path d=\"M 37.796875 64.3125 \nL 12.890625 25.390625 \nL 37.796875 25.390625 \nz\nM 35.203125 72.90625 \nL 47.609375 72.90625 \nL 47.609375 25.390625 \nL 58.015625 25.390625 \nL 58.015625 17.1875 \nL 47.609375 17.1875 \nL 47.609375 0 \nL 37.796875 0 \nL 37.796875 17.1875 \nL 4.890625 17.1875 \nL 4.890625 26.703125 \nz\n\" id=\"DejaVuSans-52\"/>\n      </defs>\n      <g transform=\"translate(190.984039 239.238437)scale(0.1 -0.1)\">\n       <use xlink:href=\"#DejaVuSans-52\"/>\n       <use x=\"63.623047\" xlink:href=\"#DejaVuSans-48\"/>\n      </g>\n     </g>\n    </g>\n    <g id=\"xtick_4\">\n     <g id=\"line2d_4\">\n      <g>\n       <use style=\"stroke:#000000;stroke-width:0.8;\" x=\"266.520093\" xlink:href=\"#m8a66aee66e\" y=\"224.64\"/>\n      </g>\n     </g>\n     <g id=\"text_4\">\n      <!-- 60 -->\n      <defs>\n       <path d=\"M 33.015625 40.375 \nQ 26.375 40.375 22.484375 35.828125 \nQ 18.609375 31.296875 18.609375 23.390625 \nQ 18.609375 15.53125 22.484375 10.953125 \nQ 26.375 6.390625 33.015625 6.390625 \nQ 39.65625 6.390625 43.53125 10.953125 \nQ 47.40625 15.53125 47.40625 23.390625 \nQ 47.40625 31.296875 43.53125 35.828125 \nQ 39.65625 40.375 33.015625 40.375 \nz\nM 52.59375 71.296875 \nL 52.59375 62.3125 \nQ 48.875 64.0625 45.09375 64.984375 \nQ 41.3125 65.921875 37.59375 65.921875 \nQ 27.828125 65.921875 22.671875 59.328125 \nQ 17.53125 52.734375 16.796875 39.40625 \nQ 19.671875 43.65625 24.015625 45.921875 \nQ 28.375 48.1875 33.59375 48.1875 \nQ 44.578125 48.1875 50.953125 41.515625 \nQ 57.328125 34.859375 57.328125 23.390625 \nQ 57.328125 12.15625 50.6875 5.359375 \nQ 44.046875 -1.421875 33.015625 -1.421875 \nQ 20.359375 -1.421875 13.671875 8.265625 \nQ 6.984375 17.96875 6.984375 36.375 \nQ 6.984375 53.65625 15.1875 63.9375 \nQ 23.390625 74.21875 37.203125 74.21875 \nQ 40.921875 74.21875 44.703125 73.484375 \nQ 48.484375 72.75 52.59375 71.296875 \nz\n\" id=\"DejaVuSans-54\"/>\n      </defs>\n      <g transform=\"translate(260.157593 239.238437)scale(0.1 -0.1)\">\n       <use xlink:href=\"#DejaVuSans-54\"/>\n       <use x=\"63.623047\" xlink:href=\"#DejaVuSans-48\"/>\n      </g>\n     </g>\n    </g>\n    <g id=\"xtick_5\">\n     <g id=\"line2d_5\">\n      <g>\n       <use style=\"stroke:#000000;stroke-width:0.8;\" x=\"335.693647\" xlink:href=\"#m8a66aee66e\" y=\"224.64\"/>\n      </g>\n     </g>\n     <g id=\"text_5\">\n      <!-- 80 -->\n      <defs>\n       <path d=\"M 31.78125 34.625 \nQ 24.75 34.625 20.71875 30.859375 \nQ 16.703125 27.09375 16.703125 20.515625 \nQ 16.703125 13.921875 20.71875 10.15625 \nQ 24.75 6.390625 31.78125 6.390625 \nQ 38.8125 6.390625 42.859375 10.171875 \nQ 46.921875 13.96875 46.921875 20.515625 \nQ 46.921875 27.09375 42.890625 30.859375 \nQ 38.875 34.625 31.78125 34.625 \nz\nM 21.921875 38.8125 \nQ 15.578125 40.375 12.03125 44.71875 \nQ 8.5 49.078125 8.5 55.328125 \nQ 8.5 64.0625 14.71875 69.140625 \nQ 20.953125 74.21875 31.78125 74.21875 \nQ 42.671875 74.21875 48.875 69.140625 \nQ 55.078125 64.0625 55.078125 55.328125 \nQ 55.078125 49.078125 51.53125 44.71875 \nQ 48 40.375 41.703125 38.8125 \nQ 48.828125 37.15625 52.796875 32.3125 \nQ 56.78125 27.484375 56.78125 20.515625 \nQ 56.78125 9.90625 50.3125 4.234375 \nQ 43.84375 -1.421875 31.78125 -1.421875 \nQ 19.734375 -1.421875 13.25 4.234375 \nQ 6.78125 9.90625 6.78125 20.515625 \nQ 6.78125 27.484375 10.78125 32.3125 \nQ 14.796875 37.15625 21.921875 38.8125 \nz\nM 18.3125 54.390625 \nQ 18.3125 48.734375 21.84375 45.5625 \nQ 25.390625 42.390625 31.78125 42.390625 \nQ 38.140625 42.390625 41.71875 45.5625 \nQ 45.3125 48.734375 45.3125 54.390625 \nQ 45.3125 60.0625 41.71875 63.234375 \nQ 38.140625 66.40625 31.78125 66.40625 \nQ 25.390625 66.40625 21.84375 63.234375 \nQ 18.3125 60.0625 18.3125 54.390625 \nz\n\" id=\"DejaVuSans-56\"/>\n      </defs>\n      <g transform=\"translate(329.331147 239.238437)scale(0.1 -0.1)\">\n       <use xlink:href=\"#DejaVuSans-56\"/>\n       <use x=\"63.623047\" xlink:href=\"#DejaVuSans-48\"/>\n      </g>\n     </g>\n    </g>\n    <g id=\"text_6\">\n     <!-- Epochs -->\n     <defs>\n      <path d=\"M 9.8125 72.90625 \nL 55.90625 72.90625 \nL 55.90625 64.59375 \nL 19.671875 64.59375 \nL 19.671875 43.015625 \nL 54.390625 43.015625 \nL 54.390625 34.71875 \nL 19.671875 34.71875 \nL 19.671875 8.296875 \nL 56.78125 8.296875 \nL 56.78125 0 \nL 9.8125 0 \nz\n\" id=\"DejaVuSans-69\"/>\n      <path d=\"M 18.109375 8.203125 \nL 18.109375 -20.796875 \nL 9.078125 -20.796875 \nL 9.078125 54.6875 \nL 18.109375 54.6875 \nL 18.109375 46.390625 \nQ 20.953125 51.265625 25.265625 53.625 \nQ 29.59375 56 35.59375 56 \nQ 45.5625 56 51.78125 48.09375 \nQ 58.015625 40.1875 58.015625 27.296875 \nQ 58.015625 14.40625 51.78125 6.484375 \nQ 45.5625 -1.421875 35.59375 -1.421875 \nQ 29.59375 -1.421875 25.265625 0.953125 \nQ 20.953125 3.328125 18.109375 8.203125 \nz\nM 48.6875 27.296875 \nQ 48.6875 37.203125 44.609375 42.84375 \nQ 40.53125 48.484375 33.40625 48.484375 \nQ 26.265625 48.484375 22.1875 42.84375 \nQ 18.109375 37.203125 18.109375 27.296875 \nQ 18.109375 17.390625 22.1875 11.75 \nQ 26.265625 6.109375 33.40625 6.109375 \nQ 40.53125 6.109375 44.609375 11.75 \nQ 48.6875 17.390625 48.6875 27.296875 \nz\n\" id=\"DejaVuSans-112\"/>\n      <path d=\"M 30.609375 48.390625 \nQ 23.390625 48.390625 19.1875 42.75 \nQ 14.984375 37.109375 14.984375 27.296875 \nQ 14.984375 17.484375 19.15625 11.84375 \nQ 23.34375 6.203125 30.609375 6.203125 \nQ 37.796875 6.203125 41.984375 11.859375 \nQ 46.1875 17.53125 46.1875 27.296875 \nQ 46.1875 37.015625 41.984375 42.703125 \nQ 37.796875 48.390625 30.609375 48.390625 \nz\nM 30.609375 56 \nQ 42.328125 56 49.015625 48.375 \nQ 55.71875 40.765625 55.71875 27.296875 \nQ 55.71875 13.875 49.015625 6.21875 \nQ 42.328125 -1.421875 30.609375 -1.421875 \nQ 18.84375 -1.421875 12.171875 6.21875 \nQ 5.515625 13.875 5.515625 27.296875 \nQ 5.515625 40.765625 12.171875 48.375 \nQ 18.84375 56 30.609375 56 \nz\n\" id=\"DejaVuSans-111\"/>\n      <path d=\"M 48.78125 52.59375 \nL 48.78125 44.1875 \nQ 44.96875 46.296875 41.140625 47.34375 \nQ 37.3125 48.390625 33.40625 48.390625 \nQ 24.65625 48.390625 19.8125 42.84375 \nQ 14.984375 37.3125 14.984375 27.296875 \nQ 14.984375 17.28125 19.8125 11.734375 \nQ 24.65625 6.203125 33.40625 6.203125 \nQ 37.3125 6.203125 41.140625 7.25 \nQ 44.96875 8.296875 48.78125 10.40625 \nL 48.78125 2.09375 \nQ 45.015625 0.34375 40.984375 -0.53125 \nQ 36.96875 -1.421875 32.421875 -1.421875 \nQ 20.0625 -1.421875 12.78125 6.34375 \nQ 5.515625 14.109375 5.515625 27.296875 \nQ 5.515625 40.671875 12.859375 48.328125 \nQ 20.21875 56 33.015625 56 \nQ 37.15625 56 41.109375 55.140625 \nQ 45.0625 54.296875 48.78125 52.59375 \nz\n\" id=\"DejaVuSans-99\"/>\n      <path d=\"M 54.890625 33.015625 \nL 54.890625 0 \nL 45.90625 0 \nL 45.90625 32.71875 \nQ 45.90625 40.484375 42.875 44.328125 \nQ 39.84375 48.1875 33.796875 48.1875 \nQ 26.515625 48.1875 22.3125 43.546875 \nQ 18.109375 38.921875 18.109375 30.90625 \nL 18.109375 0 \nL 9.078125 0 \nL 9.078125 75.984375 \nL 18.109375 75.984375 \nL 18.109375 46.1875 \nQ 21.34375 51.125 25.703125 53.5625 \nQ 30.078125 56 35.796875 56 \nQ 45.21875 56 50.046875 50.171875 \nQ 54.890625 44.34375 54.890625 33.015625 \nz\n\" id=\"DejaVuSans-104\"/>\n      <path d=\"M 44.28125 53.078125 \nL 44.28125 44.578125 \nQ 40.484375 46.53125 36.375 47.5 \nQ 32.28125 48.484375 27.875 48.484375 \nQ 21.1875 48.484375 17.84375 46.4375 \nQ 14.5 44.390625 14.5 40.28125 \nQ 14.5 37.15625 16.890625 35.375 \nQ 19.28125 33.59375 26.515625 31.984375 \nL 29.59375 31.296875 \nQ 39.15625 29.25 43.1875 25.515625 \nQ 47.21875 21.78125 47.21875 15.09375 \nQ 47.21875 7.46875 41.1875 3.015625 \nQ 35.15625 -1.421875 24.609375 -1.421875 \nQ 20.21875 -1.421875 15.453125 -0.5625 \nQ 10.6875 0.296875 5.421875 2 \nL 5.421875 11.28125 \nQ 10.40625 8.6875 15.234375 7.390625 \nQ 20.0625 6.109375 24.8125 6.109375 \nQ 31.15625 6.109375 34.5625 8.28125 \nQ 37.984375 10.453125 37.984375 14.40625 \nQ 37.984375 18.0625 35.515625 20.015625 \nQ 33.0625 21.96875 24.703125 23.78125 \nL 21.578125 24.515625 \nQ 13.234375 26.265625 9.515625 29.90625 \nQ 5.8125 33.546875 5.8125 39.890625 \nQ 5.8125 47.609375 11.28125 51.796875 \nQ 16.75 56 26.8125 56 \nQ 31.78125 56 36.171875 55.265625 \nQ 40.578125 54.546875 44.28125 53.078125 \nz\n\" id=\"DejaVuSans-115\"/>\n     </defs>\n     <g transform=\"translate(193.265625 252.916562)scale(0.1 -0.1)\">\n      <use xlink:href=\"#DejaVuSans-69\"/>\n      <use x=\"63.183594\" xlink:href=\"#DejaVuSans-112\"/>\n      <use x=\"126.660156\" xlink:href=\"#DejaVuSans-111\"/>\n      <use x=\"187.841797\" xlink:href=\"#DejaVuSans-99\"/>\n      <use x=\"242.822266\" xlink:href=\"#DejaVuSans-104\"/>\n      <use x=\"306.201172\" xlink:href=\"#DejaVuSans-115\"/>\n     </g>\n    </g>\n   </g>\n   <g id=\"matplotlib.axis_2\">\n    <g id=\"ytick_1\">\n     <g id=\"line2d_6\">\n      <defs>\n       <path d=\"M 0 0 \nL -3.5 0 \n\" id=\"m61213c5f05\" style=\"stroke:#000000;stroke-width:0.8;\"/>\n      </defs>\n      <g>\n       <use style=\"stroke:#000000;stroke-width:0.8;\" x=\"43.78125\" xlink:href=\"#m61213c5f05\" y=\"218.300296\"/>\n      </g>\n     </g>\n     <g id=\"text_7\">\n      <!-- 0.0 -->\n      <defs>\n       <path d=\"M 10.6875 12.40625 \nL 21 12.40625 \nL 21 0 \nL 10.6875 0 \nz\n\" id=\"DejaVuSans-46\"/>\n      </defs>\n      <g transform=\"translate(20.878125 222.099515)scale(0.1 -0.1)\">\n       <use xlink:href=\"#DejaVuSans-48\"/>\n       <use x=\"63.623047\" xlink:href=\"#DejaVuSans-46\"/>\n       <use x=\"95.410156\" xlink:href=\"#DejaVuSans-48\"/>\n      </g>\n     </g>\n    </g>\n    <g id=\"ytick_2\">\n     <g id=\"line2d_7\">\n      <g>\n       <use style=\"stroke:#000000;stroke-width:0.8;\" x=\"43.78125\" xlink:href=\"#m61213c5f05\" y=\"192.394052\"/>\n      </g>\n     </g>\n     <g id=\"text_8\">\n      <!-- 0.1 -->\n      <defs>\n       <path d=\"M 12.40625 8.296875 \nL 28.515625 8.296875 \nL 28.515625 63.921875 \nL 10.984375 60.40625 \nL 10.984375 69.390625 \nL 28.421875 72.90625 \nL 38.28125 72.90625 \nL 38.28125 8.296875 \nL 54.390625 8.296875 \nL 54.390625 0 \nL 12.40625 0 \nz\n\" id=\"DejaVuSans-49\"/>\n      </defs>\n      <g transform=\"translate(20.878125 196.19327)scale(0.1 -0.1)\">\n       <use xlink:href=\"#DejaVuSans-48\"/>\n       <use x=\"63.623047\" xlink:href=\"#DejaVuSans-46\"/>\n       <use x=\"95.410156\" xlink:href=\"#DejaVuSans-49\"/>\n      </g>\n     </g>\n    </g>\n    <g id=\"ytick_3\">\n     <g id=\"line2d_8\">\n      <g>\n       <use style=\"stroke:#000000;stroke-width:0.8;\" x=\"43.78125\" xlink:href=\"#m61213c5f05\" y=\"166.487808\"/>\n      </g>\n     </g>\n     <g id=\"text_9\">\n      <!-- 0.2 -->\n      <g transform=\"translate(20.878125 170.287026)scale(0.1 -0.1)\">\n       <use xlink:href=\"#DejaVuSans-48\"/>\n       <use x=\"63.623047\" xlink:href=\"#DejaVuSans-46\"/>\n       <use x=\"95.410156\" xlink:href=\"#DejaVuSans-50\"/>\n      </g>\n     </g>\n    </g>\n    <g id=\"ytick_4\">\n     <g id=\"line2d_9\">\n      <g>\n       <use style=\"stroke:#000000;stroke-width:0.8;\" x=\"43.78125\" xlink:href=\"#m61213c5f05\" y=\"140.581564\"/>\n      </g>\n     </g>\n     <g id=\"text_10\">\n      <!-- 0.3 -->\n      <defs>\n       <path d=\"M 40.578125 39.3125 \nQ 47.65625 37.796875 51.625 33 \nQ 55.609375 28.21875 55.609375 21.1875 \nQ 55.609375 10.40625 48.1875 4.484375 \nQ 40.765625 -1.421875 27.09375 -1.421875 \nQ 22.515625 -1.421875 17.65625 -0.515625 \nQ 12.796875 0.390625 7.625 2.203125 \nL 7.625 11.71875 \nQ 11.71875 9.328125 16.59375 8.109375 \nQ 21.484375 6.890625 26.8125 6.890625 \nQ 36.078125 6.890625 40.9375 10.546875 \nQ 45.796875 14.203125 45.796875 21.1875 \nQ 45.796875 27.640625 41.28125 31.265625 \nQ 36.765625 34.90625 28.71875 34.90625 \nL 20.21875 34.90625 \nL 20.21875 43.015625 \nL 29.109375 43.015625 \nQ 36.375 43.015625 40.234375 45.921875 \nQ 44.09375 48.828125 44.09375 54.296875 \nQ 44.09375 59.90625 40.109375 62.90625 \nQ 36.140625 65.921875 28.71875 65.921875 \nQ 24.65625 65.921875 20.015625 65.03125 \nQ 15.375 64.15625 9.8125 62.3125 \nL 9.8125 71.09375 \nQ 15.4375 72.65625 20.34375 73.4375 \nQ 25.25 74.21875 29.59375 74.21875 \nQ 40.828125 74.21875 47.359375 69.109375 \nQ 53.90625 64.015625 53.90625 55.328125 \nQ 53.90625 49.265625 50.4375 45.09375 \nQ 46.96875 40.921875 40.578125 39.3125 \nz\n\" id=\"DejaVuSans-51\"/>\n      </defs>\n      <g transform=\"translate(20.878125 144.380782)scale(0.1 -0.1)\">\n       <use xlink:href=\"#DejaVuSans-48\"/>\n       <use x=\"63.623047\" xlink:href=\"#DejaVuSans-46\"/>\n       <use x=\"95.410156\" xlink:href=\"#DejaVuSans-51\"/>\n      </g>\n     </g>\n    </g>\n    <g id=\"ytick_5\">\n     <g id=\"line2d_10\">\n      <g>\n       <use style=\"stroke:#000000;stroke-width:0.8;\" x=\"43.78125\" xlink:href=\"#m61213c5f05\" y=\"114.67532\"/>\n      </g>\n     </g>\n     <g id=\"text_11\">\n      <!-- 0.4 -->\n      <g transform=\"translate(20.878125 118.474538)scale(0.1 -0.1)\">\n       <use xlink:href=\"#DejaVuSans-48\"/>\n       <use x=\"63.623047\" xlink:href=\"#DejaVuSans-46\"/>\n       <use x=\"95.410156\" xlink:href=\"#DejaVuSans-52\"/>\n      </g>\n     </g>\n    </g>\n    <g id=\"ytick_6\">\n     <g id=\"line2d_11\">\n      <g>\n       <use style=\"stroke:#000000;stroke-width:0.8;\" x=\"43.78125\" xlink:href=\"#m61213c5f05\" y=\"88.769075\"/>\n      </g>\n     </g>\n     <g id=\"text_12\">\n      <!-- 0.5 -->\n      <defs>\n       <path d=\"M 10.796875 72.90625 \nL 49.515625 72.90625 \nL 49.515625 64.59375 \nL 19.828125 64.59375 \nL 19.828125 46.734375 \nQ 21.96875 47.46875 24.109375 47.828125 \nQ 26.265625 48.1875 28.421875 48.1875 \nQ 40.625 48.1875 47.75 41.5 \nQ 54.890625 34.8125 54.890625 23.390625 \nQ 54.890625 11.625 47.5625 5.09375 \nQ 40.234375 -1.421875 26.90625 -1.421875 \nQ 22.3125 -1.421875 17.546875 -0.640625 \nQ 12.796875 0.140625 7.71875 1.703125 \nL 7.71875 11.625 \nQ 12.109375 9.234375 16.796875 8.0625 \nQ 21.484375 6.890625 26.703125 6.890625 \nQ 35.15625 6.890625 40.078125 11.328125 \nQ 45.015625 15.765625 45.015625 23.390625 \nQ 45.015625 31 40.078125 35.4375 \nQ 35.15625 39.890625 26.703125 39.890625 \nQ 22.75 39.890625 18.8125 39.015625 \nQ 14.890625 38.140625 10.796875 36.28125 \nz\n\" id=\"DejaVuSans-53\"/>\n      </defs>\n      <g transform=\"translate(20.878125 92.568294)scale(0.1 -0.1)\">\n       <use xlink:href=\"#DejaVuSans-48\"/>\n       <use x=\"63.623047\" xlink:href=\"#DejaVuSans-46\"/>\n       <use x=\"95.410156\" xlink:href=\"#DejaVuSans-53\"/>\n      </g>\n     </g>\n    </g>\n    <g id=\"ytick_7\">\n     <g id=\"line2d_12\">\n      <g>\n       <use style=\"stroke:#000000;stroke-width:0.8;\" x=\"43.78125\" xlink:href=\"#m61213c5f05\" y=\"62.862831\"/>\n      </g>\n     </g>\n     <g id=\"text_13\">\n      <!-- 0.6 -->\n      <g transform=\"translate(20.878125 66.66205)scale(0.1 -0.1)\">\n       <use xlink:href=\"#DejaVuSans-48\"/>\n       <use x=\"63.623047\" xlink:href=\"#DejaVuSans-46\"/>\n       <use x=\"95.410156\" xlink:href=\"#DejaVuSans-54\"/>\n      </g>\n     </g>\n    </g>\n    <g id=\"ytick_8\">\n     <g id=\"line2d_13\">\n      <g>\n       <use style=\"stroke:#000000;stroke-width:0.8;\" x=\"43.78125\" xlink:href=\"#m61213c5f05\" y=\"36.956587\"/>\n      </g>\n     </g>\n     <g id=\"text_14\">\n      <!-- 0.7 -->\n      <defs>\n       <path d=\"M 8.203125 72.90625 \nL 55.078125 72.90625 \nL 55.078125 68.703125 \nL 28.609375 0 \nL 18.3125 0 \nL 43.21875 64.59375 \nL 8.203125 64.59375 \nz\n\" id=\"DejaVuSans-55\"/>\n      </defs>\n      <g transform=\"translate(20.878125 40.755806)scale(0.1 -0.1)\">\n       <use xlink:href=\"#DejaVuSans-48\"/>\n       <use x=\"63.623047\" xlink:href=\"#DejaVuSans-46\"/>\n       <use x=\"95.410156\" xlink:href=\"#DejaVuSans-55\"/>\n      </g>\n     </g>\n    </g>\n    <g id=\"ytick_9\">\n     <g id=\"line2d_14\">\n      <g>\n       <use style=\"stroke:#000000;stroke-width:0.8;\" x=\"43.78125\" xlink:href=\"#m61213c5f05\" y=\"11.050343\"/>\n      </g>\n     </g>\n     <g id=\"text_15\">\n      <!-- 0.8 -->\n      <g transform=\"translate(20.878125 14.849562)scale(0.1 -0.1)\">\n       <use xlink:href=\"#DejaVuSans-48\"/>\n       <use x=\"63.623047\" xlink:href=\"#DejaVuSans-46\"/>\n       <use x=\"95.410156\" xlink:href=\"#DejaVuSans-56\"/>\n      </g>\n     </g>\n    </g>\n    <g id=\"text_16\">\n     <!-- Losses -->\n     <defs>\n      <path d=\"M 9.8125 72.90625 \nL 19.671875 72.90625 \nL 19.671875 8.296875 \nL 55.171875 8.296875 \nL 55.171875 0 \nL 9.8125 0 \nz\n\" id=\"DejaVuSans-76\"/>\n      <path d=\"M 56.203125 29.59375 \nL 56.203125 25.203125 \nL 14.890625 25.203125 \nQ 15.484375 15.921875 20.484375 11.0625 \nQ 25.484375 6.203125 34.421875 6.203125 \nQ 39.59375 6.203125 44.453125 7.46875 \nQ 49.3125 8.734375 54.109375 11.28125 \nL 54.109375 2.78125 \nQ 49.265625 0.734375 44.1875 -0.34375 \nQ 39.109375 -1.421875 33.890625 -1.421875 \nQ 20.796875 -1.421875 13.15625 6.1875 \nQ 5.515625 13.8125 5.515625 26.8125 \nQ 5.515625 40.234375 12.765625 48.109375 \nQ 20.015625 56 32.328125 56 \nQ 43.359375 56 49.78125 48.890625 \nQ 56.203125 41.796875 56.203125 29.59375 \nz\nM 47.21875 32.234375 \nQ 47.125 39.59375 43.09375 43.984375 \nQ 39.0625 48.390625 32.421875 48.390625 \nQ 24.90625 48.390625 20.390625 44.140625 \nQ 15.875 39.890625 15.1875 32.171875 \nz\n\" id=\"DejaVuSans-101\"/>\n     </defs>\n     <g transform=\"translate(14.798438 132.655156)rotate(-90)scale(0.1 -0.1)\">\n      <use xlink:href=\"#DejaVuSans-76\"/>\n      <use x=\"55.697266\" xlink:href=\"#DejaVuSans-111\"/>\n      <use x=\"116.878906\" xlink:href=\"#DejaVuSans-115\"/>\n      <use x=\"168.978516\" xlink:href=\"#DejaVuSans-115\"/>\n      <use x=\"221.078125\" xlink:href=\"#DejaVuSans-101\"/>\n      <use x=\"282.601562\" xlink:href=\"#DejaVuSans-115\"/>\n     </g>\n    </g>\n   </g>\n   <g id=\"line2d_15\">\n    <path clip-path=\"url(#p84cfb04fa4)\" d=\"M 58.999432 17.083636 \nL 62.45811 61.155493 \nL 65.916787 67.108865 \nL 69.375465 116.658092 \nL 72.834143 121.155432 \nL 76.29282 121.985203 \nL 79.751498 119.937845 \nL 83.210176 104.152897 \nL 86.668853 128.818089 \nL 90.127531 147.468592 \nL 93.586209 139.630583 \nL 97.044886 143.871628 \nL 100.503564 155.038095 \nL 103.962242 168.050913 \nL 107.420919 162.835189 \nL 110.879597 161.453356 \nL 114.338275 164.227749 \nL 117.796952 153.256062 \nL 121.25563 172.23142 \nL 124.714308 179.711337 \nL 128.172986 194.69156 \nL 131.631663 160.895847 \nL 135.090341 172.731777 \nL 138.549019 195.020565 \nL 142.007696 175.402404 \nL 145.466374 186.559981 \nL 148.925052 199.250845 \nL 152.383729 171.1923 \nL 155.842407 174.378521 \nL 159.301085 187.309493 \nL 162.759762 173.939111 \nL 166.21844 194.402462 \nL 169.677118 203.217289 \nL 173.135795 180.265669 \nL 176.594473 202.246714 \nL 180.053151 195.124458 \nL 183.511829 170.404263 \nL 186.970506 205.119414 \nL 190.429184 199.744965 \nL 193.887862 193.540734 \nL 197.346539 187.547224 \nL 200.805217 198.775254 \nL 204.263895 205.197062 \nL 207.722572 185.213884 \nL 211.18125 200.357608 \nL 214.639928 202.314073 \nL 218.098605 190.114941 \nL 221.557283 195.813172 \nL 225.015961 195.527889 \nL 228.474638 210.231058 \nL 231.933316 208.502447 \nL 235.391994 192.509834 \nL 238.850671 191.299059 \nL 242.309349 190.00733 \nL 245.768027 206.723012 \nL 249.226705 210.979403 \nL 252.685382 203.956042 \nL 256.14406 199.063092 \nL 259.602738 193.195914 \nL 263.061415 206.100734 \nL 266.520093 197.871755 \nL 269.978771 196.920508 \nL 273.437448 211.741406 \nL 276.896126 200.20546 \nL 280.354804 211.722202 \nL 283.813481 201.17634 \nL 287.272159 202.820545 \nL 290.730837 204.622445 \nL 294.189514 199.762621 \nL 297.648192 207.166709 \nL 301.10687 194.435688 \nL 304.565548 188.769291 \nL 308.024225 194.868298 \nL 311.482903 214.174918 \nL 314.941581 189.927151 \nL 318.400258 202.948539 \nL 321.858936 204.736172 \nL 325.317614 207.386111 \nL 328.776291 213.409846 \nL 332.234969 198.043548 \nL 335.693647 206.296704 \nL 339.152324 202.855357 \nL 342.611002 206.215824 \nL 346.06968 207.438678 \nL 349.528357 214.756364 \nL 352.987035 210.407532 \nL 356.445713 206.823771 \nL 359.90439 203.72177 \nL 363.363068 207.037143 \n\" style=\"fill:none;stroke:#ff0000;stroke-linecap:square;stroke-width:1.5;\"/>\n   </g>\n   <g id=\"line2d_16\">\n    <path clip-path=\"url(#p84cfb04fa4)\" d=\"M 58.999432 73.038519 \nL 62.45811 105.298234 \nL 65.916787 96.876921 \nL 69.375465 93.731485 \nL 72.834143 90.100372 \nL 76.29282 110.160985 \nL 79.751498 103.971098 \nL 83.210176 86.709203 \nL 86.668853 105.340628 \nL 90.127531 114.772421 \nL 93.586209 104.653667 \nL 97.044886 105.639279 \nL 100.503564 116.276414 \nL 103.962242 105.967592 \nL 107.420919 112.774506 \nL 110.879597 117.877409 \nL 114.338275 101.582874 \nL 117.796952 133.513696 \nL 121.25563 113.631724 \nL 124.714308 115.490906 \nL 128.172986 116.790031 \nL 131.631663 121.791761 \nL 135.090341 102.281146 \nL 138.549019 126.902917 \nL 142.007696 98.078944 \nL 145.466374 109.427005 \nL 148.925052 71.528234 \nL 152.383729 73.84329 \nL 155.842407 96.512715 \nL 159.301085 95.16732 \nL 162.759762 53.781195 \nL 166.21844 108.349548 \nL 169.677118 104.907036 \nL 173.135795 89.409952 \nL 176.594473 84.821362 \nL 180.053151 68.932903 \nL 183.511829 80.293085 \nL 186.970506 97.939508 \nL 190.429184 77.889967 \nL 193.887862 66.598653 \nL 197.346539 78.479718 \nL 200.805217 91.610758 \nL 204.263895 89.129244 \nL 207.722572 63.826148 \nL 211.18125 70.500691 \nL 214.639928 84.807326 \nL 218.098605 83.210801 \nL 221.557283 103.851142 \nL 225.015961 78.557635 \nL 228.474638 94.499961 \nL 231.933316 88.873436 \nL 235.391994 83.822509 \nL 238.850671 88.823105 \nL 242.309349 52.638522 \nL 245.768027 89.219314 \nL 249.226705 106.733713 \nL 252.685382 101.123564 \nL 256.14406 96.171145 \nL 259.602738 103.172658 \nL 263.061415 82.567546 \nL 266.520093 83.809723 \nL 269.978771 109.481281 \nL 273.437448 105.060051 \nL 276.896126 83.24051 \nL 280.354804 75.487946 \nL 283.813481 69.380639 \nL 287.272159 77.897765 \nL 290.730837 85.027951 \nL 294.189514 81.920338 \nL 297.648192 87.147968 \nL 301.10687 125.432262 \nL 304.565548 108.950385 \nL 308.024225 89.280253 \nL 311.482903 103.350867 \nL 314.941581 83.855831 \nL 318.400258 85.494727 \nL 321.858936 95.085681 \nL 325.317614 114.389244 \nL 328.776291 113.261487 \nL 332.234969 80.627452 \nL 335.693647 83.057715 \nL 339.152324 55.003083 \nL 342.611002 99.824315 \nL 346.06968 88.95932 \nL 349.528357 77.352702 \nL 352.987035 75.28656 \nL 356.445713 91.821447 \nL 359.90439 110.377704 \nL 363.363068 78.219686 \n\" style=\"fill:none;stroke:#0000ff;stroke-linecap:square;stroke-width:1.5;\"/>\n   </g>\n   <g id=\"patch_3\">\n    <path d=\"M 43.78125 224.64 \nL 43.78125 7.2 \n\" style=\"fill:none;stroke:#000000;stroke-linecap:square;stroke-linejoin:miter;stroke-width:0.8;\"/>\n   </g>\n   <g id=\"patch_4\">\n    <path d=\"M 378.58125 224.64 \nL 378.58125 7.2 \n\" style=\"fill:none;stroke:#000000;stroke-linecap:square;stroke-linejoin:miter;stroke-width:0.8;\"/>\n   </g>\n   <g id=\"patch_5\">\n    <path d=\"M 43.78125 224.64 \nL 378.58125 224.64 \n\" style=\"fill:none;stroke:#000000;stroke-linecap:square;stroke-linejoin:miter;stroke-width:0.8;\"/>\n   </g>\n   <g id=\"patch_6\">\n    <path d=\"M 43.78125 7.2 \nL 378.58125 7.2 \n\" style=\"fill:none;stroke:#000000;stroke-linecap:square;stroke-linejoin:miter;stroke-width:0.8;\"/>\n   </g>\n   <g id=\"legend_1\">\n    <g id=\"patch_7\">\n     <path d=\"M 314.140625 44.55625 \nL 371.58125 44.55625 \nQ 373.58125 44.55625 373.58125 42.55625 \nL 373.58125 14.2 \nQ 373.58125 12.2 371.58125 12.2 \nL 314.140625 12.2 \nQ 312.140625 12.2 312.140625 14.2 \nL 312.140625 42.55625 \nQ 312.140625 44.55625 314.140625 44.55625 \nz\n\" style=\"fill:#ffffff;opacity:0.8;stroke:#cccccc;stroke-linejoin:miter;\"/>\n    </g>\n    <g id=\"line2d_17\">\n     <path d=\"M 316.140625 20.298437 \nL 336.140625 20.298437 \n\" style=\"fill:none;stroke:#ff0000;stroke-linecap:square;stroke-width:1.5;\"/>\n    </g>\n    <g id=\"line2d_18\"/>\n    <g id=\"text_17\">\n     <!-- Train -->\n     <defs>\n      <path d=\"M -0.296875 72.90625 \nL 61.375 72.90625 \nL 61.375 64.59375 \nL 35.5 64.59375 \nL 35.5 0 \nL 25.59375 0 \nL 25.59375 64.59375 \nL -0.296875 64.59375 \nz\n\" id=\"DejaVuSans-84\"/>\n      <path d=\"M 41.109375 46.296875 \nQ 39.59375 47.171875 37.8125 47.578125 \nQ 36.03125 48 33.890625 48 \nQ 26.265625 48 22.1875 43.046875 \nQ 18.109375 38.09375 18.109375 28.8125 \nL 18.109375 0 \nL 9.078125 0 \nL 9.078125 54.6875 \nL 18.109375 54.6875 \nL 18.109375 46.1875 \nQ 20.953125 51.171875 25.484375 53.578125 \nQ 30.03125 56 36.53125 56 \nQ 37.453125 56 38.578125 55.875 \nQ 39.703125 55.765625 41.0625 55.515625 \nz\n\" id=\"DejaVuSans-114\"/>\n      <path d=\"M 34.28125 27.484375 \nQ 23.390625 27.484375 19.1875 25 \nQ 14.984375 22.515625 14.984375 16.5 \nQ 14.984375 11.71875 18.140625 8.90625 \nQ 21.296875 6.109375 26.703125 6.109375 \nQ 34.1875 6.109375 38.703125 11.40625 \nQ 43.21875 16.703125 43.21875 25.484375 \nL 43.21875 27.484375 \nz\nM 52.203125 31.203125 \nL 52.203125 0 \nL 43.21875 0 \nL 43.21875 8.296875 \nQ 40.140625 3.328125 35.546875 0.953125 \nQ 30.953125 -1.421875 24.3125 -1.421875 \nQ 15.921875 -1.421875 10.953125 3.296875 \nQ 6 8.015625 6 15.921875 \nQ 6 25.140625 12.171875 29.828125 \nQ 18.359375 34.515625 30.609375 34.515625 \nL 43.21875 34.515625 \nL 43.21875 35.40625 \nQ 43.21875 41.609375 39.140625 45 \nQ 35.0625 48.390625 27.6875 48.390625 \nQ 23 48.390625 18.546875 47.265625 \nQ 14.109375 46.140625 10.015625 43.890625 \nL 10.015625 52.203125 \nQ 14.9375 54.109375 19.578125 55.046875 \nQ 24.21875 56 28.609375 56 \nQ 40.484375 56 46.34375 49.84375 \nQ 52.203125 43.703125 52.203125 31.203125 \nz\n\" id=\"DejaVuSans-97\"/>\n      <path d=\"M 9.421875 54.6875 \nL 18.40625 54.6875 \nL 18.40625 0 \nL 9.421875 0 \nz\nM 9.421875 75.984375 \nL 18.40625 75.984375 \nL 18.40625 64.59375 \nL 9.421875 64.59375 \nz\n\" id=\"DejaVuSans-105\"/>\n      <path d=\"M 54.890625 33.015625 \nL 54.890625 0 \nL 45.90625 0 \nL 45.90625 32.71875 \nQ 45.90625 40.484375 42.875 44.328125 \nQ 39.84375 48.1875 33.796875 48.1875 \nQ 26.515625 48.1875 22.3125 43.546875 \nQ 18.109375 38.921875 18.109375 30.90625 \nL 18.109375 0 \nL 9.078125 0 \nL 9.078125 54.6875 \nL 18.109375 54.6875 \nL 18.109375 46.1875 \nQ 21.34375 51.125 25.703125 53.5625 \nQ 30.078125 56 35.796875 56 \nQ 45.21875 56 50.046875 50.171875 \nQ 54.890625 44.34375 54.890625 33.015625 \nz\n\" id=\"DejaVuSans-110\"/>\n     </defs>\n     <g transform=\"translate(344.140625 23.798437)scale(0.1 -0.1)\">\n      <use xlink:href=\"#DejaVuSans-84\"/>\n      <use x=\"60.865234\" xlink:href=\"#DejaVuSans-114\"/>\n      <use x=\"101.978516\" xlink:href=\"#DejaVuSans-97\"/>\n      <use x=\"163.257812\" xlink:href=\"#DejaVuSans-105\"/>\n      <use x=\"191.041016\" xlink:href=\"#DejaVuSans-110\"/>\n     </g>\n    </g>\n    <g id=\"line2d_19\">\n     <path d=\"M 316.140625 34.976562 \nL 336.140625 34.976562 \n\" style=\"fill:none;stroke:#0000ff;stroke-linecap:square;stroke-width:1.5;\"/>\n    </g>\n    <g id=\"line2d_20\"/>\n    <g id=\"text_18\">\n     <!-- Val -->\n     <defs>\n      <path d=\"M 28.609375 0 \nL 0.78125 72.90625 \nL 11.078125 72.90625 \nL 34.1875 11.53125 \nL 57.328125 72.90625 \nL 67.578125 72.90625 \nL 39.796875 0 \nz\n\" id=\"DejaVuSans-86\"/>\n      <path d=\"M 9.421875 75.984375 \nL 18.40625 75.984375 \nL 18.40625 0 \nL 9.421875 0 \nz\n\" id=\"DejaVuSans-108\"/>\n     </defs>\n     <g transform=\"translate(344.140625 38.476562)scale(0.1 -0.1)\">\n      <use xlink:href=\"#DejaVuSans-86\"/>\n      <use x=\"68.298828\" xlink:href=\"#DejaVuSans-97\"/>\n      <use x=\"129.578125\" xlink:href=\"#DejaVuSans-108\"/>\n     </g>\n    </g>\n   </g>\n  </g>\n </g>\n <defs>\n  <clipPath id=\"p84cfb04fa4\">\n   <rect height=\"217.44\" width=\"334.8\" x=\"43.78125\" y=\"7.2\"/>\n  </clipPath>\n </defs>\n</svg>\n"
          },
          "metadata": {
            "tags": []
          }
        }
      ]
    },
    {
      "cell_type": "code",
      "metadata": {
        "id": "bdYQCyJEj00H",
        "colab_type": "code",
        "outputId": "340da263-0965-43a6-aab0-7d04b5339f51",
        "colab": {
          "base_uri": "https://localhost:8080/",
          "height": 442
        }
      },
      "source": [
        "from google.colab import files\n",
        "files.download('./adamw_resnet18_9278.pth.tar')\n",
        "files.download('./adamw_resnet18_9278_acc.jpg')\n",
        "files.download('./adamw_resnet18_9278_loss.jpg')"
      ],
      "execution_count": 0,
      "outputs": [
        {
          "output_type": "stream",
          "text": [
            "----------------------------------------\n",
            "Exception happened during processing of request from ('::ffff:127.0.0.1', 46332, 0, 0)\n",
            "Traceback (most recent call last):\n",
            "  File \"/usr/lib/python3.6/socketserver.py\", line 320, in _handle_request_noblock\n",
            "    self.process_request(request, client_address)\n",
            "  File \"/usr/lib/python3.6/socketserver.py\", line 351, in process_request\n",
            "    self.finish_request(request, client_address)\n",
            "  File \"/usr/lib/python3.6/socketserver.py\", line 364, in finish_request\n",
            "    self.RequestHandlerClass(request, client_address, self)\n",
            "  File \"/usr/lib/python3.6/socketserver.py\", line 724, in __init__\n",
            "    self.handle()\n",
            "  File \"/usr/lib/python3.6/http/server.py\", line 418, in handle\n",
            "    self.handle_one_request()\n",
            "  File \"/usr/lib/python3.6/http/server.py\", line 406, in handle_one_request\n",
            "    method()\n",
            "  File \"/usr/lib/python3.6/http/server.py\", line 639, in do_GET\n",
            "    self.copyfile(f, self.wfile)\n",
            "  File \"/usr/lib/python3.6/http/server.py\", line 800, in copyfile\n",
            "    shutil.copyfileobj(source, outputfile)\n",
            "  File \"/usr/lib/python3.6/shutil.py\", line 82, in copyfileobj\n",
            "    fdst.write(buf)\n",
            "  File \"/usr/lib/python3.6/socketserver.py\", line 803, in write\n",
            "    self._sock.sendall(b)\n",
            "ConnectionResetError: [Errno 104] Connection reset by peer\n",
            "----------------------------------------\n"
          ],
          "name": "stderr"
        }
      ]
    },
    {
      "cell_type": "markdown",
      "metadata": {
        "id": "n0Z4WML9lYr1",
        "colab_type": "text"
      },
      "source": [
        "# Lookahead with SGD"
      ]
    },
    {
      "cell_type": "code",
      "metadata": {
        "id": "OWY9RM02ljjd",
        "colab_type": "code",
        "colab": {}
      },
      "source": [
        "load_checkpoint(model, filename='before_sgd_resnet18.pth.tar')"
      ],
      "execution_count": 0,
      "outputs": []
    },
    {
      "cell_type": "code",
      "metadata": {
        "id": "t0Hm9c06Bazq",
        "colab_type": "code",
        "colab": {}
      },
      "source": [
        "reset()"
      ],
      "execution_count": 0,
      "outputs": []
    },
    {
      "cell_type": "code",
      "metadata": {
        "id": "eeygLVC1Bcs3",
        "colab_type": "code",
        "colab": {}
      },
      "source": [
        "preds = []\n",
        "train_stats = AvgStats()\n",
        "test_stats = AvgStats()"
      ],
      "execution_count": 0,
      "outputs": []
    },
    {
      "cell_type": "code",
      "metadata": {
        "id": "4QHsZryCBfLK",
        "colab_type": "code",
        "colab": {}
      },
      "source": [
        "optims = torch.optim.SGD(model.parameters(), lr=1e-2, momentum=0.9, weight_decay=1e-4)"
      ],
      "execution_count": 0,
      "outputs": []
    },
    {
      "cell_type": "code",
      "metadata": {
        "id": "OqPU5Im6yHO1",
        "colab_type": "code",
        "colab": {}
      },
      "source": [
        "sched_la = torch.optim.lr_scheduler.StepLR(optims, step_size=30, gamma=0.2)"
      ],
      "execution_count": 0,
      "outputs": []
    },
    {
      "cell_type": "code",
      "metadata": {
        "id": "eVTRIpgiF3Wq",
        "colab_type": "code",
        "colab": {}
      },
      "source": [
        "la_optim = Lookahead(optims, alpha=0.5, k=10)"
      ],
      "execution_count": 0,
      "outputs": []
    },
    {
      "cell_type": "code",
      "metadata": {
        "id": "f1nY9hntBkqz",
        "colab_type": "code",
        "outputId": "f726e774-396a-4745-a974-8e4c6dfc6869",
        "colab": {
          "base_uri": "https://localhost:8080/",
          "height": 1000
        }
      },
      "source": [
        "fit(model, la_optim, sched_la)"
      ],
      "execution_count": 0,
      "outputs": [
        {
          "output_type": "stream",
          "text": [
            "Epoch\tTrn_loss\tVal_loss\tTrn_acc\t\tVal_acc\n",
            "1\t0.78376562\t0.67640162\t65.41400146\t67.35832977\n",
            "2\t0.63638799\t0.56469261\t71.63272858\t72.40666962\n",
            "3\t0.56728234\t0.55022529\t74.54941559\t74.90222168\n",
            "4\t0.52422578\t0.51236753\t76.31652069\t76.56083679\n",
            "5\t0.48728402\t0.50122342\t77.66379547\t77.83066559\n",
            "6\t0.46345733\t0.49776740\t78.69713593\t78.81610870\n",
            "7\t0.44508148\t0.53268120\t79.60024261\t79.65690613\n",
            "8\t0.39734845\t0.55754017\t80.32170868\t80.34729004\n",
            "9\t0.38279466\t0.53214014\t80.94773865\t80.97981262\n",
            "10\t0.37531324\t0.44296175\t81.50372314\t81.56616974\n",
            "11\t0.35894964\t0.45049450\t82.03430939\t82.08181763\n",
            "12\t0.32494530\t0.45984588\t82.51816559\t82.55791473\n",
            "13\t0.32157368\t0.44317434\t82.94908905\t82.98513031\n",
            "14\t0.31340349\t0.46740773\t83.33915710\t83.35725403\n",
            "15\t0.31834575\t0.48375036\t83.70584869\t83.71533966\n",
            "16\t0.28913719\t0.49326659\t84.05231476\t84.06250000\n",
            "17\t0.26896076\t0.47256352\t84.37772369\t84.38343048\n",
            "18\t0.27121469\t0.48869965\t84.68000031\t84.68852234\n",
            "19\t0.26140925\t0.54489059\t84.96813965\t84.95587921\n",
            "20\t0.25490629\t0.45584670\t85.22000122\t85.22850037\n",
            "21\t0.24966632\t0.45836483\t85.47776031\t85.48103333\n",
            "22\t0.24212007\t0.47415661\t85.72885895\t85.72825623\n",
            "23\t0.23119200\t0.51735746\t85.95423889\t85.94609070\n",
            "24\t0.21608878\t0.47457321\t86.16936493\t86.16562653\n",
            "25\t0.22075978\t0.53194078\t86.38690948\t86.37239838\n",
            "26\t0.21581033\t0.55971853\t86.57980347\t86.56397247\n",
            "27\t0.20618659\t0.54718188\t86.76068878\t86.74906921\n",
            "28\t0.20855029\t0.52823529\t86.94305420\t86.93160248\n",
            "29\t0.19966028\t0.56401599\t87.11873627\t87.10241699\n",
            "30\t0.19192590\t0.50832584\t87.28983307\t87.28011322\n",
            "31\t0.19843171\t0.51165530\t87.45378876\t87.44462585\n",
            "32\t0.12091765\t0.48641581\t87.66026306\t87.65682220\n",
            "33\t0.09780346\t0.48583683\t87.87903595\t87.87529755\n",
            "34\t0.09211800\t0.50074053\t88.09132385\t88.08657837\n",
            "35\t0.09751329\t0.51614453\t88.29579163\t88.29042816\n",
            "36\t0.08484857\t0.51478610\t88.49181366\t88.48545837\n",
            "37\t0.08412580\t0.52945725\t88.68071747\t88.67395782\n",
            "38\t0.07278831\t0.53621815\t88.86303711\t88.85477448\n",
            "39\t0.07351300\t0.54327395\t89.03738403\t89.02957153\n",
            "40\t0.07266360\t0.54013690\t89.20719910\t89.19866943\n",
            "41\t0.07912832\t0.55473182\t89.36816406\t89.35926819\n",
            "42\t0.07052858\t0.55019039\t89.52438354\t89.51384735\n",
            "43\t0.06914332\t0.57996746\t89.67446899\t89.66507721\n",
            "44\t0.06158848\t0.57130678\t89.82060242\t89.81091309\n",
            "45\t0.06549583\t0.56839742\t89.95680237\t89.94644165\n",
            "46\t0.05528998\t0.58240695\t90.09185791\t90.08152771\n",
            "47\t0.05581712\t0.58606474\t90.22232056\t90.21170044\n",
            "48\t0.05397053\t0.59641014\t90.34822083\t90.33757019\n",
            "49\t0.05914368\t0.62082711\t90.46798706\t90.45567322\n",
            "50\t0.05852708\t0.61361995\t90.58335114\t90.57153320\n",
            "51\t0.05765377\t0.61648541\t90.69528198\t90.68424988\n",
            "52\t0.05572324\t0.61843433\t90.80511475\t90.79288483\n",
            "53\t0.05585580\t0.60681489\t90.90811157\t90.89616394\n",
            "54\t0.04891676\t0.63701715\t91.01119995\t90.99811554\n",
            "55\t0.04818836\t0.62329233\t91.10912323\t91.09667206\n",
            "56\t0.04700981\t0.62113859\t91.20358276\t91.19130707\n",
            "57\t0.05235068\t0.62426136\t91.29484558\t91.28128052\n",
            "58\t0.05243059\t0.62989960\t91.38241577\t91.36985779\n",
            "59\t0.04532187\t0.61795208\t91.46773529\t91.45550537\n",
            "60\t0.04788982\t0.62228630\t91.55206299\t91.54003143\n",
            "61\t0.04655914\t0.62684366\t91.63487244\t91.62236786\n",
            "62\t0.04179200\t0.61889524\t91.71627808\t91.70413971\n",
            "63\t0.03946204\t0.62355883\t91.79676819\t91.78417969\n",
            "64\t0.04047902\t0.62966925\t91.87446594\t91.86224365\n",
            "65\t0.03979536\t0.62698041\t91.95072174\t91.93861389\n",
            "66\t0.03234533\t0.63155503\t92.02539062\t92.01313019\n",
            "67\t0.03417293\t0.62897222\t92.09731293\t92.08541870\n",
            "68\t0.03126113\t0.63288099\t92.16825867\t92.15623474\n",
            "69\t0.03335057\t0.63055318\t92.23818207\t92.22609711\n",
            "70\t0.03514808\t0.63830259\t92.30513763\t92.29321289\n",
            "71\t0.03779141\t0.64197076\t92.36997986\t92.35772705\n",
            "72\t0.03504299\t0.64021488\t92.43264771\t92.42076111\n",
            "73\t0.03365797\t0.63726202\t92.49459839\t92.48246765\n",
            "74\t0.03106892\t0.64251783\t92.55480957\t92.54273987\n",
            "75\t0.03816792\t0.64055634\t92.61293793\t92.60078430\n",
            "76\t0.03205786\t0.64282890\t92.67122650\t92.65901184\n",
            "77\t0.03434141\t0.63960130\t92.72553253\t92.71331787\n",
            "78\t0.03733809\t0.65746535\t92.77955627\t92.76762390\n",
            "79\t0.03102516\t0.64970761\t92.83274841\t92.82035828\n",
            "80\t0.02995183\t0.65222212\t92.88434601\t92.87247467\n",
            "81\t0.02981706\t0.64805243\t92.93478394\t92.92288208\n",
            "82\t0.02863926\t0.65435799\t92.98460388\t92.97284698\n",
            "83\t0.03061148\t0.65901908\t93.03398132\t93.02235413\n",
            "84\t0.03404119\t0.65250661\t93.08099365\t93.06912231\n",
            "85\t0.02648231\t0.66293343\t93.12774658\t93.11592102\n",
            "86\t0.03373742\t0.66438628\t93.17248535\t93.16082001\n",
            "87\t0.03042115\t0.66092969\t93.21660614\t93.20503235\n",
            "88\t0.02896786\t0.66080036\t93.26001740\t93.24824524\n",
            "89\t0.03308336\t0.65755022\t93.30178833\t93.29039001\n",
            "90\t0.03196123\t0.66754225\t93.34350586\t93.33183289\n"
          ],
          "name": "stdout"
        }
      ]
    },
    {
      "cell_type": "code",
      "metadata": {
        "id": "YFEcAgEhPzGv",
        "colab_type": "code",
        "colab": {}
      },
      "source": [
        "save_checkpoint(model, True, 'lookahead_sgd_resnet18_9334.pth.tar')"
      ],
      "execution_count": 0,
      "outputs": []
    },
    {
      "cell_type": "code",
      "metadata": {
        "id": "4fah7QvhBmOG",
        "colab_type": "code",
        "colab": {}
      },
      "source": [
        "ep_lookahead_losses = []\n",
        "for i in range(0, len(train_stats.losses), len(train_loader)):\n",
        "    if i != 0 :\n",
        "        ep_lookahead_losses.append(train_stats.losses[i])\n",
        "        \n",
        "ep_lookahead_lossesv = []\n",
        "for i in range(0, len(test_stats.losses), len(test_loader)):\n",
        "    if(i != 0):\n",
        "        ep_lookahead_lossesv.append(test_stats.losses[i])"
      ],
      "execution_count": 0,
      "outputs": []
    },
    {
      "cell_type": "code",
      "metadata": {
        "id": "dsZWOzOv51tO",
        "colab_type": "code",
        "colab": {}
      },
      "source": [
        "ep_lookahead_accs = []\n",
        "for i in range(0, len(train_stats.losses), len(train_loader)):\n",
        "    if i != 0 :\n",
        "        ep_lookahead_accs.append(train_stats.precs[i])\n",
        "        \n",
        "ep_lookahead_accsv = []\n",
        "for i in range(0, len(test_stats.losses), len(test_loader)):\n",
        "    if(i != 0):\n",
        "        ep_lookahead_accsv.append(test_stats.precs[i])"
      ],
      "execution_count": 0,
      "outputs": []
    },
    {
      "cell_type": "code",
      "metadata": {
        "id": "llTa7tns6uz_",
        "colab_type": "code",
        "outputId": "7689eb83-c1f7-4827-aa55-509df694f240",
        "colab": {
          "base_uri": "https://localhost:8080/",
          "height": 371
        }
      },
      "source": [
        "plt.xlabel(\"Epochs\")\n",
        "plt.ylabel(\"Accuracy\")\n",
        "plt.plot(ep_lookahead_accs, 'r', label='Train')\n",
        "plt.plot(ep_lookahead_accsv, 'b', label='Val')\n",
        "plt.legend()\n",
        "plt.savefig('lookahead_sgd_resnet18_9334_acc.jpg')"
      ],
      "execution_count": 0,
      "outputs": [
        {
          "output_type": "display_data",
          "data": {
            "text/plain": [
              "<Figure size 432x288 with 1 Axes>"
            ],
            "image/svg+xml": "<?xml version=\"1.0\" encoding=\"utf-8\" standalone=\"no\"?>\n<!DOCTYPE svg PUBLIC \"-//W3C//DTD SVG 1.1//EN\"\n  \"http://www.w3.org/Graphics/SVG/1.1/DTD/svg11.dtd\">\n<!-- Created with matplotlib (https://matplotlib.org/) -->\n<svg height=\"262.19625pt\" version=\"1.1\" viewBox=\"0 0 382.603125 262.19625\" width=\"382.603125pt\" xmlns=\"http://www.w3.org/2000/svg\" xmlns:xlink=\"http://www.w3.org/1999/xlink\">\n <defs>\n  <style type=\"text/css\">\n*{stroke-linecap:butt;stroke-linejoin:round;}\n  </style>\n </defs>\n <g id=\"figure_1\">\n  <g id=\"patch_1\">\n   <path d=\"M 0 262.19625 \nL 382.603125 262.19625 \nL 382.603125 0 \nL 0 0 \nz\n\" style=\"fill:none;\"/>\n  </g>\n  <g id=\"axes_1\">\n   <g id=\"patch_2\">\n    <path d=\"M 40.603125 224.64 \nL 375.403125 224.64 \nL 375.403125 7.2 \nL 40.603125 7.2 \nz\n\" style=\"fill:#ffffff;\"/>\n   </g>\n   <g id=\"matplotlib.axis_1\">\n    <g id=\"xtick_1\">\n     <g id=\"line2d_1\">\n      <defs>\n       <path d=\"M 0 0 \nL 0 3.5 \n\" id=\"mac261f7526\" style=\"stroke:#000000;stroke-width:0.8;\"/>\n      </defs>\n      <g>\n       <use style=\"stroke:#000000;stroke-width:0.8;\" x=\"55.821307\" xlink:href=\"#mac261f7526\" y=\"224.64\"/>\n      </g>\n     </g>\n     <g id=\"text_1\">\n      <!-- 0 -->\n      <defs>\n       <path d=\"M 31.78125 66.40625 \nQ 24.171875 66.40625 20.328125 58.90625 \nQ 16.5 51.421875 16.5 36.375 \nQ 16.5 21.390625 20.328125 13.890625 \nQ 24.171875 6.390625 31.78125 6.390625 \nQ 39.453125 6.390625 43.28125 13.890625 \nQ 47.125 21.390625 47.125 36.375 \nQ 47.125 51.421875 43.28125 58.90625 \nQ 39.453125 66.40625 31.78125 66.40625 \nz\nM 31.78125 74.21875 \nQ 44.046875 74.21875 50.515625 64.515625 \nQ 56.984375 54.828125 56.984375 36.375 \nQ 56.984375 17.96875 50.515625 8.265625 \nQ 44.046875 -1.421875 31.78125 -1.421875 \nQ 19.53125 -1.421875 13.0625 8.265625 \nQ 6.59375 17.96875 6.59375 36.375 \nQ 6.59375 54.828125 13.0625 64.515625 \nQ 19.53125 74.21875 31.78125 74.21875 \nz\n\" id=\"DejaVuSans-48\"/>\n      </defs>\n      <g transform=\"translate(52.640057 239.238438)scale(0.1 -0.1)\">\n       <use xlink:href=\"#DejaVuSans-48\"/>\n      </g>\n     </g>\n    </g>\n    <g id=\"xtick_2\">\n     <g id=\"line2d_2\">\n      <g>\n       <use style=\"stroke:#000000;stroke-width:0.8;\" x=\"124.994861\" xlink:href=\"#mac261f7526\" y=\"224.64\"/>\n      </g>\n     </g>\n     <g id=\"text_2\">\n      <!-- 20 -->\n      <defs>\n       <path d=\"M 19.1875 8.296875 \nL 53.609375 8.296875 \nL 53.609375 0 \nL 7.328125 0 \nL 7.328125 8.296875 \nQ 12.9375 14.109375 22.625 23.890625 \nQ 32.328125 33.6875 34.8125 36.53125 \nQ 39.546875 41.84375 41.421875 45.53125 \nQ 43.3125 49.21875 43.3125 52.78125 \nQ 43.3125 58.59375 39.234375 62.25 \nQ 35.15625 65.921875 28.609375 65.921875 \nQ 23.96875 65.921875 18.8125 64.3125 \nQ 13.671875 62.703125 7.8125 59.421875 \nL 7.8125 69.390625 \nQ 13.765625 71.78125 18.9375 73 \nQ 24.125 74.21875 28.421875 74.21875 \nQ 39.75 74.21875 46.484375 68.546875 \nQ 53.21875 62.890625 53.21875 53.421875 \nQ 53.21875 48.921875 51.53125 44.890625 \nQ 49.859375 40.875 45.40625 35.40625 \nQ 44.1875 33.984375 37.640625 27.21875 \nQ 31.109375 20.453125 19.1875 8.296875 \nz\n\" id=\"DejaVuSans-50\"/>\n      </defs>\n      <g transform=\"translate(118.632361 239.238438)scale(0.1 -0.1)\">\n       <use xlink:href=\"#DejaVuSans-50\"/>\n       <use x=\"63.623047\" xlink:href=\"#DejaVuSans-48\"/>\n      </g>\n     </g>\n    </g>\n    <g id=\"xtick_3\">\n     <g id=\"line2d_3\">\n      <g>\n       <use style=\"stroke:#000000;stroke-width:0.8;\" x=\"194.168414\" xlink:href=\"#mac261f7526\" y=\"224.64\"/>\n      </g>\n     </g>\n     <g id=\"text_3\">\n      <!-- 40 -->\n      <defs>\n       <path d=\"M 37.796875 64.3125 \nL 12.890625 25.390625 \nL 37.796875 25.390625 \nz\nM 35.203125 72.90625 \nL 47.609375 72.90625 \nL 47.609375 25.390625 \nL 58.015625 25.390625 \nL 58.015625 17.1875 \nL 47.609375 17.1875 \nL 47.609375 0 \nL 37.796875 0 \nL 37.796875 17.1875 \nL 4.890625 17.1875 \nL 4.890625 26.703125 \nz\n\" id=\"DejaVuSans-52\"/>\n      </defs>\n      <g transform=\"translate(187.805914 239.238438)scale(0.1 -0.1)\">\n       <use xlink:href=\"#DejaVuSans-52\"/>\n       <use x=\"63.623047\" xlink:href=\"#DejaVuSans-48\"/>\n      </g>\n     </g>\n    </g>\n    <g id=\"xtick_4\">\n     <g id=\"line2d_4\">\n      <g>\n       <use style=\"stroke:#000000;stroke-width:0.8;\" x=\"263.341968\" xlink:href=\"#mac261f7526\" y=\"224.64\"/>\n      </g>\n     </g>\n     <g id=\"text_4\">\n      <!-- 60 -->\n      <defs>\n       <path d=\"M 33.015625 40.375 \nQ 26.375 40.375 22.484375 35.828125 \nQ 18.609375 31.296875 18.609375 23.390625 \nQ 18.609375 15.53125 22.484375 10.953125 \nQ 26.375 6.390625 33.015625 6.390625 \nQ 39.65625 6.390625 43.53125 10.953125 \nQ 47.40625 15.53125 47.40625 23.390625 \nQ 47.40625 31.296875 43.53125 35.828125 \nQ 39.65625 40.375 33.015625 40.375 \nz\nM 52.59375 71.296875 \nL 52.59375 62.3125 \nQ 48.875 64.0625 45.09375 64.984375 \nQ 41.3125 65.921875 37.59375 65.921875 \nQ 27.828125 65.921875 22.671875 59.328125 \nQ 17.53125 52.734375 16.796875 39.40625 \nQ 19.671875 43.65625 24.015625 45.921875 \nQ 28.375 48.1875 33.59375 48.1875 \nQ 44.578125 48.1875 50.953125 41.515625 \nQ 57.328125 34.859375 57.328125 23.390625 \nQ 57.328125 12.15625 50.6875 5.359375 \nQ 44.046875 -1.421875 33.015625 -1.421875 \nQ 20.359375 -1.421875 13.671875 8.265625 \nQ 6.984375 17.96875 6.984375 36.375 \nQ 6.984375 53.65625 15.1875 63.9375 \nQ 23.390625 74.21875 37.203125 74.21875 \nQ 40.921875 74.21875 44.703125 73.484375 \nQ 48.484375 72.75 52.59375 71.296875 \nz\n\" id=\"DejaVuSans-54\"/>\n      </defs>\n      <g transform=\"translate(256.979468 239.238438)scale(0.1 -0.1)\">\n       <use xlink:href=\"#DejaVuSans-54\"/>\n       <use x=\"63.623047\" xlink:href=\"#DejaVuSans-48\"/>\n      </g>\n     </g>\n    </g>\n    <g id=\"xtick_5\">\n     <g id=\"line2d_5\">\n      <g>\n       <use style=\"stroke:#000000;stroke-width:0.8;\" x=\"332.515522\" xlink:href=\"#mac261f7526\" y=\"224.64\"/>\n      </g>\n     </g>\n     <g id=\"text_5\">\n      <!-- 80 -->\n      <defs>\n       <path d=\"M 31.78125 34.625 \nQ 24.75 34.625 20.71875 30.859375 \nQ 16.703125 27.09375 16.703125 20.515625 \nQ 16.703125 13.921875 20.71875 10.15625 \nQ 24.75 6.390625 31.78125 6.390625 \nQ 38.8125 6.390625 42.859375 10.171875 \nQ 46.921875 13.96875 46.921875 20.515625 \nQ 46.921875 27.09375 42.890625 30.859375 \nQ 38.875 34.625 31.78125 34.625 \nz\nM 21.921875 38.8125 \nQ 15.578125 40.375 12.03125 44.71875 \nQ 8.5 49.078125 8.5 55.328125 \nQ 8.5 64.0625 14.71875 69.140625 \nQ 20.953125 74.21875 31.78125 74.21875 \nQ 42.671875 74.21875 48.875 69.140625 \nQ 55.078125 64.0625 55.078125 55.328125 \nQ 55.078125 49.078125 51.53125 44.71875 \nQ 48 40.375 41.703125 38.8125 \nQ 48.828125 37.15625 52.796875 32.3125 \nQ 56.78125 27.484375 56.78125 20.515625 \nQ 56.78125 9.90625 50.3125 4.234375 \nQ 43.84375 -1.421875 31.78125 -1.421875 \nQ 19.734375 -1.421875 13.25 4.234375 \nQ 6.78125 9.90625 6.78125 20.515625 \nQ 6.78125 27.484375 10.78125 32.3125 \nQ 14.796875 37.15625 21.921875 38.8125 \nz\nM 18.3125 54.390625 \nQ 18.3125 48.734375 21.84375 45.5625 \nQ 25.390625 42.390625 31.78125 42.390625 \nQ 38.140625 42.390625 41.71875 45.5625 \nQ 45.3125 48.734375 45.3125 54.390625 \nQ 45.3125 60.0625 41.71875 63.234375 \nQ 38.140625 66.40625 31.78125 66.40625 \nQ 25.390625 66.40625 21.84375 63.234375 \nQ 18.3125 60.0625 18.3125 54.390625 \nz\n\" id=\"DejaVuSans-56\"/>\n      </defs>\n      <g transform=\"translate(326.153022 239.238438)scale(0.1 -0.1)\">\n       <use xlink:href=\"#DejaVuSans-56\"/>\n       <use x=\"63.623047\" xlink:href=\"#DejaVuSans-48\"/>\n      </g>\n     </g>\n    </g>\n    <g id=\"text_6\">\n     <!-- Epochs -->\n     <defs>\n      <path d=\"M 9.8125 72.90625 \nL 55.90625 72.90625 \nL 55.90625 64.59375 \nL 19.671875 64.59375 \nL 19.671875 43.015625 \nL 54.390625 43.015625 \nL 54.390625 34.71875 \nL 19.671875 34.71875 \nL 19.671875 8.296875 \nL 56.78125 8.296875 \nL 56.78125 0 \nL 9.8125 0 \nz\n\" id=\"DejaVuSans-69\"/>\n      <path d=\"M 18.109375 8.203125 \nL 18.109375 -20.796875 \nL 9.078125 -20.796875 \nL 9.078125 54.6875 \nL 18.109375 54.6875 \nL 18.109375 46.390625 \nQ 20.953125 51.265625 25.265625 53.625 \nQ 29.59375 56 35.59375 56 \nQ 45.5625 56 51.78125 48.09375 \nQ 58.015625 40.1875 58.015625 27.296875 \nQ 58.015625 14.40625 51.78125 6.484375 \nQ 45.5625 -1.421875 35.59375 -1.421875 \nQ 29.59375 -1.421875 25.265625 0.953125 \nQ 20.953125 3.328125 18.109375 8.203125 \nz\nM 48.6875 27.296875 \nQ 48.6875 37.203125 44.609375 42.84375 \nQ 40.53125 48.484375 33.40625 48.484375 \nQ 26.265625 48.484375 22.1875 42.84375 \nQ 18.109375 37.203125 18.109375 27.296875 \nQ 18.109375 17.390625 22.1875 11.75 \nQ 26.265625 6.109375 33.40625 6.109375 \nQ 40.53125 6.109375 44.609375 11.75 \nQ 48.6875 17.390625 48.6875 27.296875 \nz\n\" id=\"DejaVuSans-112\"/>\n      <path d=\"M 30.609375 48.390625 \nQ 23.390625 48.390625 19.1875 42.75 \nQ 14.984375 37.109375 14.984375 27.296875 \nQ 14.984375 17.484375 19.15625 11.84375 \nQ 23.34375 6.203125 30.609375 6.203125 \nQ 37.796875 6.203125 41.984375 11.859375 \nQ 46.1875 17.53125 46.1875 27.296875 \nQ 46.1875 37.015625 41.984375 42.703125 \nQ 37.796875 48.390625 30.609375 48.390625 \nz\nM 30.609375 56 \nQ 42.328125 56 49.015625 48.375 \nQ 55.71875 40.765625 55.71875 27.296875 \nQ 55.71875 13.875 49.015625 6.21875 \nQ 42.328125 -1.421875 30.609375 -1.421875 \nQ 18.84375 -1.421875 12.171875 6.21875 \nQ 5.515625 13.875 5.515625 27.296875 \nQ 5.515625 40.765625 12.171875 48.375 \nQ 18.84375 56 30.609375 56 \nz\n\" id=\"DejaVuSans-111\"/>\n      <path d=\"M 48.78125 52.59375 \nL 48.78125 44.1875 \nQ 44.96875 46.296875 41.140625 47.34375 \nQ 37.3125 48.390625 33.40625 48.390625 \nQ 24.65625 48.390625 19.8125 42.84375 \nQ 14.984375 37.3125 14.984375 27.296875 \nQ 14.984375 17.28125 19.8125 11.734375 \nQ 24.65625 6.203125 33.40625 6.203125 \nQ 37.3125 6.203125 41.140625 7.25 \nQ 44.96875 8.296875 48.78125 10.40625 \nL 48.78125 2.09375 \nQ 45.015625 0.34375 40.984375 -0.53125 \nQ 36.96875 -1.421875 32.421875 -1.421875 \nQ 20.0625 -1.421875 12.78125 6.34375 \nQ 5.515625 14.109375 5.515625 27.296875 \nQ 5.515625 40.671875 12.859375 48.328125 \nQ 20.21875 56 33.015625 56 \nQ 37.15625 56 41.109375 55.140625 \nQ 45.0625 54.296875 48.78125 52.59375 \nz\n\" id=\"DejaVuSans-99\"/>\n      <path d=\"M 54.890625 33.015625 \nL 54.890625 0 \nL 45.90625 0 \nL 45.90625 32.71875 \nQ 45.90625 40.484375 42.875 44.328125 \nQ 39.84375 48.1875 33.796875 48.1875 \nQ 26.515625 48.1875 22.3125 43.546875 \nQ 18.109375 38.921875 18.109375 30.90625 \nL 18.109375 0 \nL 9.078125 0 \nL 9.078125 75.984375 \nL 18.109375 75.984375 \nL 18.109375 46.1875 \nQ 21.34375 51.125 25.703125 53.5625 \nQ 30.078125 56 35.796875 56 \nQ 45.21875 56 50.046875 50.171875 \nQ 54.890625 44.34375 54.890625 33.015625 \nz\n\" id=\"DejaVuSans-104\"/>\n      <path d=\"M 44.28125 53.078125 \nL 44.28125 44.578125 \nQ 40.484375 46.53125 36.375 47.5 \nQ 32.28125 48.484375 27.875 48.484375 \nQ 21.1875 48.484375 17.84375 46.4375 \nQ 14.5 44.390625 14.5 40.28125 \nQ 14.5 37.15625 16.890625 35.375 \nQ 19.28125 33.59375 26.515625 31.984375 \nL 29.59375 31.296875 \nQ 39.15625 29.25 43.1875 25.515625 \nQ 47.21875 21.78125 47.21875 15.09375 \nQ 47.21875 7.46875 41.1875 3.015625 \nQ 35.15625 -1.421875 24.609375 -1.421875 \nQ 20.21875 -1.421875 15.453125 -0.5625 \nQ 10.6875 0.296875 5.421875 2 \nL 5.421875 11.28125 \nQ 10.40625 8.6875 15.234375 7.390625 \nQ 20.0625 6.109375 24.8125 6.109375 \nQ 31.15625 6.109375 34.5625 8.28125 \nQ 37.984375 10.453125 37.984375 14.40625 \nQ 37.984375 18.0625 35.515625 20.015625 \nQ 33.0625 21.96875 24.703125 23.78125 \nL 21.578125 24.515625 \nQ 13.234375 26.265625 9.515625 29.90625 \nQ 5.8125 33.546875 5.8125 39.890625 \nQ 5.8125 47.609375 11.28125 51.796875 \nQ 16.75 56 26.8125 56 \nQ 31.78125 56 36.171875 55.265625 \nQ 40.578125 54.546875 44.28125 53.078125 \nz\n\" id=\"DejaVuSans-115\"/>\n     </defs>\n     <g transform=\"translate(190.0875 252.916563)scale(0.1 -0.1)\">\n      <use xlink:href=\"#DejaVuSans-69\"/>\n      <use x=\"63.183594\" xlink:href=\"#DejaVuSans-112\"/>\n      <use x=\"126.660156\" xlink:href=\"#DejaVuSans-111\"/>\n      <use x=\"187.841797\" xlink:href=\"#DejaVuSans-99\"/>\n      <use x=\"242.822266\" xlink:href=\"#DejaVuSans-104\"/>\n      <use x=\"306.201172\" xlink:href=\"#DejaVuSans-115\"/>\n     </g>\n    </g>\n   </g>\n   <g id=\"matplotlib.axis_2\">\n    <g id=\"ytick_1\">\n     <g id=\"line2d_6\">\n      <defs>\n       <path d=\"M 0 0 \nL -3.5 0 \n\" id=\"md1a388e3cb\" style=\"stroke:#000000;stroke-width:0.8;\"/>\n      </defs>\n      <g>\n       <use style=\"stroke:#000000;stroke-width:0.8;\" x=\"40.603125\" xlink:href=\"#md1a388e3cb\" y=\"194.87452\"/>\n      </g>\n     </g>\n     <g id=\"text_7\">\n      <!-- 70 -->\n      <defs>\n       <path d=\"M 8.203125 72.90625 \nL 55.078125 72.90625 \nL 55.078125 68.703125 \nL 28.609375 0 \nL 18.3125 0 \nL 43.21875 64.59375 \nL 8.203125 64.59375 \nz\n\" id=\"DejaVuSans-55\"/>\n      </defs>\n      <g transform=\"translate(20.878125 198.673738)scale(0.1 -0.1)\">\n       <use xlink:href=\"#DejaVuSans-55\"/>\n       <use x=\"63.623047\" xlink:href=\"#DejaVuSans-48\"/>\n      </g>\n     </g>\n    </g>\n    <g id=\"ytick_2\">\n     <g id=\"line2d_7\">\n      <g>\n       <use style=\"stroke:#000000;stroke-width:0.8;\" x=\"40.603125\" xlink:href=\"#md1a388e3cb\" y=\"156.792938\"/>\n      </g>\n     </g>\n     <g id=\"text_8\">\n      <!-- 75 -->\n      <defs>\n       <path d=\"M 10.796875 72.90625 \nL 49.515625 72.90625 \nL 49.515625 64.59375 \nL 19.828125 64.59375 \nL 19.828125 46.734375 \nQ 21.96875 47.46875 24.109375 47.828125 \nQ 26.265625 48.1875 28.421875 48.1875 \nQ 40.625 48.1875 47.75 41.5 \nQ 54.890625 34.8125 54.890625 23.390625 \nQ 54.890625 11.625 47.5625 5.09375 \nQ 40.234375 -1.421875 26.90625 -1.421875 \nQ 22.3125 -1.421875 17.546875 -0.640625 \nQ 12.796875 0.140625 7.71875 1.703125 \nL 7.71875 11.625 \nQ 12.109375 9.234375 16.796875 8.0625 \nQ 21.484375 6.890625 26.703125 6.890625 \nQ 35.15625 6.890625 40.078125 11.328125 \nQ 45.015625 15.765625 45.015625 23.390625 \nQ 45.015625 31 40.078125 35.4375 \nQ 35.15625 39.890625 26.703125 39.890625 \nQ 22.75 39.890625 18.8125 39.015625 \nQ 14.890625 38.140625 10.796875 36.28125 \nz\n\" id=\"DejaVuSans-53\"/>\n      </defs>\n      <g transform=\"translate(20.878125 160.592157)scale(0.1 -0.1)\">\n       <use xlink:href=\"#DejaVuSans-55\"/>\n       <use x=\"63.623047\" xlink:href=\"#DejaVuSans-53\"/>\n      </g>\n     </g>\n    </g>\n    <g id=\"ytick_3\">\n     <g id=\"line2d_8\">\n      <g>\n       <use style=\"stroke:#000000;stroke-width:0.8;\" x=\"40.603125\" xlink:href=\"#md1a388e3cb\" y=\"118.711357\"/>\n      </g>\n     </g>\n     <g id=\"text_9\">\n      <!-- 80 -->\n      <g transform=\"translate(20.878125 122.510576)scale(0.1 -0.1)\">\n       <use xlink:href=\"#DejaVuSans-56\"/>\n       <use x=\"63.623047\" xlink:href=\"#DejaVuSans-48\"/>\n      </g>\n     </g>\n    </g>\n    <g id=\"ytick_4\">\n     <g id=\"line2d_9\">\n      <g>\n       <use style=\"stroke:#000000;stroke-width:0.8;\" x=\"40.603125\" xlink:href=\"#md1a388e3cb\" y=\"80.629776\"/>\n      </g>\n     </g>\n     <g id=\"text_10\">\n      <!-- 85 -->\n      <g transform=\"translate(20.878125 84.428995)scale(0.1 -0.1)\">\n       <use xlink:href=\"#DejaVuSans-56\"/>\n       <use x=\"63.623047\" xlink:href=\"#DejaVuSans-53\"/>\n      </g>\n     </g>\n    </g>\n    <g id=\"ytick_5\">\n     <g id=\"line2d_10\">\n      <g>\n       <use style=\"stroke:#000000;stroke-width:0.8;\" x=\"40.603125\" xlink:href=\"#md1a388e3cb\" y=\"42.548195\"/>\n      </g>\n     </g>\n     <g id=\"text_11\">\n      <!-- 90 -->\n      <defs>\n       <path d=\"M 10.984375 1.515625 \nL 10.984375 10.5 \nQ 14.703125 8.734375 18.5 7.8125 \nQ 22.3125 6.890625 25.984375 6.890625 \nQ 35.75 6.890625 40.890625 13.453125 \nQ 46.046875 20.015625 46.78125 33.40625 \nQ 43.953125 29.203125 39.59375 26.953125 \nQ 35.25 24.703125 29.984375 24.703125 \nQ 19.046875 24.703125 12.671875 31.3125 \nQ 6.296875 37.9375 6.296875 49.421875 \nQ 6.296875 60.640625 12.9375 67.421875 \nQ 19.578125 74.21875 30.609375 74.21875 \nQ 43.265625 74.21875 49.921875 64.515625 \nQ 56.59375 54.828125 56.59375 36.375 \nQ 56.59375 19.140625 48.40625 8.859375 \nQ 40.234375 -1.421875 26.421875 -1.421875 \nQ 22.703125 -1.421875 18.890625 -0.6875 \nQ 15.09375 0.046875 10.984375 1.515625 \nz\nM 30.609375 32.421875 \nQ 37.25 32.421875 41.125 36.953125 \nQ 45.015625 41.5 45.015625 49.421875 \nQ 45.015625 57.28125 41.125 61.84375 \nQ 37.25 66.40625 30.609375 66.40625 \nQ 23.96875 66.40625 20.09375 61.84375 \nQ 16.21875 57.28125 16.21875 49.421875 \nQ 16.21875 41.5 20.09375 36.953125 \nQ 23.96875 32.421875 30.609375 32.421875 \nz\n\" id=\"DejaVuSans-57\"/>\n      </defs>\n      <g transform=\"translate(20.878125 46.347414)scale(0.1 -0.1)\">\n       <use xlink:href=\"#DejaVuSans-57\"/>\n       <use x=\"63.623047\" xlink:href=\"#DejaVuSans-48\"/>\n      </g>\n     </g>\n    </g>\n    <g id=\"text_12\">\n     <!-- Accuracy -->\n     <defs>\n      <path d=\"M 34.1875 63.1875 \nL 20.796875 26.90625 \nL 47.609375 26.90625 \nz\nM 28.609375 72.90625 \nL 39.796875 72.90625 \nL 67.578125 0 \nL 57.328125 0 \nL 50.6875 18.703125 \nL 17.828125 18.703125 \nL 11.1875 0 \nL 0.78125 0 \nz\n\" id=\"DejaVuSans-65\"/>\n      <path d=\"M 8.5 21.578125 \nL 8.5 54.6875 \nL 17.484375 54.6875 \nL 17.484375 21.921875 \nQ 17.484375 14.15625 20.5 10.265625 \nQ 23.53125 6.390625 29.59375 6.390625 \nQ 36.859375 6.390625 41.078125 11.03125 \nQ 45.3125 15.671875 45.3125 23.6875 \nL 45.3125 54.6875 \nL 54.296875 54.6875 \nL 54.296875 0 \nL 45.3125 0 \nL 45.3125 8.40625 \nQ 42.046875 3.421875 37.71875 1 \nQ 33.40625 -1.421875 27.6875 -1.421875 \nQ 18.265625 -1.421875 13.375 4.4375 \nQ 8.5 10.296875 8.5 21.578125 \nz\nM 31.109375 56 \nz\n\" id=\"DejaVuSans-117\"/>\n      <path d=\"M 41.109375 46.296875 \nQ 39.59375 47.171875 37.8125 47.578125 \nQ 36.03125 48 33.890625 48 \nQ 26.265625 48 22.1875 43.046875 \nQ 18.109375 38.09375 18.109375 28.8125 \nL 18.109375 0 \nL 9.078125 0 \nL 9.078125 54.6875 \nL 18.109375 54.6875 \nL 18.109375 46.1875 \nQ 20.953125 51.171875 25.484375 53.578125 \nQ 30.03125 56 36.53125 56 \nQ 37.453125 56 38.578125 55.875 \nQ 39.703125 55.765625 41.0625 55.515625 \nz\n\" id=\"DejaVuSans-114\"/>\n      <path d=\"M 34.28125 27.484375 \nQ 23.390625 27.484375 19.1875 25 \nQ 14.984375 22.515625 14.984375 16.5 \nQ 14.984375 11.71875 18.140625 8.90625 \nQ 21.296875 6.109375 26.703125 6.109375 \nQ 34.1875 6.109375 38.703125 11.40625 \nQ 43.21875 16.703125 43.21875 25.484375 \nL 43.21875 27.484375 \nz\nM 52.203125 31.203125 \nL 52.203125 0 \nL 43.21875 0 \nL 43.21875 8.296875 \nQ 40.140625 3.328125 35.546875 0.953125 \nQ 30.953125 -1.421875 24.3125 -1.421875 \nQ 15.921875 -1.421875 10.953125 3.296875 \nQ 6 8.015625 6 15.921875 \nQ 6 25.140625 12.171875 29.828125 \nQ 18.359375 34.515625 30.609375 34.515625 \nL 43.21875 34.515625 \nL 43.21875 35.40625 \nQ 43.21875 41.609375 39.140625 45 \nQ 35.0625 48.390625 27.6875 48.390625 \nQ 23 48.390625 18.546875 47.265625 \nQ 14.109375 46.140625 10.015625 43.890625 \nL 10.015625 52.203125 \nQ 14.9375 54.109375 19.578125 55.046875 \nQ 24.21875 56 28.609375 56 \nQ 40.484375 56 46.34375 49.84375 \nQ 52.203125 43.703125 52.203125 31.203125 \nz\n\" id=\"DejaVuSans-97\"/>\n      <path d=\"M 32.171875 -5.078125 \nQ 28.375 -14.84375 24.75 -17.8125 \nQ 21.140625 -20.796875 15.09375 -20.796875 \nL 7.90625 -20.796875 \nL 7.90625 -13.28125 \nL 13.1875 -13.28125 \nQ 16.890625 -13.28125 18.9375 -11.515625 \nQ 21 -9.765625 23.484375 -3.21875 \nL 25.09375 0.875 \nL 2.984375 54.6875 \nL 12.5 54.6875 \nL 29.59375 11.921875 \nL 46.6875 54.6875 \nL 56.203125 54.6875 \nz\n\" id=\"DejaVuSans-121\"/>\n     </defs>\n     <g transform=\"translate(14.798438 138.834844)rotate(-90)scale(0.1 -0.1)\">\n      <use xlink:href=\"#DejaVuSans-65\"/>\n      <use x=\"68.392578\" xlink:href=\"#DejaVuSans-99\"/>\n      <use x=\"123.373047\" xlink:href=\"#DejaVuSans-99\"/>\n      <use x=\"178.353516\" xlink:href=\"#DejaVuSans-117\"/>\n      <use x=\"241.732422\" xlink:href=\"#DejaVuSans-114\"/>\n      <use x=\"282.845703\" xlink:href=\"#DejaVuSans-97\"/>\n      <use x=\"344.125\" xlink:href=\"#DejaVuSans-99\"/>\n      <use x=\"399.105469\" xlink:href=\"#DejaVuSans-121\"/>\n     </g>\n    </g>\n   </g>\n   <g id=\"line2d_11\">\n    <path clip-path=\"url(#p24cd2062ec)\" d=\"M 55.821307 214.756364 \nL 59.279985 176.460132 \nL 62.738662 157.499065 \nL 66.19734 144.873385 \nL 69.656018 135.217482 \nL 73.114695 127.708956 \nL 76.573373 121.30262 \nL 80.032051 116.05176 \nL 83.490728 111.234151 \nL 86.949406 106.772047 \nL 90.408084 102.845291 \nL 93.866761 99.219592 \nL 97.325439 95.968107 \nL 100.784117 93.133837 \nL 104.242794 90.41096 \nL 107.701472 87.75787 \nL 111.16015 85.319024 \nL 114.618827 82.995348 \nL 118.077505 80.96227 \nL 121.536183 78.88317 \nL 124.994861 76.957881 \nL 128.453538 75.078382 \nL 131.912216 73.421319 \nL 135.370894 71.747405 \nL 138.829571 70.174367 \nL 142.288249 68.717486 \nL 145.746927 67.30593 \nL 149.205604 65.915001 \nL 152.664282 64.611235 \nL 156.12296 63.258948 \nL 159.581637 62.0062 \nL 163.040315 60.39144 \nL 166.498993 58.726533 \nL 169.95767 57.116131 \nL 173.416348 55.565929 \nL 176.875026 54.078891 \nL 180.333704 52.643742 \nL 183.792381 51.266121 \nL 187.251059 49.935334 \nL 190.709737 48.647373 \nL 194.168414 47.424027 \nL 197.627092 46.249202 \nL 201.08577 45.095761 \nL 204.544447 43.985145 \nL 208.003125 42.952742 \nL 211.461803 41.924349 \nL 214.92048 40.932738 \nL 218.379158 39.97419 \nL 221.837836 39.074971 \nL 225.296513 38.19237 \nL 228.755191 37.334756 \nL 232.213869 36.506661 \nL 235.672546 35.71988 \nL 239.131224 34.944198 \nL 242.589902 34.193734 \nL 246.04858 33.472499 \nL 249.507257 32.788105 \nL 252.965935 32.112949 \nL 256.424613 31.460398 \nL 259.88329 30.81726 \nL 263.341968 30.190101 \nL 266.800646 29.567185 \nL 270.259323 28.957343 \nL 273.718001 28.362957 \nL 277.176679 27.781239 \nL 280.635356 27.21399 \nL 284.094034 26.663767 \nL 287.552712 26.123828 \nL 291.011389 25.59249 \nL 294.470067 25.08114 \nL 297.928745 24.58949 \nL 301.387423 24.109344 \nL 304.8461 23.639251 \nL 308.304778 23.181071 \nL 311.763456 22.738753 \nL 315.222133 22.294867 \nL 318.680811 21.881546 \nL 322.139489 21.467702 \nL 325.598166 21.065944 \nL 329.056844 20.669067 \nL 332.515522 20.285497 \nL 335.974199 19.904832 \nL 339.432877 19.527944 \nL 342.891555 19.171394 \nL 346.350232 18.815193 \nL 349.80891 18.473461 \nL 353.267588 18.1369 \nL 356.726265 17.807486 \nL 360.184943 17.48644 \n\" style=\"fill:none;stroke:#ff0000;stroke-linecap:square;stroke-width:1.5;\"/>\n   </g>\n   <g id=\"line2d_12\">\n    <path clip-path=\"url(#p24cd2062ec)\" d=\"M 55.821307 182.31944 \nL 59.279985 160.155002 \nL 62.738662 146.718485 \nL 66.19734 136.476854 \nL 69.656018 128.618519 \nL 73.114695 121.744647 \nL 76.573373 116.251186 \nL 80.032051 111.482446 \nL 83.490728 107.245975 \nL 86.949406 103.208058 \nL 90.408084 99.529655 \nL 93.866761 96.24534 \nL 97.325439 93.277189 \nL 100.784117 90.485745 \nL 104.242794 87.847298 \nL 107.701472 85.364 \nL 111.16015 83.064438 \nL 114.618827 80.873597 \nL 118.077505 78.9504 \nL 121.536183 76.988794 \nL 124.994861 75.076697 \nL 128.453538 73.360945 \nL 131.912216 71.721489 \nL 135.370894 70.064311 \nL 138.829571 68.600864 \nL 142.288249 67.220802 \nL 145.746927 65.83057 \nL 149.205604 64.49223 \nL 152.664282 63.189974 \nL 156.12296 61.940132 \nL 159.581637 60.367674 \nL 163.040315 58.701547 \nL 166.498993 57.085102 \nL 169.95767 55.528043 \nL 173.416348 54.034438 \nL 176.875026 52.596094 \nL 180.333704 51.207257 \nL 183.792381 49.879492 \nL 187.251059 48.585546 \nL 190.709737 47.360574 \nL 194.168414 46.170234 \nL 197.627092 45.027484 \nL 201.08577 43.913905 \nL 204.544447 42.876679 \nL 208.003125 41.849215 \nL 211.461803 40.855629 \nL 214.92048 39.8965 \nL 218.379158 38.9838 \nL 221.837836 38.105499 \nL 225.296513 37.252998 \nL 228.755191 36.416303 \nL 232.213869 35.631846 \nL 235.672546 34.847099 \nL 239.131224 34.100936 \nL 242.589902 33.381502 \nL 246.04858 32.6863 \nL 249.507257 32.019221 \nL 252.965935 31.369691 \nL 256.424613 30.72789 \nL 259.88329 30.096257 \nL 263.341968 29.476537 \nL 266.800646 28.863557 \nL 270.259323 28.271786 \nL 273.718001 27.691056 \nL 277.176679 27.12218 \nL 280.635356 26.574571 \nL 284.094034 26.034284 \nL 287.552712 25.501725 \nL 291.011389 24.991654 \nL 294.470067 24.498086 \nL 297.928745 24.020671 \nL 301.387423 23.548952 \nL 304.8461 23.090771 \nL 308.304778 22.647466 \nL 311.763456 22.203696 \nL 315.222133 21.790142 \nL 318.680811 21.378855 \nL 322.139489 20.973378 \nL 325.598166 20.580743 \nL 329.056844 20.196359 \nL 332.515522 19.816973 \nL 335.974199 19.440608 \nL 339.432877 19.082838 \nL 342.891555 18.726637 \nL 346.350232 18.386299 \nL 349.80891 18.050145 \nL 353.267588 17.719627 \nL 356.726265 17.40137 \nL 360.184943 17.083636 \n\" style=\"fill:none;stroke:#0000ff;stroke-linecap:square;stroke-width:1.5;\"/>\n   </g>\n   <g id=\"patch_3\">\n    <path d=\"M 40.603125 224.64 \nL 40.603125 7.2 \n\" style=\"fill:none;stroke:#000000;stroke-linecap:square;stroke-linejoin:miter;stroke-width:0.8;\"/>\n   </g>\n   <g id=\"patch_4\">\n    <path d=\"M 375.403125 224.64 \nL 375.403125 7.2 \n\" style=\"fill:none;stroke:#000000;stroke-linecap:square;stroke-linejoin:miter;stroke-width:0.8;\"/>\n   </g>\n   <g id=\"patch_5\">\n    <path d=\"M 40.603125 224.64 \nL 375.403125 224.64 \n\" style=\"fill:none;stroke:#000000;stroke-linecap:square;stroke-linejoin:miter;stroke-width:0.8;\"/>\n   </g>\n   <g id=\"patch_6\">\n    <path d=\"M 40.603125 7.2 \nL 375.403125 7.2 \n\" style=\"fill:none;stroke:#000000;stroke-linecap:square;stroke-linejoin:miter;stroke-width:0.8;\"/>\n   </g>\n   <g id=\"legend_1\">\n    <g id=\"patch_7\">\n     <path d=\"M 47.603125 44.55625 \nL 105.04375 44.55625 \nQ 107.04375 44.55625 107.04375 42.55625 \nL 107.04375 14.2 \nQ 107.04375 12.2 105.04375 12.2 \nL 47.603125 12.2 \nQ 45.603125 12.2 45.603125 14.2 \nL 45.603125 42.55625 \nQ 45.603125 44.55625 47.603125 44.55625 \nz\n\" style=\"fill:#ffffff;opacity:0.8;stroke:#cccccc;stroke-linejoin:miter;\"/>\n    </g>\n    <g id=\"line2d_13\">\n     <path d=\"M 49.603125 20.298438 \nL 69.603125 20.298438 \n\" style=\"fill:none;stroke:#ff0000;stroke-linecap:square;stroke-width:1.5;\"/>\n    </g>\n    <g id=\"line2d_14\"/>\n    <g id=\"text_13\">\n     <!-- Train -->\n     <defs>\n      <path d=\"M -0.296875 72.90625 \nL 61.375 72.90625 \nL 61.375 64.59375 \nL 35.5 64.59375 \nL 35.5 0 \nL 25.59375 0 \nL 25.59375 64.59375 \nL -0.296875 64.59375 \nz\n\" id=\"DejaVuSans-84\"/>\n      <path d=\"M 9.421875 54.6875 \nL 18.40625 54.6875 \nL 18.40625 0 \nL 9.421875 0 \nz\nM 9.421875 75.984375 \nL 18.40625 75.984375 \nL 18.40625 64.59375 \nL 9.421875 64.59375 \nz\n\" id=\"DejaVuSans-105\"/>\n      <path d=\"M 54.890625 33.015625 \nL 54.890625 0 \nL 45.90625 0 \nL 45.90625 32.71875 \nQ 45.90625 40.484375 42.875 44.328125 \nQ 39.84375 48.1875 33.796875 48.1875 \nQ 26.515625 48.1875 22.3125 43.546875 \nQ 18.109375 38.921875 18.109375 30.90625 \nL 18.109375 0 \nL 9.078125 0 \nL 9.078125 54.6875 \nL 18.109375 54.6875 \nL 18.109375 46.1875 \nQ 21.34375 51.125 25.703125 53.5625 \nQ 30.078125 56 35.796875 56 \nQ 45.21875 56 50.046875 50.171875 \nQ 54.890625 44.34375 54.890625 33.015625 \nz\n\" id=\"DejaVuSans-110\"/>\n     </defs>\n     <g transform=\"translate(77.603125 23.798438)scale(0.1 -0.1)\">\n      <use xlink:href=\"#DejaVuSans-84\"/>\n      <use x=\"60.865234\" xlink:href=\"#DejaVuSans-114\"/>\n      <use x=\"101.978516\" xlink:href=\"#DejaVuSans-97\"/>\n      <use x=\"163.257812\" xlink:href=\"#DejaVuSans-105\"/>\n      <use x=\"191.041016\" xlink:href=\"#DejaVuSans-110\"/>\n     </g>\n    </g>\n    <g id=\"line2d_15\">\n     <path d=\"M 49.603125 34.976562 \nL 69.603125 34.976562 \n\" style=\"fill:none;stroke:#0000ff;stroke-linecap:square;stroke-width:1.5;\"/>\n    </g>\n    <g id=\"line2d_16\"/>\n    <g id=\"text_14\">\n     <!-- Val -->\n     <defs>\n      <path d=\"M 28.609375 0 \nL 0.78125 72.90625 \nL 11.078125 72.90625 \nL 34.1875 11.53125 \nL 57.328125 72.90625 \nL 67.578125 72.90625 \nL 39.796875 0 \nz\n\" id=\"DejaVuSans-86\"/>\n      <path d=\"M 9.421875 75.984375 \nL 18.40625 75.984375 \nL 18.40625 0 \nL 9.421875 0 \nz\n\" id=\"DejaVuSans-108\"/>\n     </defs>\n     <g transform=\"translate(77.603125 38.476562)scale(0.1 -0.1)\">\n      <use xlink:href=\"#DejaVuSans-86\"/>\n      <use x=\"68.298828\" xlink:href=\"#DejaVuSans-97\"/>\n      <use x=\"129.578125\" xlink:href=\"#DejaVuSans-108\"/>\n     </g>\n    </g>\n   </g>\n  </g>\n </g>\n <defs>\n  <clipPath id=\"p24cd2062ec\">\n   <rect height=\"217.44\" width=\"334.8\" x=\"40.603125\" y=\"7.2\"/>\n  </clipPath>\n </defs>\n</svg>\n"
          },
          "metadata": {
            "tags": []
          }
        }
      ]
    },
    {
      "cell_type": "code",
      "metadata": {
        "id": "RDDR6rDi61eB",
        "colab_type": "code",
        "outputId": "d07d997b-5374-49b8-98cf-cbd28b4c749d",
        "colab": {
          "base_uri": "https://localhost:8080/",
          "height": 371
        }
      },
      "source": [
        "plt.xlabel(\"Epochs\")\n",
        "plt.ylabel(\"Losses\")\n",
        "plt.plot(ep_lookahead_losses, 'r', label='Train')\n",
        "plt.plot(ep_lookahead_lossesv, 'b', label='Val')\n",
        "plt.legend()\n",
        "plt.savefig('lookahead_sgd_resnet18_9334_loss.jpg')"
      ],
      "execution_count": 0,
      "outputs": [
        {
          "output_type": "display_data",
          "data": {
            "text/plain": [
              "<Figure size 432x288 with 1 Axes>"
            ],
            "image/svg+xml": "<?xml version=\"1.0\" encoding=\"utf-8\" standalone=\"no\"?>\n<!DOCTYPE svg PUBLIC \"-//W3C//DTD SVG 1.1//EN\"\n  \"http://www.w3.org/Graphics/SVG/1.1/DTD/svg11.dtd\">\n<!-- Created with matplotlib (https://matplotlib.org/) -->\n<svg height=\"262.19625pt\" version=\"1.1\" viewBox=\"0 0 385.78125 262.19625\" width=\"385.78125pt\" xmlns=\"http://www.w3.org/2000/svg\" xmlns:xlink=\"http://www.w3.org/1999/xlink\">\n <defs>\n  <style type=\"text/css\">\n*{stroke-linecap:butt;stroke-linejoin:round;}\n  </style>\n </defs>\n <g id=\"figure_1\">\n  <g id=\"patch_1\">\n   <path d=\"M 0 262.19625 \nL 385.78125 262.19625 \nL 385.78125 0 \nL 0 0 \nz\n\" style=\"fill:none;\"/>\n  </g>\n  <g id=\"axes_1\">\n   <g id=\"patch_2\">\n    <path d=\"M 43.78125 224.64 \nL 378.58125 224.64 \nL 378.58125 7.2 \nL 43.78125 7.2 \nz\n\" style=\"fill:#ffffff;\"/>\n   </g>\n   <g id=\"matplotlib.axis_1\">\n    <g id=\"xtick_1\">\n     <g id=\"line2d_1\">\n      <defs>\n       <path d=\"M 0 0 \nL 0 3.5 \n\" id=\"ma6075eee95\" style=\"stroke:#000000;stroke-width:0.8;\"/>\n      </defs>\n      <g>\n       <use style=\"stroke:#000000;stroke-width:0.8;\" x=\"58.999432\" xlink:href=\"#ma6075eee95\" y=\"224.64\"/>\n      </g>\n     </g>\n     <g id=\"text_1\">\n      <!-- 0 -->\n      <defs>\n       <path d=\"M 31.78125 66.40625 \nQ 24.171875 66.40625 20.328125 58.90625 \nQ 16.5 51.421875 16.5 36.375 \nQ 16.5 21.390625 20.328125 13.890625 \nQ 24.171875 6.390625 31.78125 6.390625 \nQ 39.453125 6.390625 43.28125 13.890625 \nQ 47.125 21.390625 47.125 36.375 \nQ 47.125 51.421875 43.28125 58.90625 \nQ 39.453125 66.40625 31.78125 66.40625 \nz\nM 31.78125 74.21875 \nQ 44.046875 74.21875 50.515625 64.515625 \nQ 56.984375 54.828125 56.984375 36.375 \nQ 56.984375 17.96875 50.515625 8.265625 \nQ 44.046875 -1.421875 31.78125 -1.421875 \nQ 19.53125 -1.421875 13.0625 8.265625 \nQ 6.59375 17.96875 6.59375 36.375 \nQ 6.59375 54.828125 13.0625 64.515625 \nQ 19.53125 74.21875 31.78125 74.21875 \nz\n\" id=\"DejaVuSans-48\"/>\n      </defs>\n      <g transform=\"translate(55.818182 239.238437)scale(0.1 -0.1)\">\n       <use xlink:href=\"#DejaVuSans-48\"/>\n      </g>\n     </g>\n    </g>\n    <g id=\"xtick_2\">\n     <g id=\"line2d_2\">\n      <g>\n       <use style=\"stroke:#000000;stroke-width:0.8;\" x=\"128.172986\" xlink:href=\"#ma6075eee95\" y=\"224.64\"/>\n      </g>\n     </g>\n     <g id=\"text_2\">\n      <!-- 20 -->\n      <defs>\n       <path d=\"M 19.1875 8.296875 \nL 53.609375 8.296875 \nL 53.609375 0 \nL 7.328125 0 \nL 7.328125 8.296875 \nQ 12.9375 14.109375 22.625 23.890625 \nQ 32.328125 33.6875 34.8125 36.53125 \nQ 39.546875 41.84375 41.421875 45.53125 \nQ 43.3125 49.21875 43.3125 52.78125 \nQ 43.3125 58.59375 39.234375 62.25 \nQ 35.15625 65.921875 28.609375 65.921875 \nQ 23.96875 65.921875 18.8125 64.3125 \nQ 13.671875 62.703125 7.8125 59.421875 \nL 7.8125 69.390625 \nQ 13.765625 71.78125 18.9375 73 \nQ 24.125 74.21875 28.421875 74.21875 \nQ 39.75 74.21875 46.484375 68.546875 \nQ 53.21875 62.890625 53.21875 53.421875 \nQ 53.21875 48.921875 51.53125 44.890625 \nQ 49.859375 40.875 45.40625 35.40625 \nQ 44.1875 33.984375 37.640625 27.21875 \nQ 31.109375 20.453125 19.1875 8.296875 \nz\n\" id=\"DejaVuSans-50\"/>\n      </defs>\n      <g transform=\"translate(121.810486 239.238437)scale(0.1 -0.1)\">\n       <use xlink:href=\"#DejaVuSans-50\"/>\n       <use x=\"63.623047\" xlink:href=\"#DejaVuSans-48\"/>\n      </g>\n     </g>\n    </g>\n    <g id=\"xtick_3\">\n     <g id=\"line2d_3\">\n      <g>\n       <use style=\"stroke:#000000;stroke-width:0.8;\" x=\"197.346539\" xlink:href=\"#ma6075eee95\" y=\"224.64\"/>\n      </g>\n     </g>\n     <g id=\"text_3\">\n      <!-- 40 -->\n      <defs>\n       <path d=\"M 37.796875 64.3125 \nL 12.890625 25.390625 \nL 37.796875 25.390625 \nz\nM 35.203125 72.90625 \nL 47.609375 72.90625 \nL 47.609375 25.390625 \nL 58.015625 25.390625 \nL 58.015625 17.1875 \nL 47.609375 17.1875 \nL 47.609375 0 \nL 37.796875 0 \nL 37.796875 17.1875 \nL 4.890625 17.1875 \nL 4.890625 26.703125 \nz\n\" id=\"DejaVuSans-52\"/>\n      </defs>\n      <g transform=\"translate(190.984039 239.238437)scale(0.1 -0.1)\">\n       <use xlink:href=\"#DejaVuSans-52\"/>\n       <use x=\"63.623047\" xlink:href=\"#DejaVuSans-48\"/>\n      </g>\n     </g>\n    </g>\n    <g id=\"xtick_4\">\n     <g id=\"line2d_4\">\n      <g>\n       <use style=\"stroke:#000000;stroke-width:0.8;\" x=\"266.520093\" xlink:href=\"#ma6075eee95\" y=\"224.64\"/>\n      </g>\n     </g>\n     <g id=\"text_4\">\n      <!-- 60 -->\n      <defs>\n       <path d=\"M 33.015625 40.375 \nQ 26.375 40.375 22.484375 35.828125 \nQ 18.609375 31.296875 18.609375 23.390625 \nQ 18.609375 15.53125 22.484375 10.953125 \nQ 26.375 6.390625 33.015625 6.390625 \nQ 39.65625 6.390625 43.53125 10.953125 \nQ 47.40625 15.53125 47.40625 23.390625 \nQ 47.40625 31.296875 43.53125 35.828125 \nQ 39.65625 40.375 33.015625 40.375 \nz\nM 52.59375 71.296875 \nL 52.59375 62.3125 \nQ 48.875 64.0625 45.09375 64.984375 \nQ 41.3125 65.921875 37.59375 65.921875 \nQ 27.828125 65.921875 22.671875 59.328125 \nQ 17.53125 52.734375 16.796875 39.40625 \nQ 19.671875 43.65625 24.015625 45.921875 \nQ 28.375 48.1875 33.59375 48.1875 \nQ 44.578125 48.1875 50.953125 41.515625 \nQ 57.328125 34.859375 57.328125 23.390625 \nQ 57.328125 12.15625 50.6875 5.359375 \nQ 44.046875 -1.421875 33.015625 -1.421875 \nQ 20.359375 -1.421875 13.671875 8.265625 \nQ 6.984375 17.96875 6.984375 36.375 \nQ 6.984375 53.65625 15.1875 63.9375 \nQ 23.390625 74.21875 37.203125 74.21875 \nQ 40.921875 74.21875 44.703125 73.484375 \nQ 48.484375 72.75 52.59375 71.296875 \nz\n\" id=\"DejaVuSans-54\"/>\n      </defs>\n      <g transform=\"translate(260.157593 239.238437)scale(0.1 -0.1)\">\n       <use xlink:href=\"#DejaVuSans-54\"/>\n       <use x=\"63.623047\" xlink:href=\"#DejaVuSans-48\"/>\n      </g>\n     </g>\n    </g>\n    <g id=\"xtick_5\">\n     <g id=\"line2d_5\">\n      <g>\n       <use style=\"stroke:#000000;stroke-width:0.8;\" x=\"335.693647\" xlink:href=\"#ma6075eee95\" y=\"224.64\"/>\n      </g>\n     </g>\n     <g id=\"text_5\">\n      <!-- 80 -->\n      <defs>\n       <path d=\"M 31.78125 34.625 \nQ 24.75 34.625 20.71875 30.859375 \nQ 16.703125 27.09375 16.703125 20.515625 \nQ 16.703125 13.921875 20.71875 10.15625 \nQ 24.75 6.390625 31.78125 6.390625 \nQ 38.8125 6.390625 42.859375 10.171875 \nQ 46.921875 13.96875 46.921875 20.515625 \nQ 46.921875 27.09375 42.890625 30.859375 \nQ 38.875 34.625 31.78125 34.625 \nz\nM 21.921875 38.8125 \nQ 15.578125 40.375 12.03125 44.71875 \nQ 8.5 49.078125 8.5 55.328125 \nQ 8.5 64.0625 14.71875 69.140625 \nQ 20.953125 74.21875 31.78125 74.21875 \nQ 42.671875 74.21875 48.875 69.140625 \nQ 55.078125 64.0625 55.078125 55.328125 \nQ 55.078125 49.078125 51.53125 44.71875 \nQ 48 40.375 41.703125 38.8125 \nQ 48.828125 37.15625 52.796875 32.3125 \nQ 56.78125 27.484375 56.78125 20.515625 \nQ 56.78125 9.90625 50.3125 4.234375 \nQ 43.84375 -1.421875 31.78125 -1.421875 \nQ 19.734375 -1.421875 13.25 4.234375 \nQ 6.78125 9.90625 6.78125 20.515625 \nQ 6.78125 27.484375 10.78125 32.3125 \nQ 14.796875 37.15625 21.921875 38.8125 \nz\nM 18.3125 54.390625 \nQ 18.3125 48.734375 21.84375 45.5625 \nQ 25.390625 42.390625 31.78125 42.390625 \nQ 38.140625 42.390625 41.71875 45.5625 \nQ 45.3125 48.734375 45.3125 54.390625 \nQ 45.3125 60.0625 41.71875 63.234375 \nQ 38.140625 66.40625 31.78125 66.40625 \nQ 25.390625 66.40625 21.84375 63.234375 \nQ 18.3125 60.0625 18.3125 54.390625 \nz\n\" id=\"DejaVuSans-56\"/>\n      </defs>\n      <g transform=\"translate(329.331147 239.238437)scale(0.1 -0.1)\">\n       <use xlink:href=\"#DejaVuSans-56\"/>\n       <use x=\"63.623047\" xlink:href=\"#DejaVuSans-48\"/>\n      </g>\n     </g>\n    </g>\n    <g id=\"text_6\">\n     <!-- Epochs -->\n     <defs>\n      <path d=\"M 9.8125 72.90625 \nL 55.90625 72.90625 \nL 55.90625 64.59375 \nL 19.671875 64.59375 \nL 19.671875 43.015625 \nL 54.390625 43.015625 \nL 54.390625 34.71875 \nL 19.671875 34.71875 \nL 19.671875 8.296875 \nL 56.78125 8.296875 \nL 56.78125 0 \nL 9.8125 0 \nz\n\" id=\"DejaVuSans-69\"/>\n      <path d=\"M 18.109375 8.203125 \nL 18.109375 -20.796875 \nL 9.078125 -20.796875 \nL 9.078125 54.6875 \nL 18.109375 54.6875 \nL 18.109375 46.390625 \nQ 20.953125 51.265625 25.265625 53.625 \nQ 29.59375 56 35.59375 56 \nQ 45.5625 56 51.78125 48.09375 \nQ 58.015625 40.1875 58.015625 27.296875 \nQ 58.015625 14.40625 51.78125 6.484375 \nQ 45.5625 -1.421875 35.59375 -1.421875 \nQ 29.59375 -1.421875 25.265625 0.953125 \nQ 20.953125 3.328125 18.109375 8.203125 \nz\nM 48.6875 27.296875 \nQ 48.6875 37.203125 44.609375 42.84375 \nQ 40.53125 48.484375 33.40625 48.484375 \nQ 26.265625 48.484375 22.1875 42.84375 \nQ 18.109375 37.203125 18.109375 27.296875 \nQ 18.109375 17.390625 22.1875 11.75 \nQ 26.265625 6.109375 33.40625 6.109375 \nQ 40.53125 6.109375 44.609375 11.75 \nQ 48.6875 17.390625 48.6875 27.296875 \nz\n\" id=\"DejaVuSans-112\"/>\n      <path d=\"M 30.609375 48.390625 \nQ 23.390625 48.390625 19.1875 42.75 \nQ 14.984375 37.109375 14.984375 27.296875 \nQ 14.984375 17.484375 19.15625 11.84375 \nQ 23.34375 6.203125 30.609375 6.203125 \nQ 37.796875 6.203125 41.984375 11.859375 \nQ 46.1875 17.53125 46.1875 27.296875 \nQ 46.1875 37.015625 41.984375 42.703125 \nQ 37.796875 48.390625 30.609375 48.390625 \nz\nM 30.609375 56 \nQ 42.328125 56 49.015625 48.375 \nQ 55.71875 40.765625 55.71875 27.296875 \nQ 55.71875 13.875 49.015625 6.21875 \nQ 42.328125 -1.421875 30.609375 -1.421875 \nQ 18.84375 -1.421875 12.171875 6.21875 \nQ 5.515625 13.875 5.515625 27.296875 \nQ 5.515625 40.765625 12.171875 48.375 \nQ 18.84375 56 30.609375 56 \nz\n\" id=\"DejaVuSans-111\"/>\n      <path d=\"M 48.78125 52.59375 \nL 48.78125 44.1875 \nQ 44.96875 46.296875 41.140625 47.34375 \nQ 37.3125 48.390625 33.40625 48.390625 \nQ 24.65625 48.390625 19.8125 42.84375 \nQ 14.984375 37.3125 14.984375 27.296875 \nQ 14.984375 17.28125 19.8125 11.734375 \nQ 24.65625 6.203125 33.40625 6.203125 \nQ 37.3125 6.203125 41.140625 7.25 \nQ 44.96875 8.296875 48.78125 10.40625 \nL 48.78125 2.09375 \nQ 45.015625 0.34375 40.984375 -0.53125 \nQ 36.96875 -1.421875 32.421875 -1.421875 \nQ 20.0625 -1.421875 12.78125 6.34375 \nQ 5.515625 14.109375 5.515625 27.296875 \nQ 5.515625 40.671875 12.859375 48.328125 \nQ 20.21875 56 33.015625 56 \nQ 37.15625 56 41.109375 55.140625 \nQ 45.0625 54.296875 48.78125 52.59375 \nz\n\" id=\"DejaVuSans-99\"/>\n      <path d=\"M 54.890625 33.015625 \nL 54.890625 0 \nL 45.90625 0 \nL 45.90625 32.71875 \nQ 45.90625 40.484375 42.875 44.328125 \nQ 39.84375 48.1875 33.796875 48.1875 \nQ 26.515625 48.1875 22.3125 43.546875 \nQ 18.109375 38.921875 18.109375 30.90625 \nL 18.109375 0 \nL 9.078125 0 \nL 9.078125 75.984375 \nL 18.109375 75.984375 \nL 18.109375 46.1875 \nQ 21.34375 51.125 25.703125 53.5625 \nQ 30.078125 56 35.796875 56 \nQ 45.21875 56 50.046875 50.171875 \nQ 54.890625 44.34375 54.890625 33.015625 \nz\n\" id=\"DejaVuSans-104\"/>\n      <path d=\"M 44.28125 53.078125 \nL 44.28125 44.578125 \nQ 40.484375 46.53125 36.375 47.5 \nQ 32.28125 48.484375 27.875 48.484375 \nQ 21.1875 48.484375 17.84375 46.4375 \nQ 14.5 44.390625 14.5 40.28125 \nQ 14.5 37.15625 16.890625 35.375 \nQ 19.28125 33.59375 26.515625 31.984375 \nL 29.59375 31.296875 \nQ 39.15625 29.25 43.1875 25.515625 \nQ 47.21875 21.78125 47.21875 15.09375 \nQ 47.21875 7.46875 41.1875 3.015625 \nQ 35.15625 -1.421875 24.609375 -1.421875 \nQ 20.21875 -1.421875 15.453125 -0.5625 \nQ 10.6875 0.296875 5.421875 2 \nL 5.421875 11.28125 \nQ 10.40625 8.6875 15.234375 7.390625 \nQ 20.0625 6.109375 24.8125 6.109375 \nQ 31.15625 6.109375 34.5625 8.28125 \nQ 37.984375 10.453125 37.984375 14.40625 \nQ 37.984375 18.0625 35.515625 20.015625 \nQ 33.0625 21.96875 24.703125 23.78125 \nL 21.578125 24.515625 \nQ 13.234375 26.265625 9.515625 29.90625 \nQ 5.8125 33.546875 5.8125 39.890625 \nQ 5.8125 47.609375 11.28125 51.796875 \nQ 16.75 56 26.8125 56 \nQ 31.78125 56 36.171875 55.265625 \nQ 40.578125 54.546875 44.28125 53.078125 \nz\n\" id=\"DejaVuSans-115\"/>\n     </defs>\n     <g transform=\"translate(193.265625 252.916562)scale(0.1 -0.1)\">\n      <use xlink:href=\"#DejaVuSans-69\"/>\n      <use x=\"63.183594\" xlink:href=\"#DejaVuSans-112\"/>\n      <use x=\"126.660156\" xlink:href=\"#DejaVuSans-111\"/>\n      <use x=\"187.841797\" xlink:href=\"#DejaVuSans-99\"/>\n      <use x=\"242.822266\" xlink:href=\"#DejaVuSans-104\"/>\n      <use x=\"306.201172\" xlink:href=\"#DejaVuSans-115\"/>\n     </g>\n    </g>\n   </g>\n   <g id=\"matplotlib.axis_2\">\n    <g id=\"ytick_1\">\n     <g id=\"line2d_6\">\n      <defs>\n       <path d=\"M 0 0 \nL -3.5 0 \n\" id=\"m091502b5c1\" style=\"stroke:#000000;stroke-width:0.8;\"/>\n      </defs>\n      <g>\n       <use style=\"stroke:#000000;stroke-width:0.8;\" x=\"43.78125\" xlink:href=\"#m091502b5c1\" y=\"218.142551\"/>\n      </g>\n     </g>\n     <g id=\"text_7\">\n      <!-- 0.0 -->\n      <defs>\n       <path d=\"M 10.6875 12.40625 \nL 21 12.40625 \nL 21 0 \nL 10.6875 0 \nz\n\" id=\"DejaVuSans-46\"/>\n      </defs>\n      <g transform=\"translate(20.878125 221.94177)scale(0.1 -0.1)\">\n       <use xlink:href=\"#DejaVuSans-48\"/>\n       <use x=\"63.623047\" xlink:href=\"#DejaVuSans-46\"/>\n       <use x=\"95.410156\" xlink:href=\"#DejaVuSans-48\"/>\n      </g>\n     </g>\n    </g>\n    <g id=\"ytick_2\">\n     <g id=\"line2d_7\">\n      <g>\n       <use style=\"stroke:#000000;stroke-width:0.8;\" x=\"43.78125\" xlink:href=\"#m091502b5c1\" y=\"186.828412\"/>\n      </g>\n     </g>\n     <g id=\"text_8\">\n      <!-- 0.1 -->\n      <defs>\n       <path d=\"M 12.40625 8.296875 \nL 28.515625 8.296875 \nL 28.515625 63.921875 \nL 10.984375 60.40625 \nL 10.984375 69.390625 \nL 28.421875 72.90625 \nL 38.28125 72.90625 \nL 38.28125 8.296875 \nL 54.390625 8.296875 \nL 54.390625 0 \nL 12.40625 0 \nz\n\" id=\"DejaVuSans-49\"/>\n      </defs>\n      <g transform=\"translate(20.878125 190.627631)scale(0.1 -0.1)\">\n       <use xlink:href=\"#DejaVuSans-48\"/>\n       <use x=\"63.623047\" xlink:href=\"#DejaVuSans-46\"/>\n       <use x=\"95.410156\" xlink:href=\"#DejaVuSans-49\"/>\n      </g>\n     </g>\n    </g>\n    <g id=\"ytick_3\">\n     <g id=\"line2d_8\">\n      <g>\n       <use style=\"stroke:#000000;stroke-width:0.8;\" x=\"43.78125\" xlink:href=\"#m091502b5c1\" y=\"155.514273\"/>\n      </g>\n     </g>\n     <g id=\"text_9\">\n      <!-- 0.2 -->\n      <g transform=\"translate(20.878125 159.313492)scale(0.1 -0.1)\">\n       <use xlink:href=\"#DejaVuSans-48\"/>\n       <use x=\"63.623047\" xlink:href=\"#DejaVuSans-46\"/>\n       <use x=\"95.410156\" xlink:href=\"#DejaVuSans-50\"/>\n      </g>\n     </g>\n    </g>\n    <g id=\"ytick_4\">\n     <g id=\"line2d_9\">\n      <g>\n       <use style=\"stroke:#000000;stroke-width:0.8;\" x=\"43.78125\" xlink:href=\"#m091502b5c1\" y=\"124.200134\"/>\n      </g>\n     </g>\n     <g id=\"text_10\">\n      <!-- 0.3 -->\n      <defs>\n       <path d=\"M 40.578125 39.3125 \nQ 47.65625 37.796875 51.625 33 \nQ 55.609375 28.21875 55.609375 21.1875 \nQ 55.609375 10.40625 48.1875 4.484375 \nQ 40.765625 -1.421875 27.09375 -1.421875 \nQ 22.515625 -1.421875 17.65625 -0.515625 \nQ 12.796875 0.390625 7.625 2.203125 \nL 7.625 11.71875 \nQ 11.71875 9.328125 16.59375 8.109375 \nQ 21.484375 6.890625 26.8125 6.890625 \nQ 36.078125 6.890625 40.9375 10.546875 \nQ 45.796875 14.203125 45.796875 21.1875 \nQ 45.796875 27.640625 41.28125 31.265625 \nQ 36.765625 34.90625 28.71875 34.90625 \nL 20.21875 34.90625 \nL 20.21875 43.015625 \nL 29.109375 43.015625 \nQ 36.375 43.015625 40.234375 45.921875 \nQ 44.09375 48.828125 44.09375 54.296875 \nQ 44.09375 59.90625 40.109375 62.90625 \nQ 36.140625 65.921875 28.71875 65.921875 \nQ 24.65625 65.921875 20.015625 65.03125 \nQ 15.375 64.15625 9.8125 62.3125 \nL 9.8125 71.09375 \nQ 15.4375 72.65625 20.34375 73.4375 \nQ 25.25 74.21875 29.59375 74.21875 \nQ 40.828125 74.21875 47.359375 69.109375 \nQ 53.90625 64.015625 53.90625 55.328125 \nQ 53.90625 49.265625 50.4375 45.09375 \nQ 46.96875 40.921875 40.578125 39.3125 \nz\n\" id=\"DejaVuSans-51\"/>\n      </defs>\n      <g transform=\"translate(20.878125 127.999353)scale(0.1 -0.1)\">\n       <use xlink:href=\"#DejaVuSans-48\"/>\n       <use x=\"63.623047\" xlink:href=\"#DejaVuSans-46\"/>\n       <use x=\"95.410156\" xlink:href=\"#DejaVuSans-51\"/>\n      </g>\n     </g>\n    </g>\n    <g id=\"ytick_5\">\n     <g id=\"line2d_10\">\n      <g>\n       <use style=\"stroke:#000000;stroke-width:0.8;\" x=\"43.78125\" xlink:href=\"#m091502b5c1\" y=\"92.885995\"/>\n      </g>\n     </g>\n     <g id=\"text_11\">\n      <!-- 0.4 -->\n      <g transform=\"translate(20.878125 96.685214)scale(0.1 -0.1)\">\n       <use xlink:href=\"#DejaVuSans-48\"/>\n       <use x=\"63.623047\" xlink:href=\"#DejaVuSans-46\"/>\n       <use x=\"95.410156\" xlink:href=\"#DejaVuSans-52\"/>\n      </g>\n     </g>\n    </g>\n    <g id=\"ytick_6\">\n     <g id=\"line2d_11\">\n      <g>\n       <use style=\"stroke:#000000;stroke-width:0.8;\" x=\"43.78125\" xlink:href=\"#m091502b5c1\" y=\"61.571856\"/>\n      </g>\n     </g>\n     <g id=\"text_12\">\n      <!-- 0.5 -->\n      <defs>\n       <path d=\"M 10.796875 72.90625 \nL 49.515625 72.90625 \nL 49.515625 64.59375 \nL 19.828125 64.59375 \nL 19.828125 46.734375 \nQ 21.96875 47.46875 24.109375 47.828125 \nQ 26.265625 48.1875 28.421875 48.1875 \nQ 40.625 48.1875 47.75 41.5 \nQ 54.890625 34.8125 54.890625 23.390625 \nQ 54.890625 11.625 47.5625 5.09375 \nQ 40.234375 -1.421875 26.90625 -1.421875 \nQ 22.3125 -1.421875 17.546875 -0.640625 \nQ 12.796875 0.140625 7.71875 1.703125 \nL 7.71875 11.625 \nQ 12.109375 9.234375 16.796875 8.0625 \nQ 21.484375 6.890625 26.703125 6.890625 \nQ 35.15625 6.890625 40.078125 11.328125 \nQ 45.015625 15.765625 45.015625 23.390625 \nQ 45.015625 31 40.078125 35.4375 \nQ 35.15625 39.890625 26.703125 39.890625 \nQ 22.75 39.890625 18.8125 39.015625 \nQ 14.890625 38.140625 10.796875 36.28125 \nz\n\" id=\"DejaVuSans-53\"/>\n      </defs>\n      <g transform=\"translate(20.878125 65.371075)scale(0.1 -0.1)\">\n       <use xlink:href=\"#DejaVuSans-48\"/>\n       <use x=\"63.623047\" xlink:href=\"#DejaVuSans-46\"/>\n       <use x=\"95.410156\" xlink:href=\"#DejaVuSans-53\"/>\n      </g>\n     </g>\n    </g>\n    <g id=\"ytick_7\">\n     <g id=\"line2d_12\">\n      <g>\n       <use style=\"stroke:#000000;stroke-width:0.8;\" x=\"43.78125\" xlink:href=\"#m091502b5c1\" y=\"30.257717\"/>\n      </g>\n     </g>\n     <g id=\"text_13\">\n      <!-- 0.6 -->\n      <g transform=\"translate(20.878125 34.056936)scale(0.1 -0.1)\">\n       <use xlink:href=\"#DejaVuSans-48\"/>\n       <use x=\"63.623047\" xlink:href=\"#DejaVuSans-46\"/>\n       <use x=\"95.410156\" xlink:href=\"#DejaVuSans-54\"/>\n      </g>\n     </g>\n    </g>\n    <g id=\"text_14\">\n     <!-- Losses -->\n     <defs>\n      <path d=\"M 9.8125 72.90625 \nL 19.671875 72.90625 \nL 19.671875 8.296875 \nL 55.171875 8.296875 \nL 55.171875 0 \nL 9.8125 0 \nz\n\" id=\"DejaVuSans-76\"/>\n      <path d=\"M 56.203125 29.59375 \nL 56.203125 25.203125 \nL 14.890625 25.203125 \nQ 15.484375 15.921875 20.484375 11.0625 \nQ 25.484375 6.203125 34.421875 6.203125 \nQ 39.59375 6.203125 44.453125 7.46875 \nQ 49.3125 8.734375 54.109375 11.28125 \nL 54.109375 2.78125 \nQ 49.265625 0.734375 44.1875 -0.34375 \nQ 39.109375 -1.421875 33.890625 -1.421875 \nQ 20.796875 -1.421875 13.15625 6.1875 \nQ 5.515625 13.8125 5.515625 26.8125 \nQ 5.515625 40.234375 12.765625 48.109375 \nQ 20.015625 56 32.328125 56 \nQ 43.359375 56 49.78125 48.890625 \nQ 56.203125 41.796875 56.203125 29.59375 \nz\nM 47.21875 32.234375 \nQ 47.125 39.59375 43.09375 43.984375 \nQ 39.0625 48.390625 32.421875 48.390625 \nQ 24.90625 48.390625 20.390625 44.140625 \nQ 15.875 39.890625 15.1875 32.171875 \nz\n\" id=\"DejaVuSans-101\"/>\n     </defs>\n     <g transform=\"translate(14.798438 132.655156)rotate(-90)scale(0.1 -0.1)\">\n      <use xlink:href=\"#DejaVuSans-76\"/>\n      <use x=\"55.697266\" xlink:href=\"#DejaVuSans-111\"/>\n      <use x=\"116.878906\" xlink:href=\"#DejaVuSans-115\"/>\n      <use x=\"168.978516\" xlink:href=\"#DejaVuSans-115\"/>\n      <use x=\"221.078125\" xlink:href=\"#DejaVuSans-101\"/>\n      <use x=\"282.601562\" xlink:href=\"#DejaVuSans-115\"/>\n     </g>\n    </g>\n   </g>\n   <g id=\"line2d_13\">\n    <path clip-path=\"url(#p146b8e3dc5)\" d=\"M 58.999432 17.083636 \nL 62.45811 40.610168 \nL 65.916787 24.408759 \nL 69.375465 74.509187 \nL 72.834143 66.209768 \nL 76.29282 77.232588 \nL 79.751498 111.766065 \nL 83.210176 113.951428 \nL 86.668853 118.041756 \nL 90.127531 117.6787 \nL 93.586209 96.189166 \nL 97.044886 126.304666 \nL 100.503564 124.092304 \nL 103.962242 116.253008 \nL 107.420919 120.805435 \nL 110.879597 150.674156 \nL 114.338275 140.371621 \nL 117.796952 151.792679 \nL 121.25563 124.95814 \nL 124.714308 144.081642 \nL 128.172986 162.199938 \nL 131.631663 163.317569 \nL 135.090341 111.367163 \nL 138.549019 162.629109 \nL 142.007696 124.063141 \nL 145.466374 118.344777 \nL 148.925052 132.92613 \nL 152.383729 158.592255 \nL 155.842407 180.338226 \nL 159.301085 188.653372 \nL 162.759762 168.584425 \nL 166.21844 152.897852 \nL 169.677118 187.712084 \nL 173.135795 207.728456 \nL 176.594473 186.489671 \nL 180.053151 199.023337 \nL 183.511829 197.907339 \nL 186.970506 200.117952 \nL 190.429184 194.132748 \nL 193.887862 207.504331 \nL 197.346539 212.182167 \nL 200.805217 179.063675 \nL 204.263895 196.86404 \nL 207.722572 204.560933 \nL 211.18125 198.292256 \nL 214.639928 206.364575 \nL 218.098605 206.72764 \nL 221.557283 207.467311 \nL 225.015961 200.268635 \nL 228.474638 210.74819 \nL 231.933316 194.963879 \nL 235.391994 210.601317 \nL 238.850671 212.497894 \nL 242.309349 192.532529 \nL 245.768027 206.237362 \nL 249.226705 208.783241 \nL 252.685382 193.648089 \nL 256.14406 179.78273 \nL 259.602738 212.246737 \nL 263.061415 192.301573 \nL 266.520093 202.20729 \nL 269.978771 206.201512 \nL 273.437448 212.327028 \nL 276.896126 209.292892 \nL 280.354804 201.543404 \nL 283.813481 201.928566 \nL 287.272159 202.278717 \nL 290.730837 214.593284 \nL 294.189514 197.358122 \nL 297.648192 187.846661 \nL 301.10687 202.645453 \nL 304.565548 209.729538 \nL 308.024225 214.756364 \nL 311.482903 198.695736 \nL 314.941581 199.98014 \nL 318.400258 210.590149 \nL 321.858936 205.992218 \nL 325.317614 208.875325 \nL 328.776291 214.044809 \nL 332.234969 211.568043 \nL 335.693647 208.497387 \nL 339.152324 208.120252 \nL 342.611002 212.617348 \nL 346.06968 214.712426 \nL 349.528357 208.222147 \nL 352.987035 207.151489 \nL 356.445713 196.857054 \nL 359.90439 212.269781 \nL 363.363068 211.312256 \n\" style=\"fill:none;stroke:#ff0000;stroke-linecap:square;stroke-width:1.5;\"/>\n   </g>\n   <g id=\"line2d_14\">\n    <path clip-path=\"url(#p146b8e3dc5)\" d=\"M 58.999432 61.524634 \nL 62.45811 70.151991 \nL 65.916787 102.574447 \nL 69.375465 76.178192 \nL 72.834143 66.189424 \nL 76.29282 81.676107 \nL 79.751498 86.476234 \nL 83.210176 85.521171 \nL 86.668853 104.932188 \nL 90.127531 99.801342 \nL 93.586209 75.079682 \nL 97.044886 91.733561 \nL 100.503564 90.920649 \nL 103.962242 85.641596 \nL 107.420919 78.474237 \nL 110.879597 112.896314 \nL 114.338275 90.532554 \nL 117.796952 69.300938 \nL 121.25563 114.283212 \nL 124.714308 103.832185 \nL 128.172986 108.775936 \nL 131.631663 92.331447 \nL 135.090341 107.691621 \nL 138.549019 119.513205 \nL 142.007696 69.167122 \nL 145.466374 57.147841 \nL 148.925052 86.396088 \nL 152.383729 89.372778 \nL 155.842407 85.5272 \nL 159.301085 87.507765 \nL 162.759762 82.1425 \nL 166.21844 76.084504 \nL 169.677118 71.972656 \nL 173.135795 82.765984 \nL 176.594473 78.669451 \nL 180.053151 71.576555 \nL 183.511829 73.529095 \nL 186.970506 80.450463 \nL 190.429184 84.451508 \nL 193.887862 73.197937 \nL 197.346539 59.254972 \nL 200.805217 74.925558 \nL 204.263895 91.786448 \nL 207.722572 86.153913 \nL 211.18125 68.094425 \nL 214.639928 71.636972 \nL 218.098605 54.940649 \nL 221.557283 53.403688 \nL 225.015961 70.782811 \nL 228.474638 75.925519 \nL 231.933316 78.006463 \nL 235.391994 62.415584 \nL 238.850671 59.913686 \nL 242.309349 71.868004 \nL 245.768027 78.13411 \nL 249.226705 101.491653 \nL 252.685382 87.695467 \nL 256.14406 72.93455 \nL 259.602738 74.967134 \nL 263.061415 86.632401 \nL 266.520093 84.249201 \nL 269.978771 78.469701 \nL 273.437448 76.680206 \nL 276.896126 82.597106 \nL 280.354804 74.815735 \nL 283.813481 73.738718 \nL 287.272159 76.921765 \nL 290.730837 75.522567 \nL 294.189514 81.314049 \nL 297.648192 70.842538 \nL 301.10687 76.170287 \nL 304.565548 74.693594 \nL 308.024225 71.336872 \nL 311.482903 68.911014 \nL 314.941581 71.581407 \nL 318.400258 76.902045 \nL 321.858936 76.693141 \nL 325.317614 79.575173 \nL 328.776291 60.058598 \nL 332.234969 68.623802 \nL 335.693647 68.600639 \nL 339.152324 76.974324 \nL 342.611002 71.170056 \nL 346.06968 71.625979 \nL 349.528357 66.247919 \nL 352.987035 56.59966 \nL 356.445713 59.181956 \nL 359.90439 56.685536 \nL 363.363068 58.6102 \n\" style=\"fill:none;stroke:#0000ff;stroke-linecap:square;stroke-width:1.5;\"/>\n   </g>\n   <g id=\"patch_3\">\n    <path d=\"M 43.78125 224.64 \nL 43.78125 7.2 \n\" style=\"fill:none;stroke:#000000;stroke-linecap:square;stroke-linejoin:miter;stroke-width:0.8;\"/>\n   </g>\n   <g id=\"patch_4\">\n    <path d=\"M 378.58125 224.64 \nL 378.58125 7.2 \n\" style=\"fill:none;stroke:#000000;stroke-linecap:square;stroke-linejoin:miter;stroke-width:0.8;\"/>\n   </g>\n   <g id=\"patch_5\">\n    <path d=\"M 43.78125 224.64 \nL 378.58125 224.64 \n\" style=\"fill:none;stroke:#000000;stroke-linecap:square;stroke-linejoin:miter;stroke-width:0.8;\"/>\n   </g>\n   <g id=\"patch_6\">\n    <path d=\"M 43.78125 7.2 \nL 378.58125 7.2 \n\" style=\"fill:none;stroke:#000000;stroke-linecap:square;stroke-linejoin:miter;stroke-width:0.8;\"/>\n   </g>\n   <g id=\"legend_1\">\n    <g id=\"patch_7\">\n     <path d=\"M 314.140625 44.55625 \nL 371.58125 44.55625 \nQ 373.58125 44.55625 373.58125 42.55625 \nL 373.58125 14.2 \nQ 373.58125 12.2 371.58125 12.2 \nL 314.140625 12.2 \nQ 312.140625 12.2 312.140625 14.2 \nL 312.140625 42.55625 \nQ 312.140625 44.55625 314.140625 44.55625 \nz\n\" style=\"fill:#ffffff;opacity:0.8;stroke:#cccccc;stroke-linejoin:miter;\"/>\n    </g>\n    <g id=\"line2d_15\">\n     <path d=\"M 316.140625 20.298437 \nL 336.140625 20.298437 \n\" style=\"fill:none;stroke:#ff0000;stroke-linecap:square;stroke-width:1.5;\"/>\n    </g>\n    <g id=\"line2d_16\"/>\n    <g id=\"text_15\">\n     <!-- Train -->\n     <defs>\n      <path d=\"M -0.296875 72.90625 \nL 61.375 72.90625 \nL 61.375 64.59375 \nL 35.5 64.59375 \nL 35.5 0 \nL 25.59375 0 \nL 25.59375 64.59375 \nL -0.296875 64.59375 \nz\n\" id=\"DejaVuSans-84\"/>\n      <path d=\"M 41.109375 46.296875 \nQ 39.59375 47.171875 37.8125 47.578125 \nQ 36.03125 48 33.890625 48 \nQ 26.265625 48 22.1875 43.046875 \nQ 18.109375 38.09375 18.109375 28.8125 \nL 18.109375 0 \nL 9.078125 0 \nL 9.078125 54.6875 \nL 18.109375 54.6875 \nL 18.109375 46.1875 \nQ 20.953125 51.171875 25.484375 53.578125 \nQ 30.03125 56 36.53125 56 \nQ 37.453125 56 38.578125 55.875 \nQ 39.703125 55.765625 41.0625 55.515625 \nz\n\" id=\"DejaVuSans-114\"/>\n      <path d=\"M 34.28125 27.484375 \nQ 23.390625 27.484375 19.1875 25 \nQ 14.984375 22.515625 14.984375 16.5 \nQ 14.984375 11.71875 18.140625 8.90625 \nQ 21.296875 6.109375 26.703125 6.109375 \nQ 34.1875 6.109375 38.703125 11.40625 \nQ 43.21875 16.703125 43.21875 25.484375 \nL 43.21875 27.484375 \nz\nM 52.203125 31.203125 \nL 52.203125 0 \nL 43.21875 0 \nL 43.21875 8.296875 \nQ 40.140625 3.328125 35.546875 0.953125 \nQ 30.953125 -1.421875 24.3125 -1.421875 \nQ 15.921875 -1.421875 10.953125 3.296875 \nQ 6 8.015625 6 15.921875 \nQ 6 25.140625 12.171875 29.828125 \nQ 18.359375 34.515625 30.609375 34.515625 \nL 43.21875 34.515625 \nL 43.21875 35.40625 \nQ 43.21875 41.609375 39.140625 45 \nQ 35.0625 48.390625 27.6875 48.390625 \nQ 23 48.390625 18.546875 47.265625 \nQ 14.109375 46.140625 10.015625 43.890625 \nL 10.015625 52.203125 \nQ 14.9375 54.109375 19.578125 55.046875 \nQ 24.21875 56 28.609375 56 \nQ 40.484375 56 46.34375 49.84375 \nQ 52.203125 43.703125 52.203125 31.203125 \nz\n\" id=\"DejaVuSans-97\"/>\n      <path d=\"M 9.421875 54.6875 \nL 18.40625 54.6875 \nL 18.40625 0 \nL 9.421875 0 \nz\nM 9.421875 75.984375 \nL 18.40625 75.984375 \nL 18.40625 64.59375 \nL 9.421875 64.59375 \nz\n\" id=\"DejaVuSans-105\"/>\n      <path d=\"M 54.890625 33.015625 \nL 54.890625 0 \nL 45.90625 0 \nL 45.90625 32.71875 \nQ 45.90625 40.484375 42.875 44.328125 \nQ 39.84375 48.1875 33.796875 48.1875 \nQ 26.515625 48.1875 22.3125 43.546875 \nQ 18.109375 38.921875 18.109375 30.90625 \nL 18.109375 0 \nL 9.078125 0 \nL 9.078125 54.6875 \nL 18.109375 54.6875 \nL 18.109375 46.1875 \nQ 21.34375 51.125 25.703125 53.5625 \nQ 30.078125 56 35.796875 56 \nQ 45.21875 56 50.046875 50.171875 \nQ 54.890625 44.34375 54.890625 33.015625 \nz\n\" id=\"DejaVuSans-110\"/>\n     </defs>\n     <g transform=\"translate(344.140625 23.798437)scale(0.1 -0.1)\">\n      <use xlink:href=\"#DejaVuSans-84\"/>\n      <use x=\"60.865234\" xlink:href=\"#DejaVuSans-114\"/>\n      <use x=\"101.978516\" xlink:href=\"#DejaVuSans-97\"/>\n      <use x=\"163.257812\" xlink:href=\"#DejaVuSans-105\"/>\n      <use x=\"191.041016\" xlink:href=\"#DejaVuSans-110\"/>\n     </g>\n    </g>\n    <g id=\"line2d_17\">\n     <path d=\"M 316.140625 34.976562 \nL 336.140625 34.976562 \n\" style=\"fill:none;stroke:#0000ff;stroke-linecap:square;stroke-width:1.5;\"/>\n    </g>\n    <g id=\"line2d_18\"/>\n    <g id=\"text_16\">\n     <!-- Val -->\n     <defs>\n      <path d=\"M 28.609375 0 \nL 0.78125 72.90625 \nL 11.078125 72.90625 \nL 34.1875 11.53125 \nL 57.328125 72.90625 \nL 67.578125 72.90625 \nL 39.796875 0 \nz\n\" id=\"DejaVuSans-86\"/>\n      <path d=\"M 9.421875 75.984375 \nL 18.40625 75.984375 \nL 18.40625 0 \nL 9.421875 0 \nz\n\" id=\"DejaVuSans-108\"/>\n     </defs>\n     <g transform=\"translate(344.140625 38.476562)scale(0.1 -0.1)\">\n      <use xlink:href=\"#DejaVuSans-86\"/>\n      <use x=\"68.298828\" xlink:href=\"#DejaVuSans-97\"/>\n      <use x=\"129.578125\" xlink:href=\"#DejaVuSans-108\"/>\n     </g>\n    </g>\n   </g>\n  </g>\n </g>\n <defs>\n  <clipPath id=\"p146b8e3dc5\">\n   <rect height=\"217.44\" width=\"334.8\" x=\"43.78125\" y=\"7.2\"/>\n  </clipPath>\n </defs>\n</svg>\n"
          },
          "metadata": {
            "tags": []
          }
        }
      ]
    },
    {
      "cell_type": "code",
      "metadata": {
        "id": "unBgkhOEQUzH",
        "colab_type": "code",
        "outputId": "bc351b39-67db-470f-a8ba-6f4f43cd19fd",
        "colab": {
          "base_uri": "https://localhost:8080/",
          "height": 442
        }
      },
      "source": [
        "from google.colab import files\n",
        "files.download('./lookahead_sgd_resnet18_9334.pth.tar')\n",
        "files.download('./lookahead_sgd_resnet18_9334_acc.jpg')\n",
        "files.download('./lookahead_sgd_resnet18_9334_loss.jpg')"
      ],
      "execution_count": 0,
      "outputs": [
        {
          "output_type": "stream",
          "text": [
            "----------------------------------------\n",
            "Exception happened during processing of request from ('::ffff:127.0.0.1', 47506, 0, 0)\n",
            "Traceback (most recent call last):\n",
            "  File \"/usr/lib/python3.6/socketserver.py\", line 320, in _handle_request_noblock\n",
            "    self.process_request(request, client_address)\n",
            "  File \"/usr/lib/python3.6/socketserver.py\", line 351, in process_request\n",
            "    self.finish_request(request, client_address)\n",
            "  File \"/usr/lib/python3.6/socketserver.py\", line 364, in finish_request\n",
            "    self.RequestHandlerClass(request, client_address, self)\n",
            "  File \"/usr/lib/python3.6/socketserver.py\", line 724, in __init__\n",
            "    self.handle()\n",
            "  File \"/usr/lib/python3.6/http/server.py\", line 418, in handle\n",
            "    self.handle_one_request()\n",
            "  File \"/usr/lib/python3.6/http/server.py\", line 406, in handle_one_request\n",
            "    method()\n",
            "  File \"/usr/lib/python3.6/http/server.py\", line 639, in do_GET\n",
            "    self.copyfile(f, self.wfile)\n",
            "  File \"/usr/lib/python3.6/http/server.py\", line 800, in copyfile\n",
            "    shutil.copyfileobj(source, outputfile)\n",
            "  File \"/usr/lib/python3.6/shutil.py\", line 82, in copyfileobj\n",
            "    fdst.write(buf)\n",
            "  File \"/usr/lib/python3.6/socketserver.py\", line 803, in write\n",
            "    self._sock.sendall(b)\n",
            "ConnectionResetError: [Errno 104] Connection reset by peer\n",
            "----------------------------------------\n"
          ],
          "name": "stderr"
        }
      ]
    },
    {
      "cell_type": "markdown",
      "metadata": {
        "id": "YUY6Jar0-pHs",
        "colab_type": "text"
      },
      "source": [
        "# RAdam"
      ]
    },
    {
      "cell_type": "code",
      "metadata": {
        "id": "JhuMIoYH-r2m",
        "colab_type": "code",
        "colab": {}
      },
      "source": [
        "load_checkpoint(model, filename='before_sgd_resnet18.pth.tar')"
      ],
      "execution_count": 0,
      "outputs": []
    },
    {
      "cell_type": "code",
      "metadata": {
        "id": "CHH8il-C-uqQ",
        "colab_type": "code",
        "colab": {}
      },
      "source": [
        "reset()"
      ],
      "execution_count": 0,
      "outputs": []
    },
    {
      "cell_type": "code",
      "metadata": {
        "id": "Fv4k7LHH-yVj",
        "colab_type": "code",
        "colab": {}
      },
      "source": [
        "preds = []\n",
        "train_stats = AvgStats()\n",
        "test_stats = AvgStats()"
      ],
      "execution_count": 0,
      "outputs": []
    },
    {
      "cell_type": "code",
      "metadata": {
        "id": "HUaNclvt-1kM",
        "colab_type": "code",
        "colab": {}
      },
      "source": [
        "optimizer = RAdam( model.parameters(), lr=1e-4, weight_decay=1e-1)"
      ],
      "execution_count": 0,
      "outputs": []
    },
    {
      "cell_type": "code",
      "metadata": {
        "id": "KsWliJjKRSzP",
        "colab_type": "code",
        "colab": {}
      },
      "source": [
        "sched = torch.optim.lr_scheduler.StepLR(optimizer, step_size=30, gamma=0.2)"
      ],
      "execution_count": 0,
      "outputs": []
    },
    {
      "cell_type": "code",
      "metadata": {
        "id": "7_jUbtha-9V6",
        "colab_type": "code",
        "outputId": "846621a1-6535-448f-a620-c4c25fddbcfd",
        "colab": {
          "base_uri": "https://localhost:8080/",
          "height": 1000
        }
      },
      "source": [
        "fit(model, optimizer, sched)"
      ],
      "execution_count": 36,
      "outputs": [
        {
          "output_type": "stream",
          "text": [
            "Epoch\tTrn_loss\tVal_loss\tTrn_acc\t\tVal_acc\n",
            "1\t1.17956812\t1.03350742\t41.84599686\t45.50333405\n",
            "2\t0.85558891\t0.78601485\t55.61635971\t57.07500076\n",
            "3\t0.71838177\t0.66642632\t62.00117493\t62.84388733\n",
            "4\t0.63973970\t0.60533132\t65.97217560\t66.52625275\n",
            "5\t0.56805268\t0.56476555\t68.85276031\t69.24832916\n",
            "6\t0.54195648\t0.53587582\t71.02085114\t71.31999969\n",
            "7\t0.48986751\t0.52390686\t72.73244476\t72.96714020\n",
            "8\t0.46415678\t0.50217543\t74.17255402\t74.34333801\n",
            "9\t0.42862184\t0.49727216\t75.36245728\t75.50629425\n",
            "10\t0.40800423\t0.47950202\t76.39796448\t76.52099609\n",
            "11\t0.38016815\t0.49098657\t77.33753967\t77.43302917\n",
            "12\t0.36039637\t0.48207030\t78.16928864\t78.25582886\n",
            "13\t0.34154434\t0.49398275\t78.91271973\t78.97999573\n",
            "14\t0.30856392\t0.48183833\t79.59565735\t79.65631104\n",
            "15\t0.31408957\t0.48541321\t80.21157074\t80.25866699\n",
            "16\t0.27965618\t0.49433110\t80.78620911\t80.83020782\n",
            "17\t0.26899641\t0.48141070\t81.32435608\t81.36186218\n",
            "18\t0.26476553\t0.46516748\t81.81813049\t81.85221863\n",
            "19\t0.25845433\t0.48241043\t82.28663635\t82.31289673\n",
            "20\t0.23241759\t0.47445726\t82.72588348\t82.74766541\n",
            "21\t0.22472379\t0.48278155\t83.12768555\t83.14476013\n",
            "22\t0.22763925\t0.50379082\t83.50504303\t83.51697540\n",
            "23\t0.21109898\t0.50119032\t83.87153625\t83.87956238\n",
            "24\t0.19115678\t0.51360223\t84.20937347\t84.21604156\n",
            "25\t0.18634326\t0.51886967\t84.53153992\t84.53379822\n",
            "26\t0.18745176\t0.52133982\t84.83296967\t84.83422852\n",
            "27\t0.17922422\t0.53553119\t85.12031555\t85.11716461\n",
            "28\t0.17189162\t0.51509788\t85.39024353\t85.39047241\n",
            "29\t0.16876861\t0.54153186\t85.65653229\t85.65304565\n",
            "30\t0.15567780\t0.53623441\t85.90776825\t85.90322876\n",
            "31\t0.17007158\t0.54370707\t86.13913727\t86.13220978\n",
            "32\t0.09901191\t0.49773325\t86.39649963\t86.39541626\n",
            "33\t0.08821124\t0.50451842\t86.66182709\t86.66024780\n",
            "34\t0.09044159\t0.50742425\t86.91876221\t86.91647339\n",
            "35\t0.07882222\t0.50763091\t87.16622162\t87.16342926\n",
            "36\t0.07295367\t0.51539320\t87.40241241\t87.39759064\n",
            "37\t0.07436634\t0.51903236\t87.62763977\t87.62423706\n",
            "38\t0.07202277\t0.52390342\t87.84461975\t87.83938599\n",
            "39\t0.06493068\t0.52404569\t88.05330658\t88.04769135\n",
            "40\t0.06176319\t0.54662557\t88.25251770\t88.24507904\n",
            "41\t0.05947980\t0.55169260\t88.44391632\t88.43597412\n",
            "42\t0.05675126\t0.55280887\t88.62856293\t88.61972046\n",
            "43\t0.05947704\t0.55442780\t88.80229950\t88.79364777\n",
            "44\t0.05441109\t0.56565971\t88.97315216\t88.96436310\n",
            "45\t0.05415442\t0.56060069\t89.13627625\t89.12659454\n",
            "46\t0.05290849\t0.56570923\t89.29373932\t89.28376770\n",
            "47\t0.05232730\t0.56477352\t89.44406128\t89.43436432\n",
            "48\t0.04372149\t0.57592301\t89.59125519\t89.58020782\n",
            "49\t0.04390353\t0.58647756\t89.73249054\t89.72149658\n",
            "50\t0.04785531\t0.58468034\t89.86736298\t89.85580444\n",
            "51\t0.04379367\t0.58262936\t89.99734497\t89.98693085\n",
            "52\t0.04584044\t0.57891792\t90.12479401\t90.11413574\n",
            "53\t0.04158446\t0.57633430\t90.24700165\t90.23632050\n",
            "54\t0.04282106\t0.57579006\t90.36615753\t90.35493469\n",
            "55\t0.04500694\t0.59113952\t90.48000336\t90.46918488\n",
            "56\t0.04715647\t0.59105684\t90.59054565\t90.57925415\n",
            "57\t0.04299306\t0.60885249\t90.69789124\t90.68611145\n",
            "58\t0.04103598\t0.60041333\t90.80088806\t90.78948212\n",
            "59\t0.03465919\t0.61314138\t90.90234375\t90.89025116\n",
            "60\t0.03796437\t0.61319354\t90.99905396\t90.98608398\n",
            "61\t0.03744778\t0.60642962\t91.09216309\t91.07950592\n",
            "62\t0.03569659\t0.60791448\t91.18323517\t91.17118835\n",
            "63\t0.03070219\t0.60445196\t91.27435303\t91.26161194\n",
            "64\t0.02611108\t0.60461901\t91.36219025\t91.34994507\n",
            "65\t0.03179570\t0.60832560\t91.44871521\t91.43599701\n",
            "66\t0.02886291\t0.61020812\t91.53182220\t91.51934052\n",
            "67\t0.03102842\t0.60421650\t91.61277771\t91.60037231\n",
            "68\t0.02971137\t0.59933071\t91.69155121\t91.67936707\n",
            "69\t0.03092088\t0.60557484\t91.76895905\t91.75691223\n",
            "70\t0.02720169\t0.60844097\t91.84481812\t91.83257294\n",
            "71\t0.03025340\t0.60338270\t91.91823578\t91.90620422\n",
            "72\t0.02582792\t0.60526305\t91.99037170\t91.97795868\n",
            "73\t0.02690727\t0.60748673\t92.05999756\t92.04792023\n",
            "74\t0.03033297\t0.60857739\t92.12789917\t92.11592102\n",
            "75\t0.02672191\t0.61403674\t92.19443512\t92.18206787\n",
            "76\t0.02767989\t0.60698128\t92.25841522\t92.24666595\n",
            "77\t0.02595288\t0.61535094\t92.32130432\t92.30917358\n",
            "78\t0.02358904\t0.61770745\t92.38331604\t92.37100220\n",
            "79\t0.02633754\t0.61816103\t92.44226074\t92.43040466\n",
            "80\t0.02378905\t0.61871268\t92.50087738\t92.48868561\n",
            "81\t0.02450279\t0.61731110\t92.55805969\t92.54617310\n",
            "82\t0.02548756\t0.62480298\t92.61403656\t92.60231018\n",
            "83\t0.02534246\t0.61766316\t92.66869354\t92.65696716\n",
            "84\t0.02052000\t0.61319118\t92.72238922\t92.71064758\n",
            "85\t0.02244462\t0.61971161\t92.77424622\t92.76251221\n",
            "86\t0.02370342\t0.61253880\t92.82491302\t92.81287384\n",
            "87\t0.02642670\t0.61592688\t92.87382507\t92.86225891\n",
            "88\t0.02493823\t0.61779735\t92.92298126\t92.91138458\n",
            "89\t0.02400948\t0.61993993\t92.97138977\t92.95999146\n",
            "90\t0.02132687\t0.62353463\t93.01802063\t93.00679779\n"
          ],
          "name": "stdout"
        }
      ]
    },
    {
      "cell_type": "code",
      "metadata": {
        "id": "cFGTZvRw_Bl8",
        "colab_type": "code",
        "colab": {}
      },
      "source": [
        "save_checkpoint(model, True, 'radam_resnet18_9301.pth.tar')"
      ],
      "execution_count": 0,
      "outputs": []
    },
    {
      "cell_type": "code",
      "metadata": {
        "id": "kCJQ2vCwHWNp",
        "colab_type": "code",
        "colab": {}
      },
      "source": [
        "ep_lookahead_losses = []\n",
        "for i in range(0, len(train_stats.losses), len(train_loader)):\n",
        "    if i != 0 :\n",
        "        ep_lookahead_losses.append(train_stats.losses[i])\n",
        "        \n",
        "ep_lookahead_lossesv = []\n",
        "for i in range(0, len(test_stats.losses), len(test_loader)):\n",
        "    if(i != 0):\n",
        "        ep_lookahead_lossesv.append(test_stats.losses[i])"
      ],
      "execution_count": 0,
      "outputs": []
    },
    {
      "cell_type": "code",
      "metadata": {
        "id": "iVM5wkzAHbhi",
        "colab_type": "code",
        "colab": {}
      },
      "source": [
        "ep_lookahead_accs = []\n",
        "for i in range(0, len(train_stats.losses), len(train_loader)):\n",
        "    if i != 0 :\n",
        "        ep_lookahead_accs.append(train_stats.precs[i])\n",
        "        \n",
        "ep_lookahead_accsv = []\n",
        "for i in range(0, len(test_stats.losses), len(test_loader)):\n",
        "    if(i != 0):\n",
        "        ep_lookahead_accsv.append(test_stats.precs[i])"
      ],
      "execution_count": 0,
      "outputs": []
    },
    {
      "cell_type": "code",
      "metadata": {
        "id": "Ss4EKzWCHfXl",
        "colab_type": "code",
        "colab": {
          "base_uri": "https://localhost:8080/",
          "height": 371
        },
        "outputId": "bbde4e31-8709-4581-a10a-fc1e2b36b46b"
      },
      "source": [
        "plt.xlabel(\"Epochs\")\n",
        "plt.ylabel(\"Accuracy\")\n",
        "plt.plot(ep_lookahead_accs, 'r', label='Train')\n",
        "plt.plot(ep_lookahead_accsv, 'b', label='Val')\n",
        "plt.legend()\n",
        "plt.savefig('radam_resnet18_9301_acc.jpg')"
      ],
      "execution_count": 40,
      "outputs": [
        {
          "output_type": "display_data",
          "data": {
            "text/plain": [
              "<Figure size 432x288 with 1 Axes>"
            ],
            "image/svg+xml": "<?xml version=\"1.0\" encoding=\"utf-8\" standalone=\"no\"?>\n<!DOCTYPE svg PUBLIC \"-//W3C//DTD SVG 1.1//EN\"\n  \"http://www.w3.org/Graphics/SVG/1.1/DTD/svg11.dtd\">\n<!-- Created with matplotlib (https://matplotlib.org/) -->\n<svg height=\"262.19625pt\" version=\"1.1\" viewBox=\"0 0 382.603125 262.19625\" width=\"382.603125pt\" xmlns=\"http://www.w3.org/2000/svg\" xmlns:xlink=\"http://www.w3.org/1999/xlink\">\n <defs>\n  <style type=\"text/css\">\n*{stroke-linecap:butt;stroke-linejoin:round;}\n  </style>\n </defs>\n <g id=\"figure_1\">\n  <g id=\"patch_1\">\n   <path d=\"M 0 262.19625 \nL 382.603125 262.19625 \nL 382.603125 0 \nL 0 0 \nz\n\" style=\"fill:none;\"/>\n  </g>\n  <g id=\"axes_1\">\n   <g id=\"patch_2\">\n    <path d=\"M 40.603125 224.64 \nL 375.403125 224.64 \nL 375.403125 7.2 \nL 40.603125 7.2 \nz\n\" style=\"fill:#ffffff;\"/>\n   </g>\n   <g id=\"matplotlib.axis_1\">\n    <g id=\"xtick_1\">\n     <g id=\"line2d_1\">\n      <defs>\n       <path d=\"M 0 0 \nL 0 3.5 \n\" id=\"m8bea986be5\" style=\"stroke:#000000;stroke-width:0.8;\"/>\n      </defs>\n      <g>\n       <use style=\"stroke:#000000;stroke-width:0.8;\" x=\"55.821307\" xlink:href=\"#m8bea986be5\" y=\"224.64\"/>\n      </g>\n     </g>\n     <g id=\"text_1\">\n      <!-- 0 -->\n      <defs>\n       <path d=\"M 31.78125 66.40625 \nQ 24.171875 66.40625 20.328125 58.90625 \nQ 16.5 51.421875 16.5 36.375 \nQ 16.5 21.390625 20.328125 13.890625 \nQ 24.171875 6.390625 31.78125 6.390625 \nQ 39.453125 6.390625 43.28125 13.890625 \nQ 47.125 21.390625 47.125 36.375 \nQ 47.125 51.421875 43.28125 58.90625 \nQ 39.453125 66.40625 31.78125 66.40625 \nz\nM 31.78125 74.21875 \nQ 44.046875 74.21875 50.515625 64.515625 \nQ 56.984375 54.828125 56.984375 36.375 \nQ 56.984375 17.96875 50.515625 8.265625 \nQ 44.046875 -1.421875 31.78125 -1.421875 \nQ 19.53125 -1.421875 13.0625 8.265625 \nQ 6.59375 17.96875 6.59375 36.375 \nQ 6.59375 54.828125 13.0625 64.515625 \nQ 19.53125 74.21875 31.78125 74.21875 \nz\n\" id=\"DejaVuSans-48\"/>\n      </defs>\n      <g transform=\"translate(52.640057 239.238438)scale(0.1 -0.1)\">\n       <use xlink:href=\"#DejaVuSans-48\"/>\n      </g>\n     </g>\n    </g>\n    <g id=\"xtick_2\">\n     <g id=\"line2d_2\">\n      <g>\n       <use style=\"stroke:#000000;stroke-width:0.8;\" x=\"124.994861\" xlink:href=\"#m8bea986be5\" y=\"224.64\"/>\n      </g>\n     </g>\n     <g id=\"text_2\">\n      <!-- 20 -->\n      <defs>\n       <path d=\"M 19.1875 8.296875 \nL 53.609375 8.296875 \nL 53.609375 0 \nL 7.328125 0 \nL 7.328125 8.296875 \nQ 12.9375 14.109375 22.625 23.890625 \nQ 32.328125 33.6875 34.8125 36.53125 \nQ 39.546875 41.84375 41.421875 45.53125 \nQ 43.3125 49.21875 43.3125 52.78125 \nQ 43.3125 58.59375 39.234375 62.25 \nQ 35.15625 65.921875 28.609375 65.921875 \nQ 23.96875 65.921875 18.8125 64.3125 \nQ 13.671875 62.703125 7.8125 59.421875 \nL 7.8125 69.390625 \nQ 13.765625 71.78125 18.9375 73 \nQ 24.125 74.21875 28.421875 74.21875 \nQ 39.75 74.21875 46.484375 68.546875 \nQ 53.21875 62.890625 53.21875 53.421875 \nQ 53.21875 48.921875 51.53125 44.890625 \nQ 49.859375 40.875 45.40625 35.40625 \nQ 44.1875 33.984375 37.640625 27.21875 \nQ 31.109375 20.453125 19.1875 8.296875 \nz\n\" id=\"DejaVuSans-50\"/>\n      </defs>\n      <g transform=\"translate(118.632361 239.238438)scale(0.1 -0.1)\">\n       <use xlink:href=\"#DejaVuSans-50\"/>\n       <use x=\"63.623047\" xlink:href=\"#DejaVuSans-48\"/>\n      </g>\n     </g>\n    </g>\n    <g id=\"xtick_3\">\n     <g id=\"line2d_3\">\n      <g>\n       <use style=\"stroke:#000000;stroke-width:0.8;\" x=\"194.168414\" xlink:href=\"#m8bea986be5\" y=\"224.64\"/>\n      </g>\n     </g>\n     <g id=\"text_3\">\n      <!-- 40 -->\n      <defs>\n       <path d=\"M 37.796875 64.3125 \nL 12.890625 25.390625 \nL 37.796875 25.390625 \nz\nM 35.203125 72.90625 \nL 47.609375 72.90625 \nL 47.609375 25.390625 \nL 58.015625 25.390625 \nL 58.015625 17.1875 \nL 47.609375 17.1875 \nL 47.609375 0 \nL 37.796875 0 \nL 37.796875 17.1875 \nL 4.890625 17.1875 \nL 4.890625 26.703125 \nz\n\" id=\"DejaVuSans-52\"/>\n      </defs>\n      <g transform=\"translate(187.805914 239.238438)scale(0.1 -0.1)\">\n       <use xlink:href=\"#DejaVuSans-52\"/>\n       <use x=\"63.623047\" xlink:href=\"#DejaVuSans-48\"/>\n      </g>\n     </g>\n    </g>\n    <g id=\"xtick_4\">\n     <g id=\"line2d_4\">\n      <g>\n       <use style=\"stroke:#000000;stroke-width:0.8;\" x=\"263.341968\" xlink:href=\"#m8bea986be5\" y=\"224.64\"/>\n      </g>\n     </g>\n     <g id=\"text_4\">\n      <!-- 60 -->\n      <defs>\n       <path d=\"M 33.015625 40.375 \nQ 26.375 40.375 22.484375 35.828125 \nQ 18.609375 31.296875 18.609375 23.390625 \nQ 18.609375 15.53125 22.484375 10.953125 \nQ 26.375 6.390625 33.015625 6.390625 \nQ 39.65625 6.390625 43.53125 10.953125 \nQ 47.40625 15.53125 47.40625 23.390625 \nQ 47.40625 31.296875 43.53125 35.828125 \nQ 39.65625 40.375 33.015625 40.375 \nz\nM 52.59375 71.296875 \nL 52.59375 62.3125 \nQ 48.875 64.0625 45.09375 64.984375 \nQ 41.3125 65.921875 37.59375 65.921875 \nQ 27.828125 65.921875 22.671875 59.328125 \nQ 17.53125 52.734375 16.796875 39.40625 \nQ 19.671875 43.65625 24.015625 45.921875 \nQ 28.375 48.1875 33.59375 48.1875 \nQ 44.578125 48.1875 50.953125 41.515625 \nQ 57.328125 34.859375 57.328125 23.390625 \nQ 57.328125 12.15625 50.6875 5.359375 \nQ 44.046875 -1.421875 33.015625 -1.421875 \nQ 20.359375 -1.421875 13.671875 8.265625 \nQ 6.984375 17.96875 6.984375 36.375 \nQ 6.984375 53.65625 15.1875 63.9375 \nQ 23.390625 74.21875 37.203125 74.21875 \nQ 40.921875 74.21875 44.703125 73.484375 \nQ 48.484375 72.75 52.59375 71.296875 \nz\n\" id=\"DejaVuSans-54\"/>\n      </defs>\n      <g transform=\"translate(256.979468 239.238438)scale(0.1 -0.1)\">\n       <use xlink:href=\"#DejaVuSans-54\"/>\n       <use x=\"63.623047\" xlink:href=\"#DejaVuSans-48\"/>\n      </g>\n     </g>\n    </g>\n    <g id=\"xtick_5\">\n     <g id=\"line2d_5\">\n      <g>\n       <use style=\"stroke:#000000;stroke-width:0.8;\" x=\"332.515522\" xlink:href=\"#m8bea986be5\" y=\"224.64\"/>\n      </g>\n     </g>\n     <g id=\"text_5\">\n      <!-- 80 -->\n      <defs>\n       <path d=\"M 31.78125 34.625 \nQ 24.75 34.625 20.71875 30.859375 \nQ 16.703125 27.09375 16.703125 20.515625 \nQ 16.703125 13.921875 20.71875 10.15625 \nQ 24.75 6.390625 31.78125 6.390625 \nQ 38.8125 6.390625 42.859375 10.171875 \nQ 46.921875 13.96875 46.921875 20.515625 \nQ 46.921875 27.09375 42.890625 30.859375 \nQ 38.875 34.625 31.78125 34.625 \nz\nM 21.921875 38.8125 \nQ 15.578125 40.375 12.03125 44.71875 \nQ 8.5 49.078125 8.5 55.328125 \nQ 8.5 64.0625 14.71875 69.140625 \nQ 20.953125 74.21875 31.78125 74.21875 \nQ 42.671875 74.21875 48.875 69.140625 \nQ 55.078125 64.0625 55.078125 55.328125 \nQ 55.078125 49.078125 51.53125 44.71875 \nQ 48 40.375 41.703125 38.8125 \nQ 48.828125 37.15625 52.796875 32.3125 \nQ 56.78125 27.484375 56.78125 20.515625 \nQ 56.78125 9.90625 50.3125 4.234375 \nQ 43.84375 -1.421875 31.78125 -1.421875 \nQ 19.734375 -1.421875 13.25 4.234375 \nQ 6.78125 9.90625 6.78125 20.515625 \nQ 6.78125 27.484375 10.78125 32.3125 \nQ 14.796875 37.15625 21.921875 38.8125 \nz\nM 18.3125 54.390625 \nQ 18.3125 48.734375 21.84375 45.5625 \nQ 25.390625 42.390625 31.78125 42.390625 \nQ 38.140625 42.390625 41.71875 45.5625 \nQ 45.3125 48.734375 45.3125 54.390625 \nQ 45.3125 60.0625 41.71875 63.234375 \nQ 38.140625 66.40625 31.78125 66.40625 \nQ 25.390625 66.40625 21.84375 63.234375 \nQ 18.3125 60.0625 18.3125 54.390625 \nz\n\" id=\"DejaVuSans-56\"/>\n      </defs>\n      <g transform=\"translate(326.153022 239.238438)scale(0.1 -0.1)\">\n       <use xlink:href=\"#DejaVuSans-56\"/>\n       <use x=\"63.623047\" xlink:href=\"#DejaVuSans-48\"/>\n      </g>\n     </g>\n    </g>\n    <g id=\"text_6\">\n     <!-- Epochs -->\n     <defs>\n      <path d=\"M 9.8125 72.90625 \nL 55.90625 72.90625 \nL 55.90625 64.59375 \nL 19.671875 64.59375 \nL 19.671875 43.015625 \nL 54.390625 43.015625 \nL 54.390625 34.71875 \nL 19.671875 34.71875 \nL 19.671875 8.296875 \nL 56.78125 8.296875 \nL 56.78125 0 \nL 9.8125 0 \nz\n\" id=\"DejaVuSans-69\"/>\n      <path d=\"M 18.109375 8.203125 \nL 18.109375 -20.796875 \nL 9.078125 -20.796875 \nL 9.078125 54.6875 \nL 18.109375 54.6875 \nL 18.109375 46.390625 \nQ 20.953125 51.265625 25.265625 53.625 \nQ 29.59375 56 35.59375 56 \nQ 45.5625 56 51.78125 48.09375 \nQ 58.015625 40.1875 58.015625 27.296875 \nQ 58.015625 14.40625 51.78125 6.484375 \nQ 45.5625 -1.421875 35.59375 -1.421875 \nQ 29.59375 -1.421875 25.265625 0.953125 \nQ 20.953125 3.328125 18.109375 8.203125 \nz\nM 48.6875 27.296875 \nQ 48.6875 37.203125 44.609375 42.84375 \nQ 40.53125 48.484375 33.40625 48.484375 \nQ 26.265625 48.484375 22.1875 42.84375 \nQ 18.109375 37.203125 18.109375 27.296875 \nQ 18.109375 17.390625 22.1875 11.75 \nQ 26.265625 6.109375 33.40625 6.109375 \nQ 40.53125 6.109375 44.609375 11.75 \nQ 48.6875 17.390625 48.6875 27.296875 \nz\n\" id=\"DejaVuSans-112\"/>\n      <path d=\"M 30.609375 48.390625 \nQ 23.390625 48.390625 19.1875 42.75 \nQ 14.984375 37.109375 14.984375 27.296875 \nQ 14.984375 17.484375 19.15625 11.84375 \nQ 23.34375 6.203125 30.609375 6.203125 \nQ 37.796875 6.203125 41.984375 11.859375 \nQ 46.1875 17.53125 46.1875 27.296875 \nQ 46.1875 37.015625 41.984375 42.703125 \nQ 37.796875 48.390625 30.609375 48.390625 \nz\nM 30.609375 56 \nQ 42.328125 56 49.015625 48.375 \nQ 55.71875 40.765625 55.71875 27.296875 \nQ 55.71875 13.875 49.015625 6.21875 \nQ 42.328125 -1.421875 30.609375 -1.421875 \nQ 18.84375 -1.421875 12.171875 6.21875 \nQ 5.515625 13.875 5.515625 27.296875 \nQ 5.515625 40.765625 12.171875 48.375 \nQ 18.84375 56 30.609375 56 \nz\n\" id=\"DejaVuSans-111\"/>\n      <path d=\"M 48.78125 52.59375 \nL 48.78125 44.1875 \nQ 44.96875 46.296875 41.140625 47.34375 \nQ 37.3125 48.390625 33.40625 48.390625 \nQ 24.65625 48.390625 19.8125 42.84375 \nQ 14.984375 37.3125 14.984375 27.296875 \nQ 14.984375 17.28125 19.8125 11.734375 \nQ 24.65625 6.203125 33.40625 6.203125 \nQ 37.3125 6.203125 41.140625 7.25 \nQ 44.96875 8.296875 48.78125 10.40625 \nL 48.78125 2.09375 \nQ 45.015625 0.34375 40.984375 -0.53125 \nQ 36.96875 -1.421875 32.421875 -1.421875 \nQ 20.0625 -1.421875 12.78125 6.34375 \nQ 5.515625 14.109375 5.515625 27.296875 \nQ 5.515625 40.671875 12.859375 48.328125 \nQ 20.21875 56 33.015625 56 \nQ 37.15625 56 41.109375 55.140625 \nQ 45.0625 54.296875 48.78125 52.59375 \nz\n\" id=\"DejaVuSans-99\"/>\n      <path d=\"M 54.890625 33.015625 \nL 54.890625 0 \nL 45.90625 0 \nL 45.90625 32.71875 \nQ 45.90625 40.484375 42.875 44.328125 \nQ 39.84375 48.1875 33.796875 48.1875 \nQ 26.515625 48.1875 22.3125 43.546875 \nQ 18.109375 38.921875 18.109375 30.90625 \nL 18.109375 0 \nL 9.078125 0 \nL 9.078125 75.984375 \nL 18.109375 75.984375 \nL 18.109375 46.1875 \nQ 21.34375 51.125 25.703125 53.5625 \nQ 30.078125 56 35.796875 56 \nQ 45.21875 56 50.046875 50.171875 \nQ 54.890625 44.34375 54.890625 33.015625 \nz\n\" id=\"DejaVuSans-104\"/>\n      <path d=\"M 44.28125 53.078125 \nL 44.28125 44.578125 \nQ 40.484375 46.53125 36.375 47.5 \nQ 32.28125 48.484375 27.875 48.484375 \nQ 21.1875 48.484375 17.84375 46.4375 \nQ 14.5 44.390625 14.5 40.28125 \nQ 14.5 37.15625 16.890625 35.375 \nQ 19.28125 33.59375 26.515625 31.984375 \nL 29.59375 31.296875 \nQ 39.15625 29.25 43.1875 25.515625 \nQ 47.21875 21.78125 47.21875 15.09375 \nQ 47.21875 7.46875 41.1875 3.015625 \nQ 35.15625 -1.421875 24.609375 -1.421875 \nQ 20.21875 -1.421875 15.453125 -0.5625 \nQ 10.6875 0.296875 5.421875 2 \nL 5.421875 11.28125 \nQ 10.40625 8.6875 15.234375 7.390625 \nQ 20.0625 6.109375 24.8125 6.109375 \nQ 31.15625 6.109375 34.5625 8.28125 \nQ 37.984375 10.453125 37.984375 14.40625 \nQ 37.984375 18.0625 35.515625 20.015625 \nQ 33.0625 21.96875 24.703125 23.78125 \nL 21.578125 24.515625 \nQ 13.234375 26.265625 9.515625 29.90625 \nQ 5.8125 33.546875 5.8125 39.890625 \nQ 5.8125 47.609375 11.28125 51.796875 \nQ 16.75 56 26.8125 56 \nQ 31.78125 56 36.171875 55.265625 \nQ 40.578125 54.546875 44.28125 53.078125 \nz\n\" id=\"DejaVuSans-115\"/>\n     </defs>\n     <g transform=\"translate(190.0875 252.916563)scale(0.1 -0.1)\">\n      <use xlink:href=\"#DejaVuSans-69\"/>\n      <use x=\"63.183594\" xlink:href=\"#DejaVuSans-112\"/>\n      <use x=\"126.660156\" xlink:href=\"#DejaVuSans-111\"/>\n      <use x=\"187.841797\" xlink:href=\"#DejaVuSans-99\"/>\n      <use x=\"242.822266\" xlink:href=\"#DejaVuSans-104\"/>\n      <use x=\"306.201172\" xlink:href=\"#DejaVuSans-115\"/>\n     </g>\n    </g>\n   </g>\n   <g id=\"matplotlib.axis_2\">\n    <g id=\"ytick_1\">\n     <g id=\"line2d_6\">\n      <defs>\n       <path d=\"M 0 0 \nL -3.5 0 \n\" id=\"mc57bb1d1ad\" style=\"stroke:#000000;stroke-width:0.8;\"/>\n      </defs>\n      <g>\n       <use style=\"stroke:#000000;stroke-width:0.8;\" x=\"40.603125\" xlink:href=\"#mc57bb1d1ad\" y=\"196.17292\"/>\n      </g>\n     </g>\n     <g id=\"text_7\">\n      <!-- 50 -->\n      <defs>\n       <path d=\"M 10.796875 72.90625 \nL 49.515625 72.90625 \nL 49.515625 64.59375 \nL 19.828125 64.59375 \nL 19.828125 46.734375 \nQ 21.96875 47.46875 24.109375 47.828125 \nQ 26.265625 48.1875 28.421875 48.1875 \nQ 40.625 48.1875 47.75 41.5 \nQ 54.890625 34.8125 54.890625 23.390625 \nQ 54.890625 11.625 47.5625 5.09375 \nQ 40.234375 -1.421875 26.90625 -1.421875 \nQ 22.3125 -1.421875 17.546875 -0.640625 \nQ 12.796875 0.140625 7.71875 1.703125 \nL 7.71875 11.625 \nQ 12.109375 9.234375 16.796875 8.0625 \nQ 21.484375 6.890625 26.703125 6.890625 \nQ 35.15625 6.890625 40.078125 11.328125 \nQ 45.015625 15.765625 45.015625 23.390625 \nQ 45.015625 31 40.078125 35.4375 \nQ 35.15625 39.890625 26.703125 39.890625 \nQ 22.75 39.890625 18.8125 39.015625 \nQ 14.890625 38.140625 10.796875 36.28125 \nz\n\" id=\"DejaVuSans-53\"/>\n      </defs>\n      <g transform=\"translate(20.878125 199.972139)scale(0.1 -0.1)\">\n       <use xlink:href=\"#DejaVuSans-53\"/>\n       <use x=\"63.623047\" xlink:href=\"#DejaVuSans-48\"/>\n      </g>\n     </g>\n    </g>\n    <g id=\"ytick_2\">\n     <g id=\"line2d_7\">\n      <g>\n       <use style=\"stroke:#000000;stroke-width:0.8;\" x=\"40.603125\" xlink:href=\"#mc57bb1d1ad\" y=\"154.541571\"/>\n      </g>\n     </g>\n     <g id=\"text_8\">\n      <!-- 60 -->\n      <g transform=\"translate(20.878125 158.34079)scale(0.1 -0.1)\">\n       <use xlink:href=\"#DejaVuSans-54\"/>\n       <use x=\"63.623047\" xlink:href=\"#DejaVuSans-48\"/>\n      </g>\n     </g>\n    </g>\n    <g id=\"ytick_3\">\n     <g id=\"line2d_8\">\n      <g>\n       <use style=\"stroke:#000000;stroke-width:0.8;\" x=\"40.603125\" xlink:href=\"#mc57bb1d1ad\" y=\"112.910222\"/>\n      </g>\n     </g>\n     <g id=\"text_9\">\n      <!-- 70 -->\n      <defs>\n       <path d=\"M 8.203125 72.90625 \nL 55.078125 72.90625 \nL 55.078125 68.703125 \nL 28.609375 0 \nL 18.3125 0 \nL 43.21875 64.59375 \nL 8.203125 64.59375 \nz\n\" id=\"DejaVuSans-55\"/>\n      </defs>\n      <g transform=\"translate(20.878125 116.709441)scale(0.1 -0.1)\">\n       <use xlink:href=\"#DejaVuSans-55\"/>\n       <use x=\"63.623047\" xlink:href=\"#DejaVuSans-48\"/>\n      </g>\n     </g>\n    </g>\n    <g id=\"ytick_4\">\n     <g id=\"line2d_9\">\n      <g>\n       <use style=\"stroke:#000000;stroke-width:0.8;\" x=\"40.603125\" xlink:href=\"#mc57bb1d1ad\" y=\"71.278873\"/>\n      </g>\n     </g>\n     <g id=\"text_10\">\n      <!-- 80 -->\n      <g transform=\"translate(20.878125 75.078091)scale(0.1 -0.1)\">\n       <use xlink:href=\"#DejaVuSans-56\"/>\n       <use x=\"63.623047\" xlink:href=\"#DejaVuSans-48\"/>\n      </g>\n     </g>\n    </g>\n    <g id=\"ytick_5\">\n     <g id=\"line2d_10\">\n      <g>\n       <use style=\"stroke:#000000;stroke-width:0.8;\" x=\"40.603125\" xlink:href=\"#mc57bb1d1ad\" y=\"29.647523\"/>\n      </g>\n     </g>\n     <g id=\"text_11\">\n      <!-- 90 -->\n      <defs>\n       <path d=\"M 10.984375 1.515625 \nL 10.984375 10.5 \nQ 14.703125 8.734375 18.5 7.8125 \nQ 22.3125 6.890625 25.984375 6.890625 \nQ 35.75 6.890625 40.890625 13.453125 \nQ 46.046875 20.015625 46.78125 33.40625 \nQ 43.953125 29.203125 39.59375 26.953125 \nQ 35.25 24.703125 29.984375 24.703125 \nQ 19.046875 24.703125 12.671875 31.3125 \nQ 6.296875 37.9375 6.296875 49.421875 \nQ 6.296875 60.640625 12.9375 67.421875 \nQ 19.578125 74.21875 30.609375 74.21875 \nQ 43.265625 74.21875 49.921875 64.515625 \nQ 56.59375 54.828125 56.59375 36.375 \nQ 56.59375 19.140625 48.40625 8.859375 \nQ 40.234375 -1.421875 26.421875 -1.421875 \nQ 22.703125 -1.421875 18.890625 -0.6875 \nQ 15.09375 0.046875 10.984375 1.515625 \nz\nM 30.609375 32.421875 \nQ 37.25 32.421875 41.125 36.953125 \nQ 45.015625 41.5 45.015625 49.421875 \nQ 45.015625 57.28125 41.125 61.84375 \nQ 37.25 66.40625 30.609375 66.40625 \nQ 23.96875 66.40625 20.09375 61.84375 \nQ 16.21875 57.28125 16.21875 49.421875 \nQ 16.21875 41.5 20.09375 36.953125 \nQ 23.96875 32.421875 30.609375 32.421875 \nz\n\" id=\"DejaVuSans-57\"/>\n      </defs>\n      <g transform=\"translate(20.878125 33.446742)scale(0.1 -0.1)\">\n       <use xlink:href=\"#DejaVuSans-57\"/>\n       <use x=\"63.623047\" xlink:href=\"#DejaVuSans-48\"/>\n      </g>\n     </g>\n    </g>\n    <g id=\"text_12\">\n     <!-- Accuracy -->\n     <defs>\n      <path d=\"M 34.1875 63.1875 \nL 20.796875 26.90625 \nL 47.609375 26.90625 \nz\nM 28.609375 72.90625 \nL 39.796875 72.90625 \nL 67.578125 0 \nL 57.328125 0 \nL 50.6875 18.703125 \nL 17.828125 18.703125 \nL 11.1875 0 \nL 0.78125 0 \nz\n\" id=\"DejaVuSans-65\"/>\n      <path d=\"M 8.5 21.578125 \nL 8.5 54.6875 \nL 17.484375 54.6875 \nL 17.484375 21.921875 \nQ 17.484375 14.15625 20.5 10.265625 \nQ 23.53125 6.390625 29.59375 6.390625 \nQ 36.859375 6.390625 41.078125 11.03125 \nQ 45.3125 15.671875 45.3125 23.6875 \nL 45.3125 54.6875 \nL 54.296875 54.6875 \nL 54.296875 0 \nL 45.3125 0 \nL 45.3125 8.40625 \nQ 42.046875 3.421875 37.71875 1 \nQ 33.40625 -1.421875 27.6875 -1.421875 \nQ 18.265625 -1.421875 13.375 4.4375 \nQ 8.5 10.296875 8.5 21.578125 \nz\nM 31.109375 56 \nz\n\" id=\"DejaVuSans-117\"/>\n      <path d=\"M 41.109375 46.296875 \nQ 39.59375 47.171875 37.8125 47.578125 \nQ 36.03125 48 33.890625 48 \nQ 26.265625 48 22.1875 43.046875 \nQ 18.109375 38.09375 18.109375 28.8125 \nL 18.109375 0 \nL 9.078125 0 \nL 9.078125 54.6875 \nL 18.109375 54.6875 \nL 18.109375 46.1875 \nQ 20.953125 51.171875 25.484375 53.578125 \nQ 30.03125 56 36.53125 56 \nQ 37.453125 56 38.578125 55.875 \nQ 39.703125 55.765625 41.0625 55.515625 \nz\n\" id=\"DejaVuSans-114\"/>\n      <path d=\"M 34.28125 27.484375 \nQ 23.390625 27.484375 19.1875 25 \nQ 14.984375 22.515625 14.984375 16.5 \nQ 14.984375 11.71875 18.140625 8.90625 \nQ 21.296875 6.109375 26.703125 6.109375 \nQ 34.1875 6.109375 38.703125 11.40625 \nQ 43.21875 16.703125 43.21875 25.484375 \nL 43.21875 27.484375 \nz\nM 52.203125 31.203125 \nL 52.203125 0 \nL 43.21875 0 \nL 43.21875 8.296875 \nQ 40.140625 3.328125 35.546875 0.953125 \nQ 30.953125 -1.421875 24.3125 -1.421875 \nQ 15.921875 -1.421875 10.953125 3.296875 \nQ 6 8.015625 6 15.921875 \nQ 6 25.140625 12.171875 29.828125 \nQ 18.359375 34.515625 30.609375 34.515625 \nL 43.21875 34.515625 \nL 43.21875 35.40625 \nQ 43.21875 41.609375 39.140625 45 \nQ 35.0625 48.390625 27.6875 48.390625 \nQ 23 48.390625 18.546875 47.265625 \nQ 14.109375 46.140625 10.015625 43.890625 \nL 10.015625 52.203125 \nQ 14.9375 54.109375 19.578125 55.046875 \nQ 24.21875 56 28.609375 56 \nQ 40.484375 56 46.34375 49.84375 \nQ 52.203125 43.703125 52.203125 31.203125 \nz\n\" id=\"DejaVuSans-97\"/>\n      <path d=\"M 32.171875 -5.078125 \nQ 28.375 -14.84375 24.75 -17.8125 \nQ 21.140625 -20.796875 15.09375 -20.796875 \nL 7.90625 -20.796875 \nL 7.90625 -13.28125 \nL 13.1875 -13.28125 \nQ 16.890625 -13.28125 18.9375 -11.515625 \nQ 21 -9.765625 23.484375 -3.21875 \nL 25.09375 0.875 \nL 2.984375 54.6875 \nL 12.5 54.6875 \nL 29.59375 11.921875 \nL 46.6875 54.6875 \nL 56.203125 54.6875 \nz\n\" id=\"DejaVuSans-121\"/>\n     </defs>\n     <g transform=\"translate(14.798438 138.834844)rotate(-90)scale(0.1 -0.1)\">\n      <use xlink:href=\"#DejaVuSans-65\"/>\n      <use x=\"68.392578\" xlink:href=\"#DejaVuSans-99\"/>\n      <use x=\"123.373047\" xlink:href=\"#DejaVuSans-99\"/>\n      <use x=\"178.353516\" xlink:href=\"#DejaVuSans-117\"/>\n      <use x=\"241.732422\" xlink:href=\"#DejaVuSans-114\"/>\n      <use x=\"282.845703\" xlink:href=\"#DejaVuSans-97\"/>\n      <use x=\"344.125\" xlink:href=\"#DejaVuSans-99\"/>\n      <use x=\"399.105469\" xlink:href=\"#DejaVuSans-121\"/>\n     </g>\n    </g>\n   </g>\n   <g id=\"line2d_11\">\n    <path clip-path=\"url(#p6ad46de783)\" d=\"M 55.821307 214.756364 \nL 59.279985 166.656563 \nL 62.738662 142.663795 \nL 66.19734 127.354844 \nL 69.656018 116.016819 \nL 73.114695 107.393255 \nL 76.573373 100.541164 \nL 80.032051 94.814599 \nL 83.490728 89.972642 \nL 86.949406 85.754082 \nL 90.408084 81.958023 \nL 93.866761 78.533264 \nL 97.325439 75.518364 \nL 100.784117 72.703217 \nL 104.242794 70.196798 \nL 107.701472 67.815014 \nL 111.16015 65.603984 \nL 114.618827 63.56158 \nL 118.077505 61.645366 \nL 121.536183 59.836477 \nL 124.994861 58.181317 \nL 128.453538 56.631894 \nL 131.912216 55.123602 \nL 135.370894 53.723683 \nL 138.829571 52.400502 \nL 142.288249 51.150024 \nL 145.746927 49.972091 \nL 149.205604 48.834433 \nL 152.664282 47.741527 \nL 156.12296 46.699949 \nL 159.581637 45.746829 \nL 163.040315 44.652304 \nL 166.498993 43.548377 \nL 169.95767 42.482056 \nL 173.416348 41.453279 \nL 176.875026 40.478973 \nL 180.333704 39.535541 \nL 183.792381 38.640514 \nL 187.251059 37.772866 \nL 190.709737 36.951559 \nL 194.168414 36.156424 \nL 197.627092 35.392384 \nL 201.08577 34.667603 \nL 204.544447 33.956955 \nL 208.003125 33.281945 \nL 211.461803 32.627675 \nL 214.92048 32.000817 \nL 218.379158 31.393396 \nL 221.837836 30.805827 \nL 225.296513 30.246717 \nL 228.755191 29.700598 \nL 232.213869 29.170678 \nL 235.672546 28.662419 \nL 239.131224 28.168294 \nL 242.589902 27.692878 \nL 246.04858 27.234517 \nL 249.507257 26.789942 \nL 252.965935 26.359501 \nL 256.424613 25.940367 \nL 259.88329 25.541243 \nL 263.341968 25.152219 \nL 266.800646 24.77047 \nL 270.259323 24.394024 \nL 273.718001 24.026535 \nL 277.176679 23.668067 \nL 280.635356 23.321288 \nL 284.094034 22.983814 \nL 287.552712 22.655139 \nL 291.011389 22.332308 \nL 294.470067 22.017259 \nL 297.928745 21.710753 \nL 301.387423 21.412094 \nL 304.8461 21.120961 \nL 308.304778 20.837897 \nL 311.763456 20.562359 \nL 315.222133 20.293429 \nL 318.680811 20.033392 \nL 322.139489 19.776023 \nL 325.598166 19.528563 \nL 329.056844 19.285964 \nL 332.515522 19.047175 \nL 335.974199 18.813025 \nL 339.432877 18.585575 \nL 342.891555 18.362001 \nL 346.350232 18.146209 \nL 349.80891 17.936578 \nL 353.267588 17.730791 \nL 356.726265 17.526401 \nL 360.184943 17.324171 \n\" style=\"fill:none;stroke:#ff0000;stroke-linecap:square;stroke-width:1.5;\"/>\n   </g>\n   <g id=\"line2d_12\">\n    <path clip-path=\"url(#p6ad46de783)\" d=\"M 55.821307 172.697432 \nL 59.279985 146.157462 \nL 62.738662 129.646836 \nL 66.19734 117.666452 \nL 69.656018 108.642304 \nL 73.114695 101.519599 \nL 76.573373 95.529534 \nL 80.032051 90.577331 \nL 83.490728 86.266025 \nL 86.949406 82.356638 \nL 90.408084 78.893352 \nL 93.866761 75.801016 \nL 97.325439 72.958617 \nL 100.784117 70.395121 \nL 104.242794 68.002443 \nL 107.701472 65.762986 \nL 111.16015 63.706542 \nL 114.618827 61.75647 \nL 118.077505 59.928143 \nL 121.536183 58.256054 \nL 124.994861 56.684651 \nL 128.453538 55.160033 \nL 131.912216 53.752873 \nL 135.370894 52.411555 \nL 138.829571 51.157393 \nL 142.288249 49.9618 \nL 145.746927 48.837672 \nL 149.205604 47.729648 \nL 152.664282 46.683814 \nL 156.12296 45.720657 \nL 159.581637 44.649128 \nL 163.040315 43.545201 \nL 166.498993 42.475577 \nL 169.95767 41.445243 \nL 173.416348 40.46198 \nL 176.875026 39.524202 \nL 180.333704 38.621456 \nL 183.792381 37.752538 \nL 187.251059 36.923449 \nL 190.709737 36.126091 \nL 194.168414 35.357732 \nL 197.627092 34.633998 \nL 201.08577 33.922557 \nL 204.544447 33.243608 \nL 208.003125 32.587941 \nL 211.461803 31.962194 \nL 214.92048 31.349596 \nL 218.379158 30.761297 \nL 221.837836 30.200154 \nL 225.296513 29.659434 \nL 228.755191 29.128466 \nL 232.213869 28.62008 \nL 235.672546 28.123605 \nL 239.131224 27.649808 \nL 242.589902 27.189542 \nL 246.04858 26.74287 \nL 249.507257 26.313827 \nL 252.965935 25.891294 \nL 256.424613 25.488962 \nL 259.88329 25.101082 \nL 263.341968 24.721873 \nL 266.800646 24.342665 \nL 270.259323 23.976859 \nL 273.718001 23.616771 \nL 277.176679 23.270563 \nL 280.635356 22.933789 \nL 284.094034 22.605939 \nL 287.552712 22.283553 \nL 291.011389 21.967741 \nL 294.470067 21.661999 \nL 297.928745 21.361687 \nL 301.387423 21.07192 \nL 304.8461 20.789364 \nL 308.304778 20.512366 \nL 311.763456 20.246071 \nL 315.222133 19.984192 \nL 318.680811 19.725997 \nL 322.139489 19.480634 \nL 325.598166 19.236669 \nL 329.056844 18.998579 \nL 332.515522 18.765445 \nL 335.974199 18.538059 \nL 339.432877 18.314517 \nL 342.891555 18.098693 \nL 346.350232 17.88776 \nL 349.80891 17.684037 \nL 353.267588 17.479203 \nL 356.726265 17.277767 \nL 360.184943 17.083636 \n\" style=\"fill:none;stroke:#0000ff;stroke-linecap:square;stroke-width:1.5;\"/>\n   </g>\n   <g id=\"patch_3\">\n    <path d=\"M 40.603125 224.64 \nL 40.603125 7.2 \n\" style=\"fill:none;stroke:#000000;stroke-linecap:square;stroke-linejoin:miter;stroke-width:0.8;\"/>\n   </g>\n   <g id=\"patch_4\">\n    <path d=\"M 375.403125 224.64 \nL 375.403125 7.2 \n\" style=\"fill:none;stroke:#000000;stroke-linecap:square;stroke-linejoin:miter;stroke-width:0.8;\"/>\n   </g>\n   <g id=\"patch_5\">\n    <path d=\"M 40.603125 224.64 \nL 375.403125 224.64 \n\" style=\"fill:none;stroke:#000000;stroke-linecap:square;stroke-linejoin:miter;stroke-width:0.8;\"/>\n   </g>\n   <g id=\"patch_6\">\n    <path d=\"M 40.603125 7.2 \nL 375.403125 7.2 \n\" style=\"fill:none;stroke:#000000;stroke-linecap:square;stroke-linejoin:miter;stroke-width:0.8;\"/>\n   </g>\n   <g id=\"legend_1\">\n    <g id=\"patch_7\">\n     <path d=\"M 47.603125 44.55625 \nL 105.04375 44.55625 \nQ 107.04375 44.55625 107.04375 42.55625 \nL 107.04375 14.2 \nQ 107.04375 12.2 105.04375 12.2 \nL 47.603125 12.2 \nQ 45.603125 12.2 45.603125 14.2 \nL 45.603125 42.55625 \nQ 45.603125 44.55625 47.603125 44.55625 \nz\n\" style=\"fill:#ffffff;opacity:0.8;stroke:#cccccc;stroke-linejoin:miter;\"/>\n    </g>\n    <g id=\"line2d_13\">\n     <path d=\"M 49.603125 20.298438 \nL 69.603125 20.298438 \n\" style=\"fill:none;stroke:#ff0000;stroke-linecap:square;stroke-width:1.5;\"/>\n    </g>\n    <g id=\"line2d_14\"/>\n    <g id=\"text_13\">\n     <!-- Train -->\n     <defs>\n      <path d=\"M -0.296875 72.90625 \nL 61.375 72.90625 \nL 61.375 64.59375 \nL 35.5 64.59375 \nL 35.5 0 \nL 25.59375 0 \nL 25.59375 64.59375 \nL -0.296875 64.59375 \nz\n\" id=\"DejaVuSans-84\"/>\n      <path d=\"M 9.421875 54.6875 \nL 18.40625 54.6875 \nL 18.40625 0 \nL 9.421875 0 \nz\nM 9.421875 75.984375 \nL 18.40625 75.984375 \nL 18.40625 64.59375 \nL 9.421875 64.59375 \nz\n\" id=\"DejaVuSans-105\"/>\n      <path d=\"M 54.890625 33.015625 \nL 54.890625 0 \nL 45.90625 0 \nL 45.90625 32.71875 \nQ 45.90625 40.484375 42.875 44.328125 \nQ 39.84375 48.1875 33.796875 48.1875 \nQ 26.515625 48.1875 22.3125 43.546875 \nQ 18.109375 38.921875 18.109375 30.90625 \nL 18.109375 0 \nL 9.078125 0 \nL 9.078125 54.6875 \nL 18.109375 54.6875 \nL 18.109375 46.1875 \nQ 21.34375 51.125 25.703125 53.5625 \nQ 30.078125 56 35.796875 56 \nQ 45.21875 56 50.046875 50.171875 \nQ 54.890625 44.34375 54.890625 33.015625 \nz\n\" id=\"DejaVuSans-110\"/>\n     </defs>\n     <g transform=\"translate(77.603125 23.798438)scale(0.1 -0.1)\">\n      <use xlink:href=\"#DejaVuSans-84\"/>\n      <use x=\"60.865234\" xlink:href=\"#DejaVuSans-114\"/>\n      <use x=\"101.978516\" xlink:href=\"#DejaVuSans-97\"/>\n      <use x=\"163.257812\" xlink:href=\"#DejaVuSans-105\"/>\n      <use x=\"191.041016\" xlink:href=\"#DejaVuSans-110\"/>\n     </g>\n    </g>\n    <g id=\"line2d_15\">\n     <path d=\"M 49.603125 34.976562 \nL 69.603125 34.976562 \n\" style=\"fill:none;stroke:#0000ff;stroke-linecap:square;stroke-width:1.5;\"/>\n    </g>\n    <g id=\"line2d_16\"/>\n    <g id=\"text_14\">\n     <!-- Val -->\n     <defs>\n      <path d=\"M 28.609375 0 \nL 0.78125 72.90625 \nL 11.078125 72.90625 \nL 34.1875 11.53125 \nL 57.328125 72.90625 \nL 67.578125 72.90625 \nL 39.796875 0 \nz\n\" id=\"DejaVuSans-86\"/>\n      <path d=\"M 9.421875 75.984375 \nL 18.40625 75.984375 \nL 18.40625 0 \nL 9.421875 0 \nz\n\" id=\"DejaVuSans-108\"/>\n     </defs>\n     <g transform=\"translate(77.603125 38.476562)scale(0.1 -0.1)\">\n      <use xlink:href=\"#DejaVuSans-86\"/>\n      <use x=\"68.298828\" xlink:href=\"#DejaVuSans-97\"/>\n      <use x=\"129.578125\" xlink:href=\"#DejaVuSans-108\"/>\n     </g>\n    </g>\n   </g>\n  </g>\n </g>\n <defs>\n  <clipPath id=\"p6ad46de783\">\n   <rect height=\"217.44\" width=\"334.8\" x=\"40.603125\" y=\"7.2\"/>\n  </clipPath>\n </defs>\n</svg>\n"
          },
          "metadata": {
            "tags": []
          }
        }
      ]
    },
    {
      "cell_type": "code",
      "metadata": {
        "id": "uDO1w_zSIX08",
        "colab_type": "code",
        "colab": {
          "base_uri": "https://localhost:8080/",
          "height": 371
        },
        "outputId": "fb26a931-f52f-4e61-b3b4-8bffe4d512c5"
      },
      "source": [
        "plt.xlabel(\"Epochs\")\n",
        "plt.ylabel(\"Losses\")\n",
        "plt.plot(ep_lookahead_losses, 'r', label='Train')\n",
        "plt.plot(ep_lookahead_lossesv, 'b', label='Val')\n",
        "plt.legend()\n",
        "plt.savefig('radam_resnet18_9301_loss.jpg')"
      ],
      "execution_count": 41,
      "outputs": [
        {
          "output_type": "display_data",
          "data": {
            "text/plain": [
              "<Figure size 432x288 with 1 Axes>"
            ],
            "image/svg+xml": "<?xml version=\"1.0\" encoding=\"utf-8\" standalone=\"no\"?>\n<!DOCTYPE svg PUBLIC \"-//W3C//DTD SVG 1.1//EN\"\n  \"http://www.w3.org/Graphics/SVG/1.1/DTD/svg11.dtd\">\n<!-- Created with matplotlib (https://matplotlib.org/) -->\n<svg height=\"262.19625pt\" version=\"1.1\" viewBox=\"0 0 385.78125 262.19625\" width=\"385.78125pt\" xmlns=\"http://www.w3.org/2000/svg\" xmlns:xlink=\"http://www.w3.org/1999/xlink\">\n <defs>\n  <style type=\"text/css\">\n*{stroke-linecap:butt;stroke-linejoin:round;}\n  </style>\n </defs>\n <g id=\"figure_1\">\n  <g id=\"patch_1\">\n   <path d=\"M 0 262.19625 \nL 385.78125 262.19625 \nL 385.78125 0 \nL 0 0 \nz\n\" style=\"fill:none;\"/>\n  </g>\n  <g id=\"axes_1\">\n   <g id=\"patch_2\">\n    <path d=\"M 43.78125 224.64 \nL 378.58125 224.64 \nL 378.58125 7.2 \nL 43.78125 7.2 \nz\n\" style=\"fill:#ffffff;\"/>\n   </g>\n   <g id=\"matplotlib.axis_1\">\n    <g id=\"xtick_1\">\n     <g id=\"line2d_1\">\n      <defs>\n       <path d=\"M 0 0 \nL 0 3.5 \n\" id=\"m1d831b0d4f\" style=\"stroke:#000000;stroke-width:0.8;\"/>\n      </defs>\n      <g>\n       <use style=\"stroke:#000000;stroke-width:0.8;\" x=\"58.999432\" xlink:href=\"#m1d831b0d4f\" y=\"224.64\"/>\n      </g>\n     </g>\n     <g id=\"text_1\">\n      <!-- 0 -->\n      <defs>\n       <path d=\"M 31.78125 66.40625 \nQ 24.171875 66.40625 20.328125 58.90625 \nQ 16.5 51.421875 16.5 36.375 \nQ 16.5 21.390625 20.328125 13.890625 \nQ 24.171875 6.390625 31.78125 6.390625 \nQ 39.453125 6.390625 43.28125 13.890625 \nQ 47.125 21.390625 47.125 36.375 \nQ 47.125 51.421875 43.28125 58.90625 \nQ 39.453125 66.40625 31.78125 66.40625 \nz\nM 31.78125 74.21875 \nQ 44.046875 74.21875 50.515625 64.515625 \nQ 56.984375 54.828125 56.984375 36.375 \nQ 56.984375 17.96875 50.515625 8.265625 \nQ 44.046875 -1.421875 31.78125 -1.421875 \nQ 19.53125 -1.421875 13.0625 8.265625 \nQ 6.59375 17.96875 6.59375 36.375 \nQ 6.59375 54.828125 13.0625 64.515625 \nQ 19.53125 74.21875 31.78125 74.21875 \nz\n\" id=\"DejaVuSans-48\"/>\n      </defs>\n      <g transform=\"translate(55.818182 239.238438)scale(0.1 -0.1)\">\n       <use xlink:href=\"#DejaVuSans-48\"/>\n      </g>\n     </g>\n    </g>\n    <g id=\"xtick_2\">\n     <g id=\"line2d_2\">\n      <g>\n       <use style=\"stroke:#000000;stroke-width:0.8;\" x=\"128.172986\" xlink:href=\"#m1d831b0d4f\" y=\"224.64\"/>\n      </g>\n     </g>\n     <g id=\"text_2\">\n      <!-- 20 -->\n      <defs>\n       <path d=\"M 19.1875 8.296875 \nL 53.609375 8.296875 \nL 53.609375 0 \nL 7.328125 0 \nL 7.328125 8.296875 \nQ 12.9375 14.109375 22.625 23.890625 \nQ 32.328125 33.6875 34.8125 36.53125 \nQ 39.546875 41.84375 41.421875 45.53125 \nQ 43.3125 49.21875 43.3125 52.78125 \nQ 43.3125 58.59375 39.234375 62.25 \nQ 35.15625 65.921875 28.609375 65.921875 \nQ 23.96875 65.921875 18.8125 64.3125 \nQ 13.671875 62.703125 7.8125 59.421875 \nL 7.8125 69.390625 \nQ 13.765625 71.78125 18.9375 73 \nQ 24.125 74.21875 28.421875 74.21875 \nQ 39.75 74.21875 46.484375 68.546875 \nQ 53.21875 62.890625 53.21875 53.421875 \nQ 53.21875 48.921875 51.53125 44.890625 \nQ 49.859375 40.875 45.40625 35.40625 \nQ 44.1875 33.984375 37.640625 27.21875 \nQ 31.109375 20.453125 19.1875 8.296875 \nz\n\" id=\"DejaVuSans-50\"/>\n      </defs>\n      <g transform=\"translate(121.810486 239.238438)scale(0.1 -0.1)\">\n       <use xlink:href=\"#DejaVuSans-50\"/>\n       <use x=\"63.623047\" xlink:href=\"#DejaVuSans-48\"/>\n      </g>\n     </g>\n    </g>\n    <g id=\"xtick_3\">\n     <g id=\"line2d_3\">\n      <g>\n       <use style=\"stroke:#000000;stroke-width:0.8;\" x=\"197.346539\" xlink:href=\"#m1d831b0d4f\" y=\"224.64\"/>\n      </g>\n     </g>\n     <g id=\"text_3\">\n      <!-- 40 -->\n      <defs>\n       <path d=\"M 37.796875 64.3125 \nL 12.890625 25.390625 \nL 37.796875 25.390625 \nz\nM 35.203125 72.90625 \nL 47.609375 72.90625 \nL 47.609375 25.390625 \nL 58.015625 25.390625 \nL 58.015625 17.1875 \nL 47.609375 17.1875 \nL 47.609375 0 \nL 37.796875 0 \nL 37.796875 17.1875 \nL 4.890625 17.1875 \nL 4.890625 26.703125 \nz\n\" id=\"DejaVuSans-52\"/>\n      </defs>\n      <g transform=\"translate(190.984039 239.238438)scale(0.1 -0.1)\">\n       <use xlink:href=\"#DejaVuSans-52\"/>\n       <use x=\"63.623047\" xlink:href=\"#DejaVuSans-48\"/>\n      </g>\n     </g>\n    </g>\n    <g id=\"xtick_4\">\n     <g id=\"line2d_4\">\n      <g>\n       <use style=\"stroke:#000000;stroke-width:0.8;\" x=\"266.520093\" xlink:href=\"#m1d831b0d4f\" y=\"224.64\"/>\n      </g>\n     </g>\n     <g id=\"text_4\">\n      <!-- 60 -->\n      <defs>\n       <path d=\"M 33.015625 40.375 \nQ 26.375 40.375 22.484375 35.828125 \nQ 18.609375 31.296875 18.609375 23.390625 \nQ 18.609375 15.53125 22.484375 10.953125 \nQ 26.375 6.390625 33.015625 6.390625 \nQ 39.65625 6.390625 43.53125 10.953125 \nQ 47.40625 15.53125 47.40625 23.390625 \nQ 47.40625 31.296875 43.53125 35.828125 \nQ 39.65625 40.375 33.015625 40.375 \nz\nM 52.59375 71.296875 \nL 52.59375 62.3125 \nQ 48.875 64.0625 45.09375 64.984375 \nQ 41.3125 65.921875 37.59375 65.921875 \nQ 27.828125 65.921875 22.671875 59.328125 \nQ 17.53125 52.734375 16.796875 39.40625 \nQ 19.671875 43.65625 24.015625 45.921875 \nQ 28.375 48.1875 33.59375 48.1875 \nQ 44.578125 48.1875 50.953125 41.515625 \nQ 57.328125 34.859375 57.328125 23.390625 \nQ 57.328125 12.15625 50.6875 5.359375 \nQ 44.046875 -1.421875 33.015625 -1.421875 \nQ 20.359375 -1.421875 13.671875 8.265625 \nQ 6.984375 17.96875 6.984375 36.375 \nQ 6.984375 53.65625 15.1875 63.9375 \nQ 23.390625 74.21875 37.203125 74.21875 \nQ 40.921875 74.21875 44.703125 73.484375 \nQ 48.484375 72.75 52.59375 71.296875 \nz\n\" id=\"DejaVuSans-54\"/>\n      </defs>\n      <g transform=\"translate(260.157593 239.238438)scale(0.1 -0.1)\">\n       <use xlink:href=\"#DejaVuSans-54\"/>\n       <use x=\"63.623047\" xlink:href=\"#DejaVuSans-48\"/>\n      </g>\n     </g>\n    </g>\n    <g id=\"xtick_5\">\n     <g id=\"line2d_5\">\n      <g>\n       <use style=\"stroke:#000000;stroke-width:0.8;\" x=\"335.693647\" xlink:href=\"#m1d831b0d4f\" y=\"224.64\"/>\n      </g>\n     </g>\n     <g id=\"text_5\">\n      <!-- 80 -->\n      <defs>\n       <path d=\"M 31.78125 34.625 \nQ 24.75 34.625 20.71875 30.859375 \nQ 16.703125 27.09375 16.703125 20.515625 \nQ 16.703125 13.921875 20.71875 10.15625 \nQ 24.75 6.390625 31.78125 6.390625 \nQ 38.8125 6.390625 42.859375 10.171875 \nQ 46.921875 13.96875 46.921875 20.515625 \nQ 46.921875 27.09375 42.890625 30.859375 \nQ 38.875 34.625 31.78125 34.625 \nz\nM 21.921875 38.8125 \nQ 15.578125 40.375 12.03125 44.71875 \nQ 8.5 49.078125 8.5 55.328125 \nQ 8.5 64.0625 14.71875 69.140625 \nQ 20.953125 74.21875 31.78125 74.21875 \nQ 42.671875 74.21875 48.875 69.140625 \nQ 55.078125 64.0625 55.078125 55.328125 \nQ 55.078125 49.078125 51.53125 44.71875 \nQ 48 40.375 41.703125 38.8125 \nQ 48.828125 37.15625 52.796875 32.3125 \nQ 56.78125 27.484375 56.78125 20.515625 \nQ 56.78125 9.90625 50.3125 4.234375 \nQ 43.84375 -1.421875 31.78125 -1.421875 \nQ 19.734375 -1.421875 13.25 4.234375 \nQ 6.78125 9.90625 6.78125 20.515625 \nQ 6.78125 27.484375 10.78125 32.3125 \nQ 14.796875 37.15625 21.921875 38.8125 \nz\nM 18.3125 54.390625 \nQ 18.3125 48.734375 21.84375 45.5625 \nQ 25.390625 42.390625 31.78125 42.390625 \nQ 38.140625 42.390625 41.71875 45.5625 \nQ 45.3125 48.734375 45.3125 54.390625 \nQ 45.3125 60.0625 41.71875 63.234375 \nQ 38.140625 66.40625 31.78125 66.40625 \nQ 25.390625 66.40625 21.84375 63.234375 \nQ 18.3125 60.0625 18.3125 54.390625 \nz\n\" id=\"DejaVuSans-56\"/>\n      </defs>\n      <g transform=\"translate(329.331147 239.238438)scale(0.1 -0.1)\">\n       <use xlink:href=\"#DejaVuSans-56\"/>\n       <use x=\"63.623047\" xlink:href=\"#DejaVuSans-48\"/>\n      </g>\n     </g>\n    </g>\n    <g id=\"text_6\">\n     <!-- Epochs -->\n     <defs>\n      <path d=\"M 9.8125 72.90625 \nL 55.90625 72.90625 \nL 55.90625 64.59375 \nL 19.671875 64.59375 \nL 19.671875 43.015625 \nL 54.390625 43.015625 \nL 54.390625 34.71875 \nL 19.671875 34.71875 \nL 19.671875 8.296875 \nL 56.78125 8.296875 \nL 56.78125 0 \nL 9.8125 0 \nz\n\" id=\"DejaVuSans-69\"/>\n      <path d=\"M 18.109375 8.203125 \nL 18.109375 -20.796875 \nL 9.078125 -20.796875 \nL 9.078125 54.6875 \nL 18.109375 54.6875 \nL 18.109375 46.390625 \nQ 20.953125 51.265625 25.265625 53.625 \nQ 29.59375 56 35.59375 56 \nQ 45.5625 56 51.78125 48.09375 \nQ 58.015625 40.1875 58.015625 27.296875 \nQ 58.015625 14.40625 51.78125 6.484375 \nQ 45.5625 -1.421875 35.59375 -1.421875 \nQ 29.59375 -1.421875 25.265625 0.953125 \nQ 20.953125 3.328125 18.109375 8.203125 \nz\nM 48.6875 27.296875 \nQ 48.6875 37.203125 44.609375 42.84375 \nQ 40.53125 48.484375 33.40625 48.484375 \nQ 26.265625 48.484375 22.1875 42.84375 \nQ 18.109375 37.203125 18.109375 27.296875 \nQ 18.109375 17.390625 22.1875 11.75 \nQ 26.265625 6.109375 33.40625 6.109375 \nQ 40.53125 6.109375 44.609375 11.75 \nQ 48.6875 17.390625 48.6875 27.296875 \nz\n\" id=\"DejaVuSans-112\"/>\n      <path d=\"M 30.609375 48.390625 \nQ 23.390625 48.390625 19.1875 42.75 \nQ 14.984375 37.109375 14.984375 27.296875 \nQ 14.984375 17.484375 19.15625 11.84375 \nQ 23.34375 6.203125 30.609375 6.203125 \nQ 37.796875 6.203125 41.984375 11.859375 \nQ 46.1875 17.53125 46.1875 27.296875 \nQ 46.1875 37.015625 41.984375 42.703125 \nQ 37.796875 48.390625 30.609375 48.390625 \nz\nM 30.609375 56 \nQ 42.328125 56 49.015625 48.375 \nQ 55.71875 40.765625 55.71875 27.296875 \nQ 55.71875 13.875 49.015625 6.21875 \nQ 42.328125 -1.421875 30.609375 -1.421875 \nQ 18.84375 -1.421875 12.171875 6.21875 \nQ 5.515625 13.875 5.515625 27.296875 \nQ 5.515625 40.765625 12.171875 48.375 \nQ 18.84375 56 30.609375 56 \nz\n\" id=\"DejaVuSans-111\"/>\n      <path d=\"M 48.78125 52.59375 \nL 48.78125 44.1875 \nQ 44.96875 46.296875 41.140625 47.34375 \nQ 37.3125 48.390625 33.40625 48.390625 \nQ 24.65625 48.390625 19.8125 42.84375 \nQ 14.984375 37.3125 14.984375 27.296875 \nQ 14.984375 17.28125 19.8125 11.734375 \nQ 24.65625 6.203125 33.40625 6.203125 \nQ 37.3125 6.203125 41.140625 7.25 \nQ 44.96875 8.296875 48.78125 10.40625 \nL 48.78125 2.09375 \nQ 45.015625 0.34375 40.984375 -0.53125 \nQ 36.96875 -1.421875 32.421875 -1.421875 \nQ 20.0625 -1.421875 12.78125 6.34375 \nQ 5.515625 14.109375 5.515625 27.296875 \nQ 5.515625 40.671875 12.859375 48.328125 \nQ 20.21875 56 33.015625 56 \nQ 37.15625 56 41.109375 55.140625 \nQ 45.0625 54.296875 48.78125 52.59375 \nz\n\" id=\"DejaVuSans-99\"/>\n      <path d=\"M 54.890625 33.015625 \nL 54.890625 0 \nL 45.90625 0 \nL 45.90625 32.71875 \nQ 45.90625 40.484375 42.875 44.328125 \nQ 39.84375 48.1875 33.796875 48.1875 \nQ 26.515625 48.1875 22.3125 43.546875 \nQ 18.109375 38.921875 18.109375 30.90625 \nL 18.109375 0 \nL 9.078125 0 \nL 9.078125 75.984375 \nL 18.109375 75.984375 \nL 18.109375 46.1875 \nQ 21.34375 51.125 25.703125 53.5625 \nQ 30.078125 56 35.796875 56 \nQ 45.21875 56 50.046875 50.171875 \nQ 54.890625 44.34375 54.890625 33.015625 \nz\n\" id=\"DejaVuSans-104\"/>\n      <path d=\"M 44.28125 53.078125 \nL 44.28125 44.578125 \nQ 40.484375 46.53125 36.375 47.5 \nQ 32.28125 48.484375 27.875 48.484375 \nQ 21.1875 48.484375 17.84375 46.4375 \nQ 14.5 44.390625 14.5 40.28125 \nQ 14.5 37.15625 16.890625 35.375 \nQ 19.28125 33.59375 26.515625 31.984375 \nL 29.59375 31.296875 \nQ 39.15625 29.25 43.1875 25.515625 \nQ 47.21875 21.78125 47.21875 15.09375 \nQ 47.21875 7.46875 41.1875 3.015625 \nQ 35.15625 -1.421875 24.609375 -1.421875 \nQ 20.21875 -1.421875 15.453125 -0.5625 \nQ 10.6875 0.296875 5.421875 2 \nL 5.421875 11.28125 \nQ 10.40625 8.6875 15.234375 7.390625 \nQ 20.0625 6.109375 24.8125 6.109375 \nQ 31.15625 6.109375 34.5625 8.28125 \nQ 37.984375 10.453125 37.984375 14.40625 \nQ 37.984375 18.0625 35.515625 20.015625 \nQ 33.0625 21.96875 24.703125 23.78125 \nL 21.578125 24.515625 \nQ 13.234375 26.265625 9.515625 29.90625 \nQ 5.8125 33.546875 5.8125 39.890625 \nQ 5.8125 47.609375 11.28125 51.796875 \nQ 16.75 56 26.8125 56 \nQ 31.78125 56 36.171875 55.265625 \nQ 40.578125 54.546875 44.28125 53.078125 \nz\n\" id=\"DejaVuSans-115\"/>\n     </defs>\n     <g transform=\"translate(193.265625 252.916563)scale(0.1 -0.1)\">\n      <use xlink:href=\"#DejaVuSans-69\"/>\n      <use x=\"63.183594\" xlink:href=\"#DejaVuSans-112\"/>\n      <use x=\"126.660156\" xlink:href=\"#DejaVuSans-111\"/>\n      <use x=\"187.841797\" xlink:href=\"#DejaVuSans-99\"/>\n      <use x=\"242.822266\" xlink:href=\"#DejaVuSans-104\"/>\n      <use x=\"306.201172\" xlink:href=\"#DejaVuSans-115\"/>\n     </g>\n    </g>\n   </g>\n   <g id=\"matplotlib.axis_2\">\n    <g id=\"ytick_1\">\n     <g id=\"line2d_6\">\n      <defs>\n       <path d=\"M 0 0 \nL -3.5 0 \n\" id=\"m2bfaec36d1\" style=\"stroke:#000000;stroke-width:0.8;\"/>\n      </defs>\n      <g>\n       <use style=\"stroke:#000000;stroke-width:0.8;\" x=\"43.78125\" xlink:href=\"#m2bfaec36d1\" y=\"215.311309\"/>\n      </g>\n     </g>\n     <g id=\"text_7\">\n      <!-- 0.0 -->\n      <defs>\n       <path d=\"M 10.6875 12.40625 \nL 21 12.40625 \nL 21 0 \nL 10.6875 0 \nz\n\" id=\"DejaVuSans-46\"/>\n      </defs>\n      <g transform=\"translate(20.878125 219.110528)scale(0.1 -0.1)\">\n       <use xlink:href=\"#DejaVuSans-48\"/>\n       <use x=\"63.623047\" xlink:href=\"#DejaVuSans-46\"/>\n       <use x=\"95.410156\" xlink:href=\"#DejaVuSans-48\"/>\n      </g>\n     </g>\n    </g>\n    <g id=\"ytick_2\">\n     <g id=\"line2d_7\">\n      <g>\n       <use style=\"stroke:#000000;stroke-width:0.8;\" x=\"43.78125\" xlink:href=\"#m2bfaec36d1\" y=\"181.732953\"/>\n      </g>\n     </g>\n     <g id=\"text_8\">\n      <!-- 0.2 -->\n      <g transform=\"translate(20.878125 185.532172)scale(0.1 -0.1)\">\n       <use xlink:href=\"#DejaVuSans-48\"/>\n       <use x=\"63.623047\" xlink:href=\"#DejaVuSans-46\"/>\n       <use x=\"95.410156\" xlink:href=\"#DejaVuSans-50\"/>\n      </g>\n     </g>\n    </g>\n    <g id=\"ytick_3\">\n     <g id=\"line2d_8\">\n      <g>\n       <use style=\"stroke:#000000;stroke-width:0.8;\" x=\"43.78125\" xlink:href=\"#m2bfaec36d1\" y=\"148.154597\"/>\n      </g>\n     </g>\n     <g id=\"text_9\">\n      <!-- 0.4 -->\n      <g transform=\"translate(20.878125 151.953816)scale(0.1 -0.1)\">\n       <use xlink:href=\"#DejaVuSans-48\"/>\n       <use x=\"63.623047\" xlink:href=\"#DejaVuSans-46\"/>\n       <use x=\"95.410156\" xlink:href=\"#DejaVuSans-52\"/>\n      </g>\n     </g>\n    </g>\n    <g id=\"ytick_4\">\n     <g id=\"line2d_9\">\n      <g>\n       <use style=\"stroke:#000000;stroke-width:0.8;\" x=\"43.78125\" xlink:href=\"#m2bfaec36d1\" y=\"114.576242\"/>\n      </g>\n     </g>\n     <g id=\"text_10\">\n      <!-- 0.6 -->\n      <g transform=\"translate(20.878125 118.37546)scale(0.1 -0.1)\">\n       <use xlink:href=\"#DejaVuSans-48\"/>\n       <use x=\"63.623047\" xlink:href=\"#DejaVuSans-46\"/>\n       <use x=\"95.410156\" xlink:href=\"#DejaVuSans-54\"/>\n      </g>\n     </g>\n    </g>\n    <g id=\"ytick_5\">\n     <g id=\"line2d_10\">\n      <g>\n       <use style=\"stroke:#000000;stroke-width:0.8;\" x=\"43.78125\" xlink:href=\"#m2bfaec36d1\" y=\"80.997886\"/>\n      </g>\n     </g>\n     <g id=\"text_11\">\n      <!-- 0.8 -->\n      <g transform=\"translate(20.878125 84.797105)scale(0.1 -0.1)\">\n       <use xlink:href=\"#DejaVuSans-48\"/>\n       <use x=\"63.623047\" xlink:href=\"#DejaVuSans-46\"/>\n       <use x=\"95.410156\" xlink:href=\"#DejaVuSans-56\"/>\n      </g>\n     </g>\n    </g>\n    <g id=\"ytick_6\">\n     <g id=\"line2d_11\">\n      <g>\n       <use style=\"stroke:#000000;stroke-width:0.8;\" x=\"43.78125\" xlink:href=\"#m2bfaec36d1\" y=\"47.41953\"/>\n      </g>\n     </g>\n     <g id=\"text_12\">\n      <!-- 1.0 -->\n      <defs>\n       <path d=\"M 12.40625 8.296875 \nL 28.515625 8.296875 \nL 28.515625 63.921875 \nL 10.984375 60.40625 \nL 10.984375 69.390625 \nL 28.421875 72.90625 \nL 38.28125 72.90625 \nL 38.28125 8.296875 \nL 54.390625 8.296875 \nL 54.390625 0 \nL 12.40625 0 \nz\n\" id=\"DejaVuSans-49\"/>\n      </defs>\n      <g transform=\"translate(20.878125 51.218749)scale(0.1 -0.1)\">\n       <use xlink:href=\"#DejaVuSans-49\"/>\n       <use x=\"63.623047\" xlink:href=\"#DejaVuSans-46\"/>\n       <use x=\"95.410156\" xlink:href=\"#DejaVuSans-48\"/>\n      </g>\n     </g>\n    </g>\n    <g id=\"ytick_7\">\n     <g id=\"line2d_12\">\n      <g>\n       <use style=\"stroke:#000000;stroke-width:0.8;\" x=\"43.78125\" xlink:href=\"#m2bfaec36d1\" y=\"13.841174\"/>\n      </g>\n     </g>\n     <g id=\"text_13\">\n      <!-- 1.2 -->\n      <g transform=\"translate(20.878125 17.640393)scale(0.1 -0.1)\">\n       <use xlink:href=\"#DejaVuSans-49\"/>\n       <use x=\"63.623047\" xlink:href=\"#DejaVuSans-46\"/>\n       <use x=\"95.410156\" xlink:href=\"#DejaVuSans-50\"/>\n      </g>\n     </g>\n    </g>\n    <g id=\"text_14\">\n     <!-- Losses -->\n     <defs>\n      <path d=\"M 9.8125 72.90625 \nL 19.671875 72.90625 \nL 19.671875 8.296875 \nL 55.171875 8.296875 \nL 55.171875 0 \nL 9.8125 0 \nz\n\" id=\"DejaVuSans-76\"/>\n      <path d=\"M 56.203125 29.59375 \nL 56.203125 25.203125 \nL 14.890625 25.203125 \nQ 15.484375 15.921875 20.484375 11.0625 \nQ 25.484375 6.203125 34.421875 6.203125 \nQ 39.59375 6.203125 44.453125 7.46875 \nQ 49.3125 8.734375 54.109375 11.28125 \nL 54.109375 2.78125 \nQ 49.265625 0.734375 44.1875 -0.34375 \nQ 39.109375 -1.421875 33.890625 -1.421875 \nQ 20.796875 -1.421875 13.15625 6.1875 \nQ 5.515625 13.8125 5.515625 26.8125 \nQ 5.515625 40.234375 12.765625 48.109375 \nQ 20.015625 56 32.328125 56 \nQ 43.359375 56 49.78125 48.890625 \nQ 56.203125 41.796875 56.203125 29.59375 \nz\nM 47.21875 32.234375 \nQ 47.125 39.59375 43.09375 43.984375 \nQ 39.0625 48.390625 32.421875 48.390625 \nQ 24.90625 48.390625 20.390625 44.140625 \nQ 15.875 39.890625 15.1875 32.171875 \nz\n\" id=\"DejaVuSans-101\"/>\n     </defs>\n     <g transform=\"translate(14.798438 132.655156)rotate(-90)scale(0.1 -0.1)\">\n      <use xlink:href=\"#DejaVuSans-76\"/>\n      <use x=\"55.697266\" xlink:href=\"#DejaVuSans-111\"/>\n      <use x=\"116.878906\" xlink:href=\"#DejaVuSans-115\"/>\n      <use x=\"168.978516\" xlink:href=\"#DejaVuSans-115\"/>\n      <use x=\"221.078125\" xlink:href=\"#DejaVuSans-101\"/>\n      <use x=\"282.601562\" xlink:href=\"#DejaVuSans-115\"/>\n     </g>\n    </g>\n   </g>\n   <g id=\"line2d_13\">\n    <path clip-path=\"url(#p1653bdc3e6)\" d=\"M 58.999432 17.083636 \nL 62.45811 93.878101 \nL 65.916787 104.203928 \nL 69.375465 100.52972 \nL 72.834143 122.121934 \nL 76.29282 145.062083 \nL 79.751498 142.111396 \nL 83.210176 145.565432 \nL 86.668853 168.676353 \nL 90.127531 148.852143 \nL 93.586209 161.821759 \nL 97.044886 175.194864 \nL 100.503564 160.345452 \nL 103.962242 169.916952 \nL 107.420919 160.880293 \nL 110.879597 184.982626 \nL 114.338275 167.224874 \nL 117.796952 191.650246 \nL 121.25563 175.112413 \nL 124.714308 173.3744 \nL 128.172986 194.416377 \nL 131.631663 192.485992 \nL 135.090341 181.487991 \nL 138.549019 177.855975 \nL 142.007696 187.975643 \nL 145.466374 192.426637 \nL 148.925052 190.534861 \nL 152.383729 191.123383 \nL 155.842407 195.532493 \nL 159.301085 199.49317 \nL 162.759762 194.544596 \nL 166.21844 188.354723 \nL 169.677118 201.783419 \nL 173.135795 199.598335 \nL 176.594473 210.723338 \nL 180.053151 209.457618 \nL 183.511829 204.486251 \nL 186.970506 196.506057 \nL 190.429184 206.045493 \nL 193.887862 205.507326 \nL 197.346539 209.599526 \nL 200.805217 194.009447 \nL 204.263895 209.12944 \nL 207.722572 209.328305 \nL 211.18125 207.303951 \nL 214.639928 202.599906 \nL 218.098605 205.90592 \nL 221.557283 206.046675 \nL 225.015961 204.122741 \nL 228.474638 196.444104 \nL 231.933316 206.10937 \nL 235.391994 213.667363 \nL 238.850671 205.404067 \nL 242.309349 213.098584 \nL 245.768027 203.653556 \nL 249.226705 211.599829 \nL 252.685382 205.391708 \nL 256.14406 206.369843 \nL 259.602738 201.012969 \nL 263.061415 209.314292 \nL 266.520093 212.611491 \nL 269.978771 213.740732 \nL 273.437448 214.226666 \nL 276.896126 210.978223 \nL 280.354804 212.941287 \nL 283.813481 210.222678 \nL 287.272159 213.347286 \nL 290.730837 209.8158 \nL 294.189514 210.017104 \nL 297.648192 212.497057 \nL 301.10687 214.434851 \nL 304.565548 210.673611 \nL 308.024225 208.920513 \nL 311.482903 210.456837 \nL 314.941581 214.253116 \nL 318.400258 213.735364 \nL 321.858936 210.196925 \nL 325.317614 207.569595 \nL 328.776291 214.756364 \nL 332.234969 213.41242 \nL 335.693647 204.643171 \nL 339.152324 209.991313 \nL 342.611002 210.368984 \nL 346.06968 211.423562 \nL 349.528357 211.412847 \nL 352.987035 207.388096 \nL 356.445713 214.475077 \nL 359.90439 211.662207 \nL 363.363068 201.330094 \n\" style=\"fill:none;stroke:#ff0000;stroke-linecap:square;stroke-width:1.5;\"/>\n   </g>\n   <g id=\"line2d_14\">\n    <path clip-path=\"url(#p1653bdc3e6)\" d=\"M 58.999432 99.57565 \nL 62.45811 115.777193 \nL 65.916787 125.236653 \nL 69.375465 129.585952 \nL 72.834143 132.537685 \nL 76.29282 135.870769 \nL 79.751498 140.263389 \nL 83.210176 138.889815 \nL 86.668853 146.144604 \nL 90.127531 139.327908 \nL 93.586209 147.731555 \nL 97.044886 145.294123 \nL 100.503564 153.394615 \nL 103.962242 140.821517 \nL 107.420919 141.203494 \nL 110.879597 147.582749 \nL 114.338275 154.836082 \nL 117.796952 152.252906 \nL 121.25563 144.015743 \nL 124.714308 148.749245 \nL 128.172986 148.511316 \nL 131.631663 149.857019 \nL 135.090341 151.780895 \nL 138.549019 145.420083 \nL 142.007696 160.845984 \nL 145.466374 142.861195 \nL 148.925052 160.25857 \nL 152.383729 136.518166 \nL 155.842407 133.654696 \nL 159.301085 139.158327 \nL 162.759762 145.440578 \nL 166.21844 135.710816 \nL 169.677118 135.235477 \nL 173.135795 134.528018 \nL 176.594473 136.284599 \nL 180.053151 137.820338 \nL 183.511829 133.811792 \nL 186.970506 135.147929 \nL 190.429184 137.835519 \nL 193.887862 136.380112 \nL 197.346539 135.399304 \nL 200.805217 137.033118 \nL 204.263895 134.496635 \nL 207.722572 142.597202 \nL 211.18125 143.850255 \nL 214.639928 144.996536 \nL 218.098605 136.348135 \nL 221.557283 141.000579 \nL 225.015961 131.761682 \nL 228.474638 131.962905 \nL 231.933316 134.988181 \nL 235.391994 125.860527 \nL 238.850671 122.150724 \nL 242.309349 137.408435 \nL 245.768027 127.926089 \nL 249.226705 129.166153 \nL 252.685382 138.126176 \nL 256.14406 129.761677 \nL 259.602738 122.222906 \nL 263.061415 123.558978 \nL 266.520093 126.77665 \nL 269.978771 124.585569 \nL 273.437448 125.494917 \nL 276.896126 128.209161 \nL 280.354804 125.370378 \nL 283.813481 128.85324 \nL 287.272159 129.409446 \nL 290.730837 127.935866 \nL 294.189514 125.45762 \nL 297.648192 129.546694 \nL 301.10687 127.904264 \nL 304.565548 126.014807 \nL 308.024225 126.175862 \nL 311.482903 128.722987 \nL 314.941581 123.448919 \nL 318.400258 125.784693 \nL 321.858936 127.798128 \nL 325.317614 127.079496 \nL 328.776291 125.225455 \nL 332.234969 126.017369 \nL 335.693647 124.750797 \nL 339.152324 126.057588 \nL 342.611002 126.822373 \nL 346.06968 124.706315 \nL 349.528357 124.327905 \nL 352.987035 129.386159 \nL 356.445713 123.176975 \nL 359.90439 121.935371 \nL 363.363068 128.791496 \n\" style=\"fill:none;stroke:#0000ff;stroke-linecap:square;stroke-width:1.5;\"/>\n   </g>\n   <g id=\"patch_3\">\n    <path d=\"M 43.78125 224.64 \nL 43.78125 7.2 \n\" style=\"fill:none;stroke:#000000;stroke-linecap:square;stroke-linejoin:miter;stroke-width:0.8;\"/>\n   </g>\n   <g id=\"patch_4\">\n    <path d=\"M 378.58125 224.64 \nL 378.58125 7.2 \n\" style=\"fill:none;stroke:#000000;stroke-linecap:square;stroke-linejoin:miter;stroke-width:0.8;\"/>\n   </g>\n   <g id=\"patch_5\">\n    <path d=\"M 43.78125 224.64 \nL 378.58125 224.64 \n\" style=\"fill:none;stroke:#000000;stroke-linecap:square;stroke-linejoin:miter;stroke-width:0.8;\"/>\n   </g>\n   <g id=\"patch_6\">\n    <path d=\"M 43.78125 7.2 \nL 378.58125 7.2 \n\" style=\"fill:none;stroke:#000000;stroke-linecap:square;stroke-linejoin:miter;stroke-width:0.8;\"/>\n   </g>\n   <g id=\"legend_1\">\n    <g id=\"patch_7\">\n     <path d=\"M 314.140625 44.55625 \nL 371.58125 44.55625 \nQ 373.58125 44.55625 373.58125 42.55625 \nL 373.58125 14.2 \nQ 373.58125 12.2 371.58125 12.2 \nL 314.140625 12.2 \nQ 312.140625 12.2 312.140625 14.2 \nL 312.140625 42.55625 \nQ 312.140625 44.55625 314.140625 44.55625 \nz\n\" style=\"fill:#ffffff;opacity:0.8;stroke:#cccccc;stroke-linejoin:miter;\"/>\n    </g>\n    <g id=\"line2d_15\">\n     <path d=\"M 316.140625 20.298438 \nL 336.140625 20.298438 \n\" style=\"fill:none;stroke:#ff0000;stroke-linecap:square;stroke-width:1.5;\"/>\n    </g>\n    <g id=\"line2d_16\"/>\n    <g id=\"text_15\">\n     <!-- Train -->\n     <defs>\n      <path d=\"M -0.296875 72.90625 \nL 61.375 72.90625 \nL 61.375 64.59375 \nL 35.5 64.59375 \nL 35.5 0 \nL 25.59375 0 \nL 25.59375 64.59375 \nL -0.296875 64.59375 \nz\n\" id=\"DejaVuSans-84\"/>\n      <path d=\"M 41.109375 46.296875 \nQ 39.59375 47.171875 37.8125 47.578125 \nQ 36.03125 48 33.890625 48 \nQ 26.265625 48 22.1875 43.046875 \nQ 18.109375 38.09375 18.109375 28.8125 \nL 18.109375 0 \nL 9.078125 0 \nL 9.078125 54.6875 \nL 18.109375 54.6875 \nL 18.109375 46.1875 \nQ 20.953125 51.171875 25.484375 53.578125 \nQ 30.03125 56 36.53125 56 \nQ 37.453125 56 38.578125 55.875 \nQ 39.703125 55.765625 41.0625 55.515625 \nz\n\" id=\"DejaVuSans-114\"/>\n      <path d=\"M 34.28125 27.484375 \nQ 23.390625 27.484375 19.1875 25 \nQ 14.984375 22.515625 14.984375 16.5 \nQ 14.984375 11.71875 18.140625 8.90625 \nQ 21.296875 6.109375 26.703125 6.109375 \nQ 34.1875 6.109375 38.703125 11.40625 \nQ 43.21875 16.703125 43.21875 25.484375 \nL 43.21875 27.484375 \nz\nM 52.203125 31.203125 \nL 52.203125 0 \nL 43.21875 0 \nL 43.21875 8.296875 \nQ 40.140625 3.328125 35.546875 0.953125 \nQ 30.953125 -1.421875 24.3125 -1.421875 \nQ 15.921875 -1.421875 10.953125 3.296875 \nQ 6 8.015625 6 15.921875 \nQ 6 25.140625 12.171875 29.828125 \nQ 18.359375 34.515625 30.609375 34.515625 \nL 43.21875 34.515625 \nL 43.21875 35.40625 \nQ 43.21875 41.609375 39.140625 45 \nQ 35.0625 48.390625 27.6875 48.390625 \nQ 23 48.390625 18.546875 47.265625 \nQ 14.109375 46.140625 10.015625 43.890625 \nL 10.015625 52.203125 \nQ 14.9375 54.109375 19.578125 55.046875 \nQ 24.21875 56 28.609375 56 \nQ 40.484375 56 46.34375 49.84375 \nQ 52.203125 43.703125 52.203125 31.203125 \nz\n\" id=\"DejaVuSans-97\"/>\n      <path d=\"M 9.421875 54.6875 \nL 18.40625 54.6875 \nL 18.40625 0 \nL 9.421875 0 \nz\nM 9.421875 75.984375 \nL 18.40625 75.984375 \nL 18.40625 64.59375 \nL 9.421875 64.59375 \nz\n\" id=\"DejaVuSans-105\"/>\n      <path d=\"M 54.890625 33.015625 \nL 54.890625 0 \nL 45.90625 0 \nL 45.90625 32.71875 \nQ 45.90625 40.484375 42.875 44.328125 \nQ 39.84375 48.1875 33.796875 48.1875 \nQ 26.515625 48.1875 22.3125 43.546875 \nQ 18.109375 38.921875 18.109375 30.90625 \nL 18.109375 0 \nL 9.078125 0 \nL 9.078125 54.6875 \nL 18.109375 54.6875 \nL 18.109375 46.1875 \nQ 21.34375 51.125 25.703125 53.5625 \nQ 30.078125 56 35.796875 56 \nQ 45.21875 56 50.046875 50.171875 \nQ 54.890625 44.34375 54.890625 33.015625 \nz\n\" id=\"DejaVuSans-110\"/>\n     </defs>\n     <g transform=\"translate(344.140625 23.798438)scale(0.1 -0.1)\">\n      <use xlink:href=\"#DejaVuSans-84\"/>\n      <use x=\"60.865234\" xlink:href=\"#DejaVuSans-114\"/>\n      <use x=\"101.978516\" xlink:href=\"#DejaVuSans-97\"/>\n      <use x=\"163.257812\" xlink:href=\"#DejaVuSans-105\"/>\n      <use x=\"191.041016\" xlink:href=\"#DejaVuSans-110\"/>\n     </g>\n    </g>\n    <g id=\"line2d_17\">\n     <path d=\"M 316.140625 34.976562 \nL 336.140625 34.976562 \n\" style=\"fill:none;stroke:#0000ff;stroke-linecap:square;stroke-width:1.5;\"/>\n    </g>\n    <g id=\"line2d_18\"/>\n    <g id=\"text_16\">\n     <!-- Val -->\n     <defs>\n      <path d=\"M 28.609375 0 \nL 0.78125 72.90625 \nL 11.078125 72.90625 \nL 34.1875 11.53125 \nL 57.328125 72.90625 \nL 67.578125 72.90625 \nL 39.796875 0 \nz\n\" id=\"DejaVuSans-86\"/>\n      <path d=\"M 9.421875 75.984375 \nL 18.40625 75.984375 \nL 18.40625 0 \nL 9.421875 0 \nz\n\" id=\"DejaVuSans-108\"/>\n     </defs>\n     <g transform=\"translate(344.140625 38.476562)scale(0.1 -0.1)\">\n      <use xlink:href=\"#DejaVuSans-86\"/>\n      <use x=\"68.298828\" xlink:href=\"#DejaVuSans-97\"/>\n      <use x=\"129.578125\" xlink:href=\"#DejaVuSans-108\"/>\n     </g>\n    </g>\n   </g>\n  </g>\n </g>\n <defs>\n  <clipPath id=\"p1653bdc3e6\">\n   <rect height=\"217.44\" width=\"334.8\" x=\"43.78125\" y=\"7.2\"/>\n  </clipPath>\n </defs>\n</svg>\n"
          },
          "metadata": {
            "tags": []
          }
        }
      ]
    },
    {
      "cell_type": "code",
      "metadata": {
        "id": "Qf2xc-E0Jj4g",
        "colab_type": "code",
        "colab": {}
      },
      "source": [
        "from google.colab import files\n",
        "files.download('./radam_resnet18_9301.pth.tar')\n",
        "files.download('./radam_resnet18_9301_acc.jpg')\n",
        "files.download('./radam_resnet18_9301_loss.jpg')"
      ],
      "execution_count": 0,
      "outputs": []
    },
    {
      "cell_type": "markdown",
      "metadata": {
        "id": "ZIXHO2jpKxte",
        "colab_type": "text"
      },
      "source": [
        "# Lookahead with radam"
      ]
    },
    {
      "cell_type": "code",
      "metadata": {
        "id": "NwfdntdgJ5AD",
        "colab_type": "code",
        "colab": {}
      },
      "source": [
        "load_checkpoint(model, filename='before_sgd_resnet18.pth.tar')"
      ],
      "execution_count": 0,
      "outputs": []
    },
    {
      "cell_type": "code",
      "metadata": {
        "id": "0PUungkDK84g",
        "colab_type": "code",
        "colab": {}
      },
      "source": [
        "reset()"
      ],
      "execution_count": 0,
      "outputs": []
    },
    {
      "cell_type": "code",
      "metadata": {
        "id": "TPPSktmSLA0d",
        "colab_type": "code",
        "colab": {}
      },
      "source": [
        "preds = []\n",
        "train_stats = AvgStats()\n",
        "test_stats = AvgStats()"
      ],
      "execution_count": 0,
      "outputs": []
    },
    {
      "cell_type": "code",
      "metadata": {
        "id": "4_9RymEyLD6k",
        "colab_type": "code",
        "colab": {}
      },
      "source": [
        "optim = RAdam( model.parameters(), lr=1e-3, weight_decay=1e-4)"
      ],
      "execution_count": 0,
      "outputs": []
    },
    {
      "cell_type": "code",
      "metadata": {
        "id": "WhPiSEpQWvog",
        "colab_type": "code",
        "colab": {}
      },
      "source": [
        "sched = torch.optim.lr_scheduler.StepLR(optim, step_size=30, gamma=0.2)"
      ],
      "execution_count": 0,
      "outputs": []
    },
    {
      "cell_type": "code",
      "metadata": {
        "id": "5AwTxvz0L4qa",
        "colab_type": "code",
        "colab": {}
      },
      "source": [
        "optimizer = Lookahead(optim, alpha=0.5, k=10)"
      ],
      "execution_count": 0,
      "outputs": []
    },
    {
      "cell_type": "code",
      "metadata": {
        "id": "DYXjaVT7MPRK",
        "colab_type": "code",
        "colab": {
          "base_uri": "https://localhost:8080/",
          "height": 1000
        },
        "outputId": "e29949cd-f78a-4733-dc91-8d960e234845"
      },
      "source": [
        "fit(model, optimizer, sched)"
      ],
      "execution_count": 63,
      "outputs": [
        {
          "output_type": "stream",
          "text": [
            "Epoch\tTrn_loss\tVal_loss\tTrn_acc\t\tVal_acc\n",
            "1\t0.84039709\t0.73238619\t58.65799713\t61.38499832\n",
            "2\t0.66926891\t0.61152111\t67.62818146\t68.59583282\n",
            "3\t0.62486414\t0.57794141\t71.53353119\t72.03222656\n",
            "4\t0.55522068\t0.57696064\t73.90174103\t74.17916870\n",
            "5\t0.52561849\t0.59002180\t75.52620697\t75.68133545\n",
            "6\t0.49826776\t0.56802273\t76.68943024\t76.81278229\n",
            "7\t0.46899372\t0.53620532\t77.66439056\t77.76332855\n",
            "8\t0.45046685\t0.54581055\t78.47000122\t78.53542328\n",
            "9\t0.44863516\t0.59643967\t79.17263794\t79.18926239\n",
            "10\t0.41838204\t0.43705980\t79.74796295\t79.83950043\n",
            "11\t0.39751629\t0.43282110\t80.35430908\t80.43394470\n",
            "12\t0.39888706\t0.44356672\t80.88168335\t80.94152832\n",
            "13\t0.37322336\t0.44731551\t81.35636139\t81.40499878\n",
            "14\t0.35722745\t0.48546841\t81.79071808\t81.82142639\n",
            "15\t0.34940608\t0.45884905\t82.19045258\t82.22200012\n",
            "16\t0.35149808\t0.52451462\t82.55905151\t82.56771088\n",
            "17\t0.32982025\t0.48660794\t82.88891602\t82.90304565\n",
            "18\t0.31618896\t0.49432394\t83.20410919\t83.21592712\n",
            "19\t0.30027402\t0.50022415\t83.50017548\t83.50605011\n",
            "20\t0.29747252\t0.44017676\t83.78185272\t83.80324554\n",
            "21\t0.27890461\t0.44272641\t84.06991577\t84.08864594\n",
            "22\t0.27071345\t0.45369489\t84.34633636\t84.35955048\n",
            "23\t0.27119609\t0.45905216\t84.60643005\t84.61478424\n",
            "24\t0.25462930\t0.44320851\t84.84909058\t84.85583496\n",
            "25\t0.24883042\t0.48697005\t85.08261108\t85.08346558\n",
            "26\t0.23141073\t0.48040289\t85.30483246\t85.30461121\n",
            "27\t0.22765949\t0.49486541\t85.51770782\t85.51580048\n",
            "28\t0.22378179\t0.48548205\t85.72209167\t85.71862793\n",
            "29\t0.21599696\t0.48411146\t85.91994476\t85.91580200\n",
            "30\t0.21238618\t0.43644951\t86.10776520\t86.11189270\n",
            "31\t0.19644633\t0.45074566\t86.30178833\t86.30511475\n",
            "32\t0.12032370\t0.42609238\t86.54497528\t86.55146027\n",
            "33\t0.10809801\t0.43306816\t86.79421234\t86.80055237\n",
            "34\t0.10089784\t0.45750760\t87.04284668\t87.04775238\n",
            "35\t0.08969133\t0.45255405\t87.28004456\t87.28376007\n",
            "36\t0.08081118\t0.47100243\t87.51190186\t87.51490784\n",
            "37\t0.08136638\t0.46658158\t87.73533630\t87.73802185\n",
            "38\t0.07633456\t0.48039969\t87.95066071\t87.95069885\n",
            "39\t0.07201924\t0.50396155\t88.15464020\t88.15277100\n",
            "40\t0.07509075\t0.48885221\t88.34950256\t88.34779358\n",
            "41\t0.06612332\t0.49033201\t88.53759003\t88.53520203\n",
            "42\t0.05996042\t0.50918664\t88.72043610\t88.71793365\n",
            "43\t0.05840373\t0.49690662\t88.89669037\t88.89372253\n",
            "44\t0.06052752\t0.51264709\t89.06547546\t89.06106567\n",
            "45\t0.06157549\t0.52136271\t89.22937012\t89.22429657\n",
            "46\t0.05294737\t0.53125673\t89.38621521\t89.38105011\n",
            "47\t0.05810418\t0.52589306\t89.53523254\t89.52971649\n",
            "48\t0.05658903\t0.51781359\t89.67899323\t89.67316437\n",
            "49\t0.04645441\t0.54800336\t89.82030487\t89.81366730\n",
            "50\t0.04642763\t0.54296657\t89.95803070\t89.95140076\n",
            "51\t0.04820730\t0.54864652\t90.08908081\t90.08173370\n",
            "52\t0.05581959\t0.51838327\t90.21356964\t90.20678711\n",
            "53\t0.04548475\t0.54910820\t90.33649445\t90.32807922\n",
            "54\t0.04734628\t0.55478769\t90.45352173\t90.44583130\n",
            "55\t0.03881970\t0.54964102\t90.56817627\t90.56076050\n",
            "56\t0.03951095\t0.57502357\t90.68152618\t90.67353821\n",
            "57\t0.04697213\t0.55806984\t90.78926849\t90.78079224\n",
            "58\t0.03644843\t0.59195562\t90.89353943\t90.88545990\n",
            "59\t0.04186036\t0.57227772\t90.99373627\t90.98505402\n",
            "60\t0.04323011\t0.56402033\t91.09056091\t91.08127594\n",
            "61\t0.03881539\t0.56408805\t91.18511963\t91.17693329\n",
            "62\t0.03106513\t0.56155920\t91.28236389\t91.27395630\n",
            "63\t0.02800087\t0.56877069\t91.37642670\t91.36772919\n",
            "64\t0.02443212\t0.57108661\t91.46840668\t91.46015930\n",
            "65\t0.02663100\t0.57086989\t91.55841064\t91.54972076\n",
            "66\t0.02597229\t0.58148611\t91.64615631\t91.63762665\n",
            "67\t0.02434528\t0.57888031\t91.73160553\t91.72265625\n",
            "68\t0.02172367\t0.58399797\t91.81509399\t91.80648041\n",
            "69\t0.02409380\t0.58672608\t91.89592743\t91.88694000\n",
            "70\t0.02454765\t0.58395304\t91.97528076\t91.96626282\n",
            "71\t0.02526603\t0.58846528\t92.05184174\t92.04296112\n",
            "72\t0.02053951\t0.60089179\t92.12724304\t92.11810303\n",
            "73\t0.02505594\t0.60133975\t92.20011139\t92.19100189\n",
            "74\t0.01739922\t0.60097976\t92.27164459\t92.26258850\n",
            "75\t0.01934080\t0.61528390\t92.34175873\t92.33248901\n",
            "76\t0.01687040\t0.61052251\t92.40984344\t92.40094757\n",
            "77\t0.02088707\t0.61693707\t92.47634125\t92.46710205\n",
            "78\t0.02021537\t0.62240378\t92.54100800\t92.53181458\n",
            "79\t0.01975175\t0.62110998\t92.60386658\t92.59502411\n",
            "80\t0.01803418\t0.61928528\t92.66541290\t92.65681458\n",
            "81\t0.01664867\t0.61857682\t92.72599792\t92.71734619\n",
            "82\t0.01621241\t0.62158671\t92.78568268\t92.77696991\n",
            "83\t0.01783360\t0.63097297\t92.84283447\t92.83375549\n",
            "84\t0.01889163\t0.62309591\t92.89892578\t92.89021301\n",
            "85\t0.01863289\t0.62188878\t92.95404816\t92.94506073\n",
            "86\t0.01821187\t0.62764903\t93.00810242\t92.99874115\n",
            "87\t0.01751795\t0.63726468\t93.06050110\t93.05137634\n",
            "88\t0.01830284\t0.63757987\t93.11183929\t93.10285950\n",
            "89\t0.01771879\t0.64091462\t93.16219330\t93.15328979\n",
            "90\t0.01683942\t0.63723381\t93.21169281\t93.20257568\n"
          ],
          "name": "stdout"
        }
      ]
    },
    {
      "cell_type": "code",
      "metadata": {
        "id": "2z8fDSpsMT9U",
        "colab_type": "code",
        "colab": {}
      },
      "source": [
        "save_checkpoint(model, True, 'radam_lookahead_resnet18_9321.pth.tar')"
      ],
      "execution_count": 0,
      "outputs": []
    },
    {
      "cell_type": "code",
      "metadata": {
        "id": "4wbix-lBWov4",
        "colab_type": "code",
        "colab": {}
      },
      "source": [
        "ep_lookahead_losses = []\n",
        "for i in range(0, len(train_stats.losses), len(train_loader)):\n",
        "    if i != 0 :\n",
        "        ep_lookahead_losses.append(train_stats.losses[i])\n",
        "        \n",
        "ep_lookahead_lossesv = []\n",
        "for i in range(0, len(test_stats.losses), len(test_loader)):\n",
        "    if(i != 0):\n",
        "        ep_lookahead_lossesv.append(test_stats.losses[i])"
      ],
      "execution_count": 0,
      "outputs": []
    },
    {
      "cell_type": "code",
      "metadata": {
        "id": "Ek4v7sy_WvKr",
        "colab_type": "code",
        "colab": {}
      },
      "source": [
        "ep_lookahead_accs = []\n",
        "for i in range(0, len(train_stats.losses), len(train_loader)):\n",
        "    if i != 0 :\n",
        "        ep_lookahead_accs.append(train_stats.precs[i])\n",
        "        \n",
        "ep_lookahead_accsv = []\n",
        "for i in range(0, len(test_stats.losses), len(test_loader)):\n",
        "    if(i != 0):\n",
        "        ep_lookahead_accsv.append(test_stats.precs[i])"
      ],
      "execution_count": 0,
      "outputs": []
    },
    {
      "cell_type": "code",
      "metadata": {
        "id": "Ltn4TITVWzpW",
        "colab_type": "code",
        "colab": {
          "base_uri": "https://localhost:8080/",
          "height": 371
        },
        "outputId": "3ee86ebb-5b56-4670-b46e-e383f1f3d8ef"
      },
      "source": [
        "plt.xlabel(\"Epochs\")\n",
        "plt.ylabel(\"Accuracy\")\n",
        "plt.plot(ep_lookahead_accs, 'r', label='Train')\n",
        "plt.plot(ep_lookahead_accsv, 'b', label='Val')\n",
        "plt.legend()\n",
        "plt.savefig('radam_lookahead_resnet18_9321_acc.jpg')"
      ],
      "execution_count": 68,
      "outputs": [
        {
          "output_type": "display_data",
          "data": {
            "text/plain": [
              "<Figure size 432x288 with 1 Axes>"
            ],
            "image/svg+xml": "<?xml version=\"1.0\" encoding=\"utf-8\" standalone=\"no\"?>\n<!DOCTYPE svg PUBLIC \"-//W3C//DTD SVG 1.1//EN\"\n  \"http://www.w3.org/Graphics/SVG/1.1/DTD/svg11.dtd\">\n<!-- Created with matplotlib (https://matplotlib.org/) -->\n<svg height=\"262.19625pt\" version=\"1.1\" viewBox=\"0 0 382.603125 262.19625\" width=\"382.603125pt\" xmlns=\"http://www.w3.org/2000/svg\" xmlns:xlink=\"http://www.w3.org/1999/xlink\">\n <defs>\n  <style type=\"text/css\">\n*{stroke-linecap:butt;stroke-linejoin:round;}\n  </style>\n </defs>\n <g id=\"figure_1\">\n  <g id=\"patch_1\">\n   <path d=\"M 0 262.19625 \nL 382.603125 262.19625 \nL 382.603125 0 \nL 0 0 \nz\n\" style=\"fill:none;\"/>\n  </g>\n  <g id=\"axes_1\">\n   <g id=\"patch_2\">\n    <path d=\"M 40.603125 224.64 \nL 375.403125 224.64 \nL 375.403125 7.2 \nL 40.603125 7.2 \nz\n\" style=\"fill:#ffffff;\"/>\n   </g>\n   <g id=\"matplotlib.axis_1\">\n    <g id=\"xtick_1\">\n     <g id=\"line2d_1\">\n      <defs>\n       <path d=\"M 0 0 \nL 0 3.5 \n\" id=\"m71a20496e8\" style=\"stroke:#000000;stroke-width:0.8;\"/>\n      </defs>\n      <g>\n       <use style=\"stroke:#000000;stroke-width:0.8;\" x=\"55.821307\" xlink:href=\"#m71a20496e8\" y=\"224.64\"/>\n      </g>\n     </g>\n     <g id=\"text_1\">\n      <!-- 0 -->\n      <defs>\n       <path d=\"M 31.78125 66.40625 \nQ 24.171875 66.40625 20.328125 58.90625 \nQ 16.5 51.421875 16.5 36.375 \nQ 16.5 21.390625 20.328125 13.890625 \nQ 24.171875 6.390625 31.78125 6.390625 \nQ 39.453125 6.390625 43.28125 13.890625 \nQ 47.125 21.390625 47.125 36.375 \nQ 47.125 51.421875 43.28125 58.90625 \nQ 39.453125 66.40625 31.78125 66.40625 \nz\nM 31.78125 74.21875 \nQ 44.046875 74.21875 50.515625 64.515625 \nQ 56.984375 54.828125 56.984375 36.375 \nQ 56.984375 17.96875 50.515625 8.265625 \nQ 44.046875 -1.421875 31.78125 -1.421875 \nQ 19.53125 -1.421875 13.0625 8.265625 \nQ 6.59375 17.96875 6.59375 36.375 \nQ 6.59375 54.828125 13.0625 64.515625 \nQ 19.53125 74.21875 31.78125 74.21875 \nz\n\" id=\"DejaVuSans-48\"/>\n      </defs>\n      <g transform=\"translate(52.640057 239.238438)scale(0.1 -0.1)\">\n       <use xlink:href=\"#DejaVuSans-48\"/>\n      </g>\n     </g>\n    </g>\n    <g id=\"xtick_2\">\n     <g id=\"line2d_2\">\n      <g>\n       <use style=\"stroke:#000000;stroke-width:0.8;\" x=\"124.994861\" xlink:href=\"#m71a20496e8\" y=\"224.64\"/>\n      </g>\n     </g>\n     <g id=\"text_2\">\n      <!-- 20 -->\n      <defs>\n       <path d=\"M 19.1875 8.296875 \nL 53.609375 8.296875 \nL 53.609375 0 \nL 7.328125 0 \nL 7.328125 8.296875 \nQ 12.9375 14.109375 22.625 23.890625 \nQ 32.328125 33.6875 34.8125 36.53125 \nQ 39.546875 41.84375 41.421875 45.53125 \nQ 43.3125 49.21875 43.3125 52.78125 \nQ 43.3125 58.59375 39.234375 62.25 \nQ 35.15625 65.921875 28.609375 65.921875 \nQ 23.96875 65.921875 18.8125 64.3125 \nQ 13.671875 62.703125 7.8125 59.421875 \nL 7.8125 69.390625 \nQ 13.765625 71.78125 18.9375 73 \nQ 24.125 74.21875 28.421875 74.21875 \nQ 39.75 74.21875 46.484375 68.546875 \nQ 53.21875 62.890625 53.21875 53.421875 \nQ 53.21875 48.921875 51.53125 44.890625 \nQ 49.859375 40.875 45.40625 35.40625 \nQ 44.1875 33.984375 37.640625 27.21875 \nQ 31.109375 20.453125 19.1875 8.296875 \nz\n\" id=\"DejaVuSans-50\"/>\n      </defs>\n      <g transform=\"translate(118.632361 239.238438)scale(0.1 -0.1)\">\n       <use xlink:href=\"#DejaVuSans-50\"/>\n       <use x=\"63.623047\" xlink:href=\"#DejaVuSans-48\"/>\n      </g>\n     </g>\n    </g>\n    <g id=\"xtick_3\">\n     <g id=\"line2d_3\">\n      <g>\n       <use style=\"stroke:#000000;stroke-width:0.8;\" x=\"194.168414\" xlink:href=\"#m71a20496e8\" y=\"224.64\"/>\n      </g>\n     </g>\n     <g id=\"text_3\">\n      <!-- 40 -->\n      <defs>\n       <path d=\"M 37.796875 64.3125 \nL 12.890625 25.390625 \nL 37.796875 25.390625 \nz\nM 35.203125 72.90625 \nL 47.609375 72.90625 \nL 47.609375 25.390625 \nL 58.015625 25.390625 \nL 58.015625 17.1875 \nL 47.609375 17.1875 \nL 47.609375 0 \nL 37.796875 0 \nL 37.796875 17.1875 \nL 4.890625 17.1875 \nL 4.890625 26.703125 \nz\n\" id=\"DejaVuSans-52\"/>\n      </defs>\n      <g transform=\"translate(187.805914 239.238438)scale(0.1 -0.1)\">\n       <use xlink:href=\"#DejaVuSans-52\"/>\n       <use x=\"63.623047\" xlink:href=\"#DejaVuSans-48\"/>\n      </g>\n     </g>\n    </g>\n    <g id=\"xtick_4\">\n     <g id=\"line2d_4\">\n      <g>\n       <use style=\"stroke:#000000;stroke-width:0.8;\" x=\"263.341968\" xlink:href=\"#m71a20496e8\" y=\"224.64\"/>\n      </g>\n     </g>\n     <g id=\"text_4\">\n      <!-- 60 -->\n      <defs>\n       <path d=\"M 33.015625 40.375 \nQ 26.375 40.375 22.484375 35.828125 \nQ 18.609375 31.296875 18.609375 23.390625 \nQ 18.609375 15.53125 22.484375 10.953125 \nQ 26.375 6.390625 33.015625 6.390625 \nQ 39.65625 6.390625 43.53125 10.953125 \nQ 47.40625 15.53125 47.40625 23.390625 \nQ 47.40625 31.296875 43.53125 35.828125 \nQ 39.65625 40.375 33.015625 40.375 \nz\nM 52.59375 71.296875 \nL 52.59375 62.3125 \nQ 48.875 64.0625 45.09375 64.984375 \nQ 41.3125 65.921875 37.59375 65.921875 \nQ 27.828125 65.921875 22.671875 59.328125 \nQ 17.53125 52.734375 16.796875 39.40625 \nQ 19.671875 43.65625 24.015625 45.921875 \nQ 28.375 48.1875 33.59375 48.1875 \nQ 44.578125 48.1875 50.953125 41.515625 \nQ 57.328125 34.859375 57.328125 23.390625 \nQ 57.328125 12.15625 50.6875 5.359375 \nQ 44.046875 -1.421875 33.015625 -1.421875 \nQ 20.359375 -1.421875 13.671875 8.265625 \nQ 6.984375 17.96875 6.984375 36.375 \nQ 6.984375 53.65625 15.1875 63.9375 \nQ 23.390625 74.21875 37.203125 74.21875 \nQ 40.921875 74.21875 44.703125 73.484375 \nQ 48.484375 72.75 52.59375 71.296875 \nz\n\" id=\"DejaVuSans-54\"/>\n      </defs>\n      <g transform=\"translate(256.979468 239.238438)scale(0.1 -0.1)\">\n       <use xlink:href=\"#DejaVuSans-54\"/>\n       <use x=\"63.623047\" xlink:href=\"#DejaVuSans-48\"/>\n      </g>\n     </g>\n    </g>\n    <g id=\"xtick_5\">\n     <g id=\"line2d_5\">\n      <g>\n       <use style=\"stroke:#000000;stroke-width:0.8;\" x=\"332.515522\" xlink:href=\"#m71a20496e8\" y=\"224.64\"/>\n      </g>\n     </g>\n     <g id=\"text_5\">\n      <!-- 80 -->\n      <defs>\n       <path d=\"M 31.78125 34.625 \nQ 24.75 34.625 20.71875 30.859375 \nQ 16.703125 27.09375 16.703125 20.515625 \nQ 16.703125 13.921875 20.71875 10.15625 \nQ 24.75 6.390625 31.78125 6.390625 \nQ 38.8125 6.390625 42.859375 10.171875 \nQ 46.921875 13.96875 46.921875 20.515625 \nQ 46.921875 27.09375 42.890625 30.859375 \nQ 38.875 34.625 31.78125 34.625 \nz\nM 21.921875 38.8125 \nQ 15.578125 40.375 12.03125 44.71875 \nQ 8.5 49.078125 8.5 55.328125 \nQ 8.5 64.0625 14.71875 69.140625 \nQ 20.953125 74.21875 31.78125 74.21875 \nQ 42.671875 74.21875 48.875 69.140625 \nQ 55.078125 64.0625 55.078125 55.328125 \nQ 55.078125 49.078125 51.53125 44.71875 \nQ 48 40.375 41.703125 38.8125 \nQ 48.828125 37.15625 52.796875 32.3125 \nQ 56.78125 27.484375 56.78125 20.515625 \nQ 56.78125 9.90625 50.3125 4.234375 \nQ 43.84375 -1.421875 31.78125 -1.421875 \nQ 19.734375 -1.421875 13.25 4.234375 \nQ 6.78125 9.90625 6.78125 20.515625 \nQ 6.78125 27.484375 10.78125 32.3125 \nQ 14.796875 37.15625 21.921875 38.8125 \nz\nM 18.3125 54.390625 \nQ 18.3125 48.734375 21.84375 45.5625 \nQ 25.390625 42.390625 31.78125 42.390625 \nQ 38.140625 42.390625 41.71875 45.5625 \nQ 45.3125 48.734375 45.3125 54.390625 \nQ 45.3125 60.0625 41.71875 63.234375 \nQ 38.140625 66.40625 31.78125 66.40625 \nQ 25.390625 66.40625 21.84375 63.234375 \nQ 18.3125 60.0625 18.3125 54.390625 \nz\n\" id=\"DejaVuSans-56\"/>\n      </defs>\n      <g transform=\"translate(326.153022 239.238438)scale(0.1 -0.1)\">\n       <use xlink:href=\"#DejaVuSans-56\"/>\n       <use x=\"63.623047\" xlink:href=\"#DejaVuSans-48\"/>\n      </g>\n     </g>\n    </g>\n    <g id=\"text_6\">\n     <!-- Epochs -->\n     <defs>\n      <path d=\"M 9.8125 72.90625 \nL 55.90625 72.90625 \nL 55.90625 64.59375 \nL 19.671875 64.59375 \nL 19.671875 43.015625 \nL 54.390625 43.015625 \nL 54.390625 34.71875 \nL 19.671875 34.71875 \nL 19.671875 8.296875 \nL 56.78125 8.296875 \nL 56.78125 0 \nL 9.8125 0 \nz\n\" id=\"DejaVuSans-69\"/>\n      <path d=\"M 18.109375 8.203125 \nL 18.109375 -20.796875 \nL 9.078125 -20.796875 \nL 9.078125 54.6875 \nL 18.109375 54.6875 \nL 18.109375 46.390625 \nQ 20.953125 51.265625 25.265625 53.625 \nQ 29.59375 56 35.59375 56 \nQ 45.5625 56 51.78125 48.09375 \nQ 58.015625 40.1875 58.015625 27.296875 \nQ 58.015625 14.40625 51.78125 6.484375 \nQ 45.5625 -1.421875 35.59375 -1.421875 \nQ 29.59375 -1.421875 25.265625 0.953125 \nQ 20.953125 3.328125 18.109375 8.203125 \nz\nM 48.6875 27.296875 \nQ 48.6875 37.203125 44.609375 42.84375 \nQ 40.53125 48.484375 33.40625 48.484375 \nQ 26.265625 48.484375 22.1875 42.84375 \nQ 18.109375 37.203125 18.109375 27.296875 \nQ 18.109375 17.390625 22.1875 11.75 \nQ 26.265625 6.109375 33.40625 6.109375 \nQ 40.53125 6.109375 44.609375 11.75 \nQ 48.6875 17.390625 48.6875 27.296875 \nz\n\" id=\"DejaVuSans-112\"/>\n      <path d=\"M 30.609375 48.390625 \nQ 23.390625 48.390625 19.1875 42.75 \nQ 14.984375 37.109375 14.984375 27.296875 \nQ 14.984375 17.484375 19.15625 11.84375 \nQ 23.34375 6.203125 30.609375 6.203125 \nQ 37.796875 6.203125 41.984375 11.859375 \nQ 46.1875 17.53125 46.1875 27.296875 \nQ 46.1875 37.015625 41.984375 42.703125 \nQ 37.796875 48.390625 30.609375 48.390625 \nz\nM 30.609375 56 \nQ 42.328125 56 49.015625 48.375 \nQ 55.71875 40.765625 55.71875 27.296875 \nQ 55.71875 13.875 49.015625 6.21875 \nQ 42.328125 -1.421875 30.609375 -1.421875 \nQ 18.84375 -1.421875 12.171875 6.21875 \nQ 5.515625 13.875 5.515625 27.296875 \nQ 5.515625 40.765625 12.171875 48.375 \nQ 18.84375 56 30.609375 56 \nz\n\" id=\"DejaVuSans-111\"/>\n      <path d=\"M 48.78125 52.59375 \nL 48.78125 44.1875 \nQ 44.96875 46.296875 41.140625 47.34375 \nQ 37.3125 48.390625 33.40625 48.390625 \nQ 24.65625 48.390625 19.8125 42.84375 \nQ 14.984375 37.3125 14.984375 27.296875 \nQ 14.984375 17.28125 19.8125 11.734375 \nQ 24.65625 6.203125 33.40625 6.203125 \nQ 37.3125 6.203125 41.140625 7.25 \nQ 44.96875 8.296875 48.78125 10.40625 \nL 48.78125 2.09375 \nQ 45.015625 0.34375 40.984375 -0.53125 \nQ 36.96875 -1.421875 32.421875 -1.421875 \nQ 20.0625 -1.421875 12.78125 6.34375 \nQ 5.515625 14.109375 5.515625 27.296875 \nQ 5.515625 40.671875 12.859375 48.328125 \nQ 20.21875 56 33.015625 56 \nQ 37.15625 56 41.109375 55.140625 \nQ 45.0625 54.296875 48.78125 52.59375 \nz\n\" id=\"DejaVuSans-99\"/>\n      <path d=\"M 54.890625 33.015625 \nL 54.890625 0 \nL 45.90625 0 \nL 45.90625 32.71875 \nQ 45.90625 40.484375 42.875 44.328125 \nQ 39.84375 48.1875 33.796875 48.1875 \nQ 26.515625 48.1875 22.3125 43.546875 \nQ 18.109375 38.921875 18.109375 30.90625 \nL 18.109375 0 \nL 9.078125 0 \nL 9.078125 75.984375 \nL 18.109375 75.984375 \nL 18.109375 46.1875 \nQ 21.34375 51.125 25.703125 53.5625 \nQ 30.078125 56 35.796875 56 \nQ 45.21875 56 50.046875 50.171875 \nQ 54.890625 44.34375 54.890625 33.015625 \nz\n\" id=\"DejaVuSans-104\"/>\n      <path d=\"M 44.28125 53.078125 \nL 44.28125 44.578125 \nQ 40.484375 46.53125 36.375 47.5 \nQ 32.28125 48.484375 27.875 48.484375 \nQ 21.1875 48.484375 17.84375 46.4375 \nQ 14.5 44.390625 14.5 40.28125 \nQ 14.5 37.15625 16.890625 35.375 \nQ 19.28125 33.59375 26.515625 31.984375 \nL 29.59375 31.296875 \nQ 39.15625 29.25 43.1875 25.515625 \nQ 47.21875 21.78125 47.21875 15.09375 \nQ 47.21875 7.46875 41.1875 3.015625 \nQ 35.15625 -1.421875 24.609375 -1.421875 \nQ 20.21875 -1.421875 15.453125 -0.5625 \nQ 10.6875 0.296875 5.421875 2 \nL 5.421875 11.28125 \nQ 10.40625 8.6875 15.234375 7.390625 \nQ 20.0625 6.109375 24.8125 6.109375 \nQ 31.15625 6.109375 34.5625 8.28125 \nQ 37.984375 10.453125 37.984375 14.40625 \nQ 37.984375 18.0625 35.515625 20.015625 \nQ 33.0625 21.96875 24.703125 23.78125 \nL 21.578125 24.515625 \nQ 13.234375 26.265625 9.515625 29.90625 \nQ 5.8125 33.546875 5.8125 39.890625 \nQ 5.8125 47.609375 11.28125 51.796875 \nQ 16.75 56 26.8125 56 \nQ 31.78125 56 36.171875 55.265625 \nQ 40.578125 54.546875 44.28125 53.078125 \nz\n\" id=\"DejaVuSans-115\"/>\n     </defs>\n     <g transform=\"translate(190.0875 252.916563)scale(0.1 -0.1)\">\n      <use xlink:href=\"#DejaVuSans-69\"/>\n      <use x=\"63.183594\" xlink:href=\"#DejaVuSans-112\"/>\n      <use x=\"126.660156\" xlink:href=\"#DejaVuSans-111\"/>\n      <use x=\"187.841797\" xlink:href=\"#DejaVuSans-99\"/>\n      <use x=\"242.822266\" xlink:href=\"#DejaVuSans-104\"/>\n      <use x=\"306.201172\" xlink:href=\"#DejaVuSans-115\"/>\n     </g>\n    </g>\n   </g>\n   <g id=\"matplotlib.axis_2\">\n    <g id=\"ytick_1\">\n     <g id=\"line2d_6\">\n      <defs>\n       <path d=\"M 0 0 \nL -3.5 0 \n\" id=\"maec5240c5e\" style=\"stroke:#000000;stroke-width:0.8;\"/>\n      </defs>\n      <g>\n       <use style=\"stroke:#000000;stroke-width:0.8;\" x=\"40.603125\" xlink:href=\"#maec5240c5e\" y=\"223.632922\"/>\n      </g>\n     </g>\n     <g id=\"text_7\">\n      <!-- 60 -->\n      <g transform=\"translate(20.878125 227.432141)scale(0.1 -0.1)\">\n       <use xlink:href=\"#DejaVuSans-54\"/>\n       <use x=\"63.623047\" xlink:href=\"#DejaVuSans-48\"/>\n      </g>\n     </g>\n    </g>\n    <g id=\"ytick_2\">\n     <g id=\"line2d_7\">\n      <g>\n       <use style=\"stroke:#000000;stroke-width:0.8;\" x=\"40.603125\" xlink:href=\"#maec5240c5e\" y=\"192.537032\"/>\n      </g>\n     </g>\n     <g id=\"text_8\">\n      <!-- 65 -->\n      <defs>\n       <path d=\"M 10.796875 72.90625 \nL 49.515625 72.90625 \nL 49.515625 64.59375 \nL 19.828125 64.59375 \nL 19.828125 46.734375 \nQ 21.96875 47.46875 24.109375 47.828125 \nQ 26.265625 48.1875 28.421875 48.1875 \nQ 40.625 48.1875 47.75 41.5 \nQ 54.890625 34.8125 54.890625 23.390625 \nQ 54.890625 11.625 47.5625 5.09375 \nQ 40.234375 -1.421875 26.90625 -1.421875 \nQ 22.3125 -1.421875 17.546875 -0.640625 \nQ 12.796875 0.140625 7.71875 1.703125 \nL 7.71875 11.625 \nQ 12.109375 9.234375 16.796875 8.0625 \nQ 21.484375 6.890625 26.703125 6.890625 \nQ 35.15625 6.890625 40.078125 11.328125 \nQ 45.015625 15.765625 45.015625 23.390625 \nQ 45.015625 31 40.078125 35.4375 \nQ 35.15625 39.890625 26.703125 39.890625 \nQ 22.75 39.890625 18.8125 39.015625 \nQ 14.890625 38.140625 10.796875 36.28125 \nz\n\" id=\"DejaVuSans-53\"/>\n      </defs>\n      <g transform=\"translate(20.878125 196.336251)scale(0.1 -0.1)\">\n       <use xlink:href=\"#DejaVuSans-54\"/>\n       <use x=\"63.623047\" xlink:href=\"#DejaVuSans-53\"/>\n      </g>\n     </g>\n    </g>\n    <g id=\"ytick_3\">\n     <g id=\"line2d_8\">\n      <g>\n       <use style=\"stroke:#000000;stroke-width:0.8;\" x=\"40.603125\" xlink:href=\"#maec5240c5e\" y=\"161.441142\"/>\n      </g>\n     </g>\n     <g id=\"text_9\">\n      <!-- 70 -->\n      <defs>\n       <path d=\"M 8.203125 72.90625 \nL 55.078125 72.90625 \nL 55.078125 68.703125 \nL 28.609375 0 \nL 18.3125 0 \nL 43.21875 64.59375 \nL 8.203125 64.59375 \nz\n\" id=\"DejaVuSans-55\"/>\n      </defs>\n      <g transform=\"translate(20.878125 165.240361)scale(0.1 -0.1)\">\n       <use xlink:href=\"#DejaVuSans-55\"/>\n       <use x=\"63.623047\" xlink:href=\"#DejaVuSans-48\"/>\n      </g>\n     </g>\n    </g>\n    <g id=\"ytick_4\">\n     <g id=\"line2d_9\">\n      <g>\n       <use style=\"stroke:#000000;stroke-width:0.8;\" x=\"40.603125\" xlink:href=\"#maec5240c5e\" y=\"130.345253\"/>\n      </g>\n     </g>\n     <g id=\"text_10\">\n      <!-- 75 -->\n      <g transform=\"translate(20.878125 134.144471)scale(0.1 -0.1)\">\n       <use xlink:href=\"#DejaVuSans-55\"/>\n       <use x=\"63.623047\" xlink:href=\"#DejaVuSans-53\"/>\n      </g>\n     </g>\n    </g>\n    <g id=\"ytick_5\">\n     <g id=\"line2d_10\">\n      <g>\n       <use style=\"stroke:#000000;stroke-width:0.8;\" x=\"40.603125\" xlink:href=\"#maec5240c5e\" y=\"99.249363\"/>\n      </g>\n     </g>\n     <g id=\"text_11\">\n      <!-- 80 -->\n      <g transform=\"translate(20.878125 103.048582)scale(0.1 -0.1)\">\n       <use xlink:href=\"#DejaVuSans-56\"/>\n       <use x=\"63.623047\" xlink:href=\"#DejaVuSans-48\"/>\n      </g>\n     </g>\n    </g>\n    <g id=\"ytick_6\">\n     <g id=\"line2d_11\">\n      <g>\n       <use style=\"stroke:#000000;stroke-width:0.8;\" x=\"40.603125\" xlink:href=\"#maec5240c5e\" y=\"68.153473\"/>\n      </g>\n     </g>\n     <g id=\"text_12\">\n      <!-- 85 -->\n      <g transform=\"translate(20.878125 71.952692)scale(0.1 -0.1)\">\n       <use xlink:href=\"#DejaVuSans-56\"/>\n       <use x=\"63.623047\" xlink:href=\"#DejaVuSans-53\"/>\n      </g>\n     </g>\n    </g>\n    <g id=\"ytick_7\">\n     <g id=\"line2d_12\">\n      <g>\n       <use style=\"stroke:#000000;stroke-width:0.8;\" x=\"40.603125\" xlink:href=\"#maec5240c5e\" y=\"37.057583\"/>\n      </g>\n     </g>\n     <g id=\"text_13\">\n      <!-- 90 -->\n      <defs>\n       <path d=\"M 10.984375 1.515625 \nL 10.984375 10.5 \nQ 14.703125 8.734375 18.5 7.8125 \nQ 22.3125 6.890625 25.984375 6.890625 \nQ 35.75 6.890625 40.890625 13.453125 \nQ 46.046875 20.015625 46.78125 33.40625 \nQ 43.953125 29.203125 39.59375 26.953125 \nQ 35.25 24.703125 29.984375 24.703125 \nQ 19.046875 24.703125 12.671875 31.3125 \nQ 6.296875 37.9375 6.296875 49.421875 \nQ 6.296875 60.640625 12.9375 67.421875 \nQ 19.578125 74.21875 30.609375 74.21875 \nQ 43.265625 74.21875 49.921875 64.515625 \nQ 56.59375 54.828125 56.59375 36.375 \nQ 56.59375 19.140625 48.40625 8.859375 \nQ 40.234375 -1.421875 26.421875 -1.421875 \nQ 22.703125 -1.421875 18.890625 -0.6875 \nQ 15.09375 0.046875 10.984375 1.515625 \nz\nM 30.609375 32.421875 \nQ 37.25 32.421875 41.125 36.953125 \nQ 45.015625 41.5 45.015625 49.421875 \nQ 45.015625 57.28125 41.125 61.84375 \nQ 37.25 66.40625 30.609375 66.40625 \nQ 23.96875 66.40625 20.09375 61.84375 \nQ 16.21875 57.28125 16.21875 49.421875 \nQ 16.21875 41.5 20.09375 36.953125 \nQ 23.96875 32.421875 30.609375 32.421875 \nz\n\" id=\"DejaVuSans-57\"/>\n      </defs>\n      <g transform=\"translate(20.878125 40.856802)scale(0.1 -0.1)\">\n       <use xlink:href=\"#DejaVuSans-57\"/>\n       <use x=\"63.623047\" xlink:href=\"#DejaVuSans-48\"/>\n      </g>\n     </g>\n    </g>\n    <g id=\"text_14\">\n     <!-- Accuracy -->\n     <defs>\n      <path d=\"M 34.1875 63.1875 \nL 20.796875 26.90625 \nL 47.609375 26.90625 \nz\nM 28.609375 72.90625 \nL 39.796875 72.90625 \nL 67.578125 0 \nL 57.328125 0 \nL 50.6875 18.703125 \nL 17.828125 18.703125 \nL 11.1875 0 \nL 0.78125 0 \nz\n\" id=\"DejaVuSans-65\"/>\n      <path d=\"M 8.5 21.578125 \nL 8.5 54.6875 \nL 17.484375 54.6875 \nL 17.484375 21.921875 \nQ 17.484375 14.15625 20.5 10.265625 \nQ 23.53125 6.390625 29.59375 6.390625 \nQ 36.859375 6.390625 41.078125 11.03125 \nQ 45.3125 15.671875 45.3125 23.6875 \nL 45.3125 54.6875 \nL 54.296875 54.6875 \nL 54.296875 0 \nL 45.3125 0 \nL 45.3125 8.40625 \nQ 42.046875 3.421875 37.71875 1 \nQ 33.40625 -1.421875 27.6875 -1.421875 \nQ 18.265625 -1.421875 13.375 4.4375 \nQ 8.5 10.296875 8.5 21.578125 \nz\nM 31.109375 56 \nz\n\" id=\"DejaVuSans-117\"/>\n      <path d=\"M 41.109375 46.296875 \nQ 39.59375 47.171875 37.8125 47.578125 \nQ 36.03125 48 33.890625 48 \nQ 26.265625 48 22.1875 43.046875 \nQ 18.109375 38.09375 18.109375 28.8125 \nL 18.109375 0 \nL 9.078125 0 \nL 9.078125 54.6875 \nL 18.109375 54.6875 \nL 18.109375 46.1875 \nQ 20.953125 51.171875 25.484375 53.578125 \nQ 30.03125 56 36.53125 56 \nQ 37.453125 56 38.578125 55.875 \nQ 39.703125 55.765625 41.0625 55.515625 \nz\n\" id=\"DejaVuSans-114\"/>\n      <path d=\"M 34.28125 27.484375 \nQ 23.390625 27.484375 19.1875 25 \nQ 14.984375 22.515625 14.984375 16.5 \nQ 14.984375 11.71875 18.140625 8.90625 \nQ 21.296875 6.109375 26.703125 6.109375 \nQ 34.1875 6.109375 38.703125 11.40625 \nQ 43.21875 16.703125 43.21875 25.484375 \nL 43.21875 27.484375 \nz\nM 52.203125 31.203125 \nL 52.203125 0 \nL 43.21875 0 \nL 43.21875 8.296875 \nQ 40.140625 3.328125 35.546875 0.953125 \nQ 30.953125 -1.421875 24.3125 -1.421875 \nQ 15.921875 -1.421875 10.953125 3.296875 \nQ 6 8.015625 6 15.921875 \nQ 6 25.140625 12.171875 29.828125 \nQ 18.359375 34.515625 30.609375 34.515625 \nL 43.21875 34.515625 \nL 43.21875 35.40625 \nQ 43.21875 41.609375 39.140625 45 \nQ 35.0625 48.390625 27.6875 48.390625 \nQ 23 48.390625 18.546875 47.265625 \nQ 14.109375 46.140625 10.015625 43.890625 \nL 10.015625 52.203125 \nQ 14.9375 54.109375 19.578125 55.046875 \nQ 24.21875 56 28.609375 56 \nQ 40.484375 56 46.34375 49.84375 \nQ 52.203125 43.703125 52.203125 31.203125 \nz\n\" id=\"DejaVuSans-97\"/>\n      <path d=\"M 32.171875 -5.078125 \nQ 28.375 -14.84375 24.75 -17.8125 \nQ 21.140625 -20.796875 15.09375 -20.796875 \nL 7.90625 -20.796875 \nL 7.90625 -13.28125 \nL 13.1875 -13.28125 \nQ 16.890625 -13.28125 18.9375 -11.515625 \nQ 21 -9.765625 23.484375 -3.21875 \nL 25.09375 0.875 \nL 2.984375 54.6875 \nL 12.5 54.6875 \nL 29.59375 11.921875 \nL 46.6875 54.6875 \nL 56.203125 54.6875 \nz\n\" id=\"DejaVuSans-121\"/>\n     </defs>\n     <g transform=\"translate(14.798438 138.834844)rotate(-90)scale(0.1 -0.1)\">\n      <use xlink:href=\"#DejaVuSans-65\"/>\n      <use x=\"68.392578\" xlink:href=\"#DejaVuSans-99\"/>\n      <use x=\"123.373047\" xlink:href=\"#DejaVuSans-99\"/>\n      <use x=\"178.353516\" xlink:href=\"#DejaVuSans-117\"/>\n      <use x=\"241.732422\" xlink:href=\"#DejaVuSans-114\"/>\n      <use x=\"282.845703\" xlink:href=\"#DejaVuSans-97\"/>\n      <use x=\"344.125\" xlink:href=\"#DejaVuSans-99\"/>\n      <use x=\"399.105469\" xlink:href=\"#DejaVuSans-121\"/>\n     </g>\n    </g>\n   </g>\n   <g id=\"line2d_13\">\n    <path clip-path=\"url(#p42fbb0dce6)\" d=\"M 55.821307 214.756364 \nL 59.279985 170.095191 \nL 62.738662 148.785804 \nL 66.19734 135.416365 \nL 69.656018 126.09315 \nL 73.114695 119.063171 \nL 76.573373 113.152978 \nL 80.032051 108.348194 \nL 83.490728 104.285031 \nL 86.949406 100.2436 \nL 90.408084 96.542138 \nL 93.866761 93.383155 \nL 97.325439 90.498851 \nL 100.784117 87.916938 \nL 104.242794 85.424275 \nL 107.701472 83.276231 \nL 111.16015 81.188162 \nL 114.618827 79.246377 \nL 118.077505 77.439062 \nL 121.536183 75.594357 \nL 124.994861 73.814751 \nL 128.453538 72.130944 \nL 131.912216 70.544406 \nL 135.370894 69.046028 \nL 138.829571 67.633105 \nL 142.288249 66.25591 \nL 145.746927 64.942724 \nL 149.205604 63.679975 \nL 152.664282 62.454331 \nL 156.12296 61.235757 \nL 159.581637 60.033885 \nL 163.040315 58.500727 \nL 166.498993 56.951437 \nL 169.95767 55.414341 \nL 173.416348 53.945808 \nL 176.875026 52.509919 \nL 180.333704 51.121669 \nL 183.792381 49.800227 \nL 187.251059 48.542555 \nL 190.709737 47.329628 \nL 194.168414 46.164481 \nL 197.627092 45.027661 \nL 201.08577 43.935252 \nL 204.544447 42.894421 \nL 208.003125 41.879543 \nL 211.461803 40.904523 \nL 214.92048 39.979655 \nL 218.379158 39.08786 \nL 221.837836 38.213857 \nL 225.296513 37.357553 \nL 228.755191 36.547321 \nL 232.213869 35.769165 \nL 235.672546 35.014923 \nL 239.131224 34.282886 \nL 242.589902 33.568216 \nL 246.04858 32.867258 \nL 249.507257 32.199752 \nL 252.965935 31.549185 \nL 256.424613 30.929317 \nL 259.88329 30.331655 \nL 263.341968 29.73627 \nL 266.800646 29.132819 \nL 270.259323 28.549771 \nL 273.718001 27.975359 \nL 277.176679 27.418028 \nL 280.635356 26.871231 \nL 284.094034 26.342844 \nL 287.552712 25.821242 \nL 291.011389 25.321181 \nL 294.470067 24.827716 \nL 297.928745 24.350858 \nL 301.387423 23.883253 \nL 304.8461 23.430024 \nL 308.304778 22.984909 \nL 311.763456 22.550043 \nL 315.222133 22.124334 \nL 318.680811 21.712955 \nL 322.139489 21.310639 \nL 325.598166 20.917717 \nL 329.056844 20.533432 \nL 332.515522 20.156737 \nL 335.974199 19.786069 \nL 339.432877 19.433052 \nL 342.891555 19.081695 \nL 346.350232 18.740635 \nL 349.80891 18.406929 \nL 353.267588 18.079534 \nL 356.726265 17.759399 \nL 360.184943 17.445716 \n\" style=\"fill:none;stroke:#ff0000;stroke-linecap:square;stroke-width:1.5;\"/>\n   </g>\n   <g id=\"line2d_14\">\n    <path clip-path=\"url(#p42fbb0dce6)\" d=\"M 55.821307 176.093401 \nL 59.279985 151.843769 \nL 62.738662 137.152793 \nL 66.19734 127.048384 \nL 69.656018 119.820924 \nL 73.114695 113.761885 \nL 76.573373 108.758672 \nL 80.032051 104.390557 \nL 83.490728 100.805296 \nL 86.949406 97.040964 \nL 90.408084 93.756812 \nL 93.866761 90.805939 \nL 97.325439 88.107824 \nL 100.784117 85.626738 \nL 104.242794 83.331983 \nL 107.701472 81.279121 \nL 111.16015 79.321536 \nL 114.618827 77.47944 \nL 118.077505 75.726358 \nL 121.536183 73.935602 \nL 124.994861 72.218202 \nL 128.453538 70.599494 \nL 131.912216 69.090535 \nL 135.370894 67.637138 \nL 138.829571 66.255293 \nL 142.288249 64.933614 \nL 145.746927 63.661802 \nL 149.205604 62.432885 \nL 152.664282 61.263467 \nL 156.12296 60.055569 \nL 159.581637 58.542672 \nL 163.040315 56.994046 \nL 166.498993 55.44746 \nL 169.95767 53.972189 \nL 173.416348 52.530607 \nL 176.875026 51.141455 \nL 180.333704 49.801887 \nL 183.792381 48.533398 \nL 187.251059 47.322131 \nL 190.709737 46.151907 \nL 194.168414 45.015324 \nL 197.627092 43.918977 \nL 201.08577 42.86932 \nL 204.544447 41.849366 \nL 208.003125 40.87444 \nL 211.461803 39.947723 \nL 214.92048 39.053127 \nL 218.379158 38.174902 \nL 221.837836 37.319025 \nL 225.296513 36.503811 \nL 228.755191 35.728834 \nL 232.213869 34.965149 \nL 235.672546 34.236576 \nL 239.131224 33.523994 \nL 242.589902 32.818908 \nL 246.04858 32.14865 \nL 249.507257 31.50036 \nL 252.965935 30.877218 \nL 256.424613 30.275143 \nL 259.88329 29.686686 \nL 263.341968 29.082286 \nL 266.800646 28.497198 \nL 270.259323 27.925016 \nL 273.718001 27.365313 \nL 277.176679 26.819797 \nL 280.635356 26.288373 \nL 284.094034 25.769048 \nL 287.552712 25.266236 \nL 291.011389 24.772676 \nL 294.470067 24.296814 \nL 297.928745 23.82788 \nL 301.387423 23.374557 \nL 304.8461 22.929679 \nL 308.304778 22.493911 \nL 311.763456 22.070385 \nL 315.222133 21.657013 \nL 318.680811 21.254507 \nL 322.139489 20.863721 \nL 325.598166 20.480906 \nL 329.056844 20.104212 \nL 332.515522 19.733164 \nL 335.974199 19.377727 \nL 339.432877 19.028648 \nL 342.891555 18.685974 \nL 346.350232 18.349706 \nL 349.80891 18.023925 \nL 353.267588 17.704738 \nL 356.726265 17.391483 \nL 360.184943 17.083636 \n\" style=\"fill:none;stroke:#0000ff;stroke-linecap:square;stroke-width:1.5;\"/>\n   </g>\n   <g id=\"patch_3\">\n    <path d=\"M 40.603125 224.64 \nL 40.603125 7.2 \n\" style=\"fill:none;stroke:#000000;stroke-linecap:square;stroke-linejoin:miter;stroke-width:0.8;\"/>\n   </g>\n   <g id=\"patch_4\">\n    <path d=\"M 375.403125 224.64 \nL 375.403125 7.2 \n\" style=\"fill:none;stroke:#000000;stroke-linecap:square;stroke-linejoin:miter;stroke-width:0.8;\"/>\n   </g>\n   <g id=\"patch_5\">\n    <path d=\"M 40.603125 224.64 \nL 375.403125 224.64 \n\" style=\"fill:none;stroke:#000000;stroke-linecap:square;stroke-linejoin:miter;stroke-width:0.8;\"/>\n   </g>\n   <g id=\"patch_6\">\n    <path d=\"M 40.603125 7.2 \nL 375.403125 7.2 \n\" style=\"fill:none;stroke:#000000;stroke-linecap:square;stroke-linejoin:miter;stroke-width:0.8;\"/>\n   </g>\n   <g id=\"legend_1\">\n    <g id=\"patch_7\">\n     <path d=\"M 47.603125 44.55625 \nL 105.04375 44.55625 \nQ 107.04375 44.55625 107.04375 42.55625 \nL 107.04375 14.2 \nQ 107.04375 12.2 105.04375 12.2 \nL 47.603125 12.2 \nQ 45.603125 12.2 45.603125 14.2 \nL 45.603125 42.55625 \nQ 45.603125 44.55625 47.603125 44.55625 \nz\n\" style=\"fill:#ffffff;opacity:0.8;stroke:#cccccc;stroke-linejoin:miter;\"/>\n    </g>\n    <g id=\"line2d_15\">\n     <path d=\"M 49.603125 20.298438 \nL 69.603125 20.298438 \n\" style=\"fill:none;stroke:#ff0000;stroke-linecap:square;stroke-width:1.5;\"/>\n    </g>\n    <g id=\"line2d_16\"/>\n    <g id=\"text_15\">\n     <!-- Train -->\n     <defs>\n      <path d=\"M -0.296875 72.90625 \nL 61.375 72.90625 \nL 61.375 64.59375 \nL 35.5 64.59375 \nL 35.5 0 \nL 25.59375 0 \nL 25.59375 64.59375 \nL -0.296875 64.59375 \nz\n\" id=\"DejaVuSans-84\"/>\n      <path d=\"M 9.421875 54.6875 \nL 18.40625 54.6875 \nL 18.40625 0 \nL 9.421875 0 \nz\nM 9.421875 75.984375 \nL 18.40625 75.984375 \nL 18.40625 64.59375 \nL 9.421875 64.59375 \nz\n\" id=\"DejaVuSans-105\"/>\n      <path d=\"M 54.890625 33.015625 \nL 54.890625 0 \nL 45.90625 0 \nL 45.90625 32.71875 \nQ 45.90625 40.484375 42.875 44.328125 \nQ 39.84375 48.1875 33.796875 48.1875 \nQ 26.515625 48.1875 22.3125 43.546875 \nQ 18.109375 38.921875 18.109375 30.90625 \nL 18.109375 0 \nL 9.078125 0 \nL 9.078125 54.6875 \nL 18.109375 54.6875 \nL 18.109375 46.1875 \nQ 21.34375 51.125 25.703125 53.5625 \nQ 30.078125 56 35.796875 56 \nQ 45.21875 56 50.046875 50.171875 \nQ 54.890625 44.34375 54.890625 33.015625 \nz\n\" id=\"DejaVuSans-110\"/>\n     </defs>\n     <g transform=\"translate(77.603125 23.798438)scale(0.1 -0.1)\">\n      <use xlink:href=\"#DejaVuSans-84\"/>\n      <use x=\"60.865234\" xlink:href=\"#DejaVuSans-114\"/>\n      <use x=\"101.978516\" xlink:href=\"#DejaVuSans-97\"/>\n      <use x=\"163.257812\" xlink:href=\"#DejaVuSans-105\"/>\n      <use x=\"191.041016\" xlink:href=\"#DejaVuSans-110\"/>\n     </g>\n    </g>\n    <g id=\"line2d_17\">\n     <path d=\"M 49.603125 34.976562 \nL 69.603125 34.976562 \n\" style=\"fill:none;stroke:#0000ff;stroke-linecap:square;stroke-width:1.5;\"/>\n    </g>\n    <g id=\"line2d_18\"/>\n    <g id=\"text_16\">\n     <!-- Val -->\n     <defs>\n      <path d=\"M 28.609375 0 \nL 0.78125 72.90625 \nL 11.078125 72.90625 \nL 34.1875 11.53125 \nL 57.328125 72.90625 \nL 67.578125 72.90625 \nL 39.796875 0 \nz\n\" id=\"DejaVuSans-86\"/>\n      <path d=\"M 9.421875 75.984375 \nL 18.40625 75.984375 \nL 18.40625 0 \nL 9.421875 0 \nz\n\" id=\"DejaVuSans-108\"/>\n     </defs>\n     <g transform=\"translate(77.603125 38.476562)scale(0.1 -0.1)\">\n      <use xlink:href=\"#DejaVuSans-86\"/>\n      <use x=\"68.298828\" xlink:href=\"#DejaVuSans-97\"/>\n      <use x=\"129.578125\" xlink:href=\"#DejaVuSans-108\"/>\n     </g>\n    </g>\n   </g>\n  </g>\n </g>\n <defs>\n  <clipPath id=\"p42fbb0dce6\">\n   <rect height=\"217.44\" width=\"334.8\" x=\"40.603125\" y=\"7.2\"/>\n  </clipPath>\n </defs>\n</svg>\n"
          },
          "metadata": {
            "tags": []
          }
        }
      ]
    },
    {
      "cell_type": "code",
      "metadata": {
        "id": "87N8H050W7yp",
        "colab_type": "code",
        "colab": {
          "base_uri": "https://localhost:8080/",
          "height": 371
        },
        "outputId": "64487597-787b-4faa-8a07-4d6d75560e76"
      },
      "source": [
        "plt.xlabel(\"Epochs\")\n",
        "plt.ylabel(\"Losses\")\n",
        "plt.plot(ep_lookahead_losses, 'r', label='Train')\n",
        "plt.plot(ep_lookahead_lossesv, 'b', label='Val')\n",
        "plt.legend()\n",
        "plt.savefig('radam_lookahead_resnet18_9321_loss.jpg')"
      ],
      "execution_count": 69,
      "outputs": [
        {
          "output_type": "display_data",
          "data": {
            "text/plain": [
              "<Figure size 432x288 with 1 Axes>"
            ],
            "image/svg+xml": "<?xml version=\"1.0\" encoding=\"utf-8\" standalone=\"no\"?>\n<!DOCTYPE svg PUBLIC \"-//W3C//DTD SVG 1.1//EN\"\n  \"http://www.w3.org/Graphics/SVG/1.1/DTD/svg11.dtd\">\n<!-- Created with matplotlib (https://matplotlib.org/) -->\n<svg height=\"262.19625pt\" version=\"1.1\" viewBox=\"0 0 385.78125 262.19625\" width=\"385.78125pt\" xmlns=\"http://www.w3.org/2000/svg\" xmlns:xlink=\"http://www.w3.org/1999/xlink\">\n <defs>\n  <style type=\"text/css\">\n*{stroke-linecap:butt;stroke-linejoin:round;}\n  </style>\n </defs>\n <g id=\"figure_1\">\n  <g id=\"patch_1\">\n   <path d=\"M 0 262.19625 \nL 385.78125 262.19625 \nL 385.78125 0 \nL 0 0 \nz\n\" style=\"fill:none;\"/>\n  </g>\n  <g id=\"axes_1\">\n   <g id=\"patch_2\">\n    <path d=\"M 43.78125 224.64 \nL 378.58125 224.64 \nL 378.58125 7.2 \nL 43.78125 7.2 \nz\n\" style=\"fill:#ffffff;\"/>\n   </g>\n   <g id=\"matplotlib.axis_1\">\n    <g id=\"xtick_1\">\n     <g id=\"line2d_1\">\n      <defs>\n       <path d=\"M 0 0 \nL 0 3.5 \n\" id=\"md1f245610b\" style=\"stroke:#000000;stroke-width:0.8;\"/>\n      </defs>\n      <g>\n       <use style=\"stroke:#000000;stroke-width:0.8;\" x=\"58.999432\" xlink:href=\"#md1f245610b\" y=\"224.64\"/>\n      </g>\n     </g>\n     <g id=\"text_1\">\n      <!-- 0 -->\n      <defs>\n       <path d=\"M 31.78125 66.40625 \nQ 24.171875 66.40625 20.328125 58.90625 \nQ 16.5 51.421875 16.5 36.375 \nQ 16.5 21.390625 20.328125 13.890625 \nQ 24.171875 6.390625 31.78125 6.390625 \nQ 39.453125 6.390625 43.28125 13.890625 \nQ 47.125 21.390625 47.125 36.375 \nQ 47.125 51.421875 43.28125 58.90625 \nQ 39.453125 66.40625 31.78125 66.40625 \nz\nM 31.78125 74.21875 \nQ 44.046875 74.21875 50.515625 64.515625 \nQ 56.984375 54.828125 56.984375 36.375 \nQ 56.984375 17.96875 50.515625 8.265625 \nQ 44.046875 -1.421875 31.78125 -1.421875 \nQ 19.53125 -1.421875 13.0625 8.265625 \nQ 6.59375 17.96875 6.59375 36.375 \nQ 6.59375 54.828125 13.0625 64.515625 \nQ 19.53125 74.21875 31.78125 74.21875 \nz\n\" id=\"DejaVuSans-48\"/>\n      </defs>\n      <g transform=\"translate(55.818182 239.238437)scale(0.1 -0.1)\">\n       <use xlink:href=\"#DejaVuSans-48\"/>\n      </g>\n     </g>\n    </g>\n    <g id=\"xtick_2\">\n     <g id=\"line2d_2\">\n      <g>\n       <use style=\"stroke:#000000;stroke-width:0.8;\" x=\"128.172986\" xlink:href=\"#md1f245610b\" y=\"224.64\"/>\n      </g>\n     </g>\n     <g id=\"text_2\">\n      <!-- 20 -->\n      <defs>\n       <path d=\"M 19.1875 8.296875 \nL 53.609375 8.296875 \nL 53.609375 0 \nL 7.328125 0 \nL 7.328125 8.296875 \nQ 12.9375 14.109375 22.625 23.890625 \nQ 32.328125 33.6875 34.8125 36.53125 \nQ 39.546875 41.84375 41.421875 45.53125 \nQ 43.3125 49.21875 43.3125 52.78125 \nQ 43.3125 58.59375 39.234375 62.25 \nQ 35.15625 65.921875 28.609375 65.921875 \nQ 23.96875 65.921875 18.8125 64.3125 \nQ 13.671875 62.703125 7.8125 59.421875 \nL 7.8125 69.390625 \nQ 13.765625 71.78125 18.9375 73 \nQ 24.125 74.21875 28.421875 74.21875 \nQ 39.75 74.21875 46.484375 68.546875 \nQ 53.21875 62.890625 53.21875 53.421875 \nQ 53.21875 48.921875 51.53125 44.890625 \nQ 49.859375 40.875 45.40625 35.40625 \nQ 44.1875 33.984375 37.640625 27.21875 \nQ 31.109375 20.453125 19.1875 8.296875 \nz\n\" id=\"DejaVuSans-50\"/>\n      </defs>\n      <g transform=\"translate(121.810486 239.238437)scale(0.1 -0.1)\">\n       <use xlink:href=\"#DejaVuSans-50\"/>\n       <use x=\"63.623047\" xlink:href=\"#DejaVuSans-48\"/>\n      </g>\n     </g>\n    </g>\n    <g id=\"xtick_3\">\n     <g id=\"line2d_3\">\n      <g>\n       <use style=\"stroke:#000000;stroke-width:0.8;\" x=\"197.346539\" xlink:href=\"#md1f245610b\" y=\"224.64\"/>\n      </g>\n     </g>\n     <g id=\"text_3\">\n      <!-- 40 -->\n      <defs>\n       <path d=\"M 37.796875 64.3125 \nL 12.890625 25.390625 \nL 37.796875 25.390625 \nz\nM 35.203125 72.90625 \nL 47.609375 72.90625 \nL 47.609375 25.390625 \nL 58.015625 25.390625 \nL 58.015625 17.1875 \nL 47.609375 17.1875 \nL 47.609375 0 \nL 37.796875 0 \nL 37.796875 17.1875 \nL 4.890625 17.1875 \nL 4.890625 26.703125 \nz\n\" id=\"DejaVuSans-52\"/>\n      </defs>\n      <g transform=\"translate(190.984039 239.238437)scale(0.1 -0.1)\">\n       <use xlink:href=\"#DejaVuSans-52\"/>\n       <use x=\"63.623047\" xlink:href=\"#DejaVuSans-48\"/>\n      </g>\n     </g>\n    </g>\n    <g id=\"xtick_4\">\n     <g id=\"line2d_4\">\n      <g>\n       <use style=\"stroke:#000000;stroke-width:0.8;\" x=\"266.520093\" xlink:href=\"#md1f245610b\" y=\"224.64\"/>\n      </g>\n     </g>\n     <g id=\"text_4\">\n      <!-- 60 -->\n      <defs>\n       <path d=\"M 33.015625 40.375 \nQ 26.375 40.375 22.484375 35.828125 \nQ 18.609375 31.296875 18.609375 23.390625 \nQ 18.609375 15.53125 22.484375 10.953125 \nQ 26.375 6.390625 33.015625 6.390625 \nQ 39.65625 6.390625 43.53125 10.953125 \nQ 47.40625 15.53125 47.40625 23.390625 \nQ 47.40625 31.296875 43.53125 35.828125 \nQ 39.65625 40.375 33.015625 40.375 \nz\nM 52.59375 71.296875 \nL 52.59375 62.3125 \nQ 48.875 64.0625 45.09375 64.984375 \nQ 41.3125 65.921875 37.59375 65.921875 \nQ 27.828125 65.921875 22.671875 59.328125 \nQ 17.53125 52.734375 16.796875 39.40625 \nQ 19.671875 43.65625 24.015625 45.921875 \nQ 28.375 48.1875 33.59375 48.1875 \nQ 44.578125 48.1875 50.953125 41.515625 \nQ 57.328125 34.859375 57.328125 23.390625 \nQ 57.328125 12.15625 50.6875 5.359375 \nQ 44.046875 -1.421875 33.015625 -1.421875 \nQ 20.359375 -1.421875 13.671875 8.265625 \nQ 6.984375 17.96875 6.984375 36.375 \nQ 6.984375 53.65625 15.1875 63.9375 \nQ 23.390625 74.21875 37.203125 74.21875 \nQ 40.921875 74.21875 44.703125 73.484375 \nQ 48.484375 72.75 52.59375 71.296875 \nz\n\" id=\"DejaVuSans-54\"/>\n      </defs>\n      <g transform=\"translate(260.157593 239.238437)scale(0.1 -0.1)\">\n       <use xlink:href=\"#DejaVuSans-54\"/>\n       <use x=\"63.623047\" xlink:href=\"#DejaVuSans-48\"/>\n      </g>\n     </g>\n    </g>\n    <g id=\"xtick_5\">\n     <g id=\"line2d_5\">\n      <g>\n       <use style=\"stroke:#000000;stroke-width:0.8;\" x=\"335.693647\" xlink:href=\"#md1f245610b\" y=\"224.64\"/>\n      </g>\n     </g>\n     <g id=\"text_5\">\n      <!-- 80 -->\n      <defs>\n       <path d=\"M 31.78125 34.625 \nQ 24.75 34.625 20.71875 30.859375 \nQ 16.703125 27.09375 16.703125 20.515625 \nQ 16.703125 13.921875 20.71875 10.15625 \nQ 24.75 6.390625 31.78125 6.390625 \nQ 38.8125 6.390625 42.859375 10.171875 \nQ 46.921875 13.96875 46.921875 20.515625 \nQ 46.921875 27.09375 42.890625 30.859375 \nQ 38.875 34.625 31.78125 34.625 \nz\nM 21.921875 38.8125 \nQ 15.578125 40.375 12.03125 44.71875 \nQ 8.5 49.078125 8.5 55.328125 \nQ 8.5 64.0625 14.71875 69.140625 \nQ 20.953125 74.21875 31.78125 74.21875 \nQ 42.671875 74.21875 48.875 69.140625 \nQ 55.078125 64.0625 55.078125 55.328125 \nQ 55.078125 49.078125 51.53125 44.71875 \nQ 48 40.375 41.703125 38.8125 \nQ 48.828125 37.15625 52.796875 32.3125 \nQ 56.78125 27.484375 56.78125 20.515625 \nQ 56.78125 9.90625 50.3125 4.234375 \nQ 43.84375 -1.421875 31.78125 -1.421875 \nQ 19.734375 -1.421875 13.25 4.234375 \nQ 6.78125 9.90625 6.78125 20.515625 \nQ 6.78125 27.484375 10.78125 32.3125 \nQ 14.796875 37.15625 21.921875 38.8125 \nz\nM 18.3125 54.390625 \nQ 18.3125 48.734375 21.84375 45.5625 \nQ 25.390625 42.390625 31.78125 42.390625 \nQ 38.140625 42.390625 41.71875 45.5625 \nQ 45.3125 48.734375 45.3125 54.390625 \nQ 45.3125 60.0625 41.71875 63.234375 \nQ 38.140625 66.40625 31.78125 66.40625 \nQ 25.390625 66.40625 21.84375 63.234375 \nQ 18.3125 60.0625 18.3125 54.390625 \nz\n\" id=\"DejaVuSans-56\"/>\n      </defs>\n      <g transform=\"translate(329.331147 239.238437)scale(0.1 -0.1)\">\n       <use xlink:href=\"#DejaVuSans-56\"/>\n       <use x=\"63.623047\" xlink:href=\"#DejaVuSans-48\"/>\n      </g>\n     </g>\n    </g>\n    <g id=\"text_6\">\n     <!-- Epochs -->\n     <defs>\n      <path d=\"M 9.8125 72.90625 \nL 55.90625 72.90625 \nL 55.90625 64.59375 \nL 19.671875 64.59375 \nL 19.671875 43.015625 \nL 54.390625 43.015625 \nL 54.390625 34.71875 \nL 19.671875 34.71875 \nL 19.671875 8.296875 \nL 56.78125 8.296875 \nL 56.78125 0 \nL 9.8125 0 \nz\n\" id=\"DejaVuSans-69\"/>\n      <path d=\"M 18.109375 8.203125 \nL 18.109375 -20.796875 \nL 9.078125 -20.796875 \nL 9.078125 54.6875 \nL 18.109375 54.6875 \nL 18.109375 46.390625 \nQ 20.953125 51.265625 25.265625 53.625 \nQ 29.59375 56 35.59375 56 \nQ 45.5625 56 51.78125 48.09375 \nQ 58.015625 40.1875 58.015625 27.296875 \nQ 58.015625 14.40625 51.78125 6.484375 \nQ 45.5625 -1.421875 35.59375 -1.421875 \nQ 29.59375 -1.421875 25.265625 0.953125 \nQ 20.953125 3.328125 18.109375 8.203125 \nz\nM 48.6875 27.296875 \nQ 48.6875 37.203125 44.609375 42.84375 \nQ 40.53125 48.484375 33.40625 48.484375 \nQ 26.265625 48.484375 22.1875 42.84375 \nQ 18.109375 37.203125 18.109375 27.296875 \nQ 18.109375 17.390625 22.1875 11.75 \nQ 26.265625 6.109375 33.40625 6.109375 \nQ 40.53125 6.109375 44.609375 11.75 \nQ 48.6875 17.390625 48.6875 27.296875 \nz\n\" id=\"DejaVuSans-112\"/>\n      <path d=\"M 30.609375 48.390625 \nQ 23.390625 48.390625 19.1875 42.75 \nQ 14.984375 37.109375 14.984375 27.296875 \nQ 14.984375 17.484375 19.15625 11.84375 \nQ 23.34375 6.203125 30.609375 6.203125 \nQ 37.796875 6.203125 41.984375 11.859375 \nQ 46.1875 17.53125 46.1875 27.296875 \nQ 46.1875 37.015625 41.984375 42.703125 \nQ 37.796875 48.390625 30.609375 48.390625 \nz\nM 30.609375 56 \nQ 42.328125 56 49.015625 48.375 \nQ 55.71875 40.765625 55.71875 27.296875 \nQ 55.71875 13.875 49.015625 6.21875 \nQ 42.328125 -1.421875 30.609375 -1.421875 \nQ 18.84375 -1.421875 12.171875 6.21875 \nQ 5.515625 13.875 5.515625 27.296875 \nQ 5.515625 40.765625 12.171875 48.375 \nQ 18.84375 56 30.609375 56 \nz\n\" id=\"DejaVuSans-111\"/>\n      <path d=\"M 48.78125 52.59375 \nL 48.78125 44.1875 \nQ 44.96875 46.296875 41.140625 47.34375 \nQ 37.3125 48.390625 33.40625 48.390625 \nQ 24.65625 48.390625 19.8125 42.84375 \nQ 14.984375 37.3125 14.984375 27.296875 \nQ 14.984375 17.28125 19.8125 11.734375 \nQ 24.65625 6.203125 33.40625 6.203125 \nQ 37.3125 6.203125 41.140625 7.25 \nQ 44.96875 8.296875 48.78125 10.40625 \nL 48.78125 2.09375 \nQ 45.015625 0.34375 40.984375 -0.53125 \nQ 36.96875 -1.421875 32.421875 -1.421875 \nQ 20.0625 -1.421875 12.78125 6.34375 \nQ 5.515625 14.109375 5.515625 27.296875 \nQ 5.515625 40.671875 12.859375 48.328125 \nQ 20.21875 56 33.015625 56 \nQ 37.15625 56 41.109375 55.140625 \nQ 45.0625 54.296875 48.78125 52.59375 \nz\n\" id=\"DejaVuSans-99\"/>\n      <path d=\"M 54.890625 33.015625 \nL 54.890625 0 \nL 45.90625 0 \nL 45.90625 32.71875 \nQ 45.90625 40.484375 42.875 44.328125 \nQ 39.84375 48.1875 33.796875 48.1875 \nQ 26.515625 48.1875 22.3125 43.546875 \nQ 18.109375 38.921875 18.109375 30.90625 \nL 18.109375 0 \nL 9.078125 0 \nL 9.078125 75.984375 \nL 18.109375 75.984375 \nL 18.109375 46.1875 \nQ 21.34375 51.125 25.703125 53.5625 \nQ 30.078125 56 35.796875 56 \nQ 45.21875 56 50.046875 50.171875 \nQ 54.890625 44.34375 54.890625 33.015625 \nz\n\" id=\"DejaVuSans-104\"/>\n      <path d=\"M 44.28125 53.078125 \nL 44.28125 44.578125 \nQ 40.484375 46.53125 36.375 47.5 \nQ 32.28125 48.484375 27.875 48.484375 \nQ 21.1875 48.484375 17.84375 46.4375 \nQ 14.5 44.390625 14.5 40.28125 \nQ 14.5 37.15625 16.890625 35.375 \nQ 19.28125 33.59375 26.515625 31.984375 \nL 29.59375 31.296875 \nQ 39.15625 29.25 43.1875 25.515625 \nQ 47.21875 21.78125 47.21875 15.09375 \nQ 47.21875 7.46875 41.1875 3.015625 \nQ 35.15625 -1.421875 24.609375 -1.421875 \nQ 20.21875 -1.421875 15.453125 -0.5625 \nQ 10.6875 0.296875 5.421875 2 \nL 5.421875 11.28125 \nQ 10.40625 8.6875 15.234375 7.390625 \nQ 20.0625 6.109375 24.8125 6.109375 \nQ 31.15625 6.109375 34.5625 8.28125 \nQ 37.984375 10.453125 37.984375 14.40625 \nQ 37.984375 18.0625 35.515625 20.015625 \nQ 33.0625 21.96875 24.703125 23.78125 \nL 21.578125 24.515625 \nQ 13.234375 26.265625 9.515625 29.90625 \nQ 5.8125 33.546875 5.8125 39.890625 \nQ 5.8125 47.609375 11.28125 51.796875 \nQ 16.75 56 26.8125 56 \nQ 31.78125 56 36.171875 55.265625 \nQ 40.578125 54.546875 44.28125 53.078125 \nz\n\" id=\"DejaVuSans-115\"/>\n     </defs>\n     <g transform=\"translate(193.265625 252.916562)scale(0.1 -0.1)\">\n      <use xlink:href=\"#DejaVuSans-69\"/>\n      <use x=\"63.183594\" xlink:href=\"#DejaVuSans-112\"/>\n      <use x=\"126.660156\" xlink:href=\"#DejaVuSans-111\"/>\n      <use x=\"187.841797\" xlink:href=\"#DejaVuSans-99\"/>\n      <use x=\"242.822266\" xlink:href=\"#DejaVuSans-104\"/>\n      <use x=\"306.201172\" xlink:href=\"#DejaVuSans-115\"/>\n     </g>\n    </g>\n   </g>\n   <g id=\"matplotlib.axis_2\">\n    <g id=\"ytick_1\">\n     <g id=\"line2d_6\">\n      <defs>\n       <path d=\"M 0 0 \nL -3.5 0 \n\" id=\"md31da25a78\" style=\"stroke:#000000;stroke-width:0.8;\"/>\n      </defs>\n      <g>\n       <use style=\"stroke:#000000;stroke-width:0.8;\" x=\"43.78125\" xlink:href=\"#md31da25a78\" y=\"215.141788\"/>\n      </g>\n     </g>\n     <g id=\"text_7\">\n      <!-- 0.0 -->\n      <defs>\n       <path d=\"M 10.6875 12.40625 \nL 21 12.40625 \nL 21 0 \nL 10.6875 0 \nz\n\" id=\"DejaVuSans-46\"/>\n      </defs>\n      <g transform=\"translate(20.878125 218.941006)scale(0.1 -0.1)\">\n       <use xlink:href=\"#DejaVuSans-48\"/>\n       <use x=\"63.623047\" xlink:href=\"#DejaVuSans-46\"/>\n       <use x=\"95.410156\" xlink:href=\"#DejaVuSans-48\"/>\n      </g>\n     </g>\n    </g>\n    <g id=\"ytick_2\">\n     <g id=\"line2d_7\">\n      <g>\n       <use style=\"stroke:#000000;stroke-width:0.8;\" x=\"43.78125\" xlink:href=\"#md31da25a78\" y=\"184.206109\"/>\n      </g>\n     </g>\n     <g id=\"text_8\">\n      <!-- 0.1 -->\n      <defs>\n       <path d=\"M 12.40625 8.296875 \nL 28.515625 8.296875 \nL 28.515625 63.921875 \nL 10.984375 60.40625 \nL 10.984375 69.390625 \nL 28.421875 72.90625 \nL 38.28125 72.90625 \nL 38.28125 8.296875 \nL 54.390625 8.296875 \nL 54.390625 0 \nL 12.40625 0 \nz\n\" id=\"DejaVuSans-49\"/>\n      </defs>\n      <g transform=\"translate(20.878125 188.005327)scale(0.1 -0.1)\">\n       <use xlink:href=\"#DejaVuSans-48\"/>\n       <use x=\"63.623047\" xlink:href=\"#DejaVuSans-46\"/>\n       <use x=\"95.410156\" xlink:href=\"#DejaVuSans-49\"/>\n      </g>\n     </g>\n    </g>\n    <g id=\"ytick_3\">\n     <g id=\"line2d_8\">\n      <g>\n       <use style=\"stroke:#000000;stroke-width:0.8;\" x=\"43.78125\" xlink:href=\"#md31da25a78\" y=\"153.27043\"/>\n      </g>\n     </g>\n     <g id=\"text_9\">\n      <!-- 0.2 -->\n      <g transform=\"translate(20.878125 157.069648)scale(0.1 -0.1)\">\n       <use xlink:href=\"#DejaVuSans-48\"/>\n       <use x=\"63.623047\" xlink:href=\"#DejaVuSans-46\"/>\n       <use x=\"95.410156\" xlink:href=\"#DejaVuSans-50\"/>\n      </g>\n     </g>\n    </g>\n    <g id=\"ytick_4\">\n     <g id=\"line2d_9\">\n      <g>\n       <use style=\"stroke:#000000;stroke-width:0.8;\" x=\"43.78125\" xlink:href=\"#md31da25a78\" y=\"122.334751\"/>\n      </g>\n     </g>\n     <g id=\"text_10\">\n      <!-- 0.3 -->\n      <defs>\n       <path d=\"M 40.578125 39.3125 \nQ 47.65625 37.796875 51.625 33 \nQ 55.609375 28.21875 55.609375 21.1875 \nQ 55.609375 10.40625 48.1875 4.484375 \nQ 40.765625 -1.421875 27.09375 -1.421875 \nQ 22.515625 -1.421875 17.65625 -0.515625 \nQ 12.796875 0.390625 7.625 2.203125 \nL 7.625 11.71875 \nQ 11.71875 9.328125 16.59375 8.109375 \nQ 21.484375 6.890625 26.8125 6.890625 \nQ 36.078125 6.890625 40.9375 10.546875 \nQ 45.796875 14.203125 45.796875 21.1875 \nQ 45.796875 27.640625 41.28125 31.265625 \nQ 36.765625 34.90625 28.71875 34.90625 \nL 20.21875 34.90625 \nL 20.21875 43.015625 \nL 29.109375 43.015625 \nQ 36.375 43.015625 40.234375 45.921875 \nQ 44.09375 48.828125 44.09375 54.296875 \nQ 44.09375 59.90625 40.109375 62.90625 \nQ 36.140625 65.921875 28.71875 65.921875 \nQ 24.65625 65.921875 20.015625 65.03125 \nQ 15.375 64.15625 9.8125 62.3125 \nL 9.8125 71.09375 \nQ 15.4375 72.65625 20.34375 73.4375 \nQ 25.25 74.21875 29.59375 74.21875 \nQ 40.828125 74.21875 47.359375 69.109375 \nQ 53.90625 64.015625 53.90625 55.328125 \nQ 53.90625 49.265625 50.4375 45.09375 \nQ 46.96875 40.921875 40.578125 39.3125 \nz\n\" id=\"DejaVuSans-51\"/>\n      </defs>\n      <g transform=\"translate(20.878125 126.133969)scale(0.1 -0.1)\">\n       <use xlink:href=\"#DejaVuSans-48\"/>\n       <use x=\"63.623047\" xlink:href=\"#DejaVuSans-46\"/>\n       <use x=\"95.410156\" xlink:href=\"#DejaVuSans-51\"/>\n      </g>\n     </g>\n    </g>\n    <g id=\"ytick_5\">\n     <g id=\"line2d_10\">\n      <g>\n       <use style=\"stroke:#000000;stroke-width:0.8;\" x=\"43.78125\" xlink:href=\"#md31da25a78\" y=\"91.399072\"/>\n      </g>\n     </g>\n     <g id=\"text_11\">\n      <!-- 0.4 -->\n      <g transform=\"translate(20.878125 95.198291)scale(0.1 -0.1)\">\n       <use xlink:href=\"#DejaVuSans-48\"/>\n       <use x=\"63.623047\" xlink:href=\"#DejaVuSans-46\"/>\n       <use x=\"95.410156\" xlink:href=\"#DejaVuSans-52\"/>\n      </g>\n     </g>\n    </g>\n    <g id=\"ytick_6\">\n     <g id=\"line2d_11\">\n      <g>\n       <use style=\"stroke:#000000;stroke-width:0.8;\" x=\"43.78125\" xlink:href=\"#md31da25a78\" y=\"60.463393\"/>\n      </g>\n     </g>\n     <g id=\"text_12\">\n      <!-- 0.5 -->\n      <defs>\n       <path d=\"M 10.796875 72.90625 \nL 49.515625 72.90625 \nL 49.515625 64.59375 \nL 19.828125 64.59375 \nL 19.828125 46.734375 \nQ 21.96875 47.46875 24.109375 47.828125 \nQ 26.265625 48.1875 28.421875 48.1875 \nQ 40.625 48.1875 47.75 41.5 \nQ 54.890625 34.8125 54.890625 23.390625 \nQ 54.890625 11.625 47.5625 5.09375 \nQ 40.234375 -1.421875 26.90625 -1.421875 \nQ 22.3125 -1.421875 17.546875 -0.640625 \nQ 12.796875 0.140625 7.71875 1.703125 \nL 7.71875 11.625 \nQ 12.109375 9.234375 16.796875 8.0625 \nQ 21.484375 6.890625 26.703125 6.890625 \nQ 35.15625 6.890625 40.078125 11.328125 \nQ 45.015625 15.765625 45.015625 23.390625 \nQ 45.015625 31 40.078125 35.4375 \nQ 35.15625 39.890625 26.703125 39.890625 \nQ 22.75 39.890625 18.8125 39.015625 \nQ 14.890625 38.140625 10.796875 36.28125 \nz\n\" id=\"DejaVuSans-53\"/>\n      </defs>\n      <g transform=\"translate(20.878125 64.262612)scale(0.1 -0.1)\">\n       <use xlink:href=\"#DejaVuSans-48\"/>\n       <use x=\"63.623047\" xlink:href=\"#DejaVuSans-46\"/>\n       <use x=\"95.410156\" xlink:href=\"#DejaVuSans-53\"/>\n      </g>\n     </g>\n    </g>\n    <g id=\"ytick_7\">\n     <g id=\"line2d_12\">\n      <g>\n       <use style=\"stroke:#000000;stroke-width:0.8;\" x=\"43.78125\" xlink:href=\"#md31da25a78\" y=\"29.527714\"/>\n      </g>\n     </g>\n     <g id=\"text_13\">\n      <!-- 0.6 -->\n      <g transform=\"translate(20.878125 33.326933)scale(0.1 -0.1)\">\n       <use xlink:href=\"#DejaVuSans-48\"/>\n       <use x=\"63.623047\" xlink:href=\"#DejaVuSans-46\"/>\n       <use x=\"95.410156\" xlink:href=\"#DejaVuSans-54\"/>\n      </g>\n     </g>\n    </g>\n    <g id=\"text_14\">\n     <!-- Losses -->\n     <defs>\n      <path d=\"M 9.8125 72.90625 \nL 19.671875 72.90625 \nL 19.671875 8.296875 \nL 55.171875 8.296875 \nL 55.171875 0 \nL 9.8125 0 \nz\n\" id=\"DejaVuSans-76\"/>\n      <path d=\"M 56.203125 29.59375 \nL 56.203125 25.203125 \nL 14.890625 25.203125 \nQ 15.484375 15.921875 20.484375 11.0625 \nQ 25.484375 6.203125 34.421875 6.203125 \nQ 39.59375 6.203125 44.453125 7.46875 \nQ 49.3125 8.734375 54.109375 11.28125 \nL 54.109375 2.78125 \nQ 49.265625 0.734375 44.1875 -0.34375 \nQ 39.109375 -1.421875 33.890625 -1.421875 \nQ 20.796875 -1.421875 13.15625 6.1875 \nQ 5.515625 13.8125 5.515625 26.8125 \nQ 5.515625 40.234375 12.765625 48.109375 \nQ 20.015625 56 32.328125 56 \nQ 43.359375 56 49.78125 48.890625 \nQ 56.203125 41.796875 56.203125 29.59375 \nz\nM 47.21875 32.234375 \nQ 47.125 39.59375 43.09375 43.984375 \nQ 39.0625 48.390625 32.421875 48.390625 \nQ 24.90625 48.390625 20.390625 44.140625 \nQ 15.875 39.890625 15.1875 32.171875 \nz\n\" id=\"DejaVuSans-101\"/>\n     </defs>\n     <g transform=\"translate(14.798438 132.655156)rotate(-90)scale(0.1 -0.1)\">\n      <use xlink:href=\"#DejaVuSans-76\"/>\n      <use x=\"55.697266\" xlink:href=\"#DejaVuSans-111\"/>\n      <use x=\"116.878906\" xlink:href=\"#DejaVuSans-115\"/>\n      <use x=\"168.978516\" xlink:href=\"#DejaVuSans-115\"/>\n      <use x=\"221.078125\" xlink:href=\"#DejaVuSans-101\"/>\n      <use x=\"282.601562\" xlink:href=\"#DejaVuSans-115\"/>\n     </g>\n    </g>\n   </g>\n   <g id=\"line2d_13\">\n    <path clip-path=\"url(#pe85d9b6859)\" d=\"M 58.999432 17.083636 \nL 62.45811 24.895251 \nL 65.916787 28.962272 \nL 69.375465 54.636969 \nL 72.834143 69.901982 \nL 76.29282 69.511552 \nL 79.751498 75.092792 \nL 83.210176 50.752956 \nL 86.668853 79.006509 \nL 90.127531 89.271188 \nL 93.586209 108.579297 \nL 97.044886 117.884848 \nL 100.503564 142.726927 \nL 103.962242 100.990371 \nL 107.420919 119.833428 \nL 110.879597 110.632924 \nL 114.338275 128.475318 \nL 117.796952 100.642343 \nL 121.25563 150.73656 \nL 124.714308 104.246698 \nL 128.172986 146.378404 \nL 131.631663 154.751485 \nL 135.090341 158.523508 \nL 138.549019 143.735629 \nL 142.007696 137.855054 \nL 145.466374 136.60746 \nL 148.925052 129.244561 \nL 152.383729 161.144372 \nL 155.842407 160.318144 \nL 159.301085 151.87458 \nL 162.759762 156.021368 \nL 166.21844 181.034288 \nL 169.677118 188.550577 \nL 173.135795 192.350016 \nL 176.594473 199.75161 \nL 180.053151 187.20004 \nL 183.511829 191.386218 \nL 186.970506 187.61167 \nL 190.429184 192.400618 \nL 193.887862 198.551819 \nL 197.346539 205.01244 \nL 200.805217 202.549563 \nL 204.263895 192.518114 \nL 207.722572 190.917432 \nL 211.18125 197.830152 \nL 214.639928 186.079689 \nL 218.098605 206.740618 \nL 221.557283 199.233752 \nL 225.015961 207.859894 \nL 228.474638 193.265448 \nL 231.933316 203.328352 \nL 235.391994 210.539253 \nL 238.850671 209.982691 \nL 242.309349 201.499041 \nL 245.768027 194.778197 \nL 249.226705 198.673198 \nL 252.685382 205.063666 \nL 256.14406 204.351067 \nL 259.602738 213.152237 \nL 263.061415 191.225323 \nL 266.520093 210.300839 \nL 269.978771 212.548389 \nL 273.437448 206.379357 \nL 276.896126 198.088221 \nL 280.354804 207.4864 \nL 283.813481 211.648441 \nL 287.272159 201.455192 \nL 290.730837 213.675547 \nL 294.189514 205.001274 \nL 297.648192 211.330312 \nL 301.10687 201.691403 \nL 304.565548 213.839262 \nL 308.024225 211.867895 \nL 311.482903 205.763389 \nL 314.941581 211.879406 \nL 318.400258 213.83259 \nL 321.858936 214.756364 \nL 325.317614 200.2578 \nL 328.776291 205.647945 \nL 332.234969 204.025043 \nL 335.693647 214.450005 \nL 339.152324 208.1271 \nL 342.611002 202.80411 \nL 346.06968 213.971648 \nL 349.528357 214.051281 \nL 352.987035 210.772956 \nL 356.445713 208.267622 \nL 359.90439 209.833915 \nL 363.363068 209.558896 \n\" style=\"fill:none;stroke:#ff0000;stroke-linecap:square;stroke-width:1.5;\"/>\n   </g>\n   <g id=\"line2d_14\">\n    <path clip-path=\"url(#pe85d9b6859)\" d=\"M 58.999432 56.053829 \nL 62.45811 71.149562 \nL 65.916787 55.811761 \nL 69.375465 55.566392 \nL 72.834143 67.854412 \nL 76.29282 73.577724 \nL 79.751498 77.197246 \nL 83.210176 46.14934 \nL 86.668853 111.536201 \nL 90.127531 106.233438 \nL 93.586209 94.871697 \nL 97.044886 90.786311 \nL 100.503564 69.367395 \nL 103.962242 66.972516 \nL 107.420919 92.912155 \nL 110.879597 92.34896 \nL 114.338275 56.701245 \nL 117.796952 55.208728 \nL 121.25563 88.650261 \nL 124.714308 91.775689 \nL 128.172986 122.252112 \nL 131.631663 97.036032 \nL 135.090341 104.846292 \nL 138.549019 102.398593 \nL 142.007696 121.97996 \nL 145.466374 97.364885 \nL 148.925052 91.048155 \nL 152.383729 67.531193 \nL 155.842407 106.60174 \nL 159.301085 98.871544 \nL 162.759762 115.803802 \nL 166.21844 91.048257 \nL 169.677118 98.416485 \nL 173.135795 93.045903 \nL 176.594473 105.007477 \nL 180.053151 98.084009 \nL 183.511829 95.755077 \nL 186.970506 107.552663 \nL 190.429184 102.734738 \nL 193.887862 126.048603 \nL 197.346539 109.462429 \nL 200.805217 113.311241 \nL 204.263895 106.533165 \nL 207.722572 89.323251 \nL 211.18125 86.810269 \nL 214.639928 97.691506 \nL 218.098605 108.76473 \nL 221.557283 97.875067 \nL 225.015961 103.280148 \nL 228.474638 85.872097 \nL 231.933316 109.922466 \nL 235.391994 87.985513 \nL 238.850671 99.31056 \nL 242.309349 78.439212 \nL 245.768027 78.803808 \nL 249.226705 99.804728 \nL 252.685382 101.058559 \nL 256.14406 109.274756 \nL 259.602738 94.965598 \nL 263.061415 104.392939 \nL 266.520093 99.484533 \nL 269.978771 97.374694 \nL 273.437448 110.12891 \nL 276.896126 106.522277 \nL 280.354804 97.986651 \nL 283.813481 95.82451 \nL 287.272159 108.545461 \nL 290.730837 95.891803 \nL 294.189514 103.333797 \nL 297.648192 104.179165 \nL 301.10687 100.512642 \nL 304.565548 107.724267 \nL 308.024225 99.234287 \nL 311.482903 100.78012 \nL 314.941581 101.729005 \nL 318.400258 104.783055 \nL 321.858936 100.725226 \nL 325.317614 113.998273 \nL 328.776291 98.73479 \nL 332.234969 98.020118 \nL 335.693647 95.432697 \nL 339.152324 99.774488 \nL 342.611002 93.304124 \nL 346.06968 87.56913 \nL 349.528357 99.137979 \nL 352.987035 89.305375 \nL 356.445713 89.622121 \nL 359.90439 94.770927 \nL 363.363068 92.61157 \n\" style=\"fill:none;stroke:#0000ff;stroke-linecap:square;stroke-width:1.5;\"/>\n   </g>\n   <g id=\"patch_3\">\n    <path d=\"M 43.78125 224.64 \nL 43.78125 7.2 \n\" style=\"fill:none;stroke:#000000;stroke-linecap:square;stroke-linejoin:miter;stroke-width:0.8;\"/>\n   </g>\n   <g id=\"patch_4\">\n    <path d=\"M 378.58125 224.64 \nL 378.58125 7.2 \n\" style=\"fill:none;stroke:#000000;stroke-linecap:square;stroke-linejoin:miter;stroke-width:0.8;\"/>\n   </g>\n   <g id=\"patch_5\">\n    <path d=\"M 43.78125 224.64 \nL 378.58125 224.64 \n\" style=\"fill:none;stroke:#000000;stroke-linecap:square;stroke-linejoin:miter;stroke-width:0.8;\"/>\n   </g>\n   <g id=\"patch_6\">\n    <path d=\"M 43.78125 7.2 \nL 378.58125 7.2 \n\" style=\"fill:none;stroke:#000000;stroke-linecap:square;stroke-linejoin:miter;stroke-width:0.8;\"/>\n   </g>\n   <g id=\"legend_1\">\n    <g id=\"patch_7\">\n     <path d=\"M 314.140625 44.55625 \nL 371.58125 44.55625 \nQ 373.58125 44.55625 373.58125 42.55625 \nL 373.58125 14.2 \nQ 373.58125 12.2 371.58125 12.2 \nL 314.140625 12.2 \nQ 312.140625 12.2 312.140625 14.2 \nL 312.140625 42.55625 \nQ 312.140625 44.55625 314.140625 44.55625 \nz\n\" style=\"fill:#ffffff;opacity:0.8;stroke:#cccccc;stroke-linejoin:miter;\"/>\n    </g>\n    <g id=\"line2d_15\">\n     <path d=\"M 316.140625 20.298437 \nL 336.140625 20.298437 \n\" style=\"fill:none;stroke:#ff0000;stroke-linecap:square;stroke-width:1.5;\"/>\n    </g>\n    <g id=\"line2d_16\"/>\n    <g id=\"text_15\">\n     <!-- Train -->\n     <defs>\n      <path d=\"M -0.296875 72.90625 \nL 61.375 72.90625 \nL 61.375 64.59375 \nL 35.5 64.59375 \nL 35.5 0 \nL 25.59375 0 \nL 25.59375 64.59375 \nL -0.296875 64.59375 \nz\n\" id=\"DejaVuSans-84\"/>\n      <path d=\"M 41.109375 46.296875 \nQ 39.59375 47.171875 37.8125 47.578125 \nQ 36.03125 48 33.890625 48 \nQ 26.265625 48 22.1875 43.046875 \nQ 18.109375 38.09375 18.109375 28.8125 \nL 18.109375 0 \nL 9.078125 0 \nL 9.078125 54.6875 \nL 18.109375 54.6875 \nL 18.109375 46.1875 \nQ 20.953125 51.171875 25.484375 53.578125 \nQ 30.03125 56 36.53125 56 \nQ 37.453125 56 38.578125 55.875 \nQ 39.703125 55.765625 41.0625 55.515625 \nz\n\" id=\"DejaVuSans-114\"/>\n      <path d=\"M 34.28125 27.484375 \nQ 23.390625 27.484375 19.1875 25 \nQ 14.984375 22.515625 14.984375 16.5 \nQ 14.984375 11.71875 18.140625 8.90625 \nQ 21.296875 6.109375 26.703125 6.109375 \nQ 34.1875 6.109375 38.703125 11.40625 \nQ 43.21875 16.703125 43.21875 25.484375 \nL 43.21875 27.484375 \nz\nM 52.203125 31.203125 \nL 52.203125 0 \nL 43.21875 0 \nL 43.21875 8.296875 \nQ 40.140625 3.328125 35.546875 0.953125 \nQ 30.953125 -1.421875 24.3125 -1.421875 \nQ 15.921875 -1.421875 10.953125 3.296875 \nQ 6 8.015625 6 15.921875 \nQ 6 25.140625 12.171875 29.828125 \nQ 18.359375 34.515625 30.609375 34.515625 \nL 43.21875 34.515625 \nL 43.21875 35.40625 \nQ 43.21875 41.609375 39.140625 45 \nQ 35.0625 48.390625 27.6875 48.390625 \nQ 23 48.390625 18.546875 47.265625 \nQ 14.109375 46.140625 10.015625 43.890625 \nL 10.015625 52.203125 \nQ 14.9375 54.109375 19.578125 55.046875 \nQ 24.21875 56 28.609375 56 \nQ 40.484375 56 46.34375 49.84375 \nQ 52.203125 43.703125 52.203125 31.203125 \nz\n\" id=\"DejaVuSans-97\"/>\n      <path d=\"M 9.421875 54.6875 \nL 18.40625 54.6875 \nL 18.40625 0 \nL 9.421875 0 \nz\nM 9.421875 75.984375 \nL 18.40625 75.984375 \nL 18.40625 64.59375 \nL 9.421875 64.59375 \nz\n\" id=\"DejaVuSans-105\"/>\n      <path d=\"M 54.890625 33.015625 \nL 54.890625 0 \nL 45.90625 0 \nL 45.90625 32.71875 \nQ 45.90625 40.484375 42.875 44.328125 \nQ 39.84375 48.1875 33.796875 48.1875 \nQ 26.515625 48.1875 22.3125 43.546875 \nQ 18.109375 38.921875 18.109375 30.90625 \nL 18.109375 0 \nL 9.078125 0 \nL 9.078125 54.6875 \nL 18.109375 54.6875 \nL 18.109375 46.1875 \nQ 21.34375 51.125 25.703125 53.5625 \nQ 30.078125 56 35.796875 56 \nQ 45.21875 56 50.046875 50.171875 \nQ 54.890625 44.34375 54.890625 33.015625 \nz\n\" id=\"DejaVuSans-110\"/>\n     </defs>\n     <g transform=\"translate(344.140625 23.798437)scale(0.1 -0.1)\">\n      <use xlink:href=\"#DejaVuSans-84\"/>\n      <use x=\"60.865234\" xlink:href=\"#DejaVuSans-114\"/>\n      <use x=\"101.978516\" xlink:href=\"#DejaVuSans-97\"/>\n      <use x=\"163.257812\" xlink:href=\"#DejaVuSans-105\"/>\n      <use x=\"191.041016\" xlink:href=\"#DejaVuSans-110\"/>\n     </g>\n    </g>\n    <g id=\"line2d_17\">\n     <path d=\"M 316.140625 34.976562 \nL 336.140625 34.976562 \n\" style=\"fill:none;stroke:#0000ff;stroke-linecap:square;stroke-width:1.5;\"/>\n    </g>\n    <g id=\"line2d_18\"/>\n    <g id=\"text_16\">\n     <!-- Val -->\n     <defs>\n      <path d=\"M 28.609375 0 \nL 0.78125 72.90625 \nL 11.078125 72.90625 \nL 34.1875 11.53125 \nL 57.328125 72.90625 \nL 67.578125 72.90625 \nL 39.796875 0 \nz\n\" id=\"DejaVuSans-86\"/>\n      <path d=\"M 9.421875 75.984375 \nL 18.40625 75.984375 \nL 18.40625 0 \nL 9.421875 0 \nz\n\" id=\"DejaVuSans-108\"/>\n     </defs>\n     <g transform=\"translate(344.140625 38.476562)scale(0.1 -0.1)\">\n      <use xlink:href=\"#DejaVuSans-86\"/>\n      <use x=\"68.298828\" xlink:href=\"#DejaVuSans-97\"/>\n      <use x=\"129.578125\" xlink:href=\"#DejaVuSans-108\"/>\n     </g>\n    </g>\n   </g>\n  </g>\n </g>\n <defs>\n  <clipPath id=\"pe85d9b6859\">\n   <rect height=\"217.44\" width=\"334.8\" x=\"43.78125\" y=\"7.2\"/>\n  </clipPath>\n </defs>\n</svg>\n"
          },
          "metadata": {
            "tags": []
          }
        }
      ]
    },
    {
      "cell_type": "code",
      "metadata": {
        "id": "SV5OcSRgXEBs",
        "colab_type": "code",
        "colab": {}
      },
      "source": [
        "from google.colab import files\n",
        "files.download('./radam_lookahead_resnet18_9321.pth.tar')\n",
        "files.download('./radam_lookahead_resnet18_9321_acc.jpg')\n",
        "files.download('./radam_lookahead_resnet18_9321_loss.jpg')"
      ],
      "execution_count": 0,
      "outputs": []
    }
  ]
}