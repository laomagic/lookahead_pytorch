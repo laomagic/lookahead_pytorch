{
  "nbformat": 4,
  "nbformat_minor": 0,
  "metadata": {
    "colab": {
      "name": "Lookahead_radam_seed11.ipynb",
      "provenance": [],
      "collapsed_sections": []
    },
    "kernelspec": {
      "name": "python3",
      "display_name": "Python 3"
    },
    "accelerator": "GPU"
  },
  "cells": [
    {
      "cell_type": "code",
      "metadata": {
        "id": "ehioQb4Kq5Ny",
        "colab_type": "code",
        "outputId": "d37a6a1c-472e-4e78-fe27-42382ee1caa7",
        "colab": {
          "resources": {
            "http://localhost:8080/nbextensions/google.colab/files.js": {
              "data": "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",
              "ok": true,
              "headers": [
                [
                  "content-type",
                  "application/javascript"
                ]
              ],
              "status": 200,
              "status_text": ""
            }
          },
          "base_uri": "https://localhost:8080/",
          "height": 366
        }
      },
      "source": [
        "from google.colab import files\n",
        "files.upload()"
      ],
      "execution_count": 1,
      "outputs": [
        {
          "output_type": "display_data",
          "data": {
            "text/html": [
              "\n",
              "     <input type=\"file\" id=\"files-ac26bb95-fcfa-4144-bfd2-515c98201d1b\" name=\"files[]\" multiple disabled />\n",
              "     <output id=\"result-ac26bb95-fcfa-4144-bfd2-515c98201d1b\">\n",
              "      Upload widget is only available when the cell has been executed in the\n",
              "      current browser session. Please rerun this cell to enable.\n",
              "      </output>\n",
              "      <script src=\"/nbextensions/google.colab/files.js\"></script> "
            ],
            "text/plain": [
              "<IPython.core.display.HTML object>"
            ]
          },
          "metadata": {
            "tags": []
          }
        },
        {
          "output_type": "stream",
          "text": [
            "Saving SGDW.py to SGDW.py\n",
            "Saving RAdam.py to RAdam.py\n",
            "Saving OneCycle.py to OneCycle.py\n",
            "Saving Lookahead.py to Lookahead.py\n",
            "Saving CLR.py to CLR.py\n",
            "Saving AdamW.py to AdamW.py\n"
          ],
          "name": "stdout"
        },
        {
          "output_type": "execute_result",
          "data": {
            "text/plain": [
              "{'AdamW.py': b'import math\\nimport torch\\nfrom torch.optim.optimizer import Optimizer\\n\\nclass AdamW(Optimizer):\\n    r\"\"\"Implements Adam algorithm with decoupled weight decay.\\n\\n    It has been proposed in `DECOUPLED WEIGHT DECAY REGULARIZATION`_.\\n    Below is modification of adam code from pytorch repository(https://github.com/pytorch/pytorch)\\n\\n    Arguments:\\n        params (iterable): iterable of parameters to optimize or dicts defining\\n            parameter groups\\n        lr (float, optional): learning rate (default: 1e-3)\\n        betas (Tuple[float, float], optional): coefficients used for computing\\n            running averages of gradient and its square (default: (0.9, 0.999))\\n        eps (float, optional): term added to the denominator to improve\\n            numerical stability (default: 1e-8)\\n        weight_decay (float, optional): weight decay (default: 0)\\n        amsgrad (boolean, optional): whether to use the AMSGrad variant of this\\n            algorithm from the paper `On the Convergence of Adam and Beyond`_\\n            (default: False)\\n           \\n    .. _DECOUPLED WEIGHT DECAY REGULARIZATION:\\n        https://arxiv.org/pdf/1711.05101.pdf\\n    \"\"\"\\n\\n    def __init__(self, params, lr=1e-3, betas=(0.9, 0.999), eps=1e-8,\\n                 weight_decay=0, amsgrad=False):\\n        if not 0.0 <= lr:\\n            raise ValueError(\"Invalid learning rate: {}\".format(lr))\\n        if not 0.0 <= eps:\\n            raise ValueError(\"Invalid epsilon value: {}\".format(eps))\\n        if not 0.0 <= betas[0] < 1.0:\\n            raise ValueError(\"Invalid beta parameter at index 0: {}\".format(betas[0]))\\n        if not 0.0 <= betas[1] < 1.0:\\n            raise ValueError(\"Invalid beta parameter at index 1: {}\".format(betas[1]))\\n        defaults = dict(lr=lr, betas=betas, eps=eps,\\n                        weight_decay=weight_decay, amsgrad=amsgrad)\\n        super(AdamW, self).__init__(params, defaults)\\n\\n    def __setstate__(self, state):\\n        super(AdamW, self).__setstate__(state)\\n        for group in self.param_groups:\\n            group.setdefault(\\'amsgrad\\', False)\\n\\n    def step(self, closure=None):\\n        \"\"\"Performs a single optimization step.\\n\\n        Arguments:\\n            closure (callable, optional): A closure that reevaluates the model\\n                and returns the loss.\\n        \"\"\"\\n        loss = None\\n        if closure is not None:\\n            loss = closure()\\n\\n        for group in self.param_groups:\\n            for p in group[\\'params\\']:\\n                if p.grad is None:\\n                    continue\\n                grad = p.grad.data\\n                if grad.is_sparse:\\n                    raise RuntimeError(\\'Adam does not support sparse gradients, please consider SparseAdam instead\\')\\n                amsgrad = group[\\'amsgrad\\']\\n\\n                state = self.state[p]\\n\\n                # State initialization\\n                if len(state) == 0:\\n                    state[\\'step\\'] = 0\\n                    # Exponential moving average of gradient values\\n                    state[\\'exp_avg\\'] = torch.zeros_like(p.data)\\n                    # Exponential moving average of squared gradient values\\n                    state[\\'exp_avg_sq\\'] = torch.zeros_like(p.data)\\n                    if amsgrad:\\n                        # Maintains max of all exp. moving avg. of sq. grad. values\\n                        state[\\'max_exp_avg_sq\\'] = torch.zeros_like(p.data)\\n\\n                exp_avg, exp_avg_sq = state[\\'exp_avg\\'], state[\\'exp_avg_sq\\']\\n                if amsgrad:\\n                    max_exp_avg_sq = state[\\'max_exp_avg_sq\\']\\n                beta1, beta2 = group[\\'betas\\']\\n\\n                state[\\'step\\'] += 1\\n\\n                old = p.data.float()\\n\\n                # Decay the first and second moment running average coefficient\\n                exp_avg.mul_(beta1).add_(1 - beta1, grad)\\n                exp_avg_sq.mul_(beta2).addcmul_(1 - beta2, grad, grad)\\n                if amsgrad:\\n                    # Maintains the maximum of all 2nd moment running avg. till now\\n                    torch.max(max_exp_avg_sq, exp_avg_sq, out=max_exp_avg_sq)\\n                    # Use the max. for normalizing running avg. of gradient\\n                    denom = max_exp_avg_sq.sqrt().add_(group[\\'eps\\'])\\n                else:\\n                    denom = exp_avg_sq.sqrt().add_(group[\\'eps\\'])\\n\\n                bias_correction1 = 1 - beta1 ** state[\\'step\\']\\n                bias_correction2 = 1 - beta2 ** state[\\'step\\']\\n                \\n                step_size = group[\\'lr\\'] * math.sqrt(bias_correction2) / bias_correction1\\n                    \\n                p.data.addcdiv_(-step_size, exp_avg, denom)\\n                \\n                if group[\\'weight_decay\\'] != 0:\\n                    p.data.add_(-group[\\'weight_decay\\'] * group[\\'lr\\'], old)\\n                \\n        return loss',\n",
              " 'CLR.py': b'import math\\nimport matplotlib.pyplot as plt\\n\\n\\nclass CLR(object):\\n    \"\"\"\\n    The method is described in paper : https://arxiv.org/abs/1506.01186 to find out optimum \\n    learning rate. The learning rate is increased from lower value to higher per iteration \\n    for some iterations till loss starts exploding.The learning rate one power lower than \\n    the one where loss is minimum is chosen as optimum learning rate for training.\\n\\n    Args:\\n        optim   Optimizer used in training.\\n\\n        bn      Total number of iterations used for this test run.\\n                The learning rate increasing factor is calculated based on this \\n                iteration number.\\n\\n        base_lr The lower boundary for learning rate which will be used as\\n                initial learning rate during test run. It is adviced to start from\\n                small learning rate value like 1e-4.\\n                Default value is 1e-5\\n\\n        max_lr  The upper boundary for learning rate. This value defines amplitude\\n                for learning rate increase(max_lr-base_lr). max_lr value may not be \\n                reached in test run as loss may explode before reaching max_lr.\\n                It is adviced to use higher value like 10, 100.\\n                Default value is 100.\\n\\n    \"\"\"\\n    def __init__(self, optim, bn, base_lr=1e-7, max_lr=100):\\n        self.base_lr = base_lr\\n        self.max_lr = max_lr\\n        self.optim = optim\\n        self.bn = bn - 1\\n        ratio = self.max_lr/self.base_lr\\n        self.mult = ratio ** (1/self.bn)\\n        self.best_loss = 1e9\\n        self.iteration = 0\\n        self.lrs = []\\n        self.losses = []\\n        \\n    def calc_lr(self, loss):\\n        self.iteration +=1\\n        if math.isnan(loss) or loss > 4 * self.best_loss:\\n            return -1\\n        if loss < self.best_loss and self.iteration > 1:\\n            self.best_loss = loss\\n            \\n        mult = self.mult ** self.iteration\\n        lr = self.base_lr * mult\\n        \\n        self.lrs.append(lr)\\n        self.losses.append(loss)\\n        \\n        return lr\\n        \\n    def plot(self, start=10, end=-5):\\n        plt.xlabel(\"Learning Rate\")\\n        plt.ylabel(\"Losses\")\\n        plt.plot(self.lrs[start:end], self.losses[start:end])\\n        plt.xscale(\\'log\\')\\n        \\n        \\n    def plot_lr(self):\\n        plt.xlabel(\"Iterations\")\\n        plt.ylabel(\"Learning Rate\")\\n        plt.plot(self.lrs)\\n        plt.yscale(\\'log\\')',\n",
              " 'Lookahead.py': b\"import torch\\nfrom torch.optim import Optimizer\\nfrom collections import defaultdict\\n\\nclass Lookahead(Optimizer):\\n    r'''Implements Lookahead optimizer.\\n\\n    It's been proposed in paper: Lookahead Optimizer: k steps forward, 1 step back\\n    (https://arxiv.org/pdf/1907.08610.pdf)\\n\\n    Args:\\n        optimizer: The optimizer object used in inner loop for fast weight updates.\\n        alpha:     The learning rate for slow weight update.\\n                   Default: 0.5\\n        k:         Number of iterations of fast weights updates before updating slow\\n                   weights.\\n                   Default: 5\\n\\n    Example:\\n        > optim = Lookahead(optimizer)\\n        > optim = Lookahead(optimizer, alpha=0.6, k=10)\\n    '''\\n    def __init__(self, optimizer, alpha=0.5, k=5):\\n        assert(0.0 <= alpha <= 1.0)\\n        assert(k >= 1)\\n        self.optimizer = optimizer\\n        self.alpha = alpha\\n        self.k = k\\n        self.k_counter = 0\\n        self.param_groups = self.optimizer.param_groups\\n        self.state = defaultdict(dict)\\n        self.slow_weights = [[param.clone().detach() for param in group['params']] for group in self.param_groups]\\n    \\n    def step(self, closure=None):\\n        loss = self.optimizer.step(closure)\\n        self.k_counter += 1\\n        if self.k_counter >= self.k:\\n            for group, slow_weight in zip(self.param_groups, self.slow_weights):\\n                for param, weight in zip(group['params'], slow_weight):\\n                    weight.data.add_(self.alpha, (param.data - weight.data))\\n                    param.data.copy_(weight.data)\\n            self.k_counter = 0\\n        return loss\\n\\n    def __getstate__(self):\\n        return {\\n            'state': self.state,\\n            'optimizer': self.optimizer,\\n            'alpha': self.alpha,\\n            'k': self.k,\\n            'k_counter': self.k_counter\\n        }\\n\\n    def state_dict(self):\\n        return self.optimizer.state_dict()\\n\\n    def load_state_dict(self, state_dict):\\n        self.optimizer.load_state_dict(state_dict)\",\n",
              " 'OneCycle.py': b'import math\\n\\nclass OneCycle(object):\\n    \"\"\"\\n    In paper (https://arxiv.org/pdf/1803.09820.pdf), author suggests to do one cycle during \\n    whole run with 2 steps of equal length. During first step, increase the learning rate \\n    from lower learning rate to higher learning rate. And in second step, decrease it from \\n    higher to lower learning rate. This is Cyclic learning rate policy. Author suggests one \\n    addition to this. - During last few hundred/thousand iterations of cycle reduce the \\n    learning rate to 1/100th or 1/1000th of the lower learning rate.\\n\\n    Also, Author suggests that reducing momentum when learning rate is increasing. So, we make \\n    one cycle of momentum also with learning rate - Decrease momentum when learning rate is \\n    increasing and increase momentum when learning rate is decreasing.\\n\\n    Args:\\n        nb              Total number of iterations including all epochs\\n\\n        max_lr          The optimum learning rate. This learning rate will be used as highest \\n                        learning rate. The learning rate will fluctuate between max_lr to\\n                        max_lr/div and then (max_lr/div)/div.\\n\\n        momentum_vals   The maximum and minimum momentum values between which momentum will\\n                        fluctuate during cycle.\\n                        Default values are (0.95, 0.85)\\n\\n        prcnt           The percentage of cycle length for which we annihilate learning rate\\n                        way below the lower learnig rate.\\n                        The default value is 10\\n\\n        div             The division factor used to get lower boundary of learning rate. This\\n                        will be used with max_lr value to decide lower learning rate boundary.\\n                        This value is also used to decide how much we annihilate the learning \\n                        rate below lower learning rate.\\n                        The default value is 10.\\n\\n        use_cosine      Use cosine annealation instead of linear to change learning rate and \\n                        momentum. \\n                        The default value is False\\n    \"\"\"\\n    def __init__(self, nb, max_lr, momentum_vals=(0.95, 0.85), prcnt= 10, div=10, use_cosine=False):\\n        self.nb = nb\\n        self.div = div\\n        self.high_lr = max_lr\\n        self.low_mom = momentum_vals[1]\\n        self.high_mom = momentum_vals[0]\\n        self.use_cosine = use_cosine\\n        if self.use_cosine:\\n            self.prcnt = 0\\n        else:\\n            self.prcnt = prcnt\\n        self.iteration = 0\\n        self.lrs = []\\n        self.moms = []\\n        if self.use_cosine:\\n            self.step_len =  int(self.nb / 4)\\n        else:\\n            self.step_len =  int(self.nb * (1- prcnt/100)/2)\\n        \\n    def calc(self):\\n        if self.use_cosine:\\n            lr = self.calc_lr_cosine()\\n            mom = self.calc_mom_cosine()\\n        else:\\n            lr = self.calc_lr()\\n            mom = self.calc_mom()\\n        self.iteration += 1\\n        return (lr, mom)\\n        \\n    def calc_lr(self):\\n        if self.iteration ==  0:\\n            self.lrs.append(self.high_lr/self.div)\\n            return self.high_lr/self.div\\n        elif self.iteration == self.nb:\\n            self.iteration = 0\\n            self.lrs.append(self.high_lr/self.div)\\n            return self.high_lr/self.div\\n        elif self.iteration > 2 * self.step_len:\\n            ratio = (self.iteration - 2 * self.step_len) / (self.nb - 2 * self.step_len)\\n            #lr = self.high_lr * ( 1 - 0.99 * ratio)/self.div\\n            lr = (self.high_lr / self.div) * (1- ratio * (1 - 1/self.div))\\n        elif self.iteration > self.step_len:\\n            ratio = 1- (self.iteration -self.step_len)/self.step_len\\n            lr = self.high_lr * (1 + ratio * (self.div - 1)) / self.div\\n        else :\\n            ratio = self.iteration/self.step_len\\n            lr = self.high_lr * (1 + ratio * (self.div - 1)) / self.div\\n        self.lrs.append(lr)\\n        return lr\\n\\n    def calc_mom(self):\\n        if self.iteration == 0:\\n            self.moms.append(self.high_mom)\\n            return self.high_mom\\n        elif self.iteration == self.nb:\\n            self.iteration = 0\\n            self.moms.append(self.high_mom)\\n            return self.high_mom\\n        elif self.iteration > 2 * self.step_len:\\n            mom = self.high_mom\\n        elif self.iteration > self.step_len:\\n            ratio = (self.iteration -self.step_len)/self.step_len\\n            mom = self.low_mom + ratio * (self.high_mom - self.low_mom)\\n        else :\\n            ratio = self.iteration/self.step_len\\n            mom = self.high_mom - ratio * (self.high_mom - self.low_mom)\\n        self.moms.append(mom)\\n        return mom\\n\\n    def calc_lr_cosine(self):\\n        if self.iteration ==  0:\\n            self.lrs.append(self.high_lr/self.div)\\n            return self.high_lr/self.div\\n        elif self.iteration == self.nb:\\n            self.iteration = 0\\n            self.lrs.append(self.high_lr/self.div)\\n            return self.high_lr/self.div\\n        elif self.iteration > self.step_len:\\n            ratio = (self.iteration -self.step_len)/(self.nb - self.step_len)\\n            lr = (self.high_lr/self.div) + 0.5 * (self.high_lr - self.high_lr/self.div) * (1 + math.cos(math.pi * ratio))\\n        else :\\n            ratio = self.iteration/self.step_len\\n            lr = self.high_lr - 0.5 * (self.high_lr - self.high_lr/self.div) * (1 + math.cos(math.pi * ratio))\\n        self.lrs.append(lr)\\n        return lr\\n\\n    def calc_mom_cosine(self):\\n        if self.iteration == 0:\\n            self.moms.append(self.high_mom)\\n            return self.high_mom\\n        elif self.iteration == self.nb:\\n            self.iteration = 0\\n            self.moms.append(self.high_mom)\\n            return self.high_mom\\n        elif self.iteration > self.step_len:\\n            ratio = (self.iteration -self.step_len)/(self.nb - self.step_len)\\n            mom = self.high_mom - 0.5 * (self.high_mom - self.low_mom) * (1 + math.cos(math.pi * ratio))\\n        else :\\n            ratio = self.iteration/self.step_len\\n            mom = self.low_mom + 0.5 * (self.high_mom - self.low_mom) * (1 + math.cos(math.pi * ratio))\\n        self.moms.append(mom)\\n        return mom\\n',\n",
              " 'RAdam.py': b'import math\\nimport torch\\nfrom torch.optim import Optimizer\\n\\n\\nclass RAdam(Optimizer):\\n    r\"\"\"Implements RAdam algorithm.\\n    It has been proposed in `ON THE VARIANCE OF THE ADAPTIVE LEARNING\\n    RATE AND BEYOND(https://arxiv.org/pdf/1908.03265.pdf)`_.\\n    \\n    Arguments:\\n        params (iterable):      iterable of parameters to optimize or dicts defining\\n                                parameter groups\\n        lr (float, optional):   learning rate (default: 1e-3)\\n        betas (Tuple[float, float], optional):  coefficients used for computing\\n                                                running averages of gradient and \\n                                                its square (default: (0.9, 0.999))\\n        eps (float, optional):  term added to the denominator to improve\\n                                numerical stability (default: 1e-8)\\n        weight_decay (float, optional): weight decay (L2 penalty) (default: 0)\\n        amsgrad (boolean, optional):    whether to use the AMSGrad variant of this\\n                                        algorithm from the paper `On the Convergence \\n                                        of Adam and Beyond`_(default: False)\\n        \\n        sma_thresh:             simple moving average threshold.\\n                                Length till where the variance of adaptive lr is intracable.\\n                                Default: 4 (as per paper)\\n    \"\"\"\\n    def __init__(self, params, lr=1e-3, betas=(0.9, 0.999), eps=1e-8,\\n                 weight_decay=0, amsgrad=False, sma_thresh=4):\\n        if not 0.0 <= lr:\\n            raise ValueError(\"Invalid learning rate: {}\".format(lr))\\n        if not 0.0 <= eps:\\n            raise ValueError(\"Invalid epsilon value: {}\".format(eps))\\n        if not 0.0 <= betas[0] < 1.0:\\n            raise ValueError(\"Invalid beta parameter at index 0: {}\".format(betas[0]))\\n        if not 0.0 <= betas[1] < 1.0:\\n            raise ValueError(\"Invalid beta parameter at index 1: {}\".format(betas[1]))\\n        defaults = dict(lr=lr, betas=betas, eps=eps,\\n                        weight_decay=weight_decay, amsgrad=amsgrad)\\n        super(RAdam, self).__init__(params, defaults)\\n\\n        self.radam_buffer = [[None, None, None] for ind in range(10)]\\n        self.sma_thresh = sma_thresh\\n\\n    def __setstate__(self, state):\\n        super(RAdam, self).__setstate__(state)\\n        for group in self.param_groups:\\n            group.setdefault(\\'amsgrad\\', False)\\n\\n    def step(self, closure=None):\\n        loss = None\\n        if closure is not None:\\n            loss = closure()\\n\\n        for group in self.param_groups:\\n            for p in group[\\'params\\']:\\n                if p.grad is None:\\n                    continue\\n\\n                # Perform optimization step\\n                grad = p.grad.data\\n                if grad.is_sparse:\\n                    raise RuntimeError(\\'Adam does not support sparse gradients, please consider SparseAdam instead\\')\\n                amsgrad = group[\\'amsgrad\\']\\n\\n                state = self.state[p]\\n\\n                # State initialization\\n                if len(state) == 0:\\n                    state[\\'step\\'] = 0\\n                    # Exponential moving average of gradient values\\n                    state[\\'exp_avg\\'] = torch.zeros_like(p.data)\\n                    # Exponential moving average of squared gradient values\\n                    state[\\'exp_avg_sq\\'] = torch.zeros_like(p.data)\\n                    if amsgrad:\\n                        # Maintains max of all exp. moving avg. of sq. grad. values\\n                        state[\\'max_exp_avg_sq\\'] = torch.zeros_like(p.data)\\n\\n                exp_avg, exp_avg_sq = state[\\'exp_avg\\'], state[\\'exp_avg_sq\\']\\n                if amsgrad:\\n                    max_exp_avg_sq = state[\\'max_exp_avg_sq\\']\\n                beta1, beta2 = group[\\'betas\\']\\n\\n                state[\\'step\\'] += 1\\n                old = p.data.float()\\n\\n                # Decay the first and second moment running average coefficient\\n                exp_avg.mul_(beta1).add_(1 - beta1, grad)\\n                exp_avg_sq.mul_(beta2).addcmul_(1 - beta2, grad, grad)\\n\\n                buffer = self.radam_buffer[int(state[\\'step\\']%10)]\\n\\n                if buffer[0] == state[\\'step\\']:\\n                    sma_t, step_size = buffer[1], buffer[2]\\n                else:                 \\n                    sma_max_len = 2/(1-beta2) - 1  \\n                    beta2_t = beta2 ** state[\\'step\\']\\n                    sma_t = sma_max_len - 2 * state[\\'step\\'] * beta2_t /(1 - beta2_t)\\n                    buffer[0] = state[\\'step\\']\\n                    buffer[1] = sma_t\\n\\n                    if sma_t > self.sma_thresh :\\n                        rt = math.sqrt(((sma_t - 4) * (sma_t - 2) * sma_max_len)/((sma_max_len -4) * (sma_max_len - 2) * sma_t))\\n                        step_size = group[\\'lr\\'] * rt * math.sqrt((1 - beta2_t)) / (1 - beta1 ** state[\\'step\\'])                      \\n                    else:\\n                        step_size = group[\\'lr\\'] / (1 - beta1 ** state[\\'step\\'])                        \\n                    buffer[2] = step_size\\n\\n                if group[\\'weight_decay\\'] != 0:\\n                    p.data.add_(-group[\\'weight_decay\\'] * group[\\'lr\\'], old)\\n\\n                if sma_t > self.sma_thresh :\\n                    denom = exp_avg_sq.sqrt().add_(group[\\'eps\\'])\\n                    p.data.addcdiv_(-step_size, exp_avg, denom)\\n                else:\\n                    p.data.add_(-step_size, exp_avg)\\n\\n        return loss\\n',\n",
              " 'SGDW.py': b'import torch\\nfrom torch.optim.optimizer import Optimizer, required\\n\\n\\nclass SGDW(Optimizer):\\n    r\"\"\"Implements stochastic gradient descent with decoupled weight decay(optionally with momentum).\\n\\n    It has been proposed in `DECOUPLED WEIGHT DECAY REGULARIZATION`_.\\n    Below is modification of adam code from pytorch repository(https://github.com/pytorch/pytorch).\\n\\n    Args:\\n        params (iterable): iterable of parameters to optimize or dicts defining\\n            parameter groups\\n        lr (float): learning rate\\n        momentum (float, optional): momentum factor (default: 0)\\n        weight_decay (float, optional): weight decay (L2 penalty) (default: 0)\\n        dampening (float, optional): dampening for momentum (default: 0)\\n        nesterov (bool, optional): enables Nesterov momentum (default: False)\\n\\n    Example:\\n        >>> optimizer = torch.optim.SGD(model.parameters(), lr=0.1, momentum=0.9)\\n        >>> optimizer.zero_grad()\\n        >>> loss_fn(model(input), target).backward()\\n        >>> optimizer.step()\\n\\n    __ http://www.cs.toronto.edu/%7Ehinton/absps/momentum.pdf\\n\\n    .. note::\\n        The implementation of SGD with Momentum/Nesterov subtly differs from\\n        Sutskever et. al. and implementations in some other frameworks.\\n\\n        Considering the specific case of Momentum, the update can be written as\\n\\n        .. math::\\n                  v = \\\\rho * v + g \\\\\\\\\\n                  p = p - lr * v\\n\\n        where p, g, v and :math:`\\\\rho` denote the parameters, gradient,\\n        velocity, and momentum respectively.\\n\\n        This is in contrast to Sutskever et. al. and\\n        other frameworks which employ an update of the form\\n\\n        .. math::\\n             v = \\\\rho * v + lr * g \\\\\\\\\\n             p = p - v\\n\\n        .. _DECOUPLED WEIGHT DECAY REGULARIZATION:\\n        https://arxiv.org/pdf/1711.05101.pdf\\n    \"\"\"\\n\\n    def __init__(self, params, lr=required, momentum=0, dampening=0,\\n                 weight_decay=0, nesterov=False):\\n        if lr is not required and lr < 0.0:\\n            raise ValueError(\"Invalid learning rate: {}\".format(lr))\\n        if momentum < 0.0:\\n            raise ValueError(\"Invalid momentum value: {}\".format(momentum))\\n        if weight_decay < 0.0:\\n            raise ValueError(\"Invalid weight_decay value: {}\".format(weight_decay))\\n\\n        defaults = dict(lr=lr, momentum=momentum, dampening=dampening,\\n                        weight_decay=weight_decay, nesterov=nesterov)\\n        if nesterov and (momentum <= 0 or dampening != 0):\\n            raise ValueError(\"Nesterov momentum requires a momentum and zero dampening\")\\n        super(SGDW, self).__init__(params, defaults)\\n\\n    def __setstate__(self, state):\\n        super(SGDW, self).__setstate__(state)\\n        for group in self.param_groups:\\n            group.setdefault(\\'nesterov\\', False)\\n\\n    def step(self, closure=None):\\n        \"\"\"Performs a single optimization step.\\n\\n        Arguments:\\n            closure (callable, optional): A closure that reevaluates the model\\n                and returns the loss.\\n        \"\"\"\\n        loss = None\\n        if closure is not None:\\n            loss = closure()\\n\\n        for group in self.param_groups:\\n            weight_decay = group[\\'weight_decay\\']\\n            momentum = group[\\'momentum\\']\\n            dampening = group[\\'dampening\\']\\n            nesterov = group[\\'nesterov\\']\\n\\n            for p in group[\\'params\\']:\\n                if p.grad is None:\\n                    continue\\n                d_p = p.grad.data\\n                \\n                old = torch.clone(p.data).detach()\\n                #if weight_decay != 0:\\n                #    d_p.add_(weight_decay, p.data)\\n                if momentum != 0:\\n                    param_state = self.state[p]\\n                    if \\'momentum_buffer\\' not in param_state:\\n                        buf = param_state[\\'momentum_buffer\\'] = torch.zeros_like(p.data)\\n                        buf.mul_(momentum).add_(d_p)\\n                    else:\\n                        buf = param_state[\\'momentum_buffer\\']\\n                        buf.mul_(momentum).add_(1 - dampening, d_p)\\n                    if nesterov:\\n                        d_p = d_p.add(momentum, buf)\\n                    else:\\n                        d_p = buf\\n\\n                p.data.add_(-group[\\'lr\\'], d_p)\\n                \\n                if weight_decay != 0:\\n                    p.data.add_(-weight_decay, old)\\n\\n        return loss\\n'}"
            ]
          },
          "metadata": {
            "tags": []
          },
          "execution_count": 1
        }
      ]
    },
    {
      "cell_type": "code",
      "metadata": {
        "id": "o7Dp2pUUqgDN",
        "colab_type": "code",
        "colab": {}
      },
      "source": [
        "%matplotlib inline\n",
        "%reload_ext autoreload\n",
        "%autoreload 2\n",
        "%config InlineBackend.figure_format = 'svg'"
      ],
      "execution_count": 0,
      "outputs": []
    },
    {
      "cell_type": "code",
      "metadata": {
        "id": "K7aNg3F9q3zR",
        "colab_type": "code",
        "colab": {}
      },
      "source": [
        "import torch\n",
        "import torch.nn as nn\n",
        "import numpy as np\n",
        "from torch.utils.data.dataset import Dataset\n",
        "from torch.utils.data import DataLoader\n",
        "from torchvision import transforms\n",
        "import torch.nn.functional as F\n",
        "import torch.optim as optim\n",
        "from torch.autograd import Variable\n",
        "from torchvision.datasets import CIFAR10\n",
        "import torchvision.models as models\n",
        "import matplotlib.pyplot as plt\n",
        "import time\n",
        "import math\n",
        "import tqdm as tqdm\n",
        "from Lookahead import Lookahead\n",
        "from AdamW import AdamW\n",
        "from RAdam import RAdam"
      ],
      "execution_count": 0,
      "outputs": []
    },
    {
      "cell_type": "code",
      "metadata": {
        "id": "gLSYwdcSrXvb",
        "colab_type": "code",
        "outputId": "d2957bb1-8016-4f7b-f4cf-d44c5a36bdc7",
        "colab": {
          "base_uri": "https://localhost:8080/",
          "height": 34
        }
      },
      "source": [
        "device = torch.device('cuda' if torch.cuda.is_available() else 'cpu')\n",
        "device"
      ],
      "execution_count": 4,
      "outputs": [
        {
          "output_type": "execute_result",
          "data": {
            "text/plain": [
              "device(type='cuda')"
            ]
          },
          "metadata": {
            "tags": []
          },
          "execution_count": 4
        }
      ]
    },
    {
      "cell_type": "code",
      "metadata": {
        "id": "anHwr0nYuVC0",
        "colab_type": "code",
        "colab": {}
      },
      "source": [
        "np.random.seed(11)"
      ],
      "execution_count": 0,
      "outputs": []
    },
    {
      "cell_type": "markdown",
      "metadata": {
        "id": "wzJWgAPIrhwO",
        "colab_type": "text"
      },
      "source": [
        "# Load Dataset"
      ]
    },
    {
      "cell_type": "code",
      "metadata": {
        "id": "hYVOcHGXrf6s",
        "colab_type": "code",
        "colab": {}
      },
      "source": [
        "mean = [0.4914, 0.4822, 0.4465]\n",
        "std = [0.2023, 0.1994, 0.2010]"
      ],
      "execution_count": 0,
      "outputs": []
    },
    {
      "cell_type": "code",
      "metadata": {
        "id": "dhPxnE1vrtHT",
        "colab_type": "code",
        "colab": {}
      },
      "source": [
        "normalize = transforms.Normalize(mean=mean, std=std)\n",
        "train_transforms = transforms.Compose([\n",
        "                    transforms.RandomCrop(32, padding=4, padding_mode='reflect'),\n",
        "                    transforms.RandomHorizontalFlip(),\n",
        "                    transforms.ToTensor(),\n",
        "                    normalize\n",
        "                ])\n",
        "valid_transforms = transforms.Compose([\n",
        "                    transforms.ToTensor(),\n",
        "                    normalize\n",
        "                ])"
      ],
      "execution_count": 0,
      "outputs": []
    },
    {
      "cell_type": "code",
      "metadata": {
        "id": "W6rlE2XJrwRV",
        "colab_type": "code",
        "outputId": "da06e422-dcac-467b-c9f5-f40bfcf513bd",
        "colab": {
          "base_uri": "https://localhost:8080/",
          "height": 68
        }
      },
      "source": [
        "trainset = CIFAR10('./data', train=True, download=True, transform=train_transforms)\n",
        "testset = CIFAR10('./data', train=False, download=True, transform=valid_transforms)"
      ],
      "execution_count": 8,
      "outputs": [
        {
          "output_type": "stream",
          "text": [
            "\r0it [00:00, ?it/s]"
          ],
          "name": "stderr"
        },
        {
          "output_type": "stream",
          "text": [
            "Downloading https://www.cs.toronto.edu/~kriz/cifar-10-python.tar.gz to ./data/cifar-10-python.tar.gz\n"
          ],
          "name": "stdout"
        },
        {
          "output_type": "stream",
          "text": [
            "100%|█████████▉| 169959424/170498071 [00:11<00:00, 35218660.80it/s]"
          ],
          "name": "stderr"
        },
        {
          "output_type": "stream",
          "text": [
            "Extracting ./data/cifar-10-python.tar.gz to ./data\n",
            "Files already downloaded and verified\n"
          ],
          "name": "stdout"
        }
      ]
    },
    {
      "cell_type": "code",
      "metadata": {
        "id": "KTnDa9Pqr0Cn",
        "colab_type": "code",
        "colab": {}
      },
      "source": [
        "bs=128\n",
        "epochs=90\n",
        "classes = ('plane', 'car', 'bird', 'cat',\n",
        "           'deer', 'dog', 'frog', 'horse', 'ship', 'truck')"
      ],
      "execution_count": 0,
      "outputs": []
    },
    {
      "cell_type": "code",
      "metadata": {
        "id": "5btvC80or6bE",
        "colab_type": "code",
        "colab": {}
      },
      "source": [
        "train_loader = DataLoader(trainset, batch_size=bs, shuffle=True, num_workers=4)\n",
        "test_loader = DataLoader(testset, batch_size=bs, shuffle=False, num_workers=4)"
      ],
      "execution_count": 0,
      "outputs": []
    },
    {
      "cell_type": "markdown",
      "metadata": {
        "id": "NiRuMuZEsInt",
        "colab_type": "text"
      },
      "source": [
        "# Plot Images"
      ]
    },
    {
      "cell_type": "code",
      "metadata": {
        "id": "L5FF-b2YsHTA",
        "colab_type": "code",
        "colab": {}
      },
      "source": [
        "# Plot few of the images\n",
        "# This can be used to print predictions too\n",
        "def plot_img(preds=None, is_pred=False):        \n",
        "    fig = plt.figure(figsize=(8,8))\n",
        "    columns = 4\n",
        "    rows = 5\n",
        "\n",
        "    for i in range(1, columns*rows +1):\n",
        "        fig.add_subplot(rows, columns, i)\n",
        "        \n",
        "        if is_pred:\n",
        "            img_xy = np.random.randint(len(testset));\n",
        "            img = testset[img_xy][0].numpy()\n",
        "            #img = img * std + mean\n",
        "        else:\n",
        "            img_xy = np.random.randint(len(trainset));\n",
        "            img = trainset[img_xy][0].numpy()\n",
        "            #img = img * std + mean\n",
        "        \n",
        "        if is_pred:\n",
        "            plt.title(classes[int(preds[img_xy])] + \"/\" + classes[testset[img_xy][1]])\n",
        "        else:\n",
        "            plt.title(classes[trainset[img_xy][1]])\n",
        "        plt.axis('off')\n",
        "        img = np.clip(img, 0, 1)\n",
        "        plt.imshow(np.transpose(img , (1,2,0)))\n",
        "    plt.show()"
      ],
      "execution_count": 0,
      "outputs": []
    },
    {
      "cell_type": "code",
      "metadata": {
        "id": "7VXJ9KCzsTX5",
        "colab_type": "code",
        "outputId": "1c193112-d16c-4e21-b05c-e8a340ede34d",
        "colab": {
          "base_uri": "https://localhost:8080/",
          "height": 640
        }
      },
      "source": [
        "plot_img()"
      ],
      "execution_count": 12,
      "outputs": [
        {
          "output_type": "display_data",
          "data": {
            "text/plain": [
              "<Figure size 576x576 with 20 Axes>"
            ],
            "image/svg+xml": "<?xml version=\"1.0\" encoding=\"utf-8\" standalone=\"no\"?>\n<!DOCTYPE svg PUBLIC \"-//W3C//DTD SVG 1.1//EN\"\n  \"http://www.w3.org/Graphics/SVG/1.1/DTD/svg11.dtd\">\n<!-- Created with matplotlib (https://matplotlib.org/) -->\n<svg height=\"464.398125pt\" version=\"1.1\" viewBox=\"0 0 438.735832 464.398125\" width=\"438.735832pt\" xmlns=\"http://www.w3.org/2000/svg\" xmlns:xlink=\"http://www.w3.org/1999/xlink\">\n <defs>\n  <style type=\"text/css\">\n*{stroke-linecap:butt;stroke-linejoin:round;}\n  </style>\n </defs>\n <g id=\"figure_1\">\n  <g id=\"patch_1\">\n   <path d=\"M 0 464.398125 \nL 438.735832 464.398125 \nL 438.735832 0 \nL 0 0 \nz\n\" style=\"fill:none;\"/>\n  </g>\n  <g id=\"axes_1\">\n   <g clip-path=\"url(#pff7a46f018)\">\n    <image height=\"75\" id=\"imagecfd415d12c\" transform=\"scale(1 -1)translate(0 -75)\" width=\"75\" x=\"7.2\" xlink:href=\"data:image/png;base64,\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\" y=\"-22.297435\"/>\n   </g>\n   <g id=\"text_1\">\n    <!-- cat -->\n    <defs>\n     <path d=\"M 48.78125 52.59375 \nL 48.78125 44.1875 \nQ 44.96875 46.296875 41.140625 47.34375 \nQ 37.3125 48.390625 33.40625 48.390625 \nQ 24.65625 48.390625 19.8125 42.84375 \nQ 14.984375 37.3125 14.984375 27.296875 \nQ 14.984375 17.28125 19.8125 11.734375 \nQ 24.65625 6.203125 33.40625 6.203125 \nQ 37.3125 6.203125 41.140625 7.25 \nQ 44.96875 8.296875 48.78125 10.40625 \nL 48.78125 2.09375 \nQ 45.015625 0.34375 40.984375 -0.53125 \nQ 36.96875 -1.421875 32.421875 -1.421875 \nQ 20.0625 -1.421875 12.78125 6.34375 \nQ 5.515625 14.109375 5.515625 27.296875 \nQ 5.515625 40.671875 12.859375 48.328125 \nQ 20.21875 56 33.015625 56 \nQ 37.15625 56 41.109375 55.140625 \nQ 45.0625 54.296875 48.78125 52.59375 \nz\n\" id=\"DejaVuSans-99\"/>\n     <path d=\"M 34.28125 27.484375 \nQ 23.390625 27.484375 19.1875 25 \nQ 14.984375 22.515625 14.984375 16.5 \nQ 14.984375 11.71875 18.140625 8.90625 \nQ 21.296875 6.109375 26.703125 6.109375 \nQ 34.1875 6.109375 38.703125 11.40625 \nQ 43.21875 16.703125 43.21875 25.484375 \nL 43.21875 27.484375 \nz\nM 52.203125 31.203125 \nL 52.203125 0 \nL 43.21875 0 \nL 43.21875 8.296875 \nQ 40.140625 3.328125 35.546875 0.953125 \nQ 30.953125 -1.421875 24.3125 -1.421875 \nQ 15.921875 -1.421875 10.953125 3.296875 \nQ 6 8.015625 6 15.921875 \nQ 6 25.140625 12.171875 29.828125 \nQ 18.359375 34.515625 30.609375 34.515625 \nL 43.21875 34.515625 \nL 43.21875 35.40625 \nQ 43.21875 41.609375 39.140625 45 \nQ 35.0625 48.390625 27.6875 48.390625 \nQ 23 48.390625 18.546875 47.265625 \nQ 14.109375 46.140625 10.015625 43.890625 \nL 10.015625 52.203125 \nQ 14.9375 54.109375 19.578125 55.046875 \nQ 24.21875 56 28.609375 56 \nQ 40.484375 56 46.34375 49.84375 \nQ 52.203125 43.703125 52.203125 31.203125 \nz\n\" id=\"DejaVuSans-97\"/>\n     <path d=\"M 18.3125 70.21875 \nL 18.3125 54.6875 \nL 36.8125 54.6875 \nL 36.8125 47.703125 \nL 18.3125 47.703125 \nL 18.3125 18.015625 \nQ 18.3125 11.328125 20.140625 9.421875 \nQ 21.96875 7.515625 27.59375 7.515625 \nL 36.8125 7.515625 \nL 36.8125 0 \nL 27.59375 0 \nQ 17.1875 0 13.234375 3.875 \nQ 9.28125 7.765625 9.28125 18.015625 \nL 9.28125 47.703125 \nL 2.6875 47.703125 \nL 2.6875 54.6875 \nL 9.28125 54.6875 \nL 9.28125 70.21875 \nz\n\" id=\"DejaVuSans-116\"/>\n    </defs>\n    <g transform=\"translate(35.36153 16.318125)scale(0.12 -0.12)\">\n     <use xlink:href=\"#DejaVuSans-99\"/>\n     <use x=\"54.980469\" xlink:href=\"#DejaVuSans-97\"/>\n     <use x=\"116.259766\" xlink:href=\"#DejaVuSans-116\"/>\n    </g>\n   </g>\n  </g>\n  <g id=\"axes_2\">\n   <g clip-path=\"url(#p3324deedfa)\">\n    <image height=\"75\" id=\"image53b383adb2\" transform=\"scale(1 -1)translate(0 -75)\" width=\"75\" x=\"123.652174\" xlink:href=\"data:image/png;base64,\niVBORw0KGgoAAAANSUhEUgAAAEsAAABLCAYAAAA4TnrqAAAABHNCSVQICAgIfAhkiAAACn9JREFUeJztXH9wVMUd/1zJqXO0vU45KsEaOhM6BuToEBii5rABhsDwQ6AQpMEZsIIlnRKwCRhawIGopJCgwEgSiEAyAkIohEKsJhUOuEwII0flGHNtOVqPjsF64xCtZ+sNvf7x3be7uffe5a3S9p/3+eft7XffZvPus9/33c9+9xwAkkjBc4v3AQCGeHIBADdjQW7b2PhkanOOezADADAq2wsAeCfSxm07lv4CADAxl/oclTtC3OhlV5dp130QC9A1HqfrJ/HPRFdzv26tEwDJpO5fRzxB11+tvcbrjjYfAgB8zXLPNpChFR7NLeKVbQE/AICRAMGgH6ntzgWbdZ39E2cAAFvXHwMARMNTuK2j9dcAgETsKgDg/pxnuc0V/hYAwJlrMMIwXS53iW+6tWUbAGDd8V2sZiC3aWxxOBy6rj67QLa6g1cM2uQBAFZXHKaxR2OSzQnAZpYS7IelAD4NzwVbpGrycp2RRoNbnKad3cs8tYs1+WPoIrf5Q+TsI+EoAGD24qe4LdtN05DNYkR7PuC2gkX3AQD+YvD3boymOVp/5bTpmGQMfIimXfIWTceOyGvcdoy5iXC4CwDgdHq4bZBnCACbWUrIEMWExVvM2xV4yUm6nL0AgFAoIN1FdNu7nxxo1pzh+g4idBkz6Xu86uM0I9kdIio2SY768y+INd1H/g0AGLFAz4edNW8BAJaXLOJ1bwSOAgD8gXYAwKic8dzmcrkB2MxSggMGQakKBkjlq0f+CgD4PE7MmrfkYW57pmgxACCbfWPTi5ZwWyJBQxg0lr67T6U+K/OWUp89ou7FaAMAYJaH/Ep7TLzmz25/FwAwvnQ0AODQ2iPcVtdAfumcFGTrkUn/l2sir3G56O/YzFKA/bAUYDINfewaSPks1xFmZQu6js+l8vrmDQCAe6V2H6YZxDeY819eSFNuy1u70rQGelopml+z4XkAwEvVr3Db0WaaoplZOQCAeK8IAZwgR11U9f20/ROypbLt4JWRYVT5bQ99Kx+z5b32Wa7TcDJyxrAMpGeTjNcPvAMAmF5MTjnBXu0A8Fj5NACAR2r/UvVJKrjpZXExIsIZF3P6dQ11AIB1Zce4Lb+EQoxpbSUAgDeDtWlGFZHKJIfYzFKAic9ys2tvyme5rn9M9s7h5Sm+AgDAJ0FSHV44vkc0zEwZlBRkJmeUUcFzvxhB9DqN6vR2AELXAgB/IykKzzF/NtE3n9ueKV0AABgzdQIA4MNE31liDttnKcN+WAowdPD6qWZ96gHASKbiOXuFQlFf2wQAuJ68ZHrfEDb9VsmVp6r1DScs6fPRJcnRwQhF85dj5KA3TszjtvY2mqLWp58G+v9tZingK68NZTyRS+u/cJi+VW+Ol9v2XjIPNKOtpF8Nm0nalfxCX76UBZybfsbrHhtKDGQBhOHGw4nGjwAA/uaDvO7l1l+yUlzX3gpsZimgH2ZpoWDMvIkBnvYRw+rP77c2iJTNhZFS+T0rf694PS/XH9jUx7Zw7EpePhzcYWk8ZrCZpQD7YSnAMHQYAHr15+eRitDRJdZ8t5FOOCPsDtBGR31sv6j0GLcFjB00R0M3AMCxbKTOdOsKScdur36PUIPbbXGb2wJsZinAMdmVlwSAt+NdSjdOdlGw9/v3L/C6R0aQatAZCwEAQtVvc9uoQqZ7pWFBOnxTegn8pnQ3AGDK9mWm7SMtFDqMmSu0q08Vg+tU2MxSwFcOSmtLxEbl8l20teSvIj1q29qnuc0P2lz93WYKMvMrRJBpaaAGuQtpfV3wFgDggbH38aoIC0Zv61QVa7CZpQD7YSngjq4Nk9dYV0zrf1CaOlokvjonCwCw5UKnuNFN0+KHDkpEO5v8Bzd1VNJ6zrdBH31r0/CNg8d53fTiuQCAnTPpWtoqcjgedtHAOuOyZGwdNrMUkPEjD2lOx2JWcx0IRvc5hhOTGss2AwBuSO3vYdeflpVSwT1U1+fZD/5M/ThEqmNlLkWz3ZvF+u9mkILknTNJHvZ4hWaFIAWhTa1yVhDhyzJKg80sBdgPSwGO0KbqJAB4N5Qr3RjaRHKv1fsaimmn56kD5Ix/Xi4SNsJsKufEbwIAXmkWfX50hKJ1T5GI1jvKacfbV1MJAHi/W7yjPE6Kr+IRWpEMnjrN0viswGaWAhzJbnr//mTZWl65L1BlesOTvgoAwN495MTXPCTCgwfyKATY0kaR8Z+k+65tp8g9cw5F7gOHma8Rg6f/zstjJg42H7xjJiu16mxaWJEhhS+3TXuyBptZCnAkDRZYRuswDanNjy4SvmR2LjHKWbqOKkLS2ottG7cHSaIuXPmEQe8+9jfO9z9yAA8uOAUAeK95ln6c1/4FAJg3/G5ep2U9aCl2nVCDzSwF2A9LAYbTcM0yStrY2kASy+qlu7ltyx5zwQ2tLNkjj6UouaSMD5emK1POe1OVSAzZ1kwZwn+4JMIJFRjKNyxrGZErvC4RZAJnFk33uybopep0sJmlAENmcSP7xtKKbEYIHKBrlkhV6m0h9vQmaO2WlVcg2vumqvWfDokv6Oq8i65BKbcid2yfpo8ME3nwndGD6A82sxTw32EWaMmBkDhmV7eI/F9JSN/6cXbYZ0X1ywCA/BKrkjON62qt0LperaHjdYM8xOAVZRu5zV20oM/dF6VkmrwJ/W+k2MxSgP2wFGCSzEZYVfxaOnMasCNx0Zu8JtbTt8UPpLLbQyFGflERUtFeTokdkUiU1y0/TspFUzkdL/E31nDbPu1oCtP51uWITOtUjPeZmgxhM0sBhsw6VEOOs6vrMvtczG0/LlPYUc4pEGWWclDF4lR3tjjBcENTplleQmRHJbfFeogil4NSjgXLRfNmUQZzryQr7ztDCgTfsfSOtj7efmAzSwEZC8fSltHrp8R2ksYep5OO5s4vldjEfM9CttV0OKjfGAhsp+VRfuliXufJpgD1epCUCI9TJOe+GKDju+HB3wEA9EqJ7fVMN4tLufjzhpHGdYL5p2cllq5iDOYbI3cQNrMUYD8sBWRo0+jwUCPHzabKSrU9Rd9Kcq/jVorEEK2Hd9m1QVYk2C9dJJw01TzSmrJgCcndv90llI8TLbSO02TiUd4sbrvI8t9vsuR488AhFVrSm3kms80sBdzRXAcV1BQW8nJZG/3mwzjGZE+mSG18s4deCLdOn+N1HW0nAABNDbQmdEk/NdHeQxz+W5q/XVlIwe+6PUI/izFCDR5hHhrZzFLA/41Z6fCoVNb4VDVjBq+raNVvff0vYDNLAfbDUoDt4BlsB3+HkVbPEj//pBaUahgnlVODUrdT32cmOzkvH7b8Lssovh4O87q6HaRfnWRsODhH/LaE+wwlus2uoJyMgorNlsY62DGw3zY2sxSQ8Xgu5U3JqoN2Gv7oDjo3M79U+uXHL6k61E0iRUFTHRDv0d3nTJAtFhVLDv9+Yoa/zS/asQ3bAXFSHa6GhIqqUXhIXPUAZv/tbWYpwH5YCjDcN9Rk5Z21qwEAK0q2cpuSrBwRqUPPT6K4XPPrRrLyC+fJ/Udqt3HbxS7KT/AHhKxc301nqi830M53oOUQt5WmyMr1Fvc806VZabCZpYD/AMCcHuHUPKG2AAAAAElFTkSuQmCC\" y=\"-22.297435\"/>\n   </g>\n   <g id=\"text_2\">\n    <!-- cat -->\n    <g transform=\"translate(151.813704 16.318125)scale(0.12 -0.12)\">\n     <use xlink:href=\"#DejaVuSans-99\"/>\n     <use x=\"54.980469\" xlink:href=\"#DejaVuSans-97\"/>\n     <use x=\"116.259766\" xlink:href=\"#DejaVuSans-116\"/>\n    </g>\n   </g>\n  </g>\n  <g id=\"axes_3\">\n   <g clip-path=\"url(#p8462386d8b)\">\n    <image height=\"75\" id=\"image9d07efeacc\" transform=\"scale(1 -1)translate(0 -75)\" width=\"75\" x=\"240.104348\" xlink:href=\"data:image/png;base64,\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\" y=\"-22.297435\"/>\n   </g>\n   <g id=\"text_3\">\n    <!-- truck -->\n    <defs>\n     <path d=\"M 41.109375 46.296875 \nQ 39.59375 47.171875 37.8125 47.578125 \nQ 36.03125 48 33.890625 48 \nQ 26.265625 48 22.1875 43.046875 \nQ 18.109375 38.09375 18.109375 28.8125 \nL 18.109375 0 \nL 9.078125 0 \nL 9.078125 54.6875 \nL 18.109375 54.6875 \nL 18.109375 46.1875 \nQ 20.953125 51.171875 25.484375 53.578125 \nQ 30.03125 56 36.53125 56 \nQ 37.453125 56 38.578125 55.875 \nQ 39.703125 55.765625 41.0625 55.515625 \nz\n\" id=\"DejaVuSans-114\"/>\n     <path d=\"M 8.5 21.578125 \nL 8.5 54.6875 \nL 17.484375 54.6875 \nL 17.484375 21.921875 \nQ 17.484375 14.15625 20.5 10.265625 \nQ 23.53125 6.390625 29.59375 6.390625 \nQ 36.859375 6.390625 41.078125 11.03125 \nQ 45.3125 15.671875 45.3125 23.6875 \nL 45.3125 54.6875 \nL 54.296875 54.6875 \nL 54.296875 0 \nL 45.3125 0 \nL 45.3125 8.40625 \nQ 42.046875 3.421875 37.71875 1 \nQ 33.40625 -1.421875 27.6875 -1.421875 \nQ 18.265625 -1.421875 13.375 4.4375 \nQ 8.5 10.296875 8.5 21.578125 \nz\nM 31.109375 56 \nz\n\" id=\"DejaVuSans-117\"/>\n     <path d=\"M 9.078125 75.984375 \nL 18.109375 75.984375 \nL 18.109375 31.109375 \nL 44.921875 54.6875 \nL 56.390625 54.6875 \nL 27.390625 29.109375 \nL 57.625 0 \nL 45.90625 0 \nL 18.109375 26.703125 \nL 18.109375 0 \nL 9.078125 0 \nz\n\" id=\"DejaVuSans-107\"/>\n    </defs>\n    <g transform=\"translate(262.199315 16.318125)scale(0.12 -0.12)\">\n     <use xlink:href=\"#DejaVuSans-116\"/>\n     <use x=\"39.208984\" xlink:href=\"#DejaVuSans-114\"/>\n     <use x=\"80.322266\" xlink:href=\"#DejaVuSans-117\"/>\n     <use x=\"143.701172\" xlink:href=\"#DejaVuSans-99\"/>\n     <use x=\"198.681641\" xlink:href=\"#DejaVuSans-107\"/>\n    </g>\n   </g>\n  </g>\n  <g id=\"axes_4\">\n   <g clip-path=\"url(#pfa751da871)\">\n    <image height=\"75\" id=\"imaged27ad574a6\" transform=\"scale(1 -1)translate(0 -75)\" width=\"75\" x=\"356.556522\" xlink:href=\"data:image/png;base64,\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\" y=\"-22.297435\"/>\n   </g>\n   <g id=\"text_4\">\n    <!-- cat -->\n    <g transform=\"translate(384.718052 16.318125)scale(0.12 -0.12)\">\n     <use xlink:href=\"#DejaVuSans-99\"/>\n     <use x=\"54.980469\" xlink:href=\"#DejaVuSans-97\"/>\n     <use x=\"116.259766\" xlink:href=\"#DejaVuSans-116\"/>\n    </g>\n   </g>\n  </g>\n  <g id=\"axes_5\">\n   <g clip-path=\"url(#pd14e59f6ad)\">\n    <image height=\"75\" id=\"image1490ca512f\" transform=\"scale(1 -1)translate(0 -75)\" width=\"75\" x=\"7.2\" xlink:href=\"data:image/png;base64,\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\" y=\"-112.272608\"/>\n   </g>\n   <g id=\"text_5\">\n    <!-- plane -->\n    <defs>\n     <path d=\"M 18.109375 8.203125 \nL 18.109375 -20.796875 \nL 9.078125 -20.796875 \nL 9.078125 54.6875 \nL 18.109375 54.6875 \nL 18.109375 46.390625 \nQ 20.953125 51.265625 25.265625 53.625 \nQ 29.59375 56 35.59375 56 \nQ 45.5625 56 51.78125 48.09375 \nQ 58.015625 40.1875 58.015625 27.296875 \nQ 58.015625 14.40625 51.78125 6.484375 \nQ 45.5625 -1.421875 35.59375 -1.421875 \nQ 29.59375 -1.421875 25.265625 0.953125 \nQ 20.953125 3.328125 18.109375 8.203125 \nz\nM 48.6875 27.296875 \nQ 48.6875 37.203125 44.609375 42.84375 \nQ 40.53125 48.484375 33.40625 48.484375 \nQ 26.265625 48.484375 22.1875 42.84375 \nQ 18.109375 37.203125 18.109375 27.296875 \nQ 18.109375 17.390625 22.1875 11.75 \nQ 26.265625 6.109375 33.40625 6.109375 \nQ 40.53125 6.109375 44.609375 11.75 \nQ 48.6875 17.390625 48.6875 27.296875 \nz\n\" id=\"DejaVuSans-112\"/>\n     <path d=\"M 9.421875 75.984375 \nL 18.40625 75.984375 \nL 18.40625 0 \nL 9.421875 0 \nz\n\" id=\"DejaVuSans-108\"/>\n     <path d=\"M 54.890625 33.015625 \nL 54.890625 0 \nL 45.90625 0 \nL 45.90625 32.71875 \nQ 45.90625 40.484375 42.875 44.328125 \nQ 39.84375 48.1875 33.796875 48.1875 \nQ 26.515625 48.1875 22.3125 43.546875 \nQ 18.109375 38.921875 18.109375 30.90625 \nL 18.109375 0 \nL 9.078125 0 \nL 9.078125 54.6875 \nL 18.109375 54.6875 \nL 18.109375 46.1875 \nQ 21.34375 51.125 25.703125 53.5625 \nQ 30.078125 56 35.796875 56 \nQ 45.21875 56 50.046875 50.171875 \nQ 54.890625 44.34375 54.890625 33.015625 \nz\n\" id=\"DejaVuSans-110\"/>\n     <path d=\"M 56.203125 29.59375 \nL 56.203125 25.203125 \nL 14.890625 25.203125 \nQ 15.484375 15.921875 20.484375 11.0625 \nQ 25.484375 6.203125 34.421875 6.203125 \nQ 39.59375 6.203125 44.453125 7.46875 \nQ 49.3125 8.734375 54.109375 11.28125 \nL 54.109375 2.78125 \nQ 49.265625 0.734375 44.1875 -0.34375 \nQ 39.109375 -1.421875 33.890625 -1.421875 \nQ 20.796875 -1.421875 13.15625 6.1875 \nQ 5.515625 13.8125 5.515625 26.8125 \nQ 5.515625 40.234375 12.765625 48.109375 \nQ 20.015625 56 32.328125 56 \nQ 43.359375 56 49.78125 48.890625 \nQ 56.203125 41.796875 56.203125 29.59375 \nz\nM 47.21875 32.234375 \nQ 47.125 39.59375 43.09375 43.984375 \nQ 39.0625 48.390625 32.421875 48.390625 \nQ 24.90625 48.390625 20.390625 44.140625 \nQ 15.875 39.890625 15.1875 32.171875 \nz\n\" id=\"DejaVuSans-101\"/>\n    </defs>\n    <g transform=\"translate(28.042468 106.293297)scale(0.12 -0.12)\">\n     <use xlink:href=\"#DejaVuSans-112\"/>\n     <use x=\"63.476562\" xlink:href=\"#DejaVuSans-108\"/>\n     <use x=\"91.259766\" xlink:href=\"#DejaVuSans-97\"/>\n     <use x=\"152.539062\" xlink:href=\"#DejaVuSans-110\"/>\n     <use x=\"215.917969\" xlink:href=\"#DejaVuSans-101\"/>\n    </g>\n   </g>\n  </g>\n  <g id=\"axes_6\">\n   <g clip-path=\"url(#p3231038314)\">\n    <image height=\"75\" id=\"image1253e83e24\" transform=\"scale(1 -1)translate(0 -75)\" width=\"75\" x=\"123.652174\" xlink:href=\"data:image/png;base64,\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\" y=\"-112.272608\"/>\n   </g>\n   <g id=\"text_6\">\n    <!-- car -->\n    <g transform=\"translate(151.699329 106.293297)scale(0.12 -0.12)\">\n     <use xlink:href=\"#DejaVuSans-99\"/>\n     <use x=\"54.980469\" xlink:href=\"#DejaVuSans-97\"/>\n     <use x=\"116.259766\" xlink:href=\"#DejaVuSans-114\"/>\n    </g>\n   </g>\n  </g>\n  <g id=\"axes_7\">\n   <g clip-path=\"url(#p0b3d80805e)\">\n    <image height=\"75\" id=\"imagec70b1772e3\" transform=\"scale(1 -1)translate(0 -75)\" width=\"75\" x=\"240.104348\" xlink:href=\"data:image/png;base64,\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\" y=\"-112.272608\"/>\n   </g>\n   <g id=\"text_7\">\n    <!-- plane -->\n    <g transform=\"translate(260.946815 106.293297)scale(0.12 -0.12)\">\n     <use xlink:href=\"#DejaVuSans-112\"/>\n     <use x=\"63.476562\" xlink:href=\"#DejaVuSans-108\"/>\n     <use x=\"91.259766\" xlink:href=\"#DejaVuSans-97\"/>\n     <use x=\"152.539062\" xlink:href=\"#DejaVuSans-110\"/>\n     <use x=\"215.917969\" xlink:href=\"#DejaVuSans-101\"/>\n    </g>\n   </g>\n  </g>\n  <g id=\"axes_8\">\n   <g clip-path=\"url(#pc05b65f1f1)\">\n    <image height=\"75\" id=\"image8cbc876531\" transform=\"scale(1 -1)translate(0 -75)\" width=\"75\" x=\"356.556522\" xlink:href=\"data:image/png;base64,\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\" y=\"-112.272608\"/>\n   </g>\n   <g id=\"text_8\">\n    <!-- truck -->\n    <g transform=\"translate(378.651489 106.293297)scale(0.12 -0.12)\">\n     <use xlink:href=\"#DejaVuSans-116\"/>\n     <use x=\"39.208984\" xlink:href=\"#DejaVuSans-114\"/>\n     <use x=\"80.322266\" xlink:href=\"#DejaVuSans-117\"/>\n     <use x=\"143.701172\" xlink:href=\"#DejaVuSans-99\"/>\n     <use x=\"198.681641\" xlink:href=\"#DejaVuSans-107\"/>\n    </g>\n   </g>\n  </g>\n  <g id=\"axes_9\">\n   <g clip-path=\"url(#p02ffab1ee5)\">\n    <image height=\"75\" id=\"image37a665679b\" transform=\"scale(1 -1)translate(0 -75)\" width=\"75\" x=\"7.2\" xlink:href=\"data:image/png;base64,\niVBORw0KGgoAAAANSUhEUgAAAEsAAABLCAYAAAA4TnrqAAAABHNCSVQICAgIfAhkiAAAAkJJREFUeJztmr9rFEEARt9I0mhhcykOIYVnK5b6F2hhoV0gIlYixMLCoNFCCwlqYQKmSGOh4I90aRLBWJhSW7WSpEijoId4RSREZC3mHI+sifmS23UPvgfHzM7sziyP72aXYUOWZRlmW+z53zfQS1iWgGUJWJaAZQlYloBlCViWgGUJWJaAZQlYloBlCViWgGUJWJaAZQlYloBlCViWgGUJWJaAZQlYloBlCViWgGUJWJaAZQn0FTl4q6O+v8iJSsLJErAsgeCP2baPkyVgWQKWJWBZApYlYFkCliVgWQKWJWBZApYlsKWsH+2fiThZAt51EHCyBArdVq4szVgcHAipaXLsMQCnbp/Z9DInS8CyBHpygX/5ZhWAqfsP4vH889S31lrY0ZhDe48DMLP6YtNznCyBSi3wE9fmABi/cz21feVdKXMv9v/7HCdLoNA1a+rRt1S/cukiAGutp0VN1xW20uFkCViWgLzALy7H8sL5UQA+vLrX1RuqMk6WQErWxK3XqfHyjZvt2s5e8HqZu/OxvHoy3+dkCQRotJ+Vy10ctkH3xyyJ/mEAsvUnuS4nS8CyBNIbfAgjHc3TG06rd9R/fyn6vV0eTT1LS/Eh0WiQI4R9G66rKjUAsuxLrsfJEih9P+vZ9FsAhkeOlDmtzN+0OFkCldgpbX6KZa2e7+sLhwD4WfJryMrs51QfPD0AOFkSliVQ6N+w2VGv7XKss8dG/4xVj6NNzo4B8H7hY+o7fOLALmeKDA2eS/WZlYeAkyXxC5ZQeDPPDyNvAAAAAElFTkSuQmCC\" y=\"-202.24778\"/>\n   </g>\n   <g id=\"text_9\">\n    <!-- plane -->\n    <g transform=\"translate(28.042468 196.26847)scale(0.12 -0.12)\">\n     <use xlink:href=\"#DejaVuSans-112\"/>\n     <use x=\"63.476562\" xlink:href=\"#DejaVuSans-108\"/>\n     <use x=\"91.259766\" xlink:href=\"#DejaVuSans-97\"/>\n     <use x=\"152.539062\" xlink:href=\"#DejaVuSans-110\"/>\n     <use x=\"215.917969\" xlink:href=\"#DejaVuSans-101\"/>\n    </g>\n   </g>\n  </g>\n  <g id=\"axes_10\">\n   <g clip-path=\"url(#pd494b8572e)\">\n    <image height=\"75\" id=\"imagee96b95db39\" transform=\"scale(1 -1)translate(0 -75)\" width=\"75\" x=\"123.652174\" xlink:href=\"data:image/png;base64,\niVBORw0KGgoAAAANSUhEUgAAAEsAAABLCAYAAAA4TnrqAAAABHNCSVQICAgIfAhkiAAAAztJREFUeJztmz9oU1EUxr9oBQnEdqhKBguaxbq1ikWEYgbRQUEUEfyDHSpYhC4VbAf/D6lYdHNxkIBQQaw6KFKRDuqQCjoEbByK2KUUIvRRDEIscbg3j1fzmrwvebl9JucH5Zzcc9/L4fDd25OblxCAAgRPrFvrBP4npFgEUiwCKRZBi9tgr7bftM07Yjlt92obdsTe+JdXIBFlEYQO69ah1TGY0baomnZHLKatpe1rR2zB9/SChSiLoCWqnQ2OwW6XsSLFPetR3VIKLqIsAikWQQjy2dAzoiwCKRaBFItAikUgxSKQYhG4njowRBz+Uq03CziiLAJpSglEWQSBKlYEK/fAoBGoYgUdKRbBmhUrgtJlt03/BRVRFoGvrcNxbZ9p+8UR26HtS23vOGJf/UqgzoiyCIw1pS+0be9RX7qFo5Ydm9fBe/r1OxMJVYEoi0CKRVDzqYNXxrW9P3gXABCdum7HujAPAPioX8sybACMbfC/9MMU4UWXt7twWdnEFZXU5i0lUzY6/N/a7ov3AwCmPzy1Y8t5C/VClEUgxSIwtgwLw2rJIPGw4twbo+9t/+ZIb0m8UFg95RN9owCAieQImWFlRFkExlqHXEa1B+EK8wBgf7y78qRVONDdBQCYSFZ9i1URZREYU1Z48KLnuXmr+n//0+lM5UlVIsoikGIR1LV1WO/w/zwYU87AEHWPUChUMnbqWAIA8OT5sMv8Nu3538mLsgjMNaVjt5QzdJW6bnxyBgBw+tAuv1OiEWURGGsdrFQKwMpfcngh1tHpfzJVIsoikGIRGFuG2bz6IR67DHs61TLcGovbYwuzU56v3+7wv5Pv/S+iLAJjrcPkzg4AwMGZH9R1bk3pWiHKIjCmrD3afipzyunG29QiACCdTttjre3qVKz/zCU1kEvVnJ8XRFkEUiwC408rl/uywQ9a2nYDAJatz77fW5RF0HDKKrKp8wgAYCnzyrd7irIIGlZZbtTa4IqyCKRYBMZOHYLA2fPqSPtx8jYA4OjJATsWjarPrnNzcwCAbDZrx35qX5RF0FQbfJFZ9dgFYtHy84pkZlXOoiyCptqzzvVdAyB7lhGkWARNtcFLB2+Qv4UVp93b1XcbAAAAAElFTkSuQmCC\" y=\"-202.24778\"/>\n   </g>\n   <g id=\"text_10\">\n    <!-- truck -->\n    <g transform=\"translate(145.747142 196.26847)scale(0.12 -0.12)\">\n     <use xlink:href=\"#DejaVuSans-116\"/>\n     <use x=\"39.208984\" xlink:href=\"#DejaVuSans-114\"/>\n     <use x=\"80.322266\" xlink:href=\"#DejaVuSans-117\"/>\n     <use x=\"143.701172\" xlink:href=\"#DejaVuSans-99\"/>\n     <use x=\"198.681641\" xlink:href=\"#DejaVuSans-107\"/>\n    </g>\n   </g>\n  </g>\n  <g id=\"axes_11\">\n   <g clip-path=\"url(#pb689a293eb)\">\n    <image height=\"75\" id=\"image4af8308b1e\" transform=\"scale(1 -1)translate(0 -75)\" width=\"75\" x=\"240.104348\" xlink:href=\"data:image/png;base64,\niVBORw0KGgoAAAANSUhEUgAAAEsAAABLCAYAAAA4TnrqAAAABHNCSVQICAgIfAhkiAAACk1JREFUeJztXE+IJFcZ/7VULXaFnRKmQqYCUyItTB9mDjuHrOAeDKKH7EGRKCaISrImN4Ma0IgGxIOHEBBvCckhBrLEPTiLWZGArJCVkIAjbgcyA3Yn2wPbs2wNWB2swdRAe3jf976vqiuyb3oEwfdduuZ9VTWvXv3e733/XnVe+O3vZgCQ52OwJEkGLVkvtccV/RZlCQDoZYnVLUURAKAffxIfJY8//SQA4PmfP/uR59ypfP7CDwAAP/vpD23bena36V/L+VPqfDc0v7HSvTO+DQCoYJR5oe9g2j62cI//jyRIEoOMKAptYxSZMR8OdwAAeRFZXZ7TiIfm/CgUXUmvaj9/FwCQqHt2CXVxIkhcVP74gkFnbPEOnNk8AwDYKw5Mf8e51aXpijmf+nVmc9Pqev0+AGB7xzzzXi7Xrfc2AHhkOYkfLAcJdgh2dZkAAEKaapPJxGoYwjFNqwgyDSdjM0Xj2CwIOxOB8nC8DQB45ulfnVDXgXs2zwIAHnr4IdtW0sLzk/Pfnjs/x4cAgK9/7RsAgAfO3y/XFeYZf3/pRQDA5StXrS7LegA8spyks/XGmzMAKEtZKpsEn/bElGgSfJaKWRHHgjKgneCfe+nXAIBnnnjqZJ4AwFcufNcee4L/H5EgpxFsM0rj2CzzSSzmW0zHbJSmqaDpTozSQr2xRYWN0u+foFGa9QzCokTuUHmj1F38YDlIUJAPtLszso3hhgEocTjCUKzuL/Q/AwDYmVwHAGSpkH+Eu2o3vzy4bo8vvnQRAPDqs4v7hCwPfvVLAICV9G7b9vbODQBAQpTQTbTv2gEAHJQzAMA+UQkA8DgwqaSxXLe9MwDgkeUkndnsXzMAGE6E4HsWLafmLiirmwCAKLwXAFDgttW9uPU6nWOY9FCxbJ6bpfzypVcAALe2txfotoH81b+/DwBY791rNXHtjEbf6Zc9yVExEx1HGUgZq0VtQmaVR5aDBHlllvJe+mnbmBN6RmPjAlQqtvPIdx4DAKxtngMAPHD+Qavr0bLLblJVyvvNc3OvP72+BQC4tUCnP943RuIqGcQaRXzMKNImBPNRQegJw87clczTpeIzNrY9shzED5aDBN978scAAO3WFYTAtf5nAQBpJmT38mt/oCPTlk8E6CGxI1vppcTksEs+V1WpxmPKoxceBQBEZAroadi03LW3mtO/nhYm+hBGsoCtZsbsOZgYnZ6G7F96ZDlIwG+JIwyAEHVZkXe+0bO60diYGEKE4uuVVVnTcVwLANbIq7/vrFkY3rv21rE7/bn7vwgAKMi4DCMh6l3y8ULC23L6CatjBFbUzyIX9AxpEVtLjV9bhTID+Mgjy0GCa9sGUdN8ahsnhWnr9YzJv5cLZ3G0QdAjrJBRtIIRhho/0XlViUXlvk2DdKaVvfyfVrdM7s0eRWmHg3etjvmSDU4bmwMQ0QPtTm7QOeLucHzPI8tB/GA5SLCxYUKrE+UbptY3NDgvlQ1QkPnb7xvy7kYyRY8I5gVNgXou0hyvb64DAF5doNNTsm04KMcha0Cs8pD+Xy+VxSmnfpUNKtHncyZaEwgnbDyyHCQYDMwSHscyzIOBGcmU3kqulljOYE8seuZ1IWWpVzNlcgyHAIA+Bf9r1qIj5weRMSDLwhB7pQzIJSLviNAWKpOV+yfIEp2sRea5dPqPY10eWQ4SpOS557lOGZk25pmy5c3zWxmPhet4aebfPaXj5TdhOzVR6YJxW3rhP0j1If1yxwQhU0JBSAjT7hUjipHShizWZVmqrvOmg7P4wXKQgEm8UuZBapdb01Y3AZiZQzpX4MoEytDXMIe9yrSdjiXR8QEGTp2e0v1zMiF0CJinWkm6NRVyZnevpNiEnqJF415FMZ+h98hykMCObo3s6kQdhvNvgHWJSjUNyTzIsoyuC9V1VGFDxP7BwA1NWtgYjRqmAABEjDLq32h80+o4sVEUtHCpe/b7ZjatxCbG9c7wptL6jLSz+MFykIAt1TQRouY2nk6VCqsI2XM2ZN5C5imqp8cKZ2JaSN9VYgoHWwaJJSMd0O0rCtvonCI/YURte6XkDbsUQBxN/lF7FvoPADyynMSWHGnzgNsYGX0KCQOytAr569vVUbOs3k4Wnmo543iywoHHlnuyH5Ikxn/ULuiQkHhYGUQtq3A01z8w8pnoAWAvNx6DR5aDBGFLPbtts75hqXTmvKSlnr0b1Xms5nvx9SfQ6RHx0RqhRxel8XFbRvqQi9kinYmm/lVsgJvn+ytV4wAymzyyHMQPloN0rt14fwYAhcp0sJUtxWzzpRfcthRLXq4szfTIKDjXNuW4rdOZnwp3Ko/94pcAgOd+9ASA+lTj+zPRT1V8uCwptGOpR/pQFJIhApp+ow/+OUvnyvW/zYBmIKweNdBk3tStJGIQMrlWjb8BedPcdmoBZN1z7jwAYPTGawB4P4gRNjw57Ni2rWpEtQ5RNF+sx1JVYrCyKeWR5SABmwXjsdQ6ZFmffinWpebvUlwvRDygtwQAIEOugnkrMQQ9/IYfeWrxnRW3tgeqB3VuZJOBK2ViZVzyeavUpqMOh3zQCC9r8chyED9YDtLZ+ovZ6KTzZBwq5umoAcsZ6EOamjojzUsxT7m21OBdCxB7U2az2VzbuPG3nmo8DZMWHdeZHpJ5oamHFzOPLAcJuI4hVTslmPSXqJxoWkhO8aiKSGcQNVWxrpB2WPA70fUCu/lt/LdEb51iNFeNv4F5I1nrDghRXA/fVs7pkeUgNiNdFPMZaYl4ygVRZNoCKo/sqmjFYWmijAXxmOaEi69cOtmeox3BUeOcNs6aUOxqqsyDVVtOyYVuuvzT/AePLAfxg+UgdgudLvDIsjoV6rrRJRtWNjA9Unuru7bMh2o31Uapa1f/fILdpqhIi4Ynz+E8P4OKr3FAU0yT+NvbxnTirwroeDkvgh5ZDhLwQdSSolptSYVVjWrjQB3HISNr3pt/c2troY5qOX3WfI+BMX2gUlq8AZNht698V65/qOz+bvXlAIqscFZd10/kPp7lLgEnUktlOnCbLK3K3aEB542XOg7G30JYSUwSs47VxevfWdY3TKklM45OQDSpajnWKKdYHO38KBVnDYeGs60pVerZ5DnLWfxgOUjAhKZr3ZskNx4PrY5nHW+G0plsnnh8p32y6E9azm2uAQD2yJ8LQ5lqzQ9c7KqtKjYk3pIP5emniZ2liPxOVmexGWn9xTTbRqPMKALEdODSQb274Yj3N/G5c3R7MvLNbz0MAFghYq9Vw1BMjTdiLsfyrYmD3CDdmkmq78z1bdEGH886hgRsoA0VL/UoUcEuUKyjoeT6rFIKbF8lJ7v2A2RGwkjSZGpr5LE6enrjy/Z4qbHdV++it/UMVif3OGIkEXpWEkHdaEwREzKh9BY6Fo8sB/GD5SABzwr9hTVhaP7WiKhWKPy8XxjYdmskSRuIMF/r8KmzZl/ze29dOVZHX/7N8/Z4yttRyGRYVv+Iu77He6VbfF42GSYTlZSg55CAp0RTeGp6ZDnIvwEsp9bwlreZ3QAAAABJRU5ErkJggg==\" y=\"-202.24778\"/>\n   </g>\n   <g id=\"text_11\">\n    <!-- cat -->\n    <g transform=\"translate(268.265878 196.26847)scale(0.12 -0.12)\">\n     <use xlink:href=\"#DejaVuSans-99\"/>\n     <use x=\"54.980469\" xlink:href=\"#DejaVuSans-97\"/>\n     <use x=\"116.259766\" xlink:href=\"#DejaVuSans-116\"/>\n    </g>\n   </g>\n  </g>\n  <g id=\"axes_12\">\n   <g clip-path=\"url(#pc6f1e59906)\">\n    <image height=\"75\" id=\"image23284be0bc\" transform=\"scale(1 -1)translate(0 -75)\" width=\"75\" x=\"356.556522\" xlink:href=\"data:image/png;base64,\niVBORw0KGgoAAAANSUhEUgAAAEsAAABLCAYAAAA4TnrqAAAABHNCSVQICAgIfAhkiAAABUJJREFUeJztnE9oXFUUxs8zbzQ+qCNpIA1oEFrxD4TSILRKhNSFFbvoxroRESE7EQRBioILF+JOcKluilsX7aILAyW1bdBCieiIzqJVOhHSYBIchWHkEcbF/c57Z947mc7JjGmU89ucO/fcue/29Lvn3Xcz90Wvj1OHiKjaooways3JYKuTuS9h33iwK9Xc16rA1wy2QsIHW0X7Vpr72ldRaNLAHKbua18fvMuMe4bY1/+e+NpBlIRCViCDFtQzKZR1oA7farD7FWWxaBIhrQoqU/TdrolR4DrDUNb3sGODd1XClWXAg2UgPnozFHac4GVvmGo8+9K05KIkCXZ0JvdlCX4IFBP85vC6dmVZiGk9FBLFuYEknkhnI5gUdS2R4LndWqENEVEF5c2GcqEBE/xDojyLvpqQ8nVjn3xj0BTpyjIQQ1iUjueVLahgFRN/XSwBjkBJ/B+2JnLdGNqNoI1UZAW+NvdVF6PYoaKe1r6OD3OPh4s3a/kAMVHoNuxvSp8vwX6q+FxZBjxYBuIl3MITkaibvMrG57ZYAixNoT1PW+HbZMVj+qUy+cM3gWWInL4kV/MGeEXznagbx3jmklA4NZ3nkEu1UCcyTganIx7yqOwT1pVlIObEnook/herZbXUngjKynYNpEKylWcw7fXcxeURrtD6NqLdF5ZgT/ECWTygVvCAyoq8JHc+CsNq565Mda4sAzHf0uX/0igmbpsrhUK2WEmashheeK6XXVs7GeU2aMri/r9cZhWlSquAVA8vRnmHZUwonxeoriwDHiwDET0ftpW71MpTCzsSXdMp21L4dwfWD/xMKO8VPA35RnJE+H6B5X+enIbFPrXVvSvLQERTUJbMlkPY3t0rjIjyoDcXV5aBiAjKcu6IK8uAB8uAB8uAB8tAvGtXwu7GKGy7vn3TvYory8CuKevw8WCr1fC8dLm+B56XjLiyDHiwDPgK3oAry4AHy4AHy4AHy4AHy4AHy4AHy4AHy4AHy4AHy4AHy4AHy4AHy4AHy4AHy0Cf28ri8M7M6WCXPxn+aPY4riwDHiwDEU2/FraVa2fz2tl5IiI6d+UzIur+QRh+rEznYV8UvnujYyhdG/Y49wSuLAPRjU6nQ0R06MRHWeVbX50hIqKPjZ29txDshyeisnMKmmxoZ+j+G7iyDMT8d+ELUBNRvlAoHMW5I4uLPxRq8iVH59YtIsp/Iv/qhZ8zX6UarnDx2Uf6vNLdwZVlwINlIP4ChftFJU87/tHyXJ+drVQw7Q6Gc6D7Ts5nPp7uvPT4+uQTpe8/8+3fRET0zbH7+rzi7uLKMhC9i6WD/AEQJ2FWgbYo5YMW+4VvA1Y7a8mpnr8nD0hy3QHY88I3HynLkLuEK8tAtusgX9/EKtOO7hRP+4qTvfQYLJ+lkX1yH5OFz0R5bpyGPSpH+AFe6vT+U7Qtp9/Oyw1cHWcDJ+bfzFxr5/BqkvqPsJ9v36eCK8uAB8tA9AYSvDYNrb/6rBRsqvh4qsrpmyh1zDLsO+KusXX2DyIievLMg0REdFzcLTh1NHGXui02QH59+RWUOAnI3ZFep7vCyFxZBqIXFGUxXFdV6rTPXNaOTRfbyO89DMsK086JblAZrT1zFUK5/NyVvHJmNtgG9LfwaI+RlnFlGYgmfu+hLFQ+oCUTIF28YNWUVVSU/F4xR2pq1canUWy3KNYo/LqoBey7/aTtu/XAlWXAg2Ug2nejPA17HbBPC5Vdr9csZNyupUNhSst3a/0Jy48T4q+UpScGiTZFk4LV4FXIxeiQqL2pNQXh/aSuLAP/ABgjMgw0aTjEAAAAAElFTkSuQmCC\" y=\"-202.24778\"/>\n   </g>\n   <g id=\"text_12\">\n    <!-- deer -->\n    <defs>\n     <path d=\"M 45.40625 46.390625 \nL 45.40625 75.984375 \nL 54.390625 75.984375 \nL 54.390625 0 \nL 45.40625 0 \nL 45.40625 8.203125 \nQ 42.578125 3.328125 38.25 0.953125 \nQ 33.9375 -1.421875 27.875 -1.421875 \nQ 17.96875 -1.421875 11.734375 6.484375 \nQ 5.515625 14.40625 5.515625 27.296875 \nQ 5.515625 40.1875 11.734375 48.09375 \nQ 17.96875 56 27.875 56 \nQ 33.9375 56 38.25 53.625 \nQ 42.578125 51.265625 45.40625 46.390625 \nz\nM 14.796875 27.296875 \nQ 14.796875 17.390625 18.875 11.75 \nQ 22.953125 6.109375 30.078125 6.109375 \nQ 37.203125 6.109375 41.296875 11.75 \nQ 45.40625 17.390625 45.40625 27.296875 \nQ 45.40625 37.203125 41.296875 42.84375 \nQ 37.203125 48.484375 30.078125 48.484375 \nQ 22.953125 48.484375 18.875 42.84375 \nQ 14.796875 37.203125 14.796875 27.296875 \nz\n\" id=\"DejaVuSans-100\"/>\n    </defs>\n    <g transform=\"translate(380.386802 196.26847)scale(0.12 -0.12)\">\n     <use xlink:href=\"#DejaVuSans-100\"/>\n     <use x=\"63.476562\" xlink:href=\"#DejaVuSans-101\"/>\n     <use x=\"125\" xlink:href=\"#DejaVuSans-101\"/>\n     <use x=\"186.523438\" xlink:href=\"#DejaVuSans-114\"/>\n    </g>\n   </g>\n  </g>\n  <g id=\"axes_13\">\n   <g clip-path=\"url(#p6f7e498abf)\">\n    <image height=\"75\" id=\"imageef893f3bef\" transform=\"scale(1 -1)translate(0 -75)\" width=\"75\" x=\"7.2\" xlink:href=\"data:image/png;base64,\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\" y=\"-292.222953\"/>\n   </g>\n   <g id=\"text_13\">\n    <!-- car -->\n    <g transform=\"translate(35.247155 286.243642)scale(0.12 -0.12)\">\n     <use xlink:href=\"#DejaVuSans-99\"/>\n     <use x=\"54.980469\" xlink:href=\"#DejaVuSans-97\"/>\n     <use x=\"116.259766\" xlink:href=\"#DejaVuSans-114\"/>\n    </g>\n   </g>\n  </g>\n  <g id=\"axes_14\">\n   <g clip-path=\"url(#p27928e4226)\">\n    <image height=\"75\" id=\"imagedad5667a09\" transform=\"scale(1 -1)translate(0 -75)\" width=\"75\" x=\"123.652174\" xlink:href=\"data:image/png;base64,\niVBORw0KGgoAAAANSUhEUgAAAEsAAABLCAYAAAA4TnrqAAAABHNCSVQICAgIfAhkiAAABUlJREFUeJztXF1oXEUU/ka6ETbKFolgXtIHH9yCjVqxDYpCBGsxCgq2hUZstD9QKg0SlYAtiAUR2qottAgWEotGSkAErVpfCrKlRjFQW2hU+uD6sFFXyAW72i4yPpwzd6a7N+vO7t3NXT3fyzk7Z+bcuXO/mTtzZu4qrbXGEkMptbgxOwEA0BdHwqRLLP9kmcvZ7DuHPyEl/1iEsx7ypX9rqJ7XNVTqf4plS10BANi0+wgA4MThXdXGuWcAAG+cHAmTnhwi+X2eZG+vW6C06HWm3v+wiVoKs7wgjeUBlYQBvsyyq9ZAj92htuvoIQDAmtX0u8fphkMr+lk7X+Wh2VsVZnkgEcwyqDmFQNbRtwAAXpwcBwDsHxlxbO8u6kGY1UYkilnLlq8EAPwdzLXEvzCrjZDG8kAiZvAGr7y6BwCwd/Sp2Hze1DcYmy9hlgciB/gLLG+vUbCePI2i9hTCD3G+v4RZHgiZdc92m/jNO/U7aLRcLdx7/8Ohfjb3RVO+hFlLBGksDyhkmadzX4WJWg/U70DZcshSOX0xnsqR/8YG+2MHKNC3deyJ2OoizPKAAn7VAKD1zc07U7wRsI586VP1lQvOExUzq1ZW2Z4d3ggAmJia9qpLK5a8wiwPqJPf0iN4ZHXzzj6dJTl09yQpfSOhbeEnkhmTcPqgLZjnza0tR+u6zp0DDwIAzs2crrK1MogizPKANJYHWhL8U8rMHaoH7KvfkTzeb6cEKZZPJycOGQlhlgdaEs/Smhil1AtO6gEAQFf/ZQCAu/d8X6gx7dCPJEKY5YEWR0rdQwhmPOoGABzBidDy3OAmUqbvILkhmWOXMMsD0lgeaOm+4fMbrf7WtDlAFrUGpciA3vwR/Ty01pp6THddEXf1vCHM8kDbdqSV4sVhJEPMJPY4AODytqnQkt7Jq8nsKpu9ELDxIZK9o7HVMxJ8Pk6Y5QFpLA8ora9wNyw7yUZPVUjXVpnH1buqLvTS6AIAYP9hUy5qoF9gaUMvevIDvpwT/CuYy9HpY4z/6PhYHuF3Ebi3XOQk7uFBoJ1s1A+FWR5Q+tSEBoByqfqUbyrNTMn02MSAHkG5VI7InyYlzTP3dBjqQ6lMProH+BGi1qbI1VBbn6HA4GfjD1jzDPswRF67ztrGKmLZEewpFmh9Wgys8fciGQO+v9I17UH5hFkeUAc3DGoguiV7mCm9zkHzQoEGjGKY345Zac6fyZBMpywjgxTlezN3KwDgh9lxr4ruy1rG7Mmup1ryOfi8JTD69tIktpimY5U/54PQZpiUZxbNB/aeS6yXSvTdRlCy5YRZDUAaywPqRo6duJ3QdCzT+W5xaD7P7DRvb3f8TFeUd2H8/xWmvOdYh+utLwDgdVBI2qwgM04kqLCZtqnOlOmblWLR3lmBu1qhSDcxX7Rdrcx3Yl505bJ7ZzJ18IaCjcotIT5m+Wid+SmAuIOf+BrXxLOIl2foRfJL4PaZUoWsnv7UgjDLAwlhlsEfLLv/Jd+1J2t2OPptRCiMXULsEGZ5QBrLA4k6Bw/cwPKKk2YG48X71Yyj39WC7mcgzPJAwphlcL2jn2WZd9K2sTwGADjnWL5uXaWEWT5I2NQhCiZy8aWTZtZfvJMN548dYE7lzcZeE2GWB6SxPJDQAd6FCUO7X9M/znIry7RjcycS8UKY5YEOGOCj8DnLMyz3teWqwiwPdCizzH88vMbybcfW3Cd3tSDM8oA0lgc6YOoQBfMnGWZrpNYXVfF9by3M8kCHDvCVcCelZm2Yi8rYFIRZHviPMKs9EGZ5QBrLAx06daiEDPCJwz8ktXBY2XOF3QAAAABJRU5ErkJggg==\" y=\"-292.222953\"/>\n   </g>\n   <g id=\"text_14\">\n    <!-- bird -->\n    <defs>\n     <path d=\"M 48.6875 27.296875 \nQ 48.6875 37.203125 44.609375 42.84375 \nQ 40.53125 48.484375 33.40625 48.484375 \nQ 26.265625 48.484375 22.1875 42.84375 \nQ 18.109375 37.203125 18.109375 27.296875 \nQ 18.109375 17.390625 22.1875 11.75 \nQ 26.265625 6.109375 33.40625 6.109375 \nQ 40.53125 6.109375 44.609375 11.75 \nQ 48.6875 17.390625 48.6875 27.296875 \nz\nM 18.109375 46.390625 \nQ 20.953125 51.265625 25.265625 53.625 \nQ 29.59375 56 35.59375 56 \nQ 45.5625 56 51.78125 48.09375 \nQ 58.015625 40.1875 58.015625 27.296875 \nQ 58.015625 14.40625 51.78125 6.484375 \nQ 45.5625 -1.421875 35.59375 -1.421875 \nQ 29.59375 -1.421875 25.265625 0.953125 \nQ 20.953125 3.328125 18.109375 8.203125 \nL 18.109375 0 \nL 9.078125 0 \nL 9.078125 75.984375 \nL 18.109375 75.984375 \nz\n\" id=\"DejaVuSans-98\"/>\n     <path d=\"M 9.421875 54.6875 \nL 18.40625 54.6875 \nL 18.40625 0 \nL 9.421875 0 \nz\nM 9.421875 75.984375 \nL 18.40625 75.984375 \nL 18.40625 64.59375 \nL 9.421875 64.59375 \nz\n\" id=\"DejaVuSans-105\"/>\n    </defs>\n    <g transform=\"translate(149.391204 286.243642)scale(0.12 -0.12)\">\n     <use xlink:href=\"#DejaVuSans-98\"/>\n     <use x=\"63.476562\" xlink:href=\"#DejaVuSans-105\"/>\n     <use x=\"91.259766\" xlink:href=\"#DejaVuSans-114\"/>\n     <use x=\"132.357422\" xlink:href=\"#DejaVuSans-100\"/>\n    </g>\n   </g>\n  </g>\n  <g id=\"axes_15\">\n   <g clip-path=\"url(#p99bf172b3c)\">\n    <image height=\"75\" id=\"image3af5b27953\" transform=\"scale(1 -1)translate(0 -75)\" width=\"75\" x=\"240.104348\" xlink:href=\"data:image/png;base64,\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\" y=\"-292.222953\"/>\n   </g>\n   <g id=\"text_15\">\n    <!-- car -->\n    <g transform=\"translate(268.151503 286.243642)scale(0.12 -0.12)\">\n     <use xlink:href=\"#DejaVuSans-99\"/>\n     <use x=\"54.980469\" xlink:href=\"#DejaVuSans-97\"/>\n     <use x=\"116.259766\" xlink:href=\"#DejaVuSans-114\"/>\n    </g>\n   </g>\n  </g>\n  <g id=\"axes_16\">\n   <g clip-path=\"url(#pfbdee61898)\">\n    <image height=\"75\" id=\"imagebac1e775f4\" transform=\"scale(1 -1)translate(0 -75)\" width=\"75\" x=\"356.556522\" xlink:href=\"data:image/png;base64,\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\" y=\"-292.222953\"/>\n   </g>\n   <g id=\"text_16\">\n    <!-- dog -->\n    <defs>\n     <path d=\"M 30.609375 48.390625 \nQ 23.390625 48.390625 19.1875 42.75 \nQ 14.984375 37.109375 14.984375 27.296875 \nQ 14.984375 17.484375 19.15625 11.84375 \nQ 23.34375 6.203125 30.609375 6.203125 \nQ 37.796875 6.203125 41.984375 11.859375 \nQ 46.1875 17.53125 46.1875 27.296875 \nQ 46.1875 37.015625 41.984375 42.703125 \nQ 37.796875 48.390625 30.609375 48.390625 \nz\nM 30.609375 56 \nQ 42.328125 56 49.015625 48.375 \nQ 55.71875 40.765625 55.71875 27.296875 \nQ 55.71875 13.875 49.015625 6.21875 \nQ 42.328125 -1.421875 30.609375 -1.421875 \nQ 18.84375 -1.421875 12.171875 6.21875 \nQ 5.515625 13.875 5.515625 27.296875 \nQ 5.515625 40.765625 12.171875 48.375 \nQ 18.84375 56 30.609375 56 \nz\n\" id=\"DejaVuSans-111\"/>\n     <path d=\"M 45.40625 27.984375 \nQ 45.40625 37.75 41.375 43.109375 \nQ 37.359375 48.484375 30.078125 48.484375 \nQ 22.859375 48.484375 18.828125 43.109375 \nQ 14.796875 37.75 14.796875 27.984375 \nQ 14.796875 18.265625 18.828125 12.890625 \nQ 22.859375 7.515625 30.078125 7.515625 \nQ 37.359375 7.515625 41.375 12.890625 \nQ 45.40625 18.265625 45.40625 27.984375 \nz\nM 54.390625 6.78125 \nQ 54.390625 -7.171875 48.1875 -13.984375 \nQ 42 -20.796875 29.203125 -20.796875 \nQ 24.46875 -20.796875 20.265625 -20.09375 \nQ 16.0625 -19.390625 12.109375 -17.921875 \nL 12.109375 -9.1875 \nQ 16.0625 -11.328125 19.921875 -12.34375 \nQ 23.78125 -13.375 27.78125 -13.375 \nQ 36.625 -13.375 41.015625 -8.765625 \nQ 45.40625 -4.15625 45.40625 5.171875 \nL 45.40625 9.625 \nQ 42.625 4.78125 38.28125 2.390625 \nQ 33.9375 0 27.875 0 \nQ 17.828125 0 11.671875 7.65625 \nQ 5.515625 15.328125 5.515625 27.984375 \nQ 5.515625 40.671875 11.671875 48.328125 \nQ 17.828125 56 27.875 56 \nQ 33.9375 56 38.28125 53.609375 \nQ 42.625 51.21875 45.40625 46.390625 \nL 45.40625 54.6875 \nL 54.390625 54.6875 \nz\n\" id=\"DejaVuSans-103\"/>\n    </defs>\n    <g transform=\"translate(382.756802 286.243642)scale(0.12 -0.12)\">\n     <use xlink:href=\"#DejaVuSans-100\"/>\n     <use x=\"63.476562\" xlink:href=\"#DejaVuSans-111\"/>\n     <use x=\"124.658203\" xlink:href=\"#DejaVuSans-103\"/>\n    </g>\n   </g>\n  </g>\n  <g id=\"axes_17\">\n   <g clip-path=\"url(#pde17220525)\">\n    <image height=\"75\" id=\"image4cfa58f2f4\" transform=\"scale(1 -1)translate(0 -75)\" width=\"75\" x=\"7.2\" xlink:href=\"data:image/png;base64,\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\" y=\"-382.198125\"/>\n   </g>\n   <g id=\"text_17\">\n    <!-- dog -->\n    <g transform=\"translate(33.40028 376.218815)scale(0.12 -0.12)\">\n     <use xlink:href=\"#DejaVuSans-100\"/>\n     <use x=\"63.476562\" xlink:href=\"#DejaVuSans-111\"/>\n     <use x=\"124.658203\" xlink:href=\"#DejaVuSans-103\"/>\n    </g>\n   </g>\n  </g>\n  <g id=\"axes_18\">\n   <g clip-path=\"url(#pf4f7c9adf5)\">\n    <image height=\"75\" id=\"image2d7aefac78\" transform=\"scale(1 -1)translate(0 -75)\" width=\"75\" x=\"123.652174\" xlink:href=\"data:image/png;base64,\niVBORw0KGgoAAAANSUhEUgAAAEsAAABLCAYAAAA4TnrqAAAABHNCSVQICAgIfAhkiAAABYZJREFUeJztnF9oW1Ucxz+RproUegvLWCM0fehk2WiFZrL50A6LUqEbKLIpKFq3+TAEnaKIe3AvfVAQ8c9A91CQiR3oZGwPFWyVyezYHGvFBWqqRrZsWkojNA+N0jzUh3PuuTe9N0lPmpRsns/LOff8zr335OR7fvnlnHNvYHl5eZkqk5VpxlX2j0w3yLTDZUvLtL33RZGZ+MRzTf9mLgEQCNxdUTsTN35T+c7olgLblcxlld8ZfhCAuyq6y/+Uhlpc1FqRliMv0917HgLggo+y/GkEClUXCAQKamyOhVV+Y0SkL735MuBVk2ARgOZQ3mMxytLAdJYGgVo4eF1SMu3wsb1x9BgAwZ7HVNm+/h0AdCf+EgXxe11nzAOQk0dZ9fMBOVkaIQpAiHaXbUmWBQFIq1ZBFDFcjbI0qFhZdngQkt8IQFA63Ay/A3DT9e20Sd2E8XOqNnZTAh7LeHpE5S+m/wCgNbsRgH09/cqWt2YB+Dsv0uag4+AhpFoq2hJzWYQtL+89k5tXts7QJsAoS4uGbFZ8m5bl/TZt7DoALZu2A3Bq8WcAuoJBZWuVKhvPTgAQsZzgoQ2nXjFSjAIQZFaV2Vpoi+ZU2YDVLGyWUKv7Rz5nn6EU5bQhKG2278qo8QERmgCYkccNUk1ujLI0MJ2lgXHwymIcfFUxQamymaC0qtSVsg6+8yUAF44+5amz2mbqzDoc7n/L5wpi1iGZm1IlsVAvYJSlheksDWoyDM20sqHW08qOGjI5obOwz3+uqEyf6OsG4MzE6u7z9fDZSpsIQFf7fZ6y0ctnAAh1RDw2oywNaqIsB8drhUP2TIJXWTbpxE2tq+ct76LCeyN/AtAVE4HqufPXlO2r4RMAzCWLL4hkQuIv0HPhbR6bUZYGprM0qHEEf82n7P6itVu3PQ/AXPKkx1bNZqZkbLOlxf2fcrbsfYyyNKixspZc+cbyjWmSqsslPLZ7wnGVn5mfBJyQo1K27jii8r9OfQQYZVWNGocObjUVnwX9PrkgMj6KstkacxYe1qoom9nZdPlKLoyyNDCdpcH6Tf7lpbMPiqH5k7NkR7zFHq7eiNxm+cYXzkH0yao0KRBwhzHCBSzI7vDbLmWUpUGNHbwLqahXj30IwAdDr3iqbO8Q4cF0aspjI5rxlq0Z7w9KqQ14RlkamM7SYP2GoaQzvkfmvMNwOpUsceaMK188ZivFs48+A8DnY6e0zrMxytJg3ZV16HGxMHCi5wVVdnViWObEivFuK6Rs7w7K6d2cU0bIdvbFJxI3yPXDf9fW3AKMsjSoixXpR/YOAfDdqNjXsDDytrJZTx+WOffPfG/Za65cmS7Hw3ERNHw7uVC0jlGWBqazNKiLYWhzfPgHAAaCV1RZx+AhmXPvSW0qey3dYZi4LFanO3cV32xnlKVBXSlL4dodjWUHqt51vFLoKms13WCUpcG6B6WromBPvj31q6csZ7NtrmiNA/FYUZsfRlkamM7SoD4dfAH2qnbxlexSlHL0uh/dKEuD+nTwBVSmKJsDav4MPp0SD1L9Mnm9omsZZWlwG/isKjImFkvoP1K6XhGMsjQwnaXBHTEMA417nYO8cOKj31wHYKC/3eeMyjDK0uDOUFbJwHPadaT7/7IQoywNboOgVJBMLqp8LCZmSi+et0vcs6grduKcPO7kBz9eUxuMsjQwnaVB3Q/DVEI883xw6DNVdmlMPtqStbcmxV1n/Fh4gY6dVWuLUZYGda8sMkJFfV3dqujS6dcL61j7nXzWXrmWr1CJ7FIm9xseKsEoS4O6V9b7o8IvnUuMq7IH9r8GwNXTwj9t7nPqz614XjNc/n1Bq8YoSwPTWRrU/TBMZcVWoFuurY23VKggovW5syUeqrb8XtpSGUZZGvwHeoyiGTw8dhQAAAAASUVORK5CYII=\" y=\"-382.198125\"/>\n   </g>\n   <g id=\"text_18\">\n    <!-- cat -->\n    <g transform=\"translate(151.813704 376.218815)scale(0.12 -0.12)\">\n     <use xlink:href=\"#DejaVuSans-99\"/>\n     <use x=\"54.980469\" xlink:href=\"#DejaVuSans-97\"/>\n     <use x=\"116.259766\" xlink:href=\"#DejaVuSans-116\"/>\n    </g>\n   </g>\n  </g>\n  <g id=\"axes_19\">\n   <g clip-path=\"url(#p5186e5d5af)\">\n    <image height=\"75\" id=\"image1af764255d\" transform=\"scale(1 -1)translate(0 -75)\" width=\"75\" x=\"240.104348\" xlink:href=\"data:image/png;base64,\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\" y=\"-382.198125\"/>\n   </g>\n   <g id=\"text_19\">\n    <!-- car -->\n    <g transform=\"translate(268.151503 376.218815)scale(0.12 -0.12)\">\n     <use xlink:href=\"#DejaVuSans-99\"/>\n     <use x=\"54.980469\" xlink:href=\"#DejaVuSans-97\"/>\n     <use x=\"116.259766\" xlink:href=\"#DejaVuSans-114\"/>\n    </g>\n   </g>\n  </g>\n  <g id=\"axes_20\">\n   <g clip-path=\"url(#p89323ff712)\">\n    <image height=\"75\" id=\"imageb502f4fdc9\" transform=\"scale(1 -1)translate(0 -75)\" width=\"75\" x=\"356.556522\" xlink:href=\"data:image/png;base64,\niVBORw0KGgoAAAANSUhEUgAAAEsAAABLCAYAAAA4TnrqAAAABHNCSVQICAgIfAhkiAAAAzxJREFUeJztnEFIU3Ecxz9LB+GhXTy4iwd3aEQieXCHRiBhp8BVh44RelFIOnQwwwwiKygIhYRuGgQR1YROihgkhBGLmAcvJkjgZR7mYR2GrMP7v/+GOfM335ub/D6X93u/33/v//ju+//v//beFgAK1BkXE6MALCSnTWbD1/7OxPoBOOFrL8eMxqM+gUr4kUqZKONjLyEbbWezgDpLhIoloC6H4bnOTgAWNuZ866Mh1G7jlnAYUGeJqEtnRSJtACwEzbufT+3TWkoUgPPxeDETPQ2os0TUjbNuDr2ycSaz5QTBoLPNe9FDMwAd8W4Aei712Eo06rhNnSVAxRJQU8OwIz4AQCLRa3NtkQgAv9bWbG55+ZsT5NwVfLDkKAcfkyebu218tt35sNjKOMecTc7aWnhAlw5ifHKW+05HS3LpXbVSBzjtXEd1xWK2kjXXZTPTMza3nn7jyVn29ffZuDeRAGDs/hgAX+ee29qDzU1AnSXCJ2e5rknvUyvFcY/rolSquMh8bRzlzl0A63sdtgLm5+ZtnMvlAAgGg/+0+736DlBniVCxBNTI0sGZQF88vF62xanQUMleq9ke7uvkrliXjd1hns1ul22vzhJQRWcdzg3fFye8OxVDOr1i49ZW5/xmk8my7dVZAqroLH9vV1XCSrq4Bvljlg472aWy7dVZAlQsAQHq8I505TSZbdjsNhdLueX/vlqdJeAYOstcQwbNHeX8akktZ7ZNu/YPhjpLQI1c7nhHQ8iZj3aymyazl3tkjnJRZwlQsQQcwwneP9RZAlQsASqWABVLgIolQMUSoGIJULEEqFgCVCwBKpYAFUuAiiVAxRKgYglQsQSoWAJULAEqlgAVS4CKJUDFEqBiCVCxBKhYAlQsASqWgEZwfpQ48njcJh8NXy77gntPPgEwfnfEZNZKqpU9ylMvqLMEBAqFgmdP0Tyd+gLA8OAFrw5ZU6izBKhYAjwdhvaggUDZ2tUbzwD4MH3H6259R50lwJenld3/Z/i5NGVzt0ffApDPe/JfKEeCOkuAL856//ElAJ8Xb9lcxPysdnJi0o8uq4I6S4CKJcCXYXjtyiCw9wQfDrf40WVVUGcJ+AuXqKKXUx+vWQAAAABJRU5ErkJggg==\" y=\"-382.198125\"/>\n   </g>\n   <g id=\"text_20\">\n    <!-- cat -->\n    <g transform=\"translate(384.718052 376.218815)scale(0.12 -0.12)\">\n     <use xlink:href=\"#DejaVuSans-99\"/>\n     <use x=\"54.980469\" xlink:href=\"#DejaVuSans-97\"/>\n     <use x=\"116.259766\" xlink:href=\"#DejaVuSans-116\"/>\n    </g>\n   </g>\n  </g>\n </g>\n <defs>\n  <clipPath id=\"pff7a46f018\">\n   <rect height=\"74.97931\" width=\"74.97931\" x=\"7.2\" y=\"22.318125\"/>\n  </clipPath>\n  <clipPath id=\"p3324deedfa\">\n   <rect height=\"74.97931\" width=\"74.97931\" x=\"123.652174\" y=\"22.318125\"/>\n  </clipPath>\n  <clipPath id=\"p8462386d8b\">\n   <rect height=\"74.97931\" width=\"74.97931\" x=\"240.104348\" y=\"22.318125\"/>\n  </clipPath>\n  <clipPath id=\"pfa751da871\">\n   <rect height=\"74.97931\" width=\"74.97931\" x=\"356.556522\" y=\"22.318125\"/>\n  </clipPath>\n  <clipPath id=\"pd14e59f6ad\">\n   <rect height=\"74.97931\" width=\"74.97931\" x=\"7.2\" y=\"112.293297\"/>\n  </clipPath>\n  <clipPath id=\"p3231038314\">\n   <rect height=\"74.97931\" width=\"74.97931\" x=\"123.652174\" y=\"112.293297\"/>\n  </clipPath>\n  <clipPath id=\"p0b3d80805e\">\n   <rect height=\"74.97931\" width=\"74.97931\" x=\"240.104348\" y=\"112.293297\"/>\n  </clipPath>\n  <clipPath id=\"pc05b65f1f1\">\n   <rect height=\"74.97931\" width=\"74.97931\" x=\"356.556522\" y=\"112.293297\"/>\n  </clipPath>\n  <clipPath id=\"p02ffab1ee5\">\n   <rect height=\"74.97931\" width=\"74.97931\" x=\"7.2\" y=\"202.26847\"/>\n  </clipPath>\n  <clipPath id=\"pd494b8572e\">\n   <rect height=\"74.97931\" width=\"74.97931\" x=\"123.652174\" y=\"202.26847\"/>\n  </clipPath>\n  <clipPath id=\"pb689a293eb\">\n   <rect height=\"74.97931\" width=\"74.97931\" x=\"240.104348\" y=\"202.26847\"/>\n  </clipPath>\n  <clipPath id=\"pc6f1e59906\">\n   <rect height=\"74.97931\" width=\"74.97931\" x=\"356.556522\" y=\"202.26847\"/>\n  </clipPath>\n  <clipPath id=\"p6f7e498abf\">\n   <rect height=\"74.97931\" width=\"74.97931\" x=\"7.2\" y=\"292.243642\"/>\n  </clipPath>\n  <clipPath id=\"p27928e4226\">\n   <rect height=\"74.97931\" width=\"74.97931\" x=\"123.652174\" y=\"292.243642\"/>\n  </clipPath>\n  <clipPath id=\"p99bf172b3c\">\n   <rect height=\"74.97931\" width=\"74.97931\" x=\"240.104348\" y=\"292.243642\"/>\n  </clipPath>\n  <clipPath id=\"pfbdee61898\">\n   <rect height=\"74.97931\" width=\"74.97931\" x=\"356.556522\" y=\"292.243642\"/>\n  </clipPath>\n  <clipPath id=\"pde17220525\">\n   <rect height=\"74.97931\" width=\"74.97931\" x=\"7.2\" y=\"382.218815\"/>\n  </clipPath>\n  <clipPath id=\"pf4f7c9adf5\">\n   <rect height=\"74.97931\" width=\"74.97931\" x=\"123.652174\" y=\"382.218815\"/>\n  </clipPath>\n  <clipPath id=\"p5186e5d5af\">\n   <rect height=\"74.97931\" width=\"74.97931\" x=\"240.104348\" y=\"382.218815\"/>\n  </clipPath>\n  <clipPath id=\"p89323ff712\">\n   <rect height=\"74.97931\" width=\"74.97931\" x=\"356.556522\" y=\"382.218815\"/>\n  </clipPath>\n </defs>\n</svg>\n"
          },
          "metadata": {
            "tags": []
          }
        }
      ]
    },
    {
      "cell_type": "markdown",
      "metadata": {
        "id": "qlQ0W-q7snrR",
        "colab_type": "text"
      },
      "source": [
        "# save and load checkpoint"
      ]
    },
    {
      "cell_type": "code",
      "metadata": {
        "id": "eGyG96ysskV1",
        "colab_type": "code",
        "colab": {}
      },
      "source": [
        "def save_checkpoint(model, is_best, filename='data/checkpoint.pth.tar'):\n",
        "    \"\"\"Save checkpoint if a new best is achieved\"\"\"\n",
        "    if is_best:\n",
        "        torch.save(model.state_dict(), filename)  # save checkpoint\n",
        "    else:\n",
        "        print (\"=> Validation Accuracy did not improve\")"
      ],
      "execution_count": 0,
      "outputs": []
    },
    {
      "cell_type": "code",
      "metadata": {
        "id": "ODkWdaKUsw8Q",
        "colab_type": "code",
        "colab": {}
      },
      "source": [
        "def load_checkpoint(model, filename = 'data/checkpoint.pth.tar'):\n",
        "    sd = torch.load(filename, map_location=lambda storage, loc: storage)\n",
        "    names = set(model.state_dict().keys())\n",
        "    for n in list(sd.keys()):\n",
        "        if n not in names and n+'_raw' in names:\n",
        "            if n+'_raw' not in sd: sd[n+'_raw'] = sd[n]\n",
        "            del sd[n]\n",
        "    model.load_state_dict(sd)"
      ],
      "execution_count": 0,
      "outputs": []
    },
    {
      "cell_type": "markdown",
      "metadata": {
        "id": "BMqnHHlLs1nL",
        "colab_type": "text"
      },
      "source": [
        "# Global variables"
      ]
    },
    {
      "cell_type": "code",
      "metadata": {
        "id": "6oEDCaDYs0qk",
        "colab_type": "code",
        "colab": {}
      },
      "source": [
        "train_loss = 0.0\n",
        "test_loss = 0.0\n",
        "best_acc = 0.0\n",
        "trn_losses = []\n",
        "trn_accs = []\n",
        "val_losses = []\n",
        "val_accs = []"
      ],
      "execution_count": 0,
      "outputs": []
    },
    {
      "cell_type": "code",
      "metadata": {
        "id": "po5STdeZs9ai",
        "colab_type": "code",
        "colab": {}
      },
      "source": [
        "total = 0\n",
        "correct = 0"
      ],
      "execution_count": 0,
      "outputs": []
    },
    {
      "cell_type": "markdown",
      "metadata": {
        "id": "ogaK2kjKtB1O",
        "colab_type": "text"
      },
      "source": [
        "# Helper functions"
      ]
    },
    {
      "cell_type": "code",
      "metadata": {
        "id": "xNVROs82tBDb",
        "colab_type": "code",
        "colab": {}
      },
      "source": [
        "def accuracy(output, target, is_test=False):\n",
        "    global total\n",
        "    global correct\n",
        "    batch_size = target.size(0)\n",
        "    total += batch_size  \n",
        "    _, pred = output.max(dim=1)\n",
        "    if is_test:\n",
        "        preds.extend(pred)\n",
        "    correct += torch.sum(pred == target.data)\n",
        "    return (correct.float() / total) * 100"
      ],
      "execution_count": 0,
      "outputs": []
    },
    {
      "cell_type": "code",
      "metadata": {
        "id": "OdwknXrXtPWK",
        "colab_type": "code",
        "colab": {}
      },
      "source": [
        "def reset():\n",
        "    global total, correct\n",
        "    global train_loss, test_loss, best_acc\n",
        "    global trn_accs, trn_losses, val_accs, val_losses\n",
        "    total, correct = 0, 0\n",
        "    train_loss, test_loss, best_acc = 0.0, 0.0, 0.0\n",
        "    trn_losses, trn_accs, val_accs, val_losses = [], [], [], []"
      ],
      "execution_count": 0,
      "outputs": []
    },
    {
      "cell_type": "code",
      "metadata": {
        "id": "U_QEGWOBtSoR",
        "colab_type": "code",
        "colab": {}
      },
      "source": [
        "class AvgStats(object):\n",
        "    def __init__(self):\n",
        "        self.reset()\n",
        "        \n",
        "    def reset(self):\n",
        "        self.losses =[]\n",
        "        self.precs =[]\n",
        "        self.its = []\n",
        "        \n",
        "    def append(self, loss, prec, it):\n",
        "        self.losses.append(loss)\n",
        "        self.precs.append(prec)\n",
        "        self.its.append(it)"
      ],
      "execution_count": 0,
      "outputs": []
    },
    {
      "cell_type": "markdown",
      "metadata": {
        "id": "TiptBnxLtaHx",
        "colab_type": "text"
      },
      "source": [
        "# Train and Test"
      ]
    },
    {
      "cell_type": "code",
      "metadata": {
        "id": "BrJGCUsTtZHN",
        "colab_type": "code",
        "colab": {}
      },
      "source": [
        "def train(epoch=0, model=None, optimizer=None):\n",
        "    model.train()\n",
        "    global best_acc\n",
        "    global trn_accs, trn_losses\n",
        "    is_improving = True\n",
        "    counter = 0\n",
        "    running_loss = 0.\n",
        "    avg_beta = 0.98\n",
        "\n",
        "    for i, (input, target) in enumerate(train_loader):\n",
        "        bt_start = time.time()\n",
        "        input, target = input.to(device), target.to(device)\n",
        "        var_ip, var_tg = Variable(input), Variable(target)\n",
        "                                    \n",
        "        output = model(var_ip)\n",
        "        loss = criterion(output, var_tg)\n",
        "            \n",
        "        running_loss = avg_beta * running_loss + (1-avg_beta) *loss.item()\n",
        "        smoothed_loss = running_loss / (1 - avg_beta**(i+1))\n",
        "        \n",
        "        trn_losses.append(smoothed_loss)\n",
        "            \n",
        "        # measure accuracy and record loss\n",
        "        prec = accuracy(output.data, target)\n",
        "        trn_accs.append(prec)\n",
        "\n",
        "        train_stats.append(smoothed_loss, prec, time.time()-bt_start)\n",
        "        if prec > best_acc :\n",
        "            best_acc = prec\n",
        "            save_checkpoint(model, True)\n",
        "\n",
        "        # compute gradient and do SGD step\n",
        "        optimizer.zero_grad()\n",
        "        loss.backward()\n",
        "        optimizer.step()"
      ],
      "execution_count": 0,
      "outputs": []
    },
    {
      "cell_type": "code",
      "metadata": {
        "id": "gOZQwwhXtiUv",
        "colab_type": "code",
        "colab": {}
      },
      "source": [
        "def test(model=None):\n",
        "    with torch.no_grad():\n",
        "        model.eval()\n",
        "        global val_accs, val_losses\n",
        "        running_loss = 0.\n",
        "        avg_beta = 0.98\n",
        "        for i, (input, target) in enumerate(test_loader):\n",
        "            bt_start = time.time()\n",
        "            input, target = input.to(device), target.to(device)\n",
        "            var_ip, var_tg = Variable(input), Variable(target)\n",
        "            output = model(var_ip)\n",
        "            loss = criterion(output, var_tg)\n",
        "        \n",
        "            running_loss = avg_beta * running_loss + (1-avg_beta) *loss.item()\n",
        "            smoothed_loss = running_loss / (1 - avg_beta**(i+1))\n",
        "\n",
        "            # measure accuracy and record loss\n",
        "            prec = accuracy(output.data, target, is_test=True)\n",
        "            test_stats.append(loss.item(), prec, time.time()-bt_start)\n",
        "        \n",
        "            val_losses.append(smoothed_loss)\n",
        "            val_accs.append(prec)"
      ],
      "execution_count": 0,
      "outputs": []
    },
    {
      "cell_type": "code",
      "metadata": {
        "id": "6tp2g4a3tw8p",
        "colab_type": "code",
        "colab": {}
      },
      "source": [
        "def fit(model=None, optimizer=None, sched=None):\n",
        "    print(\"Epoch\\tTrn_loss\\tVal_loss\\tTrn_acc\\t\\tVal_acc\")\n",
        "    for j in range(epochs):\n",
        "        train(j, model, optimizer)\n",
        "        test(model)\n",
        "        if sched:\n",
        "          sched.step(j)\n",
        "        print(\"{}\\t{:06.8f}\\t{:06.8f}\\t{:06.8f}\\t{:06.8f}\"\n",
        "              .format(j+1, trn_losses[-1], val_losses[-1], trn_accs[-1], val_accs[-1]))"
      ],
      "execution_count": 0,
      "outputs": []
    },
    {
      "cell_type": "markdown",
      "metadata": {
        "id": "-vBIKBdbt4f2",
        "colab_type": "text"
      },
      "source": [
        "# Model"
      ]
    },
    {
      "cell_type": "code",
      "metadata": {
        "id": "VGMxBRimt2xJ",
        "colab_type": "code",
        "outputId": "9394ecf9-70de-4570-ad33-de915d7d27e0",
        "colab": {
          "base_uri": "https://localhost:8080/",
          "height": 459
        }
      },
      "source": [
        "model = models.resnet18(pretrained=True)"
      ],
      "execution_count": 23,
      "outputs": [
        {
          "output_type": "stream",
          "text": [
            "Downloading: \"https://download.pytorch.org/models/resnet18-5c106cde.pth\" to /root/.cache/torch/checkpoints/resnet18-5c106cde.pth\n",
            "\n",
            "  0%|          | 0.00/44.7M [00:00<?, ?B/s]\u001b[A\n",
            "  3%|▎         | 1.19M/44.7M [00:00<00:04, 11.3MB/s]\u001b[A\n",
            "  4%|▍         | 1.81M/44.7M [00:00<00:04, 9.23MB/s]\u001b[A\n",
            " 10%|▉         | 4.44M/44.7M [00:00<00:03, 11.5MB/s]\u001b[A\n",
            " 15%|█▌        | 6.78M/44.7M [00:00<00:02, 13.7MB/s]\u001b[A\n",
            " 20%|█▉        | 8.88M/44.7M [00:00<00:02, 15.0MB/s]\u001b[A\n",
            " 26%|██▌       | 11.6M/44.7M [00:00<00:02, 17.3MB/s]\u001b[A\n",
            " 30%|███       | 13.4M/44.7M [00:00<00:01, 17.0MB/s]\u001b[A\n",
            " 36%|███▌      | 16.1M/44.7M [00:00<00:01, 19.1MB/s]\u001b[A\n",
            " 40%|████      | 18.1M/44.7M [00:00<00:01, 18.9MB/s]\u001b[A\n",
            " 45%|████▍     | 20.0M/44.7M [00:01<00:01, 14.9MB/s]\u001b[A\n",
            " 50%|█████     | 22.4M/44.7M [00:01<00:01, 17.0MB/s]\u001b[A\n",
            " 56%|█████▌    | 24.8M/44.7M [00:01<00:01, 18.7MB/s]\u001b[A\n",
            " 60%|██████    | 26.8M/44.7M [00:01<00:01, 17.7MB/s]\u001b[A\n",
            " 64%|██████▍   | 28.7M/44.7M [00:01<00:01, 13.6MB/s]\u001b[A\n",
            " 68%|██████▊   | 30.4M/44.7M [00:01<00:01, 14.5MB/s]\u001b[A\n",
            " 72%|███████▏  | 32.0M/44.7M [00:01<00:00, 14.6MB/s]\u001b[A\n",
            " 75%|███████▍  | 33.5M/44.7M [00:02<00:00, 14.5MB/s]\u001b[A\n",
            " 78%|███████▊  | 35.0M/44.7M [00:02<00:00, 14.4MB/s]\u001b[A\n",
            " 83%|████████▎ | 37.2M/44.7M [00:02<00:00, 16.3MB/s]\u001b[A\n",
            " 87%|████████▋ | 38.9M/44.7M [00:02<00:00, 13.3MB/s]\u001b[A\n",
            " 90%|█████████ | 40.4M/44.7M [00:02<00:00, 13.0MB/s]\u001b[A\n",
            " 96%|█████████▌| 42.8M/44.7M [00:02<00:00, 15.0MB/s]\u001b[A\n",
            "100%|██████████| 44.7M/44.7M [00:02<00:00, 17.0MB/s]\u001b[A"
          ],
          "name": "stderr"
        }
      ]
    },
    {
      "cell_type": "code",
      "metadata": {
        "id": "_pX5ab6Hkh_l",
        "colab_type": "code",
        "colab": {}
      },
      "source": [
        "model.fc = nn.Linear(in_features=model.fc.in_features, out_features=10, bias=True)"
      ],
      "execution_count": 0,
      "outputs": []
    },
    {
      "cell_type": "code",
      "metadata": {
        "id": "xSY_R_Wxt986",
        "colab_type": "code",
        "outputId": "97c8c8c5-c51e-49d1-a54a-7f10ee8b06ac",
        "colab": {
          "base_uri": "https://localhost:8080/",
          "height": 1000
        }
      },
      "source": [
        "model = model.to(device)\n",
        "model"
      ],
      "execution_count": 25,
      "outputs": [
        {
          "output_type": "execute_result",
          "data": {
            "text/plain": [
              "ResNet(\n",
              "  (conv1): Conv2d(3, 64, kernel_size=(7, 7), stride=(2, 2), padding=(3, 3), bias=False)\n",
              "  (bn1): BatchNorm2d(64, eps=1e-05, momentum=0.1, affine=True, track_running_stats=True)\n",
              "  (relu): ReLU(inplace=True)\n",
              "  (maxpool): MaxPool2d(kernel_size=3, stride=2, padding=1, dilation=1, ceil_mode=False)\n",
              "  (layer1): Sequential(\n",
              "    (0): BasicBlock(\n",
              "      (conv1): Conv2d(64, 64, kernel_size=(3, 3), stride=(1, 1), padding=(1, 1), bias=False)\n",
              "      (bn1): BatchNorm2d(64, eps=1e-05, momentum=0.1, affine=True, track_running_stats=True)\n",
              "      (relu): ReLU(inplace=True)\n",
              "      (conv2): Conv2d(64, 64, kernel_size=(3, 3), stride=(1, 1), padding=(1, 1), bias=False)\n",
              "      (bn2): BatchNorm2d(64, eps=1e-05, momentum=0.1, affine=True, track_running_stats=True)\n",
              "    )\n",
              "    (1): BasicBlock(\n",
              "      (conv1): Conv2d(64, 64, kernel_size=(3, 3), stride=(1, 1), padding=(1, 1), bias=False)\n",
              "      (bn1): BatchNorm2d(64, eps=1e-05, momentum=0.1, affine=True, track_running_stats=True)\n",
              "      (relu): ReLU(inplace=True)\n",
              "      (conv2): Conv2d(64, 64, kernel_size=(3, 3), stride=(1, 1), padding=(1, 1), bias=False)\n",
              "      (bn2): BatchNorm2d(64, eps=1e-05, momentum=0.1, affine=True, track_running_stats=True)\n",
              "    )\n",
              "  )\n",
              "  (layer2): Sequential(\n",
              "    (0): BasicBlock(\n",
              "      (conv1): Conv2d(64, 128, kernel_size=(3, 3), stride=(2, 2), padding=(1, 1), bias=False)\n",
              "      (bn1): BatchNorm2d(128, eps=1e-05, momentum=0.1, affine=True, track_running_stats=True)\n",
              "      (relu): ReLU(inplace=True)\n",
              "      (conv2): Conv2d(128, 128, kernel_size=(3, 3), stride=(1, 1), padding=(1, 1), bias=False)\n",
              "      (bn2): BatchNorm2d(128, eps=1e-05, momentum=0.1, affine=True, track_running_stats=True)\n",
              "      (downsample): Sequential(\n",
              "        (0): Conv2d(64, 128, kernel_size=(1, 1), stride=(2, 2), bias=False)\n",
              "        (1): BatchNorm2d(128, eps=1e-05, momentum=0.1, affine=True, track_running_stats=True)\n",
              "      )\n",
              "    )\n",
              "    (1): BasicBlock(\n",
              "      (conv1): Conv2d(128, 128, kernel_size=(3, 3), stride=(1, 1), padding=(1, 1), bias=False)\n",
              "      (bn1): BatchNorm2d(128, eps=1e-05, momentum=0.1, affine=True, track_running_stats=True)\n",
              "      (relu): ReLU(inplace=True)\n",
              "      (conv2): Conv2d(128, 128, kernel_size=(3, 3), stride=(1, 1), padding=(1, 1), bias=False)\n",
              "      (bn2): BatchNorm2d(128, eps=1e-05, momentum=0.1, affine=True, track_running_stats=True)\n",
              "    )\n",
              "  )\n",
              "  (layer3): Sequential(\n",
              "    (0): BasicBlock(\n",
              "      (conv1): Conv2d(128, 256, kernel_size=(3, 3), stride=(2, 2), padding=(1, 1), bias=False)\n",
              "      (bn1): BatchNorm2d(256, eps=1e-05, momentum=0.1, affine=True, track_running_stats=True)\n",
              "      (relu): ReLU(inplace=True)\n",
              "      (conv2): Conv2d(256, 256, kernel_size=(3, 3), stride=(1, 1), padding=(1, 1), bias=False)\n",
              "      (bn2): BatchNorm2d(256, eps=1e-05, momentum=0.1, affine=True, track_running_stats=True)\n",
              "      (downsample): Sequential(\n",
              "        (0): Conv2d(128, 256, kernel_size=(1, 1), stride=(2, 2), bias=False)\n",
              "        (1): BatchNorm2d(256, eps=1e-05, momentum=0.1, affine=True, track_running_stats=True)\n",
              "      )\n",
              "    )\n",
              "    (1): BasicBlock(\n",
              "      (conv1): Conv2d(256, 256, kernel_size=(3, 3), stride=(1, 1), padding=(1, 1), bias=False)\n",
              "      (bn1): BatchNorm2d(256, eps=1e-05, momentum=0.1, affine=True, track_running_stats=True)\n",
              "      (relu): ReLU(inplace=True)\n",
              "      (conv2): Conv2d(256, 256, kernel_size=(3, 3), stride=(1, 1), padding=(1, 1), bias=False)\n",
              "      (bn2): BatchNorm2d(256, eps=1e-05, momentum=0.1, affine=True, track_running_stats=True)\n",
              "    )\n",
              "  )\n",
              "  (layer4): Sequential(\n",
              "    (0): BasicBlock(\n",
              "      (conv1): Conv2d(256, 512, kernel_size=(3, 3), stride=(2, 2), padding=(1, 1), bias=False)\n",
              "      (bn1): BatchNorm2d(512, eps=1e-05, momentum=0.1, affine=True, track_running_stats=True)\n",
              "      (relu): ReLU(inplace=True)\n",
              "      (conv2): Conv2d(512, 512, kernel_size=(3, 3), stride=(1, 1), padding=(1, 1), bias=False)\n",
              "      (bn2): BatchNorm2d(512, eps=1e-05, momentum=0.1, affine=True, track_running_stats=True)\n",
              "      (downsample): Sequential(\n",
              "        (0): Conv2d(256, 512, kernel_size=(1, 1), stride=(2, 2), bias=False)\n",
              "        (1): BatchNorm2d(512, eps=1e-05, momentum=0.1, affine=True, track_running_stats=True)\n",
              "      )\n",
              "    )\n",
              "    (1): BasicBlock(\n",
              "      (conv1): Conv2d(512, 512, kernel_size=(3, 3), stride=(1, 1), padding=(1, 1), bias=False)\n",
              "      (bn1): BatchNorm2d(512, eps=1e-05, momentum=0.1, affine=True, track_running_stats=True)\n",
              "      (relu): ReLU(inplace=True)\n",
              "      (conv2): Conv2d(512, 512, kernel_size=(3, 3), stride=(1, 1), padding=(1, 1), bias=False)\n",
              "      (bn2): BatchNorm2d(512, eps=1e-05, momentum=0.1, affine=True, track_running_stats=True)\n",
              "    )\n",
              "  )\n",
              "  (avgpool): AdaptiveAvgPool2d(output_size=(1, 1))\n",
              "  (fc): Linear(in_features=512, out_features=10, bias=True)\n",
              ")"
            ]
          },
          "metadata": {
            "tags": []
          },
          "execution_count": 25
        }
      ]
    },
    {
      "cell_type": "code",
      "metadata": {
        "id": "Z-2R9xnsuCIr",
        "colab_type": "code",
        "colab": {}
      },
      "source": [
        "for param in model.parameters():\n",
        "  param.requires_grad = True"
      ],
      "execution_count": 0,
      "outputs": []
    },
    {
      "cell_type": "code",
      "metadata": {
        "id": "-wFs4jrvuGAM",
        "colab_type": "code",
        "colab": {}
      },
      "source": [
        "criterion = nn.CrossEntropyLoss()"
      ],
      "execution_count": 0,
      "outputs": []
    },
    {
      "cell_type": "code",
      "metadata": {
        "id": "Nxvk1OPTuJhG",
        "colab_type": "code",
        "colab": {}
      },
      "source": [
        "optimizer = optim.SGD(model.parameters(), lr=1e-2, weight_decay=1e-4, momentum=0.9)"
      ],
      "execution_count": 0,
      "outputs": []
    },
    {
      "cell_type": "code",
      "metadata": {
        "id": "pkBtb_RGiKrt",
        "colab_type": "code",
        "colab": {}
      },
      "source": [
        "sched = torch.optim.lr_scheduler.StepLR(optimizer, step_size=30, gamma=0.2)"
      ],
      "execution_count": 0,
      "outputs": []
    },
    {
      "cell_type": "code",
      "metadata": {
        "id": "vY-VnxO5ckNS",
        "colab_type": "code",
        "colab": {}
      },
      "source": [
        "save_checkpoint(model, True, filename='before_sgd_resnet18.pth.tar')"
      ],
      "execution_count": 0,
      "outputs": []
    },
    {
      "cell_type": "code",
      "metadata": {
        "id": "q82CU_THuNY2",
        "colab_type": "code",
        "colab": {}
      },
      "source": [
        "preds = []\n",
        "train_stats = AvgStats()\n",
        "test_stats = AvgStats()"
      ],
      "execution_count": 0,
      "outputs": []
    },
    {
      "cell_type": "code",
      "metadata": {
        "id": "W-kJTqs_k_4y",
        "colab_type": "code",
        "colab": {}
      },
      "source": [
        "reset()"
      ],
      "execution_count": 0,
      "outputs": []
    },
    {
      "cell_type": "code",
      "metadata": {
        "id": "bH-IxGTelOg5",
        "colab_type": "code",
        "outputId": "99fdc1b8-7b05-4878-d876-cf05bf688a31",
        "colab": {
          "base_uri": "https://localhost:8080/",
          "height": 1000
        }
      },
      "source": [
        "fit(model, optimizer, sched)"
      ],
      "execution_count": 0,
      "outputs": [
        {
          "output_type": "stream",
          "text": [
            "Epoch\tTrn_loss\tVal_loss\tTrn_acc\t\tVal_acc\n",
            "1\t0.78144722\t0.69162591\t65.81599426\t67.58833313\n",
            "2\t0.65414955\t0.71061546\t71.79454803\t72.21582794\n",
            "3\t0.57582089\t0.56978001\t74.41706085\t74.75389099\n",
            "4\t0.52894990\t0.55394383\t76.24652100\t76.46125031\n",
            "5\t0.49460261\t0.54243252\t77.55241394\t77.68333435\n",
            "6\t0.46320435\t0.49345893\t78.56885529\t78.70999908\n",
            "7\t0.43627403\t0.50981798\t79.44195557\t79.53546906\n",
            "8\t0.41583075\t0.50034805\t80.20213318\t80.27354431\n",
            "9\t0.41100989\t0.49854687\t80.81623077\t80.86592865\n",
            "10\t0.37449969\t0.48470622\t81.36474609\t81.41683197\n",
            "11\t0.37572437\t0.50206496\t81.88569641\t81.90985107\n",
            "12\t0.37215963\t0.46065421\t82.31535339\t82.34542084\n",
            "13\t0.35110608\t0.46568915\t82.71428680\t82.73769379\n",
            "14\t0.35841818\t0.48984524\t83.07758331\t83.09571075\n",
            "15\t0.32141879\t0.45238774\t83.43809509\t83.46067047\n",
            "16\t0.30553973\t0.48818813\t83.76936340\t83.77687073\n",
            "17\t0.29430746\t0.45426958\t84.07563782\t84.09353638\n",
            "18\t0.28268132\t0.46222674\t84.37775421\t84.38907623\n",
            "19\t0.28569646\t0.47280294\t84.65256500\t84.66008759\n",
            "20\t0.28531800\t0.44965189\t84.91025543\t84.91641998\n",
            "21\t0.26935034\t0.47002669\t85.15056610\t85.15222168\n",
            "22\t0.26240291\t0.44387513\t85.37977600\t85.38204956\n",
            "23\t0.26239789\t0.45728422\t85.59912109\t85.60014343\n",
            "24\t0.25964741\t0.47176672\t85.80853271\t85.80958557\n",
            "25\t0.23906982\t0.52712609\t86.00878906\t86.00073242\n",
            "26\t0.22679538\t0.46380702\t86.19457245\t86.19563293\n",
            "27\t0.22266554\t0.47822520\t86.38317108\t86.38130188\n",
            "28\t0.21552303\t0.47845361\t86.56371307\t86.55916595\n",
            "29\t0.22109193\t0.49941726\t86.73104095\t86.72425842\n",
            "30\t0.21254848\t0.49294827\t86.89726257\t86.89033508\n",
            "31\t0.20524431\t0.49803340\t87.05368042\t87.04666901\n",
            "32\t0.12223388\t0.44481805\t87.26508331\t87.26666260\n",
            "33\t0.11483878\t0.45165015\t87.48979950\t87.49069977\n",
            "34\t0.10263083\t0.45411395\t87.70970154\t87.71020508\n",
            "35\t0.08485959\t0.47894930\t87.92780304\t87.92832947\n",
            "36\t0.08564794\t0.47334677\t88.13716125\t88.13694000\n",
            "37\t0.08475136\t0.49398636\t88.33728790\t88.33414459\n",
            "38\t0.08418121\t0.49219455\t88.52955627\t88.52701569\n",
            "39\t0.08280338\t0.49692313\t88.71524048\t88.71247864\n",
            "40\t0.07249240\t0.51146392\t88.89556885\t88.89175415\n",
            "41\t0.07419175\t0.52430977\t89.06685638\t89.06240082\n",
            "42\t0.06878459\t0.52904250\t89.23278809\t89.22714233\n",
            "43\t0.06290421\t0.53475052\t89.39155579\t89.38535309\n",
            "44\t0.06294168\t0.52847806\t89.54341888\t89.53640747\n",
            "45\t0.06368887\t0.54279973\t89.68992615\t89.68296814\n",
            "46\t0.06367407\t0.54244225\t89.83134460\t89.82456207\n",
            "47\t0.06064554\t0.55301326\t89.97149658\t89.96446991\n",
            "48\t0.06047247\t0.56058936\t90.10320282\t90.09638977\n",
            "49\t0.05468784\t0.56852159\t90.23217773\t90.22448730\n",
            "50\t0.05125382\t0.55770848\t90.35535431\t90.34746552\n",
            "51\t0.05895822\t0.56085113\t90.47380829\t90.46558380\n",
            "52\t0.05690983\t0.57322278\t90.58964539\t90.58150482\n",
            "53\t0.05754229\t0.56996704\t90.70091248\t90.69255066\n",
            "54\t0.05157163\t0.56895293\t90.80968475\t90.80095673\n",
            "55\t0.05199715\t0.57883621\t90.91400909\t90.90482330\n",
            "56\t0.04900707\t0.58228877\t91.01633453\t91.00687408\n",
            "57\t0.04896620\t0.58603122\t91.11516571\t91.10520172\n",
            "58\t0.04941753\t0.58573153\t91.20982361\t91.20086670\n",
            "59\t0.04786176\t0.58134269\t91.30328369\t91.29378510\n",
            "60\t0.04861867\t0.58566259\t91.39295197\t91.38325500\n",
            "61\t0.04482435\t0.58621659\t91.48011017\t91.47092438\n",
            "62\t0.03308012\t0.59061824\t91.56916046\t91.56040192\n",
            "63\t0.03861737\t0.57706479\t91.65531158\t91.64669800\n",
            "64\t0.03420837\t0.59411220\t91.74198151\t91.73307800\n",
            "65\t0.03718401\t0.58584159\t91.82583618\t91.81684875\n",
            "66\t0.02839747\t0.60103405\t91.90749359\t91.89848328\n",
            "67\t0.03519831\t0.60170821\t91.98548889\t91.97653961\n",
            "68\t0.03086461\t0.59850751\t92.06270599\t92.05343628\n",
            "69\t0.02995454\t0.61951537\t92.13680267\t92.12731934\n",
            "70\t0.02962373\t0.61467269\t92.20899963\t92.19947815\n",
            "71\t0.02953486\t0.61428838\t92.27993011\t92.27040100\n",
            "72\t0.03396872\t0.61745183\t92.34838104\t92.33872986\n",
            "73\t0.03021580\t0.61958406\t92.41548920\t92.40554810\n",
            "74\t0.02974527\t0.63846809\t92.48011017\t92.47064972\n",
            "75\t0.02666571\t0.63260618\t92.54344940\t92.53382874\n",
            "76\t0.02712954\t0.63659564\t92.60566711\t92.59616089\n",
            "77\t0.03105857\t0.63997878\t92.66657257\t92.65673065\n",
            "78\t0.02637407\t0.63894693\t92.72623444\t92.71696472\n",
            "79\t0.02386208\t0.63523418\t92.78497314\t92.77540588\n",
            "80\t0.02386936\t0.63527626\t92.84188080\t92.83235931\n",
            "81\t0.02406580\t0.64828197\t92.89692688\t92.88762665\n",
            "82\t0.03167466\t0.63702993\t92.95046997\t92.94017792\n",
            "83\t0.02295887\t0.64080570\t93.00249481\t92.99279785\n",
            "84\t0.02494354\t0.64424266\t93.05413055\t93.04428101\n",
            "85\t0.02244920\t0.64059627\t93.10459900\t93.09470367\n",
            "86\t0.02765279\t0.66538683\t93.15339661\t93.14376068\n",
            "87\t0.02559112\t0.64461394\t93.20191956\t93.19231415\n",
            "88\t0.02347376\t0.64499406\t93.24899292\t93.23933411\n",
            "89\t0.02663594\t0.66287034\t93.29437256\t93.28482819\n",
            "90\t0.02435136\t0.64781841\t93.33972168\t93.33050537\n"
          ],
          "name": "stdout"
        }
      ]
    },
    {
      "cell_type": "code",
      "metadata": {
        "id": "0OipEoMoaHt-",
        "colab_type": "code",
        "colab": {}
      },
      "source": [
        "save_checkpoint(model, True, 'sgd_resnet18_9333.pth.tar')"
      ],
      "execution_count": 0,
      "outputs": []
    },
    {
      "cell_type": "code",
      "metadata": {
        "id": "upexYQmyabrD",
        "colab_type": "code",
        "colab": {}
      },
      "source": [
        "ep_sgd_losses = []\n",
        "for i in range(0, len(train_stats.losses), len(train_loader)):\n",
        "    if i != 0 :\n",
        "        ep_sgd_losses.append(train_stats.losses[i])\n",
        "        \n",
        "ep_sgd_lossesv = []\n",
        "for i in range(0, len(test_stats.losses), len(test_loader)):\n",
        "    if(i != 0):\n",
        "        ep_sgd_lossesv.append(test_stats.losses[i])"
      ],
      "execution_count": 0,
      "outputs": []
    },
    {
      "cell_type": "code",
      "metadata": {
        "id": "ojQ4G1KWb0zR",
        "colab_type": "code",
        "colab": {}
      },
      "source": [
        "ep_sgd_accs = []\n",
        "for i in range(0, len(train_stats.losses), len(train_loader)):\n",
        "    if i != 0 :\n",
        "        ep_sgd_accs.append(train_stats.precs[i])\n",
        "        \n",
        "ep_sgd_accsv = []\n",
        "for i in range(0, len(test_stats.losses), len(test_loader)):\n",
        "    if(i != 0):\n",
        "        ep_sgd_accsv.append(test_stats.precs[i])"
      ],
      "execution_count": 0,
      "outputs": []
    },
    {
      "cell_type": "code",
      "metadata": {
        "id": "3QTgQbtgb1Hi",
        "colab_type": "code",
        "outputId": "ab615855-4934-46b2-d01e-733ccb05df98",
        "colab": {
          "base_uri": "https://localhost:8080/",
          "height": 371
        }
      },
      "source": [
        "plt.xlabel(\"Epochs\")\n",
        "plt.ylabel(\"Accuracy\")\n",
        "plt.plot(ep_sgd_accs, 'r', label='Train')\n",
        "plt.plot(ep_sgd_accsv, 'b', label='Val')\n",
        "plt.legend()\n",
        "plt.savefig('sgd_resnet18_9333_acc.jpg')"
      ],
      "execution_count": 0,
      "outputs": [
        {
          "output_type": "display_data",
          "data": {
            "text/plain": [
              "<Figure size 432x288 with 1 Axes>"
            ],
            "image/svg+xml": "<?xml version=\"1.0\" encoding=\"utf-8\" standalone=\"no\"?>\n<!DOCTYPE svg PUBLIC \"-//W3C//DTD SVG 1.1//EN\"\n  \"http://www.w3.org/Graphics/SVG/1.1/DTD/svg11.dtd\">\n<!-- Created with matplotlib (https://matplotlib.org/) -->\n<svg height=\"262.19625pt\" version=\"1.1\" viewBox=\"0 0 382.603125 262.19625\" width=\"382.603125pt\" xmlns=\"http://www.w3.org/2000/svg\" xmlns:xlink=\"http://www.w3.org/1999/xlink\">\n <defs>\n  <style type=\"text/css\">\n*{stroke-linecap:butt;stroke-linejoin:round;}\n  </style>\n </defs>\n <g id=\"figure_1\">\n  <g id=\"patch_1\">\n   <path d=\"M 0 262.19625 \nL 382.603125 262.19625 \nL 382.603125 0 \nL 0 0 \nz\n\" style=\"fill:none;\"/>\n  </g>\n  <g id=\"axes_1\">\n   <g id=\"patch_2\">\n    <path d=\"M 40.603125 224.64 \nL 375.403125 224.64 \nL 375.403125 7.2 \nL 40.603125 7.2 \nz\n\" style=\"fill:#ffffff;\"/>\n   </g>\n   <g id=\"matplotlib.axis_1\">\n    <g id=\"xtick_1\">\n     <g id=\"line2d_1\">\n      <defs>\n       <path d=\"M 0 0 \nL 0 3.5 \n\" id=\"m5a277f578e\" style=\"stroke:#000000;stroke-width:0.8;\"/>\n      </defs>\n      <g>\n       <use style=\"stroke:#000000;stroke-width:0.8;\" x=\"55.821307\" xlink:href=\"#m5a277f578e\" y=\"224.64\"/>\n      </g>\n     </g>\n     <g id=\"text_1\">\n      <!-- 0 -->\n      <defs>\n       <path d=\"M 31.78125 66.40625 \nQ 24.171875 66.40625 20.328125 58.90625 \nQ 16.5 51.421875 16.5 36.375 \nQ 16.5 21.390625 20.328125 13.890625 \nQ 24.171875 6.390625 31.78125 6.390625 \nQ 39.453125 6.390625 43.28125 13.890625 \nQ 47.125 21.390625 47.125 36.375 \nQ 47.125 51.421875 43.28125 58.90625 \nQ 39.453125 66.40625 31.78125 66.40625 \nz\nM 31.78125 74.21875 \nQ 44.046875 74.21875 50.515625 64.515625 \nQ 56.984375 54.828125 56.984375 36.375 \nQ 56.984375 17.96875 50.515625 8.265625 \nQ 44.046875 -1.421875 31.78125 -1.421875 \nQ 19.53125 -1.421875 13.0625 8.265625 \nQ 6.59375 17.96875 6.59375 36.375 \nQ 6.59375 54.828125 13.0625 64.515625 \nQ 19.53125 74.21875 31.78125 74.21875 \nz\n\" id=\"DejaVuSans-48\"/>\n      </defs>\n      <g transform=\"translate(52.640057 239.238437)scale(0.1 -0.1)\">\n       <use xlink:href=\"#DejaVuSans-48\"/>\n      </g>\n     </g>\n    </g>\n    <g id=\"xtick_2\">\n     <g id=\"line2d_2\">\n      <g>\n       <use style=\"stroke:#000000;stroke-width:0.8;\" x=\"124.994861\" xlink:href=\"#m5a277f578e\" y=\"224.64\"/>\n      </g>\n     </g>\n     <g id=\"text_2\">\n      <!-- 20 -->\n      <defs>\n       <path d=\"M 19.1875 8.296875 \nL 53.609375 8.296875 \nL 53.609375 0 \nL 7.328125 0 \nL 7.328125 8.296875 \nQ 12.9375 14.109375 22.625 23.890625 \nQ 32.328125 33.6875 34.8125 36.53125 \nQ 39.546875 41.84375 41.421875 45.53125 \nQ 43.3125 49.21875 43.3125 52.78125 \nQ 43.3125 58.59375 39.234375 62.25 \nQ 35.15625 65.921875 28.609375 65.921875 \nQ 23.96875 65.921875 18.8125 64.3125 \nQ 13.671875 62.703125 7.8125 59.421875 \nL 7.8125 69.390625 \nQ 13.765625 71.78125 18.9375 73 \nQ 24.125 74.21875 28.421875 74.21875 \nQ 39.75 74.21875 46.484375 68.546875 \nQ 53.21875 62.890625 53.21875 53.421875 \nQ 53.21875 48.921875 51.53125 44.890625 \nQ 49.859375 40.875 45.40625 35.40625 \nQ 44.1875 33.984375 37.640625 27.21875 \nQ 31.109375 20.453125 19.1875 8.296875 \nz\n\" id=\"DejaVuSans-50\"/>\n      </defs>\n      <g transform=\"translate(118.632361 239.238437)scale(0.1 -0.1)\">\n       <use xlink:href=\"#DejaVuSans-50\"/>\n       <use x=\"63.623047\" xlink:href=\"#DejaVuSans-48\"/>\n      </g>\n     </g>\n    </g>\n    <g id=\"xtick_3\">\n     <g id=\"line2d_3\">\n      <g>\n       <use style=\"stroke:#000000;stroke-width:0.8;\" x=\"194.168414\" xlink:href=\"#m5a277f578e\" y=\"224.64\"/>\n      </g>\n     </g>\n     <g id=\"text_3\">\n      <!-- 40 -->\n      <defs>\n       <path d=\"M 37.796875 64.3125 \nL 12.890625 25.390625 \nL 37.796875 25.390625 \nz\nM 35.203125 72.90625 \nL 47.609375 72.90625 \nL 47.609375 25.390625 \nL 58.015625 25.390625 \nL 58.015625 17.1875 \nL 47.609375 17.1875 \nL 47.609375 0 \nL 37.796875 0 \nL 37.796875 17.1875 \nL 4.890625 17.1875 \nL 4.890625 26.703125 \nz\n\" id=\"DejaVuSans-52\"/>\n      </defs>\n      <g transform=\"translate(187.805914 239.238437)scale(0.1 -0.1)\">\n       <use xlink:href=\"#DejaVuSans-52\"/>\n       <use x=\"63.623047\" xlink:href=\"#DejaVuSans-48\"/>\n      </g>\n     </g>\n    </g>\n    <g id=\"xtick_4\">\n     <g id=\"line2d_4\">\n      <g>\n       <use style=\"stroke:#000000;stroke-width:0.8;\" x=\"263.341968\" xlink:href=\"#m5a277f578e\" y=\"224.64\"/>\n      </g>\n     </g>\n     <g id=\"text_4\">\n      <!-- 60 -->\n      <defs>\n       <path d=\"M 33.015625 40.375 \nQ 26.375 40.375 22.484375 35.828125 \nQ 18.609375 31.296875 18.609375 23.390625 \nQ 18.609375 15.53125 22.484375 10.953125 \nQ 26.375 6.390625 33.015625 6.390625 \nQ 39.65625 6.390625 43.53125 10.953125 \nQ 47.40625 15.53125 47.40625 23.390625 \nQ 47.40625 31.296875 43.53125 35.828125 \nQ 39.65625 40.375 33.015625 40.375 \nz\nM 52.59375 71.296875 \nL 52.59375 62.3125 \nQ 48.875 64.0625 45.09375 64.984375 \nQ 41.3125 65.921875 37.59375 65.921875 \nQ 27.828125 65.921875 22.671875 59.328125 \nQ 17.53125 52.734375 16.796875 39.40625 \nQ 19.671875 43.65625 24.015625 45.921875 \nQ 28.375 48.1875 33.59375 48.1875 \nQ 44.578125 48.1875 50.953125 41.515625 \nQ 57.328125 34.859375 57.328125 23.390625 \nQ 57.328125 12.15625 50.6875 5.359375 \nQ 44.046875 -1.421875 33.015625 -1.421875 \nQ 20.359375 -1.421875 13.671875 8.265625 \nQ 6.984375 17.96875 6.984375 36.375 \nQ 6.984375 53.65625 15.1875 63.9375 \nQ 23.390625 74.21875 37.203125 74.21875 \nQ 40.921875 74.21875 44.703125 73.484375 \nQ 48.484375 72.75 52.59375 71.296875 \nz\n\" id=\"DejaVuSans-54\"/>\n      </defs>\n      <g transform=\"translate(256.979468 239.238437)scale(0.1 -0.1)\">\n       <use xlink:href=\"#DejaVuSans-54\"/>\n       <use x=\"63.623047\" xlink:href=\"#DejaVuSans-48\"/>\n      </g>\n     </g>\n    </g>\n    <g id=\"xtick_5\">\n     <g id=\"line2d_5\">\n      <g>\n       <use style=\"stroke:#000000;stroke-width:0.8;\" x=\"332.515522\" xlink:href=\"#m5a277f578e\" y=\"224.64\"/>\n      </g>\n     </g>\n     <g id=\"text_5\">\n      <!-- 80 -->\n      <defs>\n       <path d=\"M 31.78125 34.625 \nQ 24.75 34.625 20.71875 30.859375 \nQ 16.703125 27.09375 16.703125 20.515625 \nQ 16.703125 13.921875 20.71875 10.15625 \nQ 24.75 6.390625 31.78125 6.390625 \nQ 38.8125 6.390625 42.859375 10.171875 \nQ 46.921875 13.96875 46.921875 20.515625 \nQ 46.921875 27.09375 42.890625 30.859375 \nQ 38.875 34.625 31.78125 34.625 \nz\nM 21.921875 38.8125 \nQ 15.578125 40.375 12.03125 44.71875 \nQ 8.5 49.078125 8.5 55.328125 \nQ 8.5 64.0625 14.71875 69.140625 \nQ 20.953125 74.21875 31.78125 74.21875 \nQ 42.671875 74.21875 48.875 69.140625 \nQ 55.078125 64.0625 55.078125 55.328125 \nQ 55.078125 49.078125 51.53125 44.71875 \nQ 48 40.375 41.703125 38.8125 \nQ 48.828125 37.15625 52.796875 32.3125 \nQ 56.78125 27.484375 56.78125 20.515625 \nQ 56.78125 9.90625 50.3125 4.234375 \nQ 43.84375 -1.421875 31.78125 -1.421875 \nQ 19.734375 -1.421875 13.25 4.234375 \nQ 6.78125 9.90625 6.78125 20.515625 \nQ 6.78125 27.484375 10.78125 32.3125 \nQ 14.796875 37.15625 21.921875 38.8125 \nz\nM 18.3125 54.390625 \nQ 18.3125 48.734375 21.84375 45.5625 \nQ 25.390625 42.390625 31.78125 42.390625 \nQ 38.140625 42.390625 41.71875 45.5625 \nQ 45.3125 48.734375 45.3125 54.390625 \nQ 45.3125 60.0625 41.71875 63.234375 \nQ 38.140625 66.40625 31.78125 66.40625 \nQ 25.390625 66.40625 21.84375 63.234375 \nQ 18.3125 60.0625 18.3125 54.390625 \nz\n\" id=\"DejaVuSans-56\"/>\n      </defs>\n      <g transform=\"translate(326.153022 239.238437)scale(0.1 -0.1)\">\n       <use xlink:href=\"#DejaVuSans-56\"/>\n       <use x=\"63.623047\" xlink:href=\"#DejaVuSans-48\"/>\n      </g>\n     </g>\n    </g>\n    <g id=\"text_6\">\n     <!-- Epochs -->\n     <defs>\n      <path d=\"M 9.8125 72.90625 \nL 55.90625 72.90625 \nL 55.90625 64.59375 \nL 19.671875 64.59375 \nL 19.671875 43.015625 \nL 54.390625 43.015625 \nL 54.390625 34.71875 \nL 19.671875 34.71875 \nL 19.671875 8.296875 \nL 56.78125 8.296875 \nL 56.78125 0 \nL 9.8125 0 \nz\n\" id=\"DejaVuSans-69\"/>\n      <path d=\"M 18.109375 8.203125 \nL 18.109375 -20.796875 \nL 9.078125 -20.796875 \nL 9.078125 54.6875 \nL 18.109375 54.6875 \nL 18.109375 46.390625 \nQ 20.953125 51.265625 25.265625 53.625 \nQ 29.59375 56 35.59375 56 \nQ 45.5625 56 51.78125 48.09375 \nQ 58.015625 40.1875 58.015625 27.296875 \nQ 58.015625 14.40625 51.78125 6.484375 \nQ 45.5625 -1.421875 35.59375 -1.421875 \nQ 29.59375 -1.421875 25.265625 0.953125 \nQ 20.953125 3.328125 18.109375 8.203125 \nz\nM 48.6875 27.296875 \nQ 48.6875 37.203125 44.609375 42.84375 \nQ 40.53125 48.484375 33.40625 48.484375 \nQ 26.265625 48.484375 22.1875 42.84375 \nQ 18.109375 37.203125 18.109375 27.296875 \nQ 18.109375 17.390625 22.1875 11.75 \nQ 26.265625 6.109375 33.40625 6.109375 \nQ 40.53125 6.109375 44.609375 11.75 \nQ 48.6875 17.390625 48.6875 27.296875 \nz\n\" id=\"DejaVuSans-112\"/>\n      <path d=\"M 30.609375 48.390625 \nQ 23.390625 48.390625 19.1875 42.75 \nQ 14.984375 37.109375 14.984375 27.296875 \nQ 14.984375 17.484375 19.15625 11.84375 \nQ 23.34375 6.203125 30.609375 6.203125 \nQ 37.796875 6.203125 41.984375 11.859375 \nQ 46.1875 17.53125 46.1875 27.296875 \nQ 46.1875 37.015625 41.984375 42.703125 \nQ 37.796875 48.390625 30.609375 48.390625 \nz\nM 30.609375 56 \nQ 42.328125 56 49.015625 48.375 \nQ 55.71875 40.765625 55.71875 27.296875 \nQ 55.71875 13.875 49.015625 6.21875 \nQ 42.328125 -1.421875 30.609375 -1.421875 \nQ 18.84375 -1.421875 12.171875 6.21875 \nQ 5.515625 13.875 5.515625 27.296875 \nQ 5.515625 40.765625 12.171875 48.375 \nQ 18.84375 56 30.609375 56 \nz\n\" id=\"DejaVuSans-111\"/>\n      <path d=\"M 48.78125 52.59375 \nL 48.78125 44.1875 \nQ 44.96875 46.296875 41.140625 47.34375 \nQ 37.3125 48.390625 33.40625 48.390625 \nQ 24.65625 48.390625 19.8125 42.84375 \nQ 14.984375 37.3125 14.984375 27.296875 \nQ 14.984375 17.28125 19.8125 11.734375 \nQ 24.65625 6.203125 33.40625 6.203125 \nQ 37.3125 6.203125 41.140625 7.25 \nQ 44.96875 8.296875 48.78125 10.40625 \nL 48.78125 2.09375 \nQ 45.015625 0.34375 40.984375 -0.53125 \nQ 36.96875 -1.421875 32.421875 -1.421875 \nQ 20.0625 -1.421875 12.78125 6.34375 \nQ 5.515625 14.109375 5.515625 27.296875 \nQ 5.515625 40.671875 12.859375 48.328125 \nQ 20.21875 56 33.015625 56 \nQ 37.15625 56 41.109375 55.140625 \nQ 45.0625 54.296875 48.78125 52.59375 \nz\n\" id=\"DejaVuSans-99\"/>\n      <path d=\"M 54.890625 33.015625 \nL 54.890625 0 \nL 45.90625 0 \nL 45.90625 32.71875 \nQ 45.90625 40.484375 42.875 44.328125 \nQ 39.84375 48.1875 33.796875 48.1875 \nQ 26.515625 48.1875 22.3125 43.546875 \nQ 18.109375 38.921875 18.109375 30.90625 \nL 18.109375 0 \nL 9.078125 0 \nL 9.078125 75.984375 \nL 18.109375 75.984375 \nL 18.109375 46.1875 \nQ 21.34375 51.125 25.703125 53.5625 \nQ 30.078125 56 35.796875 56 \nQ 45.21875 56 50.046875 50.171875 \nQ 54.890625 44.34375 54.890625 33.015625 \nz\n\" id=\"DejaVuSans-104\"/>\n      <path d=\"M 44.28125 53.078125 \nL 44.28125 44.578125 \nQ 40.484375 46.53125 36.375 47.5 \nQ 32.28125 48.484375 27.875 48.484375 \nQ 21.1875 48.484375 17.84375 46.4375 \nQ 14.5 44.390625 14.5 40.28125 \nQ 14.5 37.15625 16.890625 35.375 \nQ 19.28125 33.59375 26.515625 31.984375 \nL 29.59375 31.296875 \nQ 39.15625 29.25 43.1875 25.515625 \nQ 47.21875 21.78125 47.21875 15.09375 \nQ 47.21875 7.46875 41.1875 3.015625 \nQ 35.15625 -1.421875 24.609375 -1.421875 \nQ 20.21875 -1.421875 15.453125 -0.5625 \nQ 10.6875 0.296875 5.421875 2 \nL 5.421875 11.28125 \nQ 10.40625 8.6875 15.234375 7.390625 \nQ 20.0625 6.109375 24.8125 6.109375 \nQ 31.15625 6.109375 34.5625 8.28125 \nQ 37.984375 10.453125 37.984375 14.40625 \nQ 37.984375 18.0625 35.515625 20.015625 \nQ 33.0625 21.96875 24.703125 23.78125 \nL 21.578125 24.515625 \nQ 13.234375 26.265625 9.515625 29.90625 \nQ 5.8125 33.546875 5.8125 39.890625 \nQ 5.8125 47.609375 11.28125 51.796875 \nQ 16.75 56 26.8125 56 \nQ 31.78125 56 36.171875 55.265625 \nQ 40.578125 54.546875 44.28125 53.078125 \nz\n\" id=\"DejaVuSans-115\"/>\n     </defs>\n     <g transform=\"translate(190.0875 252.916562)scale(0.1 -0.1)\">\n      <use xlink:href=\"#DejaVuSans-69\"/>\n      <use x=\"63.183594\" xlink:href=\"#DejaVuSans-112\"/>\n      <use x=\"126.660156\" xlink:href=\"#DejaVuSans-111\"/>\n      <use x=\"187.841797\" xlink:href=\"#DejaVuSans-99\"/>\n      <use x=\"242.822266\" xlink:href=\"#DejaVuSans-104\"/>\n      <use x=\"306.201172\" xlink:href=\"#DejaVuSans-115\"/>\n     </g>\n    </g>\n   </g>\n   <g id=\"matplotlib.axis_2\">\n    <g id=\"ytick_1\">\n     <g id=\"line2d_6\">\n      <defs>\n       <path d=\"M 0 0 \nL -3.5 0 \n\" id=\"m6a45d985aa\" style=\"stroke:#000000;stroke-width:0.8;\"/>\n      </defs>\n      <g>\n       <use style=\"stroke:#000000;stroke-width:0.8;\" x=\"40.603125\" xlink:href=\"#m6a45d985aa\" y=\"196.307424\"/>\n      </g>\n     </g>\n     <g id=\"text_7\">\n      <!-- 70 -->\n      <defs>\n       <path d=\"M 8.203125 72.90625 \nL 55.078125 72.90625 \nL 55.078125 68.703125 \nL 28.609375 0 \nL 18.3125 0 \nL 43.21875 64.59375 \nL 8.203125 64.59375 \nz\n\" id=\"DejaVuSans-55\"/>\n      </defs>\n      <g transform=\"translate(20.878125 200.106643)scale(0.1 -0.1)\">\n       <use xlink:href=\"#DejaVuSans-55\"/>\n       <use x=\"63.623047\" xlink:href=\"#DejaVuSans-48\"/>\n      </g>\n     </g>\n    </g>\n    <g id=\"ytick_2\">\n     <g id=\"line2d_7\">\n      <g>\n       <use style=\"stroke:#000000;stroke-width:0.8;\" x=\"40.603125\" xlink:href=\"#m6a45d985aa\" y=\"157.912801\"/>\n      </g>\n     </g>\n     <g id=\"text_8\">\n      <!-- 75 -->\n      <defs>\n       <path d=\"M 10.796875 72.90625 \nL 49.515625 72.90625 \nL 49.515625 64.59375 \nL 19.828125 64.59375 \nL 19.828125 46.734375 \nQ 21.96875 47.46875 24.109375 47.828125 \nQ 26.265625 48.1875 28.421875 48.1875 \nQ 40.625 48.1875 47.75 41.5 \nQ 54.890625 34.8125 54.890625 23.390625 \nQ 54.890625 11.625 47.5625 5.09375 \nQ 40.234375 -1.421875 26.90625 -1.421875 \nQ 22.3125 -1.421875 17.546875 -0.640625 \nQ 12.796875 0.140625 7.71875 1.703125 \nL 7.71875 11.625 \nQ 12.109375 9.234375 16.796875 8.0625 \nQ 21.484375 6.890625 26.703125 6.890625 \nQ 35.15625 6.890625 40.078125 11.328125 \nQ 45.015625 15.765625 45.015625 23.390625 \nQ 45.015625 31 40.078125 35.4375 \nQ 35.15625 39.890625 26.703125 39.890625 \nQ 22.75 39.890625 18.8125 39.015625 \nQ 14.890625 38.140625 10.796875 36.28125 \nz\n\" id=\"DejaVuSans-53\"/>\n      </defs>\n      <g transform=\"translate(20.878125 161.71202)scale(0.1 -0.1)\">\n       <use xlink:href=\"#DejaVuSans-55\"/>\n       <use x=\"63.623047\" xlink:href=\"#DejaVuSans-53\"/>\n      </g>\n     </g>\n    </g>\n    <g id=\"ytick_3\">\n     <g id=\"line2d_8\">\n      <g>\n       <use style=\"stroke:#000000;stroke-width:0.8;\" x=\"40.603125\" xlink:href=\"#m6a45d985aa\" y=\"119.518178\"/>\n      </g>\n     </g>\n     <g id=\"text_9\">\n      <!-- 80 -->\n      <g transform=\"translate(20.878125 123.317396)scale(0.1 -0.1)\">\n       <use xlink:href=\"#DejaVuSans-56\"/>\n       <use x=\"63.623047\" xlink:href=\"#DejaVuSans-48\"/>\n      </g>\n     </g>\n    </g>\n    <g id=\"ytick_4\">\n     <g id=\"line2d_9\">\n      <g>\n       <use style=\"stroke:#000000;stroke-width:0.8;\" x=\"40.603125\" xlink:href=\"#m6a45d985aa\" y=\"81.123555\"/>\n      </g>\n     </g>\n     <g id=\"text_10\">\n      <!-- 85 -->\n      <g transform=\"translate(20.878125 84.922773)scale(0.1 -0.1)\">\n       <use xlink:href=\"#DejaVuSans-56\"/>\n       <use x=\"63.623047\" xlink:href=\"#DejaVuSans-53\"/>\n      </g>\n     </g>\n    </g>\n    <g id=\"ytick_5\">\n     <g id=\"line2d_10\">\n      <g>\n       <use style=\"stroke:#000000;stroke-width:0.8;\" x=\"40.603125\" xlink:href=\"#m6a45d985aa\" y=\"42.728932\"/>\n      </g>\n     </g>\n     <g id=\"text_11\">\n      <!-- 90 -->\n      <defs>\n       <path d=\"M 10.984375 1.515625 \nL 10.984375 10.5 \nQ 14.703125 8.734375 18.5 7.8125 \nQ 22.3125 6.890625 25.984375 6.890625 \nQ 35.75 6.890625 40.890625 13.453125 \nQ 46.046875 20.015625 46.78125 33.40625 \nQ 43.953125 29.203125 39.59375 26.953125 \nQ 35.25 24.703125 29.984375 24.703125 \nQ 19.046875 24.703125 12.671875 31.3125 \nQ 6.296875 37.9375 6.296875 49.421875 \nQ 6.296875 60.640625 12.9375 67.421875 \nQ 19.578125 74.21875 30.609375 74.21875 \nQ 43.265625 74.21875 49.921875 64.515625 \nQ 56.59375 54.828125 56.59375 36.375 \nQ 56.59375 19.140625 48.40625 8.859375 \nQ 40.234375 -1.421875 26.421875 -1.421875 \nQ 22.703125 -1.421875 18.890625 -0.6875 \nQ 15.09375 0.046875 10.984375 1.515625 \nz\nM 30.609375 32.421875 \nQ 37.25 32.421875 41.125 36.953125 \nQ 45.015625 41.5 45.015625 49.421875 \nQ 45.015625 57.28125 41.125 61.84375 \nQ 37.25 66.40625 30.609375 66.40625 \nQ 23.96875 66.40625 20.09375 61.84375 \nQ 16.21875 57.28125 16.21875 49.421875 \nQ 16.21875 41.5 20.09375 36.953125 \nQ 23.96875 32.421875 30.609375 32.421875 \nz\n\" id=\"DejaVuSans-57\"/>\n      </defs>\n      <g transform=\"translate(20.878125 46.52815)scale(0.1 -0.1)\">\n       <use xlink:href=\"#DejaVuSans-57\"/>\n       <use x=\"63.623047\" xlink:href=\"#DejaVuSans-48\"/>\n      </g>\n     </g>\n    </g>\n    <g id=\"text_12\">\n     <!-- Accuracy -->\n     <defs>\n      <path d=\"M 34.1875 63.1875 \nL 20.796875 26.90625 \nL 47.609375 26.90625 \nz\nM 28.609375 72.90625 \nL 39.796875 72.90625 \nL 67.578125 0 \nL 57.328125 0 \nL 50.6875 18.703125 \nL 17.828125 18.703125 \nL 11.1875 0 \nL 0.78125 0 \nz\n\" id=\"DejaVuSans-65\"/>\n      <path d=\"M 8.5 21.578125 \nL 8.5 54.6875 \nL 17.484375 54.6875 \nL 17.484375 21.921875 \nQ 17.484375 14.15625 20.5 10.265625 \nQ 23.53125 6.390625 29.59375 6.390625 \nQ 36.859375 6.390625 41.078125 11.03125 \nQ 45.3125 15.671875 45.3125 23.6875 \nL 45.3125 54.6875 \nL 54.296875 54.6875 \nL 54.296875 0 \nL 45.3125 0 \nL 45.3125 8.40625 \nQ 42.046875 3.421875 37.71875 1 \nQ 33.40625 -1.421875 27.6875 -1.421875 \nQ 18.265625 -1.421875 13.375 4.4375 \nQ 8.5 10.296875 8.5 21.578125 \nz\nM 31.109375 56 \nz\n\" id=\"DejaVuSans-117\"/>\n      <path d=\"M 41.109375 46.296875 \nQ 39.59375 47.171875 37.8125 47.578125 \nQ 36.03125 48 33.890625 48 \nQ 26.265625 48 22.1875 43.046875 \nQ 18.109375 38.09375 18.109375 28.8125 \nL 18.109375 0 \nL 9.078125 0 \nL 9.078125 54.6875 \nL 18.109375 54.6875 \nL 18.109375 46.1875 \nQ 20.953125 51.171875 25.484375 53.578125 \nQ 30.03125 56 36.53125 56 \nQ 37.453125 56 38.578125 55.875 \nQ 39.703125 55.765625 41.0625 55.515625 \nz\n\" id=\"DejaVuSans-114\"/>\n      <path d=\"M 34.28125 27.484375 \nQ 23.390625 27.484375 19.1875 25 \nQ 14.984375 22.515625 14.984375 16.5 \nQ 14.984375 11.71875 18.140625 8.90625 \nQ 21.296875 6.109375 26.703125 6.109375 \nQ 34.1875 6.109375 38.703125 11.40625 \nQ 43.21875 16.703125 43.21875 25.484375 \nL 43.21875 27.484375 \nz\nM 52.203125 31.203125 \nL 52.203125 0 \nL 43.21875 0 \nL 43.21875 8.296875 \nQ 40.140625 3.328125 35.546875 0.953125 \nQ 30.953125 -1.421875 24.3125 -1.421875 \nQ 15.921875 -1.421875 10.953125 3.296875 \nQ 6 8.015625 6 15.921875 \nQ 6 25.140625 12.171875 29.828125 \nQ 18.359375 34.515625 30.609375 34.515625 \nL 43.21875 34.515625 \nL 43.21875 35.40625 \nQ 43.21875 41.609375 39.140625 45 \nQ 35.0625 48.390625 27.6875 48.390625 \nQ 23 48.390625 18.546875 47.265625 \nQ 14.109375 46.140625 10.015625 43.890625 \nL 10.015625 52.203125 \nQ 14.9375 54.109375 19.578125 55.046875 \nQ 24.21875 56 28.609375 56 \nQ 40.484375 56 46.34375 49.84375 \nQ 52.203125 43.703125 52.203125 31.203125 \nz\n\" id=\"DejaVuSans-97\"/>\n      <path d=\"M 32.171875 -5.078125 \nQ 28.375 -14.84375 24.75 -17.8125 \nQ 21.140625 -20.796875 15.09375 -20.796875 \nL 7.90625 -20.796875 \nL 7.90625 -13.28125 \nL 13.1875 -13.28125 \nQ 16.890625 -13.28125 18.9375 -11.515625 \nQ 21 -9.765625 23.484375 -3.21875 \nL 25.09375 0.875 \nL 2.984375 54.6875 \nL 12.5 54.6875 \nL 29.59375 11.921875 \nL 46.6875 54.6875 \nL 56.203125 54.6875 \nz\n\" id=\"DejaVuSans-121\"/>\n     </defs>\n     <g transform=\"translate(14.798438 138.834844)rotate(-90)scale(0.1 -0.1)\">\n      <use xlink:href=\"#DejaVuSans-65\"/>\n      <use x=\"68.392578\" xlink:href=\"#DejaVuSans-99\"/>\n      <use x=\"123.373047\" xlink:href=\"#DejaVuSans-99\"/>\n      <use x=\"178.353516\" xlink:href=\"#DejaVuSans-117\"/>\n      <use x=\"241.732422\" xlink:href=\"#DejaVuSans-114\"/>\n      <use x=\"282.845703\" xlink:href=\"#DejaVuSans-97\"/>\n      <use x=\"344.125\" xlink:href=\"#DejaVuSans-99\"/>\n      <use x=\"399.105469\" xlink:href=\"#DejaVuSans-121\"/>\n     </g>\n    </g>\n   </g>\n   <g id=\"line2d_11\">\n    <path clip-path=\"url(#p166676d49a)\" d=\"M 55.821307 214.756364 \nL 59.279985 179.186325 \nL 62.738662 159.741607 \nL 66.19734 146.646742 \nL 69.656018 137.308792 \nL 73.114695 129.423412 \nL 76.573373 123.072094 \nL 80.032051 117.404528 \nL 83.490728 112.859579 \nL 86.949406 108.625953 \nL 90.408084 104.845486 \nL 93.866761 101.503005 \nL 97.325439 98.487724 \nL 100.784117 95.735786 \nL 104.242794 92.93276 \nL 107.701472 90.512884 \nL 111.16015 88.080178 \nL 114.618827 85.809812 \nL 118.077505 83.730611 \nL 121.536183 81.759442 \nL 124.994861 79.947919 \nL 128.453538 78.187716 \nL 131.912216 76.510939 \nL 135.370894 74.899836 \nL 138.829571 73.433382 \nL 142.288249 71.937107 \nL 145.746927 70.515529 \nL 149.205604 69.145681 \nL 152.664282 67.879648 \nL 156.12296 66.604475 \nL 159.581637 65.402124 \nL 163.040315 63.712692 \nL 166.498993 61.993324 \nL 169.95767 60.30729 \nL 173.416348 58.631802 \nL 176.875026 57.031538 \nL 180.333704 55.517102 \nL 183.792381 54.035942 \nL 187.251059 52.613602 \nL 190.709737 51.23649 \nL 194.168414 49.925287 \nL 197.627092 48.660718 \nL 201.08577 47.445947 \nL 204.544447 46.285543 \nL 208.003125 45.159997 \nL 211.461803 44.073236 \nL 214.92048 42.998601 \nL 218.379158 41.985657 \nL 221.837836 41.002123 \nL 225.296513 40.057841 \nL 228.755191 39.150878 \nL 232.213869 38.261315 \nL 235.672546 37.408251 \nL 239.131224 36.576395 \nL 242.589902 35.778694 \nL 246.04858 34.995054 \nL 249.507257 34.240706 \nL 252.965935 33.505106 \nL 256.424613 32.791827 \nL 259.88329 32.104736 \nL 263.341968 31.431764 \nL 266.800646 30.745317 \nL 270.259323 30.081894 \nL 273.718001 29.418706 \nL 277.176679 28.775436 \nL 280.635356 28.149391 \nL 284.094034 27.549417 \nL 287.552712 26.958874 \nL 291.011389 26.391708 \nL 294.470067 25.838074 \nL 297.928745 25.293112 \nL 301.387423 24.768244 \nL 304.8461 24.25521 \nL 308.304778 23.755358 \nL 311.763456 23.27027 \nL 315.222133 22.791919 \nL 318.680811 22.326867 \nL 322.139489 21.864041 \nL 325.598166 21.41551 \nL 329.056844 20.978169 \nL 332.515522 20.553893 \nL 335.974199 20.150062 \nL 339.432877 19.746115 \nL 342.891555 19.351014 \nL 346.350232 18.963588 \nL 349.80891 18.587059 \nL 353.267588 18.214396 \nL 356.726265 17.853275 \nL 360.184943 17.504105 \n\" style=\"fill:none;stroke:#ff0000;stroke-linecap:square;stroke-width:1.5;\"/>\n   </g>\n   <g id=\"line2d_12\">\n    <path clip-path=\"url(#p166676d49a)\" d=\"M 55.821307 182.456746 \nL 59.279985 162.322593 \nL 62.738662 148.309458 \nL 66.19734 138.300469 \nL 69.656018 130.484982 \nL 73.114695 123.784084 \nL 76.573373 117.945859 \nL 80.032051 113.229312 \nL 83.490728 109.024276 \nL 86.949406 105.030793 \nL 90.408084 101.732719 \nL 93.866761 98.664301 \nL 97.325439 95.876684 \nL 100.784117 93.112032 \nL 104.242794 90.570415 \nL 107.701472 88.2168 \nL 111.16015 85.898101 \nL 114.618827 83.787615 \nL 118.077505 81.810587 \nL 121.536183 79.966197 \nL 124.994861 78.206287 \nL 128.453538 76.521543 \nL 131.912216 74.910499 \nL 135.370894 73.374093 \nL 138.829571 71.947184 \nL 142.288249 70.501175 \nL 145.746927 69.113987 \nL 149.205604 67.829264 \nL 152.664282 66.552158 \nL 156.12296 65.354552 \nL 159.581637 63.728042 \nL 163.040315 62.003049 \nL 166.498993 60.314555 \nL 169.95767 58.638891 \nL 173.416348 57.03312 \nL 176.875026 55.495132 \nL 180.333704 54.018776 \nL 183.792381 52.593449 \nL 187.251059 51.209131 \nL 190.709737 49.89412 \nL 194.168414 48.619767 \nL 197.627092 47.401539 \nL 201.08577 46.235159 \nL 204.544447 45.109614 \nL 208.003125 44.023438 \nL 211.461803 42.947573 \nL 214.92048 41.936269 \nL 218.379158 40.946115 \nL 221.837836 39.9999 \nL 225.296513 39.090535 \nL 228.755191 38.200855 \nL 232.213869 37.34615 \nL 235.672546 36.511189 \nL 239.131224 35.710383 \nL 242.589902 34.924282 \nL 246.04858 34.1656 \nL 249.507257 33.439139 \nL 252.965935 32.720821 \nL 256.424613 32.032558 \nL 259.88329 31.363512 \nL 263.341968 30.679057 \nL 266.800646 30.017802 \nL 270.259323 29.352035 \nL 273.718001 28.70818 \nL 277.176679 28.081374 \nL 280.635356 27.482219 \nL 284.094034 26.889392 \nL 287.552712 26.320409 \nL 291.011389 25.765897 \nL 294.470067 25.22152 \nL 297.928745 24.695949 \nL 301.387423 24.180572 \nL 304.8461 23.684411 \nL 308.304778 23.198034 \nL 311.763456 22.720445 \nL 315.222133 22.252815 \nL 318.680811 21.7945 \nL 322.139489 21.343509 \nL 325.598166 20.906519 \nL 329.056844 20.483766 \nL 332.515522 20.072671 \nL 335.974199 19.673352 \nL 339.432877 19.276611 \nL 342.891555 18.889301 \nL 346.350232 18.514588 \nL 349.80891 18.141808 \nL 353.267588 17.780336 \nL 356.726265 17.431869 \nL 360.184943 17.083636 \n\" style=\"fill:none;stroke:#0000ff;stroke-linecap:square;stroke-width:1.5;\"/>\n   </g>\n   <g id=\"patch_3\">\n    <path d=\"M 40.603125 224.64 \nL 40.603125 7.2 \n\" style=\"fill:none;stroke:#000000;stroke-linecap:square;stroke-linejoin:miter;stroke-width:0.8;\"/>\n   </g>\n   <g id=\"patch_4\">\n    <path d=\"M 375.403125 224.64 \nL 375.403125 7.2 \n\" style=\"fill:none;stroke:#000000;stroke-linecap:square;stroke-linejoin:miter;stroke-width:0.8;\"/>\n   </g>\n   <g id=\"patch_5\">\n    <path d=\"M 40.603125 224.64 \nL 375.403125 224.64 \n\" style=\"fill:none;stroke:#000000;stroke-linecap:square;stroke-linejoin:miter;stroke-width:0.8;\"/>\n   </g>\n   <g id=\"patch_6\">\n    <path d=\"M 40.603125 7.2 \nL 375.403125 7.2 \n\" style=\"fill:none;stroke:#000000;stroke-linecap:square;stroke-linejoin:miter;stroke-width:0.8;\"/>\n   </g>\n   <g id=\"legend_1\">\n    <g id=\"patch_7\">\n     <path d=\"M 47.603125 44.55625 \nL 105.04375 44.55625 \nQ 107.04375 44.55625 107.04375 42.55625 \nL 107.04375 14.2 \nQ 107.04375 12.2 105.04375 12.2 \nL 47.603125 12.2 \nQ 45.603125 12.2 45.603125 14.2 \nL 45.603125 42.55625 \nQ 45.603125 44.55625 47.603125 44.55625 \nz\n\" style=\"fill:#ffffff;opacity:0.8;stroke:#cccccc;stroke-linejoin:miter;\"/>\n    </g>\n    <g id=\"line2d_13\">\n     <path d=\"M 49.603125 20.298437 \nL 69.603125 20.298437 \n\" style=\"fill:none;stroke:#ff0000;stroke-linecap:square;stroke-width:1.5;\"/>\n    </g>\n    <g id=\"line2d_14\"/>\n    <g id=\"text_13\">\n     <!-- Train -->\n     <defs>\n      <path d=\"M -0.296875 72.90625 \nL 61.375 72.90625 \nL 61.375 64.59375 \nL 35.5 64.59375 \nL 35.5 0 \nL 25.59375 0 \nL 25.59375 64.59375 \nL -0.296875 64.59375 \nz\n\" id=\"DejaVuSans-84\"/>\n      <path d=\"M 9.421875 54.6875 \nL 18.40625 54.6875 \nL 18.40625 0 \nL 9.421875 0 \nz\nM 9.421875 75.984375 \nL 18.40625 75.984375 \nL 18.40625 64.59375 \nL 9.421875 64.59375 \nz\n\" id=\"DejaVuSans-105\"/>\n      <path d=\"M 54.890625 33.015625 \nL 54.890625 0 \nL 45.90625 0 \nL 45.90625 32.71875 \nQ 45.90625 40.484375 42.875 44.328125 \nQ 39.84375 48.1875 33.796875 48.1875 \nQ 26.515625 48.1875 22.3125 43.546875 \nQ 18.109375 38.921875 18.109375 30.90625 \nL 18.109375 0 \nL 9.078125 0 \nL 9.078125 54.6875 \nL 18.109375 54.6875 \nL 18.109375 46.1875 \nQ 21.34375 51.125 25.703125 53.5625 \nQ 30.078125 56 35.796875 56 \nQ 45.21875 56 50.046875 50.171875 \nQ 54.890625 44.34375 54.890625 33.015625 \nz\n\" id=\"DejaVuSans-110\"/>\n     </defs>\n     <g transform=\"translate(77.603125 23.798437)scale(0.1 -0.1)\">\n      <use xlink:href=\"#DejaVuSans-84\"/>\n      <use x=\"60.865234\" xlink:href=\"#DejaVuSans-114\"/>\n      <use x=\"101.978516\" xlink:href=\"#DejaVuSans-97\"/>\n      <use x=\"163.257812\" xlink:href=\"#DejaVuSans-105\"/>\n      <use x=\"191.041016\" xlink:href=\"#DejaVuSans-110\"/>\n     </g>\n    </g>\n    <g id=\"line2d_15\">\n     <path d=\"M 49.603125 34.976562 \nL 69.603125 34.976562 \n\" style=\"fill:none;stroke:#0000ff;stroke-linecap:square;stroke-width:1.5;\"/>\n    </g>\n    <g id=\"line2d_16\"/>\n    <g id=\"text_14\">\n     <!-- Val -->\n     <defs>\n      <path d=\"M 28.609375 0 \nL 0.78125 72.90625 \nL 11.078125 72.90625 \nL 34.1875 11.53125 \nL 57.328125 72.90625 \nL 67.578125 72.90625 \nL 39.796875 0 \nz\n\" id=\"DejaVuSans-86\"/>\n      <path d=\"M 9.421875 75.984375 \nL 18.40625 75.984375 \nL 18.40625 0 \nL 9.421875 0 \nz\n\" id=\"DejaVuSans-108\"/>\n     </defs>\n     <g transform=\"translate(77.603125 38.476562)scale(0.1 -0.1)\">\n      <use xlink:href=\"#DejaVuSans-86\"/>\n      <use x=\"68.298828\" xlink:href=\"#DejaVuSans-97\"/>\n      <use x=\"129.578125\" xlink:href=\"#DejaVuSans-108\"/>\n     </g>\n    </g>\n   </g>\n  </g>\n </g>\n <defs>\n  <clipPath id=\"p166676d49a\">\n   <rect height=\"217.44\" width=\"334.8\" x=\"40.603125\" y=\"7.2\"/>\n  </clipPath>\n </defs>\n</svg>\n"
          },
          "metadata": {
            "tags": []
          }
        }
      ]
    },
    {
      "cell_type": "code",
      "metadata": {
        "id": "MffrvIMVb1sB",
        "colab_type": "code",
        "outputId": "44f616f2-7a90-4efb-cc8c-09b5b73846d4",
        "colab": {
          "base_uri": "https://localhost:8080/",
          "height": 371
        }
      },
      "source": [
        "plt.xlabel(\"Epochs\")\n",
        "plt.ylabel(\"Losses\")\n",
        "plt.plot(ep_sgd_losses, 'r', label='Train')\n",
        "plt.plot(ep_sgd_lossesv, 'b', label='Val')\n",
        "plt.legend()\n",
        "plt.savefig('sgd_resnet18_9333_loss.jpg')"
      ],
      "execution_count": 0,
      "outputs": [
        {
          "output_type": "display_data",
          "data": {
            "text/plain": [
              "<Figure size 432x288 with 1 Axes>"
            ],
            "image/svg+xml": "<?xml version=\"1.0\" encoding=\"utf-8\" standalone=\"no\"?>\n<!DOCTYPE svg PUBLIC \"-//W3C//DTD SVG 1.1//EN\"\n  \"http://www.w3.org/Graphics/SVG/1.1/DTD/svg11.dtd\">\n<!-- Created with matplotlib (https://matplotlib.org/) -->\n<svg height=\"262.19625pt\" version=\"1.1\" viewBox=\"0 0 385.78125 262.19625\" width=\"385.78125pt\" xmlns=\"http://www.w3.org/2000/svg\" xmlns:xlink=\"http://www.w3.org/1999/xlink\">\n <defs>\n  <style type=\"text/css\">\n*{stroke-linecap:butt;stroke-linejoin:round;}\n  </style>\n </defs>\n <g id=\"figure_1\">\n  <g id=\"patch_1\">\n   <path d=\"M 0 262.19625 \nL 385.78125 262.19625 \nL 385.78125 0 \nL 0 0 \nz\n\" style=\"fill:none;\"/>\n  </g>\n  <g id=\"axes_1\">\n   <g id=\"patch_2\">\n    <path d=\"M 43.78125 224.64 \nL 378.58125 224.64 \nL 378.58125 7.2 \nL 43.78125 7.2 \nz\n\" style=\"fill:#ffffff;\"/>\n   </g>\n   <g id=\"matplotlib.axis_1\">\n    <g id=\"xtick_1\">\n     <g id=\"line2d_1\">\n      <defs>\n       <path d=\"M 0 0 \nL 0 3.5 \n\" id=\"mfe48cc528a\" style=\"stroke:#000000;stroke-width:0.8;\"/>\n      </defs>\n      <g>\n       <use style=\"stroke:#000000;stroke-width:0.8;\" x=\"58.999432\" xlink:href=\"#mfe48cc528a\" y=\"224.64\"/>\n      </g>\n     </g>\n     <g id=\"text_1\">\n      <!-- 0 -->\n      <defs>\n       <path d=\"M 31.78125 66.40625 \nQ 24.171875 66.40625 20.328125 58.90625 \nQ 16.5 51.421875 16.5 36.375 \nQ 16.5 21.390625 20.328125 13.890625 \nQ 24.171875 6.390625 31.78125 6.390625 \nQ 39.453125 6.390625 43.28125 13.890625 \nQ 47.125 21.390625 47.125 36.375 \nQ 47.125 51.421875 43.28125 58.90625 \nQ 39.453125 66.40625 31.78125 66.40625 \nz\nM 31.78125 74.21875 \nQ 44.046875 74.21875 50.515625 64.515625 \nQ 56.984375 54.828125 56.984375 36.375 \nQ 56.984375 17.96875 50.515625 8.265625 \nQ 44.046875 -1.421875 31.78125 -1.421875 \nQ 19.53125 -1.421875 13.0625 8.265625 \nQ 6.59375 17.96875 6.59375 36.375 \nQ 6.59375 54.828125 13.0625 64.515625 \nQ 19.53125 74.21875 31.78125 74.21875 \nz\n\" id=\"DejaVuSans-48\"/>\n      </defs>\n      <g transform=\"translate(55.818182 239.238437)scale(0.1 -0.1)\">\n       <use xlink:href=\"#DejaVuSans-48\"/>\n      </g>\n     </g>\n    </g>\n    <g id=\"xtick_2\">\n     <g id=\"line2d_2\">\n      <g>\n       <use style=\"stroke:#000000;stroke-width:0.8;\" x=\"128.172986\" xlink:href=\"#mfe48cc528a\" y=\"224.64\"/>\n      </g>\n     </g>\n     <g id=\"text_2\">\n      <!-- 20 -->\n      <defs>\n       <path d=\"M 19.1875 8.296875 \nL 53.609375 8.296875 \nL 53.609375 0 \nL 7.328125 0 \nL 7.328125 8.296875 \nQ 12.9375 14.109375 22.625 23.890625 \nQ 32.328125 33.6875 34.8125 36.53125 \nQ 39.546875 41.84375 41.421875 45.53125 \nQ 43.3125 49.21875 43.3125 52.78125 \nQ 43.3125 58.59375 39.234375 62.25 \nQ 35.15625 65.921875 28.609375 65.921875 \nQ 23.96875 65.921875 18.8125 64.3125 \nQ 13.671875 62.703125 7.8125 59.421875 \nL 7.8125 69.390625 \nQ 13.765625 71.78125 18.9375 73 \nQ 24.125 74.21875 28.421875 74.21875 \nQ 39.75 74.21875 46.484375 68.546875 \nQ 53.21875 62.890625 53.21875 53.421875 \nQ 53.21875 48.921875 51.53125 44.890625 \nQ 49.859375 40.875 45.40625 35.40625 \nQ 44.1875 33.984375 37.640625 27.21875 \nQ 31.109375 20.453125 19.1875 8.296875 \nz\n\" id=\"DejaVuSans-50\"/>\n      </defs>\n      <g transform=\"translate(121.810486 239.238437)scale(0.1 -0.1)\">\n       <use xlink:href=\"#DejaVuSans-50\"/>\n       <use x=\"63.623047\" xlink:href=\"#DejaVuSans-48\"/>\n      </g>\n     </g>\n    </g>\n    <g id=\"xtick_3\">\n     <g id=\"line2d_3\">\n      <g>\n       <use style=\"stroke:#000000;stroke-width:0.8;\" x=\"197.346539\" xlink:href=\"#mfe48cc528a\" y=\"224.64\"/>\n      </g>\n     </g>\n     <g id=\"text_3\">\n      <!-- 40 -->\n      <defs>\n       <path d=\"M 37.796875 64.3125 \nL 12.890625 25.390625 \nL 37.796875 25.390625 \nz\nM 35.203125 72.90625 \nL 47.609375 72.90625 \nL 47.609375 25.390625 \nL 58.015625 25.390625 \nL 58.015625 17.1875 \nL 47.609375 17.1875 \nL 47.609375 0 \nL 37.796875 0 \nL 37.796875 17.1875 \nL 4.890625 17.1875 \nL 4.890625 26.703125 \nz\n\" id=\"DejaVuSans-52\"/>\n      </defs>\n      <g transform=\"translate(190.984039 239.238437)scale(0.1 -0.1)\">\n       <use xlink:href=\"#DejaVuSans-52\"/>\n       <use x=\"63.623047\" xlink:href=\"#DejaVuSans-48\"/>\n      </g>\n     </g>\n    </g>\n    <g id=\"xtick_4\">\n     <g id=\"line2d_4\">\n      <g>\n       <use style=\"stroke:#000000;stroke-width:0.8;\" x=\"266.520093\" xlink:href=\"#mfe48cc528a\" y=\"224.64\"/>\n      </g>\n     </g>\n     <g id=\"text_4\">\n      <!-- 60 -->\n      <defs>\n       <path d=\"M 33.015625 40.375 \nQ 26.375 40.375 22.484375 35.828125 \nQ 18.609375 31.296875 18.609375 23.390625 \nQ 18.609375 15.53125 22.484375 10.953125 \nQ 26.375 6.390625 33.015625 6.390625 \nQ 39.65625 6.390625 43.53125 10.953125 \nQ 47.40625 15.53125 47.40625 23.390625 \nQ 47.40625 31.296875 43.53125 35.828125 \nQ 39.65625 40.375 33.015625 40.375 \nz\nM 52.59375 71.296875 \nL 52.59375 62.3125 \nQ 48.875 64.0625 45.09375 64.984375 \nQ 41.3125 65.921875 37.59375 65.921875 \nQ 27.828125 65.921875 22.671875 59.328125 \nQ 17.53125 52.734375 16.796875 39.40625 \nQ 19.671875 43.65625 24.015625 45.921875 \nQ 28.375 48.1875 33.59375 48.1875 \nQ 44.578125 48.1875 50.953125 41.515625 \nQ 57.328125 34.859375 57.328125 23.390625 \nQ 57.328125 12.15625 50.6875 5.359375 \nQ 44.046875 -1.421875 33.015625 -1.421875 \nQ 20.359375 -1.421875 13.671875 8.265625 \nQ 6.984375 17.96875 6.984375 36.375 \nQ 6.984375 53.65625 15.1875 63.9375 \nQ 23.390625 74.21875 37.203125 74.21875 \nQ 40.921875 74.21875 44.703125 73.484375 \nQ 48.484375 72.75 52.59375 71.296875 \nz\n\" id=\"DejaVuSans-54\"/>\n      </defs>\n      <g transform=\"translate(260.157593 239.238437)scale(0.1 -0.1)\">\n       <use xlink:href=\"#DejaVuSans-54\"/>\n       <use x=\"63.623047\" xlink:href=\"#DejaVuSans-48\"/>\n      </g>\n     </g>\n    </g>\n    <g id=\"xtick_5\">\n     <g id=\"line2d_5\">\n      <g>\n       <use style=\"stroke:#000000;stroke-width:0.8;\" x=\"335.693647\" xlink:href=\"#mfe48cc528a\" y=\"224.64\"/>\n      </g>\n     </g>\n     <g id=\"text_5\">\n      <!-- 80 -->\n      <defs>\n       <path d=\"M 31.78125 34.625 \nQ 24.75 34.625 20.71875 30.859375 \nQ 16.703125 27.09375 16.703125 20.515625 \nQ 16.703125 13.921875 20.71875 10.15625 \nQ 24.75 6.390625 31.78125 6.390625 \nQ 38.8125 6.390625 42.859375 10.171875 \nQ 46.921875 13.96875 46.921875 20.515625 \nQ 46.921875 27.09375 42.890625 30.859375 \nQ 38.875 34.625 31.78125 34.625 \nz\nM 21.921875 38.8125 \nQ 15.578125 40.375 12.03125 44.71875 \nQ 8.5 49.078125 8.5 55.328125 \nQ 8.5 64.0625 14.71875 69.140625 \nQ 20.953125 74.21875 31.78125 74.21875 \nQ 42.671875 74.21875 48.875 69.140625 \nQ 55.078125 64.0625 55.078125 55.328125 \nQ 55.078125 49.078125 51.53125 44.71875 \nQ 48 40.375 41.703125 38.8125 \nQ 48.828125 37.15625 52.796875 32.3125 \nQ 56.78125 27.484375 56.78125 20.515625 \nQ 56.78125 9.90625 50.3125 4.234375 \nQ 43.84375 -1.421875 31.78125 -1.421875 \nQ 19.734375 -1.421875 13.25 4.234375 \nQ 6.78125 9.90625 6.78125 20.515625 \nQ 6.78125 27.484375 10.78125 32.3125 \nQ 14.796875 37.15625 21.921875 38.8125 \nz\nM 18.3125 54.390625 \nQ 18.3125 48.734375 21.84375 45.5625 \nQ 25.390625 42.390625 31.78125 42.390625 \nQ 38.140625 42.390625 41.71875 45.5625 \nQ 45.3125 48.734375 45.3125 54.390625 \nQ 45.3125 60.0625 41.71875 63.234375 \nQ 38.140625 66.40625 31.78125 66.40625 \nQ 25.390625 66.40625 21.84375 63.234375 \nQ 18.3125 60.0625 18.3125 54.390625 \nz\n\" id=\"DejaVuSans-56\"/>\n      </defs>\n      <g transform=\"translate(329.331147 239.238437)scale(0.1 -0.1)\">\n       <use xlink:href=\"#DejaVuSans-56\"/>\n       <use x=\"63.623047\" xlink:href=\"#DejaVuSans-48\"/>\n      </g>\n     </g>\n    </g>\n    <g id=\"text_6\">\n     <!-- Epochs -->\n     <defs>\n      <path d=\"M 9.8125 72.90625 \nL 55.90625 72.90625 \nL 55.90625 64.59375 \nL 19.671875 64.59375 \nL 19.671875 43.015625 \nL 54.390625 43.015625 \nL 54.390625 34.71875 \nL 19.671875 34.71875 \nL 19.671875 8.296875 \nL 56.78125 8.296875 \nL 56.78125 0 \nL 9.8125 0 \nz\n\" id=\"DejaVuSans-69\"/>\n      <path d=\"M 18.109375 8.203125 \nL 18.109375 -20.796875 \nL 9.078125 -20.796875 \nL 9.078125 54.6875 \nL 18.109375 54.6875 \nL 18.109375 46.390625 \nQ 20.953125 51.265625 25.265625 53.625 \nQ 29.59375 56 35.59375 56 \nQ 45.5625 56 51.78125 48.09375 \nQ 58.015625 40.1875 58.015625 27.296875 \nQ 58.015625 14.40625 51.78125 6.484375 \nQ 45.5625 -1.421875 35.59375 -1.421875 \nQ 29.59375 -1.421875 25.265625 0.953125 \nQ 20.953125 3.328125 18.109375 8.203125 \nz\nM 48.6875 27.296875 \nQ 48.6875 37.203125 44.609375 42.84375 \nQ 40.53125 48.484375 33.40625 48.484375 \nQ 26.265625 48.484375 22.1875 42.84375 \nQ 18.109375 37.203125 18.109375 27.296875 \nQ 18.109375 17.390625 22.1875 11.75 \nQ 26.265625 6.109375 33.40625 6.109375 \nQ 40.53125 6.109375 44.609375 11.75 \nQ 48.6875 17.390625 48.6875 27.296875 \nz\n\" id=\"DejaVuSans-112\"/>\n      <path d=\"M 30.609375 48.390625 \nQ 23.390625 48.390625 19.1875 42.75 \nQ 14.984375 37.109375 14.984375 27.296875 \nQ 14.984375 17.484375 19.15625 11.84375 \nQ 23.34375 6.203125 30.609375 6.203125 \nQ 37.796875 6.203125 41.984375 11.859375 \nQ 46.1875 17.53125 46.1875 27.296875 \nQ 46.1875 37.015625 41.984375 42.703125 \nQ 37.796875 48.390625 30.609375 48.390625 \nz\nM 30.609375 56 \nQ 42.328125 56 49.015625 48.375 \nQ 55.71875 40.765625 55.71875 27.296875 \nQ 55.71875 13.875 49.015625 6.21875 \nQ 42.328125 -1.421875 30.609375 -1.421875 \nQ 18.84375 -1.421875 12.171875 6.21875 \nQ 5.515625 13.875 5.515625 27.296875 \nQ 5.515625 40.765625 12.171875 48.375 \nQ 18.84375 56 30.609375 56 \nz\n\" id=\"DejaVuSans-111\"/>\n      <path d=\"M 48.78125 52.59375 \nL 48.78125 44.1875 \nQ 44.96875 46.296875 41.140625 47.34375 \nQ 37.3125 48.390625 33.40625 48.390625 \nQ 24.65625 48.390625 19.8125 42.84375 \nQ 14.984375 37.3125 14.984375 27.296875 \nQ 14.984375 17.28125 19.8125 11.734375 \nQ 24.65625 6.203125 33.40625 6.203125 \nQ 37.3125 6.203125 41.140625 7.25 \nQ 44.96875 8.296875 48.78125 10.40625 \nL 48.78125 2.09375 \nQ 45.015625 0.34375 40.984375 -0.53125 \nQ 36.96875 -1.421875 32.421875 -1.421875 \nQ 20.0625 -1.421875 12.78125 6.34375 \nQ 5.515625 14.109375 5.515625 27.296875 \nQ 5.515625 40.671875 12.859375 48.328125 \nQ 20.21875 56 33.015625 56 \nQ 37.15625 56 41.109375 55.140625 \nQ 45.0625 54.296875 48.78125 52.59375 \nz\n\" id=\"DejaVuSans-99\"/>\n      <path d=\"M 54.890625 33.015625 \nL 54.890625 0 \nL 45.90625 0 \nL 45.90625 32.71875 \nQ 45.90625 40.484375 42.875 44.328125 \nQ 39.84375 48.1875 33.796875 48.1875 \nQ 26.515625 48.1875 22.3125 43.546875 \nQ 18.109375 38.921875 18.109375 30.90625 \nL 18.109375 0 \nL 9.078125 0 \nL 9.078125 75.984375 \nL 18.109375 75.984375 \nL 18.109375 46.1875 \nQ 21.34375 51.125 25.703125 53.5625 \nQ 30.078125 56 35.796875 56 \nQ 45.21875 56 50.046875 50.171875 \nQ 54.890625 44.34375 54.890625 33.015625 \nz\n\" id=\"DejaVuSans-104\"/>\n      <path d=\"M 44.28125 53.078125 \nL 44.28125 44.578125 \nQ 40.484375 46.53125 36.375 47.5 \nQ 32.28125 48.484375 27.875 48.484375 \nQ 21.1875 48.484375 17.84375 46.4375 \nQ 14.5 44.390625 14.5 40.28125 \nQ 14.5 37.15625 16.890625 35.375 \nQ 19.28125 33.59375 26.515625 31.984375 \nL 29.59375 31.296875 \nQ 39.15625 29.25 43.1875 25.515625 \nQ 47.21875 21.78125 47.21875 15.09375 \nQ 47.21875 7.46875 41.1875 3.015625 \nQ 35.15625 -1.421875 24.609375 -1.421875 \nQ 20.21875 -1.421875 15.453125 -0.5625 \nQ 10.6875 0.296875 5.421875 2 \nL 5.421875 11.28125 \nQ 10.40625 8.6875 15.234375 7.390625 \nQ 20.0625 6.109375 24.8125 6.109375 \nQ 31.15625 6.109375 34.5625 8.28125 \nQ 37.984375 10.453125 37.984375 14.40625 \nQ 37.984375 18.0625 35.515625 20.015625 \nQ 33.0625 21.96875 24.703125 23.78125 \nL 21.578125 24.515625 \nQ 13.234375 26.265625 9.515625 29.90625 \nQ 5.8125 33.546875 5.8125 39.890625 \nQ 5.8125 47.609375 11.28125 51.796875 \nQ 16.75 56 26.8125 56 \nQ 31.78125 56 36.171875 55.265625 \nQ 40.578125 54.546875 44.28125 53.078125 \nz\n\" id=\"DejaVuSans-115\"/>\n     </defs>\n     <g transform=\"translate(193.265625 252.916562)scale(0.1 -0.1)\">\n      <use xlink:href=\"#DejaVuSans-69\"/>\n      <use x=\"63.183594\" xlink:href=\"#DejaVuSans-112\"/>\n      <use x=\"126.660156\" xlink:href=\"#DejaVuSans-111\"/>\n      <use x=\"187.841797\" xlink:href=\"#DejaVuSans-99\"/>\n      <use x=\"242.822266\" xlink:href=\"#DejaVuSans-104\"/>\n      <use x=\"306.201172\" xlink:href=\"#DejaVuSans-115\"/>\n     </g>\n    </g>\n   </g>\n   <g id=\"matplotlib.axis_2\">\n    <g id=\"ytick_1\">\n     <g id=\"line2d_6\">\n      <defs>\n       <path d=\"M 0 0 \nL -3.5 0 \n\" id=\"mf1d1c49d23\" style=\"stroke:#000000;stroke-width:0.8;\"/>\n      </defs>\n      <g>\n       <use style=\"stroke:#000000;stroke-width:0.8;\" x=\"43.78125\" xlink:href=\"#mf1d1c49d23\" y=\"215.301853\"/>\n      </g>\n     </g>\n     <g id=\"text_7\">\n      <!-- 0.0 -->\n      <defs>\n       <path d=\"M 10.6875 12.40625 \nL 21 12.40625 \nL 21 0 \nL 10.6875 0 \nz\n\" id=\"DejaVuSans-46\"/>\n      </defs>\n      <g transform=\"translate(20.878125 219.101071)scale(0.1 -0.1)\">\n       <use xlink:href=\"#DejaVuSans-48\"/>\n       <use x=\"63.623047\" xlink:href=\"#DejaVuSans-46\"/>\n       <use x=\"95.410156\" xlink:href=\"#DejaVuSans-48\"/>\n      </g>\n     </g>\n    </g>\n    <g id=\"ytick_2\">\n     <g id=\"line2d_7\">\n      <g>\n       <use style=\"stroke:#000000;stroke-width:0.8;\" x=\"43.78125\" xlink:href=\"#mf1d1c49d23\" y=\"187.091301\"/>\n      </g>\n     </g>\n     <g id=\"text_8\">\n      <!-- 0.1 -->\n      <defs>\n       <path d=\"M 12.40625 8.296875 \nL 28.515625 8.296875 \nL 28.515625 63.921875 \nL 10.984375 60.40625 \nL 10.984375 69.390625 \nL 28.421875 72.90625 \nL 38.28125 72.90625 \nL 38.28125 8.296875 \nL 54.390625 8.296875 \nL 54.390625 0 \nL 12.40625 0 \nz\n\" id=\"DejaVuSans-49\"/>\n      </defs>\n      <g transform=\"translate(20.878125 190.89052)scale(0.1 -0.1)\">\n       <use xlink:href=\"#DejaVuSans-48\"/>\n       <use x=\"63.623047\" xlink:href=\"#DejaVuSans-46\"/>\n       <use x=\"95.410156\" xlink:href=\"#DejaVuSans-49\"/>\n      </g>\n     </g>\n    </g>\n    <g id=\"ytick_3\">\n     <g id=\"line2d_8\">\n      <g>\n       <use style=\"stroke:#000000;stroke-width:0.8;\" x=\"43.78125\" xlink:href=\"#mf1d1c49d23\" y=\"158.880749\"/>\n      </g>\n     </g>\n     <g id=\"text_9\">\n      <!-- 0.2 -->\n      <g transform=\"translate(20.878125 162.679968)scale(0.1 -0.1)\">\n       <use xlink:href=\"#DejaVuSans-48\"/>\n       <use x=\"63.623047\" xlink:href=\"#DejaVuSans-46\"/>\n       <use x=\"95.410156\" xlink:href=\"#DejaVuSans-50\"/>\n      </g>\n     </g>\n    </g>\n    <g id=\"ytick_4\">\n     <g id=\"line2d_9\">\n      <g>\n       <use style=\"stroke:#000000;stroke-width:0.8;\" x=\"43.78125\" xlink:href=\"#mf1d1c49d23\" y=\"130.670197\"/>\n      </g>\n     </g>\n     <g id=\"text_10\">\n      <!-- 0.3 -->\n      <defs>\n       <path d=\"M 40.578125 39.3125 \nQ 47.65625 37.796875 51.625 33 \nQ 55.609375 28.21875 55.609375 21.1875 \nQ 55.609375 10.40625 48.1875 4.484375 \nQ 40.765625 -1.421875 27.09375 -1.421875 \nQ 22.515625 -1.421875 17.65625 -0.515625 \nQ 12.796875 0.390625 7.625 2.203125 \nL 7.625 11.71875 \nQ 11.71875 9.328125 16.59375 8.109375 \nQ 21.484375 6.890625 26.8125 6.890625 \nQ 36.078125 6.890625 40.9375 10.546875 \nQ 45.796875 14.203125 45.796875 21.1875 \nQ 45.796875 27.640625 41.28125 31.265625 \nQ 36.765625 34.90625 28.71875 34.90625 \nL 20.21875 34.90625 \nL 20.21875 43.015625 \nL 29.109375 43.015625 \nQ 36.375 43.015625 40.234375 45.921875 \nQ 44.09375 48.828125 44.09375 54.296875 \nQ 44.09375 59.90625 40.109375 62.90625 \nQ 36.140625 65.921875 28.71875 65.921875 \nQ 24.65625 65.921875 20.015625 65.03125 \nQ 15.375 64.15625 9.8125 62.3125 \nL 9.8125 71.09375 \nQ 15.4375 72.65625 20.34375 73.4375 \nQ 25.25 74.21875 29.59375 74.21875 \nQ 40.828125 74.21875 47.359375 69.109375 \nQ 53.90625 64.015625 53.90625 55.328125 \nQ 53.90625 49.265625 50.4375 45.09375 \nQ 46.96875 40.921875 40.578125 39.3125 \nz\n\" id=\"DejaVuSans-51\"/>\n      </defs>\n      <g transform=\"translate(20.878125 134.469416)scale(0.1 -0.1)\">\n       <use xlink:href=\"#DejaVuSans-48\"/>\n       <use x=\"63.623047\" xlink:href=\"#DejaVuSans-46\"/>\n       <use x=\"95.410156\" xlink:href=\"#DejaVuSans-51\"/>\n      </g>\n     </g>\n    </g>\n    <g id=\"ytick_5\">\n     <g id=\"line2d_10\">\n      <g>\n       <use style=\"stroke:#000000;stroke-width:0.8;\" x=\"43.78125\" xlink:href=\"#mf1d1c49d23\" y=\"102.459646\"/>\n      </g>\n     </g>\n     <g id=\"text_11\">\n      <!-- 0.4 -->\n      <g transform=\"translate(20.878125 106.258864)scale(0.1 -0.1)\">\n       <use xlink:href=\"#DejaVuSans-48\"/>\n       <use x=\"63.623047\" xlink:href=\"#DejaVuSans-46\"/>\n       <use x=\"95.410156\" xlink:href=\"#DejaVuSans-52\"/>\n      </g>\n     </g>\n    </g>\n    <g id=\"ytick_6\">\n     <g id=\"line2d_11\">\n      <g>\n       <use style=\"stroke:#000000;stroke-width:0.8;\" x=\"43.78125\" xlink:href=\"#mf1d1c49d23\" y=\"74.249094\"/>\n      </g>\n     </g>\n     <g id=\"text_12\">\n      <!-- 0.5 -->\n      <defs>\n       <path d=\"M 10.796875 72.90625 \nL 49.515625 72.90625 \nL 49.515625 64.59375 \nL 19.828125 64.59375 \nL 19.828125 46.734375 \nQ 21.96875 47.46875 24.109375 47.828125 \nQ 26.265625 48.1875 28.421875 48.1875 \nQ 40.625 48.1875 47.75 41.5 \nQ 54.890625 34.8125 54.890625 23.390625 \nQ 54.890625 11.625 47.5625 5.09375 \nQ 40.234375 -1.421875 26.90625 -1.421875 \nQ 22.3125 -1.421875 17.546875 -0.640625 \nQ 12.796875 0.140625 7.71875 1.703125 \nL 7.71875 11.625 \nQ 12.109375 9.234375 16.796875 8.0625 \nQ 21.484375 6.890625 26.703125 6.890625 \nQ 35.15625 6.890625 40.078125 11.328125 \nQ 45.015625 15.765625 45.015625 23.390625 \nQ 45.015625 31 40.078125 35.4375 \nQ 35.15625 39.890625 26.703125 39.890625 \nQ 22.75 39.890625 18.8125 39.015625 \nQ 14.890625 38.140625 10.796875 36.28125 \nz\n\" id=\"DejaVuSans-53\"/>\n      </defs>\n      <g transform=\"translate(20.878125 78.048313)scale(0.1 -0.1)\">\n       <use xlink:href=\"#DejaVuSans-48\"/>\n       <use x=\"63.623047\" xlink:href=\"#DejaVuSans-46\"/>\n       <use x=\"95.410156\" xlink:href=\"#DejaVuSans-53\"/>\n      </g>\n     </g>\n    </g>\n    <g id=\"ytick_7\">\n     <g id=\"line2d_12\">\n      <g>\n       <use style=\"stroke:#000000;stroke-width:0.8;\" x=\"43.78125\" xlink:href=\"#mf1d1c49d23\" y=\"46.038542\"/>\n      </g>\n     </g>\n     <g id=\"text_13\">\n      <!-- 0.6 -->\n      <g transform=\"translate(20.878125 49.837761)scale(0.1 -0.1)\">\n       <use xlink:href=\"#DejaVuSans-48\"/>\n       <use x=\"63.623047\" xlink:href=\"#DejaVuSans-46\"/>\n       <use x=\"95.410156\" xlink:href=\"#DejaVuSans-54\"/>\n      </g>\n     </g>\n    </g>\n    <g id=\"ytick_8\">\n     <g id=\"line2d_13\">\n      <g>\n       <use style=\"stroke:#000000;stroke-width:0.8;\" x=\"43.78125\" xlink:href=\"#mf1d1c49d23\" y=\"17.827991\"/>\n      </g>\n     </g>\n     <g id=\"text_14\">\n      <!-- 0.7 -->\n      <defs>\n       <path d=\"M 8.203125 72.90625 \nL 55.078125 72.90625 \nL 55.078125 68.703125 \nL 28.609375 0 \nL 18.3125 0 \nL 43.21875 64.59375 \nL 8.203125 64.59375 \nz\n\" id=\"DejaVuSans-55\"/>\n      </defs>\n      <g transform=\"translate(20.878125 21.627209)scale(0.1 -0.1)\">\n       <use xlink:href=\"#DejaVuSans-48\"/>\n       <use x=\"63.623047\" xlink:href=\"#DejaVuSans-46\"/>\n       <use x=\"95.410156\" xlink:href=\"#DejaVuSans-55\"/>\n      </g>\n     </g>\n    </g>\n    <g id=\"text_15\">\n     <!-- Losses -->\n     <defs>\n      <path d=\"M 9.8125 72.90625 \nL 19.671875 72.90625 \nL 19.671875 8.296875 \nL 55.171875 8.296875 \nL 55.171875 0 \nL 9.8125 0 \nz\n\" id=\"DejaVuSans-76\"/>\n      <path d=\"M 56.203125 29.59375 \nL 56.203125 25.203125 \nL 14.890625 25.203125 \nQ 15.484375 15.921875 20.484375 11.0625 \nQ 25.484375 6.203125 34.421875 6.203125 \nQ 39.59375 6.203125 44.453125 7.46875 \nQ 49.3125 8.734375 54.109375 11.28125 \nL 54.109375 2.78125 \nQ 49.265625 0.734375 44.1875 -0.34375 \nQ 39.109375 -1.421875 33.890625 -1.421875 \nQ 20.796875 -1.421875 13.15625 6.1875 \nQ 5.515625 13.8125 5.515625 26.8125 \nQ 5.515625 40.234375 12.765625 48.109375 \nQ 20.015625 56 32.328125 56 \nQ 43.359375 56 49.78125 48.890625 \nQ 56.203125 41.796875 56.203125 29.59375 \nz\nM 47.21875 32.234375 \nQ 47.125 39.59375 43.09375 43.984375 \nQ 39.0625 48.390625 32.421875 48.390625 \nQ 24.90625 48.390625 20.390625 44.140625 \nQ 15.875 39.890625 15.1875 32.171875 \nz\n\" id=\"DejaVuSans-101\"/>\n     </defs>\n     <g transform=\"translate(14.798438 132.655156)rotate(-90)scale(0.1 -0.1)\">\n      <use xlink:href=\"#DejaVuSans-76\"/>\n      <use x=\"55.697266\" xlink:href=\"#DejaVuSans-111\"/>\n      <use x=\"116.878906\" xlink:href=\"#DejaVuSans-115\"/>\n      <use x=\"168.978516\" xlink:href=\"#DejaVuSans-115\"/>\n      <use x=\"221.078125\" xlink:href=\"#DejaVuSans-101\"/>\n      <use x=\"282.601562\" xlink:href=\"#DejaVuSans-115\"/>\n     </g>\n    </g>\n   </g>\n   <g id=\"line2d_14\">\n    <path clip-path=\"url(#p823e92a1e9)\" d=\"M 58.999432 17.083636 \nL 62.45811 70.794073 \nL 65.916787 100.35349 \nL 69.375465 107.982053 \nL 72.834143 59.479008 \nL 76.29282 77.685114 \nL 79.751498 89.748421 \nL 83.210176 101.900174 \nL 86.668853 121.179392 \nL 90.127531 89.026898 \nL 93.586209 115.782455 \nL 97.044886 93.878228 \nL 100.503564 120.166266 \nL 103.962242 135.064893 \nL 107.420919 155.237843 \nL 110.879597 121.54418 \nL 114.338275 152.261388 \nL 117.796952 157.691433 \nL 121.25563 143.917397 \nL 124.714308 151.76198 \nL 128.172986 162.619271 \nL 131.631663 112.754665 \nL 135.090341 140.163477 \nL 138.549019 173.987496 \nL 142.007696 154.626919 \nL 145.466374 170.405889 \nL 148.925052 139.418018 \nL 152.383729 173.838752 \nL 155.842407 156.046711 \nL 159.301085 141.404173 \nL 162.759762 188.979432 \nL 166.21844 196.907631 \nL 169.677118 179.101612 \nL 173.135795 193.679864 \nL 176.594473 201.659147 \nL 180.053151 186.867359 \nL 183.511829 185.01442 \nL 186.970506 195.984664 \nL 190.429184 185.765332 \nL 193.887862 174.437267 \nL 197.346539 205.210314 \nL 200.805217 187.485591 \nL 204.263895 194.199919 \nL 207.722572 207.798307 \nL 211.18125 210.920887 \nL 214.639928 197.53988 \nL 218.098605 203.678308 \nL 221.557283 202.862138 \nL 225.015961 197.557752 \nL 228.474638 199.239606 \nL 231.933316 206.187863 \nL 235.391994 197.971986 \nL 238.850671 209.976318 \nL 242.309349 192.89343 \nL 245.768027 201.231937 \nL 249.226705 206.25179 \nL 252.685382 186.137414 \nL 256.14406 208.448346 \nL 259.602738 201.735498 \nL 263.061415 213.946859 \nL 266.520093 202.257304 \nL 269.978771 181.606374 \nL 273.437448 213.185225 \nL 276.896126 213.143045 \nL 280.354804 213.488859 \nL 283.813481 202.688493 \nL 287.272159 199.555636 \nL 290.730837 213.565912 \nL 294.189514 207.658362 \nL 297.648192 203.346116 \nL 301.10687 210.738698 \nL 304.565548 213.695656 \nL 308.024225 213.33513 \nL 311.482903 213.199541 \nL 314.941581 214.129357 \nL 318.400258 205.317744 \nL 321.858936 196.937961 \nL 325.317614 212.440484 \nL 328.776291 211.880581 \nL 332.234969 212.633567 \nL 335.693647 209.452986 \nL 339.152324 210.867178 \nL 342.611002 214.045287 \nL 346.06968 210.726777 \nL 349.528357 214.756364 \nL 352.987035 209.674051 \nL 356.445713 202.357274 \nL 359.90439 210.069301 \nL 363.363068 204.326722 \n\" style=\"fill:none;stroke:#ff0000;stroke-linecap:square;stroke-width:1.5;\"/>\n   </g>\n   <g id=\"line2d_15\">\n    <path clip-path=\"url(#p823e92a1e9)\" d=\"M 58.999432 40.926921 \nL 62.45811 82.355979 \nL 65.916787 79.097826 \nL 69.375465 67.253852 \nL 72.834143 116.529536 \nL 76.29282 117.6917 \nL 79.751498 113.733992 \nL 83.210176 123.081877 \nL 86.668853 124.208813 \nL 90.127531 104.455527 \nL 93.586209 120.02403 \nL 97.044886 123.663736 \nL 100.503564 119.926748 \nL 103.962242 88.024854 \nL 107.420919 103.326497 \nL 110.879597 126.181509 \nL 114.338275 108.533461 \nL 117.796952 110.896982 \nL 121.25563 102.017423 \nL 124.714308 108.406828 \nL 128.172986 99.625207 \nL 131.631663 107.106624 \nL 135.090341 131.773354 \nL 138.549019 114.855724 \nL 142.007696 96.481411 \nL 145.466374 104.643088 \nL 148.925052 104.637018 \nL 152.383729 107.931011 \nL 155.842407 98.436729 \nL 159.301085 77.011833 \nL 162.759762 121.282778 \nL 166.21844 119.401328 \nL 169.677118 115.517916 \nL 173.135795 137.3983 \nL 176.594473 119.165223 \nL 180.053151 126.449192 \nL 183.511829 110.835482 \nL 186.970506 108.11457 \nL 190.429184 119.853578 \nL 193.887862 109.541331 \nL 197.346539 120.484419 \nL 200.805217 93.957543 \nL 204.263895 101.688896 \nL 207.722572 115.663507 \nL 211.18125 119.724197 \nL 214.639928 100.157236 \nL 218.098605 95.741602 \nL 221.557283 92.787704 \nL 225.015961 97.070526 \nL 228.474638 115.967292 \nL 231.933316 100.858295 \nL 235.391994 92.252388 \nL 238.850671 99.263361 \nL 242.309349 95.578961 \nL 245.768027 107.38385 \nL 249.226705 104.362087 \nL 252.685382 111.57255 \nL 256.14406 123.213823 \nL 259.602738 89.553571 \nL 263.061415 97.047591 \nL 266.520093 103.905195 \nL 269.978771 106.347242 \nL 273.437448 100.364217 \nL 276.896126 103.398826 \nL 280.354804 114.547946 \nL 283.813481 116.731398 \nL 287.272159 109.865193 \nL 290.730837 108.196845 \nL 294.189514 104.244896 \nL 297.648192 111.492832 \nL 301.10687 107.849552 \nL 304.565548 114.975546 \nL 308.024225 105.940055 \nL 311.482903 107.568224 \nL 314.941581 108.510508 \nL 318.400258 104.326894 \nL 321.858936 107.710174 \nL 325.317614 95.054709 \nL 328.776291 100.859993 \nL 332.234969 104.794169 \nL 335.693647 101.285761 \nL 339.152324 98.463271 \nL 342.611002 102.192406 \nL 346.06968 98.015829 \nL 349.528357 92.639759 \nL 352.987035 91.302487 \nL 356.445713 94.219325 \nL 359.90439 96.836918 \nL 363.363068 103.109847 \n\" style=\"fill:none;stroke:#0000ff;stroke-linecap:square;stroke-width:1.5;\"/>\n   </g>\n   <g id=\"patch_3\">\n    <path d=\"M 43.78125 224.64 \nL 43.78125 7.2 \n\" style=\"fill:none;stroke:#000000;stroke-linecap:square;stroke-linejoin:miter;stroke-width:0.8;\"/>\n   </g>\n   <g id=\"patch_4\">\n    <path d=\"M 378.58125 224.64 \nL 378.58125 7.2 \n\" style=\"fill:none;stroke:#000000;stroke-linecap:square;stroke-linejoin:miter;stroke-width:0.8;\"/>\n   </g>\n   <g id=\"patch_5\">\n    <path d=\"M 43.78125 224.64 \nL 378.58125 224.64 \n\" style=\"fill:none;stroke:#000000;stroke-linecap:square;stroke-linejoin:miter;stroke-width:0.8;\"/>\n   </g>\n   <g id=\"patch_6\">\n    <path d=\"M 43.78125 7.2 \nL 378.58125 7.2 \n\" style=\"fill:none;stroke:#000000;stroke-linecap:square;stroke-linejoin:miter;stroke-width:0.8;\"/>\n   </g>\n   <g id=\"legend_1\">\n    <g id=\"patch_7\">\n     <path d=\"M 314.140625 44.55625 \nL 371.58125 44.55625 \nQ 373.58125 44.55625 373.58125 42.55625 \nL 373.58125 14.2 \nQ 373.58125 12.2 371.58125 12.2 \nL 314.140625 12.2 \nQ 312.140625 12.2 312.140625 14.2 \nL 312.140625 42.55625 \nQ 312.140625 44.55625 314.140625 44.55625 \nz\n\" style=\"fill:#ffffff;opacity:0.8;stroke:#cccccc;stroke-linejoin:miter;\"/>\n    </g>\n    <g id=\"line2d_16\">\n     <path d=\"M 316.140625 20.298437 \nL 336.140625 20.298437 \n\" style=\"fill:none;stroke:#ff0000;stroke-linecap:square;stroke-width:1.5;\"/>\n    </g>\n    <g id=\"line2d_17\"/>\n    <g id=\"text_16\">\n     <!-- Train -->\n     <defs>\n      <path d=\"M -0.296875 72.90625 \nL 61.375 72.90625 \nL 61.375 64.59375 \nL 35.5 64.59375 \nL 35.5 0 \nL 25.59375 0 \nL 25.59375 64.59375 \nL -0.296875 64.59375 \nz\n\" id=\"DejaVuSans-84\"/>\n      <path d=\"M 41.109375 46.296875 \nQ 39.59375 47.171875 37.8125 47.578125 \nQ 36.03125 48 33.890625 48 \nQ 26.265625 48 22.1875 43.046875 \nQ 18.109375 38.09375 18.109375 28.8125 \nL 18.109375 0 \nL 9.078125 0 \nL 9.078125 54.6875 \nL 18.109375 54.6875 \nL 18.109375 46.1875 \nQ 20.953125 51.171875 25.484375 53.578125 \nQ 30.03125 56 36.53125 56 \nQ 37.453125 56 38.578125 55.875 \nQ 39.703125 55.765625 41.0625 55.515625 \nz\n\" id=\"DejaVuSans-114\"/>\n      <path d=\"M 34.28125 27.484375 \nQ 23.390625 27.484375 19.1875 25 \nQ 14.984375 22.515625 14.984375 16.5 \nQ 14.984375 11.71875 18.140625 8.90625 \nQ 21.296875 6.109375 26.703125 6.109375 \nQ 34.1875 6.109375 38.703125 11.40625 \nQ 43.21875 16.703125 43.21875 25.484375 \nL 43.21875 27.484375 \nz\nM 52.203125 31.203125 \nL 52.203125 0 \nL 43.21875 0 \nL 43.21875 8.296875 \nQ 40.140625 3.328125 35.546875 0.953125 \nQ 30.953125 -1.421875 24.3125 -1.421875 \nQ 15.921875 -1.421875 10.953125 3.296875 \nQ 6 8.015625 6 15.921875 \nQ 6 25.140625 12.171875 29.828125 \nQ 18.359375 34.515625 30.609375 34.515625 \nL 43.21875 34.515625 \nL 43.21875 35.40625 \nQ 43.21875 41.609375 39.140625 45 \nQ 35.0625 48.390625 27.6875 48.390625 \nQ 23 48.390625 18.546875 47.265625 \nQ 14.109375 46.140625 10.015625 43.890625 \nL 10.015625 52.203125 \nQ 14.9375 54.109375 19.578125 55.046875 \nQ 24.21875 56 28.609375 56 \nQ 40.484375 56 46.34375 49.84375 \nQ 52.203125 43.703125 52.203125 31.203125 \nz\n\" id=\"DejaVuSans-97\"/>\n      <path d=\"M 9.421875 54.6875 \nL 18.40625 54.6875 \nL 18.40625 0 \nL 9.421875 0 \nz\nM 9.421875 75.984375 \nL 18.40625 75.984375 \nL 18.40625 64.59375 \nL 9.421875 64.59375 \nz\n\" id=\"DejaVuSans-105\"/>\n      <path d=\"M 54.890625 33.015625 \nL 54.890625 0 \nL 45.90625 0 \nL 45.90625 32.71875 \nQ 45.90625 40.484375 42.875 44.328125 \nQ 39.84375 48.1875 33.796875 48.1875 \nQ 26.515625 48.1875 22.3125 43.546875 \nQ 18.109375 38.921875 18.109375 30.90625 \nL 18.109375 0 \nL 9.078125 0 \nL 9.078125 54.6875 \nL 18.109375 54.6875 \nL 18.109375 46.1875 \nQ 21.34375 51.125 25.703125 53.5625 \nQ 30.078125 56 35.796875 56 \nQ 45.21875 56 50.046875 50.171875 \nQ 54.890625 44.34375 54.890625 33.015625 \nz\n\" id=\"DejaVuSans-110\"/>\n     </defs>\n     <g transform=\"translate(344.140625 23.798437)scale(0.1 -0.1)\">\n      <use xlink:href=\"#DejaVuSans-84\"/>\n      <use x=\"60.865234\" xlink:href=\"#DejaVuSans-114\"/>\n      <use x=\"101.978516\" xlink:href=\"#DejaVuSans-97\"/>\n      <use x=\"163.257812\" xlink:href=\"#DejaVuSans-105\"/>\n      <use x=\"191.041016\" xlink:href=\"#DejaVuSans-110\"/>\n     </g>\n    </g>\n    <g id=\"line2d_18\">\n     <path d=\"M 316.140625 34.976562 \nL 336.140625 34.976562 \n\" style=\"fill:none;stroke:#0000ff;stroke-linecap:square;stroke-width:1.5;\"/>\n    </g>\n    <g id=\"line2d_19\"/>\n    <g id=\"text_17\">\n     <!-- Val -->\n     <defs>\n      <path d=\"M 28.609375 0 \nL 0.78125 72.90625 \nL 11.078125 72.90625 \nL 34.1875 11.53125 \nL 57.328125 72.90625 \nL 67.578125 72.90625 \nL 39.796875 0 \nz\n\" id=\"DejaVuSans-86\"/>\n      <path d=\"M 9.421875 75.984375 \nL 18.40625 75.984375 \nL 18.40625 0 \nL 9.421875 0 \nz\n\" id=\"DejaVuSans-108\"/>\n     </defs>\n     <g transform=\"translate(344.140625 38.476562)scale(0.1 -0.1)\">\n      <use xlink:href=\"#DejaVuSans-86\"/>\n      <use x=\"68.298828\" xlink:href=\"#DejaVuSans-97\"/>\n      <use x=\"129.578125\" xlink:href=\"#DejaVuSans-108\"/>\n     </g>\n    </g>\n   </g>\n  </g>\n </g>\n <defs>\n  <clipPath id=\"p823e92a1e9\">\n   <rect height=\"217.44\" width=\"334.8\" x=\"43.78125\" y=\"7.2\"/>\n  </clipPath>\n </defs>\n</svg>\n"
          },
          "metadata": {
            "tags": []
          }
        }
      ]
    },
    {
      "cell_type": "code",
      "metadata": {
        "id": "AqWhvdXob2XE",
        "colab_type": "code",
        "colab": {}
      },
      "source": [
        "from google.colab import files\n",
        "files.download('./sgd_resnet18_9333.pth.tar')\n",
        "files.download('./sgd_resnet18_9333_acc.jpg')\n",
        "files.download('./sgd_resnet18_9333_loss.jpg')"
      ],
      "execution_count": 0,
      "outputs": []
    },
    {
      "cell_type": "markdown",
      "metadata": {
        "id": "eCf3vbmn6kbX",
        "colab_type": "text"
      },
      "source": [
        "# ADAMW"
      ]
    },
    {
      "cell_type": "code",
      "metadata": {
        "id": "SDKSoqqr6i20",
        "colab_type": "code",
        "colab": {}
      },
      "source": [
        "load_checkpoint(model, filename='before_sgd_resnet18.pth.tar')"
      ],
      "execution_count": 0,
      "outputs": []
    },
    {
      "cell_type": "code",
      "metadata": {
        "id": "LpAxh9gAARoM",
        "colab_type": "code",
        "colab": {}
      },
      "source": [
        "preds = []\n",
        "train_stats = AvgStats()\n",
        "test_stats = AvgStats()"
      ],
      "execution_count": 0,
      "outputs": []
    },
    {
      "cell_type": "code",
      "metadata": {
        "id": "Pf0p8aYCAWCZ",
        "colab_type": "code",
        "colab": {}
      },
      "source": [
        "reset()"
      ],
      "execution_count": 0,
      "outputs": []
    },
    {
      "cell_type": "code",
      "metadata": {
        "id": "ctd5bSF0AW8x",
        "colab_type": "code",
        "colab": {}
      },
      "source": [
        "optimizer = AdamW(model.parameters(), lr=1e-4, weight_decay=0.1)"
      ],
      "execution_count": 0,
      "outputs": []
    },
    {
      "cell_type": "code",
      "metadata": {
        "id": "09lIUkbeAcTr",
        "colab_type": "code",
        "outputId": "73cf31df-1afd-46ae-d34c-b61c9a981368",
        "colab": {
          "base_uri": "https://localhost:8080/",
          "height": 1000
        }
      },
      "source": [
        "fit(model, optimizer, sched)"
      ],
      "execution_count": 0,
      "outputs": [
        {
          "output_type": "stream",
          "text": [
            "Epoch\tTrn_loss\tVal_loss\tTrn_acc\t\tVal_acc\n",
            "1\t0.86885929\t0.74737408\t60.95799637\t63.12666702\n",
            "2\t0.71511656\t0.62655072\t68.41181183\t69.23583221\n",
            "3\t0.60800268\t0.55988485\t72.01058960\t72.50555420\n",
            "4\t0.53849239\t0.53487780\t74.34696198\t74.66541290\n",
            "5\t0.50491721\t0.50635128\t76.07897186\t76.29433441\n",
            "6\t0.46538620\t0.49752907\t77.41943359\t77.57805634\n",
            "7\t0.42562772\t0.48834966\t78.50219727\t78.62023926\n",
            "8\t0.39749796\t0.50960226\t79.41277313\t79.49604034\n",
            "9\t0.37638987\t0.48983808\t80.20792389\t80.28277588\n",
            "10\t0.35278105\t0.48467824\t80.92592621\t80.97983551\n",
            "11\t0.34237109\t0.47242582\t81.56430817\t81.61075592\n",
            "12\t0.32274716\t0.46722133\t82.13605499\t82.17694855\n",
            "13\t0.29914275\t0.47568831\t82.68207550\t82.71371460\n",
            "14\t0.27742496\t0.49464957\t83.17023468\t83.19213867\n",
            "15\t0.26727694\t0.47494474\t83.61775970\t83.63311005\n",
            "16\t0.26196750\t0.49721024\t84.03568268\t84.04364777\n",
            "17\t0.25785484\t0.47724417\t84.41980743\t84.42706299\n",
            "18\t0.23974537\t0.49774931\t84.78849792\t84.78731537\n",
            "19\t0.21883746\t0.48102030\t85.12876129\t85.13342285\n",
            "20\t0.21856885\t0.50451101\t85.46100616\t85.45967102\n",
            "21\t0.20977119\t0.50405136\t85.76448059\t85.75928497\n",
            "22\t0.19639645\t0.52087879\t86.04358673\t86.03780365\n",
            "23\t0.18116844\t0.52060448\t86.32569122\t86.31753540\n",
            "24\t0.18732024\t0.50350373\t86.58391571\t86.57729340\n",
            "25\t0.15771022\t0.52362258\t86.83523560\t86.82493591\n",
            "26\t0.16633219\t0.52266230\t87.06709290\t87.05615234\n",
            "27\t0.16246299\t0.53564277\t87.28459930\t87.27382660\n",
            "28\t0.16064102\t0.54393020\t87.49670410\t87.48279572\n",
            "29\t0.15934023\t0.53175594\t87.69329834\t87.67902374\n",
            "30\t0.14530354\t0.56332928\t87.88994598\t87.87184143\n",
            "31\t0.14020827\t0.54007838\t88.07059479\t88.05543518\n",
            "32\t0.13677383\t0.53587875\t88.24733734\t88.23162079\n",
            "33\t0.13331429\t0.53813368\t88.41584015\t88.40211487\n",
            "34\t0.13055344\t0.53478249\t88.57832336\t88.56289673\n",
            "35\t0.11910698\t0.55431086\t88.73641205\t88.72299957\n",
            "36\t0.11847742\t0.55223649\t88.88995361\t88.87541199\n",
            "37\t0.12628543\t0.55532533\t89.03294373\t89.01634979\n",
            "38\t0.11991744\t0.54868266\t89.17207336\t89.15727997\n",
            "39\t0.11019968\t0.53892465\t89.30764008\t89.29332733\n",
            "40\t0.11368145\t0.55632116\t89.43795013\t89.42179108\n",
            "41\t0.10223443\t0.55794273\t89.56277466\t89.54768372\n",
            "42\t0.12333903\t0.57570558\t89.68167114\t89.66606903\n",
            "43\t0.10693808\t0.57334619\t89.79965210\t89.78422546\n",
            "44\t0.11304180\t0.58082106\t89.91406250\t89.89836884\n",
            "45\t0.10660841\t0.58676646\t90.02382660\t90.00748444\n",
            "46\t0.10605339\t0.56776431\t90.12799835\t90.11260986\n",
            "47\t0.09565327\t0.59423547\t90.23099518\t90.21457672\n",
            "48\t0.10210508\t0.57617647\t90.32745361\t90.31166840\n",
            "49\t0.10018528\t0.58370494\t90.42269897\t90.40632629\n",
            "50\t0.09739981\t0.58227730\t90.51391602\t90.49639893\n",
            "51\t0.08977212\t0.56857956\t90.60259247\t90.58752441\n",
            "52\t0.09245112\t0.58131473\t90.69106293\t90.67390442\n",
            "53\t0.08863737\t0.56325194\t90.77299500\t90.75708008\n",
            "54\t0.08821565\t0.57610760\t90.85185242\t90.83564758\n",
            "55\t0.09195512\t0.59847131\t90.92969513\t90.91400146\n",
            "56\t0.08144768\t0.57961674\t91.00926208\t90.99511719\n",
            "57\t0.08615041\t0.59407162\t91.08663177\t91.07128143\n",
            "58\t0.10075398\t0.59050067\t91.15915680\t91.14396667\n",
            "59\t0.08534357\t0.59125555\t91.23045349\t91.21386719\n",
            "60\t0.07793285\t0.59171913\t91.29978180\t91.28514099\n",
            "61\t0.08698754\t0.59697034\t91.36585999\t91.34953308\n",
            "62\t0.08326742\t0.60926667\t91.43026733\t91.41551208\n",
            "63\t0.07884124\t0.61590368\t91.49557495\t91.47999573\n",
            "64\t0.07409739\t0.60698526\t91.55760193\t91.54293823\n",
            "65\t0.07538815\t0.60389001\t91.62020874\t91.60563660\n",
            "66\t0.07295164\t0.60873766\t91.67934418\t91.66494751\n",
            "67\t0.07750176\t0.60424264\t91.73738098\t91.72288513\n",
            "68\t0.07602248\t0.62481495\t91.79373169\t91.77857971\n",
            "69\t0.06748609\t0.58288625\t91.85024261\t91.83650208\n",
            "70\t0.07881846\t0.60861969\t91.90566254\t91.89197540\n",
            "71\t0.07035099\t0.59868685\t91.95943451\t91.94556427\n",
            "72\t0.06779363\t0.60984974\t92.01199341\t91.99733734\n",
            "73\t0.07705612\t0.60890431\t92.06130219\t92.04650879\n",
            "74\t0.07096647\t0.60641794\t92.11026764\t92.09636688\n",
            "75\t0.06681748\t0.63988388\t92.15743256\t92.14286804\n",
            "76\t0.06997087\t0.58684976\t92.20371246\t92.18980408\n",
            "77\t0.06980174\t0.61379246\t92.25006866\t92.23673248\n",
            "78\t0.06523079\t0.59591913\t92.29672241\t92.28313446\n",
            "79\t0.06641387\t0.63983283\t92.34293365\t92.32933044\n",
            "80\t0.06717019\t0.60640778\t92.38620758\t92.37297821\n",
            "81\t0.06520993\t0.60531530\t92.42956543\t92.41615295\n",
            "82\t0.07271290\t0.61563780\t92.47118378\t92.45710754\n",
            "83\t0.05861622\t0.62599737\t92.51187134\t92.49829865\n",
            "84\t0.06489568\t0.63374087\t92.55184937\t92.53819275\n",
            "85\t0.07016231\t0.61839045\t92.59047699\t92.57717896\n",
            "86\t0.06695395\t0.59576607\t92.62882233\t92.61614990\n",
            "87\t0.06584864\t0.62510194\t92.66713715\t92.65454102\n",
            "88\t0.06217344\t0.58309269\t92.70525360\t92.69297791\n",
            "89\t0.06342361\t0.61500648\t92.74295807\t92.73039246\n",
            "90\t0.06365026\t0.60535244\t92.77935028\t92.76688385\n"
          ],
          "name": "stdout"
        }
      ]
    },
    {
      "cell_type": "code",
      "metadata": {
        "id": "soIYin9sAfXw",
        "colab_type": "code",
        "colab": {}
      },
      "source": [
        "save_checkpoint(model, True, 'adamw_resnet18_9278.pth.tar')"
      ],
      "execution_count": 0,
      "outputs": []
    },
    {
      "cell_type": "code",
      "metadata": {
        "id": "vF5f3PqoBAKn",
        "colab_type": "code",
        "colab": {}
      },
      "source": [
        "ep_adamw_losses = []\n",
        "for i in range(0, len(train_stats.losses), len(train_loader)):\n",
        "    if i != 0 :\n",
        "        ep_adamw_losses.append(train_stats.losses[i])\n",
        "        \n",
        "ep_adamw_lossesv = []\n",
        "for i in range(0, len(test_stats.losses), len(test_loader)):\n",
        "    if(i != 0):\n",
        "        ep_adamw_lossesv.append(test_stats.losses[i])"
      ],
      "execution_count": 0,
      "outputs": []
    },
    {
      "cell_type": "code",
      "metadata": {
        "id": "5VbJIT8mj0Tu",
        "colab_type": "code",
        "colab": {}
      },
      "source": [
        "ep_adamw_accs = []\n",
        "for i in range(0, len(train_stats.losses), len(train_loader)):\n",
        "    if i != 0 :\n",
        "        ep_adamw_accs.append(train_stats.precs[i])\n",
        "        \n",
        "ep_adamw_accsv = []\n",
        "for i in range(0, len(test_stats.losses), len(test_loader)):\n",
        "    if(i != 0):\n",
        "        ep_adamw_accsv.append(test_stats.precs[i])"
      ],
      "execution_count": 0,
      "outputs": []
    },
    {
      "cell_type": "code",
      "metadata": {
        "id": "93Ax_UHsj0ep",
        "colab_type": "code",
        "outputId": "74692f38-dd20-4301-d7fc-3cd7345758bf",
        "colab": {
          "base_uri": "https://localhost:8080/",
          "height": 371
        }
      },
      "source": [
        "plt.xlabel(\"Epochs\")\n",
        "plt.ylabel(\"Accuracy\")\n",
        "plt.plot(ep_adamw_accs, 'r', label='Train')\n",
        "plt.plot(ep_adamw_accsv, 'b', label='Val')\n",
        "plt.legend()\n",
        "plt.savefig('adamw_resnet18_9278_acc.jpg')"
      ],
      "execution_count": 0,
      "outputs": [
        {
          "output_type": "display_data",
          "data": {
            "text/plain": [
              "<Figure size 432x288 with 1 Axes>"
            ],
            "image/svg+xml": "<?xml version=\"1.0\" encoding=\"utf-8\" standalone=\"no\"?>\n<!DOCTYPE svg PUBLIC \"-//W3C//DTD SVG 1.1//EN\"\n  \"http://www.w3.org/Graphics/SVG/1.1/DTD/svg11.dtd\">\n<!-- Created with matplotlib (https://matplotlib.org/) -->\n<svg height=\"262.19625pt\" version=\"1.1\" viewBox=\"0 0 382.603125 262.19625\" width=\"382.603125pt\" xmlns=\"http://www.w3.org/2000/svg\" xmlns:xlink=\"http://www.w3.org/1999/xlink\">\n <defs>\n  <style type=\"text/css\">\n*{stroke-linecap:butt;stroke-linejoin:round;}\n  </style>\n </defs>\n <g id=\"figure_1\">\n  <g id=\"patch_1\">\n   <path d=\"M 0 262.19625 \nL 382.603125 262.19625 \nL 382.603125 0 \nL 0 0 \nz\n\" style=\"fill:none;\"/>\n  </g>\n  <g id=\"axes_1\">\n   <g id=\"patch_2\">\n    <path d=\"M 40.603125 224.64 \nL 375.403125 224.64 \nL 375.403125 7.2 \nL 40.603125 7.2 \nz\n\" style=\"fill:#ffffff;\"/>\n   </g>\n   <g id=\"matplotlib.axis_1\">\n    <g id=\"xtick_1\">\n     <g id=\"line2d_1\">\n      <defs>\n       <path d=\"M 0 0 \nL 0 3.5 \n\" id=\"m5b2dbcebbe\" style=\"stroke:#000000;stroke-width:0.8;\"/>\n      </defs>\n      <g>\n       <use style=\"stroke:#000000;stroke-width:0.8;\" x=\"55.821307\" xlink:href=\"#m5b2dbcebbe\" y=\"224.64\"/>\n      </g>\n     </g>\n     <g id=\"text_1\">\n      <!-- 0 -->\n      <defs>\n       <path d=\"M 31.78125 66.40625 \nQ 24.171875 66.40625 20.328125 58.90625 \nQ 16.5 51.421875 16.5 36.375 \nQ 16.5 21.390625 20.328125 13.890625 \nQ 24.171875 6.390625 31.78125 6.390625 \nQ 39.453125 6.390625 43.28125 13.890625 \nQ 47.125 21.390625 47.125 36.375 \nQ 47.125 51.421875 43.28125 58.90625 \nQ 39.453125 66.40625 31.78125 66.40625 \nz\nM 31.78125 74.21875 \nQ 44.046875 74.21875 50.515625 64.515625 \nQ 56.984375 54.828125 56.984375 36.375 \nQ 56.984375 17.96875 50.515625 8.265625 \nQ 44.046875 -1.421875 31.78125 -1.421875 \nQ 19.53125 -1.421875 13.0625 8.265625 \nQ 6.59375 17.96875 6.59375 36.375 \nQ 6.59375 54.828125 13.0625 64.515625 \nQ 19.53125 74.21875 31.78125 74.21875 \nz\n\" id=\"DejaVuSans-48\"/>\n      </defs>\n      <g transform=\"translate(52.640057 239.238437)scale(0.1 -0.1)\">\n       <use xlink:href=\"#DejaVuSans-48\"/>\n      </g>\n     </g>\n    </g>\n    <g id=\"xtick_2\">\n     <g id=\"line2d_2\">\n      <g>\n       <use style=\"stroke:#000000;stroke-width:0.8;\" x=\"124.994861\" xlink:href=\"#m5b2dbcebbe\" y=\"224.64\"/>\n      </g>\n     </g>\n     <g id=\"text_2\">\n      <!-- 20 -->\n      <defs>\n       <path d=\"M 19.1875 8.296875 \nL 53.609375 8.296875 \nL 53.609375 0 \nL 7.328125 0 \nL 7.328125 8.296875 \nQ 12.9375 14.109375 22.625 23.890625 \nQ 32.328125 33.6875 34.8125 36.53125 \nQ 39.546875 41.84375 41.421875 45.53125 \nQ 43.3125 49.21875 43.3125 52.78125 \nQ 43.3125 58.59375 39.234375 62.25 \nQ 35.15625 65.921875 28.609375 65.921875 \nQ 23.96875 65.921875 18.8125 64.3125 \nQ 13.671875 62.703125 7.8125 59.421875 \nL 7.8125 69.390625 \nQ 13.765625 71.78125 18.9375 73 \nQ 24.125 74.21875 28.421875 74.21875 \nQ 39.75 74.21875 46.484375 68.546875 \nQ 53.21875 62.890625 53.21875 53.421875 \nQ 53.21875 48.921875 51.53125 44.890625 \nQ 49.859375 40.875 45.40625 35.40625 \nQ 44.1875 33.984375 37.640625 27.21875 \nQ 31.109375 20.453125 19.1875 8.296875 \nz\n\" id=\"DejaVuSans-50\"/>\n      </defs>\n      <g transform=\"translate(118.632361 239.238437)scale(0.1 -0.1)\">\n       <use xlink:href=\"#DejaVuSans-50\"/>\n       <use x=\"63.623047\" xlink:href=\"#DejaVuSans-48\"/>\n      </g>\n     </g>\n    </g>\n    <g id=\"xtick_3\">\n     <g id=\"line2d_3\">\n      <g>\n       <use style=\"stroke:#000000;stroke-width:0.8;\" x=\"194.168414\" xlink:href=\"#m5b2dbcebbe\" y=\"224.64\"/>\n      </g>\n     </g>\n     <g id=\"text_3\">\n      <!-- 40 -->\n      <defs>\n       <path d=\"M 37.796875 64.3125 \nL 12.890625 25.390625 \nL 37.796875 25.390625 \nz\nM 35.203125 72.90625 \nL 47.609375 72.90625 \nL 47.609375 25.390625 \nL 58.015625 25.390625 \nL 58.015625 17.1875 \nL 47.609375 17.1875 \nL 47.609375 0 \nL 37.796875 0 \nL 37.796875 17.1875 \nL 4.890625 17.1875 \nL 4.890625 26.703125 \nz\n\" id=\"DejaVuSans-52\"/>\n      </defs>\n      <g transform=\"translate(187.805914 239.238437)scale(0.1 -0.1)\">\n       <use xlink:href=\"#DejaVuSans-52\"/>\n       <use x=\"63.623047\" xlink:href=\"#DejaVuSans-48\"/>\n      </g>\n     </g>\n    </g>\n    <g id=\"xtick_4\">\n     <g id=\"line2d_4\">\n      <g>\n       <use style=\"stroke:#000000;stroke-width:0.8;\" x=\"263.341968\" xlink:href=\"#m5b2dbcebbe\" y=\"224.64\"/>\n      </g>\n     </g>\n     <g id=\"text_4\">\n      <!-- 60 -->\n      <defs>\n       <path d=\"M 33.015625 40.375 \nQ 26.375 40.375 22.484375 35.828125 \nQ 18.609375 31.296875 18.609375 23.390625 \nQ 18.609375 15.53125 22.484375 10.953125 \nQ 26.375 6.390625 33.015625 6.390625 \nQ 39.65625 6.390625 43.53125 10.953125 \nQ 47.40625 15.53125 47.40625 23.390625 \nQ 47.40625 31.296875 43.53125 35.828125 \nQ 39.65625 40.375 33.015625 40.375 \nz\nM 52.59375 71.296875 \nL 52.59375 62.3125 \nQ 48.875 64.0625 45.09375 64.984375 \nQ 41.3125 65.921875 37.59375 65.921875 \nQ 27.828125 65.921875 22.671875 59.328125 \nQ 17.53125 52.734375 16.796875 39.40625 \nQ 19.671875 43.65625 24.015625 45.921875 \nQ 28.375 48.1875 33.59375 48.1875 \nQ 44.578125 48.1875 50.953125 41.515625 \nQ 57.328125 34.859375 57.328125 23.390625 \nQ 57.328125 12.15625 50.6875 5.359375 \nQ 44.046875 -1.421875 33.015625 -1.421875 \nQ 20.359375 -1.421875 13.671875 8.265625 \nQ 6.984375 17.96875 6.984375 36.375 \nQ 6.984375 53.65625 15.1875 63.9375 \nQ 23.390625 74.21875 37.203125 74.21875 \nQ 40.921875 74.21875 44.703125 73.484375 \nQ 48.484375 72.75 52.59375 71.296875 \nz\n\" id=\"DejaVuSans-54\"/>\n      </defs>\n      <g transform=\"translate(256.979468 239.238437)scale(0.1 -0.1)\">\n       <use xlink:href=\"#DejaVuSans-54\"/>\n       <use x=\"63.623047\" xlink:href=\"#DejaVuSans-48\"/>\n      </g>\n     </g>\n    </g>\n    <g id=\"xtick_5\">\n     <g id=\"line2d_5\">\n      <g>\n       <use style=\"stroke:#000000;stroke-width:0.8;\" x=\"332.515522\" xlink:href=\"#m5b2dbcebbe\" y=\"224.64\"/>\n      </g>\n     </g>\n     <g id=\"text_5\">\n      <!-- 80 -->\n      <defs>\n       <path d=\"M 31.78125 34.625 \nQ 24.75 34.625 20.71875 30.859375 \nQ 16.703125 27.09375 16.703125 20.515625 \nQ 16.703125 13.921875 20.71875 10.15625 \nQ 24.75 6.390625 31.78125 6.390625 \nQ 38.8125 6.390625 42.859375 10.171875 \nQ 46.921875 13.96875 46.921875 20.515625 \nQ 46.921875 27.09375 42.890625 30.859375 \nQ 38.875 34.625 31.78125 34.625 \nz\nM 21.921875 38.8125 \nQ 15.578125 40.375 12.03125 44.71875 \nQ 8.5 49.078125 8.5 55.328125 \nQ 8.5 64.0625 14.71875 69.140625 \nQ 20.953125 74.21875 31.78125 74.21875 \nQ 42.671875 74.21875 48.875 69.140625 \nQ 55.078125 64.0625 55.078125 55.328125 \nQ 55.078125 49.078125 51.53125 44.71875 \nQ 48 40.375 41.703125 38.8125 \nQ 48.828125 37.15625 52.796875 32.3125 \nQ 56.78125 27.484375 56.78125 20.515625 \nQ 56.78125 9.90625 50.3125 4.234375 \nQ 43.84375 -1.421875 31.78125 -1.421875 \nQ 19.734375 -1.421875 13.25 4.234375 \nQ 6.78125 9.90625 6.78125 20.515625 \nQ 6.78125 27.484375 10.78125 32.3125 \nQ 14.796875 37.15625 21.921875 38.8125 \nz\nM 18.3125 54.390625 \nQ 18.3125 48.734375 21.84375 45.5625 \nQ 25.390625 42.390625 31.78125 42.390625 \nQ 38.140625 42.390625 41.71875 45.5625 \nQ 45.3125 48.734375 45.3125 54.390625 \nQ 45.3125 60.0625 41.71875 63.234375 \nQ 38.140625 66.40625 31.78125 66.40625 \nQ 25.390625 66.40625 21.84375 63.234375 \nQ 18.3125 60.0625 18.3125 54.390625 \nz\n\" id=\"DejaVuSans-56\"/>\n      </defs>\n      <g transform=\"translate(326.153022 239.238437)scale(0.1 -0.1)\">\n       <use xlink:href=\"#DejaVuSans-56\"/>\n       <use x=\"63.623047\" xlink:href=\"#DejaVuSans-48\"/>\n      </g>\n     </g>\n    </g>\n    <g id=\"text_6\">\n     <!-- Epochs -->\n     <defs>\n      <path d=\"M 9.8125 72.90625 \nL 55.90625 72.90625 \nL 55.90625 64.59375 \nL 19.671875 64.59375 \nL 19.671875 43.015625 \nL 54.390625 43.015625 \nL 54.390625 34.71875 \nL 19.671875 34.71875 \nL 19.671875 8.296875 \nL 56.78125 8.296875 \nL 56.78125 0 \nL 9.8125 0 \nz\n\" id=\"DejaVuSans-69\"/>\n      <path d=\"M 18.109375 8.203125 \nL 18.109375 -20.796875 \nL 9.078125 -20.796875 \nL 9.078125 54.6875 \nL 18.109375 54.6875 \nL 18.109375 46.390625 \nQ 20.953125 51.265625 25.265625 53.625 \nQ 29.59375 56 35.59375 56 \nQ 45.5625 56 51.78125 48.09375 \nQ 58.015625 40.1875 58.015625 27.296875 \nQ 58.015625 14.40625 51.78125 6.484375 \nQ 45.5625 -1.421875 35.59375 -1.421875 \nQ 29.59375 -1.421875 25.265625 0.953125 \nQ 20.953125 3.328125 18.109375 8.203125 \nz\nM 48.6875 27.296875 \nQ 48.6875 37.203125 44.609375 42.84375 \nQ 40.53125 48.484375 33.40625 48.484375 \nQ 26.265625 48.484375 22.1875 42.84375 \nQ 18.109375 37.203125 18.109375 27.296875 \nQ 18.109375 17.390625 22.1875 11.75 \nQ 26.265625 6.109375 33.40625 6.109375 \nQ 40.53125 6.109375 44.609375 11.75 \nQ 48.6875 17.390625 48.6875 27.296875 \nz\n\" id=\"DejaVuSans-112\"/>\n      <path d=\"M 30.609375 48.390625 \nQ 23.390625 48.390625 19.1875 42.75 \nQ 14.984375 37.109375 14.984375 27.296875 \nQ 14.984375 17.484375 19.15625 11.84375 \nQ 23.34375 6.203125 30.609375 6.203125 \nQ 37.796875 6.203125 41.984375 11.859375 \nQ 46.1875 17.53125 46.1875 27.296875 \nQ 46.1875 37.015625 41.984375 42.703125 \nQ 37.796875 48.390625 30.609375 48.390625 \nz\nM 30.609375 56 \nQ 42.328125 56 49.015625 48.375 \nQ 55.71875 40.765625 55.71875 27.296875 \nQ 55.71875 13.875 49.015625 6.21875 \nQ 42.328125 -1.421875 30.609375 -1.421875 \nQ 18.84375 -1.421875 12.171875 6.21875 \nQ 5.515625 13.875 5.515625 27.296875 \nQ 5.515625 40.765625 12.171875 48.375 \nQ 18.84375 56 30.609375 56 \nz\n\" id=\"DejaVuSans-111\"/>\n      <path d=\"M 48.78125 52.59375 \nL 48.78125 44.1875 \nQ 44.96875 46.296875 41.140625 47.34375 \nQ 37.3125 48.390625 33.40625 48.390625 \nQ 24.65625 48.390625 19.8125 42.84375 \nQ 14.984375 37.3125 14.984375 27.296875 \nQ 14.984375 17.28125 19.8125 11.734375 \nQ 24.65625 6.203125 33.40625 6.203125 \nQ 37.3125 6.203125 41.140625 7.25 \nQ 44.96875 8.296875 48.78125 10.40625 \nL 48.78125 2.09375 \nQ 45.015625 0.34375 40.984375 -0.53125 \nQ 36.96875 -1.421875 32.421875 -1.421875 \nQ 20.0625 -1.421875 12.78125 6.34375 \nQ 5.515625 14.109375 5.515625 27.296875 \nQ 5.515625 40.671875 12.859375 48.328125 \nQ 20.21875 56 33.015625 56 \nQ 37.15625 56 41.109375 55.140625 \nQ 45.0625 54.296875 48.78125 52.59375 \nz\n\" id=\"DejaVuSans-99\"/>\n      <path d=\"M 54.890625 33.015625 \nL 54.890625 0 \nL 45.90625 0 \nL 45.90625 32.71875 \nQ 45.90625 40.484375 42.875 44.328125 \nQ 39.84375 48.1875 33.796875 48.1875 \nQ 26.515625 48.1875 22.3125 43.546875 \nQ 18.109375 38.921875 18.109375 30.90625 \nL 18.109375 0 \nL 9.078125 0 \nL 9.078125 75.984375 \nL 18.109375 75.984375 \nL 18.109375 46.1875 \nQ 21.34375 51.125 25.703125 53.5625 \nQ 30.078125 56 35.796875 56 \nQ 45.21875 56 50.046875 50.171875 \nQ 54.890625 44.34375 54.890625 33.015625 \nz\n\" id=\"DejaVuSans-104\"/>\n      <path d=\"M 44.28125 53.078125 \nL 44.28125 44.578125 \nQ 40.484375 46.53125 36.375 47.5 \nQ 32.28125 48.484375 27.875 48.484375 \nQ 21.1875 48.484375 17.84375 46.4375 \nQ 14.5 44.390625 14.5 40.28125 \nQ 14.5 37.15625 16.890625 35.375 \nQ 19.28125 33.59375 26.515625 31.984375 \nL 29.59375 31.296875 \nQ 39.15625 29.25 43.1875 25.515625 \nQ 47.21875 21.78125 47.21875 15.09375 \nQ 47.21875 7.46875 41.1875 3.015625 \nQ 35.15625 -1.421875 24.609375 -1.421875 \nQ 20.21875 -1.421875 15.453125 -0.5625 \nQ 10.6875 0.296875 5.421875 2 \nL 5.421875 11.28125 \nQ 10.40625 8.6875 15.234375 7.390625 \nQ 20.0625 6.109375 24.8125 6.109375 \nQ 31.15625 6.109375 34.5625 8.28125 \nQ 37.984375 10.453125 37.984375 14.40625 \nQ 37.984375 18.0625 35.515625 20.015625 \nQ 33.0625 21.96875 24.703125 23.78125 \nL 21.578125 24.515625 \nQ 13.234375 26.265625 9.515625 29.90625 \nQ 5.8125 33.546875 5.8125 39.890625 \nQ 5.8125 47.609375 11.28125 51.796875 \nQ 16.75 56 26.8125 56 \nQ 31.78125 56 36.171875 55.265625 \nQ 40.578125 54.546875 44.28125 53.078125 \nz\n\" id=\"DejaVuSans-115\"/>\n     </defs>\n     <g transform=\"translate(190.0875 252.916562)scale(0.1 -0.1)\">\n      <use xlink:href=\"#DejaVuSans-69\"/>\n      <use x=\"63.183594\" xlink:href=\"#DejaVuSans-112\"/>\n      <use x=\"126.660156\" xlink:href=\"#DejaVuSans-111\"/>\n      <use x=\"187.841797\" xlink:href=\"#DejaVuSans-99\"/>\n      <use x=\"242.822266\" xlink:href=\"#DejaVuSans-104\"/>\n      <use x=\"306.201172\" xlink:href=\"#DejaVuSans-115\"/>\n     </g>\n    </g>\n   </g>\n   <g id=\"matplotlib.axis_2\">\n    <g id=\"ytick_1\">\n     <g id=\"line2d_6\">\n      <defs>\n       <path d=\"M 0 0 \nL -3.5 0 \n\" id=\"m4c733104d0\" style=\"stroke:#000000;stroke-width:0.8;\"/>\n      </defs>\n      <g>\n       <use style=\"stroke:#000000;stroke-width:0.8;\" x=\"40.603125\" xlink:href=\"#m4c733104d0\" y=\"202.446982\"/>\n      </g>\n     </g>\n     <g id=\"text_7\">\n      <!-- 65 -->\n      <defs>\n       <path d=\"M 10.796875 72.90625 \nL 49.515625 72.90625 \nL 49.515625 64.59375 \nL 19.828125 64.59375 \nL 19.828125 46.734375 \nQ 21.96875 47.46875 24.109375 47.828125 \nQ 26.265625 48.1875 28.421875 48.1875 \nQ 40.625 48.1875 47.75 41.5 \nQ 54.890625 34.8125 54.890625 23.390625 \nQ 54.890625 11.625 47.5625 5.09375 \nQ 40.234375 -1.421875 26.90625 -1.421875 \nQ 22.3125 -1.421875 17.546875 -0.640625 \nQ 12.796875 0.140625 7.71875 1.703125 \nL 7.71875 11.625 \nQ 12.109375 9.234375 16.796875 8.0625 \nQ 21.484375 6.890625 26.703125 6.890625 \nQ 35.15625 6.890625 40.078125 11.328125 \nQ 45.015625 15.765625 45.015625 23.390625 \nQ 45.015625 31 40.078125 35.4375 \nQ 35.15625 39.890625 26.703125 39.890625 \nQ 22.75 39.890625 18.8125 39.015625 \nQ 14.890625 38.140625 10.796875 36.28125 \nz\n\" id=\"DejaVuSans-53\"/>\n      </defs>\n      <g transform=\"translate(20.878125 206.246201)scale(0.1 -0.1)\">\n       <use xlink:href=\"#DejaVuSans-54\"/>\n       <use x=\"63.623047\" xlink:href=\"#DejaVuSans-53\"/>\n      </g>\n     </g>\n    </g>\n    <g id=\"ytick_2\">\n     <g id=\"line2d_7\">\n      <g>\n       <use style=\"stroke:#000000;stroke-width:0.8;\" x=\"40.603125\" xlink:href=\"#m4c733104d0\" y=\"169.08335\"/>\n      </g>\n     </g>\n     <g id=\"text_8\">\n      <!-- 70 -->\n      <defs>\n       <path d=\"M 8.203125 72.90625 \nL 55.078125 72.90625 \nL 55.078125 68.703125 \nL 28.609375 0 \nL 18.3125 0 \nL 43.21875 64.59375 \nL 8.203125 64.59375 \nz\n\" id=\"DejaVuSans-55\"/>\n      </defs>\n      <g transform=\"translate(20.878125 172.882568)scale(0.1 -0.1)\">\n       <use xlink:href=\"#DejaVuSans-55\"/>\n       <use x=\"63.623047\" xlink:href=\"#DejaVuSans-48\"/>\n      </g>\n     </g>\n    </g>\n    <g id=\"ytick_3\">\n     <g id=\"line2d_8\">\n      <g>\n       <use style=\"stroke:#000000;stroke-width:0.8;\" x=\"40.603125\" xlink:href=\"#m4c733104d0\" y=\"135.719717\"/>\n      </g>\n     </g>\n     <g id=\"text_9\">\n      <!-- 75 -->\n      <g transform=\"translate(20.878125 139.518936)scale(0.1 -0.1)\">\n       <use xlink:href=\"#DejaVuSans-55\"/>\n       <use x=\"63.623047\" xlink:href=\"#DejaVuSans-53\"/>\n      </g>\n     </g>\n    </g>\n    <g id=\"ytick_4\">\n     <g id=\"line2d_9\">\n      <g>\n       <use style=\"stroke:#000000;stroke-width:0.8;\" x=\"40.603125\" xlink:href=\"#m4c733104d0\" y=\"102.356084\"/>\n      </g>\n     </g>\n     <g id=\"text_10\">\n      <!-- 80 -->\n      <g transform=\"translate(20.878125 106.155303)scale(0.1 -0.1)\">\n       <use xlink:href=\"#DejaVuSans-56\"/>\n       <use x=\"63.623047\" xlink:href=\"#DejaVuSans-48\"/>\n      </g>\n     </g>\n    </g>\n    <g id=\"ytick_5\">\n     <g id=\"line2d_10\">\n      <g>\n       <use style=\"stroke:#000000;stroke-width:0.8;\" x=\"40.603125\" xlink:href=\"#m4c733104d0\" y=\"68.992452\"/>\n      </g>\n     </g>\n     <g id=\"text_11\">\n      <!-- 85 -->\n      <g transform=\"translate(20.878125 72.79167)scale(0.1 -0.1)\">\n       <use xlink:href=\"#DejaVuSans-56\"/>\n       <use x=\"63.623047\" xlink:href=\"#DejaVuSans-53\"/>\n      </g>\n     </g>\n    </g>\n    <g id=\"ytick_6\">\n     <g id=\"line2d_11\">\n      <g>\n       <use style=\"stroke:#000000;stroke-width:0.8;\" x=\"40.603125\" xlink:href=\"#m4c733104d0\" y=\"35.628819\"/>\n      </g>\n     </g>\n     <g id=\"text_12\">\n      <!-- 90 -->\n      <defs>\n       <path d=\"M 10.984375 1.515625 \nL 10.984375 10.5 \nQ 14.703125 8.734375 18.5 7.8125 \nQ 22.3125 6.890625 25.984375 6.890625 \nQ 35.75 6.890625 40.890625 13.453125 \nQ 46.046875 20.015625 46.78125 33.40625 \nQ 43.953125 29.203125 39.59375 26.953125 \nQ 35.25 24.703125 29.984375 24.703125 \nQ 19.046875 24.703125 12.671875 31.3125 \nQ 6.296875 37.9375 6.296875 49.421875 \nQ 6.296875 60.640625 12.9375 67.421875 \nQ 19.578125 74.21875 30.609375 74.21875 \nQ 43.265625 74.21875 49.921875 64.515625 \nQ 56.59375 54.828125 56.59375 36.375 \nQ 56.59375 19.140625 48.40625 8.859375 \nQ 40.234375 -1.421875 26.421875 -1.421875 \nQ 22.703125 -1.421875 18.890625 -0.6875 \nQ 15.09375 0.046875 10.984375 1.515625 \nz\nM 30.609375 32.421875 \nQ 37.25 32.421875 41.125 36.953125 \nQ 45.015625 41.5 45.015625 49.421875 \nQ 45.015625 57.28125 41.125 61.84375 \nQ 37.25 66.40625 30.609375 66.40625 \nQ 23.96875 66.40625 20.09375 61.84375 \nQ 16.21875 57.28125 16.21875 49.421875 \nQ 16.21875 41.5 20.09375 36.953125 \nQ 23.96875 32.421875 30.609375 32.421875 \nz\n\" id=\"DejaVuSans-57\"/>\n      </defs>\n      <g transform=\"translate(20.878125 39.428038)scale(0.1 -0.1)\">\n       <use xlink:href=\"#DejaVuSans-57\"/>\n       <use x=\"63.623047\" xlink:href=\"#DejaVuSans-48\"/>\n      </g>\n     </g>\n    </g>\n    <g id=\"text_13\">\n     <!-- Accuracy -->\n     <defs>\n      <path d=\"M 34.1875 63.1875 \nL 20.796875 26.90625 \nL 47.609375 26.90625 \nz\nM 28.609375 72.90625 \nL 39.796875 72.90625 \nL 67.578125 0 \nL 57.328125 0 \nL 50.6875 18.703125 \nL 17.828125 18.703125 \nL 11.1875 0 \nL 0.78125 0 \nz\n\" id=\"DejaVuSans-65\"/>\n      <path d=\"M 8.5 21.578125 \nL 8.5 54.6875 \nL 17.484375 54.6875 \nL 17.484375 21.921875 \nQ 17.484375 14.15625 20.5 10.265625 \nQ 23.53125 6.390625 29.59375 6.390625 \nQ 36.859375 6.390625 41.078125 11.03125 \nQ 45.3125 15.671875 45.3125 23.6875 \nL 45.3125 54.6875 \nL 54.296875 54.6875 \nL 54.296875 0 \nL 45.3125 0 \nL 45.3125 8.40625 \nQ 42.046875 3.421875 37.71875 1 \nQ 33.40625 -1.421875 27.6875 -1.421875 \nQ 18.265625 -1.421875 13.375 4.4375 \nQ 8.5 10.296875 8.5 21.578125 \nz\nM 31.109375 56 \nz\n\" id=\"DejaVuSans-117\"/>\n      <path d=\"M 41.109375 46.296875 \nQ 39.59375 47.171875 37.8125 47.578125 \nQ 36.03125 48 33.890625 48 \nQ 26.265625 48 22.1875 43.046875 \nQ 18.109375 38.09375 18.109375 28.8125 \nL 18.109375 0 \nL 9.078125 0 \nL 9.078125 54.6875 \nL 18.109375 54.6875 \nL 18.109375 46.1875 \nQ 20.953125 51.171875 25.484375 53.578125 \nQ 30.03125 56 36.53125 56 \nQ 37.453125 56 38.578125 55.875 \nQ 39.703125 55.765625 41.0625 55.515625 \nz\n\" id=\"DejaVuSans-114\"/>\n      <path d=\"M 34.28125 27.484375 \nQ 23.390625 27.484375 19.1875 25 \nQ 14.984375 22.515625 14.984375 16.5 \nQ 14.984375 11.71875 18.140625 8.90625 \nQ 21.296875 6.109375 26.703125 6.109375 \nQ 34.1875 6.109375 38.703125 11.40625 \nQ 43.21875 16.703125 43.21875 25.484375 \nL 43.21875 27.484375 \nz\nM 52.203125 31.203125 \nL 52.203125 0 \nL 43.21875 0 \nL 43.21875 8.296875 \nQ 40.140625 3.328125 35.546875 0.953125 \nQ 30.953125 -1.421875 24.3125 -1.421875 \nQ 15.921875 -1.421875 10.953125 3.296875 \nQ 6 8.015625 6 15.921875 \nQ 6 25.140625 12.171875 29.828125 \nQ 18.359375 34.515625 30.609375 34.515625 \nL 43.21875 34.515625 \nL 43.21875 35.40625 \nQ 43.21875 41.609375 39.140625 45 \nQ 35.0625 48.390625 27.6875 48.390625 \nQ 23 48.390625 18.546875 47.265625 \nQ 14.109375 46.140625 10.015625 43.890625 \nL 10.015625 52.203125 \nQ 14.9375 54.109375 19.578125 55.046875 \nQ 24.21875 56 28.609375 56 \nQ 40.484375 56 46.34375 49.84375 \nQ 52.203125 43.703125 52.203125 31.203125 \nz\n\" id=\"DejaVuSans-97\"/>\n      <path d=\"M 32.171875 -5.078125 \nQ 28.375 -14.84375 24.75 -17.8125 \nQ 21.140625 -20.796875 15.09375 -20.796875 \nL 7.90625 -20.796875 \nL 7.90625 -13.28125 \nL 13.1875 -13.28125 \nQ 16.890625 -13.28125 18.9375 -11.515625 \nQ 21 -9.765625 23.484375 -3.21875 \nL 25.09375 0.875 \nL 2.984375 54.6875 \nL 12.5 54.6875 \nL 29.59375 11.921875 \nL 46.6875 54.6875 \nL 56.203125 54.6875 \nz\n\" id=\"DejaVuSans-121\"/>\n     </defs>\n     <g transform=\"translate(14.798438 138.834844)rotate(-90)scale(0.1 -0.1)\">\n      <use xlink:href=\"#DejaVuSans-65\"/>\n      <use x=\"68.392578\" xlink:href=\"#DejaVuSans-99\"/>\n      <use x=\"123.373047\" xlink:href=\"#DejaVuSans-99\"/>\n      <use x=\"178.353516\" xlink:href=\"#DejaVuSans-117\"/>\n      <use x=\"241.732422\" xlink:href=\"#DejaVuSans-114\"/>\n      <use x=\"282.845703\" xlink:href=\"#DejaVuSans-97\"/>\n      <use x=\"344.125\" xlink:href=\"#DejaVuSans-99\"/>\n      <use x=\"399.105469\" xlink:href=\"#DejaVuSans-121\"/>\n     </g>\n    </g>\n   </g>\n   <g id=\"line2d_12\">\n    <path clip-path=\"url(#pd6f716ca94)\" d=\"M 55.821307 214.756364 \nL 59.279985 174.119203 \nL 62.738662 152.315548 \nL 66.19734 137.90666 \nL 69.656018 127.039959 \nL 73.114695 118.502798 \nL 76.573373 111.544829 \nL 80.032051 105.694891 \nL 83.490728 100.459016 \nL 86.949406 95.804164 \nL 90.408084 91.600365 \nL 93.866761 87.819007 \nL 97.325439 84.244645 \nL 100.784117 81.050623 \nL 104.242794 78.107429 \nL 107.701472 75.367412 \nL 111.16015 72.810311 \nL 114.618827 70.40334 \nL 118.077505 68.096303 \nL 121.536183 65.918778 \nL 124.994861 63.921063 \nL 128.453538 62.06401 \nL 131.912216 60.196775 \nL 135.370894 58.46287 \nL 138.829571 56.810775 \nL 142.288249 55.266913 \nL 145.746927 53.814738 \nL 149.205604 52.419835 \nL 152.664282 51.113106 \nL 156.12296 49.824857 \nL 159.581637 48.601059 \nL 163.040315 47.425624 \nL 166.498993 46.286386 \nL 169.95767 45.21506 \nL 173.416348 44.14689 \nL 176.875026 43.12968 \nL 180.333704 42.189699 \nL 183.792381 41.248852 \nL 187.251059 40.340892 \nL 190.709737 39.484096 \nL 194.168414 38.645016 \nL 197.627092 37.854045 \nL 201.08577 37.065772 \nL 204.544447 36.30443 \nL 208.003125 35.576485 \nL 211.461803 34.874808 \nL 214.92048 34.195531 \nL 218.379158 33.547206 \nL 221.837836 32.914969 \nL 225.296513 32.314856 \nL 228.755191 31.706698 \nL 232.213869 31.130257 \nL 235.672546 30.575198 \nL 239.131224 30.051346 \nL 242.589902 29.528461 \nL 246.04858 28.987198 \nL 249.507257 28.478771 \nL 252.965935 27.99422 \nL 256.424613 27.52759 \nL 259.88329 27.052305 \nL 263.341968 26.621921 \nL 266.800646 26.181712 \nL 270.259323 25.751379 \nL 273.718001 25.332196 \nL 277.176679 24.91347 \nL 280.635356 24.517959 \nL 284.094034 24.131205 \nL 287.552712 23.759316 \nL 291.011389 23.373172 \nL 294.470067 23.002657 \nL 297.928745 22.645328 \nL 301.387423 22.300115 \nL 304.8461 21.971753 \nL 308.304778 21.639216 \nL 311.763456 21.328672 \nL 315.222133 21.01599 \nL 318.680811 20.702697 \nL 322.139489 20.392662 \nL 325.598166 20.08507 \nL 329.056844 19.793617 \nL 332.515522 19.505422 \nL 335.974199 19.232143 \nL 339.432877 18.95749 \nL 342.891555 18.691236 \nL 346.350232 18.431143 \nL 349.80891 18.171406 \nL 353.267588 17.914978 \nL 356.726265 17.658652 \nL 360.184943 17.408486 \n\" style=\"fill:none;stroke:#ff0000;stroke-linecap:square;stroke-width:1.5;\"/>\n   </g>\n   <g id=\"line2d_13\">\n    <path clip-path=\"url(#pd6f716ca94)\" d=\"M 55.821307 179.550976 \nL 59.279985 155.601206 \nL 62.738662 140.040047 \nL 66.19734 128.486433 \nL 69.656018 119.55096 \nL 73.114695 112.32852 \nL 76.573373 106.258452 \nL 80.032051 100.953138 \nL 83.490728 96.172592 \nL 86.949406 91.909076 \nL 90.408084 88.094424 \nL 93.866761 84.454797 \nL 97.325439 81.195102 \nL 100.784117 78.209094 \nL 104.242794 75.423259 \nL 107.701472 72.860049 \nL 111.16015 70.401558 \nL 114.618827 68.132652 \nL 118.077505 65.914247 \nL 121.536183 63.890111 \nL 124.994861 62.024861 \nL 128.453538 60.146222 \nL 131.912216 58.423313 \nL 135.370894 56.746528 \nL 138.829571 55.198644 \nL 142.288249 53.746622 \nL 145.746927 52.332984 \nL 149.205604 51.020197 \nL 152.664282 49.7096 \nL 156.12296 48.50418 \nL 159.581637 47.324927 \nL 163.040315 46.202284 \nL 166.498993 45.116704 \nL 169.95767 44.061567 \nL 173.416348 43.037331 \nL 176.875026 42.082637 \nL 180.333704 41.154009 \nL 183.792381 40.249155 \nL 187.251059 39.381057 \nL 190.709737 38.546457 \nL 194.168414 37.754213 \nL 197.627092 36.966246 \nL 201.08577 36.203275 \nL 204.544447 35.470085 \nL 208.003125 34.775994 \nL 211.461803 34.088266 \nL 214.92048 33.444625 \nL 218.379158 32.808213 \nL 221.837836 32.20026 \nL 225.296513 31.608546 \nL 228.755191 31.0178 \nL 232.213869 30.471038 \nL 235.672546 29.945506 \nL 239.131224 29.426083 \nL 242.589902 28.89546 \nL 246.04858 28.379397 \nL 249.507257 27.894795 \nL 252.965935 27.420936 \nL 256.424613 26.956494 \nL 259.88329 26.516081 \nL 263.341968 26.085749 \nL 266.800646 25.649816 \nL 270.259323 25.236844 \nL 273.718001 24.81822 \nL 277.176679 24.424134 \nL 280.635356 24.036769 \nL 284.094034 23.661112 \nL 287.552712 23.283267 \nL 291.011389 22.91321 \nL 294.470067 22.554303 \nL 297.928745 22.20405 \nL 301.387423 21.875026 \nL 304.8461 21.547987 \nL 308.304778 21.233421 \nL 311.763456 20.924659 \nL 315.222133 20.615795 \nL 318.680811 20.303724 \nL 322.139489 19.995369 \nL 325.598166 19.70697 \nL 329.056844 19.417706 \nL 332.515522 19.140151 \nL 335.974199 18.868908 \nL 339.432877 18.601891 \nL 342.891555 18.344293 \nL 346.350232 18.08817 \nL 349.80891 17.832709 \nL 353.267588 17.578216 \nL 356.726265 17.325963 \nL 360.184943 17.083636 \n\" style=\"fill:none;stroke:#0000ff;stroke-linecap:square;stroke-width:1.5;\"/>\n   </g>\n   <g id=\"patch_3\">\n    <path d=\"M 40.603125 224.64 \nL 40.603125 7.2 \n\" style=\"fill:none;stroke:#000000;stroke-linecap:square;stroke-linejoin:miter;stroke-width:0.8;\"/>\n   </g>\n   <g id=\"patch_4\">\n    <path d=\"M 375.403125 224.64 \nL 375.403125 7.2 \n\" style=\"fill:none;stroke:#000000;stroke-linecap:square;stroke-linejoin:miter;stroke-width:0.8;\"/>\n   </g>\n   <g id=\"patch_5\">\n    <path d=\"M 40.603125 224.64 \nL 375.403125 224.64 \n\" style=\"fill:none;stroke:#000000;stroke-linecap:square;stroke-linejoin:miter;stroke-width:0.8;\"/>\n   </g>\n   <g id=\"patch_6\">\n    <path d=\"M 40.603125 7.2 \nL 375.403125 7.2 \n\" style=\"fill:none;stroke:#000000;stroke-linecap:square;stroke-linejoin:miter;stroke-width:0.8;\"/>\n   </g>\n   <g id=\"legend_1\">\n    <g id=\"patch_7\">\n     <path d=\"M 47.603125 44.55625 \nL 105.04375 44.55625 \nQ 107.04375 44.55625 107.04375 42.55625 \nL 107.04375 14.2 \nQ 107.04375 12.2 105.04375 12.2 \nL 47.603125 12.2 \nQ 45.603125 12.2 45.603125 14.2 \nL 45.603125 42.55625 \nQ 45.603125 44.55625 47.603125 44.55625 \nz\n\" style=\"fill:#ffffff;opacity:0.8;stroke:#cccccc;stroke-linejoin:miter;\"/>\n    </g>\n    <g id=\"line2d_14\">\n     <path d=\"M 49.603125 20.298437 \nL 69.603125 20.298437 \n\" style=\"fill:none;stroke:#ff0000;stroke-linecap:square;stroke-width:1.5;\"/>\n    </g>\n    <g id=\"line2d_15\"/>\n    <g id=\"text_14\">\n     <!-- Train -->\n     <defs>\n      <path d=\"M -0.296875 72.90625 \nL 61.375 72.90625 \nL 61.375 64.59375 \nL 35.5 64.59375 \nL 35.5 0 \nL 25.59375 0 \nL 25.59375 64.59375 \nL -0.296875 64.59375 \nz\n\" id=\"DejaVuSans-84\"/>\n      <path d=\"M 9.421875 54.6875 \nL 18.40625 54.6875 \nL 18.40625 0 \nL 9.421875 0 \nz\nM 9.421875 75.984375 \nL 18.40625 75.984375 \nL 18.40625 64.59375 \nL 9.421875 64.59375 \nz\n\" id=\"DejaVuSans-105\"/>\n      <path d=\"M 54.890625 33.015625 \nL 54.890625 0 \nL 45.90625 0 \nL 45.90625 32.71875 \nQ 45.90625 40.484375 42.875 44.328125 \nQ 39.84375 48.1875 33.796875 48.1875 \nQ 26.515625 48.1875 22.3125 43.546875 \nQ 18.109375 38.921875 18.109375 30.90625 \nL 18.109375 0 \nL 9.078125 0 \nL 9.078125 54.6875 \nL 18.109375 54.6875 \nL 18.109375 46.1875 \nQ 21.34375 51.125 25.703125 53.5625 \nQ 30.078125 56 35.796875 56 \nQ 45.21875 56 50.046875 50.171875 \nQ 54.890625 44.34375 54.890625 33.015625 \nz\n\" id=\"DejaVuSans-110\"/>\n     </defs>\n     <g transform=\"translate(77.603125 23.798437)scale(0.1 -0.1)\">\n      <use xlink:href=\"#DejaVuSans-84\"/>\n      <use x=\"60.865234\" xlink:href=\"#DejaVuSans-114\"/>\n      <use x=\"101.978516\" xlink:href=\"#DejaVuSans-97\"/>\n      <use x=\"163.257812\" xlink:href=\"#DejaVuSans-105\"/>\n      <use x=\"191.041016\" xlink:href=\"#DejaVuSans-110\"/>\n     </g>\n    </g>\n    <g id=\"line2d_16\">\n     <path d=\"M 49.603125 34.976562 \nL 69.603125 34.976562 \n\" style=\"fill:none;stroke:#0000ff;stroke-linecap:square;stroke-width:1.5;\"/>\n    </g>\n    <g id=\"line2d_17\"/>\n    <g id=\"text_15\">\n     <!-- Val -->\n     <defs>\n      <path d=\"M 28.609375 0 \nL 0.78125 72.90625 \nL 11.078125 72.90625 \nL 34.1875 11.53125 \nL 57.328125 72.90625 \nL 67.578125 72.90625 \nL 39.796875 0 \nz\n\" id=\"DejaVuSans-86\"/>\n      <path d=\"M 9.421875 75.984375 \nL 18.40625 75.984375 \nL 18.40625 0 \nL 9.421875 0 \nz\n\" id=\"DejaVuSans-108\"/>\n     </defs>\n     <g transform=\"translate(77.603125 38.476562)scale(0.1 -0.1)\">\n      <use xlink:href=\"#DejaVuSans-86\"/>\n      <use x=\"68.298828\" xlink:href=\"#DejaVuSans-97\"/>\n      <use x=\"129.578125\" xlink:href=\"#DejaVuSans-108\"/>\n     </g>\n    </g>\n   </g>\n  </g>\n </g>\n <defs>\n  <clipPath id=\"pd6f716ca94\">\n   <rect height=\"217.44\" width=\"334.8\" x=\"40.603125\" y=\"7.2\"/>\n  </clipPath>\n </defs>\n</svg>\n"
          },
          "metadata": {
            "tags": []
          }
        }
      ]
    },
    {
      "cell_type": "code",
      "metadata": {
        "id": "SxoQon-Yj0po",
        "colab_type": "code",
        "outputId": "64cc1437-0174-4800-8af6-5ce54ea42527",
        "colab": {
          "base_uri": "https://localhost:8080/",
          "height": 371
        }
      },
      "source": [
        "plt.xlabel(\"Epochs\")\n",
        "plt.ylabel(\"Losses\")\n",
        "plt.plot(ep_adamw_losses, 'r', label='Train')\n",
        "plt.plot(ep_adamw_lossesv, 'b', label='Val')\n",
        "plt.legend()\n",
        "plt.savefig('adamw_resnet18_9278_loss.jpg')"
      ],
      "execution_count": 0,
      "outputs": [
        {
          "output_type": "display_data",
          "data": {
            "text/plain": [
              "<Figure size 432x288 with 1 Axes>"
            ],
            "image/svg+xml": "<?xml version=\"1.0\" encoding=\"utf-8\" standalone=\"no\"?>\n<!DOCTYPE svg PUBLIC \"-//W3C//DTD SVG 1.1//EN\"\n  \"http://www.w3.org/Graphics/SVG/1.1/DTD/svg11.dtd\">\n<!-- Created with matplotlib (https://matplotlib.org/) -->\n<svg height=\"262.19625pt\" version=\"1.1\" viewBox=\"0 0 385.78125 262.19625\" width=\"385.78125pt\" xmlns=\"http://www.w3.org/2000/svg\" xmlns:xlink=\"http://www.w3.org/1999/xlink\">\n <defs>\n  <style type=\"text/css\">\n*{stroke-linecap:butt;stroke-linejoin:round;}\n  </style>\n </defs>\n <g id=\"figure_1\">\n  <g id=\"patch_1\">\n   <path d=\"M 0 262.19625 \nL 385.78125 262.19625 \nL 385.78125 0 \nL 0 0 \nz\n\" style=\"fill:none;\"/>\n  </g>\n  <g id=\"axes_1\">\n   <g id=\"patch_2\">\n    <path d=\"M 43.78125 224.64 \nL 378.58125 224.64 \nL 378.58125 7.2 \nL 43.78125 7.2 \nz\n\" style=\"fill:#ffffff;\"/>\n   </g>\n   <g id=\"matplotlib.axis_1\">\n    <g id=\"xtick_1\">\n     <g id=\"line2d_1\">\n      <defs>\n       <path d=\"M 0 0 \nL 0 3.5 \n\" id=\"mecc3c16cdf\" style=\"stroke:#000000;stroke-width:0.8;\"/>\n      </defs>\n      <g>\n       <use style=\"stroke:#000000;stroke-width:0.8;\" x=\"58.999432\" xlink:href=\"#mecc3c16cdf\" y=\"224.64\"/>\n      </g>\n     </g>\n     <g id=\"text_1\">\n      <!-- 0 -->\n      <defs>\n       <path d=\"M 31.78125 66.40625 \nQ 24.171875 66.40625 20.328125 58.90625 \nQ 16.5 51.421875 16.5 36.375 \nQ 16.5 21.390625 20.328125 13.890625 \nQ 24.171875 6.390625 31.78125 6.390625 \nQ 39.453125 6.390625 43.28125 13.890625 \nQ 47.125 21.390625 47.125 36.375 \nQ 47.125 51.421875 43.28125 58.90625 \nQ 39.453125 66.40625 31.78125 66.40625 \nz\nM 31.78125 74.21875 \nQ 44.046875 74.21875 50.515625 64.515625 \nQ 56.984375 54.828125 56.984375 36.375 \nQ 56.984375 17.96875 50.515625 8.265625 \nQ 44.046875 -1.421875 31.78125 -1.421875 \nQ 19.53125 -1.421875 13.0625 8.265625 \nQ 6.59375 17.96875 6.59375 36.375 \nQ 6.59375 54.828125 13.0625 64.515625 \nQ 19.53125 74.21875 31.78125 74.21875 \nz\n\" id=\"DejaVuSans-48\"/>\n      </defs>\n      <g transform=\"translate(55.818182 239.238437)scale(0.1 -0.1)\">\n       <use xlink:href=\"#DejaVuSans-48\"/>\n      </g>\n     </g>\n    </g>\n    <g id=\"xtick_2\">\n     <g id=\"line2d_2\">\n      <g>\n       <use style=\"stroke:#000000;stroke-width:0.8;\" x=\"128.172986\" xlink:href=\"#mecc3c16cdf\" y=\"224.64\"/>\n      </g>\n     </g>\n     <g id=\"text_2\">\n      <!-- 20 -->\n      <defs>\n       <path d=\"M 19.1875 8.296875 \nL 53.609375 8.296875 \nL 53.609375 0 \nL 7.328125 0 \nL 7.328125 8.296875 \nQ 12.9375 14.109375 22.625 23.890625 \nQ 32.328125 33.6875 34.8125 36.53125 \nQ 39.546875 41.84375 41.421875 45.53125 \nQ 43.3125 49.21875 43.3125 52.78125 \nQ 43.3125 58.59375 39.234375 62.25 \nQ 35.15625 65.921875 28.609375 65.921875 \nQ 23.96875 65.921875 18.8125 64.3125 \nQ 13.671875 62.703125 7.8125 59.421875 \nL 7.8125 69.390625 \nQ 13.765625 71.78125 18.9375 73 \nQ 24.125 74.21875 28.421875 74.21875 \nQ 39.75 74.21875 46.484375 68.546875 \nQ 53.21875 62.890625 53.21875 53.421875 \nQ 53.21875 48.921875 51.53125 44.890625 \nQ 49.859375 40.875 45.40625 35.40625 \nQ 44.1875 33.984375 37.640625 27.21875 \nQ 31.109375 20.453125 19.1875 8.296875 \nz\n\" id=\"DejaVuSans-50\"/>\n      </defs>\n      <g transform=\"translate(121.810486 239.238437)scale(0.1 -0.1)\">\n       <use xlink:href=\"#DejaVuSans-50\"/>\n       <use x=\"63.623047\" xlink:href=\"#DejaVuSans-48\"/>\n      </g>\n     </g>\n    </g>\n    <g id=\"xtick_3\">\n     <g id=\"line2d_3\">\n      <g>\n       <use style=\"stroke:#000000;stroke-width:0.8;\" x=\"197.346539\" xlink:href=\"#mecc3c16cdf\" y=\"224.64\"/>\n      </g>\n     </g>\n     <g id=\"text_3\">\n      <!-- 40 -->\n      <defs>\n       <path d=\"M 37.796875 64.3125 \nL 12.890625 25.390625 \nL 37.796875 25.390625 \nz\nM 35.203125 72.90625 \nL 47.609375 72.90625 \nL 47.609375 25.390625 \nL 58.015625 25.390625 \nL 58.015625 17.1875 \nL 47.609375 17.1875 \nL 47.609375 0 \nL 37.796875 0 \nL 37.796875 17.1875 \nL 4.890625 17.1875 \nL 4.890625 26.703125 \nz\n\" id=\"DejaVuSans-52\"/>\n      </defs>\n      <g transform=\"translate(190.984039 239.238437)scale(0.1 -0.1)\">\n       <use xlink:href=\"#DejaVuSans-52\"/>\n       <use x=\"63.623047\" xlink:href=\"#DejaVuSans-48\"/>\n      </g>\n     </g>\n    </g>\n    <g id=\"xtick_4\">\n     <g id=\"line2d_4\">\n      <g>\n       <use style=\"stroke:#000000;stroke-width:0.8;\" x=\"266.520093\" xlink:href=\"#mecc3c16cdf\" y=\"224.64\"/>\n      </g>\n     </g>\n     <g id=\"text_4\">\n      <!-- 60 -->\n      <defs>\n       <path d=\"M 33.015625 40.375 \nQ 26.375 40.375 22.484375 35.828125 \nQ 18.609375 31.296875 18.609375 23.390625 \nQ 18.609375 15.53125 22.484375 10.953125 \nQ 26.375 6.390625 33.015625 6.390625 \nQ 39.65625 6.390625 43.53125 10.953125 \nQ 47.40625 15.53125 47.40625 23.390625 \nQ 47.40625 31.296875 43.53125 35.828125 \nQ 39.65625 40.375 33.015625 40.375 \nz\nM 52.59375 71.296875 \nL 52.59375 62.3125 \nQ 48.875 64.0625 45.09375 64.984375 \nQ 41.3125 65.921875 37.59375 65.921875 \nQ 27.828125 65.921875 22.671875 59.328125 \nQ 17.53125 52.734375 16.796875 39.40625 \nQ 19.671875 43.65625 24.015625 45.921875 \nQ 28.375 48.1875 33.59375 48.1875 \nQ 44.578125 48.1875 50.953125 41.515625 \nQ 57.328125 34.859375 57.328125 23.390625 \nQ 57.328125 12.15625 50.6875 5.359375 \nQ 44.046875 -1.421875 33.015625 -1.421875 \nQ 20.359375 -1.421875 13.671875 8.265625 \nQ 6.984375 17.96875 6.984375 36.375 \nQ 6.984375 53.65625 15.1875 63.9375 \nQ 23.390625 74.21875 37.203125 74.21875 \nQ 40.921875 74.21875 44.703125 73.484375 \nQ 48.484375 72.75 52.59375 71.296875 \nz\n\" id=\"DejaVuSans-54\"/>\n      </defs>\n      <g transform=\"translate(260.157593 239.238437)scale(0.1 -0.1)\">\n       <use xlink:href=\"#DejaVuSans-54\"/>\n       <use x=\"63.623047\" xlink:href=\"#DejaVuSans-48\"/>\n      </g>\n     </g>\n    </g>\n    <g id=\"xtick_5\">\n     <g id=\"line2d_5\">\n      <g>\n       <use style=\"stroke:#000000;stroke-width:0.8;\" x=\"335.693647\" xlink:href=\"#mecc3c16cdf\" y=\"224.64\"/>\n      </g>\n     </g>\n     <g id=\"text_5\">\n      <!-- 80 -->\n      <defs>\n       <path d=\"M 31.78125 34.625 \nQ 24.75 34.625 20.71875 30.859375 \nQ 16.703125 27.09375 16.703125 20.515625 \nQ 16.703125 13.921875 20.71875 10.15625 \nQ 24.75 6.390625 31.78125 6.390625 \nQ 38.8125 6.390625 42.859375 10.171875 \nQ 46.921875 13.96875 46.921875 20.515625 \nQ 46.921875 27.09375 42.890625 30.859375 \nQ 38.875 34.625 31.78125 34.625 \nz\nM 21.921875 38.8125 \nQ 15.578125 40.375 12.03125 44.71875 \nQ 8.5 49.078125 8.5 55.328125 \nQ 8.5 64.0625 14.71875 69.140625 \nQ 20.953125 74.21875 31.78125 74.21875 \nQ 42.671875 74.21875 48.875 69.140625 \nQ 55.078125 64.0625 55.078125 55.328125 \nQ 55.078125 49.078125 51.53125 44.71875 \nQ 48 40.375 41.703125 38.8125 \nQ 48.828125 37.15625 52.796875 32.3125 \nQ 56.78125 27.484375 56.78125 20.515625 \nQ 56.78125 9.90625 50.3125 4.234375 \nQ 43.84375 -1.421875 31.78125 -1.421875 \nQ 19.734375 -1.421875 13.25 4.234375 \nQ 6.78125 9.90625 6.78125 20.515625 \nQ 6.78125 27.484375 10.78125 32.3125 \nQ 14.796875 37.15625 21.921875 38.8125 \nz\nM 18.3125 54.390625 \nQ 18.3125 48.734375 21.84375 45.5625 \nQ 25.390625 42.390625 31.78125 42.390625 \nQ 38.140625 42.390625 41.71875 45.5625 \nQ 45.3125 48.734375 45.3125 54.390625 \nQ 45.3125 60.0625 41.71875 63.234375 \nQ 38.140625 66.40625 31.78125 66.40625 \nQ 25.390625 66.40625 21.84375 63.234375 \nQ 18.3125 60.0625 18.3125 54.390625 \nz\n\" id=\"DejaVuSans-56\"/>\n      </defs>\n      <g transform=\"translate(329.331147 239.238437)scale(0.1 -0.1)\">\n       <use xlink:href=\"#DejaVuSans-56\"/>\n       <use x=\"63.623047\" xlink:href=\"#DejaVuSans-48\"/>\n      </g>\n     </g>\n    </g>\n    <g id=\"text_6\">\n     <!-- Epochs -->\n     <defs>\n      <path d=\"M 9.8125 72.90625 \nL 55.90625 72.90625 \nL 55.90625 64.59375 \nL 19.671875 64.59375 \nL 19.671875 43.015625 \nL 54.390625 43.015625 \nL 54.390625 34.71875 \nL 19.671875 34.71875 \nL 19.671875 8.296875 \nL 56.78125 8.296875 \nL 56.78125 0 \nL 9.8125 0 \nz\n\" id=\"DejaVuSans-69\"/>\n      <path d=\"M 18.109375 8.203125 \nL 18.109375 -20.796875 \nL 9.078125 -20.796875 \nL 9.078125 54.6875 \nL 18.109375 54.6875 \nL 18.109375 46.390625 \nQ 20.953125 51.265625 25.265625 53.625 \nQ 29.59375 56 35.59375 56 \nQ 45.5625 56 51.78125 48.09375 \nQ 58.015625 40.1875 58.015625 27.296875 \nQ 58.015625 14.40625 51.78125 6.484375 \nQ 45.5625 -1.421875 35.59375 -1.421875 \nQ 29.59375 -1.421875 25.265625 0.953125 \nQ 20.953125 3.328125 18.109375 8.203125 \nz\nM 48.6875 27.296875 \nQ 48.6875 37.203125 44.609375 42.84375 \nQ 40.53125 48.484375 33.40625 48.484375 \nQ 26.265625 48.484375 22.1875 42.84375 \nQ 18.109375 37.203125 18.109375 27.296875 \nQ 18.109375 17.390625 22.1875 11.75 \nQ 26.265625 6.109375 33.40625 6.109375 \nQ 40.53125 6.109375 44.609375 11.75 \nQ 48.6875 17.390625 48.6875 27.296875 \nz\n\" id=\"DejaVuSans-112\"/>\n      <path d=\"M 30.609375 48.390625 \nQ 23.390625 48.390625 19.1875 42.75 \nQ 14.984375 37.109375 14.984375 27.296875 \nQ 14.984375 17.484375 19.15625 11.84375 \nQ 23.34375 6.203125 30.609375 6.203125 \nQ 37.796875 6.203125 41.984375 11.859375 \nQ 46.1875 17.53125 46.1875 27.296875 \nQ 46.1875 37.015625 41.984375 42.703125 \nQ 37.796875 48.390625 30.609375 48.390625 \nz\nM 30.609375 56 \nQ 42.328125 56 49.015625 48.375 \nQ 55.71875 40.765625 55.71875 27.296875 \nQ 55.71875 13.875 49.015625 6.21875 \nQ 42.328125 -1.421875 30.609375 -1.421875 \nQ 18.84375 -1.421875 12.171875 6.21875 \nQ 5.515625 13.875 5.515625 27.296875 \nQ 5.515625 40.765625 12.171875 48.375 \nQ 18.84375 56 30.609375 56 \nz\n\" id=\"DejaVuSans-111\"/>\n      <path d=\"M 48.78125 52.59375 \nL 48.78125 44.1875 \nQ 44.96875 46.296875 41.140625 47.34375 \nQ 37.3125 48.390625 33.40625 48.390625 \nQ 24.65625 48.390625 19.8125 42.84375 \nQ 14.984375 37.3125 14.984375 27.296875 \nQ 14.984375 17.28125 19.8125 11.734375 \nQ 24.65625 6.203125 33.40625 6.203125 \nQ 37.3125 6.203125 41.140625 7.25 \nQ 44.96875 8.296875 48.78125 10.40625 \nL 48.78125 2.09375 \nQ 45.015625 0.34375 40.984375 -0.53125 \nQ 36.96875 -1.421875 32.421875 -1.421875 \nQ 20.0625 -1.421875 12.78125 6.34375 \nQ 5.515625 14.109375 5.515625 27.296875 \nQ 5.515625 40.671875 12.859375 48.328125 \nQ 20.21875 56 33.015625 56 \nQ 37.15625 56 41.109375 55.140625 \nQ 45.0625 54.296875 48.78125 52.59375 \nz\n\" id=\"DejaVuSans-99\"/>\n      <path d=\"M 54.890625 33.015625 \nL 54.890625 0 \nL 45.90625 0 \nL 45.90625 32.71875 \nQ 45.90625 40.484375 42.875 44.328125 \nQ 39.84375 48.1875 33.796875 48.1875 \nQ 26.515625 48.1875 22.3125 43.546875 \nQ 18.109375 38.921875 18.109375 30.90625 \nL 18.109375 0 \nL 9.078125 0 \nL 9.078125 75.984375 \nL 18.109375 75.984375 \nL 18.109375 46.1875 \nQ 21.34375 51.125 25.703125 53.5625 \nQ 30.078125 56 35.796875 56 \nQ 45.21875 56 50.046875 50.171875 \nQ 54.890625 44.34375 54.890625 33.015625 \nz\n\" id=\"DejaVuSans-104\"/>\n      <path d=\"M 44.28125 53.078125 \nL 44.28125 44.578125 \nQ 40.484375 46.53125 36.375 47.5 \nQ 32.28125 48.484375 27.875 48.484375 \nQ 21.1875 48.484375 17.84375 46.4375 \nQ 14.5 44.390625 14.5 40.28125 \nQ 14.5 37.15625 16.890625 35.375 \nQ 19.28125 33.59375 26.515625 31.984375 \nL 29.59375 31.296875 \nQ 39.15625 29.25 43.1875 25.515625 \nQ 47.21875 21.78125 47.21875 15.09375 \nQ 47.21875 7.46875 41.1875 3.015625 \nQ 35.15625 -1.421875 24.609375 -1.421875 \nQ 20.21875 -1.421875 15.453125 -0.5625 \nQ 10.6875 0.296875 5.421875 2 \nL 5.421875 11.28125 \nQ 10.40625 8.6875 15.234375 7.390625 \nQ 20.0625 6.109375 24.8125 6.109375 \nQ 31.15625 6.109375 34.5625 8.28125 \nQ 37.984375 10.453125 37.984375 14.40625 \nQ 37.984375 18.0625 35.515625 20.015625 \nQ 33.0625 21.96875 24.703125 23.78125 \nL 21.578125 24.515625 \nQ 13.234375 26.265625 9.515625 29.90625 \nQ 5.8125 33.546875 5.8125 39.890625 \nQ 5.8125 47.609375 11.28125 51.796875 \nQ 16.75 56 26.8125 56 \nQ 31.78125 56 36.171875 55.265625 \nQ 40.578125 54.546875 44.28125 53.078125 \nz\n\" id=\"DejaVuSans-115\"/>\n     </defs>\n     <g transform=\"translate(193.265625 252.916562)scale(0.1 -0.1)\">\n      <use xlink:href=\"#DejaVuSans-69\"/>\n      <use x=\"63.183594\" xlink:href=\"#DejaVuSans-112\"/>\n      <use x=\"126.660156\" xlink:href=\"#DejaVuSans-111\"/>\n      <use x=\"187.841797\" xlink:href=\"#DejaVuSans-99\"/>\n      <use x=\"242.822266\" xlink:href=\"#DejaVuSans-104\"/>\n      <use x=\"306.201172\" xlink:href=\"#DejaVuSans-115\"/>\n     </g>\n    </g>\n   </g>\n   <g id=\"matplotlib.axis_2\">\n    <g id=\"ytick_1\">\n     <g id=\"line2d_6\">\n      <defs>\n       <path d=\"M 0 0 \nL -3.5 0 \n\" id=\"m57a715c2e4\" style=\"stroke:#000000;stroke-width:0.8;\"/>\n      </defs>\n      <g>\n       <use style=\"stroke:#000000;stroke-width:0.8;\" x=\"43.78125\" xlink:href=\"#m57a715c2e4\" y=\"219.895247\"/>\n      </g>\n     </g>\n     <g id=\"text_7\">\n      <!-- 0.0 -->\n      <defs>\n       <path d=\"M 10.6875 12.40625 \nL 21 12.40625 \nL 21 0 \nL 10.6875 0 \nz\n\" id=\"DejaVuSans-46\"/>\n      </defs>\n      <g transform=\"translate(20.878125 223.694466)scale(0.1 -0.1)\">\n       <use xlink:href=\"#DejaVuSans-48\"/>\n       <use x=\"63.623047\" xlink:href=\"#DejaVuSans-46\"/>\n       <use x=\"95.410156\" xlink:href=\"#DejaVuSans-48\"/>\n      </g>\n     </g>\n    </g>\n    <g id=\"ytick_2\">\n     <g id=\"line2d_7\">\n      <g>\n       <use style=\"stroke:#000000;stroke-width:0.8;\" x=\"43.78125\" xlink:href=\"#m57a715c2e4\" y=\"192.201405\"/>\n      </g>\n     </g>\n     <g id=\"text_8\">\n      <!-- 0.1 -->\n      <defs>\n       <path d=\"M 12.40625 8.296875 \nL 28.515625 8.296875 \nL 28.515625 63.921875 \nL 10.984375 60.40625 \nL 10.984375 69.390625 \nL 28.421875 72.90625 \nL 38.28125 72.90625 \nL 38.28125 8.296875 \nL 54.390625 8.296875 \nL 54.390625 0 \nL 12.40625 0 \nz\n\" id=\"DejaVuSans-49\"/>\n      </defs>\n      <g transform=\"translate(20.878125 196.000623)scale(0.1 -0.1)\">\n       <use xlink:href=\"#DejaVuSans-48\"/>\n       <use x=\"63.623047\" xlink:href=\"#DejaVuSans-46\"/>\n       <use x=\"95.410156\" xlink:href=\"#DejaVuSans-49\"/>\n      </g>\n     </g>\n    </g>\n    <g id=\"ytick_3\">\n     <g id=\"line2d_8\">\n      <g>\n       <use style=\"stroke:#000000;stroke-width:0.8;\" x=\"43.78125\" xlink:href=\"#m57a715c2e4\" y=\"164.507562\"/>\n      </g>\n     </g>\n     <g id=\"text_9\">\n      <!-- 0.2 -->\n      <g transform=\"translate(20.878125 168.306781)scale(0.1 -0.1)\">\n       <use xlink:href=\"#DejaVuSans-48\"/>\n       <use x=\"63.623047\" xlink:href=\"#DejaVuSans-46\"/>\n       <use x=\"95.410156\" xlink:href=\"#DejaVuSans-50\"/>\n      </g>\n     </g>\n    </g>\n    <g id=\"ytick_4\">\n     <g id=\"line2d_9\">\n      <g>\n       <use style=\"stroke:#000000;stroke-width:0.8;\" x=\"43.78125\" xlink:href=\"#m57a715c2e4\" y=\"136.81372\"/>\n      </g>\n     </g>\n     <g id=\"text_10\">\n      <!-- 0.3 -->\n      <defs>\n       <path d=\"M 40.578125 39.3125 \nQ 47.65625 37.796875 51.625 33 \nQ 55.609375 28.21875 55.609375 21.1875 \nQ 55.609375 10.40625 48.1875 4.484375 \nQ 40.765625 -1.421875 27.09375 -1.421875 \nQ 22.515625 -1.421875 17.65625 -0.515625 \nQ 12.796875 0.390625 7.625 2.203125 \nL 7.625 11.71875 \nQ 11.71875 9.328125 16.59375 8.109375 \nQ 21.484375 6.890625 26.8125 6.890625 \nQ 36.078125 6.890625 40.9375 10.546875 \nQ 45.796875 14.203125 45.796875 21.1875 \nQ 45.796875 27.640625 41.28125 31.265625 \nQ 36.765625 34.90625 28.71875 34.90625 \nL 20.21875 34.90625 \nL 20.21875 43.015625 \nL 29.109375 43.015625 \nQ 36.375 43.015625 40.234375 45.921875 \nQ 44.09375 48.828125 44.09375 54.296875 \nQ 44.09375 59.90625 40.109375 62.90625 \nQ 36.140625 65.921875 28.71875 65.921875 \nQ 24.65625 65.921875 20.015625 65.03125 \nQ 15.375 64.15625 9.8125 62.3125 \nL 9.8125 71.09375 \nQ 15.4375 72.65625 20.34375 73.4375 \nQ 25.25 74.21875 29.59375 74.21875 \nQ 40.828125 74.21875 47.359375 69.109375 \nQ 53.90625 64.015625 53.90625 55.328125 \nQ 53.90625 49.265625 50.4375 45.09375 \nQ 46.96875 40.921875 40.578125 39.3125 \nz\n\" id=\"DejaVuSans-51\"/>\n      </defs>\n      <g transform=\"translate(20.878125 140.612939)scale(0.1 -0.1)\">\n       <use xlink:href=\"#DejaVuSans-48\"/>\n       <use x=\"63.623047\" xlink:href=\"#DejaVuSans-46\"/>\n       <use x=\"95.410156\" xlink:href=\"#DejaVuSans-51\"/>\n      </g>\n     </g>\n    </g>\n    <g id=\"ytick_5\">\n     <g id=\"line2d_10\">\n      <g>\n       <use style=\"stroke:#000000;stroke-width:0.8;\" x=\"43.78125\" xlink:href=\"#m57a715c2e4\" y=\"109.119877\"/>\n      </g>\n     </g>\n     <g id=\"text_11\">\n      <!-- 0.4 -->\n      <g transform=\"translate(20.878125 112.919096)scale(0.1 -0.1)\">\n       <use xlink:href=\"#DejaVuSans-48\"/>\n       <use x=\"63.623047\" xlink:href=\"#DejaVuSans-46\"/>\n       <use x=\"95.410156\" xlink:href=\"#DejaVuSans-52\"/>\n      </g>\n     </g>\n    </g>\n    <g id=\"ytick_6\">\n     <g id=\"line2d_11\">\n      <g>\n       <use style=\"stroke:#000000;stroke-width:0.8;\" x=\"43.78125\" xlink:href=\"#m57a715c2e4\" y=\"81.426035\"/>\n      </g>\n     </g>\n     <g id=\"text_12\">\n      <!-- 0.5 -->\n      <defs>\n       <path d=\"M 10.796875 72.90625 \nL 49.515625 72.90625 \nL 49.515625 64.59375 \nL 19.828125 64.59375 \nL 19.828125 46.734375 \nQ 21.96875 47.46875 24.109375 47.828125 \nQ 26.265625 48.1875 28.421875 48.1875 \nQ 40.625 48.1875 47.75 41.5 \nQ 54.890625 34.8125 54.890625 23.390625 \nQ 54.890625 11.625 47.5625 5.09375 \nQ 40.234375 -1.421875 26.90625 -1.421875 \nQ 22.3125 -1.421875 17.546875 -0.640625 \nQ 12.796875 0.140625 7.71875 1.703125 \nL 7.71875 11.625 \nQ 12.109375 9.234375 16.796875 8.0625 \nQ 21.484375 6.890625 26.703125 6.890625 \nQ 35.15625 6.890625 40.078125 11.328125 \nQ 45.015625 15.765625 45.015625 23.390625 \nQ 45.015625 31 40.078125 35.4375 \nQ 35.15625 39.890625 26.703125 39.890625 \nQ 22.75 39.890625 18.8125 39.015625 \nQ 14.890625 38.140625 10.796875 36.28125 \nz\n\" id=\"DejaVuSans-53\"/>\n      </defs>\n      <g transform=\"translate(20.878125 85.225254)scale(0.1 -0.1)\">\n       <use xlink:href=\"#DejaVuSans-48\"/>\n       <use x=\"63.623047\" xlink:href=\"#DejaVuSans-46\"/>\n       <use x=\"95.410156\" xlink:href=\"#DejaVuSans-53\"/>\n      </g>\n     </g>\n    </g>\n    <g id=\"ytick_7\">\n     <g id=\"line2d_12\">\n      <g>\n       <use style=\"stroke:#000000;stroke-width:0.8;\" x=\"43.78125\" xlink:href=\"#m57a715c2e4\" y=\"53.732192\"/>\n      </g>\n     </g>\n     <g id=\"text_13\">\n      <!-- 0.6 -->\n      <g transform=\"translate(20.878125 57.531411)scale(0.1 -0.1)\">\n       <use xlink:href=\"#DejaVuSans-48\"/>\n       <use x=\"63.623047\" xlink:href=\"#DejaVuSans-46\"/>\n       <use x=\"95.410156\" xlink:href=\"#DejaVuSans-54\"/>\n      </g>\n     </g>\n    </g>\n    <g id=\"ytick_8\">\n     <g id=\"line2d_13\">\n      <g>\n       <use style=\"stroke:#000000;stroke-width:0.8;\" x=\"43.78125\" xlink:href=\"#m57a715c2e4\" y=\"26.03835\"/>\n      </g>\n     </g>\n     <g id=\"text_14\">\n      <!-- 0.7 -->\n      <defs>\n       <path d=\"M 8.203125 72.90625 \nL 55.078125 72.90625 \nL 55.078125 68.703125 \nL 28.609375 0 \nL 18.3125 0 \nL 43.21875 64.59375 \nL 8.203125 64.59375 \nz\n\" id=\"DejaVuSans-55\"/>\n      </defs>\n      <g transform=\"translate(20.878125 29.837569)scale(0.1 -0.1)\">\n       <use xlink:href=\"#DejaVuSans-48\"/>\n       <use x=\"63.623047\" xlink:href=\"#DejaVuSans-46\"/>\n       <use x=\"95.410156\" xlink:href=\"#DejaVuSans-55\"/>\n      </g>\n     </g>\n    </g>\n    <g id=\"text_15\">\n     <!-- Losses -->\n     <defs>\n      <path d=\"M 9.8125 72.90625 \nL 19.671875 72.90625 \nL 19.671875 8.296875 \nL 55.171875 8.296875 \nL 55.171875 0 \nL 9.8125 0 \nz\n\" id=\"DejaVuSans-76\"/>\n      <path d=\"M 56.203125 29.59375 \nL 56.203125 25.203125 \nL 14.890625 25.203125 \nQ 15.484375 15.921875 20.484375 11.0625 \nQ 25.484375 6.203125 34.421875 6.203125 \nQ 39.59375 6.203125 44.453125 7.46875 \nQ 49.3125 8.734375 54.109375 11.28125 \nL 54.109375 2.78125 \nQ 49.265625 0.734375 44.1875 -0.34375 \nQ 39.109375 -1.421875 33.890625 -1.421875 \nQ 20.796875 -1.421875 13.15625 6.1875 \nQ 5.515625 13.8125 5.515625 26.8125 \nQ 5.515625 40.234375 12.765625 48.109375 \nQ 20.015625 56 32.328125 56 \nQ 43.359375 56 49.78125 48.890625 \nQ 56.203125 41.796875 56.203125 29.59375 \nz\nM 47.21875 32.234375 \nQ 47.125 39.59375 43.09375 43.984375 \nQ 39.0625 48.390625 32.421875 48.390625 \nQ 24.90625 48.390625 20.390625 44.140625 \nQ 15.875 39.890625 15.1875 32.171875 \nz\n\" id=\"DejaVuSans-101\"/>\n     </defs>\n     <g transform=\"translate(14.798438 132.655156)rotate(-90)scale(0.1 -0.1)\">\n      <use xlink:href=\"#DejaVuSans-76\"/>\n      <use x=\"55.697266\" xlink:href=\"#DejaVuSans-111\"/>\n      <use x=\"116.878906\" xlink:href=\"#DejaVuSans-115\"/>\n      <use x=\"168.978516\" xlink:href=\"#DejaVuSans-115\"/>\n      <use x=\"221.078125\" xlink:href=\"#DejaVuSans-101\"/>\n      <use x=\"282.601562\" xlink:href=\"#DejaVuSans-115\"/>\n     </g>\n    </g>\n   </g>\n   <g id=\"line2d_14\">\n    <path clip-path=\"url(#p3c4e3dd634)\" d=\"M 58.999432 17.083636 \nL 62.45811 41.579983 \nL 65.916787 71.028309 \nL 69.375465 133.905009 \nL 72.834143 144.712814 \nL 76.29282 102.646827 \nL 79.751498 129.502336 \nL 83.210176 146.746693 \nL 86.668853 132.480512 \nL 90.127531 133.045524 \nL 93.586209 129.571912 \nL 97.044886 153.961336 \nL 100.503564 129.691033 \nL 103.962242 134.79088 \nL 107.420919 152.557877 \nL 110.879597 147.670184 \nL 114.338275 153.113863 \nL 117.796952 163.905876 \nL 121.25563 161.06582 \nL 124.714308 178.82434 \nL 128.172986 172.731443 \nL 131.631663 160.716317 \nL 135.090341 163.915074 \nL 138.549019 180.237464 \nL 142.007696 171.771188 \nL 145.466374 185.046477 \nL 148.925052 192.446584 \nL 152.383729 199.6672 \nL 155.842407 189.155061 \nL 159.301085 193.511193 \nL 162.759762 182.029584 \nL 166.21844 184.034023 \nL 169.677118 204.961321 \nL 173.135795 190.411618 \nL 176.594473 184.732105 \nL 180.053151 188.838894 \nL 183.511829 191.277487 \nL 186.970506 186.8143 \nL 190.429184 205.763039 \nL 193.887862 199.216131 \nL 197.346539 177.266815 \nL 200.805217 207.691833 \nL 204.263895 206.526775 \nL 207.722572 200.469155 \nL 211.18125 204.622132 \nL 214.639928 189.395652 \nL 218.098605 186.859668 \nL 221.557283 189.405548 \nL 225.015961 211.455802 \nL 228.474638 189.528196 \nL 231.933316 186.28051 \nL 235.391994 195.143305 \nL 238.850671 205.313826 \nL 242.309349 201.300238 \nL 245.768027 197.060596 \nL 249.226705 189.863917 \nL 252.685382 207.745018 \nL 256.14406 195.031845 \nL 259.602738 188.568547 \nL 263.061415 186.424392 \nL 266.520093 212.229363 \nL 269.978771 201.445409 \nL 273.437448 211.741173 \nL 276.896126 193.07491 \nL 280.354804 193.000796 \nL 283.813481 198.055231 \nL 287.272159 195.350787 \nL 290.730837 208.558448 \nL 294.189514 201.452914 \nL 297.648192 214.349893 \nL 301.10687 206.963822 \nL 304.565548 202.586018 \nL 308.024225 208.270737 \nL 311.482903 204.324478 \nL 314.941581 209.746803 \nL 318.400258 194.339035 \nL 321.858936 209.366306 \nL 325.317614 214.756364 \nL 328.776291 202.920633 \nL 332.234969 197.287214 \nL 335.693647 210.640486 \nL 339.152324 210.095335 \nL 342.611002 204.618791 \nL 346.06968 198.900708 \nL 349.528357 206.997991 \nL 352.987035 201.377628 \nL 356.445713 207.281658 \nL 359.90439 205.306136 \nL 363.363068 213.774764 \n\" style=\"fill:none;stroke:#ff0000;stroke-linecap:square;stroke-width:1.5;\"/>\n   </g>\n   <g id=\"line2d_15\">\n    <path clip-path=\"url(#p3c4e3dd634)\" d=\"M 58.999432 73.246462 \nL 62.45811 85.889734 \nL 65.916787 102.954753 \nL 69.375465 97.980036 \nL 72.834143 110.924302 \nL 76.29282 105.654781 \nL 79.751498 117.484309 \nL 83.210176 121.753343 \nL 86.668853 99.203406 \nL 90.127531 108.719676 \nL 93.586209 99.881481 \nL 97.044886 106.611244 \nL 100.503564 112.010244 \nL 103.962242 96.373485 \nL 107.420919 100.173404 \nL 110.879597 108.510337 \nL 114.338275 96.88386 \nL 117.796952 103.943 \nL 121.25563 111.382688 \nL 124.714308 106.338931 \nL 128.172986 128.797272 \nL 131.631663 96.465527 \nL 135.090341 106.091725 \nL 138.549019 106.952555 \nL 142.007696 96.295053 \nL 145.466374 101.509548 \nL 148.925052 107.748118 \nL 152.383729 100.533426 \nL 155.842407 108.254877 \nL 159.301085 66.346629 \nL 162.759762 78.579996 \nL 166.21844 66.796126 \nL 169.677118 44.959869 \nL 173.135795 84.503822 \nL 176.594473 92.57199 \nL 180.053151 92.922933 \nL 183.511829 85.255542 \nL 186.970506 74.345634 \nL 190.429184 79.838162 \nL 193.887862 120.290608 \nL 197.346539 82.764606 \nL 200.805217 107.308195 \nL 204.263895 82.407621 \nL 207.722572 108.675009 \nL 211.18125 104.132993 \nL 214.639928 89.798053 \nL 218.098605 97.18274 \nL 221.557283 98.006587 \nL 225.015961 98.456406 \nL 228.474638 92.324842 \nL 231.933316 99.977386 \nL 235.391994 89.712259 \nL 238.850671 99.223008 \nL 242.309349 94.030797 \nL 245.768027 95.697688 \nL 249.226705 77.157603 \nL 252.685382 88.554116 \nL 256.14406 42.07971 \nL 259.602738 75.116189 \nL 263.061415 50.245847 \nL 266.520093 97.218841 \nL 269.978771 75.743844 \nL 273.437448 90.633644 \nL 276.896126 117.295215 \nL 280.354804 91.200051 \nL 283.813481 80.423015 \nL 287.272159 61.345823 \nL 290.730837 106.039101 \nL 294.189514 121.605087 \nL 297.648192 122.228648 \nL 301.10687 123.849907 \nL 304.565548 104.718506 \nL 308.024225 111.184705 \nL 311.482903 103.120399 \nL 314.941581 78.952604 \nL 318.400258 74.361002 \nL 321.858936 93.69244 \nL 325.317614 115.573356 \nL 328.776291 87.856942 \nL 332.234969 62.148912 \nL 335.693647 96.741274 \nL 339.152324 91.754573 \nL 342.611002 82.778232 \nL 346.06968 78.409513 \nL 349.528357 83.497549 \nL 352.987035 96.911583 \nL 356.445713 97.425423 \nL 359.90439 100.884584 \nL 363.363068 81.326482 \n\" style=\"fill:none;stroke:#0000ff;stroke-linecap:square;stroke-width:1.5;\"/>\n   </g>\n   <g id=\"patch_3\">\n    <path d=\"M 43.78125 224.64 \nL 43.78125 7.2 \n\" style=\"fill:none;stroke:#000000;stroke-linecap:square;stroke-linejoin:miter;stroke-width:0.8;\"/>\n   </g>\n   <g id=\"patch_4\">\n    <path d=\"M 378.58125 224.64 \nL 378.58125 7.2 \n\" style=\"fill:none;stroke:#000000;stroke-linecap:square;stroke-linejoin:miter;stroke-width:0.8;\"/>\n   </g>\n   <g id=\"patch_5\">\n    <path d=\"M 43.78125 224.64 \nL 378.58125 224.64 \n\" style=\"fill:none;stroke:#000000;stroke-linecap:square;stroke-linejoin:miter;stroke-width:0.8;\"/>\n   </g>\n   <g id=\"patch_6\">\n    <path d=\"M 43.78125 7.2 \nL 378.58125 7.2 \n\" style=\"fill:none;stroke:#000000;stroke-linecap:square;stroke-linejoin:miter;stroke-width:0.8;\"/>\n   </g>\n   <g id=\"legend_1\">\n    <g id=\"patch_7\">\n     <path d=\"M 314.140625 44.55625 \nL 371.58125 44.55625 \nQ 373.58125 44.55625 373.58125 42.55625 \nL 373.58125 14.2 \nQ 373.58125 12.2 371.58125 12.2 \nL 314.140625 12.2 \nQ 312.140625 12.2 312.140625 14.2 \nL 312.140625 42.55625 \nQ 312.140625 44.55625 314.140625 44.55625 \nz\n\" style=\"fill:#ffffff;opacity:0.8;stroke:#cccccc;stroke-linejoin:miter;\"/>\n    </g>\n    <g id=\"line2d_16\">\n     <path d=\"M 316.140625 20.298437 \nL 336.140625 20.298437 \n\" style=\"fill:none;stroke:#ff0000;stroke-linecap:square;stroke-width:1.5;\"/>\n    </g>\n    <g id=\"line2d_17\"/>\n    <g id=\"text_16\">\n     <!-- Train -->\n     <defs>\n      <path d=\"M -0.296875 72.90625 \nL 61.375 72.90625 \nL 61.375 64.59375 \nL 35.5 64.59375 \nL 35.5 0 \nL 25.59375 0 \nL 25.59375 64.59375 \nL -0.296875 64.59375 \nz\n\" id=\"DejaVuSans-84\"/>\n      <path d=\"M 41.109375 46.296875 \nQ 39.59375 47.171875 37.8125 47.578125 \nQ 36.03125 48 33.890625 48 \nQ 26.265625 48 22.1875 43.046875 \nQ 18.109375 38.09375 18.109375 28.8125 \nL 18.109375 0 \nL 9.078125 0 \nL 9.078125 54.6875 \nL 18.109375 54.6875 \nL 18.109375 46.1875 \nQ 20.953125 51.171875 25.484375 53.578125 \nQ 30.03125 56 36.53125 56 \nQ 37.453125 56 38.578125 55.875 \nQ 39.703125 55.765625 41.0625 55.515625 \nz\n\" id=\"DejaVuSans-114\"/>\n      <path d=\"M 34.28125 27.484375 \nQ 23.390625 27.484375 19.1875 25 \nQ 14.984375 22.515625 14.984375 16.5 \nQ 14.984375 11.71875 18.140625 8.90625 \nQ 21.296875 6.109375 26.703125 6.109375 \nQ 34.1875 6.109375 38.703125 11.40625 \nQ 43.21875 16.703125 43.21875 25.484375 \nL 43.21875 27.484375 \nz\nM 52.203125 31.203125 \nL 52.203125 0 \nL 43.21875 0 \nL 43.21875 8.296875 \nQ 40.140625 3.328125 35.546875 0.953125 \nQ 30.953125 -1.421875 24.3125 -1.421875 \nQ 15.921875 -1.421875 10.953125 3.296875 \nQ 6 8.015625 6 15.921875 \nQ 6 25.140625 12.171875 29.828125 \nQ 18.359375 34.515625 30.609375 34.515625 \nL 43.21875 34.515625 \nL 43.21875 35.40625 \nQ 43.21875 41.609375 39.140625 45 \nQ 35.0625 48.390625 27.6875 48.390625 \nQ 23 48.390625 18.546875 47.265625 \nQ 14.109375 46.140625 10.015625 43.890625 \nL 10.015625 52.203125 \nQ 14.9375 54.109375 19.578125 55.046875 \nQ 24.21875 56 28.609375 56 \nQ 40.484375 56 46.34375 49.84375 \nQ 52.203125 43.703125 52.203125 31.203125 \nz\n\" id=\"DejaVuSans-97\"/>\n      <path d=\"M 9.421875 54.6875 \nL 18.40625 54.6875 \nL 18.40625 0 \nL 9.421875 0 \nz\nM 9.421875 75.984375 \nL 18.40625 75.984375 \nL 18.40625 64.59375 \nL 9.421875 64.59375 \nz\n\" id=\"DejaVuSans-105\"/>\n      <path d=\"M 54.890625 33.015625 \nL 54.890625 0 \nL 45.90625 0 \nL 45.90625 32.71875 \nQ 45.90625 40.484375 42.875 44.328125 \nQ 39.84375 48.1875 33.796875 48.1875 \nQ 26.515625 48.1875 22.3125 43.546875 \nQ 18.109375 38.921875 18.109375 30.90625 \nL 18.109375 0 \nL 9.078125 0 \nL 9.078125 54.6875 \nL 18.109375 54.6875 \nL 18.109375 46.1875 \nQ 21.34375 51.125 25.703125 53.5625 \nQ 30.078125 56 35.796875 56 \nQ 45.21875 56 50.046875 50.171875 \nQ 54.890625 44.34375 54.890625 33.015625 \nz\n\" id=\"DejaVuSans-110\"/>\n     </defs>\n     <g transform=\"translate(344.140625 23.798437)scale(0.1 -0.1)\">\n      <use xlink:href=\"#DejaVuSans-84\"/>\n      <use x=\"60.865234\" xlink:href=\"#DejaVuSans-114\"/>\n      <use x=\"101.978516\" xlink:href=\"#DejaVuSans-97\"/>\n      <use x=\"163.257812\" xlink:href=\"#DejaVuSans-105\"/>\n      <use x=\"191.041016\" xlink:href=\"#DejaVuSans-110\"/>\n     </g>\n    </g>\n    <g id=\"line2d_18\">\n     <path d=\"M 316.140625 34.976562 \nL 336.140625 34.976562 \n\" style=\"fill:none;stroke:#0000ff;stroke-linecap:square;stroke-width:1.5;\"/>\n    </g>\n    <g id=\"line2d_19\"/>\n    <g id=\"text_17\">\n     <!-- Val -->\n     <defs>\n      <path d=\"M 28.609375 0 \nL 0.78125 72.90625 \nL 11.078125 72.90625 \nL 34.1875 11.53125 \nL 57.328125 72.90625 \nL 67.578125 72.90625 \nL 39.796875 0 \nz\n\" id=\"DejaVuSans-86\"/>\n      <path d=\"M 9.421875 75.984375 \nL 18.40625 75.984375 \nL 18.40625 0 \nL 9.421875 0 \nz\n\" id=\"DejaVuSans-108\"/>\n     </defs>\n     <g transform=\"translate(344.140625 38.476562)scale(0.1 -0.1)\">\n      <use xlink:href=\"#DejaVuSans-86\"/>\n      <use x=\"68.298828\" xlink:href=\"#DejaVuSans-97\"/>\n      <use x=\"129.578125\" xlink:href=\"#DejaVuSans-108\"/>\n     </g>\n    </g>\n   </g>\n  </g>\n </g>\n <defs>\n  <clipPath id=\"p3c4e3dd634\">\n   <rect height=\"217.44\" width=\"334.8\" x=\"43.78125\" y=\"7.2\"/>\n  </clipPath>\n </defs>\n</svg>\n"
          },
          "metadata": {
            "tags": []
          }
        }
      ]
    },
    {
      "cell_type": "code",
      "metadata": {
        "id": "bdYQCyJEj00H",
        "colab_type": "code",
        "colab": {}
      },
      "source": [
        "from google.colab import files\n",
        "files.download('./adamw_resnet18_9278.pth.tar')\n",
        "files.download('./adamw_resnet18_9278_acc.jpg')\n",
        "files.download('./adamw_resnet18_9278_loss.jpg')"
      ],
      "execution_count": 0,
      "outputs": []
    },
    {
      "cell_type": "markdown",
      "metadata": {
        "id": "n0Z4WML9lYr1",
        "colab_type": "text"
      },
      "source": [
        "# Lookahead with SGD"
      ]
    },
    {
      "cell_type": "code",
      "metadata": {
        "id": "OWY9RM02ljjd",
        "colab_type": "code",
        "colab": {}
      },
      "source": [
        "load_checkpoint(model, filename='before_sgd_resnet18.pth.tar')"
      ],
      "execution_count": 0,
      "outputs": []
    },
    {
      "cell_type": "code",
      "metadata": {
        "id": "t0Hm9c06Bazq",
        "colab_type": "code",
        "colab": {}
      },
      "source": [
        "reset()"
      ],
      "execution_count": 0,
      "outputs": []
    },
    {
      "cell_type": "code",
      "metadata": {
        "id": "eeygLVC1Bcs3",
        "colab_type": "code",
        "colab": {}
      },
      "source": [
        "preds = []\n",
        "train_stats = AvgStats()\n",
        "test_stats = AvgStats()"
      ],
      "execution_count": 0,
      "outputs": []
    },
    {
      "cell_type": "code",
      "metadata": {
        "id": "4QHsZryCBfLK",
        "colab_type": "code",
        "colab": {}
      },
      "source": [
        "optims = torch.optim.SGD(model.parameters(), lr=1e-2, momentum=0.9, weight_decay=1e-4)"
      ],
      "execution_count": 0,
      "outputs": []
    },
    {
      "cell_type": "code",
      "metadata": {
        "id": "OqPU5Im6yHO1",
        "colab_type": "code",
        "colab": {}
      },
      "source": [
        "sched_la = torch.optim.lr_scheduler.StepLR(optims, step_size=30, gamma=0.2)"
      ],
      "execution_count": 0,
      "outputs": []
    },
    {
      "cell_type": "code",
      "metadata": {
        "id": "eVTRIpgiF3Wq",
        "colab_type": "code",
        "colab": {}
      },
      "source": [
        "la_optim = Lookahead(optims, alpha=0.5, k=10)"
      ],
      "execution_count": 0,
      "outputs": []
    },
    {
      "cell_type": "code",
      "metadata": {
        "id": "f1nY9hntBkqz",
        "colab_type": "code",
        "outputId": "e000b958-6b09-465d-ab90-f972f8bff0f7",
        "colab": {
          "base_uri": "https://localhost:8080/",
          "height": 1000
        }
      },
      "source": [
        "fit(model, la_optim, sched_la)"
      ],
      "execution_count": 0,
      "outputs": [
        {
          "output_type": "stream",
          "text": [
            "Epoch\tTrn_loss\tVal_loss\tTrn_acc\t\tVal_acc\n",
            "1\t0.78479352\t0.67165694\t65.26199341\t67.26000214\n",
            "2\t0.65817790\t0.57374612\t71.45182037\t72.19833374\n",
            "3\t0.58128622\t0.55141889\t74.37470245\t74.75722504\n",
            "4\t0.52962197\t0.51966717\t76.22391510\t76.48666382\n",
            "5\t0.47890591\t0.52298214\t77.58689880\t77.75066376\n",
            "6\t0.46181699\t0.53919718\t78.61714172\t78.70610809\n",
            "7\t0.42780571\t0.53746683\t79.46121979\t79.52833557\n",
            "8\t0.41239739\t0.51101025\t80.19277191\t80.26103973\n",
            "9\t0.37363482\t0.53151295\t80.84622955\t80.88333130\n",
            "10\t0.36207809\t0.44956800\t81.41728973\t81.47850037\n",
            "11\t0.35154171\t0.45184920\t81.96661377\t82.02075958\n",
            "12\t0.34081617\t0.46462456\t82.44577026\t82.48000336\n",
            "13\t0.34036227\t0.44493051\t82.88973236\t82.91999817\n",
            "14\t0.32164129\t0.45059167\t83.30180359\t83.32344818\n",
            "15\t0.31193304\t0.46006976\t83.67045593\t83.68900299\n",
            "16\t0.29992676\t0.51223011\t84.02136230\t84.02281189\n",
            "17\t0.28413972\t0.47487951\t84.33504486\t84.33735657\n",
            "18\t0.26384980\t0.48605247\t84.63252258\t84.63741302\n",
            "19\t0.25498864\t0.52070410\t84.91609955\t84.90903473\n",
            "20\t0.26259867\t0.45545643\t85.17688751\t85.18450165\n",
            "21\t0.23760753\t0.46622807\t85.44519806\t85.44618988\n",
            "22\t0.24255486\t0.46946366\t85.69656372\t85.69879150\n",
            "23\t0.22672451\t0.46840918\t85.93715668\t85.93702698\n",
            "24\t0.21695489\t0.48691098\t86.16217041\t86.16041565\n",
            "25\t0.20339894\t0.48078232\t86.37805176\t86.37593079\n",
            "26\t0.20584520\t0.52676247\t86.58902740\t86.58108521\n",
            "27\t0.20325725\t0.51004472\t86.78167725\t86.77364349\n",
            "28\t0.20174108\t0.56362325\t86.96460724\t86.94892883\n",
            "29\t0.17641803\t0.54775229\t87.14249420\t87.12988281\n",
            "30\t0.18517546\t0.48547372\t87.31072235\t87.30655670\n",
            "31\t0.18311003\t0.49747002\t87.48091888\t87.47312164\n",
            "32\t0.11770682\t0.47469718\t87.69047546\t87.68786621\n",
            "33\t0.09852085\t0.49028656\t87.91304779\t87.90979004\n",
            "34\t0.09353052\t0.50164676\t88.12792206\t88.12250519\n",
            "35\t0.08258645\t0.50918324\t88.33698273\t88.33148193\n",
            "36\t0.08270813\t0.51370429\t88.53409576\t88.52745056\n",
            "37\t0.08202273\t0.52720806\t88.72483826\t88.71720123\n",
            "38\t0.07250305\t0.52979381\t88.91039276\t88.90232086\n",
            "39\t0.07788631\t0.53769265\t89.08399200\t89.07555389\n",
            "40\t0.07344846\t0.53455959\t89.25167084\t89.24320984\n",
            "41\t0.07574758\t0.55111005\t89.41204071\t89.40232086\n",
            "42\t0.06631801\t0.55573800\t89.56621552\t89.55599213\n",
            "43\t0.06034936\t0.56250256\t89.71681213\t89.70706177\n",
            "44\t0.05874341\t0.56670799\t89.86308289\t89.85325623\n",
            "45\t0.06651991\t0.56670099\t90.00093079\t89.98992157\n",
            "46\t0.05964406\t0.57724771\t90.13385010\t90.12402344\n",
            "47\t0.06375027\t0.57393077\t90.26477051\t90.25365448\n",
            "48\t0.06160641\t0.58719176\t90.38867188\t90.37687683\n",
            "49\t0.05847202\t0.59080107\t90.50811768\t90.49550629\n",
            "50\t0.05390333\t0.57871168\t90.62171173\t90.61003113\n",
            "51\t0.05187226\t0.59847106\t90.73498535\t90.72349548\n",
            "52\t0.05067725\t0.60393530\t90.84476471\t90.83364868\n",
            "53\t0.05032047\t0.59459309\t90.94924164\t90.93776703\n",
            "54\t0.04999526\t0.60690585\t91.05210114\t91.04015350\n",
            "55\t0.04876929\t0.60497789\t91.15112305\t91.13830566\n",
            "56\t0.04702803\t0.61233238\t91.24507904\t91.23258972\n",
            "57\t0.04529182\t0.63122132\t91.33774567\t91.32514954\n",
            "58\t0.04928536\t0.62479572\t91.42538452\t91.41362000\n",
            "59\t0.05130819\t0.62790722\t91.51277161\t91.49971771\n",
            "60\t0.04737572\t0.62735807\t91.59729767\t91.58511353\n",
            "61\t0.04681145\t0.64062749\t91.68005371\t91.66756439\n",
            "62\t0.03717868\t0.62661039\t91.76210022\t91.75051117\n",
            "63\t0.04093176\t0.62192550\t91.84297180\t91.83094788\n",
            "64\t0.03740751\t0.62778422\t91.92111969\t91.90934753\n",
            "65\t0.03475681\t0.62757940\t91.99663544\t91.98481750\n",
            "66\t0.03433142\t0.62113800\t92.07197571\t92.06011963\n",
            "67\t0.03221090\t0.62738332\t92.14533997\t92.13382721\n",
            "68\t0.03214618\t0.62987306\t92.21690369\t92.20561981\n",
            "69\t0.03363933\t0.62785299\t92.28571320\t92.27406311\n",
            "70\t0.03314294\t0.62456131\t92.35267639\t92.34119415\n",
            "71\t0.03149585\t0.62594646\t92.41838074\t92.40718842\n",
            "72\t0.03638247\t0.63611133\t92.48211670\t92.47039795\n",
            "73\t0.03179798\t0.63275786\t92.54422760\t92.53244019\n",
            "74\t0.03339371\t0.64121875\t92.60473633\t92.59299469\n",
            "75\t0.03191241\t0.64356601\t92.66420746\t92.65224457\n",
            "76\t0.03231497\t0.63882180\t92.72176361\t92.71009064\n",
            "77\t0.02790899\t0.63737491\t92.77805328\t92.76675415\n",
            "78\t0.02823592\t0.63953328\t92.83351135\t92.82230377\n",
            "79\t0.03326251\t0.64097619\t92.88841248\t92.87715912\n",
            "80\t0.03119475\t0.64380172\t92.94077301\t92.92943573\n",
            "81\t0.03147747\t0.64552225\t92.99172974\t92.98023987\n",
            "82\t0.02918501\t0.64995064\t93.04177094\t93.03067017\n",
            "83\t0.02901937\t0.64979476\t93.09052277\t93.07925415\n",
            "84\t0.02677197\t0.64367766\t93.13864899\t93.12737274\n",
            "85\t0.02616902\t0.64887991\t93.18527222\t93.17394257\n",
            "86\t0.02945937\t0.65496573\t93.23079681\t93.21977234\n",
            "87\t0.02675074\t0.65628454\t93.27606201\t93.26506042\n",
            "88\t0.02595707\t0.64726500\t93.32015228\t93.30898285\n",
            "89\t0.02605304\t0.65327877\t93.36235809\t93.35136414\n",
            "90\t0.02642076\t0.65538199\t93.40431976\t93.39311218\n"
          ],
          "name": "stdout"
        }
      ]
    },
    {
      "cell_type": "code",
      "metadata": {
        "id": "YFEcAgEhPzGv",
        "colab_type": "code",
        "colab": {}
      },
      "source": [
        "save_checkpoint(model, True, 'lookahead_sgd_resnet18_9340.pth.tar')"
      ],
      "execution_count": 0,
      "outputs": []
    },
    {
      "cell_type": "code",
      "metadata": {
        "id": "4fah7QvhBmOG",
        "colab_type": "code",
        "colab": {}
      },
      "source": [
        "ep_lookahead_losses = []\n",
        "for i in range(0, len(train_stats.losses), len(train_loader)):\n",
        "    if i != 0 :\n",
        "        ep_lookahead_losses.append(train_stats.losses[i])\n",
        "        \n",
        "ep_lookahead_lossesv = []\n",
        "for i in range(0, len(test_stats.losses), len(test_loader)):\n",
        "    if(i != 0):\n",
        "        ep_lookahead_lossesv.append(test_stats.losses[i])"
      ],
      "execution_count": 0,
      "outputs": []
    },
    {
      "cell_type": "code",
      "metadata": {
        "id": "dsZWOzOv51tO",
        "colab_type": "code",
        "colab": {}
      },
      "source": [
        "ep_lookahead_accs = []\n",
        "for i in range(0, len(train_stats.losses), len(train_loader)):\n",
        "    if i != 0 :\n",
        "        ep_lookahead_accs.append(train_stats.precs[i])\n",
        "        \n",
        "ep_lookahead_accsv = []\n",
        "for i in range(0, len(test_stats.losses), len(test_loader)):\n",
        "    if(i != 0):\n",
        "        ep_lookahead_accsv.append(test_stats.precs[i])"
      ],
      "execution_count": 0,
      "outputs": []
    },
    {
      "cell_type": "code",
      "metadata": {
        "id": "llTa7tns6uz_",
        "colab_type": "code",
        "outputId": "0aacb895-384a-4f71-eecf-77096b454a12",
        "colab": {
          "base_uri": "https://localhost:8080/",
          "height": 371
        }
      },
      "source": [
        "plt.xlabel(\"Epochs\")\n",
        "plt.ylabel(\"Accuracy\")\n",
        "plt.plot(ep_lookahead_accs, 'r', label='Train')\n",
        "plt.plot(ep_lookahead_accsv, 'b', label='Val')\n",
        "plt.legend()\n",
        "plt.savefig('lookahead_sgd_resnet18_9340_acc.jpg')"
      ],
      "execution_count": 0,
      "outputs": [
        {
          "output_type": "display_data",
          "data": {
            "text/plain": [
              "<Figure size 432x288 with 1 Axes>"
            ],
            "image/svg+xml": "<?xml version=\"1.0\" encoding=\"utf-8\" standalone=\"no\"?>\n<!DOCTYPE svg PUBLIC \"-//W3C//DTD SVG 1.1//EN\"\n  \"http://www.w3.org/Graphics/SVG/1.1/DTD/svg11.dtd\">\n<!-- Created with matplotlib (https://matplotlib.org/) -->\n<svg height=\"262.19625pt\" version=\"1.1\" viewBox=\"0 0 382.603125 262.19625\" width=\"382.603125pt\" xmlns=\"http://www.w3.org/2000/svg\" xmlns:xlink=\"http://www.w3.org/1999/xlink\">\n <defs>\n  <style type=\"text/css\">\n*{stroke-linecap:butt;stroke-linejoin:round;}\n  </style>\n </defs>\n <g id=\"figure_1\">\n  <g id=\"patch_1\">\n   <path d=\"M 0 262.19625 \nL 382.603125 262.19625 \nL 382.603125 0 \nL 0 0 \nz\n\" style=\"fill:none;\"/>\n  </g>\n  <g id=\"axes_1\">\n   <g id=\"patch_2\">\n    <path d=\"M 40.603125 224.64 \nL 375.403125 224.64 \nL 375.403125 7.2 \nL 40.603125 7.2 \nz\n\" style=\"fill:#ffffff;\"/>\n   </g>\n   <g id=\"matplotlib.axis_1\">\n    <g id=\"xtick_1\">\n     <g id=\"line2d_1\">\n      <defs>\n       <path d=\"M 0 0 \nL 0 3.5 \n\" id=\"me7dde8ffab\" style=\"stroke:#000000;stroke-width:0.8;\"/>\n      </defs>\n      <g>\n       <use style=\"stroke:#000000;stroke-width:0.8;\" x=\"55.821307\" xlink:href=\"#me7dde8ffab\" y=\"224.64\"/>\n      </g>\n     </g>\n     <g id=\"text_1\">\n      <!-- 0 -->\n      <defs>\n       <path d=\"M 31.78125 66.40625 \nQ 24.171875 66.40625 20.328125 58.90625 \nQ 16.5 51.421875 16.5 36.375 \nQ 16.5 21.390625 20.328125 13.890625 \nQ 24.171875 6.390625 31.78125 6.390625 \nQ 39.453125 6.390625 43.28125 13.890625 \nQ 47.125 21.390625 47.125 36.375 \nQ 47.125 51.421875 43.28125 58.90625 \nQ 39.453125 66.40625 31.78125 66.40625 \nz\nM 31.78125 74.21875 \nQ 44.046875 74.21875 50.515625 64.515625 \nQ 56.984375 54.828125 56.984375 36.375 \nQ 56.984375 17.96875 50.515625 8.265625 \nQ 44.046875 -1.421875 31.78125 -1.421875 \nQ 19.53125 -1.421875 13.0625 8.265625 \nQ 6.59375 17.96875 6.59375 36.375 \nQ 6.59375 54.828125 13.0625 64.515625 \nQ 19.53125 74.21875 31.78125 74.21875 \nz\n\" id=\"DejaVuSans-48\"/>\n      </defs>\n      <g transform=\"translate(52.640057 239.238437)scale(0.1 -0.1)\">\n       <use xlink:href=\"#DejaVuSans-48\"/>\n      </g>\n     </g>\n    </g>\n    <g id=\"xtick_2\">\n     <g id=\"line2d_2\">\n      <g>\n       <use style=\"stroke:#000000;stroke-width:0.8;\" x=\"124.994861\" xlink:href=\"#me7dde8ffab\" y=\"224.64\"/>\n      </g>\n     </g>\n     <g id=\"text_2\">\n      <!-- 20 -->\n      <defs>\n       <path d=\"M 19.1875 8.296875 \nL 53.609375 8.296875 \nL 53.609375 0 \nL 7.328125 0 \nL 7.328125 8.296875 \nQ 12.9375 14.109375 22.625 23.890625 \nQ 32.328125 33.6875 34.8125 36.53125 \nQ 39.546875 41.84375 41.421875 45.53125 \nQ 43.3125 49.21875 43.3125 52.78125 \nQ 43.3125 58.59375 39.234375 62.25 \nQ 35.15625 65.921875 28.609375 65.921875 \nQ 23.96875 65.921875 18.8125 64.3125 \nQ 13.671875 62.703125 7.8125 59.421875 \nL 7.8125 69.390625 \nQ 13.765625 71.78125 18.9375 73 \nQ 24.125 74.21875 28.421875 74.21875 \nQ 39.75 74.21875 46.484375 68.546875 \nQ 53.21875 62.890625 53.21875 53.421875 \nQ 53.21875 48.921875 51.53125 44.890625 \nQ 49.859375 40.875 45.40625 35.40625 \nQ 44.1875 33.984375 37.640625 27.21875 \nQ 31.109375 20.453125 19.1875 8.296875 \nz\n\" id=\"DejaVuSans-50\"/>\n      </defs>\n      <g transform=\"translate(118.632361 239.238437)scale(0.1 -0.1)\">\n       <use xlink:href=\"#DejaVuSans-50\"/>\n       <use x=\"63.623047\" xlink:href=\"#DejaVuSans-48\"/>\n      </g>\n     </g>\n    </g>\n    <g id=\"xtick_3\">\n     <g id=\"line2d_3\">\n      <g>\n       <use style=\"stroke:#000000;stroke-width:0.8;\" x=\"194.168414\" xlink:href=\"#me7dde8ffab\" y=\"224.64\"/>\n      </g>\n     </g>\n     <g id=\"text_3\">\n      <!-- 40 -->\n      <defs>\n       <path d=\"M 37.796875 64.3125 \nL 12.890625 25.390625 \nL 37.796875 25.390625 \nz\nM 35.203125 72.90625 \nL 47.609375 72.90625 \nL 47.609375 25.390625 \nL 58.015625 25.390625 \nL 58.015625 17.1875 \nL 47.609375 17.1875 \nL 47.609375 0 \nL 37.796875 0 \nL 37.796875 17.1875 \nL 4.890625 17.1875 \nL 4.890625 26.703125 \nz\n\" id=\"DejaVuSans-52\"/>\n      </defs>\n      <g transform=\"translate(187.805914 239.238437)scale(0.1 -0.1)\">\n       <use xlink:href=\"#DejaVuSans-52\"/>\n       <use x=\"63.623047\" xlink:href=\"#DejaVuSans-48\"/>\n      </g>\n     </g>\n    </g>\n    <g id=\"xtick_4\">\n     <g id=\"line2d_4\">\n      <g>\n       <use style=\"stroke:#000000;stroke-width:0.8;\" x=\"263.341968\" xlink:href=\"#me7dde8ffab\" y=\"224.64\"/>\n      </g>\n     </g>\n     <g id=\"text_4\">\n      <!-- 60 -->\n      <defs>\n       <path d=\"M 33.015625 40.375 \nQ 26.375 40.375 22.484375 35.828125 \nQ 18.609375 31.296875 18.609375 23.390625 \nQ 18.609375 15.53125 22.484375 10.953125 \nQ 26.375 6.390625 33.015625 6.390625 \nQ 39.65625 6.390625 43.53125 10.953125 \nQ 47.40625 15.53125 47.40625 23.390625 \nQ 47.40625 31.296875 43.53125 35.828125 \nQ 39.65625 40.375 33.015625 40.375 \nz\nM 52.59375 71.296875 \nL 52.59375 62.3125 \nQ 48.875 64.0625 45.09375 64.984375 \nQ 41.3125 65.921875 37.59375 65.921875 \nQ 27.828125 65.921875 22.671875 59.328125 \nQ 17.53125 52.734375 16.796875 39.40625 \nQ 19.671875 43.65625 24.015625 45.921875 \nQ 28.375 48.1875 33.59375 48.1875 \nQ 44.578125 48.1875 50.953125 41.515625 \nQ 57.328125 34.859375 57.328125 23.390625 \nQ 57.328125 12.15625 50.6875 5.359375 \nQ 44.046875 -1.421875 33.015625 -1.421875 \nQ 20.359375 -1.421875 13.671875 8.265625 \nQ 6.984375 17.96875 6.984375 36.375 \nQ 6.984375 53.65625 15.1875 63.9375 \nQ 23.390625 74.21875 37.203125 74.21875 \nQ 40.921875 74.21875 44.703125 73.484375 \nQ 48.484375 72.75 52.59375 71.296875 \nz\n\" id=\"DejaVuSans-54\"/>\n      </defs>\n      <g transform=\"translate(256.979468 239.238437)scale(0.1 -0.1)\">\n       <use xlink:href=\"#DejaVuSans-54\"/>\n       <use x=\"63.623047\" xlink:href=\"#DejaVuSans-48\"/>\n      </g>\n     </g>\n    </g>\n    <g id=\"xtick_5\">\n     <g id=\"line2d_5\">\n      <g>\n       <use style=\"stroke:#000000;stroke-width:0.8;\" x=\"332.515522\" xlink:href=\"#me7dde8ffab\" y=\"224.64\"/>\n      </g>\n     </g>\n     <g id=\"text_5\">\n      <!-- 80 -->\n      <defs>\n       <path d=\"M 31.78125 34.625 \nQ 24.75 34.625 20.71875 30.859375 \nQ 16.703125 27.09375 16.703125 20.515625 \nQ 16.703125 13.921875 20.71875 10.15625 \nQ 24.75 6.390625 31.78125 6.390625 \nQ 38.8125 6.390625 42.859375 10.171875 \nQ 46.921875 13.96875 46.921875 20.515625 \nQ 46.921875 27.09375 42.890625 30.859375 \nQ 38.875 34.625 31.78125 34.625 \nz\nM 21.921875 38.8125 \nQ 15.578125 40.375 12.03125 44.71875 \nQ 8.5 49.078125 8.5 55.328125 \nQ 8.5 64.0625 14.71875 69.140625 \nQ 20.953125 74.21875 31.78125 74.21875 \nQ 42.671875 74.21875 48.875 69.140625 \nQ 55.078125 64.0625 55.078125 55.328125 \nQ 55.078125 49.078125 51.53125 44.71875 \nQ 48 40.375 41.703125 38.8125 \nQ 48.828125 37.15625 52.796875 32.3125 \nQ 56.78125 27.484375 56.78125 20.515625 \nQ 56.78125 9.90625 50.3125 4.234375 \nQ 43.84375 -1.421875 31.78125 -1.421875 \nQ 19.734375 -1.421875 13.25 4.234375 \nQ 6.78125 9.90625 6.78125 20.515625 \nQ 6.78125 27.484375 10.78125 32.3125 \nQ 14.796875 37.15625 21.921875 38.8125 \nz\nM 18.3125 54.390625 \nQ 18.3125 48.734375 21.84375 45.5625 \nQ 25.390625 42.390625 31.78125 42.390625 \nQ 38.140625 42.390625 41.71875 45.5625 \nQ 45.3125 48.734375 45.3125 54.390625 \nQ 45.3125 60.0625 41.71875 63.234375 \nQ 38.140625 66.40625 31.78125 66.40625 \nQ 25.390625 66.40625 21.84375 63.234375 \nQ 18.3125 60.0625 18.3125 54.390625 \nz\n\" id=\"DejaVuSans-56\"/>\n      </defs>\n      <g transform=\"translate(326.153022 239.238437)scale(0.1 -0.1)\">\n       <use xlink:href=\"#DejaVuSans-56\"/>\n       <use x=\"63.623047\" xlink:href=\"#DejaVuSans-48\"/>\n      </g>\n     </g>\n    </g>\n    <g id=\"text_6\">\n     <!-- Epochs -->\n     <defs>\n      <path d=\"M 9.8125 72.90625 \nL 55.90625 72.90625 \nL 55.90625 64.59375 \nL 19.671875 64.59375 \nL 19.671875 43.015625 \nL 54.390625 43.015625 \nL 54.390625 34.71875 \nL 19.671875 34.71875 \nL 19.671875 8.296875 \nL 56.78125 8.296875 \nL 56.78125 0 \nL 9.8125 0 \nz\n\" id=\"DejaVuSans-69\"/>\n      <path d=\"M 18.109375 8.203125 \nL 18.109375 -20.796875 \nL 9.078125 -20.796875 \nL 9.078125 54.6875 \nL 18.109375 54.6875 \nL 18.109375 46.390625 \nQ 20.953125 51.265625 25.265625 53.625 \nQ 29.59375 56 35.59375 56 \nQ 45.5625 56 51.78125 48.09375 \nQ 58.015625 40.1875 58.015625 27.296875 \nQ 58.015625 14.40625 51.78125 6.484375 \nQ 45.5625 -1.421875 35.59375 -1.421875 \nQ 29.59375 -1.421875 25.265625 0.953125 \nQ 20.953125 3.328125 18.109375 8.203125 \nz\nM 48.6875 27.296875 \nQ 48.6875 37.203125 44.609375 42.84375 \nQ 40.53125 48.484375 33.40625 48.484375 \nQ 26.265625 48.484375 22.1875 42.84375 \nQ 18.109375 37.203125 18.109375 27.296875 \nQ 18.109375 17.390625 22.1875 11.75 \nQ 26.265625 6.109375 33.40625 6.109375 \nQ 40.53125 6.109375 44.609375 11.75 \nQ 48.6875 17.390625 48.6875 27.296875 \nz\n\" id=\"DejaVuSans-112\"/>\n      <path d=\"M 30.609375 48.390625 \nQ 23.390625 48.390625 19.1875 42.75 \nQ 14.984375 37.109375 14.984375 27.296875 \nQ 14.984375 17.484375 19.15625 11.84375 \nQ 23.34375 6.203125 30.609375 6.203125 \nQ 37.796875 6.203125 41.984375 11.859375 \nQ 46.1875 17.53125 46.1875 27.296875 \nQ 46.1875 37.015625 41.984375 42.703125 \nQ 37.796875 48.390625 30.609375 48.390625 \nz\nM 30.609375 56 \nQ 42.328125 56 49.015625 48.375 \nQ 55.71875 40.765625 55.71875 27.296875 \nQ 55.71875 13.875 49.015625 6.21875 \nQ 42.328125 -1.421875 30.609375 -1.421875 \nQ 18.84375 -1.421875 12.171875 6.21875 \nQ 5.515625 13.875 5.515625 27.296875 \nQ 5.515625 40.765625 12.171875 48.375 \nQ 18.84375 56 30.609375 56 \nz\n\" id=\"DejaVuSans-111\"/>\n      <path d=\"M 48.78125 52.59375 \nL 48.78125 44.1875 \nQ 44.96875 46.296875 41.140625 47.34375 \nQ 37.3125 48.390625 33.40625 48.390625 \nQ 24.65625 48.390625 19.8125 42.84375 \nQ 14.984375 37.3125 14.984375 27.296875 \nQ 14.984375 17.28125 19.8125 11.734375 \nQ 24.65625 6.203125 33.40625 6.203125 \nQ 37.3125 6.203125 41.140625 7.25 \nQ 44.96875 8.296875 48.78125 10.40625 \nL 48.78125 2.09375 \nQ 45.015625 0.34375 40.984375 -0.53125 \nQ 36.96875 -1.421875 32.421875 -1.421875 \nQ 20.0625 -1.421875 12.78125 6.34375 \nQ 5.515625 14.109375 5.515625 27.296875 \nQ 5.515625 40.671875 12.859375 48.328125 \nQ 20.21875 56 33.015625 56 \nQ 37.15625 56 41.109375 55.140625 \nQ 45.0625 54.296875 48.78125 52.59375 \nz\n\" id=\"DejaVuSans-99\"/>\n      <path d=\"M 54.890625 33.015625 \nL 54.890625 0 \nL 45.90625 0 \nL 45.90625 32.71875 \nQ 45.90625 40.484375 42.875 44.328125 \nQ 39.84375 48.1875 33.796875 48.1875 \nQ 26.515625 48.1875 22.3125 43.546875 \nQ 18.109375 38.921875 18.109375 30.90625 \nL 18.109375 0 \nL 9.078125 0 \nL 9.078125 75.984375 \nL 18.109375 75.984375 \nL 18.109375 46.1875 \nQ 21.34375 51.125 25.703125 53.5625 \nQ 30.078125 56 35.796875 56 \nQ 45.21875 56 50.046875 50.171875 \nQ 54.890625 44.34375 54.890625 33.015625 \nz\n\" id=\"DejaVuSans-104\"/>\n      <path d=\"M 44.28125 53.078125 \nL 44.28125 44.578125 \nQ 40.484375 46.53125 36.375 47.5 \nQ 32.28125 48.484375 27.875 48.484375 \nQ 21.1875 48.484375 17.84375 46.4375 \nQ 14.5 44.390625 14.5 40.28125 \nQ 14.5 37.15625 16.890625 35.375 \nQ 19.28125 33.59375 26.515625 31.984375 \nL 29.59375 31.296875 \nQ 39.15625 29.25 43.1875 25.515625 \nQ 47.21875 21.78125 47.21875 15.09375 \nQ 47.21875 7.46875 41.1875 3.015625 \nQ 35.15625 -1.421875 24.609375 -1.421875 \nQ 20.21875 -1.421875 15.453125 -0.5625 \nQ 10.6875 0.296875 5.421875 2 \nL 5.421875 11.28125 \nQ 10.40625 8.6875 15.234375 7.390625 \nQ 20.0625 6.109375 24.8125 6.109375 \nQ 31.15625 6.109375 34.5625 8.28125 \nQ 37.984375 10.453125 37.984375 14.40625 \nQ 37.984375 18.0625 35.515625 20.015625 \nQ 33.0625 21.96875 24.703125 23.78125 \nL 21.578125 24.515625 \nQ 13.234375 26.265625 9.515625 29.90625 \nQ 5.8125 33.546875 5.8125 39.890625 \nQ 5.8125 47.609375 11.28125 51.796875 \nQ 16.75 56 26.8125 56 \nQ 31.78125 56 36.171875 55.265625 \nQ 40.578125 54.546875 44.28125 53.078125 \nz\n\" id=\"DejaVuSans-115\"/>\n     </defs>\n     <g transform=\"translate(190.0875 252.916562)scale(0.1 -0.1)\">\n      <use xlink:href=\"#DejaVuSans-69\"/>\n      <use x=\"63.183594\" xlink:href=\"#DejaVuSans-112\"/>\n      <use x=\"126.660156\" xlink:href=\"#DejaVuSans-111\"/>\n      <use x=\"187.841797\" xlink:href=\"#DejaVuSans-99\"/>\n      <use x=\"242.822266\" xlink:href=\"#DejaVuSans-104\"/>\n      <use x=\"306.201172\" xlink:href=\"#DejaVuSans-115\"/>\n     </g>\n    </g>\n   </g>\n   <g id=\"matplotlib.axis_2\">\n    <g id=\"ytick_1\">\n     <g id=\"line2d_6\">\n      <defs>\n       <path d=\"M 0 0 \nL -3.5 0 \n\" id=\"m6616c0c4fe\" style=\"stroke:#000000;stroke-width:0.8;\"/>\n      </defs>\n      <g>\n       <use style=\"stroke:#000000;stroke-width:0.8;\" x=\"40.603125\" xlink:href=\"#m6616c0c4fe\" y=\"194.151176\"/>\n      </g>\n     </g>\n     <g id=\"text_7\">\n      <!-- 70 -->\n      <defs>\n       <path d=\"M 8.203125 72.90625 \nL 55.078125 72.90625 \nL 55.078125 68.703125 \nL 28.609375 0 \nL 18.3125 0 \nL 43.21875 64.59375 \nL 8.203125 64.59375 \nz\n\" id=\"DejaVuSans-55\"/>\n      </defs>\n      <g transform=\"translate(20.878125 197.950395)scale(0.1 -0.1)\">\n       <use xlink:href=\"#DejaVuSans-55\"/>\n       <use x=\"63.623047\" xlink:href=\"#DejaVuSans-48\"/>\n      </g>\n     </g>\n    </g>\n    <g id=\"ytick_2\">\n     <g id=\"line2d_7\">\n      <g>\n       <use style=\"stroke:#000000;stroke-width:0.8;\" x=\"40.603125\" xlink:href=\"#m6616c0c4fe\" y=\"156.32303\"/>\n      </g>\n     </g>\n     <g id=\"text_8\">\n      <!-- 75 -->\n      <defs>\n       <path d=\"M 10.796875 72.90625 \nL 49.515625 72.90625 \nL 49.515625 64.59375 \nL 19.828125 64.59375 \nL 19.828125 46.734375 \nQ 21.96875 47.46875 24.109375 47.828125 \nQ 26.265625 48.1875 28.421875 48.1875 \nQ 40.625 48.1875 47.75 41.5 \nQ 54.890625 34.8125 54.890625 23.390625 \nQ 54.890625 11.625 47.5625 5.09375 \nQ 40.234375 -1.421875 26.90625 -1.421875 \nQ 22.3125 -1.421875 17.546875 -0.640625 \nQ 12.796875 0.140625 7.71875 1.703125 \nL 7.71875 11.625 \nQ 12.109375 9.234375 16.796875 8.0625 \nQ 21.484375 6.890625 26.703125 6.890625 \nQ 35.15625 6.890625 40.078125 11.328125 \nQ 45.015625 15.765625 45.015625 23.390625 \nQ 45.015625 31 40.078125 35.4375 \nQ 35.15625 39.890625 26.703125 39.890625 \nQ 22.75 39.890625 18.8125 39.015625 \nQ 14.890625 38.140625 10.796875 36.28125 \nz\n\" id=\"DejaVuSans-53\"/>\n      </defs>\n      <g transform=\"translate(20.878125 160.122248)scale(0.1 -0.1)\">\n       <use xlink:href=\"#DejaVuSans-55\"/>\n       <use x=\"63.623047\" xlink:href=\"#DejaVuSans-53\"/>\n      </g>\n     </g>\n    </g>\n    <g id=\"ytick_3\">\n     <g id=\"line2d_8\">\n      <g>\n       <use style=\"stroke:#000000;stroke-width:0.8;\" x=\"40.603125\" xlink:href=\"#m6616c0c4fe\" y=\"118.494884\"/>\n      </g>\n     </g>\n     <g id=\"text_9\">\n      <!-- 80 -->\n      <g transform=\"translate(20.878125 122.294102)scale(0.1 -0.1)\">\n       <use xlink:href=\"#DejaVuSans-56\"/>\n       <use x=\"63.623047\" xlink:href=\"#DejaVuSans-48\"/>\n      </g>\n     </g>\n    </g>\n    <g id=\"ytick_4\">\n     <g id=\"line2d_9\">\n      <g>\n       <use style=\"stroke:#000000;stroke-width:0.8;\" x=\"40.603125\" xlink:href=\"#m6616c0c4fe\" y=\"80.666738\"/>\n      </g>\n     </g>\n     <g id=\"text_10\">\n      <!-- 85 -->\n      <g transform=\"translate(20.878125 84.465956)scale(0.1 -0.1)\">\n       <use xlink:href=\"#DejaVuSans-56\"/>\n       <use x=\"63.623047\" xlink:href=\"#DejaVuSans-53\"/>\n      </g>\n     </g>\n    </g>\n    <g id=\"ytick_5\">\n     <g id=\"line2d_10\">\n      <g>\n       <use style=\"stroke:#000000;stroke-width:0.8;\" x=\"40.603125\" xlink:href=\"#m6616c0c4fe\" y=\"42.838592\"/>\n      </g>\n     </g>\n     <g id=\"text_11\">\n      <!-- 90 -->\n      <defs>\n       <path d=\"M 10.984375 1.515625 \nL 10.984375 10.5 \nQ 14.703125 8.734375 18.5 7.8125 \nQ 22.3125 6.890625 25.984375 6.890625 \nQ 35.75 6.890625 40.890625 13.453125 \nQ 46.046875 20.015625 46.78125 33.40625 \nQ 43.953125 29.203125 39.59375 26.953125 \nQ 35.25 24.703125 29.984375 24.703125 \nQ 19.046875 24.703125 12.671875 31.3125 \nQ 6.296875 37.9375 6.296875 49.421875 \nQ 6.296875 60.640625 12.9375 67.421875 \nQ 19.578125 74.21875 30.609375 74.21875 \nQ 43.265625 74.21875 49.921875 64.515625 \nQ 56.59375 54.828125 56.59375 36.375 \nQ 56.59375 19.140625 48.40625 8.859375 \nQ 40.234375 -1.421875 26.421875 -1.421875 \nQ 22.703125 -1.421875 18.890625 -0.6875 \nQ 15.09375 0.046875 10.984375 1.515625 \nz\nM 30.609375 32.421875 \nQ 37.25 32.421875 41.125 36.953125 \nQ 45.015625 41.5 45.015625 49.421875 \nQ 45.015625 57.28125 41.125 61.84375 \nQ 37.25 66.40625 30.609375 66.40625 \nQ 23.96875 66.40625 20.09375 61.84375 \nQ 16.21875 57.28125 16.21875 49.421875 \nQ 16.21875 41.5 20.09375 36.953125 \nQ 23.96875 32.421875 30.609375 32.421875 \nz\n\" id=\"DejaVuSans-57\"/>\n      </defs>\n      <g transform=\"translate(20.878125 46.63781)scale(0.1 -0.1)\">\n       <use xlink:href=\"#DejaVuSans-57\"/>\n       <use x=\"63.623047\" xlink:href=\"#DejaVuSans-48\"/>\n      </g>\n     </g>\n    </g>\n    <g id=\"text_12\">\n     <!-- Accuracy -->\n     <defs>\n      <path d=\"M 34.1875 63.1875 \nL 20.796875 26.90625 \nL 47.609375 26.90625 \nz\nM 28.609375 72.90625 \nL 39.796875 72.90625 \nL 67.578125 0 \nL 57.328125 0 \nL 50.6875 18.703125 \nL 17.828125 18.703125 \nL 11.1875 0 \nL 0.78125 0 \nz\n\" id=\"DejaVuSans-65\"/>\n      <path d=\"M 8.5 21.578125 \nL 8.5 54.6875 \nL 17.484375 54.6875 \nL 17.484375 21.921875 \nQ 17.484375 14.15625 20.5 10.265625 \nQ 23.53125 6.390625 29.59375 6.390625 \nQ 36.859375 6.390625 41.078125 11.03125 \nQ 45.3125 15.671875 45.3125 23.6875 \nL 45.3125 54.6875 \nL 54.296875 54.6875 \nL 54.296875 0 \nL 45.3125 0 \nL 45.3125 8.40625 \nQ 42.046875 3.421875 37.71875 1 \nQ 33.40625 -1.421875 27.6875 -1.421875 \nQ 18.265625 -1.421875 13.375 4.4375 \nQ 8.5 10.296875 8.5 21.578125 \nz\nM 31.109375 56 \nz\n\" id=\"DejaVuSans-117\"/>\n      <path d=\"M 41.109375 46.296875 \nQ 39.59375 47.171875 37.8125 47.578125 \nQ 36.03125 48 33.890625 48 \nQ 26.265625 48 22.1875 43.046875 \nQ 18.109375 38.09375 18.109375 28.8125 \nL 18.109375 0 \nL 9.078125 0 \nL 9.078125 54.6875 \nL 18.109375 54.6875 \nL 18.109375 46.1875 \nQ 20.953125 51.171875 25.484375 53.578125 \nQ 30.03125 56 36.53125 56 \nQ 37.453125 56 38.578125 55.875 \nQ 39.703125 55.765625 41.0625 55.515625 \nz\n\" id=\"DejaVuSans-114\"/>\n      <path d=\"M 34.28125 27.484375 \nQ 23.390625 27.484375 19.1875 25 \nQ 14.984375 22.515625 14.984375 16.5 \nQ 14.984375 11.71875 18.140625 8.90625 \nQ 21.296875 6.109375 26.703125 6.109375 \nQ 34.1875 6.109375 38.703125 11.40625 \nQ 43.21875 16.703125 43.21875 25.484375 \nL 43.21875 27.484375 \nz\nM 52.203125 31.203125 \nL 52.203125 0 \nL 43.21875 0 \nL 43.21875 8.296875 \nQ 40.140625 3.328125 35.546875 0.953125 \nQ 30.953125 -1.421875 24.3125 -1.421875 \nQ 15.921875 -1.421875 10.953125 3.296875 \nQ 6 8.015625 6 15.921875 \nQ 6 25.140625 12.171875 29.828125 \nQ 18.359375 34.515625 30.609375 34.515625 \nL 43.21875 34.515625 \nL 43.21875 35.40625 \nQ 43.21875 41.609375 39.140625 45 \nQ 35.0625 48.390625 27.6875 48.390625 \nQ 23 48.390625 18.546875 47.265625 \nQ 14.109375 46.140625 10.015625 43.890625 \nL 10.015625 52.203125 \nQ 14.9375 54.109375 19.578125 55.046875 \nQ 24.21875 56 28.609375 56 \nQ 40.484375 56 46.34375 49.84375 \nQ 52.203125 43.703125 52.203125 31.203125 \nz\n\" id=\"DejaVuSans-97\"/>\n      <path d=\"M 32.171875 -5.078125 \nQ 28.375 -14.84375 24.75 -17.8125 \nQ 21.140625 -20.796875 15.09375 -20.796875 \nL 7.90625 -20.796875 \nL 7.90625 -13.28125 \nL 13.1875 -13.28125 \nQ 16.890625 -13.28125 18.9375 -11.515625 \nQ 21 -9.765625 23.484375 -3.21875 \nL 25.09375 0.875 \nL 2.984375 54.6875 \nL 12.5 54.6875 \nL 29.59375 11.921875 \nL 46.6875 54.6875 \nL 56.203125 54.6875 \nz\n\" id=\"DejaVuSans-121\"/>\n     </defs>\n     <g transform=\"translate(14.798438 138.834844)rotate(-90)scale(0.1 -0.1)\">\n      <use xlink:href=\"#DejaVuSans-65\"/>\n      <use x=\"68.392578\" xlink:href=\"#DejaVuSans-99\"/>\n      <use x=\"123.373047\" xlink:href=\"#DejaVuSans-99\"/>\n      <use x=\"178.353516\" xlink:href=\"#DejaVuSans-117\"/>\n      <use x=\"241.732422\" xlink:href=\"#DejaVuSans-114\"/>\n      <use x=\"282.845703\" xlink:href=\"#DejaVuSans-97\"/>\n      <use x=\"344.125\" xlink:href=\"#DejaVuSans-99\"/>\n      <use x=\"399.105469\" xlink:href=\"#DejaVuSans-121\"/>\n     </g>\n    </g>\n   </g>\n   <g id=\"line2d_11\">\n    <path clip-path=\"url(#paa6193d8d1)\" d=\"M 55.821307 214.756364 \nL 59.279985 177.421272 \nL 62.738662 158.116484 \nL 66.19734 145.034154 \nL 69.656018 135.486091 \nL 73.114695 128.27083 \nL 76.573373 122.050392 \nL 80.032051 116.517991 \nL 83.490728 111.800036 \nL 86.949406 107.293109 \nL 90.408084 103.191674 \nL 93.866761 99.714897 \nL 97.325439 96.39466 \nL 100.784117 93.339767 \nL 104.242794 90.576943 \nL 107.701472 88.049968 \nL 111.16015 85.672606 \nL 114.618827 83.406011 \nL 118.077505 81.349406 \nL 121.536183 79.263363 \nL 124.994861 77.284681 \nL 128.453538 75.375207 \nL 131.912216 73.572575 \nL 135.370894 71.882845 \nL 138.829571 70.252222 \nL 142.288249 68.700331 \nL 145.746927 67.244314 \nL 149.205604 65.91794 \nL 152.664282 64.548736 \nL 156.12296 63.211856 \nL 159.581637 61.950302 \nL 163.040315 60.327471 \nL 166.498993 58.64715 \nL 169.95767 57.039616 \nL 173.416348 55.458806 \nL 176.875026 53.975603 \nL 180.333704 52.539442 \nL 183.792381 51.139473 \nL 187.251059 49.829029 \nL 190.709737 48.561126 \nL 194.168414 47.356889 \nL 197.627092 46.195597 \nL 201.08577 45.051333 \nL 204.544447 43.945915 \nL 208.003125 42.911782 \nL 211.461803 41.898141 \nL 214.92048 40.916246 \nL 218.379158 39.98428 \nL 221.837836 39.087408 \nL 225.296513 38.220783 \nL 228.755191 37.36218 \nL 232.213869 36.529321 \nL 235.672546 35.741254 \nL 239.131224 34.966982 \nL 242.589902 34.224919 \nL 246.04858 33.511255 \nL 249.507257 32.811443 \nL 252.965935 32.141935 \nL 256.424613 31.491014 \nL 259.88329 30.84419 \nL 263.341968 30.220628 \nL 266.800646 29.592968 \nL 270.259323 28.984356 \nL 273.718001 28.391791 \nL 277.176679 27.820755 \nL 280.635356 27.250932 \nL 284.094034 26.693114 \nL 287.552712 26.150074 \nL 291.011389 25.632315 \nL 294.470067 25.124426 \nL 297.928745 24.625196 \nL 301.387423 24.146803 \nL 304.8461 23.677414 \nL 308.304778 23.219512 \nL 311.763456 22.771134 \nL 315.222133 22.333723 \nL 318.680811 21.90497 \nL 322.139489 21.484587 \nL 325.598166 21.06986 \nL 329.056844 20.674124 \nL 332.515522 20.289759 \nL 335.974199 19.908453 \nL 339.432877 19.541057 \nL 342.891555 19.176664 \nL 346.350232 18.824853 \nL 349.80891 18.47818 \nL 353.267588 18.135258 \nL 356.726265 17.803593 \nL 360.184943 17.48249 \n\" style=\"fill:none;stroke:#ff0000;stroke-linecap:square;stroke-width:1.5;\"/>\n   </g>\n   <g id=\"line2d_12\">\n    <path clip-path=\"url(#paa6193d8d1)\" d=\"M 55.821307 183.060457 \nL 59.279985 160.987939 \nL 62.738662 147.012605 \nL 66.19734 136.718438 \nL 69.656018 128.956269 \nL 73.114695 122.553952 \nL 76.573373 117.021435 \nL 80.032051 112.084775 \nL 83.490728 107.760882 \nL 86.949406 103.604496 \nL 90.408084 99.985205 \nL 93.866761 96.622428 \nL 97.325439 93.50889 \nL 100.784117 90.722343 \nL 104.242794 88.067919 \nL 107.701472 85.692231 \nL 111.16015 83.442202 \nL 114.618827 81.299881 \nL 118.077505 79.326568 \nL 121.536183 77.294494 \nL 124.994861 75.391946 \nL 128.453538 73.575519 \nL 131.912216 71.871186 \nL 135.370894 70.238658 \nL 138.829571 68.644168 \nL 142.288249 67.188671 \nL 145.746927 65.801112 \nL 149.205604 64.455978 \nL 152.664282 63.183688 \nL 156.12296 61.895813 \nL 159.581637 60.310559 \nL 163.040315 58.627179 \nL 166.498993 57.000423 \nL 169.95767 55.418921 \nL 173.416348 53.928502 \nL 176.875026 52.484838 \nL 180.333704 51.081117 \nL 183.792381 49.768133 \nL 187.251059 48.50023 \nL 190.709737 47.287047 \nL 194.168414 46.12004 \nL 197.627092 44.980451 \nL 201.08577 43.874225 \nL 204.544447 42.831376 \nL 208.003125 41.825412 \nL 211.461803 40.83584 \nL 214.92048 39.897929 \nL 218.379158 38.994766 \nL 221.837836 38.134951 \nL 225.296513 37.277965 \nL 228.755191 36.447819 \nL 232.213869 35.657559 \nL 235.672546 34.878842 \nL 239.131224 34.129737 \nL 242.589902 33.419247 \nL 246.04858 32.718397 \nL 249.507257 32.054892 \nL 252.965935 31.3941 \nL 256.424613 30.754953 \nL 259.88329 30.12839 \nL 263.341968 29.507656 \nL 266.800646 28.896043 \nL 270.259323 28.304632 \nL 273.718001 27.733539 \nL 277.176679 27.163542 \nL 280.635356 26.608495 \nL 284.094034 26.067071 \nL 287.552712 25.546541 \nL 291.011389 25.039922 \nL 294.470067 24.543001 \nL 297.928745 24.060625 \nL 301.387423 23.590602 \nL 304.8461 23.1327 \nL 308.304778 22.682763 \nL 311.763456 22.248065 \nL 315.222133 21.821852 \nL 318.680811 21.402565 \nL 322.139489 20.98703 \nL 325.598166 20.590544 \nL 329.056844 20.205313 \nL 332.515522 19.826604 \nL 335.974199 19.457939 \nL 339.432877 19.093834 \nL 342.891555 18.741157 \nL 346.350232 18.396678 \nL 349.80891 18.054333 \nL 353.267588 17.720474 \nL 356.726265 17.400987 \nL 360.184943 17.083636 \n\" style=\"fill:none;stroke:#0000ff;stroke-linecap:square;stroke-width:1.5;\"/>\n   </g>\n   <g id=\"patch_3\">\n    <path d=\"M 40.603125 224.64 \nL 40.603125 7.2 \n\" style=\"fill:none;stroke:#000000;stroke-linecap:square;stroke-linejoin:miter;stroke-width:0.8;\"/>\n   </g>\n   <g id=\"patch_4\">\n    <path d=\"M 375.403125 224.64 \nL 375.403125 7.2 \n\" style=\"fill:none;stroke:#000000;stroke-linecap:square;stroke-linejoin:miter;stroke-width:0.8;\"/>\n   </g>\n   <g id=\"patch_5\">\n    <path d=\"M 40.603125 224.64 \nL 375.403125 224.64 \n\" style=\"fill:none;stroke:#000000;stroke-linecap:square;stroke-linejoin:miter;stroke-width:0.8;\"/>\n   </g>\n   <g id=\"patch_6\">\n    <path d=\"M 40.603125 7.2 \nL 375.403125 7.2 \n\" style=\"fill:none;stroke:#000000;stroke-linecap:square;stroke-linejoin:miter;stroke-width:0.8;\"/>\n   </g>\n   <g id=\"legend_1\">\n    <g id=\"patch_7\">\n     <path d=\"M 47.603125 44.55625 \nL 105.04375 44.55625 \nQ 107.04375 44.55625 107.04375 42.55625 \nL 107.04375 14.2 \nQ 107.04375 12.2 105.04375 12.2 \nL 47.603125 12.2 \nQ 45.603125 12.2 45.603125 14.2 \nL 45.603125 42.55625 \nQ 45.603125 44.55625 47.603125 44.55625 \nz\n\" style=\"fill:#ffffff;opacity:0.8;stroke:#cccccc;stroke-linejoin:miter;\"/>\n    </g>\n    <g id=\"line2d_13\">\n     <path d=\"M 49.603125 20.298437 \nL 69.603125 20.298437 \n\" style=\"fill:none;stroke:#ff0000;stroke-linecap:square;stroke-width:1.5;\"/>\n    </g>\n    <g id=\"line2d_14\"/>\n    <g id=\"text_13\">\n     <!-- Train -->\n     <defs>\n      <path d=\"M -0.296875 72.90625 \nL 61.375 72.90625 \nL 61.375 64.59375 \nL 35.5 64.59375 \nL 35.5 0 \nL 25.59375 0 \nL 25.59375 64.59375 \nL -0.296875 64.59375 \nz\n\" id=\"DejaVuSans-84\"/>\n      <path d=\"M 9.421875 54.6875 \nL 18.40625 54.6875 \nL 18.40625 0 \nL 9.421875 0 \nz\nM 9.421875 75.984375 \nL 18.40625 75.984375 \nL 18.40625 64.59375 \nL 9.421875 64.59375 \nz\n\" id=\"DejaVuSans-105\"/>\n      <path d=\"M 54.890625 33.015625 \nL 54.890625 0 \nL 45.90625 0 \nL 45.90625 32.71875 \nQ 45.90625 40.484375 42.875 44.328125 \nQ 39.84375 48.1875 33.796875 48.1875 \nQ 26.515625 48.1875 22.3125 43.546875 \nQ 18.109375 38.921875 18.109375 30.90625 \nL 18.109375 0 \nL 9.078125 0 \nL 9.078125 54.6875 \nL 18.109375 54.6875 \nL 18.109375 46.1875 \nQ 21.34375 51.125 25.703125 53.5625 \nQ 30.078125 56 35.796875 56 \nQ 45.21875 56 50.046875 50.171875 \nQ 54.890625 44.34375 54.890625 33.015625 \nz\n\" id=\"DejaVuSans-110\"/>\n     </defs>\n     <g transform=\"translate(77.603125 23.798437)scale(0.1 -0.1)\">\n      <use xlink:href=\"#DejaVuSans-84\"/>\n      <use x=\"60.865234\" xlink:href=\"#DejaVuSans-114\"/>\n      <use x=\"101.978516\" xlink:href=\"#DejaVuSans-97\"/>\n      <use x=\"163.257812\" xlink:href=\"#DejaVuSans-105\"/>\n      <use x=\"191.041016\" xlink:href=\"#DejaVuSans-110\"/>\n     </g>\n    </g>\n    <g id=\"line2d_15\">\n     <path d=\"M 49.603125 34.976562 \nL 69.603125 34.976562 \n\" style=\"fill:none;stroke:#0000ff;stroke-linecap:square;stroke-width:1.5;\"/>\n    </g>\n    <g id=\"line2d_16\"/>\n    <g id=\"text_14\">\n     <!-- Val -->\n     <defs>\n      <path d=\"M 28.609375 0 \nL 0.78125 72.90625 \nL 11.078125 72.90625 \nL 34.1875 11.53125 \nL 57.328125 72.90625 \nL 67.578125 72.90625 \nL 39.796875 0 \nz\n\" id=\"DejaVuSans-86\"/>\n      <path d=\"M 9.421875 75.984375 \nL 18.40625 75.984375 \nL 18.40625 0 \nL 9.421875 0 \nz\n\" id=\"DejaVuSans-108\"/>\n     </defs>\n     <g transform=\"translate(77.603125 38.476562)scale(0.1 -0.1)\">\n      <use xlink:href=\"#DejaVuSans-86\"/>\n      <use x=\"68.298828\" xlink:href=\"#DejaVuSans-97\"/>\n      <use x=\"129.578125\" xlink:href=\"#DejaVuSans-108\"/>\n     </g>\n    </g>\n   </g>\n  </g>\n </g>\n <defs>\n  <clipPath id=\"paa6193d8d1\">\n   <rect height=\"217.44\" width=\"334.8\" x=\"40.603125\" y=\"7.2\"/>\n  </clipPath>\n </defs>\n</svg>\n"
          },
          "metadata": {
            "tags": []
          }
        }
      ]
    },
    {
      "cell_type": "code",
      "metadata": {
        "id": "RDDR6rDi61eB",
        "colab_type": "code",
        "outputId": "5b9311ae-1f1b-4036-d185-248ab886a04b",
        "colab": {
          "base_uri": "https://localhost:8080/",
          "height": 371
        }
      },
      "source": [
        "plt.xlabel(\"Epochs\")\n",
        "plt.ylabel(\"Losses\")\n",
        "plt.plot(ep_lookahead_losses, 'r', label='Train')\n",
        "plt.plot(ep_lookahead_lossesv, 'b', label='Val')\n",
        "plt.legend()\n",
        "plt.savefig('lookahead_sgd_resnet18_9340_loss.jpg')"
      ],
      "execution_count": 0,
      "outputs": [
        {
          "output_type": "display_data",
          "data": {
            "text/plain": [
              "<Figure size 432x288 with 1 Axes>"
            ],
            "image/svg+xml": "<?xml version=\"1.0\" encoding=\"utf-8\" standalone=\"no\"?>\n<!DOCTYPE svg PUBLIC \"-//W3C//DTD SVG 1.1//EN\"\n  \"http://www.w3.org/Graphics/SVG/1.1/DTD/svg11.dtd\">\n<!-- Created with matplotlib (https://matplotlib.org/) -->\n<svg height=\"262.19625pt\" version=\"1.1\" viewBox=\"0 0 385.78125 262.19625\" width=\"385.78125pt\" xmlns=\"http://www.w3.org/2000/svg\" xmlns:xlink=\"http://www.w3.org/1999/xlink\">\n <defs>\n  <style type=\"text/css\">\n*{stroke-linecap:butt;stroke-linejoin:round;}\n  </style>\n </defs>\n <g id=\"figure_1\">\n  <g id=\"patch_1\">\n   <path d=\"M 0 262.19625 \nL 385.78125 262.19625 \nL 385.78125 0 \nL 0 0 \nz\n\" style=\"fill:none;\"/>\n  </g>\n  <g id=\"axes_1\">\n   <g id=\"patch_2\">\n    <path d=\"M 43.78125 224.64 \nL 378.58125 224.64 \nL 378.58125 7.2 \nL 43.78125 7.2 \nz\n\" style=\"fill:#ffffff;\"/>\n   </g>\n   <g id=\"matplotlib.axis_1\">\n    <g id=\"xtick_1\">\n     <g id=\"line2d_1\">\n      <defs>\n       <path d=\"M 0 0 \nL 0 3.5 \n\" id=\"m42da233ca9\" style=\"stroke:#000000;stroke-width:0.8;\"/>\n      </defs>\n      <g>\n       <use style=\"stroke:#000000;stroke-width:0.8;\" x=\"58.999432\" xlink:href=\"#m42da233ca9\" y=\"224.64\"/>\n      </g>\n     </g>\n     <g id=\"text_1\">\n      <!-- 0 -->\n      <defs>\n       <path d=\"M 31.78125 66.40625 \nQ 24.171875 66.40625 20.328125 58.90625 \nQ 16.5 51.421875 16.5 36.375 \nQ 16.5 21.390625 20.328125 13.890625 \nQ 24.171875 6.390625 31.78125 6.390625 \nQ 39.453125 6.390625 43.28125 13.890625 \nQ 47.125 21.390625 47.125 36.375 \nQ 47.125 51.421875 43.28125 58.90625 \nQ 39.453125 66.40625 31.78125 66.40625 \nz\nM 31.78125 74.21875 \nQ 44.046875 74.21875 50.515625 64.515625 \nQ 56.984375 54.828125 56.984375 36.375 \nQ 56.984375 17.96875 50.515625 8.265625 \nQ 44.046875 -1.421875 31.78125 -1.421875 \nQ 19.53125 -1.421875 13.0625 8.265625 \nQ 6.59375 17.96875 6.59375 36.375 \nQ 6.59375 54.828125 13.0625 64.515625 \nQ 19.53125 74.21875 31.78125 74.21875 \nz\n\" id=\"DejaVuSans-48\"/>\n      </defs>\n      <g transform=\"translate(55.818182 239.238437)scale(0.1 -0.1)\">\n       <use xlink:href=\"#DejaVuSans-48\"/>\n      </g>\n     </g>\n    </g>\n    <g id=\"xtick_2\">\n     <g id=\"line2d_2\">\n      <g>\n       <use style=\"stroke:#000000;stroke-width:0.8;\" x=\"128.172986\" xlink:href=\"#m42da233ca9\" y=\"224.64\"/>\n      </g>\n     </g>\n     <g id=\"text_2\">\n      <!-- 20 -->\n      <defs>\n       <path d=\"M 19.1875 8.296875 \nL 53.609375 8.296875 \nL 53.609375 0 \nL 7.328125 0 \nL 7.328125 8.296875 \nQ 12.9375 14.109375 22.625 23.890625 \nQ 32.328125 33.6875 34.8125 36.53125 \nQ 39.546875 41.84375 41.421875 45.53125 \nQ 43.3125 49.21875 43.3125 52.78125 \nQ 43.3125 58.59375 39.234375 62.25 \nQ 35.15625 65.921875 28.609375 65.921875 \nQ 23.96875 65.921875 18.8125 64.3125 \nQ 13.671875 62.703125 7.8125 59.421875 \nL 7.8125 69.390625 \nQ 13.765625 71.78125 18.9375 73 \nQ 24.125 74.21875 28.421875 74.21875 \nQ 39.75 74.21875 46.484375 68.546875 \nQ 53.21875 62.890625 53.21875 53.421875 \nQ 53.21875 48.921875 51.53125 44.890625 \nQ 49.859375 40.875 45.40625 35.40625 \nQ 44.1875 33.984375 37.640625 27.21875 \nQ 31.109375 20.453125 19.1875 8.296875 \nz\n\" id=\"DejaVuSans-50\"/>\n      </defs>\n      <g transform=\"translate(121.810486 239.238437)scale(0.1 -0.1)\">\n       <use xlink:href=\"#DejaVuSans-50\"/>\n       <use x=\"63.623047\" xlink:href=\"#DejaVuSans-48\"/>\n      </g>\n     </g>\n    </g>\n    <g id=\"xtick_3\">\n     <g id=\"line2d_3\">\n      <g>\n       <use style=\"stroke:#000000;stroke-width:0.8;\" x=\"197.346539\" xlink:href=\"#m42da233ca9\" y=\"224.64\"/>\n      </g>\n     </g>\n     <g id=\"text_3\">\n      <!-- 40 -->\n      <defs>\n       <path d=\"M 37.796875 64.3125 \nL 12.890625 25.390625 \nL 37.796875 25.390625 \nz\nM 35.203125 72.90625 \nL 47.609375 72.90625 \nL 47.609375 25.390625 \nL 58.015625 25.390625 \nL 58.015625 17.1875 \nL 47.609375 17.1875 \nL 47.609375 0 \nL 37.796875 0 \nL 37.796875 17.1875 \nL 4.890625 17.1875 \nL 4.890625 26.703125 \nz\n\" id=\"DejaVuSans-52\"/>\n      </defs>\n      <g transform=\"translate(190.984039 239.238437)scale(0.1 -0.1)\">\n       <use xlink:href=\"#DejaVuSans-52\"/>\n       <use x=\"63.623047\" xlink:href=\"#DejaVuSans-48\"/>\n      </g>\n     </g>\n    </g>\n    <g id=\"xtick_4\">\n     <g id=\"line2d_4\">\n      <g>\n       <use style=\"stroke:#000000;stroke-width:0.8;\" x=\"266.520093\" xlink:href=\"#m42da233ca9\" y=\"224.64\"/>\n      </g>\n     </g>\n     <g id=\"text_4\">\n      <!-- 60 -->\n      <defs>\n       <path d=\"M 33.015625 40.375 \nQ 26.375 40.375 22.484375 35.828125 \nQ 18.609375 31.296875 18.609375 23.390625 \nQ 18.609375 15.53125 22.484375 10.953125 \nQ 26.375 6.390625 33.015625 6.390625 \nQ 39.65625 6.390625 43.53125 10.953125 \nQ 47.40625 15.53125 47.40625 23.390625 \nQ 47.40625 31.296875 43.53125 35.828125 \nQ 39.65625 40.375 33.015625 40.375 \nz\nM 52.59375 71.296875 \nL 52.59375 62.3125 \nQ 48.875 64.0625 45.09375 64.984375 \nQ 41.3125 65.921875 37.59375 65.921875 \nQ 27.828125 65.921875 22.671875 59.328125 \nQ 17.53125 52.734375 16.796875 39.40625 \nQ 19.671875 43.65625 24.015625 45.921875 \nQ 28.375 48.1875 33.59375 48.1875 \nQ 44.578125 48.1875 50.953125 41.515625 \nQ 57.328125 34.859375 57.328125 23.390625 \nQ 57.328125 12.15625 50.6875 5.359375 \nQ 44.046875 -1.421875 33.015625 -1.421875 \nQ 20.359375 -1.421875 13.671875 8.265625 \nQ 6.984375 17.96875 6.984375 36.375 \nQ 6.984375 53.65625 15.1875 63.9375 \nQ 23.390625 74.21875 37.203125 74.21875 \nQ 40.921875 74.21875 44.703125 73.484375 \nQ 48.484375 72.75 52.59375 71.296875 \nz\n\" id=\"DejaVuSans-54\"/>\n      </defs>\n      <g transform=\"translate(260.157593 239.238437)scale(0.1 -0.1)\">\n       <use xlink:href=\"#DejaVuSans-54\"/>\n       <use x=\"63.623047\" xlink:href=\"#DejaVuSans-48\"/>\n      </g>\n     </g>\n    </g>\n    <g id=\"xtick_5\">\n     <g id=\"line2d_5\">\n      <g>\n       <use style=\"stroke:#000000;stroke-width:0.8;\" x=\"335.693647\" xlink:href=\"#m42da233ca9\" y=\"224.64\"/>\n      </g>\n     </g>\n     <g id=\"text_5\">\n      <!-- 80 -->\n      <defs>\n       <path d=\"M 31.78125 34.625 \nQ 24.75 34.625 20.71875 30.859375 \nQ 16.703125 27.09375 16.703125 20.515625 \nQ 16.703125 13.921875 20.71875 10.15625 \nQ 24.75 6.390625 31.78125 6.390625 \nQ 38.8125 6.390625 42.859375 10.171875 \nQ 46.921875 13.96875 46.921875 20.515625 \nQ 46.921875 27.09375 42.890625 30.859375 \nQ 38.875 34.625 31.78125 34.625 \nz\nM 21.921875 38.8125 \nQ 15.578125 40.375 12.03125 44.71875 \nQ 8.5 49.078125 8.5 55.328125 \nQ 8.5 64.0625 14.71875 69.140625 \nQ 20.953125 74.21875 31.78125 74.21875 \nQ 42.671875 74.21875 48.875 69.140625 \nQ 55.078125 64.0625 55.078125 55.328125 \nQ 55.078125 49.078125 51.53125 44.71875 \nQ 48 40.375 41.703125 38.8125 \nQ 48.828125 37.15625 52.796875 32.3125 \nQ 56.78125 27.484375 56.78125 20.515625 \nQ 56.78125 9.90625 50.3125 4.234375 \nQ 43.84375 -1.421875 31.78125 -1.421875 \nQ 19.734375 -1.421875 13.25 4.234375 \nQ 6.78125 9.90625 6.78125 20.515625 \nQ 6.78125 27.484375 10.78125 32.3125 \nQ 14.796875 37.15625 21.921875 38.8125 \nz\nM 18.3125 54.390625 \nQ 18.3125 48.734375 21.84375 45.5625 \nQ 25.390625 42.390625 31.78125 42.390625 \nQ 38.140625 42.390625 41.71875 45.5625 \nQ 45.3125 48.734375 45.3125 54.390625 \nQ 45.3125 60.0625 41.71875 63.234375 \nQ 38.140625 66.40625 31.78125 66.40625 \nQ 25.390625 66.40625 21.84375 63.234375 \nQ 18.3125 60.0625 18.3125 54.390625 \nz\n\" id=\"DejaVuSans-56\"/>\n      </defs>\n      <g transform=\"translate(329.331147 239.238437)scale(0.1 -0.1)\">\n       <use xlink:href=\"#DejaVuSans-56\"/>\n       <use x=\"63.623047\" xlink:href=\"#DejaVuSans-48\"/>\n      </g>\n     </g>\n    </g>\n    <g id=\"text_6\">\n     <!-- Epochs -->\n     <defs>\n      <path d=\"M 9.8125 72.90625 \nL 55.90625 72.90625 \nL 55.90625 64.59375 \nL 19.671875 64.59375 \nL 19.671875 43.015625 \nL 54.390625 43.015625 \nL 54.390625 34.71875 \nL 19.671875 34.71875 \nL 19.671875 8.296875 \nL 56.78125 8.296875 \nL 56.78125 0 \nL 9.8125 0 \nz\n\" id=\"DejaVuSans-69\"/>\n      <path d=\"M 18.109375 8.203125 \nL 18.109375 -20.796875 \nL 9.078125 -20.796875 \nL 9.078125 54.6875 \nL 18.109375 54.6875 \nL 18.109375 46.390625 \nQ 20.953125 51.265625 25.265625 53.625 \nQ 29.59375 56 35.59375 56 \nQ 45.5625 56 51.78125 48.09375 \nQ 58.015625 40.1875 58.015625 27.296875 \nQ 58.015625 14.40625 51.78125 6.484375 \nQ 45.5625 -1.421875 35.59375 -1.421875 \nQ 29.59375 -1.421875 25.265625 0.953125 \nQ 20.953125 3.328125 18.109375 8.203125 \nz\nM 48.6875 27.296875 \nQ 48.6875 37.203125 44.609375 42.84375 \nQ 40.53125 48.484375 33.40625 48.484375 \nQ 26.265625 48.484375 22.1875 42.84375 \nQ 18.109375 37.203125 18.109375 27.296875 \nQ 18.109375 17.390625 22.1875 11.75 \nQ 26.265625 6.109375 33.40625 6.109375 \nQ 40.53125 6.109375 44.609375 11.75 \nQ 48.6875 17.390625 48.6875 27.296875 \nz\n\" id=\"DejaVuSans-112\"/>\n      <path d=\"M 30.609375 48.390625 \nQ 23.390625 48.390625 19.1875 42.75 \nQ 14.984375 37.109375 14.984375 27.296875 \nQ 14.984375 17.484375 19.15625 11.84375 \nQ 23.34375 6.203125 30.609375 6.203125 \nQ 37.796875 6.203125 41.984375 11.859375 \nQ 46.1875 17.53125 46.1875 27.296875 \nQ 46.1875 37.015625 41.984375 42.703125 \nQ 37.796875 48.390625 30.609375 48.390625 \nz\nM 30.609375 56 \nQ 42.328125 56 49.015625 48.375 \nQ 55.71875 40.765625 55.71875 27.296875 \nQ 55.71875 13.875 49.015625 6.21875 \nQ 42.328125 -1.421875 30.609375 -1.421875 \nQ 18.84375 -1.421875 12.171875 6.21875 \nQ 5.515625 13.875 5.515625 27.296875 \nQ 5.515625 40.765625 12.171875 48.375 \nQ 18.84375 56 30.609375 56 \nz\n\" id=\"DejaVuSans-111\"/>\n      <path d=\"M 48.78125 52.59375 \nL 48.78125 44.1875 \nQ 44.96875 46.296875 41.140625 47.34375 \nQ 37.3125 48.390625 33.40625 48.390625 \nQ 24.65625 48.390625 19.8125 42.84375 \nQ 14.984375 37.3125 14.984375 27.296875 \nQ 14.984375 17.28125 19.8125 11.734375 \nQ 24.65625 6.203125 33.40625 6.203125 \nQ 37.3125 6.203125 41.140625 7.25 \nQ 44.96875 8.296875 48.78125 10.40625 \nL 48.78125 2.09375 \nQ 45.015625 0.34375 40.984375 -0.53125 \nQ 36.96875 -1.421875 32.421875 -1.421875 \nQ 20.0625 -1.421875 12.78125 6.34375 \nQ 5.515625 14.109375 5.515625 27.296875 \nQ 5.515625 40.671875 12.859375 48.328125 \nQ 20.21875 56 33.015625 56 \nQ 37.15625 56 41.109375 55.140625 \nQ 45.0625 54.296875 48.78125 52.59375 \nz\n\" id=\"DejaVuSans-99\"/>\n      <path d=\"M 54.890625 33.015625 \nL 54.890625 0 \nL 45.90625 0 \nL 45.90625 32.71875 \nQ 45.90625 40.484375 42.875 44.328125 \nQ 39.84375 48.1875 33.796875 48.1875 \nQ 26.515625 48.1875 22.3125 43.546875 \nQ 18.109375 38.921875 18.109375 30.90625 \nL 18.109375 0 \nL 9.078125 0 \nL 9.078125 75.984375 \nL 18.109375 75.984375 \nL 18.109375 46.1875 \nQ 21.34375 51.125 25.703125 53.5625 \nQ 30.078125 56 35.796875 56 \nQ 45.21875 56 50.046875 50.171875 \nQ 54.890625 44.34375 54.890625 33.015625 \nz\n\" id=\"DejaVuSans-104\"/>\n      <path d=\"M 44.28125 53.078125 \nL 44.28125 44.578125 \nQ 40.484375 46.53125 36.375 47.5 \nQ 32.28125 48.484375 27.875 48.484375 \nQ 21.1875 48.484375 17.84375 46.4375 \nQ 14.5 44.390625 14.5 40.28125 \nQ 14.5 37.15625 16.890625 35.375 \nQ 19.28125 33.59375 26.515625 31.984375 \nL 29.59375 31.296875 \nQ 39.15625 29.25 43.1875 25.515625 \nQ 47.21875 21.78125 47.21875 15.09375 \nQ 47.21875 7.46875 41.1875 3.015625 \nQ 35.15625 -1.421875 24.609375 -1.421875 \nQ 20.21875 -1.421875 15.453125 -0.5625 \nQ 10.6875 0.296875 5.421875 2 \nL 5.421875 11.28125 \nQ 10.40625 8.6875 15.234375 7.390625 \nQ 20.0625 6.109375 24.8125 6.109375 \nQ 31.15625 6.109375 34.5625 8.28125 \nQ 37.984375 10.453125 37.984375 14.40625 \nQ 37.984375 18.0625 35.515625 20.015625 \nQ 33.0625 21.96875 24.703125 23.78125 \nL 21.578125 24.515625 \nQ 13.234375 26.265625 9.515625 29.90625 \nQ 5.8125 33.546875 5.8125 39.890625 \nQ 5.8125 47.609375 11.28125 51.796875 \nQ 16.75 56 26.8125 56 \nQ 31.78125 56 36.171875 55.265625 \nQ 40.578125 54.546875 44.28125 53.078125 \nz\n\" id=\"DejaVuSans-115\"/>\n     </defs>\n     <g transform=\"translate(193.265625 252.916562)scale(0.1 -0.1)\">\n      <use xlink:href=\"#DejaVuSans-69\"/>\n      <use x=\"63.183594\" xlink:href=\"#DejaVuSans-112\"/>\n      <use x=\"126.660156\" xlink:href=\"#DejaVuSans-111\"/>\n      <use x=\"187.841797\" xlink:href=\"#DejaVuSans-99\"/>\n      <use x=\"242.822266\" xlink:href=\"#DejaVuSans-104\"/>\n      <use x=\"306.201172\" xlink:href=\"#DejaVuSans-115\"/>\n     </g>\n    </g>\n   </g>\n   <g id=\"matplotlib.axis_2\">\n    <g id=\"ytick_1\">\n     <g id=\"line2d_6\">\n      <defs>\n       <path d=\"M 0 0 \nL -3.5 0 \n\" id=\"mca7712fc39\" style=\"stroke:#000000;stroke-width:0.8;\"/>\n      </defs>\n      <g>\n       <use style=\"stroke:#000000;stroke-width:0.8;\" x=\"43.78125\" xlink:href=\"#mca7712fc39\" y=\"216.037478\"/>\n      </g>\n     </g>\n     <g id=\"text_7\">\n      <!-- 0.0 -->\n      <defs>\n       <path d=\"M 10.6875 12.40625 \nL 21 12.40625 \nL 21 0 \nL 10.6875 0 \nz\n\" id=\"DejaVuSans-46\"/>\n      </defs>\n      <g transform=\"translate(20.878125 219.836696)scale(0.1 -0.1)\">\n       <use xlink:href=\"#DejaVuSans-48\"/>\n       <use x=\"63.623047\" xlink:href=\"#DejaVuSans-46\"/>\n       <use x=\"95.410156\" xlink:href=\"#DejaVuSans-48\"/>\n      </g>\n     </g>\n    </g>\n    <g id=\"ytick_2\">\n     <g id=\"line2d_7\">\n      <g>\n       <use style=\"stroke:#000000;stroke-width:0.8;\" x=\"43.78125\" xlink:href=\"#mca7712fc39\" y=\"185.924561\"/>\n      </g>\n     </g>\n     <g id=\"text_8\">\n      <!-- 0.1 -->\n      <defs>\n       <path d=\"M 12.40625 8.296875 \nL 28.515625 8.296875 \nL 28.515625 63.921875 \nL 10.984375 60.40625 \nL 10.984375 69.390625 \nL 28.421875 72.90625 \nL 38.28125 72.90625 \nL 38.28125 8.296875 \nL 54.390625 8.296875 \nL 54.390625 0 \nL 12.40625 0 \nz\n\" id=\"DejaVuSans-49\"/>\n      </defs>\n      <g transform=\"translate(20.878125 189.72378)scale(0.1 -0.1)\">\n       <use xlink:href=\"#DejaVuSans-48\"/>\n       <use x=\"63.623047\" xlink:href=\"#DejaVuSans-46\"/>\n       <use x=\"95.410156\" xlink:href=\"#DejaVuSans-49\"/>\n      </g>\n     </g>\n    </g>\n    <g id=\"ytick_3\">\n     <g id=\"line2d_8\">\n      <g>\n       <use style=\"stroke:#000000;stroke-width:0.8;\" x=\"43.78125\" xlink:href=\"#mca7712fc39\" y=\"155.811644\"/>\n      </g>\n     </g>\n     <g id=\"text_9\">\n      <!-- 0.2 -->\n      <g transform=\"translate(20.878125 159.610863)scale(0.1 -0.1)\">\n       <use xlink:href=\"#DejaVuSans-48\"/>\n       <use x=\"63.623047\" xlink:href=\"#DejaVuSans-46\"/>\n       <use x=\"95.410156\" xlink:href=\"#DejaVuSans-50\"/>\n      </g>\n     </g>\n    </g>\n    <g id=\"ytick_4\">\n     <g id=\"line2d_9\">\n      <g>\n       <use style=\"stroke:#000000;stroke-width:0.8;\" x=\"43.78125\" xlink:href=\"#mca7712fc39\" y=\"125.698727\"/>\n      </g>\n     </g>\n     <g id=\"text_10\">\n      <!-- 0.3 -->\n      <defs>\n       <path d=\"M 40.578125 39.3125 \nQ 47.65625 37.796875 51.625 33 \nQ 55.609375 28.21875 55.609375 21.1875 \nQ 55.609375 10.40625 48.1875 4.484375 \nQ 40.765625 -1.421875 27.09375 -1.421875 \nQ 22.515625 -1.421875 17.65625 -0.515625 \nQ 12.796875 0.390625 7.625 2.203125 \nL 7.625 11.71875 \nQ 11.71875 9.328125 16.59375 8.109375 \nQ 21.484375 6.890625 26.8125 6.890625 \nQ 36.078125 6.890625 40.9375 10.546875 \nQ 45.796875 14.203125 45.796875 21.1875 \nQ 45.796875 27.640625 41.28125 31.265625 \nQ 36.765625 34.90625 28.71875 34.90625 \nL 20.21875 34.90625 \nL 20.21875 43.015625 \nL 29.109375 43.015625 \nQ 36.375 43.015625 40.234375 45.921875 \nQ 44.09375 48.828125 44.09375 54.296875 \nQ 44.09375 59.90625 40.109375 62.90625 \nQ 36.140625 65.921875 28.71875 65.921875 \nQ 24.65625 65.921875 20.015625 65.03125 \nQ 15.375 64.15625 9.8125 62.3125 \nL 9.8125 71.09375 \nQ 15.4375 72.65625 20.34375 73.4375 \nQ 25.25 74.21875 29.59375 74.21875 \nQ 40.828125 74.21875 47.359375 69.109375 \nQ 53.90625 64.015625 53.90625 55.328125 \nQ 53.90625 49.265625 50.4375 45.09375 \nQ 46.96875 40.921875 40.578125 39.3125 \nz\n\" id=\"DejaVuSans-51\"/>\n      </defs>\n      <g transform=\"translate(20.878125 129.497946)scale(0.1 -0.1)\">\n       <use xlink:href=\"#DejaVuSans-48\"/>\n       <use x=\"63.623047\" xlink:href=\"#DejaVuSans-46\"/>\n       <use x=\"95.410156\" xlink:href=\"#DejaVuSans-51\"/>\n      </g>\n     </g>\n    </g>\n    <g id=\"ytick_5\">\n     <g id=\"line2d_10\">\n      <g>\n       <use style=\"stroke:#000000;stroke-width:0.8;\" x=\"43.78125\" xlink:href=\"#mca7712fc39\" y=\"95.58581\"/>\n      </g>\n     </g>\n     <g id=\"text_11\">\n      <!-- 0.4 -->\n      <g transform=\"translate(20.878125 99.385029)scale(0.1 -0.1)\">\n       <use xlink:href=\"#DejaVuSans-48\"/>\n       <use x=\"63.623047\" xlink:href=\"#DejaVuSans-46\"/>\n       <use x=\"95.410156\" xlink:href=\"#DejaVuSans-52\"/>\n      </g>\n     </g>\n    </g>\n    <g id=\"ytick_6\">\n     <g id=\"line2d_11\">\n      <g>\n       <use style=\"stroke:#000000;stroke-width:0.8;\" x=\"43.78125\" xlink:href=\"#mca7712fc39\" y=\"65.472893\"/>\n      </g>\n     </g>\n     <g id=\"text_12\">\n      <!-- 0.5 -->\n      <defs>\n       <path d=\"M 10.796875 72.90625 \nL 49.515625 72.90625 \nL 49.515625 64.59375 \nL 19.828125 64.59375 \nL 19.828125 46.734375 \nQ 21.96875 47.46875 24.109375 47.828125 \nQ 26.265625 48.1875 28.421875 48.1875 \nQ 40.625 48.1875 47.75 41.5 \nQ 54.890625 34.8125 54.890625 23.390625 \nQ 54.890625 11.625 47.5625 5.09375 \nQ 40.234375 -1.421875 26.90625 -1.421875 \nQ 22.3125 -1.421875 17.546875 -0.640625 \nQ 12.796875 0.140625 7.71875 1.703125 \nL 7.71875 11.625 \nQ 12.109375 9.234375 16.796875 8.0625 \nQ 21.484375 6.890625 26.703125 6.890625 \nQ 35.15625 6.890625 40.078125 11.328125 \nQ 45.015625 15.765625 45.015625 23.390625 \nQ 45.015625 31 40.078125 35.4375 \nQ 35.15625 39.890625 26.703125 39.890625 \nQ 22.75 39.890625 18.8125 39.015625 \nQ 14.890625 38.140625 10.796875 36.28125 \nz\n\" id=\"DejaVuSans-53\"/>\n      </defs>\n      <g transform=\"translate(20.878125 69.272112)scale(0.1 -0.1)\">\n       <use xlink:href=\"#DejaVuSans-48\"/>\n       <use x=\"63.623047\" xlink:href=\"#DejaVuSans-46\"/>\n       <use x=\"95.410156\" xlink:href=\"#DejaVuSans-53\"/>\n      </g>\n     </g>\n    </g>\n    <g id=\"ytick_7\">\n     <g id=\"line2d_12\">\n      <g>\n       <use style=\"stroke:#000000;stroke-width:0.8;\" x=\"43.78125\" xlink:href=\"#mca7712fc39\" y=\"35.359976\"/>\n      </g>\n     </g>\n     <g id=\"text_13\">\n      <!-- 0.6 -->\n      <g transform=\"translate(20.878125 39.159195)scale(0.1 -0.1)\">\n       <use xlink:href=\"#DejaVuSans-48\"/>\n       <use x=\"63.623047\" xlink:href=\"#DejaVuSans-46\"/>\n       <use x=\"95.410156\" xlink:href=\"#DejaVuSans-54\"/>\n      </g>\n     </g>\n    </g>\n    <g id=\"text_14\">\n     <!-- Losses -->\n     <defs>\n      <path d=\"M 9.8125 72.90625 \nL 19.671875 72.90625 \nL 19.671875 8.296875 \nL 55.171875 8.296875 \nL 55.171875 0 \nL 9.8125 0 \nz\n\" id=\"DejaVuSans-76\"/>\n      <path d=\"M 56.203125 29.59375 \nL 56.203125 25.203125 \nL 14.890625 25.203125 \nQ 15.484375 15.921875 20.484375 11.0625 \nQ 25.484375 6.203125 34.421875 6.203125 \nQ 39.59375 6.203125 44.453125 7.46875 \nQ 49.3125 8.734375 54.109375 11.28125 \nL 54.109375 2.78125 \nQ 49.265625 0.734375 44.1875 -0.34375 \nQ 39.109375 -1.421875 33.890625 -1.421875 \nQ 20.796875 -1.421875 13.15625 6.1875 \nQ 5.515625 13.8125 5.515625 26.8125 \nQ 5.515625 40.234375 12.765625 48.109375 \nQ 20.015625 56 32.328125 56 \nQ 43.359375 56 49.78125 48.890625 \nQ 56.203125 41.796875 56.203125 29.59375 \nz\nM 47.21875 32.234375 \nQ 47.125 39.59375 43.09375 43.984375 \nQ 39.0625 48.390625 32.421875 48.390625 \nQ 24.90625 48.390625 20.390625 44.140625 \nQ 15.875 39.890625 15.1875 32.171875 \nz\n\" id=\"DejaVuSans-101\"/>\n     </defs>\n     <g transform=\"translate(14.798438 132.655156)rotate(-90)scale(0.1 -0.1)\">\n      <use xlink:href=\"#DejaVuSans-76\"/>\n      <use x=\"55.697266\" xlink:href=\"#DejaVuSans-111\"/>\n      <use x=\"116.878906\" xlink:href=\"#DejaVuSans-115\"/>\n      <use x=\"168.978516\" xlink:href=\"#DejaVuSans-115\"/>\n      <use x=\"221.078125\" xlink:href=\"#DejaVuSans-101\"/>\n      <use x=\"282.601562\" xlink:href=\"#DejaVuSans-115\"/>\n     </g>\n    </g>\n   </g>\n   <g id=\"line2d_13\">\n    <path clip-path=\"url(#p2e6482a913)\" d=\"M 58.999432 17.083636 \nL 62.45811 86.355242 \nL 65.916787 86.951587 \nL 69.375465 72.775473 \nL 72.834143 96.452883 \nL 76.29282 92.595241 \nL 79.751498 91.042814 \nL 83.210176 94.470593 \nL 86.668853 116.639836 \nL 90.127531 132.336232 \nL 93.586209 140.624977 \nL 97.044886 154.713246 \nL 100.503564 136.170523 \nL 103.962242 151.909031 \nL 107.420919 140.132312 \nL 110.879597 136.80728 \nL 114.338275 148.480341 \nL 117.796952 145.213628 \nL 121.25563 157.795266 \nL 124.714308 167.396145 \nL 128.172986 173.836187 \nL 131.631663 155.787982 \nL 135.090341 163.501327 \nL 138.549019 150.852387 \nL 142.007696 159.480137 \nL 145.466374 160.681425 \nL 148.925052 138.405746 \nL 152.383729 164.557334 \nL 155.842407 161.633321 \nL 159.301085 181.686213 \nL 162.759762 192.518611 \nL 166.21844 179.806736 \nL 169.677118 197.377404 \nL 173.135795 170.38529 \nL 176.594473 179.568408 \nL 180.053151 188.32311 \nL 183.511829 200.958409 \nL 186.970506 192.65197 \nL 190.429184 193.901958 \nL 193.887862 191.418132 \nL 197.346539 205.982623 \nL 200.805217 167.044543 \nL 204.263895 204.3653 \nL 207.722572 193.641333 \nL 211.18125 198.102469 \nL 214.639928 186.79284 \nL 218.098605 211.523782 \nL 221.557283 201.780844 \nL 225.015961 200.802404 \nL 228.474638 201.236482 \nL 231.933316 210.625167 \nL 235.391994 194.910015 \nL 238.850671 208.038226 \nL 242.309349 203.460961 \nL 245.768027 202.599564 \nL 249.226705 204.015472 \nL 252.685382 202.216048 \nL 256.14406 200.390303 \nL 259.602738 190.687945 \nL 263.061415 209.036948 \nL 266.520093 200.380052 \nL 269.978771 208.887084 \nL 273.437448 209.658484 \nL 276.896126 199.404197 \nL 280.354804 198.686099 \nL 283.813481 208.926981 \nL 287.272159 205.053757 \nL 290.730837 210.986867 \nL 294.189514 206.190616 \nL 297.648192 201.842396 \nL 301.10687 209.087196 \nL 304.565548 213.370854 \nL 308.024225 214.756364 \nL 311.482903 209.525626 \nL 314.941581 214.447964 \nL 318.400258 206.084722 \nL 321.858936 210.033791 \nL 325.317614 212.799184 \nL 328.776291 211.278625 \nL 332.234969 213.016924 \nL 335.693647 212.659196 \nL 339.152324 208.204206 \nL 342.611002 192.39993 \nL 346.06968 213.187548 \nL 349.528357 199.496169 \nL 352.987035 204.485641 \nL 356.445713 211.722967 \nL 359.90439 194.689053 \nL 363.363068 199.820713 \n\" style=\"fill:none;stroke:#ff0000;stroke-linecap:square;stroke-width:1.5;\"/>\n   </g>\n   <g id=\"line2d_14\">\n    <path clip-path=\"url(#p2e6482a913)\" d=\"M 58.999432 86.503615 \nL 62.45811 85.401197 \nL 65.916787 77.262396 \nL 69.375465 81.551372 \nL 72.834143 56.64926 \nL 76.29282 101.34795 \nL 79.751498 92.786987 \nL 83.210176 79.538102 \nL 86.668853 87.426806 \nL 90.127531 95.925891 \nL 93.586209 97.580402 \nL 97.044886 120.696583 \nL 100.503564 92.253256 \nL 103.962242 113.423466 \nL 107.420919 84.955594 \nL 110.879597 124.926831 \nL 114.338275 114.099827 \nL 117.796952 106.372571 \nL 121.25563 104.170859 \nL 124.714308 116.029024 \nL 128.172986 111.078083 \nL 131.631663 115.06876 \nL 135.090341 108.656875 \nL 138.549019 95.993091 \nL 142.007696 94.269657 \nL 145.466374 54.579739 \nL 148.925052 97.829683 \nL 152.383729 105.495463 \nL 155.842407 119.550675 \nL 159.301085 109.419767 \nL 162.759762 117.254543 \nL 166.21844 111.482404 \nL 169.677118 109.344929 \nL 173.135795 99.511637 \nL 176.594473 102.487576 \nL 180.053151 110.320639 \nL 183.511829 96.657184 \nL 186.970506 118.722379 \nL 190.429184 98.799226 \nL 193.887862 92.519911 \nL 197.346539 83.105998 \nL 200.805217 86.31632 \nL 204.263895 85.10175 \nL 207.722572 79.263882 \nL 211.18125 90.860401 \nL 214.639928 82.933332 \nL 218.098605 86.518369 \nL 221.557283 83.546854 \nL 225.015961 90.092654 \nL 228.474638 81.860772 \nL 231.933316 76.037433 \nL 235.391994 74.327659 \nL 238.850671 74.123025 \nL 242.309349 74.489233 \nL 245.768027 77.372233 \nL 249.226705 80.202204 \nL 252.685382 69.947889 \nL 256.14406 56.461857 \nL 259.602738 56.681873 \nL 263.061415 59.247154 \nL 266.520093 55.558697 \nL 269.978771 57.622133 \nL 273.437448 58.673963 \nL 276.896126 62.713048 \nL 280.354804 61.011242 \nL 283.813481 55.67592 \nL 287.272159 56.805665 \nL 290.730837 58.651132 \nL 294.189514 54.180901 \nL 297.648192 58.39486 \nL 301.10687 54.997441 \nL 304.565548 62.928486 \nL 308.024225 67.33105 \nL 311.482903 59.451374 \nL 314.941581 59.366603 \nL 318.400258 65.516885 \nL 321.858936 60.653829 \nL 325.317614 51.025269 \nL 328.776291 59.074039 \nL 332.234969 66.273019 \nL 335.693647 57.348738 \nL 339.152324 51.351576 \nL 342.611002 57.038316 \nL 346.06968 50.272483 \nL 349.528357 53.399415 \nL 352.987035 54.897898 \nL 356.445713 57.161444 \nL 359.90439 59.301287 \nL 363.363068 50.611803 \n\" style=\"fill:none;stroke:#0000ff;stroke-linecap:square;stroke-width:1.5;\"/>\n   </g>\n   <g id=\"patch_3\">\n    <path d=\"M 43.78125 224.64 \nL 43.78125 7.2 \n\" style=\"fill:none;stroke:#000000;stroke-linecap:square;stroke-linejoin:miter;stroke-width:0.8;\"/>\n   </g>\n   <g id=\"patch_4\">\n    <path d=\"M 378.58125 224.64 \nL 378.58125 7.2 \n\" style=\"fill:none;stroke:#000000;stroke-linecap:square;stroke-linejoin:miter;stroke-width:0.8;\"/>\n   </g>\n   <g id=\"patch_5\">\n    <path d=\"M 43.78125 224.64 \nL 378.58125 224.64 \n\" style=\"fill:none;stroke:#000000;stroke-linecap:square;stroke-linejoin:miter;stroke-width:0.8;\"/>\n   </g>\n   <g id=\"patch_6\">\n    <path d=\"M 43.78125 7.2 \nL 378.58125 7.2 \n\" style=\"fill:none;stroke:#000000;stroke-linecap:square;stroke-linejoin:miter;stroke-width:0.8;\"/>\n   </g>\n   <g id=\"legend_1\">\n    <g id=\"patch_7\">\n     <path d=\"M 314.140625 44.55625 \nL 371.58125 44.55625 \nQ 373.58125 44.55625 373.58125 42.55625 \nL 373.58125 14.2 \nQ 373.58125 12.2 371.58125 12.2 \nL 314.140625 12.2 \nQ 312.140625 12.2 312.140625 14.2 \nL 312.140625 42.55625 \nQ 312.140625 44.55625 314.140625 44.55625 \nz\n\" style=\"fill:#ffffff;opacity:0.8;stroke:#cccccc;stroke-linejoin:miter;\"/>\n    </g>\n    <g id=\"line2d_15\">\n     <path d=\"M 316.140625 20.298437 \nL 336.140625 20.298437 \n\" style=\"fill:none;stroke:#ff0000;stroke-linecap:square;stroke-width:1.5;\"/>\n    </g>\n    <g id=\"line2d_16\"/>\n    <g id=\"text_15\">\n     <!-- Train -->\n     <defs>\n      <path d=\"M -0.296875 72.90625 \nL 61.375 72.90625 \nL 61.375 64.59375 \nL 35.5 64.59375 \nL 35.5 0 \nL 25.59375 0 \nL 25.59375 64.59375 \nL -0.296875 64.59375 \nz\n\" id=\"DejaVuSans-84\"/>\n      <path d=\"M 41.109375 46.296875 \nQ 39.59375 47.171875 37.8125 47.578125 \nQ 36.03125 48 33.890625 48 \nQ 26.265625 48 22.1875 43.046875 \nQ 18.109375 38.09375 18.109375 28.8125 \nL 18.109375 0 \nL 9.078125 0 \nL 9.078125 54.6875 \nL 18.109375 54.6875 \nL 18.109375 46.1875 \nQ 20.953125 51.171875 25.484375 53.578125 \nQ 30.03125 56 36.53125 56 \nQ 37.453125 56 38.578125 55.875 \nQ 39.703125 55.765625 41.0625 55.515625 \nz\n\" id=\"DejaVuSans-114\"/>\n      <path d=\"M 34.28125 27.484375 \nQ 23.390625 27.484375 19.1875 25 \nQ 14.984375 22.515625 14.984375 16.5 \nQ 14.984375 11.71875 18.140625 8.90625 \nQ 21.296875 6.109375 26.703125 6.109375 \nQ 34.1875 6.109375 38.703125 11.40625 \nQ 43.21875 16.703125 43.21875 25.484375 \nL 43.21875 27.484375 \nz\nM 52.203125 31.203125 \nL 52.203125 0 \nL 43.21875 0 \nL 43.21875 8.296875 \nQ 40.140625 3.328125 35.546875 0.953125 \nQ 30.953125 -1.421875 24.3125 -1.421875 \nQ 15.921875 -1.421875 10.953125 3.296875 \nQ 6 8.015625 6 15.921875 \nQ 6 25.140625 12.171875 29.828125 \nQ 18.359375 34.515625 30.609375 34.515625 \nL 43.21875 34.515625 \nL 43.21875 35.40625 \nQ 43.21875 41.609375 39.140625 45 \nQ 35.0625 48.390625 27.6875 48.390625 \nQ 23 48.390625 18.546875 47.265625 \nQ 14.109375 46.140625 10.015625 43.890625 \nL 10.015625 52.203125 \nQ 14.9375 54.109375 19.578125 55.046875 \nQ 24.21875 56 28.609375 56 \nQ 40.484375 56 46.34375 49.84375 \nQ 52.203125 43.703125 52.203125 31.203125 \nz\n\" id=\"DejaVuSans-97\"/>\n      <path d=\"M 9.421875 54.6875 \nL 18.40625 54.6875 \nL 18.40625 0 \nL 9.421875 0 \nz\nM 9.421875 75.984375 \nL 18.40625 75.984375 \nL 18.40625 64.59375 \nL 9.421875 64.59375 \nz\n\" id=\"DejaVuSans-105\"/>\n      <path d=\"M 54.890625 33.015625 \nL 54.890625 0 \nL 45.90625 0 \nL 45.90625 32.71875 \nQ 45.90625 40.484375 42.875 44.328125 \nQ 39.84375 48.1875 33.796875 48.1875 \nQ 26.515625 48.1875 22.3125 43.546875 \nQ 18.109375 38.921875 18.109375 30.90625 \nL 18.109375 0 \nL 9.078125 0 \nL 9.078125 54.6875 \nL 18.109375 54.6875 \nL 18.109375 46.1875 \nQ 21.34375 51.125 25.703125 53.5625 \nQ 30.078125 56 35.796875 56 \nQ 45.21875 56 50.046875 50.171875 \nQ 54.890625 44.34375 54.890625 33.015625 \nz\n\" id=\"DejaVuSans-110\"/>\n     </defs>\n     <g transform=\"translate(344.140625 23.798437)scale(0.1 -0.1)\">\n      <use xlink:href=\"#DejaVuSans-84\"/>\n      <use x=\"60.865234\" xlink:href=\"#DejaVuSans-114\"/>\n      <use x=\"101.978516\" xlink:href=\"#DejaVuSans-97\"/>\n      <use x=\"163.257812\" xlink:href=\"#DejaVuSans-105\"/>\n      <use x=\"191.041016\" xlink:href=\"#DejaVuSans-110\"/>\n     </g>\n    </g>\n    <g id=\"line2d_17\">\n     <path d=\"M 316.140625 34.976562 \nL 336.140625 34.976562 \n\" style=\"fill:none;stroke:#0000ff;stroke-linecap:square;stroke-width:1.5;\"/>\n    </g>\n    <g id=\"line2d_18\"/>\n    <g id=\"text_16\">\n     <!-- Val -->\n     <defs>\n      <path d=\"M 28.609375 0 \nL 0.78125 72.90625 \nL 11.078125 72.90625 \nL 34.1875 11.53125 \nL 57.328125 72.90625 \nL 67.578125 72.90625 \nL 39.796875 0 \nz\n\" id=\"DejaVuSans-86\"/>\n      <path d=\"M 9.421875 75.984375 \nL 18.40625 75.984375 \nL 18.40625 0 \nL 9.421875 0 \nz\n\" id=\"DejaVuSans-108\"/>\n     </defs>\n     <g transform=\"translate(344.140625 38.476562)scale(0.1 -0.1)\">\n      <use xlink:href=\"#DejaVuSans-86\"/>\n      <use x=\"68.298828\" xlink:href=\"#DejaVuSans-97\"/>\n      <use x=\"129.578125\" xlink:href=\"#DejaVuSans-108\"/>\n     </g>\n    </g>\n   </g>\n  </g>\n </g>\n <defs>\n  <clipPath id=\"p2e6482a913\">\n   <rect height=\"217.44\" width=\"334.8\" x=\"43.78125\" y=\"7.2\"/>\n  </clipPath>\n </defs>\n</svg>\n"
          },
          "metadata": {
            "tags": []
          }
        }
      ]
    },
    {
      "cell_type": "code",
      "metadata": {
        "id": "unBgkhOEQUzH",
        "colab_type": "code",
        "outputId": "cdde2fcf-42f8-46ed-97f9-3b961a37c375",
        "colab": {
          "base_uri": "https://localhost:8080/",
          "height": 442
        }
      },
      "source": [
        "from google.colab import files\n",
        "files.download('./lookahead_sgd_resnet18_9340.pth.tar')\n",
        "files.download('./lookahead_sgd_resnet18_9340_acc.jpg')\n",
        "files.download('./lookahead_sgd_resnet18_9340_loss.jpg')"
      ],
      "execution_count": 0,
      "outputs": [
        {
          "output_type": "stream",
          "text": [
            "----------------------------------------\n",
            "Exception happened during processing of request from ('::ffff:127.0.0.1', 43182, 0, 0)\n",
            "Traceback (most recent call last):\n",
            "  File \"/usr/lib/python3.6/socketserver.py\", line 320, in _handle_request_noblock\n",
            "    self.process_request(request, client_address)\n",
            "  File \"/usr/lib/python3.6/socketserver.py\", line 351, in process_request\n",
            "    self.finish_request(request, client_address)\n",
            "  File \"/usr/lib/python3.6/socketserver.py\", line 364, in finish_request\n",
            "    self.RequestHandlerClass(request, client_address, self)\n",
            "  File \"/usr/lib/python3.6/socketserver.py\", line 724, in __init__\n",
            "    self.handle()\n",
            "  File \"/usr/lib/python3.6/http/server.py\", line 418, in handle\n",
            "    self.handle_one_request()\n",
            "  File \"/usr/lib/python3.6/http/server.py\", line 406, in handle_one_request\n",
            "    method()\n",
            "  File \"/usr/lib/python3.6/http/server.py\", line 639, in do_GET\n",
            "    self.copyfile(f, self.wfile)\n",
            "  File \"/usr/lib/python3.6/http/server.py\", line 800, in copyfile\n",
            "    shutil.copyfileobj(source, outputfile)\n",
            "  File \"/usr/lib/python3.6/shutil.py\", line 82, in copyfileobj\n",
            "    fdst.write(buf)\n",
            "  File \"/usr/lib/python3.6/socketserver.py\", line 803, in write\n",
            "    self._sock.sendall(b)\n",
            "ConnectionResetError: [Errno 104] Connection reset by peer\n",
            "----------------------------------------\n"
          ],
          "name": "stderr"
        }
      ]
    },
    {
      "cell_type": "markdown",
      "metadata": {
        "id": "YUY6Jar0-pHs",
        "colab_type": "text"
      },
      "source": [
        "# RAdam"
      ]
    },
    {
      "cell_type": "code",
      "metadata": {
        "id": "JhuMIoYH-r2m",
        "colab_type": "code",
        "colab": {}
      },
      "source": [
        "load_checkpoint(model, filename='before_sgd_resnet18.pth.tar')"
      ],
      "execution_count": 0,
      "outputs": []
    },
    {
      "cell_type": "code",
      "metadata": {
        "id": "CHH8il-C-uqQ",
        "colab_type": "code",
        "colab": {}
      },
      "source": [
        "reset()"
      ],
      "execution_count": 0,
      "outputs": []
    },
    {
      "cell_type": "code",
      "metadata": {
        "id": "Fv4k7LHH-yVj",
        "colab_type": "code",
        "colab": {}
      },
      "source": [
        "preds = []\n",
        "train_stats = AvgStats()\n",
        "test_stats = AvgStats()"
      ],
      "execution_count": 0,
      "outputs": []
    },
    {
      "cell_type": "code",
      "metadata": {
        "id": "HUaNclvt-1kM",
        "colab_type": "code",
        "colab": {}
      },
      "source": [
        "optimizer = RAdam( model.parameters(), lr=1e-4, weight_decay=1e-1)"
      ],
      "execution_count": 0,
      "outputs": []
    },
    {
      "cell_type": "code",
      "metadata": {
        "id": "KsWliJjKRSzP",
        "colab_type": "code",
        "colab": {}
      },
      "source": [
        "sched = torch.optim.lr_scheduler.StepLR(optimizer, step_size=30, gamma=0.2)"
      ],
      "execution_count": 0,
      "outputs": []
    },
    {
      "cell_type": "code",
      "metadata": {
        "id": "7_jUbtha-9V6",
        "colab_type": "code",
        "outputId": "1a272d7f-d57f-4001-bfda-587c47db4e25",
        "colab": {
          "base_uri": "https://localhost:8080/",
          "height": 1000
        }
      },
      "source": [
        "fit(model, optimizer, sched)"
      ],
      "execution_count": 0,
      "outputs": [
        {
          "output_type": "stream",
          "text": [
            "Epoch\tTrn_loss\tVal_loss\tTrn_acc\t\tVal_acc\n",
            "1\t1.18530725\t1.05326346\t41.71199799\t45.27833557\n",
            "2\t0.84762171\t0.78671370\t55.37272644\t56.84083176\n",
            "3\t0.73144797\t0.65561085\t61.93588257\t62.82055283\n",
            "4\t0.64784921\t0.60311341\t65.96218109\t66.51333618\n",
            "5\t0.57844064\t0.57227305\t68.77137756\t69.16300201\n",
            "6\t0.53403480\t0.53500383\t70.91000366\t71.20666504\n",
            "7\t0.48211888\t0.50810422\t72.64511871\t72.87571716\n",
            "8\t0.44835984\t0.50016035\t74.09233856\t74.28416443\n",
            "9\t0.41966877\t0.49424403\t75.32736206\t75.48258972\n",
            "10\t0.40778929\t0.49177240\t76.39678192\t76.51966858\n",
            "11\t0.37237922\t0.48817772\t77.32800293\t77.42515564\n",
            "12\t0.34810258\t0.49522225\t78.15563202\t78.23972321\n",
            "13\t0.33294963\t0.48063611\t78.90350342\t78.97192383\n",
            "14\t0.30538665\t0.48806705\t79.59843445\t79.66261292\n",
            "15\t0.31243235\t0.46457527\t80.23202515\t80.28844452\n",
            "16\t0.28032078\t0.47656395\t80.82125854\t80.86062622\n",
            "17\t0.26907302\t0.48152149\t81.34742737\t81.38284302\n",
            "18\t0.25399353\t0.49785336\t81.84186554\t81.87000275\n",
            "19\t0.24158442\t0.48593774\t82.29973602\t82.32736206\n",
            "20\t0.24420652\t0.49364878\t82.73580170\t82.75499725\n",
            "21\t0.22988092\t0.50291247\t83.12728119\t83.14404297\n",
            "22\t0.21913099\t0.50506462\t83.51053619\t83.52234650\n",
            "23\t0.22125439\t0.50831168\t83.87058258\t83.87862396\n",
            "24\t0.20939841\t0.50167644\t84.20713806\t84.21500397\n",
            "25\t0.18926695\t0.52158062\t84.53469849\t84.53726959\n",
            "26\t0.17883200\t0.50202579\t84.83961487\t84.84422302\n",
            "27\t0.17426254\t0.52910070\t85.13075256\t85.13265228\n",
            "28\t0.17361723\t0.52727344\t85.40317535\t85.40309143\n",
            "29\t0.17278236\t0.53033427\t85.66086578\t85.65942383\n",
            "30\t0.15210356\t0.53671246\t85.91486359\t85.91022491\n",
            "31\t0.15063884\t0.52747175\t86.15849304\t86.15457153\n",
            "32\t0.10133631\t0.49677010\t86.42298889\t86.42364502\n",
            "33\t0.09189122\t0.51042087\t86.69061279\t86.68923950\n",
            "34\t0.08694263\t0.51768639\t86.94669342\t86.94432068\n",
            "35\t0.08310670\t0.52068962\t87.19373322\t87.19052887\n",
            "36\t0.07043081\t0.52298055\t87.43237305\t87.42874908\n",
            "37\t0.07250208\t0.52130407\t87.65863800\t87.65382385\n",
            "38\t0.06969248\t0.53294321\t87.87704468\t87.87110138\n",
            "39\t0.06321217\t0.53856037\t88.08467865\t88.07823944\n",
            "40\t0.06339538\t0.55826172\t88.28489685\t88.27733612\n",
            "41\t0.06186759\t0.54629817\t88.47420502\t88.46703339\n",
            "42\t0.05983737\t0.55627707\t88.65805054\t88.65019989\n",
            "43\t0.05407177\t0.56195415\t88.83517456\t88.82578278\n",
            "44\t0.05244760\t0.56847618\t89.00258636\t88.99371338\n",
            "45\t0.05454420\t0.57448134\t89.16516113\t89.15621948\n",
            "46\t0.05695662\t0.57937941\t89.32273102\t89.31282806\n",
            "47\t0.04911632\t0.57559779\t89.47160339\t89.46209717\n",
            "48\t0.04901361\t0.58235329\t89.61780548\t89.60839844\n",
            "49\t0.04714445\t0.57557617\t89.75942230\t89.74978638\n",
            "50\t0.04611524\t0.58181190\t89.89469147\t89.88333130\n",
            "51\t0.04677139\t0.57046791\t90.02577209\t90.01382446\n",
            "52\t0.04010938\t0.59162191\t90.15193176\t90.13999939\n",
            "53\t0.04383272\t0.58939898\t90.27362823\t90.26163483\n",
            "54\t0.04108183\t0.59974370\t90.39027405\t90.37786865\n",
            "55\t0.04044502\t0.59523794\t90.50398254\t90.49111938\n",
            "56\t0.04050421\t0.60104722\t90.61251068\t90.60008240\n",
            "57\t0.03637637\t0.60993504\t90.71929932\t90.70655060\n",
            "58\t0.03987932\t0.60107544\t90.82120514\t90.80940247\n",
            "59\t0.04204721\t0.60636621\t90.92053986\t90.90776062\n",
            "60\t0.04101054\t0.60438041\t91.01623535\t91.00353241\n",
            "61\t0.04027190\t0.61475378\t91.10983276\t91.09680176\n",
            "62\t0.03687693\t0.60500921\t91.20185852\t91.18941498\n",
            "63\t0.02896605\t0.60249426\t91.29299927\t91.28007507\n",
            "64\t0.02716075\t0.59821035\t91.38051605\t91.36784363\n",
            "65\t0.02823754\t0.60548800\t91.46645355\t91.45387268\n",
            "66\t0.02850313\t0.60230062\t91.54936981\t91.53691864\n",
            "67\t0.03658742\t0.60470794\t91.62990570\t91.61695862\n",
            "68\t0.02839621\t0.60808949\t91.70904541\t91.69661713\n",
            "69\t0.03263459\t0.61005758\t91.78561401\t91.77333832\n",
            "70\t0.03009222\t0.60840330\t91.86135864\t91.84899902\n",
            "71\t0.02554242\t0.60764046\t91.93487549\t91.92230225\n",
            "72\t0.02491458\t0.60899425\t92.00640106\t91.99398041\n",
            "73\t0.02718010\t0.61050818\t92.07667542\t92.06372070\n",
            "74\t0.02408706\t0.61424552\t92.14388275\t92.13141632\n",
            "75\t0.02863382\t0.61091087\t92.20931244\t92.19706726\n",
            "76\t0.02419333\t0.61587355\t92.27415466\t92.26184082\n",
            "77\t0.02454006\t0.61390781\t92.33746338\t92.32504272\n",
            "78\t0.02600713\t0.61399269\t92.39807892\t92.38615417\n",
            "79\t0.02502362\t0.61639078\t92.45780182\t92.44554901\n",
            "80\t0.02555569\t0.62478535\t92.51639557\t92.50389099\n",
            "81\t0.02421292\t0.62104141\t92.57308960\t92.56069946\n",
            "82\t0.02650985\t0.61698831\t92.62802887\t92.61579132\n",
            "83\t0.02814584\t0.61955992\t92.68219757\t92.66998291\n",
            "84\t0.02552224\t0.62568219\t92.73500824\t92.72235870\n",
            "85\t0.02259930\t0.62750719\t92.78658295\t92.77439117\n",
            "86\t0.02252894\t0.62941529\t92.83817291\t92.82597351\n",
            "87\t0.02418758\t0.62400606\t92.88794708\t92.87578583\n",
            "88\t0.02146825\t0.62430802\t92.93639374\t92.92422485\n",
            "89\t0.02229801\t0.62281896\t92.98390198\t92.97183228\n",
            "90\t0.02503698\t0.62518150\t93.03057861\t93.01887512\n"
          ],
          "name": "stdout"
        }
      ]
    },
    {
      "cell_type": "code",
      "metadata": {
        "id": "cFGTZvRw_Bl8",
        "colab_type": "code",
        "colab": {}
      },
      "source": [
        "save_checkpoint(model, True, 'radam_resnet18_9303.pth.tar')"
      ],
      "execution_count": 0,
      "outputs": []
    },
    {
      "cell_type": "code",
      "metadata": {
        "id": "kCJQ2vCwHWNp",
        "colab_type": "code",
        "colab": {}
      },
      "source": [
        "ep_lookahead_losses = []\n",
        "for i in range(0, len(train_stats.losses), len(train_loader)):\n",
        "    if i != 0 :\n",
        "        ep_lookahead_losses.append(train_stats.losses[i])\n",
        "        \n",
        "ep_lookahead_lossesv = []\n",
        "for i in range(0, len(test_stats.losses), len(test_loader)):\n",
        "    if(i != 0):\n",
        "        ep_lookahead_lossesv.append(test_stats.losses[i])"
      ],
      "execution_count": 0,
      "outputs": []
    },
    {
      "cell_type": "code",
      "metadata": {
        "id": "iVM5wkzAHbhi",
        "colab_type": "code",
        "colab": {}
      },
      "source": [
        "ep_lookahead_accs = []\n",
        "for i in range(0, len(train_stats.losses), len(train_loader)):\n",
        "    if i != 0 :\n",
        "        ep_lookahead_accs.append(train_stats.precs[i])\n",
        "        \n",
        "ep_lookahead_accsv = []\n",
        "for i in range(0, len(test_stats.losses), len(test_loader)):\n",
        "    if(i != 0):\n",
        "        ep_lookahead_accsv.append(test_stats.precs[i])"
      ],
      "execution_count": 0,
      "outputs": []
    },
    {
      "cell_type": "code",
      "metadata": {
        "id": "Ss4EKzWCHfXl",
        "colab_type": "code",
        "outputId": "4ee845ed-d694-4e14-90cc-0fa234030cce",
        "colab": {
          "base_uri": "https://localhost:8080/",
          "height": 371
        }
      },
      "source": [
        "plt.xlabel(\"Epochs\")\n",
        "plt.ylabel(\"Accuracy\")\n",
        "plt.plot(ep_lookahead_accs, 'r', label='Train')\n",
        "plt.plot(ep_lookahead_accsv, 'b', label='Val')\n",
        "plt.legend()\n",
        "plt.savefig('radam_resnet18_9303_acc.jpg')"
      ],
      "execution_count": 0,
      "outputs": [
        {
          "output_type": "display_data",
          "data": {
            "text/plain": [
              "<Figure size 432x288 with 1 Axes>"
            ],
            "image/svg+xml": "<?xml version=\"1.0\" encoding=\"utf-8\" standalone=\"no\"?>\n<!DOCTYPE svg PUBLIC \"-//W3C//DTD SVG 1.1//EN\"\n  \"http://www.w3.org/Graphics/SVG/1.1/DTD/svg11.dtd\">\n<!-- Created with matplotlib (https://matplotlib.org/) -->\n<svg height=\"262.19625pt\" version=\"1.1\" viewBox=\"0 0 382.603125 262.19625\" width=\"382.603125pt\" xmlns=\"http://www.w3.org/2000/svg\" xmlns:xlink=\"http://www.w3.org/1999/xlink\">\n <defs>\n  <style type=\"text/css\">\n*{stroke-linecap:butt;stroke-linejoin:round;}\n  </style>\n </defs>\n <g id=\"figure_1\">\n  <g id=\"patch_1\">\n   <path d=\"M 0 262.19625 \nL 382.603125 262.19625 \nL 382.603125 0 \nL 0 0 \nz\n\" style=\"fill:none;\"/>\n  </g>\n  <g id=\"axes_1\">\n   <g id=\"patch_2\">\n    <path d=\"M 40.603125 224.64 \nL 375.403125 224.64 \nL 375.403125 7.2 \nL 40.603125 7.2 \nz\n\" style=\"fill:#ffffff;\"/>\n   </g>\n   <g id=\"matplotlib.axis_1\">\n    <g id=\"xtick_1\">\n     <g id=\"line2d_1\">\n      <defs>\n       <path d=\"M 0 0 \nL 0 3.5 \n\" id=\"m36bc1c6142\" style=\"stroke:#000000;stroke-width:0.8;\"/>\n      </defs>\n      <g>\n       <use style=\"stroke:#000000;stroke-width:0.8;\" x=\"55.821307\" xlink:href=\"#m36bc1c6142\" y=\"224.64\"/>\n      </g>\n     </g>\n     <g id=\"text_1\">\n      <!-- 0 -->\n      <defs>\n       <path d=\"M 31.78125 66.40625 \nQ 24.171875 66.40625 20.328125 58.90625 \nQ 16.5 51.421875 16.5 36.375 \nQ 16.5 21.390625 20.328125 13.890625 \nQ 24.171875 6.390625 31.78125 6.390625 \nQ 39.453125 6.390625 43.28125 13.890625 \nQ 47.125 21.390625 47.125 36.375 \nQ 47.125 51.421875 43.28125 58.90625 \nQ 39.453125 66.40625 31.78125 66.40625 \nz\nM 31.78125 74.21875 \nQ 44.046875 74.21875 50.515625 64.515625 \nQ 56.984375 54.828125 56.984375 36.375 \nQ 56.984375 17.96875 50.515625 8.265625 \nQ 44.046875 -1.421875 31.78125 -1.421875 \nQ 19.53125 -1.421875 13.0625 8.265625 \nQ 6.59375 17.96875 6.59375 36.375 \nQ 6.59375 54.828125 13.0625 64.515625 \nQ 19.53125 74.21875 31.78125 74.21875 \nz\n\" id=\"DejaVuSans-48\"/>\n      </defs>\n      <g transform=\"translate(52.640057 239.238437)scale(0.1 -0.1)\">\n       <use xlink:href=\"#DejaVuSans-48\"/>\n      </g>\n     </g>\n    </g>\n    <g id=\"xtick_2\">\n     <g id=\"line2d_2\">\n      <g>\n       <use style=\"stroke:#000000;stroke-width:0.8;\" x=\"124.994861\" xlink:href=\"#m36bc1c6142\" y=\"224.64\"/>\n      </g>\n     </g>\n     <g id=\"text_2\">\n      <!-- 20 -->\n      <defs>\n       <path d=\"M 19.1875 8.296875 \nL 53.609375 8.296875 \nL 53.609375 0 \nL 7.328125 0 \nL 7.328125 8.296875 \nQ 12.9375 14.109375 22.625 23.890625 \nQ 32.328125 33.6875 34.8125 36.53125 \nQ 39.546875 41.84375 41.421875 45.53125 \nQ 43.3125 49.21875 43.3125 52.78125 \nQ 43.3125 58.59375 39.234375 62.25 \nQ 35.15625 65.921875 28.609375 65.921875 \nQ 23.96875 65.921875 18.8125 64.3125 \nQ 13.671875 62.703125 7.8125 59.421875 \nL 7.8125 69.390625 \nQ 13.765625 71.78125 18.9375 73 \nQ 24.125 74.21875 28.421875 74.21875 \nQ 39.75 74.21875 46.484375 68.546875 \nQ 53.21875 62.890625 53.21875 53.421875 \nQ 53.21875 48.921875 51.53125 44.890625 \nQ 49.859375 40.875 45.40625 35.40625 \nQ 44.1875 33.984375 37.640625 27.21875 \nQ 31.109375 20.453125 19.1875 8.296875 \nz\n\" id=\"DejaVuSans-50\"/>\n      </defs>\n      <g transform=\"translate(118.632361 239.238437)scale(0.1 -0.1)\">\n       <use xlink:href=\"#DejaVuSans-50\"/>\n       <use x=\"63.623047\" xlink:href=\"#DejaVuSans-48\"/>\n      </g>\n     </g>\n    </g>\n    <g id=\"xtick_3\">\n     <g id=\"line2d_3\">\n      <g>\n       <use style=\"stroke:#000000;stroke-width:0.8;\" x=\"194.168414\" xlink:href=\"#m36bc1c6142\" y=\"224.64\"/>\n      </g>\n     </g>\n     <g id=\"text_3\">\n      <!-- 40 -->\n      <defs>\n       <path d=\"M 37.796875 64.3125 \nL 12.890625 25.390625 \nL 37.796875 25.390625 \nz\nM 35.203125 72.90625 \nL 47.609375 72.90625 \nL 47.609375 25.390625 \nL 58.015625 25.390625 \nL 58.015625 17.1875 \nL 47.609375 17.1875 \nL 47.609375 0 \nL 37.796875 0 \nL 37.796875 17.1875 \nL 4.890625 17.1875 \nL 4.890625 26.703125 \nz\n\" id=\"DejaVuSans-52\"/>\n      </defs>\n      <g transform=\"translate(187.805914 239.238437)scale(0.1 -0.1)\">\n       <use xlink:href=\"#DejaVuSans-52\"/>\n       <use x=\"63.623047\" xlink:href=\"#DejaVuSans-48\"/>\n      </g>\n     </g>\n    </g>\n    <g id=\"xtick_4\">\n     <g id=\"line2d_4\">\n      <g>\n       <use style=\"stroke:#000000;stroke-width:0.8;\" x=\"263.341968\" xlink:href=\"#m36bc1c6142\" y=\"224.64\"/>\n      </g>\n     </g>\n     <g id=\"text_4\">\n      <!-- 60 -->\n      <defs>\n       <path d=\"M 33.015625 40.375 \nQ 26.375 40.375 22.484375 35.828125 \nQ 18.609375 31.296875 18.609375 23.390625 \nQ 18.609375 15.53125 22.484375 10.953125 \nQ 26.375 6.390625 33.015625 6.390625 \nQ 39.65625 6.390625 43.53125 10.953125 \nQ 47.40625 15.53125 47.40625 23.390625 \nQ 47.40625 31.296875 43.53125 35.828125 \nQ 39.65625 40.375 33.015625 40.375 \nz\nM 52.59375 71.296875 \nL 52.59375 62.3125 \nQ 48.875 64.0625 45.09375 64.984375 \nQ 41.3125 65.921875 37.59375 65.921875 \nQ 27.828125 65.921875 22.671875 59.328125 \nQ 17.53125 52.734375 16.796875 39.40625 \nQ 19.671875 43.65625 24.015625 45.921875 \nQ 28.375 48.1875 33.59375 48.1875 \nQ 44.578125 48.1875 50.953125 41.515625 \nQ 57.328125 34.859375 57.328125 23.390625 \nQ 57.328125 12.15625 50.6875 5.359375 \nQ 44.046875 -1.421875 33.015625 -1.421875 \nQ 20.359375 -1.421875 13.671875 8.265625 \nQ 6.984375 17.96875 6.984375 36.375 \nQ 6.984375 53.65625 15.1875 63.9375 \nQ 23.390625 74.21875 37.203125 74.21875 \nQ 40.921875 74.21875 44.703125 73.484375 \nQ 48.484375 72.75 52.59375 71.296875 \nz\n\" id=\"DejaVuSans-54\"/>\n      </defs>\n      <g transform=\"translate(256.979468 239.238437)scale(0.1 -0.1)\">\n       <use xlink:href=\"#DejaVuSans-54\"/>\n       <use x=\"63.623047\" xlink:href=\"#DejaVuSans-48\"/>\n      </g>\n     </g>\n    </g>\n    <g id=\"xtick_5\">\n     <g id=\"line2d_5\">\n      <g>\n       <use style=\"stroke:#000000;stroke-width:0.8;\" x=\"332.515522\" xlink:href=\"#m36bc1c6142\" y=\"224.64\"/>\n      </g>\n     </g>\n     <g id=\"text_5\">\n      <!-- 80 -->\n      <defs>\n       <path d=\"M 31.78125 34.625 \nQ 24.75 34.625 20.71875 30.859375 \nQ 16.703125 27.09375 16.703125 20.515625 \nQ 16.703125 13.921875 20.71875 10.15625 \nQ 24.75 6.390625 31.78125 6.390625 \nQ 38.8125 6.390625 42.859375 10.171875 \nQ 46.921875 13.96875 46.921875 20.515625 \nQ 46.921875 27.09375 42.890625 30.859375 \nQ 38.875 34.625 31.78125 34.625 \nz\nM 21.921875 38.8125 \nQ 15.578125 40.375 12.03125 44.71875 \nQ 8.5 49.078125 8.5 55.328125 \nQ 8.5 64.0625 14.71875 69.140625 \nQ 20.953125 74.21875 31.78125 74.21875 \nQ 42.671875 74.21875 48.875 69.140625 \nQ 55.078125 64.0625 55.078125 55.328125 \nQ 55.078125 49.078125 51.53125 44.71875 \nQ 48 40.375 41.703125 38.8125 \nQ 48.828125 37.15625 52.796875 32.3125 \nQ 56.78125 27.484375 56.78125 20.515625 \nQ 56.78125 9.90625 50.3125 4.234375 \nQ 43.84375 -1.421875 31.78125 -1.421875 \nQ 19.734375 -1.421875 13.25 4.234375 \nQ 6.78125 9.90625 6.78125 20.515625 \nQ 6.78125 27.484375 10.78125 32.3125 \nQ 14.796875 37.15625 21.921875 38.8125 \nz\nM 18.3125 54.390625 \nQ 18.3125 48.734375 21.84375 45.5625 \nQ 25.390625 42.390625 31.78125 42.390625 \nQ 38.140625 42.390625 41.71875 45.5625 \nQ 45.3125 48.734375 45.3125 54.390625 \nQ 45.3125 60.0625 41.71875 63.234375 \nQ 38.140625 66.40625 31.78125 66.40625 \nQ 25.390625 66.40625 21.84375 63.234375 \nQ 18.3125 60.0625 18.3125 54.390625 \nz\n\" id=\"DejaVuSans-56\"/>\n      </defs>\n      <g transform=\"translate(326.153022 239.238437)scale(0.1 -0.1)\">\n       <use xlink:href=\"#DejaVuSans-56\"/>\n       <use x=\"63.623047\" xlink:href=\"#DejaVuSans-48\"/>\n      </g>\n     </g>\n    </g>\n    <g id=\"text_6\">\n     <!-- Epochs -->\n     <defs>\n      <path d=\"M 9.8125 72.90625 \nL 55.90625 72.90625 \nL 55.90625 64.59375 \nL 19.671875 64.59375 \nL 19.671875 43.015625 \nL 54.390625 43.015625 \nL 54.390625 34.71875 \nL 19.671875 34.71875 \nL 19.671875 8.296875 \nL 56.78125 8.296875 \nL 56.78125 0 \nL 9.8125 0 \nz\n\" id=\"DejaVuSans-69\"/>\n      <path d=\"M 18.109375 8.203125 \nL 18.109375 -20.796875 \nL 9.078125 -20.796875 \nL 9.078125 54.6875 \nL 18.109375 54.6875 \nL 18.109375 46.390625 \nQ 20.953125 51.265625 25.265625 53.625 \nQ 29.59375 56 35.59375 56 \nQ 45.5625 56 51.78125 48.09375 \nQ 58.015625 40.1875 58.015625 27.296875 \nQ 58.015625 14.40625 51.78125 6.484375 \nQ 45.5625 -1.421875 35.59375 -1.421875 \nQ 29.59375 -1.421875 25.265625 0.953125 \nQ 20.953125 3.328125 18.109375 8.203125 \nz\nM 48.6875 27.296875 \nQ 48.6875 37.203125 44.609375 42.84375 \nQ 40.53125 48.484375 33.40625 48.484375 \nQ 26.265625 48.484375 22.1875 42.84375 \nQ 18.109375 37.203125 18.109375 27.296875 \nQ 18.109375 17.390625 22.1875 11.75 \nQ 26.265625 6.109375 33.40625 6.109375 \nQ 40.53125 6.109375 44.609375 11.75 \nQ 48.6875 17.390625 48.6875 27.296875 \nz\n\" id=\"DejaVuSans-112\"/>\n      <path d=\"M 30.609375 48.390625 \nQ 23.390625 48.390625 19.1875 42.75 \nQ 14.984375 37.109375 14.984375 27.296875 \nQ 14.984375 17.484375 19.15625 11.84375 \nQ 23.34375 6.203125 30.609375 6.203125 \nQ 37.796875 6.203125 41.984375 11.859375 \nQ 46.1875 17.53125 46.1875 27.296875 \nQ 46.1875 37.015625 41.984375 42.703125 \nQ 37.796875 48.390625 30.609375 48.390625 \nz\nM 30.609375 56 \nQ 42.328125 56 49.015625 48.375 \nQ 55.71875 40.765625 55.71875 27.296875 \nQ 55.71875 13.875 49.015625 6.21875 \nQ 42.328125 -1.421875 30.609375 -1.421875 \nQ 18.84375 -1.421875 12.171875 6.21875 \nQ 5.515625 13.875 5.515625 27.296875 \nQ 5.515625 40.765625 12.171875 48.375 \nQ 18.84375 56 30.609375 56 \nz\n\" id=\"DejaVuSans-111\"/>\n      <path d=\"M 48.78125 52.59375 \nL 48.78125 44.1875 \nQ 44.96875 46.296875 41.140625 47.34375 \nQ 37.3125 48.390625 33.40625 48.390625 \nQ 24.65625 48.390625 19.8125 42.84375 \nQ 14.984375 37.3125 14.984375 27.296875 \nQ 14.984375 17.28125 19.8125 11.734375 \nQ 24.65625 6.203125 33.40625 6.203125 \nQ 37.3125 6.203125 41.140625 7.25 \nQ 44.96875 8.296875 48.78125 10.40625 \nL 48.78125 2.09375 \nQ 45.015625 0.34375 40.984375 -0.53125 \nQ 36.96875 -1.421875 32.421875 -1.421875 \nQ 20.0625 -1.421875 12.78125 6.34375 \nQ 5.515625 14.109375 5.515625 27.296875 \nQ 5.515625 40.671875 12.859375 48.328125 \nQ 20.21875 56 33.015625 56 \nQ 37.15625 56 41.109375 55.140625 \nQ 45.0625 54.296875 48.78125 52.59375 \nz\n\" id=\"DejaVuSans-99\"/>\n      <path d=\"M 54.890625 33.015625 \nL 54.890625 0 \nL 45.90625 0 \nL 45.90625 32.71875 \nQ 45.90625 40.484375 42.875 44.328125 \nQ 39.84375 48.1875 33.796875 48.1875 \nQ 26.515625 48.1875 22.3125 43.546875 \nQ 18.109375 38.921875 18.109375 30.90625 \nL 18.109375 0 \nL 9.078125 0 \nL 9.078125 75.984375 \nL 18.109375 75.984375 \nL 18.109375 46.1875 \nQ 21.34375 51.125 25.703125 53.5625 \nQ 30.078125 56 35.796875 56 \nQ 45.21875 56 50.046875 50.171875 \nQ 54.890625 44.34375 54.890625 33.015625 \nz\n\" id=\"DejaVuSans-104\"/>\n      <path d=\"M 44.28125 53.078125 \nL 44.28125 44.578125 \nQ 40.484375 46.53125 36.375 47.5 \nQ 32.28125 48.484375 27.875 48.484375 \nQ 21.1875 48.484375 17.84375 46.4375 \nQ 14.5 44.390625 14.5 40.28125 \nQ 14.5 37.15625 16.890625 35.375 \nQ 19.28125 33.59375 26.515625 31.984375 \nL 29.59375 31.296875 \nQ 39.15625 29.25 43.1875 25.515625 \nQ 47.21875 21.78125 47.21875 15.09375 \nQ 47.21875 7.46875 41.1875 3.015625 \nQ 35.15625 -1.421875 24.609375 -1.421875 \nQ 20.21875 -1.421875 15.453125 -0.5625 \nQ 10.6875 0.296875 5.421875 2 \nL 5.421875 11.28125 \nQ 10.40625 8.6875 15.234375 7.390625 \nQ 20.0625 6.109375 24.8125 6.109375 \nQ 31.15625 6.109375 34.5625 8.28125 \nQ 37.984375 10.453125 37.984375 14.40625 \nQ 37.984375 18.0625 35.515625 20.015625 \nQ 33.0625 21.96875 24.703125 23.78125 \nL 21.578125 24.515625 \nQ 13.234375 26.265625 9.515625 29.90625 \nQ 5.8125 33.546875 5.8125 39.890625 \nQ 5.8125 47.609375 11.28125 51.796875 \nQ 16.75 56 26.8125 56 \nQ 31.78125 56 36.171875 55.265625 \nQ 40.578125 54.546875 44.28125 53.078125 \nz\n\" id=\"DejaVuSans-115\"/>\n     </defs>\n     <g transform=\"translate(190.0875 252.916562)scale(0.1 -0.1)\">\n      <use xlink:href=\"#DejaVuSans-69\"/>\n      <use x=\"63.183594\" xlink:href=\"#DejaVuSans-112\"/>\n      <use x=\"126.660156\" xlink:href=\"#DejaVuSans-111\"/>\n      <use x=\"187.841797\" xlink:href=\"#DejaVuSans-99\"/>\n      <use x=\"242.822266\" xlink:href=\"#DejaVuSans-104\"/>\n      <use x=\"306.201172\" xlink:href=\"#DejaVuSans-115\"/>\n     </g>\n    </g>\n   </g>\n   <g id=\"matplotlib.axis_2\">\n    <g id=\"ytick_1\">\n     <g id=\"line2d_6\">\n      <defs>\n       <path d=\"M 0 0 \nL -3.5 0 \n\" id=\"m280fae56e3\" style=\"stroke:#000000;stroke-width:0.8;\"/>\n      </defs>\n      <g>\n       <use style=\"stroke:#000000;stroke-width:0.8;\" x=\"40.603125\" xlink:href=\"#m280fae56e3\" y=\"195.397365\"/>\n      </g>\n     </g>\n     <g id=\"text_7\">\n      <!-- 50 -->\n      <defs>\n       <path d=\"M 10.796875 72.90625 \nL 49.515625 72.90625 \nL 49.515625 64.59375 \nL 19.828125 64.59375 \nL 19.828125 46.734375 \nQ 21.96875 47.46875 24.109375 47.828125 \nQ 26.265625 48.1875 28.421875 48.1875 \nQ 40.625 48.1875 47.75 41.5 \nQ 54.890625 34.8125 54.890625 23.390625 \nQ 54.890625 11.625 47.5625 5.09375 \nQ 40.234375 -1.421875 26.90625 -1.421875 \nQ 22.3125 -1.421875 17.546875 -0.640625 \nQ 12.796875 0.140625 7.71875 1.703125 \nL 7.71875 11.625 \nQ 12.109375 9.234375 16.796875 8.0625 \nQ 21.484375 6.890625 26.703125 6.890625 \nQ 35.15625 6.890625 40.078125 11.328125 \nQ 45.015625 15.765625 45.015625 23.390625 \nQ 45.015625 31 40.078125 35.4375 \nQ 35.15625 39.890625 26.703125 39.890625 \nQ 22.75 39.890625 18.8125 39.015625 \nQ 14.890625 38.140625 10.796875 36.28125 \nz\n\" id=\"DejaVuSans-53\"/>\n      </defs>\n      <g transform=\"translate(20.878125 199.196584)scale(0.1 -0.1)\">\n       <use xlink:href=\"#DejaVuSans-53\"/>\n       <use x=\"63.623047\" xlink:href=\"#DejaVuSans-48\"/>\n      </g>\n     </g>\n    </g>\n    <g id=\"ytick_2\">\n     <g id=\"line2d_7\">\n      <g>\n       <use style=\"stroke:#000000;stroke-width:0.8;\" x=\"40.603125\" xlink:href=\"#m280fae56e3\" y=\"153.958488\"/>\n      </g>\n     </g>\n     <g id=\"text_8\">\n      <!-- 60 -->\n      <g transform=\"translate(20.878125 157.757707)scale(0.1 -0.1)\">\n       <use xlink:href=\"#DejaVuSans-54\"/>\n       <use x=\"63.623047\" xlink:href=\"#DejaVuSans-48\"/>\n      </g>\n     </g>\n    </g>\n    <g id=\"ytick_3\">\n     <g id=\"line2d_8\">\n      <g>\n       <use style=\"stroke:#000000;stroke-width:0.8;\" x=\"40.603125\" xlink:href=\"#m280fae56e3\" y=\"112.519611\"/>\n      </g>\n     </g>\n     <g id=\"text_9\">\n      <!-- 70 -->\n      <defs>\n       <path d=\"M 8.203125 72.90625 \nL 55.078125 72.90625 \nL 55.078125 68.703125 \nL 28.609375 0 \nL 18.3125 0 \nL 43.21875 64.59375 \nL 8.203125 64.59375 \nz\n\" id=\"DejaVuSans-55\"/>\n      </defs>\n      <g transform=\"translate(20.878125 116.318829)scale(0.1 -0.1)\">\n       <use xlink:href=\"#DejaVuSans-55\"/>\n       <use x=\"63.623047\" xlink:href=\"#DejaVuSans-48\"/>\n      </g>\n     </g>\n    </g>\n    <g id=\"ytick_4\">\n     <g id=\"line2d_9\">\n      <g>\n       <use style=\"stroke:#000000;stroke-width:0.8;\" x=\"40.603125\" xlink:href=\"#m280fae56e3\" y=\"71.080733\"/>\n      </g>\n     </g>\n     <g id=\"text_10\">\n      <!-- 80 -->\n      <g transform=\"translate(20.878125 74.879952)scale(0.1 -0.1)\">\n       <use xlink:href=\"#DejaVuSans-56\"/>\n       <use x=\"63.623047\" xlink:href=\"#DejaVuSans-48\"/>\n      </g>\n     </g>\n    </g>\n    <g id=\"ytick_5\">\n     <g id=\"line2d_10\">\n      <g>\n       <use style=\"stroke:#000000;stroke-width:0.8;\" x=\"40.603125\" xlink:href=\"#m280fae56e3\" y=\"29.641856\"/>\n      </g>\n     </g>\n     <g id=\"text_11\">\n      <!-- 90 -->\n      <defs>\n       <path d=\"M 10.984375 1.515625 \nL 10.984375 10.5 \nQ 14.703125 8.734375 18.5 7.8125 \nQ 22.3125 6.890625 25.984375 6.890625 \nQ 35.75 6.890625 40.890625 13.453125 \nQ 46.046875 20.015625 46.78125 33.40625 \nQ 43.953125 29.203125 39.59375 26.953125 \nQ 35.25 24.703125 29.984375 24.703125 \nQ 19.046875 24.703125 12.671875 31.3125 \nQ 6.296875 37.9375 6.296875 49.421875 \nQ 6.296875 60.640625 12.9375 67.421875 \nQ 19.578125 74.21875 30.609375 74.21875 \nQ 43.265625 74.21875 49.921875 64.515625 \nQ 56.59375 54.828125 56.59375 36.375 \nQ 56.59375 19.140625 48.40625 8.859375 \nQ 40.234375 -1.421875 26.421875 -1.421875 \nQ 22.703125 -1.421875 18.890625 -0.6875 \nQ 15.09375 0.046875 10.984375 1.515625 \nz\nM 30.609375 32.421875 \nQ 37.25 32.421875 41.125 36.953125 \nQ 45.015625 41.5 45.015625 49.421875 \nQ 45.015625 57.28125 41.125 61.84375 \nQ 37.25 66.40625 30.609375 66.40625 \nQ 23.96875 66.40625 20.09375 61.84375 \nQ 16.21875 57.28125 16.21875 49.421875 \nQ 16.21875 41.5 20.09375 36.953125 \nQ 23.96875 32.421875 30.609375 32.421875 \nz\n\" id=\"DejaVuSans-57\"/>\n      </defs>\n      <g transform=\"translate(20.878125 33.441075)scale(0.1 -0.1)\">\n       <use xlink:href=\"#DejaVuSans-57\"/>\n       <use x=\"63.623047\" xlink:href=\"#DejaVuSans-48\"/>\n      </g>\n     </g>\n    </g>\n    <g id=\"text_12\">\n     <!-- Accuracy -->\n     <defs>\n      <path d=\"M 34.1875 63.1875 \nL 20.796875 26.90625 \nL 47.609375 26.90625 \nz\nM 28.609375 72.90625 \nL 39.796875 72.90625 \nL 67.578125 0 \nL 57.328125 0 \nL 50.6875 18.703125 \nL 17.828125 18.703125 \nL 11.1875 0 \nL 0.78125 0 \nz\n\" id=\"DejaVuSans-65\"/>\n      <path d=\"M 8.5 21.578125 \nL 8.5 54.6875 \nL 17.484375 54.6875 \nL 17.484375 21.921875 \nQ 17.484375 14.15625 20.5 10.265625 \nQ 23.53125 6.390625 29.59375 6.390625 \nQ 36.859375 6.390625 41.078125 11.03125 \nQ 45.3125 15.671875 45.3125 23.6875 \nL 45.3125 54.6875 \nL 54.296875 54.6875 \nL 54.296875 0 \nL 45.3125 0 \nL 45.3125 8.40625 \nQ 42.046875 3.421875 37.71875 1 \nQ 33.40625 -1.421875 27.6875 -1.421875 \nQ 18.265625 -1.421875 13.375 4.4375 \nQ 8.5 10.296875 8.5 21.578125 \nz\nM 31.109375 56 \nz\n\" id=\"DejaVuSans-117\"/>\n      <path d=\"M 41.109375 46.296875 \nQ 39.59375 47.171875 37.8125 47.578125 \nQ 36.03125 48 33.890625 48 \nQ 26.265625 48 22.1875 43.046875 \nQ 18.109375 38.09375 18.109375 28.8125 \nL 18.109375 0 \nL 9.078125 0 \nL 9.078125 54.6875 \nL 18.109375 54.6875 \nL 18.109375 46.1875 \nQ 20.953125 51.171875 25.484375 53.578125 \nQ 30.03125 56 36.53125 56 \nQ 37.453125 56 38.578125 55.875 \nQ 39.703125 55.765625 41.0625 55.515625 \nz\n\" id=\"DejaVuSans-114\"/>\n      <path d=\"M 34.28125 27.484375 \nQ 23.390625 27.484375 19.1875 25 \nQ 14.984375 22.515625 14.984375 16.5 \nQ 14.984375 11.71875 18.140625 8.90625 \nQ 21.296875 6.109375 26.703125 6.109375 \nQ 34.1875 6.109375 38.703125 11.40625 \nQ 43.21875 16.703125 43.21875 25.484375 \nL 43.21875 27.484375 \nz\nM 52.203125 31.203125 \nL 52.203125 0 \nL 43.21875 0 \nL 43.21875 8.296875 \nQ 40.140625 3.328125 35.546875 0.953125 \nQ 30.953125 -1.421875 24.3125 -1.421875 \nQ 15.921875 -1.421875 10.953125 3.296875 \nQ 6 8.015625 6 15.921875 \nQ 6 25.140625 12.171875 29.828125 \nQ 18.359375 34.515625 30.609375 34.515625 \nL 43.21875 34.515625 \nL 43.21875 35.40625 \nQ 43.21875 41.609375 39.140625 45 \nQ 35.0625 48.390625 27.6875 48.390625 \nQ 23 48.390625 18.546875 47.265625 \nQ 14.109375 46.140625 10.015625 43.890625 \nL 10.015625 52.203125 \nQ 14.9375 54.109375 19.578125 55.046875 \nQ 24.21875 56 28.609375 56 \nQ 40.484375 56 46.34375 49.84375 \nQ 52.203125 43.703125 52.203125 31.203125 \nz\n\" id=\"DejaVuSans-97\"/>\n      <path d=\"M 32.171875 -5.078125 \nQ 28.375 -14.84375 24.75 -17.8125 \nQ 21.140625 -20.796875 15.09375 -20.796875 \nL 7.90625 -20.796875 \nL 7.90625 -13.28125 \nL 13.1875 -13.28125 \nQ 16.890625 -13.28125 18.9375 -11.515625 \nQ 21 -9.765625 23.484375 -3.21875 \nL 25.09375 0.875 \nL 2.984375 54.6875 \nL 12.5 54.6875 \nL 29.59375 11.921875 \nL 46.6875 54.6875 \nL 56.203125 54.6875 \nz\n\" id=\"DejaVuSans-121\"/>\n     </defs>\n     <g transform=\"translate(14.798438 138.834844)rotate(-90)scale(0.1 -0.1)\">\n      <use xlink:href=\"#DejaVuSans-65\"/>\n      <use x=\"68.392578\" xlink:href=\"#DejaVuSans-99\"/>\n      <use x=\"123.373047\" xlink:href=\"#DejaVuSans-99\"/>\n      <use x=\"178.353516\" xlink:href=\"#DejaVuSans-117\"/>\n      <use x=\"241.732422\" xlink:href=\"#DejaVuSans-114\"/>\n      <use x=\"282.845703\" xlink:href=\"#DejaVuSans-97\"/>\n      <use x=\"344.125\" xlink:href=\"#DejaVuSans-99\"/>\n      <use x=\"399.105469\" xlink:href=\"#DejaVuSans-121\"/>\n     </g>\n    </g>\n   </g>\n   <g id=\"line2d_11\">\n    <path clip-path=\"url(#pb5be908a4a)\" d=\"M 55.821307 214.756364 \nL 59.279985 166.976442 \nL 62.738662 142.220734 \nL 66.19734 126.921606 \nL 69.656018 115.965305 \nL 73.114695 107.511422 \nL 76.573373 100.58747 \nL 80.032051 94.752761 \nL 83.490728 89.78934 \nL 86.949406 85.496576 \nL 90.408084 81.742537 \nL 93.866761 78.364848 \nL 97.325439 75.333599 \nL 100.784117 72.470386 \nL 104.242794 69.878907 \nL 107.701472 67.509874 \nL 111.16015 65.343147 \nL 114.618827 63.326182 \nL 118.077505 61.431063 \nL 121.536183 59.661868 \nL 124.994861 58.047367 \nL 128.453538 56.479466 \nL 131.912216 55.004642 \nL 135.370894 53.610468 \nL 138.829571 52.274719 \nL 142.288249 51.004003 \nL 145.746927 49.809038 \nL 149.205604 48.687514 \nL 152.664282 47.625523 \nL 156.12296 46.587117 \nL 159.581637 45.573592 \nL 163.040315 44.459625 \nL 166.498993 43.358746 \nL 169.95767 42.301466 \nL 173.416348 41.281143 \nL 176.875026 40.293922 \nL 180.333704 39.361744 \nL 183.792381 38.461338 \nL 187.251059 37.603203 \nL 190.709737 36.778485 \nL 194.168414 35.992811 \nL 197.627092 35.233379 \nL 201.08577 34.505878 \nL 204.544447 33.809582 \nL 208.003125 33.136712 \nL 211.461803 32.487522 \nL 214.92048 31.869505 \nL 218.379158 31.262965 \nL 221.837836 30.677385 \nL 225.296513 30.123769 \nL 228.755191 29.582988 \nL 232.213869 29.060291 \nL 235.672546 28.556311 \nL 239.131224 28.07443 \nL 242.589902 27.605448 \nL 246.04858 27.153822 \nL 249.507257 26.712567 \nL 252.965935 26.286771 \nL 256.424613 25.879281 \nL 259.88329 25.48216 \nL 263.341968 25.095884 \nL 266.800646 24.712042 \nL 270.259323 24.336325 \nL 273.718001 23.972843 \nL 277.176679 23.616317 \nL 280.635356 23.272026 \nL 284.094034 22.940412 \nL 287.552712 22.61019 \nL 291.011389 22.292298 \nL 294.470067 21.978863 \nL 297.928745 21.675229 \nL 301.387423 21.378045 \nL 304.8461 21.089144 \nL 308.304778 20.808842 \nL 311.763456 20.536634 \nL 315.222133 20.268219 \nL 318.680811 20.006255 \nL 322.139489 19.753237 \nL 325.598166 19.50708 \nL 329.056844 19.265349 \nL 332.515522 19.029814 \nL 335.974199 18.801678 \nL 339.432877 18.576956 \nL 342.891555 18.359917 \nL 346.350232 18.14449 \nL 349.80891 17.930612 \nL 353.267588 17.72429 \nL 356.726265 17.523469 \nL 360.184943 17.326284 \n\" style=\"fill:none;stroke:#ff0000;stroke-linecap:square;stroke-width:1.5;\"/>\n   </g>\n   <g id=\"line2d_12\">\n    <path clip-path=\"url(#pb5be908a4a)\" d=\"M 55.821307 173.031336 \nL 59.279985 145.873746 \nL 62.738662 129.218461 \nL 66.19734 117.575222 \nL 69.656018 108.725926 \nL 73.114695 101.544372 \nL 76.573373 95.54539 \nL 80.032051 90.433788 \nL 83.490728 85.999987 \nL 86.949406 82.147467 \nL 90.408084 78.714861 \nL 93.866761 75.620161 \nL 97.325439 72.740223 \nL 100.784117 70.113999 \nL 104.242794 67.673325 \nL 107.701472 65.494332 \nL 111.16015 63.445435 \nL 114.618827 61.54883 \nL 118.077505 59.741412 \nL 121.536183 58.120113 \nL 124.994861 56.531537 \nL 128.453538 55.040051 \nL 131.912216 53.645023 \nL 135.370894 52.288124 \nL 138.829571 51.02449 \nL 142.288249 49.818206 \nL 145.746927 48.690423 \nL 149.205604 47.622172 \nL 152.664282 46.568811 \nL 156.12296 45.560724 \nL 159.581637 44.463671 \nL 163.040315 43.354542 \nL 166.498993 42.293846 \nL 169.95767 41.270268 \nL 173.416348 40.281213 \nL 176.875026 39.343849 \nL 180.333704 38.43848 \nL 183.792381 37.578543 \nL 187.251059 36.748387 \nL 190.709737 35.964294 \nL 194.168414 35.202839 \nL 197.627092 34.46873 \nL 201.08577 33.774868 \nL 204.544447 33.101018 \nL 208.003125 32.448288 \nL 211.461803 31.831535 \nL 214.92048 31.225311 \nL 218.379158 30.638625 \nL 221.837836 30.078432 \nL 225.296513 29.535217 \nL 228.755191 29.012457 \nL 232.213869 28.507908 \nL 235.672546 28.024794 \nL 239.131224 27.553409 \nL 242.589902 27.103933 \nL 246.04858 26.661192 \nL 249.507257 26.238684 \nL 252.965935 25.8274 \nL 256.424613 25.430975 \nL 259.88329 25.043118 \nL 263.341968 24.661679 \nL 266.800646 24.284128 \nL 270.259323 23.921247 \nL 273.718001 23.565163 \nL 277.176679 23.221694 \nL 280.635356 22.887836 \nL 284.094034 22.559922 \nL 287.552712 22.242725 \nL 291.011389 21.928658 \nL 294.470067 21.624044 \nL 297.928745 21.327618 \nL 301.387423 21.036599 \nL 304.8461 20.758036 \nL 308.304778 20.486934 \nL 311.763456 20.217951 \nL 315.222133 19.955796 \nL 318.680811 19.704612 \nL 322.139489 19.457064 \nL 325.598166 19.214416 \nL 329.056844 18.979356 \nL 332.515522 18.751757 \nL 335.974199 18.527383 \nL 339.432877 18.308415 \nL 342.891555 18.094632 \nL 346.350232 17.880944 \nL 349.80891 17.674685 \nL 353.267588 17.473896 \nL 356.726265 17.277059 \nL 360.184943 17.083636 \n\" style=\"fill:none;stroke:#0000ff;stroke-linecap:square;stroke-width:1.5;\"/>\n   </g>\n   <g id=\"patch_3\">\n    <path d=\"M 40.603125 224.64 \nL 40.603125 7.2 \n\" style=\"fill:none;stroke:#000000;stroke-linecap:square;stroke-linejoin:miter;stroke-width:0.8;\"/>\n   </g>\n   <g id=\"patch_4\">\n    <path d=\"M 375.403125 224.64 \nL 375.403125 7.2 \n\" style=\"fill:none;stroke:#000000;stroke-linecap:square;stroke-linejoin:miter;stroke-width:0.8;\"/>\n   </g>\n   <g id=\"patch_5\">\n    <path d=\"M 40.603125 224.64 \nL 375.403125 224.64 \n\" style=\"fill:none;stroke:#000000;stroke-linecap:square;stroke-linejoin:miter;stroke-width:0.8;\"/>\n   </g>\n   <g id=\"patch_6\">\n    <path d=\"M 40.603125 7.2 \nL 375.403125 7.2 \n\" style=\"fill:none;stroke:#000000;stroke-linecap:square;stroke-linejoin:miter;stroke-width:0.8;\"/>\n   </g>\n   <g id=\"legend_1\">\n    <g id=\"patch_7\">\n     <path d=\"M 47.603125 44.55625 \nL 105.04375 44.55625 \nQ 107.04375 44.55625 107.04375 42.55625 \nL 107.04375 14.2 \nQ 107.04375 12.2 105.04375 12.2 \nL 47.603125 12.2 \nQ 45.603125 12.2 45.603125 14.2 \nL 45.603125 42.55625 \nQ 45.603125 44.55625 47.603125 44.55625 \nz\n\" style=\"fill:#ffffff;opacity:0.8;stroke:#cccccc;stroke-linejoin:miter;\"/>\n    </g>\n    <g id=\"line2d_13\">\n     <path d=\"M 49.603125 20.298437 \nL 69.603125 20.298437 \n\" style=\"fill:none;stroke:#ff0000;stroke-linecap:square;stroke-width:1.5;\"/>\n    </g>\n    <g id=\"line2d_14\"/>\n    <g id=\"text_13\">\n     <!-- Train -->\n     <defs>\n      <path d=\"M -0.296875 72.90625 \nL 61.375 72.90625 \nL 61.375 64.59375 \nL 35.5 64.59375 \nL 35.5 0 \nL 25.59375 0 \nL 25.59375 64.59375 \nL -0.296875 64.59375 \nz\n\" id=\"DejaVuSans-84\"/>\n      <path d=\"M 9.421875 54.6875 \nL 18.40625 54.6875 \nL 18.40625 0 \nL 9.421875 0 \nz\nM 9.421875 75.984375 \nL 18.40625 75.984375 \nL 18.40625 64.59375 \nL 9.421875 64.59375 \nz\n\" id=\"DejaVuSans-105\"/>\n      <path d=\"M 54.890625 33.015625 \nL 54.890625 0 \nL 45.90625 0 \nL 45.90625 32.71875 \nQ 45.90625 40.484375 42.875 44.328125 \nQ 39.84375 48.1875 33.796875 48.1875 \nQ 26.515625 48.1875 22.3125 43.546875 \nQ 18.109375 38.921875 18.109375 30.90625 \nL 18.109375 0 \nL 9.078125 0 \nL 9.078125 54.6875 \nL 18.109375 54.6875 \nL 18.109375 46.1875 \nQ 21.34375 51.125 25.703125 53.5625 \nQ 30.078125 56 35.796875 56 \nQ 45.21875 56 50.046875 50.171875 \nQ 54.890625 44.34375 54.890625 33.015625 \nz\n\" id=\"DejaVuSans-110\"/>\n     </defs>\n     <g transform=\"translate(77.603125 23.798437)scale(0.1 -0.1)\">\n      <use xlink:href=\"#DejaVuSans-84\"/>\n      <use x=\"60.865234\" xlink:href=\"#DejaVuSans-114\"/>\n      <use x=\"101.978516\" xlink:href=\"#DejaVuSans-97\"/>\n      <use x=\"163.257812\" xlink:href=\"#DejaVuSans-105\"/>\n      <use x=\"191.041016\" xlink:href=\"#DejaVuSans-110\"/>\n     </g>\n    </g>\n    <g id=\"line2d_15\">\n     <path d=\"M 49.603125 34.976562 \nL 69.603125 34.976562 \n\" style=\"fill:none;stroke:#0000ff;stroke-linecap:square;stroke-width:1.5;\"/>\n    </g>\n    <g id=\"line2d_16\"/>\n    <g id=\"text_14\">\n     <!-- Val -->\n     <defs>\n      <path d=\"M 28.609375 0 \nL 0.78125 72.90625 \nL 11.078125 72.90625 \nL 34.1875 11.53125 \nL 57.328125 72.90625 \nL 67.578125 72.90625 \nL 39.796875 0 \nz\n\" id=\"DejaVuSans-86\"/>\n      <path d=\"M 9.421875 75.984375 \nL 18.40625 75.984375 \nL 18.40625 0 \nL 9.421875 0 \nz\n\" id=\"DejaVuSans-108\"/>\n     </defs>\n     <g transform=\"translate(77.603125 38.476562)scale(0.1 -0.1)\">\n      <use xlink:href=\"#DejaVuSans-86\"/>\n      <use x=\"68.298828\" xlink:href=\"#DejaVuSans-97\"/>\n      <use x=\"129.578125\" xlink:href=\"#DejaVuSans-108\"/>\n     </g>\n    </g>\n   </g>\n  </g>\n </g>\n <defs>\n  <clipPath id=\"pb5be908a4a\">\n   <rect height=\"217.44\" width=\"334.8\" x=\"40.603125\" y=\"7.2\"/>\n  </clipPath>\n </defs>\n</svg>\n"
          },
          "metadata": {
            "tags": []
          }
        }
      ]
    },
    {
      "cell_type": "code",
      "metadata": {
        "id": "uDO1w_zSIX08",
        "colab_type": "code",
        "outputId": "615666e9-8d07-48c0-c660-f497cb740a3a",
        "colab": {
          "base_uri": "https://localhost:8080/",
          "height": 371
        }
      },
      "source": [
        "plt.xlabel(\"Epochs\")\n",
        "plt.ylabel(\"Losses\")\n",
        "plt.plot(ep_lookahead_losses, 'r', label='Train')\n",
        "plt.plot(ep_lookahead_lossesv, 'b', label='Val')\n",
        "plt.legend()\n",
        "plt.savefig('radam_resnet18_9303_loss.jpg')"
      ],
      "execution_count": 0,
      "outputs": [
        {
          "output_type": "display_data",
          "data": {
            "text/plain": [
              "<Figure size 432x288 with 1 Axes>"
            ],
            "image/svg+xml": "<?xml version=\"1.0\" encoding=\"utf-8\" standalone=\"no\"?>\n<!DOCTYPE svg PUBLIC \"-//W3C//DTD SVG 1.1//EN\"\n  \"http://www.w3.org/Graphics/SVG/1.1/DTD/svg11.dtd\">\n<!-- Created with matplotlib (https://matplotlib.org/) -->\n<svg height=\"262.19625pt\" version=\"1.1\" viewBox=\"0 0 385.78125 262.19625\" width=\"385.78125pt\" xmlns=\"http://www.w3.org/2000/svg\" xmlns:xlink=\"http://www.w3.org/1999/xlink\">\n <defs>\n  <style type=\"text/css\">\n*{stroke-linecap:butt;stroke-linejoin:round;}\n  </style>\n </defs>\n <g id=\"figure_1\">\n  <g id=\"patch_1\">\n   <path d=\"M 0 262.19625 \nL 385.78125 262.19625 \nL 385.78125 0 \nL 0 0 \nz\n\" style=\"fill:none;\"/>\n  </g>\n  <g id=\"axes_1\">\n   <g id=\"patch_2\">\n    <path d=\"M 43.78125 224.64 \nL 378.58125 224.64 \nL 378.58125 7.2 \nL 43.78125 7.2 \nz\n\" style=\"fill:#ffffff;\"/>\n   </g>\n   <g id=\"matplotlib.axis_1\">\n    <g id=\"xtick_1\">\n     <g id=\"line2d_1\">\n      <defs>\n       <path d=\"M 0 0 \nL 0 3.5 \n\" id=\"mfc88df0711\" style=\"stroke:#000000;stroke-width:0.8;\"/>\n      </defs>\n      <g>\n       <use style=\"stroke:#000000;stroke-width:0.8;\" x=\"58.999432\" xlink:href=\"#mfc88df0711\" y=\"224.64\"/>\n      </g>\n     </g>\n     <g id=\"text_1\">\n      <!-- 0 -->\n      <defs>\n       <path d=\"M 31.78125 66.40625 \nQ 24.171875 66.40625 20.328125 58.90625 \nQ 16.5 51.421875 16.5 36.375 \nQ 16.5 21.390625 20.328125 13.890625 \nQ 24.171875 6.390625 31.78125 6.390625 \nQ 39.453125 6.390625 43.28125 13.890625 \nQ 47.125 21.390625 47.125 36.375 \nQ 47.125 51.421875 43.28125 58.90625 \nQ 39.453125 66.40625 31.78125 66.40625 \nz\nM 31.78125 74.21875 \nQ 44.046875 74.21875 50.515625 64.515625 \nQ 56.984375 54.828125 56.984375 36.375 \nQ 56.984375 17.96875 50.515625 8.265625 \nQ 44.046875 -1.421875 31.78125 -1.421875 \nQ 19.53125 -1.421875 13.0625 8.265625 \nQ 6.59375 17.96875 6.59375 36.375 \nQ 6.59375 54.828125 13.0625 64.515625 \nQ 19.53125 74.21875 31.78125 74.21875 \nz\n\" id=\"DejaVuSans-48\"/>\n      </defs>\n      <g transform=\"translate(55.818182 239.238437)scale(0.1 -0.1)\">\n       <use xlink:href=\"#DejaVuSans-48\"/>\n      </g>\n     </g>\n    </g>\n    <g id=\"xtick_2\">\n     <g id=\"line2d_2\">\n      <g>\n       <use style=\"stroke:#000000;stroke-width:0.8;\" x=\"128.172986\" xlink:href=\"#mfc88df0711\" y=\"224.64\"/>\n      </g>\n     </g>\n     <g id=\"text_2\">\n      <!-- 20 -->\n      <defs>\n       <path d=\"M 19.1875 8.296875 \nL 53.609375 8.296875 \nL 53.609375 0 \nL 7.328125 0 \nL 7.328125 8.296875 \nQ 12.9375 14.109375 22.625 23.890625 \nQ 32.328125 33.6875 34.8125 36.53125 \nQ 39.546875 41.84375 41.421875 45.53125 \nQ 43.3125 49.21875 43.3125 52.78125 \nQ 43.3125 58.59375 39.234375 62.25 \nQ 35.15625 65.921875 28.609375 65.921875 \nQ 23.96875 65.921875 18.8125 64.3125 \nQ 13.671875 62.703125 7.8125 59.421875 \nL 7.8125 69.390625 \nQ 13.765625 71.78125 18.9375 73 \nQ 24.125 74.21875 28.421875 74.21875 \nQ 39.75 74.21875 46.484375 68.546875 \nQ 53.21875 62.890625 53.21875 53.421875 \nQ 53.21875 48.921875 51.53125 44.890625 \nQ 49.859375 40.875 45.40625 35.40625 \nQ 44.1875 33.984375 37.640625 27.21875 \nQ 31.109375 20.453125 19.1875 8.296875 \nz\n\" id=\"DejaVuSans-50\"/>\n      </defs>\n      <g transform=\"translate(121.810486 239.238437)scale(0.1 -0.1)\">\n       <use xlink:href=\"#DejaVuSans-50\"/>\n       <use x=\"63.623047\" xlink:href=\"#DejaVuSans-48\"/>\n      </g>\n     </g>\n    </g>\n    <g id=\"xtick_3\">\n     <g id=\"line2d_3\">\n      <g>\n       <use style=\"stroke:#000000;stroke-width:0.8;\" x=\"197.346539\" xlink:href=\"#mfc88df0711\" y=\"224.64\"/>\n      </g>\n     </g>\n     <g id=\"text_3\">\n      <!-- 40 -->\n      <defs>\n       <path d=\"M 37.796875 64.3125 \nL 12.890625 25.390625 \nL 37.796875 25.390625 \nz\nM 35.203125 72.90625 \nL 47.609375 72.90625 \nL 47.609375 25.390625 \nL 58.015625 25.390625 \nL 58.015625 17.1875 \nL 47.609375 17.1875 \nL 47.609375 0 \nL 37.796875 0 \nL 37.796875 17.1875 \nL 4.890625 17.1875 \nL 4.890625 26.703125 \nz\n\" id=\"DejaVuSans-52\"/>\n      </defs>\n      <g transform=\"translate(190.984039 239.238437)scale(0.1 -0.1)\">\n       <use xlink:href=\"#DejaVuSans-52\"/>\n       <use x=\"63.623047\" xlink:href=\"#DejaVuSans-48\"/>\n      </g>\n     </g>\n    </g>\n    <g id=\"xtick_4\">\n     <g id=\"line2d_4\">\n      <g>\n       <use style=\"stroke:#000000;stroke-width:0.8;\" x=\"266.520093\" xlink:href=\"#mfc88df0711\" y=\"224.64\"/>\n      </g>\n     </g>\n     <g id=\"text_4\">\n      <!-- 60 -->\n      <defs>\n       <path d=\"M 33.015625 40.375 \nQ 26.375 40.375 22.484375 35.828125 \nQ 18.609375 31.296875 18.609375 23.390625 \nQ 18.609375 15.53125 22.484375 10.953125 \nQ 26.375 6.390625 33.015625 6.390625 \nQ 39.65625 6.390625 43.53125 10.953125 \nQ 47.40625 15.53125 47.40625 23.390625 \nQ 47.40625 31.296875 43.53125 35.828125 \nQ 39.65625 40.375 33.015625 40.375 \nz\nM 52.59375 71.296875 \nL 52.59375 62.3125 \nQ 48.875 64.0625 45.09375 64.984375 \nQ 41.3125 65.921875 37.59375 65.921875 \nQ 27.828125 65.921875 22.671875 59.328125 \nQ 17.53125 52.734375 16.796875 39.40625 \nQ 19.671875 43.65625 24.015625 45.921875 \nQ 28.375 48.1875 33.59375 48.1875 \nQ 44.578125 48.1875 50.953125 41.515625 \nQ 57.328125 34.859375 57.328125 23.390625 \nQ 57.328125 12.15625 50.6875 5.359375 \nQ 44.046875 -1.421875 33.015625 -1.421875 \nQ 20.359375 -1.421875 13.671875 8.265625 \nQ 6.984375 17.96875 6.984375 36.375 \nQ 6.984375 53.65625 15.1875 63.9375 \nQ 23.390625 74.21875 37.203125 74.21875 \nQ 40.921875 74.21875 44.703125 73.484375 \nQ 48.484375 72.75 52.59375 71.296875 \nz\n\" id=\"DejaVuSans-54\"/>\n      </defs>\n      <g transform=\"translate(260.157593 239.238437)scale(0.1 -0.1)\">\n       <use xlink:href=\"#DejaVuSans-54\"/>\n       <use x=\"63.623047\" xlink:href=\"#DejaVuSans-48\"/>\n      </g>\n     </g>\n    </g>\n    <g id=\"xtick_5\">\n     <g id=\"line2d_5\">\n      <g>\n       <use style=\"stroke:#000000;stroke-width:0.8;\" x=\"335.693647\" xlink:href=\"#mfc88df0711\" y=\"224.64\"/>\n      </g>\n     </g>\n     <g id=\"text_5\">\n      <!-- 80 -->\n      <defs>\n       <path d=\"M 31.78125 34.625 \nQ 24.75 34.625 20.71875 30.859375 \nQ 16.703125 27.09375 16.703125 20.515625 \nQ 16.703125 13.921875 20.71875 10.15625 \nQ 24.75 6.390625 31.78125 6.390625 \nQ 38.8125 6.390625 42.859375 10.171875 \nQ 46.921875 13.96875 46.921875 20.515625 \nQ 46.921875 27.09375 42.890625 30.859375 \nQ 38.875 34.625 31.78125 34.625 \nz\nM 21.921875 38.8125 \nQ 15.578125 40.375 12.03125 44.71875 \nQ 8.5 49.078125 8.5 55.328125 \nQ 8.5 64.0625 14.71875 69.140625 \nQ 20.953125 74.21875 31.78125 74.21875 \nQ 42.671875 74.21875 48.875 69.140625 \nQ 55.078125 64.0625 55.078125 55.328125 \nQ 55.078125 49.078125 51.53125 44.71875 \nQ 48 40.375 41.703125 38.8125 \nQ 48.828125 37.15625 52.796875 32.3125 \nQ 56.78125 27.484375 56.78125 20.515625 \nQ 56.78125 9.90625 50.3125 4.234375 \nQ 43.84375 -1.421875 31.78125 -1.421875 \nQ 19.734375 -1.421875 13.25 4.234375 \nQ 6.78125 9.90625 6.78125 20.515625 \nQ 6.78125 27.484375 10.78125 32.3125 \nQ 14.796875 37.15625 21.921875 38.8125 \nz\nM 18.3125 54.390625 \nQ 18.3125 48.734375 21.84375 45.5625 \nQ 25.390625 42.390625 31.78125 42.390625 \nQ 38.140625 42.390625 41.71875 45.5625 \nQ 45.3125 48.734375 45.3125 54.390625 \nQ 45.3125 60.0625 41.71875 63.234375 \nQ 38.140625 66.40625 31.78125 66.40625 \nQ 25.390625 66.40625 21.84375 63.234375 \nQ 18.3125 60.0625 18.3125 54.390625 \nz\n\" id=\"DejaVuSans-56\"/>\n      </defs>\n      <g transform=\"translate(329.331147 239.238437)scale(0.1 -0.1)\">\n       <use xlink:href=\"#DejaVuSans-56\"/>\n       <use x=\"63.623047\" xlink:href=\"#DejaVuSans-48\"/>\n      </g>\n     </g>\n    </g>\n    <g id=\"text_6\">\n     <!-- Epochs -->\n     <defs>\n      <path d=\"M 9.8125 72.90625 \nL 55.90625 72.90625 \nL 55.90625 64.59375 \nL 19.671875 64.59375 \nL 19.671875 43.015625 \nL 54.390625 43.015625 \nL 54.390625 34.71875 \nL 19.671875 34.71875 \nL 19.671875 8.296875 \nL 56.78125 8.296875 \nL 56.78125 0 \nL 9.8125 0 \nz\n\" id=\"DejaVuSans-69\"/>\n      <path d=\"M 18.109375 8.203125 \nL 18.109375 -20.796875 \nL 9.078125 -20.796875 \nL 9.078125 54.6875 \nL 18.109375 54.6875 \nL 18.109375 46.390625 \nQ 20.953125 51.265625 25.265625 53.625 \nQ 29.59375 56 35.59375 56 \nQ 45.5625 56 51.78125 48.09375 \nQ 58.015625 40.1875 58.015625 27.296875 \nQ 58.015625 14.40625 51.78125 6.484375 \nQ 45.5625 -1.421875 35.59375 -1.421875 \nQ 29.59375 -1.421875 25.265625 0.953125 \nQ 20.953125 3.328125 18.109375 8.203125 \nz\nM 48.6875 27.296875 \nQ 48.6875 37.203125 44.609375 42.84375 \nQ 40.53125 48.484375 33.40625 48.484375 \nQ 26.265625 48.484375 22.1875 42.84375 \nQ 18.109375 37.203125 18.109375 27.296875 \nQ 18.109375 17.390625 22.1875 11.75 \nQ 26.265625 6.109375 33.40625 6.109375 \nQ 40.53125 6.109375 44.609375 11.75 \nQ 48.6875 17.390625 48.6875 27.296875 \nz\n\" id=\"DejaVuSans-112\"/>\n      <path d=\"M 30.609375 48.390625 \nQ 23.390625 48.390625 19.1875 42.75 \nQ 14.984375 37.109375 14.984375 27.296875 \nQ 14.984375 17.484375 19.15625 11.84375 \nQ 23.34375 6.203125 30.609375 6.203125 \nQ 37.796875 6.203125 41.984375 11.859375 \nQ 46.1875 17.53125 46.1875 27.296875 \nQ 46.1875 37.015625 41.984375 42.703125 \nQ 37.796875 48.390625 30.609375 48.390625 \nz\nM 30.609375 56 \nQ 42.328125 56 49.015625 48.375 \nQ 55.71875 40.765625 55.71875 27.296875 \nQ 55.71875 13.875 49.015625 6.21875 \nQ 42.328125 -1.421875 30.609375 -1.421875 \nQ 18.84375 -1.421875 12.171875 6.21875 \nQ 5.515625 13.875 5.515625 27.296875 \nQ 5.515625 40.765625 12.171875 48.375 \nQ 18.84375 56 30.609375 56 \nz\n\" id=\"DejaVuSans-111\"/>\n      <path d=\"M 48.78125 52.59375 \nL 48.78125 44.1875 \nQ 44.96875 46.296875 41.140625 47.34375 \nQ 37.3125 48.390625 33.40625 48.390625 \nQ 24.65625 48.390625 19.8125 42.84375 \nQ 14.984375 37.3125 14.984375 27.296875 \nQ 14.984375 17.28125 19.8125 11.734375 \nQ 24.65625 6.203125 33.40625 6.203125 \nQ 37.3125 6.203125 41.140625 7.25 \nQ 44.96875 8.296875 48.78125 10.40625 \nL 48.78125 2.09375 \nQ 45.015625 0.34375 40.984375 -0.53125 \nQ 36.96875 -1.421875 32.421875 -1.421875 \nQ 20.0625 -1.421875 12.78125 6.34375 \nQ 5.515625 14.109375 5.515625 27.296875 \nQ 5.515625 40.671875 12.859375 48.328125 \nQ 20.21875 56 33.015625 56 \nQ 37.15625 56 41.109375 55.140625 \nQ 45.0625 54.296875 48.78125 52.59375 \nz\n\" id=\"DejaVuSans-99\"/>\n      <path d=\"M 54.890625 33.015625 \nL 54.890625 0 \nL 45.90625 0 \nL 45.90625 32.71875 \nQ 45.90625 40.484375 42.875 44.328125 \nQ 39.84375 48.1875 33.796875 48.1875 \nQ 26.515625 48.1875 22.3125 43.546875 \nQ 18.109375 38.921875 18.109375 30.90625 \nL 18.109375 0 \nL 9.078125 0 \nL 9.078125 75.984375 \nL 18.109375 75.984375 \nL 18.109375 46.1875 \nQ 21.34375 51.125 25.703125 53.5625 \nQ 30.078125 56 35.796875 56 \nQ 45.21875 56 50.046875 50.171875 \nQ 54.890625 44.34375 54.890625 33.015625 \nz\n\" id=\"DejaVuSans-104\"/>\n      <path d=\"M 44.28125 53.078125 \nL 44.28125 44.578125 \nQ 40.484375 46.53125 36.375 47.5 \nQ 32.28125 48.484375 27.875 48.484375 \nQ 21.1875 48.484375 17.84375 46.4375 \nQ 14.5 44.390625 14.5 40.28125 \nQ 14.5 37.15625 16.890625 35.375 \nQ 19.28125 33.59375 26.515625 31.984375 \nL 29.59375 31.296875 \nQ 39.15625 29.25 43.1875 25.515625 \nQ 47.21875 21.78125 47.21875 15.09375 \nQ 47.21875 7.46875 41.1875 3.015625 \nQ 35.15625 -1.421875 24.609375 -1.421875 \nQ 20.21875 -1.421875 15.453125 -0.5625 \nQ 10.6875 0.296875 5.421875 2 \nL 5.421875 11.28125 \nQ 10.40625 8.6875 15.234375 7.390625 \nQ 20.0625 6.109375 24.8125 6.109375 \nQ 31.15625 6.109375 34.5625 8.28125 \nQ 37.984375 10.453125 37.984375 14.40625 \nQ 37.984375 18.0625 35.515625 20.015625 \nQ 33.0625 21.96875 24.703125 23.78125 \nL 21.578125 24.515625 \nQ 13.234375 26.265625 9.515625 29.90625 \nQ 5.8125 33.546875 5.8125 39.890625 \nQ 5.8125 47.609375 11.28125 51.796875 \nQ 16.75 56 26.8125 56 \nQ 31.78125 56 36.171875 55.265625 \nQ 40.578125 54.546875 44.28125 53.078125 \nz\n\" id=\"DejaVuSans-115\"/>\n     </defs>\n     <g transform=\"translate(193.265625 252.916562)scale(0.1 -0.1)\">\n      <use xlink:href=\"#DejaVuSans-69\"/>\n      <use x=\"63.183594\" xlink:href=\"#DejaVuSans-112\"/>\n      <use x=\"126.660156\" xlink:href=\"#DejaVuSans-111\"/>\n      <use x=\"187.841797\" xlink:href=\"#DejaVuSans-99\"/>\n      <use x=\"242.822266\" xlink:href=\"#DejaVuSans-104\"/>\n      <use x=\"306.201172\" xlink:href=\"#DejaVuSans-115\"/>\n     </g>\n    </g>\n   </g>\n   <g id=\"matplotlib.axis_2\">\n    <g id=\"ytick_1\">\n     <g id=\"line2d_6\">\n      <defs>\n       <path d=\"M 0 0 \nL -3.5 0 \n\" id=\"m8d53ea6821\" style=\"stroke:#000000;stroke-width:0.8;\"/>\n      </defs>\n      <g>\n       <use style=\"stroke:#000000;stroke-width:0.8;\" x=\"43.78125\" xlink:href=\"#m8d53ea6821\" y=\"216.031734\"/>\n      </g>\n     </g>\n     <g id=\"text_7\">\n      <!-- 0.0 -->\n      <defs>\n       <path d=\"M 10.6875 12.40625 \nL 21 12.40625 \nL 21 0 \nL 10.6875 0 \nz\n\" id=\"DejaVuSans-46\"/>\n      </defs>\n      <g transform=\"translate(20.878125 219.830953)scale(0.1 -0.1)\">\n       <use xlink:href=\"#DejaVuSans-48\"/>\n       <use x=\"63.623047\" xlink:href=\"#DejaVuSans-46\"/>\n       <use x=\"95.410156\" xlink:href=\"#DejaVuSans-48\"/>\n      </g>\n     </g>\n    </g>\n    <g id=\"ytick_2\">\n     <g id=\"line2d_7\">\n      <g>\n       <use style=\"stroke:#000000;stroke-width:0.8;\" x=\"43.78125\" xlink:href=\"#m8d53ea6821\" y=\"170.149013\"/>\n      </g>\n     </g>\n     <g id=\"text_8\">\n      <!-- 0.2 -->\n      <g transform=\"translate(20.878125 173.948232)scale(0.1 -0.1)\">\n       <use xlink:href=\"#DejaVuSans-48\"/>\n       <use x=\"63.623047\" xlink:href=\"#DejaVuSans-46\"/>\n       <use x=\"95.410156\" xlink:href=\"#DejaVuSans-50\"/>\n      </g>\n     </g>\n    </g>\n    <g id=\"ytick_3\">\n     <g id=\"line2d_8\">\n      <g>\n       <use style=\"stroke:#000000;stroke-width:0.8;\" x=\"43.78125\" xlink:href=\"#m8d53ea6821\" y=\"124.266292\"/>\n      </g>\n     </g>\n     <g id=\"text_9\">\n      <!-- 0.4 -->\n      <g transform=\"translate(20.878125 128.065511)scale(0.1 -0.1)\">\n       <use xlink:href=\"#DejaVuSans-48\"/>\n       <use x=\"63.623047\" xlink:href=\"#DejaVuSans-46\"/>\n       <use x=\"95.410156\" xlink:href=\"#DejaVuSans-52\"/>\n      </g>\n     </g>\n    </g>\n    <g id=\"ytick_4\">\n     <g id=\"line2d_9\">\n      <g>\n       <use style=\"stroke:#000000;stroke-width:0.8;\" x=\"43.78125\" xlink:href=\"#m8d53ea6821\" y=\"78.383571\"/>\n      </g>\n     </g>\n     <g id=\"text_10\">\n      <!-- 0.6 -->\n      <g transform=\"translate(20.878125 82.18279)scale(0.1 -0.1)\">\n       <use xlink:href=\"#DejaVuSans-48\"/>\n       <use x=\"63.623047\" xlink:href=\"#DejaVuSans-46\"/>\n       <use x=\"95.410156\" xlink:href=\"#DejaVuSans-54\"/>\n      </g>\n     </g>\n    </g>\n    <g id=\"ytick_5\">\n     <g id=\"line2d_10\">\n      <g>\n       <use style=\"stroke:#000000;stroke-width:0.8;\" x=\"43.78125\" xlink:href=\"#m8d53ea6821\" y=\"32.50085\"/>\n      </g>\n     </g>\n     <g id=\"text_11\">\n      <!-- 0.8 -->\n      <g transform=\"translate(20.878125 36.300069)scale(0.1 -0.1)\">\n       <use xlink:href=\"#DejaVuSans-48\"/>\n       <use x=\"63.623047\" xlink:href=\"#DejaVuSans-46\"/>\n       <use x=\"95.410156\" xlink:href=\"#DejaVuSans-56\"/>\n      </g>\n     </g>\n    </g>\n    <g id=\"text_12\">\n     <!-- Losses -->\n     <defs>\n      <path d=\"M 9.8125 72.90625 \nL 19.671875 72.90625 \nL 19.671875 8.296875 \nL 55.171875 8.296875 \nL 55.171875 0 \nL 9.8125 0 \nz\n\" id=\"DejaVuSans-76\"/>\n      <path d=\"M 56.203125 29.59375 \nL 56.203125 25.203125 \nL 14.890625 25.203125 \nQ 15.484375 15.921875 20.484375 11.0625 \nQ 25.484375 6.203125 34.421875 6.203125 \nQ 39.59375 6.203125 44.453125 7.46875 \nQ 49.3125 8.734375 54.109375 11.28125 \nL 54.109375 2.78125 \nQ 49.265625 0.734375 44.1875 -0.34375 \nQ 39.109375 -1.421875 33.890625 -1.421875 \nQ 20.796875 -1.421875 13.15625 6.1875 \nQ 5.515625 13.8125 5.515625 26.8125 \nQ 5.515625 40.234375 12.765625 48.109375 \nQ 20.015625 56 32.328125 56 \nQ 43.359375 56 49.78125 48.890625 \nQ 56.203125 41.796875 56.203125 29.59375 \nz\nM 47.21875 32.234375 \nQ 47.125 39.59375 43.09375 43.984375 \nQ 39.0625 48.390625 32.421875 48.390625 \nQ 24.90625 48.390625 20.390625 44.140625 \nQ 15.875 39.890625 15.1875 32.171875 \nz\n\" id=\"DejaVuSans-101\"/>\n     </defs>\n     <g transform=\"translate(14.798438 132.655156)rotate(-90)scale(0.1 -0.1)\">\n      <use xlink:href=\"#DejaVuSans-76\"/>\n      <use x=\"55.697266\" xlink:href=\"#DejaVuSans-111\"/>\n      <use x=\"116.878906\" xlink:href=\"#DejaVuSans-115\"/>\n      <use x=\"168.978516\" xlink:href=\"#DejaVuSans-115\"/>\n      <use x=\"221.078125\" xlink:href=\"#DejaVuSans-101\"/>\n      <use x=\"282.601562\" xlink:href=\"#DejaVuSans-115\"/>\n     </g>\n    </g>\n   </g>\n   <g id=\"line2d_11\">\n    <path clip-path=\"url(#p126616fa7e)\" d=\"M 58.999432 17.083636 \nL 62.45811 36.174303 \nL 65.916787 78.247836 \nL 69.375465 112.0043 \nL 72.834143 93.697332 \nL 76.29282 58.294278 \nL 79.751498 110.74313 \nL 83.210176 117.495586 \nL 86.668853 124.998547 \nL 90.127531 125.369402 \nL 93.586209 141.458149 \nL 97.044886 150.130233 \nL 100.503564 158.090134 \nL 103.962242 156.235561 \nL 107.420919 143.61777 \nL 110.879597 146.065348 \nL 114.338275 180.971238 \nL 117.796952 168.109371 \nL 121.25563 165.689107 \nL 124.714308 153.554443 \nL 128.172986 182.26457 \nL 131.631663 180.090287 \nL 135.090341 174.039364 \nL 138.549019 168.63629 \nL 142.007696 195.130205 \nL 145.466374 171.604051 \nL 148.925052 173.933147 \nL 152.383729 193.817838 \nL 155.842407 190.173796 \nL 159.301085 179.240686 \nL 162.759762 202.045147 \nL 166.21844 181.183994 \nL 169.677118 185.81206 \nL 173.135795 205.581089 \nL 176.594473 205.476688 \nL 180.053151 199.727786 \nL 183.511829 203.651867 \nL 186.970506 205.390276 \nL 190.429184 201.117222 \nL 193.887862 201.746696 \nL 197.346539 189.000293 \nL 200.805217 206.783366 \nL 204.263895 201.806539 \nL 207.722572 208.335258 \nL 211.18125 194.760535 \nL 214.639928 206.52879 \nL 218.098605 197.108125 \nL 221.557283 205.511819 \nL 225.015961 205.744001 \nL 228.474638 205.524254 \nL 231.933316 208.911197 \nL 235.391994 203.520581 \nL 238.850671 206.091113 \nL 242.309349 212.091233 \nL 245.768027 205.119642 \nL 249.226705 206.824518 \nL 252.685382 213.056089 \nL 256.14406 207.519993 \nL 259.602738 204.617969 \nL 263.061415 210.275975 \nL 266.520093 205.310488 \nL 269.978771 209.445411 \nL 273.437448 203.228576 \nL 276.896126 205.345669 \nL 280.354804 204.549298 \nL 283.813481 213.30841 \nL 287.272159 207.699113 \nL 290.730837 213.26644 \nL 294.189514 212.97227 \nL 297.648192 204.718946 \nL 301.10687 208.931149 \nL 304.565548 214.00139 \nL 308.024225 212.91417 \nL 311.482903 202.345918 \nL 314.941581 212.35198 \nL 318.400258 211.487193 \nL 321.858936 212.589993 \nL 325.317614 210.659994 \nL 328.776291 207.696678 \nL 332.234969 207.302106 \nL 335.693647 214.687952 \nL 339.152324 205.63051 \nL 342.611002 213.171405 \nL 346.06968 210.433647 \nL 349.528357 205.782135 \nL 352.987035 214.756364 \nL 356.445713 211.745555 \nL 359.90439 212.052401 \nL 363.363068 210.047059 \n\" style=\"fill:none;stroke:#ff0000;stroke-linecap:square;stroke-width:1.5;\"/>\n   </g>\n   <g id=\"line2d_12\">\n    <path clip-path=\"url(#p126616fa7e)\" d=\"M 58.999432 69.262205 \nL 62.45811 97.624401 \nL 65.916787 95.237912 \nL 69.375465 110.390276 \nL 72.834143 115.095054 \nL 76.29282 113.095064 \nL 79.751498 119.808467 \nL 83.210176 116.227996 \nL 86.668853 116.828542 \nL 90.127531 107.448454 \nL 93.586209 126.908992 \nL 97.044886 116.218307 \nL 100.503564 112.342085 \nL 103.962242 132.501548 \nL 107.420919 114.926144 \nL 110.879597 114.00455 \nL 114.338275 109.336761 \nL 117.796952 119.108011 \nL 121.25563 120.625701 \nL 124.714308 111.703354 \nL 128.172986 108.352874 \nL 131.631663 124.380579 \nL 135.090341 121.357683 \nL 138.549019 101.71355 \nL 142.007696 134.076369 \nL 145.466374 120.566574 \nL 148.925052 129.774956 \nL 152.383729 122.423485 \nL 155.842407 125.929125 \nL 159.301085 92.986031 \nL 162.759762 122.845434 \nL 166.21844 127.168328 \nL 169.677118 124.588036 \nL 173.135795 135.28782 \nL 176.594473 139.243619 \nL 180.053151 139.14323 \nL 183.511829 139.729365 \nL 186.970506 131.843071 \nL 190.429184 145.497879 \nL 193.887862 146.799156 \nL 197.346539 142.784155 \nL 200.805217 134.631579 \nL 204.263895 129.880206 \nL 207.722572 132.372594 \nL 211.18125 131.234566 \nL 214.639928 135.305357 \nL 218.098605 138.486394 \nL 221.557283 142.115655 \nL 225.015961 131.057691 \nL 228.474638 135.229589 \nL 231.933316 139.020259 \nL 235.391994 147.283336 \nL 238.850671 133.86844 \nL 242.309349 132.948384 \nL 245.768027 136.733523 \nL 249.226705 131.700546 \nL 252.685382 135.161116 \nL 256.14406 128.574684 \nL 259.602738 129.725319 \nL 263.061415 124.55223 \nL 266.520093 132.009143 \nL 269.978771 126.279449 \nL 273.437448 128.356308 \nL 276.896126 130.553998 \nL 280.354804 136.886659 \nL 283.813481 134.213069 \nL 287.272159 132.266702 \nL 290.730837 133.515026 \nL 294.189514 132.763325 \nL 297.648192 139.815594 \nL 301.10687 138.085715 \nL 304.565548 134.135769 \nL 308.024225 139.5486 \nL 311.482903 134.513899 \nL 314.941581 136.453901 \nL 318.400258 133.036992 \nL 321.858936 137.900964 \nL 325.317614 137.129259 \nL 328.776291 137.552732 \nL 332.234969 134.671528 \nL 335.693647 136.632526 \nL 339.152324 138.966903 \nL 342.611002 137.819446 \nL 346.06968 140.86381 \nL 349.528357 136.203897 \nL 352.987035 129.461655 \nL 356.445713 135.796019 \nL 359.90439 139.258592 \nL 363.363068 136.919074 \n\" style=\"fill:none;stroke:#0000ff;stroke-linecap:square;stroke-width:1.5;\"/>\n   </g>\n   <g id=\"patch_3\">\n    <path d=\"M 43.78125 224.64 \nL 43.78125 7.2 \n\" style=\"fill:none;stroke:#000000;stroke-linecap:square;stroke-linejoin:miter;stroke-width:0.8;\"/>\n   </g>\n   <g id=\"patch_4\">\n    <path d=\"M 378.58125 224.64 \nL 378.58125 7.2 \n\" style=\"fill:none;stroke:#000000;stroke-linecap:square;stroke-linejoin:miter;stroke-width:0.8;\"/>\n   </g>\n   <g id=\"patch_5\">\n    <path d=\"M 43.78125 224.64 \nL 378.58125 224.64 \n\" style=\"fill:none;stroke:#000000;stroke-linecap:square;stroke-linejoin:miter;stroke-width:0.8;\"/>\n   </g>\n   <g id=\"patch_6\">\n    <path d=\"M 43.78125 7.2 \nL 378.58125 7.2 \n\" style=\"fill:none;stroke:#000000;stroke-linecap:square;stroke-linejoin:miter;stroke-width:0.8;\"/>\n   </g>\n   <g id=\"legend_1\">\n    <g id=\"patch_7\">\n     <path d=\"M 314.140625 44.55625 \nL 371.58125 44.55625 \nQ 373.58125 44.55625 373.58125 42.55625 \nL 373.58125 14.2 \nQ 373.58125 12.2 371.58125 12.2 \nL 314.140625 12.2 \nQ 312.140625 12.2 312.140625 14.2 \nL 312.140625 42.55625 \nQ 312.140625 44.55625 314.140625 44.55625 \nz\n\" style=\"fill:#ffffff;opacity:0.8;stroke:#cccccc;stroke-linejoin:miter;\"/>\n    </g>\n    <g id=\"line2d_13\">\n     <path d=\"M 316.140625 20.298437 \nL 336.140625 20.298437 \n\" style=\"fill:none;stroke:#ff0000;stroke-linecap:square;stroke-width:1.5;\"/>\n    </g>\n    <g id=\"line2d_14\"/>\n    <g id=\"text_13\">\n     <!-- Train -->\n     <defs>\n      <path d=\"M -0.296875 72.90625 \nL 61.375 72.90625 \nL 61.375 64.59375 \nL 35.5 64.59375 \nL 35.5 0 \nL 25.59375 0 \nL 25.59375 64.59375 \nL -0.296875 64.59375 \nz\n\" id=\"DejaVuSans-84\"/>\n      <path d=\"M 41.109375 46.296875 \nQ 39.59375 47.171875 37.8125 47.578125 \nQ 36.03125 48 33.890625 48 \nQ 26.265625 48 22.1875 43.046875 \nQ 18.109375 38.09375 18.109375 28.8125 \nL 18.109375 0 \nL 9.078125 0 \nL 9.078125 54.6875 \nL 18.109375 54.6875 \nL 18.109375 46.1875 \nQ 20.953125 51.171875 25.484375 53.578125 \nQ 30.03125 56 36.53125 56 \nQ 37.453125 56 38.578125 55.875 \nQ 39.703125 55.765625 41.0625 55.515625 \nz\n\" id=\"DejaVuSans-114\"/>\n      <path d=\"M 34.28125 27.484375 \nQ 23.390625 27.484375 19.1875 25 \nQ 14.984375 22.515625 14.984375 16.5 \nQ 14.984375 11.71875 18.140625 8.90625 \nQ 21.296875 6.109375 26.703125 6.109375 \nQ 34.1875 6.109375 38.703125 11.40625 \nQ 43.21875 16.703125 43.21875 25.484375 \nL 43.21875 27.484375 \nz\nM 52.203125 31.203125 \nL 52.203125 0 \nL 43.21875 0 \nL 43.21875 8.296875 \nQ 40.140625 3.328125 35.546875 0.953125 \nQ 30.953125 -1.421875 24.3125 -1.421875 \nQ 15.921875 -1.421875 10.953125 3.296875 \nQ 6 8.015625 6 15.921875 \nQ 6 25.140625 12.171875 29.828125 \nQ 18.359375 34.515625 30.609375 34.515625 \nL 43.21875 34.515625 \nL 43.21875 35.40625 \nQ 43.21875 41.609375 39.140625 45 \nQ 35.0625 48.390625 27.6875 48.390625 \nQ 23 48.390625 18.546875 47.265625 \nQ 14.109375 46.140625 10.015625 43.890625 \nL 10.015625 52.203125 \nQ 14.9375 54.109375 19.578125 55.046875 \nQ 24.21875 56 28.609375 56 \nQ 40.484375 56 46.34375 49.84375 \nQ 52.203125 43.703125 52.203125 31.203125 \nz\n\" id=\"DejaVuSans-97\"/>\n      <path d=\"M 9.421875 54.6875 \nL 18.40625 54.6875 \nL 18.40625 0 \nL 9.421875 0 \nz\nM 9.421875 75.984375 \nL 18.40625 75.984375 \nL 18.40625 64.59375 \nL 9.421875 64.59375 \nz\n\" id=\"DejaVuSans-105\"/>\n      <path d=\"M 54.890625 33.015625 \nL 54.890625 0 \nL 45.90625 0 \nL 45.90625 32.71875 \nQ 45.90625 40.484375 42.875 44.328125 \nQ 39.84375 48.1875 33.796875 48.1875 \nQ 26.515625 48.1875 22.3125 43.546875 \nQ 18.109375 38.921875 18.109375 30.90625 \nL 18.109375 0 \nL 9.078125 0 \nL 9.078125 54.6875 \nL 18.109375 54.6875 \nL 18.109375 46.1875 \nQ 21.34375 51.125 25.703125 53.5625 \nQ 30.078125 56 35.796875 56 \nQ 45.21875 56 50.046875 50.171875 \nQ 54.890625 44.34375 54.890625 33.015625 \nz\n\" id=\"DejaVuSans-110\"/>\n     </defs>\n     <g transform=\"translate(344.140625 23.798437)scale(0.1 -0.1)\">\n      <use xlink:href=\"#DejaVuSans-84\"/>\n      <use x=\"60.865234\" xlink:href=\"#DejaVuSans-114\"/>\n      <use x=\"101.978516\" xlink:href=\"#DejaVuSans-97\"/>\n      <use x=\"163.257812\" xlink:href=\"#DejaVuSans-105\"/>\n      <use x=\"191.041016\" xlink:href=\"#DejaVuSans-110\"/>\n     </g>\n    </g>\n    <g id=\"line2d_15\">\n     <path d=\"M 316.140625 34.976562 \nL 336.140625 34.976562 \n\" style=\"fill:none;stroke:#0000ff;stroke-linecap:square;stroke-width:1.5;\"/>\n    </g>\n    <g id=\"line2d_16\"/>\n    <g id=\"text_14\">\n     <!-- Val -->\n     <defs>\n      <path d=\"M 28.609375 0 \nL 0.78125 72.90625 \nL 11.078125 72.90625 \nL 34.1875 11.53125 \nL 57.328125 72.90625 \nL 67.578125 72.90625 \nL 39.796875 0 \nz\n\" id=\"DejaVuSans-86\"/>\n      <path d=\"M 9.421875 75.984375 \nL 18.40625 75.984375 \nL 18.40625 0 \nL 9.421875 0 \nz\n\" id=\"DejaVuSans-108\"/>\n     </defs>\n     <g transform=\"translate(344.140625 38.476562)scale(0.1 -0.1)\">\n      <use xlink:href=\"#DejaVuSans-86\"/>\n      <use x=\"68.298828\" xlink:href=\"#DejaVuSans-97\"/>\n      <use x=\"129.578125\" xlink:href=\"#DejaVuSans-108\"/>\n     </g>\n    </g>\n   </g>\n  </g>\n </g>\n <defs>\n  <clipPath id=\"p126616fa7e\">\n   <rect height=\"217.44\" width=\"334.8\" x=\"43.78125\" y=\"7.2\"/>\n  </clipPath>\n </defs>\n</svg>\n"
          },
          "metadata": {
            "tags": []
          }
        }
      ]
    },
    {
      "cell_type": "code",
      "metadata": {
        "id": "Qf2xc-E0Jj4g",
        "colab_type": "code",
        "outputId": "da8c2154-f660-4c67-e10a-3f21cefce3bb",
        "colab": {
          "base_uri": "https://localhost:8080/",
          "height": 442
        }
      },
      "source": [
        "from google.colab import files\n",
        "files.download('./radam_resnet18_9303.pth.tar')\n",
        "files.download('./radam_resnet18_9303_acc.jpg')\n",
        "files.download('./radam_resnet18_9303_loss.jpg')"
      ],
      "execution_count": 0,
      "outputs": [
        {
          "output_type": "stream",
          "text": [
            "----------------------------------------\n",
            "Exception happened during processing of request from ('::ffff:127.0.0.1', 46536, 0, 0)\n",
            "Traceback (most recent call last):\n",
            "  File \"/usr/lib/python3.6/socketserver.py\", line 320, in _handle_request_noblock\n",
            "    self.process_request(request, client_address)\n",
            "  File \"/usr/lib/python3.6/socketserver.py\", line 351, in process_request\n",
            "    self.finish_request(request, client_address)\n",
            "  File \"/usr/lib/python3.6/socketserver.py\", line 364, in finish_request\n",
            "    self.RequestHandlerClass(request, client_address, self)\n",
            "  File \"/usr/lib/python3.6/socketserver.py\", line 724, in __init__\n",
            "    self.handle()\n",
            "  File \"/usr/lib/python3.6/http/server.py\", line 418, in handle\n",
            "    self.handle_one_request()\n",
            "  File \"/usr/lib/python3.6/http/server.py\", line 406, in handle_one_request\n",
            "    method()\n",
            "  File \"/usr/lib/python3.6/http/server.py\", line 639, in do_GET\n",
            "    self.copyfile(f, self.wfile)\n",
            "  File \"/usr/lib/python3.6/http/server.py\", line 800, in copyfile\n",
            "    shutil.copyfileobj(source, outputfile)\n",
            "  File \"/usr/lib/python3.6/shutil.py\", line 82, in copyfileobj\n",
            "    fdst.write(buf)\n",
            "  File \"/usr/lib/python3.6/socketserver.py\", line 803, in write\n",
            "    self._sock.sendall(b)\n",
            "ConnectionResetError: [Errno 104] Connection reset by peer\n",
            "----------------------------------------\n"
          ],
          "name": "stderr"
        }
      ]
    },
    {
      "cell_type": "markdown",
      "metadata": {
        "id": "ZIXHO2jpKxte",
        "colab_type": "text"
      },
      "source": [
        "# Lookahead with radam"
      ]
    },
    {
      "cell_type": "code",
      "metadata": {
        "id": "NwfdntdgJ5AD",
        "colab_type": "code",
        "colab": {}
      },
      "source": [
        "load_checkpoint(model, filename='before_sgd_resnet18.pth.tar')"
      ],
      "execution_count": 0,
      "outputs": []
    },
    {
      "cell_type": "code",
      "metadata": {
        "id": "0PUungkDK84g",
        "colab_type": "code",
        "colab": {}
      },
      "source": [
        "reset()"
      ],
      "execution_count": 0,
      "outputs": []
    },
    {
      "cell_type": "code",
      "metadata": {
        "id": "TPPSktmSLA0d",
        "colab_type": "code",
        "colab": {}
      },
      "source": [
        "preds = []\n",
        "train_stats = AvgStats()\n",
        "test_stats = AvgStats()"
      ],
      "execution_count": 0,
      "outputs": []
    },
    {
      "cell_type": "code",
      "metadata": {
        "id": "4_9RymEyLD6k",
        "colab_type": "code",
        "colab": {}
      },
      "source": [
        "optim = RAdam( model.parameters(), lr=1e-3, weight_decay=1e-4)"
      ],
      "execution_count": 0,
      "outputs": []
    },
    {
      "cell_type": "code",
      "metadata": {
        "id": "WhPiSEpQWvog",
        "colab_type": "code",
        "colab": {}
      },
      "source": [
        "sched = torch.optim.lr_scheduler.StepLR(optim, step_size=30, gamma=0.2)"
      ],
      "execution_count": 0,
      "outputs": []
    },
    {
      "cell_type": "code",
      "metadata": {
        "id": "5AwTxvz0L4qa",
        "colab_type": "code",
        "colab": {}
      },
      "source": [
        "optimizer = Lookahead(optim, alpha=0.5, k=10)"
      ],
      "execution_count": 0,
      "outputs": []
    },
    {
      "cell_type": "code",
      "metadata": {
        "id": "DYXjaVT7MPRK",
        "colab_type": "code",
        "outputId": "1102d442-13b1-4a5e-c211-86b52d677bd0",
        "colab": {
          "base_uri": "https://localhost:8080/",
          "height": 1000
        }
      },
      "source": [
        "fit(model, optimizer, sched)"
      ],
      "execution_count": 37,
      "outputs": [
        {
          "output_type": "stream",
          "text": [
            "Epoch\tTrn_loss\tVal_loss\tTrn_acc\t\tVal_acc\n",
            "1\t0.84583154\t0.73178216\t58.65999985\t61.38833237\n",
            "2\t0.69071751\t0.61502318\t67.61090851\t68.56082916\n",
            "3\t0.61432442\t0.58344361\t71.45764923\t71.96111298\n",
            "4\t0.55044891\t0.56880743\t73.80130768\t74.10124969\n",
            "5\t0.52851939\t0.58787560\t75.38758850\t75.55400085\n",
            "6\t0.51058717\t0.63163685\t76.59285736\t76.66361237\n",
            "7\t0.47908891\t0.55923976\t77.52000427\t77.63571167\n",
            "8\t0.46200907\t0.55604542\t78.35383606\t78.41625214\n",
            "9\t0.43321949\t0.56300320\t79.05509186\t79.11425781\n",
            "10\t0.41723501\t0.42355409\t79.69135284\t79.79199982\n",
            "11\t0.41177784\t0.43361225\t80.30723572\t80.38197327\n",
            "12\t0.38238970\t0.47381668\t80.84745789\t80.89416504\n",
            "13\t0.38201587\t0.45383021\t81.30129242\t81.34756470\n",
            "14\t0.35697211\t0.47005762\t81.73987579\t81.77285004\n",
            "15\t0.35281760\t0.48937094\t82.13303375\t82.15711212\n",
            "16\t0.33853201\t0.57281240\t82.49789429\t82.49343872\n",
            "17\t0.32870081\t0.49624227\t82.82604218\t82.84352875\n",
            "18\t0.31817437\t0.50240642\t83.14177704\t83.15074158\n",
            "19\t0.31168358\t0.54314920\t83.44114685\t83.43403625\n",
            "20\t0.29778440\t0.42684041\t83.71403503\t83.73725128\n",
            "21\t0.28950245\t0.43814740\t84.00888062\t84.02912903\n",
            "22\t0.26912155\t0.44024860\t84.28878021\t84.30477142\n",
            "23\t0.24559280\t0.48770444\t84.55335999\t84.55725098\n",
            "24\t0.25213538\t0.49284696\t84.79972076\t84.79721832\n",
            "25\t0.24291112\t0.48905003\t85.02469635\t85.02793121\n",
            "26\t0.23536410\t0.49165265\t85.24393463\t85.24326324\n",
            "27\t0.23561492\t0.51303609\t85.44981384\t85.44531250\n",
            "28\t0.22331858\t0.52899345\t85.65431213\t85.64749908\n",
            "29\t0.21541679\t0.52224553\t85.85138702\t85.84620667\n",
            "30\t0.21669339\t0.46055796\t86.04351807\t86.04461670\n",
            "31\t0.20825434\t0.45582019\t86.23400116\t86.23500824\n",
            "32\t0.12120238\t0.44989544\t86.47309875\t86.47921753\n",
            "33\t0.10029266\t0.46840322\t86.72679901\t86.73120880\n",
            "34\t0.09548170\t0.47698453\t86.97580719\t86.98020172\n",
            "35\t0.08822035\t0.49539950\t87.21784973\t87.21995544\n",
            "36\t0.08178912\t0.49046533\t87.44799805\t87.44889069\n",
            "37\t0.07418045\t0.50228717\t87.66877747\t87.66810608\n",
            "38\t0.07333287\t0.49683119\t87.88202667\t87.88069916\n",
            "39\t0.07588473\t0.50824206\t88.08669281\t88.08585358\n",
            "40\t0.06864681\t0.50225980\t88.28389740\t88.28246307\n",
            "41\t0.06583559\t0.50954517\t88.47436523\t88.47162628\n",
            "42\t0.06365624\t0.51905951\t88.65657806\t88.65316772\n",
            "43\t0.06338047\t0.52363742\t88.83148193\t88.82733154\n",
            "44\t0.06554511\t0.52364057\t89.00022888\t88.99523163\n",
            "45\t0.05613548\t0.53871774\t89.16371155\t89.15814972\n",
            "46\t0.05939867\t0.53777986\t89.32032776\t89.31478119\n",
            "47\t0.05566475\t0.53031196\t89.46875000\t89.46276855\n",
            "48\t0.05169750\t0.55449461\t89.61428070\t89.60801697\n",
            "49\t0.04915052\t0.55171741\t89.75614166\t89.74942017\n",
            "50\t0.04991113\t0.55211403\t89.89241028\t89.88539886\n",
            "51\t0.04619110\t0.57629159\t90.02455902\t90.01624298\n",
            "52\t0.05279033\t0.57596167\t90.15016174\t90.14188385\n",
            "53\t0.04591326\t0.57857792\t90.27252197\t90.26443481\n",
            "54\t0.04275813\t0.58670509\t90.39163208\t90.38302612\n",
            "55\t0.04372218\t0.59639015\t90.50692749\t90.49866486\n",
            "56\t0.04147011\t0.57673445\t90.61880493\t90.61056519\n",
            "57\t0.04082545\t0.58746819\t90.72721863\t90.71743011\n",
            "58\t0.03822577\t0.62693787\t90.83215332\t90.82287598\n",
            "59\t0.03952353\t0.60966596\t90.93357086\t90.92417908\n",
            "60\t0.04085338\t0.60720310\t91.03198242\t91.02225494\n",
            "61\t0.03871442\t0.58756955\t91.12698364\t91.11726379\n",
            "62\t0.03006615\t0.57730580\t91.22212219\t91.21339417\n",
            "63\t0.03022732\t0.57851944\t91.31674194\t91.30777740\n",
            "64\t0.02630382\t0.58138011\t91.40968323\t91.40059662\n",
            "65\t0.02433522\t0.58392457\t91.50031281\t91.49105835\n",
            "66\t0.02211782\t0.58984810\t91.58847809\t91.57956696\n",
            "67\t0.02457309\t0.59865635\t91.67407227\t91.66477203\n",
            "68\t0.02245167\t0.60278696\t91.75724792\t91.74772644\n",
            "69\t0.02309591\t0.60668504\t91.83769226\t91.82838440\n",
            "70\t0.02112753\t0.62456920\t91.91683197\t91.90762329\n",
            "71\t0.02516608\t0.61297931\t91.99393463\t91.98493195\n",
            "72\t0.02210851\t0.62760427\t92.06953430\t92.05997467\n",
            "73\t0.02099504\t0.62951990\t92.14255524\t92.13287354\n",
            "74\t0.02291767\t0.62615180\t92.21419525\t92.20465851\n",
            "75\t0.01851167\t0.63633731\t92.28353882\t92.27382660\n",
            "76\t0.02296964\t0.63131103\t92.35059357\t92.34166718\n",
            "77\t0.02053135\t0.63588521\t92.41728973\t92.40779114\n",
            "78\t0.02125943\t0.64432366\t92.48206329\t92.47219849\n",
            "79\t0.01941795\t0.63977643\t92.54518127\t92.53586578\n",
            "80\t0.01901635\t0.64407025\t92.60697174\t92.59697723\n",
            "81\t0.02005669\t0.63683399\t92.66683960\t92.65701294\n",
            "82\t0.01902592\t0.65138500\t92.72554016\t92.71562958\n",
            "83\t0.02123107\t0.65089467\t92.78186798\t92.77197266\n",
            "84\t0.01759105\t0.65397904\t92.83739471\t92.82763672\n",
            "85\t0.01817514\t0.64782123\t92.89184570\t92.88195801\n",
            "86\t0.01507974\t0.66467231\t92.94512939\t92.93549347\n",
            "87\t0.01608003\t0.66281035\t92.99829865\t92.98856354\n",
            "88\t0.01777636\t0.65986832\t93.04962158\t93.04007721\n",
            "89\t0.01744755\t0.66042828\t93.10003662\t93.09020233\n",
            "90\t0.01726366\t0.66106870\t93.14933777\t93.13966370\n"
          ],
          "name": "stdout"
        }
      ]
    },
    {
      "cell_type": "code",
      "metadata": {
        "id": "2z8fDSpsMT9U",
        "colab_type": "code",
        "colab": {}
      },
      "source": [
        "save_checkpoint(model, True, 'radam_lookahead_resnet18_9314.pth.tar')"
      ],
      "execution_count": 0,
      "outputs": []
    },
    {
      "cell_type": "code",
      "metadata": {
        "id": "4wbix-lBWov4",
        "colab_type": "code",
        "colab": {}
      },
      "source": [
        "ep_lookahead_losses = []\n",
        "for i in range(0, len(train_stats.losses), len(train_loader)):\n",
        "    if i != 0 :\n",
        "        ep_lookahead_losses.append(train_stats.losses[i])\n",
        "        \n",
        "ep_lookahead_lossesv = []\n",
        "for i in range(0, len(test_stats.losses), len(test_loader)):\n",
        "    if(i != 0):\n",
        "        ep_lookahead_lossesv.append(test_stats.losses[i])"
      ],
      "execution_count": 0,
      "outputs": []
    },
    {
      "cell_type": "code",
      "metadata": {
        "id": "Ek4v7sy_WvKr",
        "colab_type": "code",
        "colab": {}
      },
      "source": [
        "ep_lookahead_accs = []\n",
        "for i in range(0, len(train_stats.losses), len(train_loader)):\n",
        "    if i != 0 :\n",
        "        ep_lookahead_accs.append(train_stats.precs[i])\n",
        "        \n",
        "ep_lookahead_accsv = []\n",
        "for i in range(0, len(test_stats.losses), len(test_loader)):\n",
        "    if(i != 0):\n",
        "        ep_lookahead_accsv.append(test_stats.precs[i])"
      ],
      "execution_count": 0,
      "outputs": []
    },
    {
      "cell_type": "code",
      "metadata": {
        "id": "Ltn4TITVWzpW",
        "colab_type": "code",
        "outputId": "8ff0d91b-e40c-45d6-e8ed-02d73aeccdf1",
        "colab": {
          "base_uri": "https://localhost:8080/",
          "height": 371
        }
      },
      "source": [
        "plt.xlabel(\"Epochs\")\n",
        "plt.ylabel(\"Accuracy\")\n",
        "plt.plot(ep_lookahead_accs, 'r', label='Train')\n",
        "plt.plot(ep_lookahead_accsv, 'b', label='Val')\n",
        "plt.legend()\n",
        "plt.savefig('radam_lookahead_resnet18_9314_acc.jpg')"
      ],
      "execution_count": 41,
      "outputs": [
        {
          "output_type": "display_data",
          "data": {
            "text/plain": [
              "<Figure size 432x288 with 1 Axes>"
            ],
            "image/svg+xml": "<?xml version=\"1.0\" encoding=\"utf-8\" standalone=\"no\"?>\n<!DOCTYPE svg PUBLIC \"-//W3C//DTD SVG 1.1//EN\"\n  \"http://www.w3.org/Graphics/SVG/1.1/DTD/svg11.dtd\">\n<!-- Created with matplotlib (https://matplotlib.org/) -->\n<svg height=\"262.19625pt\" version=\"1.1\" viewBox=\"0 0 382.603125 262.19625\" width=\"382.603125pt\" xmlns=\"http://www.w3.org/2000/svg\" xmlns:xlink=\"http://www.w3.org/1999/xlink\">\n <defs>\n  <style type=\"text/css\">\n*{stroke-linecap:butt;stroke-linejoin:round;}\n  </style>\n </defs>\n <g id=\"figure_1\">\n  <g id=\"patch_1\">\n   <path d=\"M 0 262.19625 \nL 382.603125 262.19625 \nL 382.603125 0 \nL 0 0 \nz\n\" style=\"fill:none;\"/>\n  </g>\n  <g id=\"axes_1\">\n   <g id=\"patch_2\">\n    <path d=\"M 40.603125 224.64 \nL 375.403125 224.64 \nL 375.403125 7.2 \nL 40.603125 7.2 \nz\n\" style=\"fill:#ffffff;\"/>\n   </g>\n   <g id=\"matplotlib.axis_1\">\n    <g id=\"xtick_1\">\n     <g id=\"line2d_1\">\n      <defs>\n       <path d=\"M 0 0 \nL 0 3.5 \n\" id=\"m535672c8ad\" style=\"stroke:#000000;stroke-width:0.8;\"/>\n      </defs>\n      <g>\n       <use style=\"stroke:#000000;stroke-width:0.8;\" x=\"55.821307\" xlink:href=\"#m535672c8ad\" y=\"224.64\"/>\n      </g>\n     </g>\n     <g id=\"text_1\">\n      <!-- 0 -->\n      <defs>\n       <path d=\"M 31.78125 66.40625 \nQ 24.171875 66.40625 20.328125 58.90625 \nQ 16.5 51.421875 16.5 36.375 \nQ 16.5 21.390625 20.328125 13.890625 \nQ 24.171875 6.390625 31.78125 6.390625 \nQ 39.453125 6.390625 43.28125 13.890625 \nQ 47.125 21.390625 47.125 36.375 \nQ 47.125 51.421875 43.28125 58.90625 \nQ 39.453125 66.40625 31.78125 66.40625 \nz\nM 31.78125 74.21875 \nQ 44.046875 74.21875 50.515625 64.515625 \nQ 56.984375 54.828125 56.984375 36.375 \nQ 56.984375 17.96875 50.515625 8.265625 \nQ 44.046875 -1.421875 31.78125 -1.421875 \nQ 19.53125 -1.421875 13.0625 8.265625 \nQ 6.59375 17.96875 6.59375 36.375 \nQ 6.59375 54.828125 13.0625 64.515625 \nQ 19.53125 74.21875 31.78125 74.21875 \nz\n\" id=\"DejaVuSans-48\"/>\n      </defs>\n      <g transform=\"translate(52.640057 239.238438)scale(0.1 -0.1)\">\n       <use xlink:href=\"#DejaVuSans-48\"/>\n      </g>\n     </g>\n    </g>\n    <g id=\"xtick_2\">\n     <g id=\"line2d_2\">\n      <g>\n       <use style=\"stroke:#000000;stroke-width:0.8;\" x=\"124.994861\" xlink:href=\"#m535672c8ad\" y=\"224.64\"/>\n      </g>\n     </g>\n     <g id=\"text_2\">\n      <!-- 20 -->\n      <defs>\n       <path d=\"M 19.1875 8.296875 \nL 53.609375 8.296875 \nL 53.609375 0 \nL 7.328125 0 \nL 7.328125 8.296875 \nQ 12.9375 14.109375 22.625 23.890625 \nQ 32.328125 33.6875 34.8125 36.53125 \nQ 39.546875 41.84375 41.421875 45.53125 \nQ 43.3125 49.21875 43.3125 52.78125 \nQ 43.3125 58.59375 39.234375 62.25 \nQ 35.15625 65.921875 28.609375 65.921875 \nQ 23.96875 65.921875 18.8125 64.3125 \nQ 13.671875 62.703125 7.8125 59.421875 \nL 7.8125 69.390625 \nQ 13.765625 71.78125 18.9375 73 \nQ 24.125 74.21875 28.421875 74.21875 \nQ 39.75 74.21875 46.484375 68.546875 \nQ 53.21875 62.890625 53.21875 53.421875 \nQ 53.21875 48.921875 51.53125 44.890625 \nQ 49.859375 40.875 45.40625 35.40625 \nQ 44.1875 33.984375 37.640625 27.21875 \nQ 31.109375 20.453125 19.1875 8.296875 \nz\n\" id=\"DejaVuSans-50\"/>\n      </defs>\n      <g transform=\"translate(118.632361 239.238438)scale(0.1 -0.1)\">\n       <use xlink:href=\"#DejaVuSans-50\"/>\n       <use x=\"63.623047\" xlink:href=\"#DejaVuSans-48\"/>\n      </g>\n     </g>\n    </g>\n    <g id=\"xtick_3\">\n     <g id=\"line2d_3\">\n      <g>\n       <use style=\"stroke:#000000;stroke-width:0.8;\" x=\"194.168414\" xlink:href=\"#m535672c8ad\" y=\"224.64\"/>\n      </g>\n     </g>\n     <g id=\"text_3\">\n      <!-- 40 -->\n      <defs>\n       <path d=\"M 37.796875 64.3125 \nL 12.890625 25.390625 \nL 37.796875 25.390625 \nz\nM 35.203125 72.90625 \nL 47.609375 72.90625 \nL 47.609375 25.390625 \nL 58.015625 25.390625 \nL 58.015625 17.1875 \nL 47.609375 17.1875 \nL 47.609375 0 \nL 37.796875 0 \nL 37.796875 17.1875 \nL 4.890625 17.1875 \nL 4.890625 26.703125 \nz\n\" id=\"DejaVuSans-52\"/>\n      </defs>\n      <g transform=\"translate(187.805914 239.238438)scale(0.1 -0.1)\">\n       <use xlink:href=\"#DejaVuSans-52\"/>\n       <use x=\"63.623047\" xlink:href=\"#DejaVuSans-48\"/>\n      </g>\n     </g>\n    </g>\n    <g id=\"xtick_4\">\n     <g id=\"line2d_4\">\n      <g>\n       <use style=\"stroke:#000000;stroke-width:0.8;\" x=\"263.341968\" xlink:href=\"#m535672c8ad\" y=\"224.64\"/>\n      </g>\n     </g>\n     <g id=\"text_4\">\n      <!-- 60 -->\n      <defs>\n       <path d=\"M 33.015625 40.375 \nQ 26.375 40.375 22.484375 35.828125 \nQ 18.609375 31.296875 18.609375 23.390625 \nQ 18.609375 15.53125 22.484375 10.953125 \nQ 26.375 6.390625 33.015625 6.390625 \nQ 39.65625 6.390625 43.53125 10.953125 \nQ 47.40625 15.53125 47.40625 23.390625 \nQ 47.40625 31.296875 43.53125 35.828125 \nQ 39.65625 40.375 33.015625 40.375 \nz\nM 52.59375 71.296875 \nL 52.59375 62.3125 \nQ 48.875 64.0625 45.09375 64.984375 \nQ 41.3125 65.921875 37.59375 65.921875 \nQ 27.828125 65.921875 22.671875 59.328125 \nQ 17.53125 52.734375 16.796875 39.40625 \nQ 19.671875 43.65625 24.015625 45.921875 \nQ 28.375 48.1875 33.59375 48.1875 \nQ 44.578125 48.1875 50.953125 41.515625 \nQ 57.328125 34.859375 57.328125 23.390625 \nQ 57.328125 12.15625 50.6875 5.359375 \nQ 44.046875 -1.421875 33.015625 -1.421875 \nQ 20.359375 -1.421875 13.671875 8.265625 \nQ 6.984375 17.96875 6.984375 36.375 \nQ 6.984375 53.65625 15.1875 63.9375 \nQ 23.390625 74.21875 37.203125 74.21875 \nQ 40.921875 74.21875 44.703125 73.484375 \nQ 48.484375 72.75 52.59375 71.296875 \nz\n\" id=\"DejaVuSans-54\"/>\n      </defs>\n      <g transform=\"translate(256.979468 239.238438)scale(0.1 -0.1)\">\n       <use xlink:href=\"#DejaVuSans-54\"/>\n       <use x=\"63.623047\" xlink:href=\"#DejaVuSans-48\"/>\n      </g>\n     </g>\n    </g>\n    <g id=\"xtick_5\">\n     <g id=\"line2d_5\">\n      <g>\n       <use style=\"stroke:#000000;stroke-width:0.8;\" x=\"332.515522\" xlink:href=\"#m535672c8ad\" y=\"224.64\"/>\n      </g>\n     </g>\n     <g id=\"text_5\">\n      <!-- 80 -->\n      <defs>\n       <path d=\"M 31.78125 34.625 \nQ 24.75 34.625 20.71875 30.859375 \nQ 16.703125 27.09375 16.703125 20.515625 \nQ 16.703125 13.921875 20.71875 10.15625 \nQ 24.75 6.390625 31.78125 6.390625 \nQ 38.8125 6.390625 42.859375 10.171875 \nQ 46.921875 13.96875 46.921875 20.515625 \nQ 46.921875 27.09375 42.890625 30.859375 \nQ 38.875 34.625 31.78125 34.625 \nz\nM 21.921875 38.8125 \nQ 15.578125 40.375 12.03125 44.71875 \nQ 8.5 49.078125 8.5 55.328125 \nQ 8.5 64.0625 14.71875 69.140625 \nQ 20.953125 74.21875 31.78125 74.21875 \nQ 42.671875 74.21875 48.875 69.140625 \nQ 55.078125 64.0625 55.078125 55.328125 \nQ 55.078125 49.078125 51.53125 44.71875 \nQ 48 40.375 41.703125 38.8125 \nQ 48.828125 37.15625 52.796875 32.3125 \nQ 56.78125 27.484375 56.78125 20.515625 \nQ 56.78125 9.90625 50.3125 4.234375 \nQ 43.84375 -1.421875 31.78125 -1.421875 \nQ 19.734375 -1.421875 13.25 4.234375 \nQ 6.78125 9.90625 6.78125 20.515625 \nQ 6.78125 27.484375 10.78125 32.3125 \nQ 14.796875 37.15625 21.921875 38.8125 \nz\nM 18.3125 54.390625 \nQ 18.3125 48.734375 21.84375 45.5625 \nQ 25.390625 42.390625 31.78125 42.390625 \nQ 38.140625 42.390625 41.71875 45.5625 \nQ 45.3125 48.734375 45.3125 54.390625 \nQ 45.3125 60.0625 41.71875 63.234375 \nQ 38.140625 66.40625 31.78125 66.40625 \nQ 25.390625 66.40625 21.84375 63.234375 \nQ 18.3125 60.0625 18.3125 54.390625 \nz\n\" id=\"DejaVuSans-56\"/>\n      </defs>\n      <g transform=\"translate(326.153022 239.238438)scale(0.1 -0.1)\">\n       <use xlink:href=\"#DejaVuSans-56\"/>\n       <use x=\"63.623047\" xlink:href=\"#DejaVuSans-48\"/>\n      </g>\n     </g>\n    </g>\n    <g id=\"text_6\">\n     <!-- Epochs -->\n     <defs>\n      <path d=\"M 9.8125 72.90625 \nL 55.90625 72.90625 \nL 55.90625 64.59375 \nL 19.671875 64.59375 \nL 19.671875 43.015625 \nL 54.390625 43.015625 \nL 54.390625 34.71875 \nL 19.671875 34.71875 \nL 19.671875 8.296875 \nL 56.78125 8.296875 \nL 56.78125 0 \nL 9.8125 0 \nz\n\" id=\"DejaVuSans-69\"/>\n      <path d=\"M 18.109375 8.203125 \nL 18.109375 -20.796875 \nL 9.078125 -20.796875 \nL 9.078125 54.6875 \nL 18.109375 54.6875 \nL 18.109375 46.390625 \nQ 20.953125 51.265625 25.265625 53.625 \nQ 29.59375 56 35.59375 56 \nQ 45.5625 56 51.78125 48.09375 \nQ 58.015625 40.1875 58.015625 27.296875 \nQ 58.015625 14.40625 51.78125 6.484375 \nQ 45.5625 -1.421875 35.59375 -1.421875 \nQ 29.59375 -1.421875 25.265625 0.953125 \nQ 20.953125 3.328125 18.109375 8.203125 \nz\nM 48.6875 27.296875 \nQ 48.6875 37.203125 44.609375 42.84375 \nQ 40.53125 48.484375 33.40625 48.484375 \nQ 26.265625 48.484375 22.1875 42.84375 \nQ 18.109375 37.203125 18.109375 27.296875 \nQ 18.109375 17.390625 22.1875 11.75 \nQ 26.265625 6.109375 33.40625 6.109375 \nQ 40.53125 6.109375 44.609375 11.75 \nQ 48.6875 17.390625 48.6875 27.296875 \nz\n\" id=\"DejaVuSans-112\"/>\n      <path d=\"M 30.609375 48.390625 \nQ 23.390625 48.390625 19.1875 42.75 \nQ 14.984375 37.109375 14.984375 27.296875 \nQ 14.984375 17.484375 19.15625 11.84375 \nQ 23.34375 6.203125 30.609375 6.203125 \nQ 37.796875 6.203125 41.984375 11.859375 \nQ 46.1875 17.53125 46.1875 27.296875 \nQ 46.1875 37.015625 41.984375 42.703125 \nQ 37.796875 48.390625 30.609375 48.390625 \nz\nM 30.609375 56 \nQ 42.328125 56 49.015625 48.375 \nQ 55.71875 40.765625 55.71875 27.296875 \nQ 55.71875 13.875 49.015625 6.21875 \nQ 42.328125 -1.421875 30.609375 -1.421875 \nQ 18.84375 -1.421875 12.171875 6.21875 \nQ 5.515625 13.875 5.515625 27.296875 \nQ 5.515625 40.765625 12.171875 48.375 \nQ 18.84375 56 30.609375 56 \nz\n\" id=\"DejaVuSans-111\"/>\n      <path d=\"M 48.78125 52.59375 \nL 48.78125 44.1875 \nQ 44.96875 46.296875 41.140625 47.34375 \nQ 37.3125 48.390625 33.40625 48.390625 \nQ 24.65625 48.390625 19.8125 42.84375 \nQ 14.984375 37.3125 14.984375 27.296875 \nQ 14.984375 17.28125 19.8125 11.734375 \nQ 24.65625 6.203125 33.40625 6.203125 \nQ 37.3125 6.203125 41.140625 7.25 \nQ 44.96875 8.296875 48.78125 10.40625 \nL 48.78125 2.09375 \nQ 45.015625 0.34375 40.984375 -0.53125 \nQ 36.96875 -1.421875 32.421875 -1.421875 \nQ 20.0625 -1.421875 12.78125 6.34375 \nQ 5.515625 14.109375 5.515625 27.296875 \nQ 5.515625 40.671875 12.859375 48.328125 \nQ 20.21875 56 33.015625 56 \nQ 37.15625 56 41.109375 55.140625 \nQ 45.0625 54.296875 48.78125 52.59375 \nz\n\" id=\"DejaVuSans-99\"/>\n      <path d=\"M 54.890625 33.015625 \nL 54.890625 0 \nL 45.90625 0 \nL 45.90625 32.71875 \nQ 45.90625 40.484375 42.875 44.328125 \nQ 39.84375 48.1875 33.796875 48.1875 \nQ 26.515625 48.1875 22.3125 43.546875 \nQ 18.109375 38.921875 18.109375 30.90625 \nL 18.109375 0 \nL 9.078125 0 \nL 9.078125 75.984375 \nL 18.109375 75.984375 \nL 18.109375 46.1875 \nQ 21.34375 51.125 25.703125 53.5625 \nQ 30.078125 56 35.796875 56 \nQ 45.21875 56 50.046875 50.171875 \nQ 54.890625 44.34375 54.890625 33.015625 \nz\n\" id=\"DejaVuSans-104\"/>\n      <path d=\"M 44.28125 53.078125 \nL 44.28125 44.578125 \nQ 40.484375 46.53125 36.375 47.5 \nQ 32.28125 48.484375 27.875 48.484375 \nQ 21.1875 48.484375 17.84375 46.4375 \nQ 14.5 44.390625 14.5 40.28125 \nQ 14.5 37.15625 16.890625 35.375 \nQ 19.28125 33.59375 26.515625 31.984375 \nL 29.59375 31.296875 \nQ 39.15625 29.25 43.1875 25.515625 \nQ 47.21875 21.78125 47.21875 15.09375 \nQ 47.21875 7.46875 41.1875 3.015625 \nQ 35.15625 -1.421875 24.609375 -1.421875 \nQ 20.21875 -1.421875 15.453125 -0.5625 \nQ 10.6875 0.296875 5.421875 2 \nL 5.421875 11.28125 \nQ 10.40625 8.6875 15.234375 7.390625 \nQ 20.0625 6.109375 24.8125 6.109375 \nQ 31.15625 6.109375 34.5625 8.28125 \nQ 37.984375 10.453125 37.984375 14.40625 \nQ 37.984375 18.0625 35.515625 20.015625 \nQ 33.0625 21.96875 24.703125 23.78125 \nL 21.578125 24.515625 \nQ 13.234375 26.265625 9.515625 29.90625 \nQ 5.8125 33.546875 5.8125 39.890625 \nQ 5.8125 47.609375 11.28125 51.796875 \nQ 16.75 56 26.8125 56 \nQ 31.78125 56 36.171875 55.265625 \nQ 40.578125 54.546875 44.28125 53.078125 \nz\n\" id=\"DejaVuSans-115\"/>\n     </defs>\n     <g transform=\"translate(190.0875 252.916563)scale(0.1 -0.1)\">\n      <use xlink:href=\"#DejaVuSans-69\"/>\n      <use x=\"63.183594\" xlink:href=\"#DejaVuSans-112\"/>\n      <use x=\"126.660156\" xlink:href=\"#DejaVuSans-111\"/>\n      <use x=\"187.841797\" xlink:href=\"#DejaVuSans-99\"/>\n      <use x=\"242.822266\" xlink:href=\"#DejaVuSans-104\"/>\n      <use x=\"306.201172\" xlink:href=\"#DejaVuSans-115\"/>\n     </g>\n    </g>\n   </g>\n   <g id=\"matplotlib.axis_2\">\n    <g id=\"ytick_1\">\n     <g id=\"line2d_6\">\n      <defs>\n       <path d=\"M 0 0 \nL -3.5 0 \n\" id=\"m80283cdb81\" style=\"stroke:#000000;stroke-width:0.8;\"/>\n      </defs>\n      <g>\n       <use style=\"stroke:#000000;stroke-width:0.8;\" x=\"40.603125\" xlink:href=\"#m80283cdb81\" y=\"223.56379\"/>\n      </g>\n     </g>\n     <g id=\"text_7\">\n      <!-- 60 -->\n      <g transform=\"translate(20.878125 227.363009)scale(0.1 -0.1)\">\n       <use xlink:href=\"#DejaVuSans-54\"/>\n       <use x=\"63.623047\" xlink:href=\"#DejaVuSans-48\"/>\n      </g>\n     </g>\n    </g>\n    <g id=\"ytick_2\">\n     <g id=\"line2d_7\">\n      <g>\n       <use style=\"stroke:#000000;stroke-width:0.8;\" x=\"40.603125\" xlink:href=\"#m80283cdb81\" y=\"192.419828\"/>\n      </g>\n     </g>\n     <g id=\"text_8\">\n      <!-- 65 -->\n      <defs>\n       <path d=\"M 10.796875 72.90625 \nL 49.515625 72.90625 \nL 49.515625 64.59375 \nL 19.828125 64.59375 \nL 19.828125 46.734375 \nQ 21.96875 47.46875 24.109375 47.828125 \nQ 26.265625 48.1875 28.421875 48.1875 \nQ 40.625 48.1875 47.75 41.5 \nQ 54.890625 34.8125 54.890625 23.390625 \nQ 54.890625 11.625 47.5625 5.09375 \nQ 40.234375 -1.421875 26.90625 -1.421875 \nQ 22.3125 -1.421875 17.546875 -0.640625 \nQ 12.796875 0.140625 7.71875 1.703125 \nL 7.71875 11.625 \nQ 12.109375 9.234375 16.796875 8.0625 \nQ 21.484375 6.890625 26.703125 6.890625 \nQ 35.15625 6.890625 40.078125 11.328125 \nQ 45.015625 15.765625 45.015625 23.390625 \nQ 45.015625 31 40.078125 35.4375 \nQ 35.15625 39.890625 26.703125 39.890625 \nQ 22.75 39.890625 18.8125 39.015625 \nQ 14.890625 38.140625 10.796875 36.28125 \nz\n\" id=\"DejaVuSans-53\"/>\n      </defs>\n      <g transform=\"translate(20.878125 196.219047)scale(0.1 -0.1)\">\n       <use xlink:href=\"#DejaVuSans-54\"/>\n       <use x=\"63.623047\" xlink:href=\"#DejaVuSans-53\"/>\n      </g>\n     </g>\n    </g>\n    <g id=\"ytick_3\">\n     <g id=\"line2d_8\">\n      <g>\n       <use style=\"stroke:#000000;stroke-width:0.8;\" x=\"40.603125\" xlink:href=\"#m80283cdb81\" y=\"161.275866\"/>\n      </g>\n     </g>\n     <g id=\"text_9\">\n      <!-- 70 -->\n      <defs>\n       <path d=\"M 8.203125 72.90625 \nL 55.078125 72.90625 \nL 55.078125 68.703125 \nL 28.609375 0 \nL 18.3125 0 \nL 43.21875 64.59375 \nL 8.203125 64.59375 \nz\n\" id=\"DejaVuSans-55\"/>\n      </defs>\n      <g transform=\"translate(20.878125 165.075085)scale(0.1 -0.1)\">\n       <use xlink:href=\"#DejaVuSans-55\"/>\n       <use x=\"63.623047\" xlink:href=\"#DejaVuSans-48\"/>\n      </g>\n     </g>\n    </g>\n    <g id=\"ytick_4\">\n     <g id=\"line2d_9\">\n      <g>\n       <use style=\"stroke:#000000;stroke-width:0.8;\" x=\"40.603125\" xlink:href=\"#m80283cdb81\" y=\"130.131904\"/>\n      </g>\n     </g>\n     <g id=\"text_10\">\n      <!-- 75 -->\n      <g transform=\"translate(20.878125 133.931123)scale(0.1 -0.1)\">\n       <use xlink:href=\"#DejaVuSans-55\"/>\n       <use x=\"63.623047\" xlink:href=\"#DejaVuSans-53\"/>\n      </g>\n     </g>\n    </g>\n    <g id=\"ytick_5\">\n     <g id=\"line2d_10\">\n      <g>\n       <use style=\"stroke:#000000;stroke-width:0.8;\" x=\"40.603125\" xlink:href=\"#m80283cdb81\" y=\"98.987942\"/>\n      </g>\n     </g>\n     <g id=\"text_11\">\n      <!-- 80 -->\n      <g transform=\"translate(20.878125 102.78716)scale(0.1 -0.1)\">\n       <use xlink:href=\"#DejaVuSans-56\"/>\n       <use x=\"63.623047\" xlink:href=\"#DejaVuSans-48\"/>\n      </g>\n     </g>\n    </g>\n    <g id=\"ytick_6\">\n     <g id=\"line2d_11\">\n      <g>\n       <use style=\"stroke:#000000;stroke-width:0.8;\" x=\"40.603125\" xlink:href=\"#m80283cdb81\" y=\"67.84398\"/>\n      </g>\n     </g>\n     <g id=\"text_12\">\n      <!-- 85 -->\n      <g transform=\"translate(20.878125 71.643198)scale(0.1 -0.1)\">\n       <use xlink:href=\"#DejaVuSans-56\"/>\n       <use x=\"63.623047\" xlink:href=\"#DejaVuSans-53\"/>\n      </g>\n     </g>\n    </g>\n    <g id=\"ytick_7\">\n     <g id=\"line2d_12\">\n      <g>\n       <use style=\"stroke:#000000;stroke-width:0.8;\" x=\"40.603125\" xlink:href=\"#m80283cdb81\" y=\"36.700018\"/>\n      </g>\n     </g>\n     <g id=\"text_13\">\n      <!-- 90 -->\n      <defs>\n       <path d=\"M 10.984375 1.515625 \nL 10.984375 10.5 \nQ 14.703125 8.734375 18.5 7.8125 \nQ 22.3125 6.890625 25.984375 6.890625 \nQ 35.75 6.890625 40.890625 13.453125 \nQ 46.046875 20.015625 46.78125 33.40625 \nQ 43.953125 29.203125 39.59375 26.953125 \nQ 35.25 24.703125 29.984375 24.703125 \nQ 19.046875 24.703125 12.671875 31.3125 \nQ 6.296875 37.9375 6.296875 49.421875 \nQ 6.296875 60.640625 12.9375 67.421875 \nQ 19.578125 74.21875 30.609375 74.21875 \nQ 43.265625 74.21875 49.921875 64.515625 \nQ 56.59375 54.828125 56.59375 36.375 \nQ 56.59375 19.140625 48.40625 8.859375 \nQ 40.234375 -1.421875 26.421875 -1.421875 \nQ 22.703125 -1.421875 18.890625 -0.6875 \nQ 15.09375 0.046875 10.984375 1.515625 \nz\nM 30.609375 32.421875 \nQ 37.25 32.421875 41.125 36.953125 \nQ 45.015625 41.5 45.015625 49.421875 \nQ 45.015625 57.28125 41.125 61.84375 \nQ 37.25 66.40625 30.609375 66.40625 \nQ 23.96875 66.40625 20.09375 61.84375 \nQ 16.21875 57.28125 16.21875 49.421875 \nQ 16.21875 41.5 20.09375 36.953125 \nQ 23.96875 32.421875 30.609375 32.421875 \nz\n\" id=\"DejaVuSans-57\"/>\n      </defs>\n      <g transform=\"translate(20.878125 40.499236)scale(0.1 -0.1)\">\n       <use xlink:href=\"#DejaVuSans-57\"/>\n       <use x=\"63.623047\" xlink:href=\"#DejaVuSans-48\"/>\n      </g>\n     </g>\n    </g>\n    <g id=\"text_14\">\n     <!-- Accuracy -->\n     <defs>\n      <path d=\"M 34.1875 63.1875 \nL 20.796875 26.90625 \nL 47.609375 26.90625 \nz\nM 28.609375 72.90625 \nL 39.796875 72.90625 \nL 67.578125 0 \nL 57.328125 0 \nL 50.6875 18.703125 \nL 17.828125 18.703125 \nL 11.1875 0 \nL 0.78125 0 \nz\n\" id=\"DejaVuSans-65\"/>\n      <path d=\"M 8.5 21.578125 \nL 8.5 54.6875 \nL 17.484375 54.6875 \nL 17.484375 21.921875 \nQ 17.484375 14.15625 20.5 10.265625 \nQ 23.53125 6.390625 29.59375 6.390625 \nQ 36.859375 6.390625 41.078125 11.03125 \nQ 45.3125 15.671875 45.3125 23.6875 \nL 45.3125 54.6875 \nL 54.296875 54.6875 \nL 54.296875 0 \nL 45.3125 0 \nL 45.3125 8.40625 \nQ 42.046875 3.421875 37.71875 1 \nQ 33.40625 -1.421875 27.6875 -1.421875 \nQ 18.265625 -1.421875 13.375 4.4375 \nQ 8.5 10.296875 8.5 21.578125 \nz\nM 31.109375 56 \nz\n\" id=\"DejaVuSans-117\"/>\n      <path d=\"M 41.109375 46.296875 \nQ 39.59375 47.171875 37.8125 47.578125 \nQ 36.03125 48 33.890625 48 \nQ 26.265625 48 22.1875 43.046875 \nQ 18.109375 38.09375 18.109375 28.8125 \nL 18.109375 0 \nL 9.078125 0 \nL 9.078125 54.6875 \nL 18.109375 54.6875 \nL 18.109375 46.1875 \nQ 20.953125 51.171875 25.484375 53.578125 \nQ 30.03125 56 36.53125 56 \nQ 37.453125 56 38.578125 55.875 \nQ 39.703125 55.765625 41.0625 55.515625 \nz\n\" id=\"DejaVuSans-114\"/>\n      <path d=\"M 34.28125 27.484375 \nQ 23.390625 27.484375 19.1875 25 \nQ 14.984375 22.515625 14.984375 16.5 \nQ 14.984375 11.71875 18.140625 8.90625 \nQ 21.296875 6.109375 26.703125 6.109375 \nQ 34.1875 6.109375 38.703125 11.40625 \nQ 43.21875 16.703125 43.21875 25.484375 \nL 43.21875 27.484375 \nz\nM 52.203125 31.203125 \nL 52.203125 0 \nL 43.21875 0 \nL 43.21875 8.296875 \nQ 40.140625 3.328125 35.546875 0.953125 \nQ 30.953125 -1.421875 24.3125 -1.421875 \nQ 15.921875 -1.421875 10.953125 3.296875 \nQ 6 8.015625 6 15.921875 \nQ 6 25.140625 12.171875 29.828125 \nQ 18.359375 34.515625 30.609375 34.515625 \nL 43.21875 34.515625 \nL 43.21875 35.40625 \nQ 43.21875 41.609375 39.140625 45 \nQ 35.0625 48.390625 27.6875 48.390625 \nQ 23 48.390625 18.546875 47.265625 \nQ 14.109375 46.140625 10.015625 43.890625 \nL 10.015625 52.203125 \nQ 14.9375 54.109375 19.578125 55.046875 \nQ 24.21875 56 28.609375 56 \nQ 40.484375 56 46.34375 49.84375 \nQ 52.203125 43.703125 52.203125 31.203125 \nz\n\" id=\"DejaVuSans-97\"/>\n      <path d=\"M 32.171875 -5.078125 \nQ 28.375 -14.84375 24.75 -17.8125 \nQ 21.140625 -20.796875 15.09375 -20.796875 \nL 7.90625 -20.796875 \nL 7.90625 -13.28125 \nL 13.1875 -13.28125 \nQ 16.890625 -13.28125 18.9375 -11.515625 \nQ 21 -9.765625 23.484375 -3.21875 \nL 25.09375 0.875 \nL 2.984375 54.6875 \nL 12.5 54.6875 \nL 29.59375 11.921875 \nL 46.6875 54.6875 \nL 56.203125 54.6875 \nz\n\" id=\"DejaVuSans-121\"/>\n     </defs>\n     <g transform=\"translate(14.798438 138.834844)rotate(-90)scale(0.1 -0.1)\">\n      <use xlink:href=\"#DejaVuSans-65\"/>\n      <use x=\"68.392578\" xlink:href=\"#DejaVuSans-99\"/>\n      <use x=\"123.373047\" xlink:href=\"#DejaVuSans-99\"/>\n      <use x=\"178.353516\" xlink:href=\"#DejaVuSans-117\"/>\n      <use x=\"241.732422\" xlink:href=\"#DejaVuSans-114\"/>\n      <use x=\"282.845703\" xlink:href=\"#DejaVuSans-97\"/>\n      <use x=\"344.125\" xlink:href=\"#DejaVuSans-99\"/>\n      <use x=\"399.105469\" xlink:href=\"#DejaVuSans-121\"/>\n     </g>\n    </g>\n   </g>\n   <g id=\"line2d_13\">\n    <path clip-path=\"url(#p3e324240e9)\" d=\"M 55.821307 214.756364 \nL 59.279985 170.166313 \nL 62.738662 148.998627 \nL 66.19734 135.714066 \nL 69.656018 126.668079 \nL 73.114695 119.74732 \nL 76.573373 113.710706 \nL 80.032051 108.844224 \nL 83.490728 104.499581 \nL 86.949406 100.271224 \nL 90.408084 96.602056 \nL 93.866761 93.414524 \nL 97.325439 90.583168 \nL 100.784117 87.935295 \nL 104.242794 85.543517 \nL 107.701472 83.448846 \nL 111.16015 81.275574 \nL 114.618827 79.357684 \nL 118.077505 77.595191 \nL 121.536183 75.704294 \nL 124.994861 73.885203 \nL 128.453538 72.168711 \nL 131.912216 70.598255 \nL 135.370894 69.102978 \nL 138.829571 67.666628 \nL 142.288249 66.325987 \nL 145.746927 65.06889 \nL 149.205604 63.805472 \nL 152.664282 62.569522 \nL 156.12296 61.334903 \nL 159.581637 60.14752 \nL 163.040315 58.626249 \nL 166.498993 57.05622 \nL 169.95767 55.505865 \nL 173.416348 54.013249 \nL 176.875026 52.587164 \nL 180.333704 51.221004 \nL 183.792381 49.896711 \nL 187.251059 48.618799 \nL 190.709737 47.395157 \nL 194.168414 46.216709 \nL 197.627092 45.085545 \nL 201.08577 44.001902 \nL 204.544447 42.956135 \nL 208.003125 41.940544 \nL 211.461803 40.965442 \nL 214.92048 40.044467 \nL 218.379158 39.139127 \nL 221.837836 38.258499 \nL 225.296513 37.412609 \nL 228.755191 36.596847 \nL 232.213869 35.814257 \nL 235.672546 35.050484 \nL 239.131224 34.312041 \nL 242.589902 33.592037 \nL 246.04858 32.89527 \nL 249.507257 32.229346 \nL 252.965935 31.572736 \nL 256.424613 30.941407 \nL 259.88329 30.330655 \nL 263.341968 29.738865 \nL 266.800646 29.140184 \nL 270.259323 28.55248 \nL 273.718001 27.974234 \nL 277.176679 27.410814 \nL 280.635356 26.859702 \nL 284.094034 26.328977 \nL 287.552712 25.812557 \nL 291.011389 25.309822 \nL 294.470067 24.81645 \nL 297.928745 24.334958 \nL 301.387423 23.867532 \nL 304.8461 23.413365 \nL 308.304778 22.966232 \nL 311.763456 22.535493 \nL 315.222133 22.113071 \nL 318.680811 21.701056 \nL 322.139489 21.299923 \nL 325.598166 20.903353 \nL 329.056844 20.522845 \nL 332.515522 20.1488 \nL 335.974199 19.784022 \nL 339.432877 19.432835 \nL 342.891555 19.08621 \nL 346.350232 18.747759 \nL 349.80891 18.41444 \nL 353.267588 18.083783 \nL 356.726265 17.763057 \nL 360.184943 17.450838 \n\" style=\"fill:none;stroke:#ff0000;stroke-linecap:square;stroke-width:1.5;\"/>\n   </g>\n   <g id=\"line2d_14\">\n    <path clip-path=\"url(#p3e324240e9)\" d=\"M 55.821307 176.092201 \nL 59.279985 152.16159 \nL 62.738662 137.567135 \nL 66.19734 127.695123 \nL 69.656018 120.208615 \nL 73.114695 114.418973 \nL 76.573373 109.237991 \nL 80.032051 104.865547 \nL 83.490728 100.898798 \nL 86.949406 97.068342 \nL 90.408084 93.704408 \nL 93.866761 90.877614 \nL 97.325439 88.147338 \nL 100.784117 85.696965 \nL 104.242794 83.424895 \nL 107.701472 81.38207 \nL 111.16015 79.415803 \nL 114.618827 77.551424 \nL 118.077505 75.849902 \nL 121.536183 74.014225 \nL 124.994861 72.271121 \nL 128.453538 70.625675 \nL 131.912216 69.092618 \nL 135.370894 67.688393 \nL 138.829571 66.324609 \nL 142.288249 65.041565 \nL 145.746927 63.765269 \nL 149.205604 62.539393 \nL 152.664282 61.343124 \nL 156.12296 60.156455 \nL 159.581637 58.667355 \nL 163.040315 57.087489 \nL 166.498993 55.535661 \nL 169.95767 54.028171 \nL 173.416348 52.595005 \nL 176.875026 51.219958 \nL 180.333704 49.892054 \nL 183.792381 48.616755 \nL 187.251059 47.388552 \nL 190.709737 46.20269 \nL 194.168414 45.067819 \nL 197.627092 43.978664 \nL 201.08577 42.927384 \nL 204.544447 41.908372 \nL 208.003125 40.932699 \nL 211.461803 40.008873 \nL 214.92048 39.10206 \nL 218.379158 38.21782 \nL 221.837836 37.369744 \nL 225.296513 36.546047 \nL 228.755191 35.764406 \nL 232.213869 35.00225 \nL 235.672546 34.25991 \nL 239.131224 33.541854 \nL 242.589902 32.844897 \nL 246.04858 32.170229 \nL 249.507257 31.516707 \nL 252.965935 30.885569 \nL 256.424613 30.272488 \nL 259.88329 29.680365 \nL 263.341968 29.087577 \nL 266.800646 28.498448 \nL 270.259323 27.919393 \nL 273.718001 27.354928 \nL 277.176679 26.805765 \nL 280.635356 26.272806 \nL 284.094034 25.754532 \nL 287.552712 25.253509 \nL 291.011389 24.760612 \nL 294.470067 24.280355 \nL 297.928745 23.809556 \nL 301.387423 23.354581 \nL 304.8461 22.908397 \nL 308.304778 22.476613 \nL 311.763456 22.058991 \nL 315.222133 21.643364 \nL 318.680811 21.239951 \nL 322.139489 20.846707 \nL 325.598166 20.462064 \nL 329.056844 20.08897 \nL 332.515522 19.723526 \nL 335.974199 19.372434 \nL 339.432877 19.02695 \nL 342.891555 18.687786 \nL 346.350232 18.355798 \nL 349.80891 18.02476 \nL 353.267588 17.704938 \nL 356.726265 17.390913 \nL 360.184943 17.083636 \n\" style=\"fill:none;stroke:#0000ff;stroke-linecap:square;stroke-width:1.5;\"/>\n   </g>\n   <g id=\"patch_3\">\n    <path d=\"M 40.603125 224.64 \nL 40.603125 7.2 \n\" style=\"fill:none;stroke:#000000;stroke-linecap:square;stroke-linejoin:miter;stroke-width:0.8;\"/>\n   </g>\n   <g id=\"patch_4\">\n    <path d=\"M 375.403125 224.64 \nL 375.403125 7.2 \n\" style=\"fill:none;stroke:#000000;stroke-linecap:square;stroke-linejoin:miter;stroke-width:0.8;\"/>\n   </g>\n   <g id=\"patch_5\">\n    <path d=\"M 40.603125 224.64 \nL 375.403125 224.64 \n\" style=\"fill:none;stroke:#000000;stroke-linecap:square;stroke-linejoin:miter;stroke-width:0.8;\"/>\n   </g>\n   <g id=\"patch_6\">\n    <path d=\"M 40.603125 7.2 \nL 375.403125 7.2 \n\" style=\"fill:none;stroke:#000000;stroke-linecap:square;stroke-linejoin:miter;stroke-width:0.8;\"/>\n   </g>\n   <g id=\"legend_1\">\n    <g id=\"patch_7\">\n     <path d=\"M 47.603125 44.55625 \nL 105.04375 44.55625 \nQ 107.04375 44.55625 107.04375 42.55625 \nL 107.04375 14.2 \nQ 107.04375 12.2 105.04375 12.2 \nL 47.603125 12.2 \nQ 45.603125 12.2 45.603125 14.2 \nL 45.603125 42.55625 \nQ 45.603125 44.55625 47.603125 44.55625 \nz\n\" style=\"fill:#ffffff;opacity:0.8;stroke:#cccccc;stroke-linejoin:miter;\"/>\n    </g>\n    <g id=\"line2d_15\">\n     <path d=\"M 49.603125 20.298438 \nL 69.603125 20.298438 \n\" style=\"fill:none;stroke:#ff0000;stroke-linecap:square;stroke-width:1.5;\"/>\n    </g>\n    <g id=\"line2d_16\"/>\n    <g id=\"text_15\">\n     <!-- Train -->\n     <defs>\n      <path d=\"M -0.296875 72.90625 \nL 61.375 72.90625 \nL 61.375 64.59375 \nL 35.5 64.59375 \nL 35.5 0 \nL 25.59375 0 \nL 25.59375 64.59375 \nL -0.296875 64.59375 \nz\n\" id=\"DejaVuSans-84\"/>\n      <path d=\"M 9.421875 54.6875 \nL 18.40625 54.6875 \nL 18.40625 0 \nL 9.421875 0 \nz\nM 9.421875 75.984375 \nL 18.40625 75.984375 \nL 18.40625 64.59375 \nL 9.421875 64.59375 \nz\n\" id=\"DejaVuSans-105\"/>\n      <path d=\"M 54.890625 33.015625 \nL 54.890625 0 \nL 45.90625 0 \nL 45.90625 32.71875 \nQ 45.90625 40.484375 42.875 44.328125 \nQ 39.84375 48.1875 33.796875 48.1875 \nQ 26.515625 48.1875 22.3125 43.546875 \nQ 18.109375 38.921875 18.109375 30.90625 \nL 18.109375 0 \nL 9.078125 0 \nL 9.078125 54.6875 \nL 18.109375 54.6875 \nL 18.109375 46.1875 \nQ 21.34375 51.125 25.703125 53.5625 \nQ 30.078125 56 35.796875 56 \nQ 45.21875 56 50.046875 50.171875 \nQ 54.890625 44.34375 54.890625 33.015625 \nz\n\" id=\"DejaVuSans-110\"/>\n     </defs>\n     <g transform=\"translate(77.603125 23.798438)scale(0.1 -0.1)\">\n      <use xlink:href=\"#DejaVuSans-84\"/>\n      <use x=\"60.865234\" xlink:href=\"#DejaVuSans-114\"/>\n      <use x=\"101.978516\" xlink:href=\"#DejaVuSans-97\"/>\n      <use x=\"163.257812\" xlink:href=\"#DejaVuSans-105\"/>\n      <use x=\"191.041016\" xlink:href=\"#DejaVuSans-110\"/>\n     </g>\n    </g>\n    <g id=\"line2d_17\">\n     <path d=\"M 49.603125 34.976562 \nL 69.603125 34.976562 \n\" style=\"fill:none;stroke:#0000ff;stroke-linecap:square;stroke-width:1.5;\"/>\n    </g>\n    <g id=\"line2d_18\"/>\n    <g id=\"text_16\">\n     <!-- Val -->\n     <defs>\n      <path d=\"M 28.609375 0 \nL 0.78125 72.90625 \nL 11.078125 72.90625 \nL 34.1875 11.53125 \nL 57.328125 72.90625 \nL 67.578125 72.90625 \nL 39.796875 0 \nz\n\" id=\"DejaVuSans-86\"/>\n      <path d=\"M 9.421875 75.984375 \nL 18.40625 75.984375 \nL 18.40625 0 \nL 9.421875 0 \nz\n\" id=\"DejaVuSans-108\"/>\n     </defs>\n     <g transform=\"translate(77.603125 38.476562)scale(0.1 -0.1)\">\n      <use xlink:href=\"#DejaVuSans-86\"/>\n      <use x=\"68.298828\" xlink:href=\"#DejaVuSans-97\"/>\n      <use x=\"129.578125\" xlink:href=\"#DejaVuSans-108\"/>\n     </g>\n    </g>\n   </g>\n  </g>\n </g>\n <defs>\n  <clipPath id=\"p3e324240e9\">\n   <rect height=\"217.44\" width=\"334.8\" x=\"40.603125\" y=\"7.2\"/>\n  </clipPath>\n </defs>\n</svg>\n"
          },
          "metadata": {
            "tags": []
          }
        }
      ]
    },
    {
      "cell_type": "code",
      "metadata": {
        "id": "87N8H050W7yp",
        "colab_type": "code",
        "outputId": "613993c0-cbea-4983-c212-83bb2b34a3a6",
        "colab": {
          "base_uri": "https://localhost:8080/",
          "height": 371
        }
      },
      "source": [
        "plt.xlabel(\"Epochs\")\n",
        "plt.ylabel(\"Losses\")\n",
        "plt.plot(ep_lookahead_losses, 'r', label='Train')\n",
        "plt.plot(ep_lookahead_lossesv, 'b', label='Val')\n",
        "plt.legend()\n",
        "plt.savefig('radam_lookahead_resnet18_9314_loss.jpg')"
      ],
      "execution_count": 42,
      "outputs": [
        {
          "output_type": "display_data",
          "data": {
            "text/plain": [
              "<Figure size 432x288 with 1 Axes>"
            ],
            "image/svg+xml": "<?xml version=\"1.0\" encoding=\"utf-8\" standalone=\"no\"?>\n<!DOCTYPE svg PUBLIC \"-//W3C//DTD SVG 1.1//EN\"\n  \"http://www.w3.org/Graphics/SVG/1.1/DTD/svg11.dtd\">\n<!-- Created with matplotlib (https://matplotlib.org/) -->\n<svg height=\"262.19625pt\" version=\"1.1\" viewBox=\"0 0 385.78125 262.19625\" width=\"385.78125pt\" xmlns=\"http://www.w3.org/2000/svg\" xmlns:xlink=\"http://www.w3.org/1999/xlink\">\n <defs>\n  <style type=\"text/css\">\n*{stroke-linecap:butt;stroke-linejoin:round;}\n  </style>\n </defs>\n <g id=\"figure_1\">\n  <g id=\"patch_1\">\n   <path d=\"M 0 262.19625 \nL 385.78125 262.19625 \nL 385.78125 0 \nL 0 0 \nz\n\" style=\"fill:none;\"/>\n  </g>\n  <g id=\"axes_1\">\n   <g id=\"patch_2\">\n    <path d=\"M 43.78125 224.64 \nL 378.58125 224.64 \nL 378.58125 7.2 \nL 43.78125 7.2 \nz\n\" style=\"fill:#ffffff;\"/>\n   </g>\n   <g id=\"matplotlib.axis_1\">\n    <g id=\"xtick_1\">\n     <g id=\"line2d_1\">\n      <defs>\n       <path d=\"M 0 0 \nL 0 3.5 \n\" id=\"m1100fd3674\" style=\"stroke:#000000;stroke-width:0.8;\"/>\n      </defs>\n      <g>\n       <use style=\"stroke:#000000;stroke-width:0.8;\" x=\"58.999432\" xlink:href=\"#m1100fd3674\" y=\"224.64\"/>\n      </g>\n     </g>\n     <g id=\"text_1\">\n      <!-- 0 -->\n      <defs>\n       <path d=\"M 31.78125 66.40625 \nQ 24.171875 66.40625 20.328125 58.90625 \nQ 16.5 51.421875 16.5 36.375 \nQ 16.5 21.390625 20.328125 13.890625 \nQ 24.171875 6.390625 31.78125 6.390625 \nQ 39.453125 6.390625 43.28125 13.890625 \nQ 47.125 21.390625 47.125 36.375 \nQ 47.125 51.421875 43.28125 58.90625 \nQ 39.453125 66.40625 31.78125 66.40625 \nz\nM 31.78125 74.21875 \nQ 44.046875 74.21875 50.515625 64.515625 \nQ 56.984375 54.828125 56.984375 36.375 \nQ 56.984375 17.96875 50.515625 8.265625 \nQ 44.046875 -1.421875 31.78125 -1.421875 \nQ 19.53125 -1.421875 13.0625 8.265625 \nQ 6.59375 17.96875 6.59375 36.375 \nQ 6.59375 54.828125 13.0625 64.515625 \nQ 19.53125 74.21875 31.78125 74.21875 \nz\n\" id=\"DejaVuSans-48\"/>\n      </defs>\n      <g transform=\"translate(55.818182 239.238437)scale(0.1 -0.1)\">\n       <use xlink:href=\"#DejaVuSans-48\"/>\n      </g>\n     </g>\n    </g>\n    <g id=\"xtick_2\">\n     <g id=\"line2d_2\">\n      <g>\n       <use style=\"stroke:#000000;stroke-width:0.8;\" x=\"128.172986\" xlink:href=\"#m1100fd3674\" y=\"224.64\"/>\n      </g>\n     </g>\n     <g id=\"text_2\">\n      <!-- 20 -->\n      <defs>\n       <path d=\"M 19.1875 8.296875 \nL 53.609375 8.296875 \nL 53.609375 0 \nL 7.328125 0 \nL 7.328125 8.296875 \nQ 12.9375 14.109375 22.625 23.890625 \nQ 32.328125 33.6875 34.8125 36.53125 \nQ 39.546875 41.84375 41.421875 45.53125 \nQ 43.3125 49.21875 43.3125 52.78125 \nQ 43.3125 58.59375 39.234375 62.25 \nQ 35.15625 65.921875 28.609375 65.921875 \nQ 23.96875 65.921875 18.8125 64.3125 \nQ 13.671875 62.703125 7.8125 59.421875 \nL 7.8125 69.390625 \nQ 13.765625 71.78125 18.9375 73 \nQ 24.125 74.21875 28.421875 74.21875 \nQ 39.75 74.21875 46.484375 68.546875 \nQ 53.21875 62.890625 53.21875 53.421875 \nQ 53.21875 48.921875 51.53125 44.890625 \nQ 49.859375 40.875 45.40625 35.40625 \nQ 44.1875 33.984375 37.640625 27.21875 \nQ 31.109375 20.453125 19.1875 8.296875 \nz\n\" id=\"DejaVuSans-50\"/>\n      </defs>\n      <g transform=\"translate(121.810486 239.238437)scale(0.1 -0.1)\">\n       <use xlink:href=\"#DejaVuSans-50\"/>\n       <use x=\"63.623047\" xlink:href=\"#DejaVuSans-48\"/>\n      </g>\n     </g>\n    </g>\n    <g id=\"xtick_3\">\n     <g id=\"line2d_3\">\n      <g>\n       <use style=\"stroke:#000000;stroke-width:0.8;\" x=\"197.346539\" xlink:href=\"#m1100fd3674\" y=\"224.64\"/>\n      </g>\n     </g>\n     <g id=\"text_3\">\n      <!-- 40 -->\n      <defs>\n       <path d=\"M 37.796875 64.3125 \nL 12.890625 25.390625 \nL 37.796875 25.390625 \nz\nM 35.203125 72.90625 \nL 47.609375 72.90625 \nL 47.609375 25.390625 \nL 58.015625 25.390625 \nL 58.015625 17.1875 \nL 47.609375 17.1875 \nL 47.609375 0 \nL 37.796875 0 \nL 37.796875 17.1875 \nL 4.890625 17.1875 \nL 4.890625 26.703125 \nz\n\" id=\"DejaVuSans-52\"/>\n      </defs>\n      <g transform=\"translate(190.984039 239.238437)scale(0.1 -0.1)\">\n       <use xlink:href=\"#DejaVuSans-52\"/>\n       <use x=\"63.623047\" xlink:href=\"#DejaVuSans-48\"/>\n      </g>\n     </g>\n    </g>\n    <g id=\"xtick_4\">\n     <g id=\"line2d_4\">\n      <g>\n       <use style=\"stroke:#000000;stroke-width:0.8;\" x=\"266.520093\" xlink:href=\"#m1100fd3674\" y=\"224.64\"/>\n      </g>\n     </g>\n     <g id=\"text_4\">\n      <!-- 60 -->\n      <defs>\n       <path d=\"M 33.015625 40.375 \nQ 26.375 40.375 22.484375 35.828125 \nQ 18.609375 31.296875 18.609375 23.390625 \nQ 18.609375 15.53125 22.484375 10.953125 \nQ 26.375 6.390625 33.015625 6.390625 \nQ 39.65625 6.390625 43.53125 10.953125 \nQ 47.40625 15.53125 47.40625 23.390625 \nQ 47.40625 31.296875 43.53125 35.828125 \nQ 39.65625 40.375 33.015625 40.375 \nz\nM 52.59375 71.296875 \nL 52.59375 62.3125 \nQ 48.875 64.0625 45.09375 64.984375 \nQ 41.3125 65.921875 37.59375 65.921875 \nQ 27.828125 65.921875 22.671875 59.328125 \nQ 17.53125 52.734375 16.796875 39.40625 \nQ 19.671875 43.65625 24.015625 45.921875 \nQ 28.375 48.1875 33.59375 48.1875 \nQ 44.578125 48.1875 50.953125 41.515625 \nQ 57.328125 34.859375 57.328125 23.390625 \nQ 57.328125 12.15625 50.6875 5.359375 \nQ 44.046875 -1.421875 33.015625 -1.421875 \nQ 20.359375 -1.421875 13.671875 8.265625 \nQ 6.984375 17.96875 6.984375 36.375 \nQ 6.984375 53.65625 15.1875 63.9375 \nQ 23.390625 74.21875 37.203125 74.21875 \nQ 40.921875 74.21875 44.703125 73.484375 \nQ 48.484375 72.75 52.59375 71.296875 \nz\n\" id=\"DejaVuSans-54\"/>\n      </defs>\n      <g transform=\"translate(260.157593 239.238437)scale(0.1 -0.1)\">\n       <use xlink:href=\"#DejaVuSans-54\"/>\n       <use x=\"63.623047\" xlink:href=\"#DejaVuSans-48\"/>\n      </g>\n     </g>\n    </g>\n    <g id=\"xtick_5\">\n     <g id=\"line2d_5\">\n      <g>\n       <use style=\"stroke:#000000;stroke-width:0.8;\" x=\"335.693647\" xlink:href=\"#m1100fd3674\" y=\"224.64\"/>\n      </g>\n     </g>\n     <g id=\"text_5\">\n      <!-- 80 -->\n      <defs>\n       <path d=\"M 31.78125 34.625 \nQ 24.75 34.625 20.71875 30.859375 \nQ 16.703125 27.09375 16.703125 20.515625 \nQ 16.703125 13.921875 20.71875 10.15625 \nQ 24.75 6.390625 31.78125 6.390625 \nQ 38.8125 6.390625 42.859375 10.171875 \nQ 46.921875 13.96875 46.921875 20.515625 \nQ 46.921875 27.09375 42.890625 30.859375 \nQ 38.875 34.625 31.78125 34.625 \nz\nM 21.921875 38.8125 \nQ 15.578125 40.375 12.03125 44.71875 \nQ 8.5 49.078125 8.5 55.328125 \nQ 8.5 64.0625 14.71875 69.140625 \nQ 20.953125 74.21875 31.78125 74.21875 \nQ 42.671875 74.21875 48.875 69.140625 \nQ 55.078125 64.0625 55.078125 55.328125 \nQ 55.078125 49.078125 51.53125 44.71875 \nQ 48 40.375 41.703125 38.8125 \nQ 48.828125 37.15625 52.796875 32.3125 \nQ 56.78125 27.484375 56.78125 20.515625 \nQ 56.78125 9.90625 50.3125 4.234375 \nQ 43.84375 -1.421875 31.78125 -1.421875 \nQ 19.734375 -1.421875 13.25 4.234375 \nQ 6.78125 9.90625 6.78125 20.515625 \nQ 6.78125 27.484375 10.78125 32.3125 \nQ 14.796875 37.15625 21.921875 38.8125 \nz\nM 18.3125 54.390625 \nQ 18.3125 48.734375 21.84375 45.5625 \nQ 25.390625 42.390625 31.78125 42.390625 \nQ 38.140625 42.390625 41.71875 45.5625 \nQ 45.3125 48.734375 45.3125 54.390625 \nQ 45.3125 60.0625 41.71875 63.234375 \nQ 38.140625 66.40625 31.78125 66.40625 \nQ 25.390625 66.40625 21.84375 63.234375 \nQ 18.3125 60.0625 18.3125 54.390625 \nz\n\" id=\"DejaVuSans-56\"/>\n      </defs>\n      <g transform=\"translate(329.331147 239.238437)scale(0.1 -0.1)\">\n       <use xlink:href=\"#DejaVuSans-56\"/>\n       <use x=\"63.623047\" xlink:href=\"#DejaVuSans-48\"/>\n      </g>\n     </g>\n    </g>\n    <g id=\"text_6\">\n     <!-- Epochs -->\n     <defs>\n      <path d=\"M 9.8125 72.90625 \nL 55.90625 72.90625 \nL 55.90625 64.59375 \nL 19.671875 64.59375 \nL 19.671875 43.015625 \nL 54.390625 43.015625 \nL 54.390625 34.71875 \nL 19.671875 34.71875 \nL 19.671875 8.296875 \nL 56.78125 8.296875 \nL 56.78125 0 \nL 9.8125 0 \nz\n\" id=\"DejaVuSans-69\"/>\n      <path d=\"M 18.109375 8.203125 \nL 18.109375 -20.796875 \nL 9.078125 -20.796875 \nL 9.078125 54.6875 \nL 18.109375 54.6875 \nL 18.109375 46.390625 \nQ 20.953125 51.265625 25.265625 53.625 \nQ 29.59375 56 35.59375 56 \nQ 45.5625 56 51.78125 48.09375 \nQ 58.015625 40.1875 58.015625 27.296875 \nQ 58.015625 14.40625 51.78125 6.484375 \nQ 45.5625 -1.421875 35.59375 -1.421875 \nQ 29.59375 -1.421875 25.265625 0.953125 \nQ 20.953125 3.328125 18.109375 8.203125 \nz\nM 48.6875 27.296875 \nQ 48.6875 37.203125 44.609375 42.84375 \nQ 40.53125 48.484375 33.40625 48.484375 \nQ 26.265625 48.484375 22.1875 42.84375 \nQ 18.109375 37.203125 18.109375 27.296875 \nQ 18.109375 17.390625 22.1875 11.75 \nQ 26.265625 6.109375 33.40625 6.109375 \nQ 40.53125 6.109375 44.609375 11.75 \nQ 48.6875 17.390625 48.6875 27.296875 \nz\n\" id=\"DejaVuSans-112\"/>\n      <path d=\"M 30.609375 48.390625 \nQ 23.390625 48.390625 19.1875 42.75 \nQ 14.984375 37.109375 14.984375 27.296875 \nQ 14.984375 17.484375 19.15625 11.84375 \nQ 23.34375 6.203125 30.609375 6.203125 \nQ 37.796875 6.203125 41.984375 11.859375 \nQ 46.1875 17.53125 46.1875 27.296875 \nQ 46.1875 37.015625 41.984375 42.703125 \nQ 37.796875 48.390625 30.609375 48.390625 \nz\nM 30.609375 56 \nQ 42.328125 56 49.015625 48.375 \nQ 55.71875 40.765625 55.71875 27.296875 \nQ 55.71875 13.875 49.015625 6.21875 \nQ 42.328125 -1.421875 30.609375 -1.421875 \nQ 18.84375 -1.421875 12.171875 6.21875 \nQ 5.515625 13.875 5.515625 27.296875 \nQ 5.515625 40.765625 12.171875 48.375 \nQ 18.84375 56 30.609375 56 \nz\n\" id=\"DejaVuSans-111\"/>\n      <path d=\"M 48.78125 52.59375 \nL 48.78125 44.1875 \nQ 44.96875 46.296875 41.140625 47.34375 \nQ 37.3125 48.390625 33.40625 48.390625 \nQ 24.65625 48.390625 19.8125 42.84375 \nQ 14.984375 37.3125 14.984375 27.296875 \nQ 14.984375 17.28125 19.8125 11.734375 \nQ 24.65625 6.203125 33.40625 6.203125 \nQ 37.3125 6.203125 41.140625 7.25 \nQ 44.96875 8.296875 48.78125 10.40625 \nL 48.78125 2.09375 \nQ 45.015625 0.34375 40.984375 -0.53125 \nQ 36.96875 -1.421875 32.421875 -1.421875 \nQ 20.0625 -1.421875 12.78125 6.34375 \nQ 5.515625 14.109375 5.515625 27.296875 \nQ 5.515625 40.671875 12.859375 48.328125 \nQ 20.21875 56 33.015625 56 \nQ 37.15625 56 41.109375 55.140625 \nQ 45.0625 54.296875 48.78125 52.59375 \nz\n\" id=\"DejaVuSans-99\"/>\n      <path d=\"M 54.890625 33.015625 \nL 54.890625 0 \nL 45.90625 0 \nL 45.90625 32.71875 \nQ 45.90625 40.484375 42.875 44.328125 \nQ 39.84375 48.1875 33.796875 48.1875 \nQ 26.515625 48.1875 22.3125 43.546875 \nQ 18.109375 38.921875 18.109375 30.90625 \nL 18.109375 0 \nL 9.078125 0 \nL 9.078125 75.984375 \nL 18.109375 75.984375 \nL 18.109375 46.1875 \nQ 21.34375 51.125 25.703125 53.5625 \nQ 30.078125 56 35.796875 56 \nQ 45.21875 56 50.046875 50.171875 \nQ 54.890625 44.34375 54.890625 33.015625 \nz\n\" id=\"DejaVuSans-104\"/>\n      <path d=\"M 44.28125 53.078125 \nL 44.28125 44.578125 \nQ 40.484375 46.53125 36.375 47.5 \nQ 32.28125 48.484375 27.875 48.484375 \nQ 21.1875 48.484375 17.84375 46.4375 \nQ 14.5 44.390625 14.5 40.28125 \nQ 14.5 37.15625 16.890625 35.375 \nQ 19.28125 33.59375 26.515625 31.984375 \nL 29.59375 31.296875 \nQ 39.15625 29.25 43.1875 25.515625 \nQ 47.21875 21.78125 47.21875 15.09375 \nQ 47.21875 7.46875 41.1875 3.015625 \nQ 35.15625 -1.421875 24.609375 -1.421875 \nQ 20.21875 -1.421875 15.453125 -0.5625 \nQ 10.6875 0.296875 5.421875 2 \nL 5.421875 11.28125 \nQ 10.40625 8.6875 15.234375 7.390625 \nQ 20.0625 6.109375 24.8125 6.109375 \nQ 31.15625 6.109375 34.5625 8.28125 \nQ 37.984375 10.453125 37.984375 14.40625 \nQ 37.984375 18.0625 35.515625 20.015625 \nQ 33.0625 21.96875 24.703125 23.78125 \nL 21.578125 24.515625 \nQ 13.234375 26.265625 9.515625 29.90625 \nQ 5.8125 33.546875 5.8125 39.890625 \nQ 5.8125 47.609375 11.28125 51.796875 \nQ 16.75 56 26.8125 56 \nQ 31.78125 56 36.171875 55.265625 \nQ 40.578125 54.546875 44.28125 53.078125 \nz\n\" id=\"DejaVuSans-115\"/>\n     </defs>\n     <g transform=\"translate(193.265625 252.916562)scale(0.1 -0.1)\">\n      <use xlink:href=\"#DejaVuSans-69\"/>\n      <use x=\"63.183594\" xlink:href=\"#DejaVuSans-112\"/>\n      <use x=\"126.660156\" xlink:href=\"#DejaVuSans-111\"/>\n      <use x=\"187.841797\" xlink:href=\"#DejaVuSans-99\"/>\n      <use x=\"242.822266\" xlink:href=\"#DejaVuSans-104\"/>\n      <use x=\"306.201172\" xlink:href=\"#DejaVuSans-115\"/>\n     </g>\n    </g>\n   </g>\n   <g id=\"matplotlib.axis_2\">\n    <g id=\"ytick_1\">\n     <g id=\"line2d_6\">\n      <defs>\n       <path d=\"M 0 0 \nL -3.5 0 \n\" id=\"m2bd16769cd\" style=\"stroke:#000000;stroke-width:0.8;\"/>\n      </defs>\n      <g>\n       <use style=\"stroke:#000000;stroke-width:0.8;\" x=\"43.78125\" xlink:href=\"#m2bd16769cd\" y=\"215.406093\"/>\n      </g>\n     </g>\n     <g id=\"text_7\">\n      <!-- 0.0 -->\n      <defs>\n       <path d=\"M 10.6875 12.40625 \nL 21 12.40625 \nL 21 0 \nL 10.6875 0 \nz\n\" id=\"DejaVuSans-46\"/>\n      </defs>\n      <g transform=\"translate(20.878125 219.205312)scale(0.1 -0.1)\">\n       <use xlink:href=\"#DejaVuSans-48\"/>\n       <use x=\"63.623047\" xlink:href=\"#DejaVuSans-46\"/>\n       <use x=\"95.410156\" xlink:href=\"#DejaVuSans-48\"/>\n      </g>\n     </g>\n    </g>\n    <g id=\"ytick_2\">\n     <g id=\"line2d_7\">\n      <g>\n       <use style=\"stroke:#000000;stroke-width:0.8;\" x=\"43.78125\" xlink:href=\"#m2bd16769cd\" y=\"189.889934\"/>\n      </g>\n     </g>\n     <g id=\"text_8\">\n      <!-- 0.1 -->\n      <defs>\n       <path d=\"M 12.40625 8.296875 \nL 28.515625 8.296875 \nL 28.515625 63.921875 \nL 10.984375 60.40625 \nL 10.984375 69.390625 \nL 28.421875 72.90625 \nL 38.28125 72.90625 \nL 38.28125 8.296875 \nL 54.390625 8.296875 \nL 54.390625 0 \nL 12.40625 0 \nz\n\" id=\"DejaVuSans-49\"/>\n      </defs>\n      <g transform=\"translate(20.878125 193.689153)scale(0.1 -0.1)\">\n       <use xlink:href=\"#DejaVuSans-48\"/>\n       <use x=\"63.623047\" xlink:href=\"#DejaVuSans-46\"/>\n       <use x=\"95.410156\" xlink:href=\"#DejaVuSans-49\"/>\n      </g>\n     </g>\n    </g>\n    <g id=\"ytick_3\">\n     <g id=\"line2d_8\">\n      <g>\n       <use style=\"stroke:#000000;stroke-width:0.8;\" x=\"43.78125\" xlink:href=\"#m2bd16769cd\" y=\"164.373775\"/>\n      </g>\n     </g>\n     <g id=\"text_9\">\n      <!-- 0.2 -->\n      <g transform=\"translate(20.878125 168.172994)scale(0.1 -0.1)\">\n       <use xlink:href=\"#DejaVuSans-48\"/>\n       <use x=\"63.623047\" xlink:href=\"#DejaVuSans-46\"/>\n       <use x=\"95.410156\" xlink:href=\"#DejaVuSans-50\"/>\n      </g>\n     </g>\n    </g>\n    <g id=\"ytick_4\">\n     <g id=\"line2d_9\">\n      <g>\n       <use style=\"stroke:#000000;stroke-width:0.8;\" x=\"43.78125\" xlink:href=\"#m2bd16769cd\" y=\"138.857616\"/>\n      </g>\n     </g>\n     <g id=\"text_10\">\n      <!-- 0.3 -->\n      <defs>\n       <path d=\"M 40.578125 39.3125 \nQ 47.65625 37.796875 51.625 33 \nQ 55.609375 28.21875 55.609375 21.1875 \nQ 55.609375 10.40625 48.1875 4.484375 \nQ 40.765625 -1.421875 27.09375 -1.421875 \nQ 22.515625 -1.421875 17.65625 -0.515625 \nQ 12.796875 0.390625 7.625 2.203125 \nL 7.625 11.71875 \nQ 11.71875 9.328125 16.59375 8.109375 \nQ 21.484375 6.890625 26.8125 6.890625 \nQ 36.078125 6.890625 40.9375 10.546875 \nQ 45.796875 14.203125 45.796875 21.1875 \nQ 45.796875 27.640625 41.28125 31.265625 \nQ 36.765625 34.90625 28.71875 34.90625 \nL 20.21875 34.90625 \nL 20.21875 43.015625 \nL 29.109375 43.015625 \nQ 36.375 43.015625 40.234375 45.921875 \nQ 44.09375 48.828125 44.09375 54.296875 \nQ 44.09375 59.90625 40.109375 62.90625 \nQ 36.140625 65.921875 28.71875 65.921875 \nQ 24.65625 65.921875 20.015625 65.03125 \nQ 15.375 64.15625 9.8125 62.3125 \nL 9.8125 71.09375 \nQ 15.4375 72.65625 20.34375 73.4375 \nQ 25.25 74.21875 29.59375 74.21875 \nQ 40.828125 74.21875 47.359375 69.109375 \nQ 53.90625 64.015625 53.90625 55.328125 \nQ 53.90625 49.265625 50.4375 45.09375 \nQ 46.96875 40.921875 40.578125 39.3125 \nz\n\" id=\"DejaVuSans-51\"/>\n      </defs>\n      <g transform=\"translate(20.878125 142.656835)scale(0.1 -0.1)\">\n       <use xlink:href=\"#DejaVuSans-48\"/>\n       <use x=\"63.623047\" xlink:href=\"#DejaVuSans-46\"/>\n       <use x=\"95.410156\" xlink:href=\"#DejaVuSans-51\"/>\n      </g>\n     </g>\n    </g>\n    <g id=\"ytick_5\">\n     <g id=\"line2d_10\">\n      <g>\n       <use style=\"stroke:#000000;stroke-width:0.8;\" x=\"43.78125\" xlink:href=\"#m2bd16769cd\" y=\"113.341458\"/>\n      </g>\n     </g>\n     <g id=\"text_11\">\n      <!-- 0.4 -->\n      <g transform=\"translate(20.878125 117.140676)scale(0.1 -0.1)\">\n       <use xlink:href=\"#DejaVuSans-48\"/>\n       <use x=\"63.623047\" xlink:href=\"#DejaVuSans-46\"/>\n       <use x=\"95.410156\" xlink:href=\"#DejaVuSans-52\"/>\n      </g>\n     </g>\n    </g>\n    <g id=\"ytick_6\">\n     <g id=\"line2d_11\">\n      <g>\n       <use style=\"stroke:#000000;stroke-width:0.8;\" x=\"43.78125\" xlink:href=\"#m2bd16769cd\" y=\"87.825299\"/>\n      </g>\n     </g>\n     <g id=\"text_12\">\n      <!-- 0.5 -->\n      <defs>\n       <path d=\"M 10.796875 72.90625 \nL 49.515625 72.90625 \nL 49.515625 64.59375 \nL 19.828125 64.59375 \nL 19.828125 46.734375 \nQ 21.96875 47.46875 24.109375 47.828125 \nQ 26.265625 48.1875 28.421875 48.1875 \nQ 40.625 48.1875 47.75 41.5 \nQ 54.890625 34.8125 54.890625 23.390625 \nQ 54.890625 11.625 47.5625 5.09375 \nQ 40.234375 -1.421875 26.90625 -1.421875 \nQ 22.3125 -1.421875 17.546875 -0.640625 \nQ 12.796875 0.140625 7.71875 1.703125 \nL 7.71875 11.625 \nQ 12.109375 9.234375 16.796875 8.0625 \nQ 21.484375 6.890625 26.703125 6.890625 \nQ 35.15625 6.890625 40.078125 11.328125 \nQ 45.015625 15.765625 45.015625 23.390625 \nQ 45.015625 31 40.078125 35.4375 \nQ 35.15625 39.890625 26.703125 39.890625 \nQ 22.75 39.890625 18.8125 39.015625 \nQ 14.890625 38.140625 10.796875 36.28125 \nz\n\" id=\"DejaVuSans-53\"/>\n      </defs>\n      <g transform=\"translate(20.878125 91.624517)scale(0.1 -0.1)\">\n       <use xlink:href=\"#DejaVuSans-48\"/>\n       <use x=\"63.623047\" xlink:href=\"#DejaVuSans-46\"/>\n       <use x=\"95.410156\" xlink:href=\"#DejaVuSans-53\"/>\n      </g>\n     </g>\n    </g>\n    <g id=\"ytick_7\">\n     <g id=\"line2d_12\">\n      <g>\n       <use style=\"stroke:#000000;stroke-width:0.8;\" x=\"43.78125\" xlink:href=\"#m2bd16769cd\" y=\"62.30914\"/>\n      </g>\n     </g>\n     <g id=\"text_13\">\n      <!-- 0.6 -->\n      <g transform=\"translate(20.878125 66.108359)scale(0.1 -0.1)\">\n       <use xlink:href=\"#DejaVuSans-48\"/>\n       <use x=\"63.623047\" xlink:href=\"#DejaVuSans-46\"/>\n       <use x=\"95.410156\" xlink:href=\"#DejaVuSans-54\"/>\n      </g>\n     </g>\n    </g>\n    <g id=\"ytick_8\">\n     <g id=\"line2d_13\">\n      <g>\n       <use style=\"stroke:#000000;stroke-width:0.8;\" x=\"43.78125\" xlink:href=\"#m2bd16769cd\" y=\"36.792981\"/>\n      </g>\n     </g>\n     <g id=\"text_14\">\n      <!-- 0.7 -->\n      <defs>\n       <path d=\"M 8.203125 72.90625 \nL 55.078125 72.90625 \nL 55.078125 68.703125 \nL 28.609375 0 \nL 18.3125 0 \nL 43.21875 64.59375 \nL 8.203125 64.59375 \nz\n\" id=\"DejaVuSans-55\"/>\n      </defs>\n      <g transform=\"translate(20.878125 40.5922)scale(0.1 -0.1)\">\n       <use xlink:href=\"#DejaVuSans-48\"/>\n       <use x=\"63.623047\" xlink:href=\"#DejaVuSans-46\"/>\n       <use x=\"95.410156\" xlink:href=\"#DejaVuSans-55\"/>\n      </g>\n     </g>\n    </g>\n    <g id=\"ytick_9\">\n     <g id=\"line2d_14\">\n      <g>\n       <use style=\"stroke:#000000;stroke-width:0.8;\" x=\"43.78125\" xlink:href=\"#m2bd16769cd\" y=\"11.276822\"/>\n      </g>\n     </g>\n     <g id=\"text_15\">\n      <!-- 0.8 -->\n      <g transform=\"translate(20.878125 15.076041)scale(0.1 -0.1)\">\n       <use xlink:href=\"#DejaVuSans-48\"/>\n       <use x=\"63.623047\" xlink:href=\"#DejaVuSans-46\"/>\n       <use x=\"95.410156\" xlink:href=\"#DejaVuSans-56\"/>\n      </g>\n     </g>\n    </g>\n    <g id=\"text_16\">\n     <!-- Losses -->\n     <defs>\n      <path d=\"M 9.8125 72.90625 \nL 19.671875 72.90625 \nL 19.671875 8.296875 \nL 55.171875 8.296875 \nL 55.171875 0 \nL 9.8125 0 \nz\n\" id=\"DejaVuSans-76\"/>\n      <path d=\"M 56.203125 29.59375 \nL 56.203125 25.203125 \nL 14.890625 25.203125 \nQ 15.484375 15.921875 20.484375 11.0625 \nQ 25.484375 6.203125 34.421875 6.203125 \nQ 39.59375 6.203125 44.453125 7.46875 \nQ 49.3125 8.734375 54.109375 11.28125 \nL 54.109375 2.78125 \nQ 49.265625 0.734375 44.1875 -0.34375 \nQ 39.109375 -1.421875 33.890625 -1.421875 \nQ 20.796875 -1.421875 13.15625 6.1875 \nQ 5.515625 13.8125 5.515625 26.8125 \nQ 5.515625 40.234375 12.765625 48.109375 \nQ 20.015625 56 32.328125 56 \nQ 43.359375 56 49.78125 48.890625 \nQ 56.203125 41.796875 56.203125 29.59375 \nz\nM 47.21875 32.234375 \nQ 47.125 39.59375 43.09375 43.984375 \nQ 39.0625 48.390625 32.421875 48.390625 \nQ 24.90625 48.390625 20.390625 44.140625 \nQ 15.875 39.890625 15.1875 32.171875 \nz\n\" id=\"DejaVuSans-101\"/>\n     </defs>\n     <g transform=\"translate(14.798438 132.655156)rotate(-90)scale(0.1 -0.1)\">\n      <use xlink:href=\"#DejaVuSans-76\"/>\n      <use x=\"55.697266\" xlink:href=\"#DejaVuSans-111\"/>\n      <use x=\"116.878906\" xlink:href=\"#DejaVuSans-115\"/>\n      <use x=\"168.978516\" xlink:href=\"#DejaVuSans-115\"/>\n      <use x=\"221.078125\" xlink:href=\"#DejaVuSans-101\"/>\n      <use x=\"282.601562\" xlink:href=\"#DejaVuSans-115\"/>\n     </g>\n    </g>\n   </g>\n   <g id=\"line2d_15\">\n    <path clip-path=\"url(#p9e33d38d14)\" d=\"M 58.999432 17.083636 \nL 62.45811 57.040253 \nL 65.916787 71.400857 \nL 69.375465 82.183056 \nL 72.834143 79.74052 \nL 76.29282 119.333486 \nL 79.751498 68.666601 \nL 83.210176 111.252753 \nL 86.668853 89.208054 \nL 90.127531 135.622744 \nL 93.586209 108.654342 \nL 97.044886 119.40258 \nL 100.503564 156.29957 \nL 103.962242 160.174765 \nL 107.420919 142.580815 \nL 110.879597 147.008094 \nL 114.338275 131.771355 \nL 117.796952 124.73473 \nL 121.25563 134.050616 \nL 124.714308 159.640848 \nL 128.172986 157.247581 \nL 131.631663 171.88861 \nL 135.090341 155.889289 \nL 138.549019 158.257637 \nL 142.007696 145.124109 \nL 145.466374 155.923201 \nL 148.925052 147.259184 \nL 152.383729 186.895863 \nL 155.842407 153.060598 \nL 159.301085 159.636205 \nL 162.759762 170.994218 \nL 166.21844 188.158746 \nL 169.677118 193.265481 \nL 173.135795 197.541647 \nL 176.594473 183.14954 \nL 180.053151 188.270995 \nL 183.511829 198.742044 \nL 186.970506 207.380742 \nL 190.429184 206.319028 \nL 193.887862 202.84114 \nL 197.346539 200.696534 \nL 200.805217 211.776554 \nL 204.263895 199.727828 \nL 207.722572 188.17879 \nL 211.18125 211.887588 \nL 214.639928 196.038514 \nL 218.098605 197.759897 \nL 221.557283 205.374842 \nL 225.015961 198.885357 \nL 228.474638 189.948541 \nL 231.933316 199.100638 \nL 235.391994 188.815887 \nL 238.850671 210.708399 \nL 242.309349 206.43868 \nL 245.768027 203.785163 \nL 249.226705 195.860692 \nL 252.685382 204.850783 \nL 256.14406 197.852931 \nL 259.602738 212.766113 \nL 263.061415 210.526252 \nL 266.520093 213.13933 \nL 269.978771 209.812159 \nL 273.437448 210.074393 \nL 276.896126 214.261457 \nL 280.354804 213.072569 \nL 283.813481 212.575487 \nL 287.272159 213.05192 \nL 290.730837 205.347334 \nL 294.189514 212.664453 \nL 297.648192 210.167702 \nL 301.10687 213.131761 \nL 304.565548 210.321313 \nL 308.024225 213.276626 \nL 311.482903 212.490276 \nL 314.941581 213.708075 \nL 318.400258 207.978489 \nL 321.858936 214.607228 \nL 325.317614 214.756364 \nL 328.776291 212.538932 \nL 332.234969 205.332191 \nL 335.693647 211.292264 \nL 339.152324 201.947024 \nL 342.611002 212.795359 \nL 346.06968 210.334477 \nL 349.528357 212.552184 \nL 352.987035 214.280501 \nL 356.445713 214.262357 \nL 359.90439 207.433638 \nL 363.363068 211.092433 \n\" style=\"fill:none;stroke:#ff0000;stroke-linecap:square;stroke-width:1.5;\"/>\n   </g>\n   <g id=\"line2d_16\">\n    <path clip-path=\"url(#p9e33d38d14)\" d=\"M 58.999432 71.101898 \nL 62.45811 63.745394 \nL 65.916787 91.841141 \nL 69.375465 90.702982 \nL 72.834143 44.852212 \nL 76.29282 103.905884 \nL 79.751498 77.667589 \nL 83.210176 95.678196 \nL 86.668853 131.20034 \nL 90.127531 117.95524 \nL 93.586209 110.686674 \nL 97.044886 110.626439 \nL 100.503564 117.879371 \nL 103.962242 105.832704 \nL 107.420919 120.944761 \nL 110.879597 102.95677 \nL 114.338275 119.958911 \nL 117.796952 113.183672 \nL 121.25563 132.432588 \nL 124.714308 127.26153 \nL 128.172986 122.522136 \nL 131.631663 98.117127 \nL 135.090341 92.369389 \nL 138.549019 123.44138 \nL 142.007696 119.214546 \nL 145.466374 134.92926 \nL 148.925052 149.046235 \nL 152.383729 144.008482 \nL 155.842407 130.162878 \nL 159.301085 138.84934 \nL 162.759762 141.116008 \nL 166.21844 128.067407 \nL 169.677118 143.241608 \nL 173.135795 144.132487 \nL 176.594473 136.904984 \nL 180.053151 133.213835 \nL 183.511829 139.401366 \nL 186.970506 140.048053 \nL 190.429184 145.262692 \nL 193.887862 136.64635 \nL 197.346539 130.960071 \nL 200.805217 142.133805 \nL 204.263895 132.960281 \nL 207.722572 140.682717 \nL 211.18125 136.142619 \nL 214.639928 135.645245 \nL 218.098605 121.612398 \nL 221.557283 136.676578 \nL 225.015961 136.349718 \nL 228.474638 139.79164 \nL 231.933316 114.189279 \nL 235.391994 120.309063 \nL 238.850671 133.369406 \nL 242.309349 134.25808 \nL 245.768027 145.784818 \nL 249.226705 147.517163 \nL 252.685382 133.853601 \nL 256.14406 114.864193 \nL 259.602738 107.361448 \nL 263.061415 124.380965 \nL 266.520093 126.170989 \nL 269.978771 129.371533 \nL 273.437448 132.579612 \nL 276.896126 123.515576 \nL 280.354804 121.670435 \nL 283.813481 122.410557 \nL 287.272159 120.17518 \nL 290.730837 126.104938 \nL 294.189514 121.599318 \nL 297.648192 121.519609 \nL 301.10687 118.859838 \nL 304.565548 120.236266 \nL 308.024225 116.85943 \nL 311.482903 114.031077 \nL 314.941581 113.455864 \nL 318.400258 117.451813 \nL 321.858936 120.829228 \nL 325.317614 118.868629 \nL 328.776291 118.209174 \nL 332.234969 124.835587 \nL 335.693647 113.01912 \nL 339.152324 121.864902 \nL 342.611002 121.912384 \nL 346.06968 115.523708 \nL 349.528357 119.323395 \nL 352.987035 118.06612 \nL 356.445713 112.366054 \nL 359.90439 120.517325 \nL 363.363068 125.570256 \n\" style=\"fill:none;stroke:#0000ff;stroke-linecap:square;stroke-width:1.5;\"/>\n   </g>\n   <g id=\"patch_3\">\n    <path d=\"M 43.78125 224.64 \nL 43.78125 7.2 \n\" style=\"fill:none;stroke:#000000;stroke-linecap:square;stroke-linejoin:miter;stroke-width:0.8;\"/>\n   </g>\n   <g id=\"patch_4\">\n    <path d=\"M 378.58125 224.64 \nL 378.58125 7.2 \n\" style=\"fill:none;stroke:#000000;stroke-linecap:square;stroke-linejoin:miter;stroke-width:0.8;\"/>\n   </g>\n   <g id=\"patch_5\">\n    <path d=\"M 43.78125 224.64 \nL 378.58125 224.64 \n\" style=\"fill:none;stroke:#000000;stroke-linecap:square;stroke-linejoin:miter;stroke-width:0.8;\"/>\n   </g>\n   <g id=\"patch_6\">\n    <path d=\"M 43.78125 7.2 \nL 378.58125 7.2 \n\" style=\"fill:none;stroke:#000000;stroke-linecap:square;stroke-linejoin:miter;stroke-width:0.8;\"/>\n   </g>\n   <g id=\"legend_1\">\n    <g id=\"patch_7\">\n     <path d=\"M 314.140625 44.55625 \nL 371.58125 44.55625 \nQ 373.58125 44.55625 373.58125 42.55625 \nL 373.58125 14.2 \nQ 373.58125 12.2 371.58125 12.2 \nL 314.140625 12.2 \nQ 312.140625 12.2 312.140625 14.2 \nL 312.140625 42.55625 \nQ 312.140625 44.55625 314.140625 44.55625 \nz\n\" style=\"fill:#ffffff;opacity:0.8;stroke:#cccccc;stroke-linejoin:miter;\"/>\n    </g>\n    <g id=\"line2d_17\">\n     <path d=\"M 316.140625 20.298437 \nL 336.140625 20.298437 \n\" style=\"fill:none;stroke:#ff0000;stroke-linecap:square;stroke-width:1.5;\"/>\n    </g>\n    <g id=\"line2d_18\"/>\n    <g id=\"text_17\">\n     <!-- Train -->\n     <defs>\n      <path d=\"M -0.296875 72.90625 \nL 61.375 72.90625 \nL 61.375 64.59375 \nL 35.5 64.59375 \nL 35.5 0 \nL 25.59375 0 \nL 25.59375 64.59375 \nL -0.296875 64.59375 \nz\n\" id=\"DejaVuSans-84\"/>\n      <path d=\"M 41.109375 46.296875 \nQ 39.59375 47.171875 37.8125 47.578125 \nQ 36.03125 48 33.890625 48 \nQ 26.265625 48 22.1875 43.046875 \nQ 18.109375 38.09375 18.109375 28.8125 \nL 18.109375 0 \nL 9.078125 0 \nL 9.078125 54.6875 \nL 18.109375 54.6875 \nL 18.109375 46.1875 \nQ 20.953125 51.171875 25.484375 53.578125 \nQ 30.03125 56 36.53125 56 \nQ 37.453125 56 38.578125 55.875 \nQ 39.703125 55.765625 41.0625 55.515625 \nz\n\" id=\"DejaVuSans-114\"/>\n      <path d=\"M 34.28125 27.484375 \nQ 23.390625 27.484375 19.1875 25 \nQ 14.984375 22.515625 14.984375 16.5 \nQ 14.984375 11.71875 18.140625 8.90625 \nQ 21.296875 6.109375 26.703125 6.109375 \nQ 34.1875 6.109375 38.703125 11.40625 \nQ 43.21875 16.703125 43.21875 25.484375 \nL 43.21875 27.484375 \nz\nM 52.203125 31.203125 \nL 52.203125 0 \nL 43.21875 0 \nL 43.21875 8.296875 \nQ 40.140625 3.328125 35.546875 0.953125 \nQ 30.953125 -1.421875 24.3125 -1.421875 \nQ 15.921875 -1.421875 10.953125 3.296875 \nQ 6 8.015625 6 15.921875 \nQ 6 25.140625 12.171875 29.828125 \nQ 18.359375 34.515625 30.609375 34.515625 \nL 43.21875 34.515625 \nL 43.21875 35.40625 \nQ 43.21875 41.609375 39.140625 45 \nQ 35.0625 48.390625 27.6875 48.390625 \nQ 23 48.390625 18.546875 47.265625 \nQ 14.109375 46.140625 10.015625 43.890625 \nL 10.015625 52.203125 \nQ 14.9375 54.109375 19.578125 55.046875 \nQ 24.21875 56 28.609375 56 \nQ 40.484375 56 46.34375 49.84375 \nQ 52.203125 43.703125 52.203125 31.203125 \nz\n\" id=\"DejaVuSans-97\"/>\n      <path d=\"M 9.421875 54.6875 \nL 18.40625 54.6875 \nL 18.40625 0 \nL 9.421875 0 \nz\nM 9.421875 75.984375 \nL 18.40625 75.984375 \nL 18.40625 64.59375 \nL 9.421875 64.59375 \nz\n\" id=\"DejaVuSans-105\"/>\n      <path d=\"M 54.890625 33.015625 \nL 54.890625 0 \nL 45.90625 0 \nL 45.90625 32.71875 \nQ 45.90625 40.484375 42.875 44.328125 \nQ 39.84375 48.1875 33.796875 48.1875 \nQ 26.515625 48.1875 22.3125 43.546875 \nQ 18.109375 38.921875 18.109375 30.90625 \nL 18.109375 0 \nL 9.078125 0 \nL 9.078125 54.6875 \nL 18.109375 54.6875 \nL 18.109375 46.1875 \nQ 21.34375 51.125 25.703125 53.5625 \nQ 30.078125 56 35.796875 56 \nQ 45.21875 56 50.046875 50.171875 \nQ 54.890625 44.34375 54.890625 33.015625 \nz\n\" id=\"DejaVuSans-110\"/>\n     </defs>\n     <g transform=\"translate(344.140625 23.798437)scale(0.1 -0.1)\">\n      <use xlink:href=\"#DejaVuSans-84\"/>\n      <use x=\"60.865234\" xlink:href=\"#DejaVuSans-114\"/>\n      <use x=\"101.978516\" xlink:href=\"#DejaVuSans-97\"/>\n      <use x=\"163.257812\" xlink:href=\"#DejaVuSans-105\"/>\n      <use x=\"191.041016\" xlink:href=\"#DejaVuSans-110\"/>\n     </g>\n    </g>\n    <g id=\"line2d_19\">\n     <path d=\"M 316.140625 34.976562 \nL 336.140625 34.976562 \n\" style=\"fill:none;stroke:#0000ff;stroke-linecap:square;stroke-width:1.5;\"/>\n    </g>\n    <g id=\"line2d_20\"/>\n    <g id=\"text_18\">\n     <!-- Val -->\n     <defs>\n      <path d=\"M 28.609375 0 \nL 0.78125 72.90625 \nL 11.078125 72.90625 \nL 34.1875 11.53125 \nL 57.328125 72.90625 \nL 67.578125 72.90625 \nL 39.796875 0 \nz\n\" id=\"DejaVuSans-86\"/>\n      <path d=\"M 9.421875 75.984375 \nL 18.40625 75.984375 \nL 18.40625 0 \nL 9.421875 0 \nz\n\" id=\"DejaVuSans-108\"/>\n     </defs>\n     <g transform=\"translate(344.140625 38.476562)scale(0.1 -0.1)\">\n      <use xlink:href=\"#DejaVuSans-86\"/>\n      <use x=\"68.298828\" xlink:href=\"#DejaVuSans-97\"/>\n      <use x=\"129.578125\" xlink:href=\"#DejaVuSans-108\"/>\n     </g>\n    </g>\n   </g>\n  </g>\n </g>\n <defs>\n  <clipPath id=\"p9e33d38d14\">\n   <rect height=\"217.44\" width=\"334.8\" x=\"43.78125\" y=\"7.2\"/>\n  </clipPath>\n </defs>\n</svg>\n"
          },
          "metadata": {
            "tags": []
          }
        }
      ]
    },
    {
      "cell_type": "code",
      "metadata": {
        "id": "SV5OcSRgXEBs",
        "colab_type": "code",
        "colab": {}
      },
      "source": [
        "from google.colab import files\n",
        "files.download('./radam_lookahead_resnet18_9314.pth.tar')\n",
        "files.download('./radam_lookahead_resnet18_9314_acc.jpg')\n",
        "files.download('./radam_lookahead_resnet18_9314_loss.jpg')"
      ],
      "execution_count": 0,
      "outputs": []
    },
    {
      "cell_type": "code",
      "metadata": {
        "id": "um6lklwAFTUo",
        "colab_type": "code",
        "colab": {}
      },
      "source": [
        ""
      ],
      "execution_count": 0,
      "outputs": []
    }
  ]
}